{
 "cells": [
  {
   "cell_type": "code",
   "execution_count": 13,
   "metadata": {},
   "outputs": [],
   "source": [
    "using Eirene\n",
    "using DelimitedFiles\n",
    "using PlotlyJS"
   ]
  },
  {
   "cell_type": "code",
   "execution_count": 2,
   "metadata": {},
   "outputs": [
    {
     "data": {
      "text/plain": [
       "2×6 Matrix{Float64}:\n",
       " 0.0  0.0  1.0  1.0  2.0  4.0\n",
       " 0.0  1.0  0.0  1.0  1.0  1.0"
      ]
     },
     "execution_count": 2,
     "metadata": {},
     "output_type": "execute_result"
    }
   ],
   "source": [
    "filepath = \"data.csv\"\n",
    "POINTCLOUD = readdlm(filepath, ',')"
   ]
  },
  {
   "cell_type": "code",
   "execution_count": 3,
   "metadata": {},
   "outputs": [
    {
     "data": {
      "application/vnd.plotly.v1+json": {
       "data": [
        {
         "autocolorscale": false,
         "marker": {
          "color": "rgb[250,250,250]",
          "line": {
           "color": "rgb[250,250,250]"
          },
          "opacity": 1,
          "size": 5,
          "symbol": "circle-open"
         },
         "mode": "markers",
         "type": "scatter",
         "x": [
          0,
          0,
          1,
          1,
          2,
          4
         ],
         "y": [
          0,
          1,
          0,
          1,
          1,
          1
         ]
        }
       ],
       "frames": [],
       "layout": {
        "height": 800,
        "hovermode": "closest",
        "margin": {
         "b": 50,
         "l": 50,
         "r": 50,
         "t": 50
        },
        "scene": {
         "aspectmode": "manual",
         "aspectratio": {
          "x": 1,
          "y": 0.25
         }
        },
        "showlegend": false,
        "width": 1000
       }
      },
      "application/vnd.webio.node+json": {
       "children": [
        {
         "children": [],
         "instanceArgs": {
          "namespace": "html",
          "tag": "div"
         },
         "nodeType": "DOM",
         "props": {
          "id": "plot-c6dcad69-f52f-435a-a336-fc74228e2e2c"
         },
         "type": "node"
        }
       ],
       "instanceArgs": {
        "handlers": {
         "__get_gd_contents": [
          "(function (prop){prop==\"data\" ? (WebIO.setval({\"name\":\"__gd_contents\",\"scope\":\"5944845714259002428\",\"id\":\"10178136162980288335\",\"type\":\"observable\"},this.plotElem.data)) : undefined; return prop==\"layout\" ? (WebIO.setval({\"name\":\"__gd_contents\",\"scope\":\"5944845714259002428\",\"id\":\"10178136162980288335\",\"type\":\"observable\"},this.plotElem.layout)) : undefined})"
         ],
         "_commands": [
          "(function (args){var fn=args.shift(); var elem=this.plotElem; var Plotly=this.Plotly; args.unshift(elem); return Plotly[fn].apply(this,args)})"
         ],
         "_downloadImage": [
          "(function (options){return this.Plotly.downloadImage(this.plotElem,options)})"
         ],
         "_toImage": [
          "(function (options){return this.Plotly.toImage(this.plotElem,options).then((function (data){return WebIO.setval({\"name\":\"image\",\"scope\":\"5944845714259002428\",\"id\":\"263160445665099493\",\"type\":\"observable\"},data)}))})"
         ]
        },
        "id": "5944845714259002428",
        "imports": {
         "data": [
          {
           "name": "Plotly",
           "type": "js",
           "url": "/assetserver/0011d14de576c55f77111628d5a39fcc5762f320-plotly.min.js"
          },
          {
           "name": null,
           "type": "js",
           "url": "/assetserver/52365f0a3f606733873c2a55bbe1584aba3b706c-plotly_webio.bundle.js"
          }
         ],
         "type": "async_block"
        },
        "mount_callbacks": [
         "function () {\n    var handler = ((function (Plotly,PlotlyWebIO){PlotlyWebIO.init(WebIO); var gd=this.dom.querySelector(\"#plot-c6dcad69-f52f-435a-a336-fc74228e2e2c\"); this.plotElem=gd; this.Plotly=Plotly; (window.Blink!==undefined) ? (gd.style.width=\"100%\", gd.style.height=\"100vh\", gd.style.marginLeft=\"0%\", gd.style.marginTop=\"0vh\") : undefined; window.onresize=(function (){return Plotly.Plots.resize(gd)}); Plotly.newPlot(gd,[{\"marker\":{\"symbol\":\"circle-open\",\"color\":\"rgb[250,250,250]\",\"line\":{\"color\":\"rgb[250,250,250]\"},\"opacity\":1,\"size\":5},\"mode\":\"markers\",\"y\":[0.0,1.0,0.0,1.0,1.0,1.0],\"type\":\"scatter\",\"autocolorscale\":false,\"x\":[0.0,0.0,1.0,1.0,2.0,4.0]}],{\"showlegend\":false,\"hovermode\":\"closest\",\"height\":800,\"margin\":{\"l\":50,\"b\":50,\"r\":50,\"t\":50},\"scene\":{\"aspectratio\":{\"y\":0.25,\"x\":1.0},\"aspectmode\":\"manual\"},\"width\":1000},{}); gd.on(\"plotly_hover\",(function (data){var filtered_data=WebIO.PlotlyCommands.filterEventData(gd,data,\"hover\"); return !(filtered_data.isnil) ? (WebIO.setval({\"name\":\"hover\",\"scope\":\"5944845714259002428\",\"id\":\"15351484750858026373\",\"type\":\"observable\"},filtered_data.out)) : undefined})); gd.on(\"plotly_unhover\",(function (){return WebIO.setval({\"name\":\"hover\",\"scope\":\"5944845714259002428\",\"id\":\"15351484750858026373\",\"type\":\"observable\"},{})})); gd.on(\"plotly_selected\",(function (data){var filtered_data=WebIO.PlotlyCommands.filterEventData(gd,data,\"selected\"); return !(filtered_data.isnil) ? (WebIO.setval({\"name\":\"selected\",\"scope\":\"5944845714259002428\",\"id\":\"15718048520986612054\",\"type\":\"observable\"},filtered_data.out)) : undefined})); gd.on(\"plotly_deselect\",(function (){return WebIO.setval({\"name\":\"selected\",\"scope\":\"5944845714259002428\",\"id\":\"15718048520986612054\",\"type\":\"observable\"},{})})); gd.on(\"plotly_relayout\",(function (data){var filtered_data=WebIO.PlotlyCommands.filterEventData(gd,data,\"relayout\"); return !(filtered_data.isnil) ? (WebIO.setval({\"name\":\"relayout\",\"scope\":\"5944845714259002428\",\"id\":\"748118992274788258\",\"type\":\"observable\"},filtered_data.out)) : undefined})); return gd.on(\"plotly_click\",(function (data){var filtered_data=WebIO.PlotlyCommands.filterEventData(gd,data,\"click\"); return !(filtered_data.isnil) ? (WebIO.setval({\"name\":\"click\",\"scope\":\"5944845714259002428\",\"id\":\"4686659935752426803\",\"type\":\"observable\"},filtered_data.out)) : undefined}))}));\n    (WebIO.importBlock({\"data\":[{\"name\":\"Plotly\",\"type\":\"js\",\"url\":\"/assetserver/0011d14de576c55f77111628d5a39fcc5762f320-plotly.min.js\"},{\"name\":null,\"type\":\"js\",\"url\":\"/assetserver/52365f0a3f606733873c2a55bbe1584aba3b706c-plotly_webio.bundle.js\"}],\"type\":\"async_block\"})).then((imports) => handler.apply(this, imports));\n}\n"
        ],
        "observables": {
         "__gd_contents": {
          "id": "10178136162980288335",
          "sync": false,
          "value": {}
         },
         "__get_gd_contents": {
          "id": "11659552067896038296",
          "sync": false,
          "value": ""
         },
         "_commands": {
          "id": "15451585504970896027",
          "sync": false,
          "value": []
         },
         "_downloadImage": {
          "id": "13014616793035679084",
          "sync": false,
          "value": {}
         },
         "_toImage": {
          "id": "17774200076941690706",
          "sync": false,
          "value": {}
         },
         "click": {
          "id": "4686659935752426803",
          "sync": false,
          "value": {}
         },
         "hover": {
          "id": "15351484750858026373",
          "sync": false,
          "value": {}
         },
         "image": {
          "id": "263160445665099493",
          "sync": true,
          "value": ""
         },
         "relayout": {
          "id": "748118992274788258",
          "sync": false,
          "value": {}
         },
         "selected": {
          "id": "15718048520986612054",
          "sync": false,
          "value": {}
         }
        },
        "systemjs_options": null
       },
       "nodeType": "Scope",
       "props": {},
       "type": "node"
      },
      "image/png": "[encoded data removed]",
      "image/svg+xml": [
       "<svg class=\"main-svg\" xmlns=\"http://www.w3.org/2000/svg\" xmlns:xlink=\"http://www.w3.org/1999/xlink\" width=\"700\" height=\"500\" style=\"\" viewBox=\"0 0 700 500\"><rect x=\"0\" y=\"0\" width=\"700\" height=\"500\" style=\"fill: rgb(255, 255, 255); fill-opacity: 1;\"/><defs id=\"defs-bd34c6\"><g class=\"clips\"><clipPath id=\"clipbd34c6xyplot\" class=\"plotclip\"><rect width=\"600\" height=\"400\"/></clipPath><clipPath class=\"axesclip\" id=\"clipbd34c6x\"><rect x=\"50\" y=\"0\" width=\"600\" height=\"500\"/></clipPath><clipPath class=\"axesclip\" id=\"clipbd34c6y\"><rect x=\"0\" y=\"50\" width=\"700\" height=\"400\"/></clipPath><clipPath class=\"axesclip\" id=\"clipbd34c6xy\"><rect x=\"50\" y=\"50\" width=\"600\" height=\"400\"/></clipPath></g><g class=\"gradients\"/></defs><g class=\"bglayer\"/><g class=\"layer-below\"><g class=\"imagelayer\"/><g class=\"shapelayer\"/></g><g class=\"cartesianlayer\"><g class=\"subplot xy\"><g class=\"layer-subplot\"><g class=\"shapelayer\"/><g class=\"imagelayer\"/></g><g class=\"gridlayer\"><g class=\"x\"><path class=\"xgrid crisp\" transform=\"translate(216.56,0)\" d=\"M0,50v400\" style=\"stroke: rgb(238, 238, 238); stroke-opacity: 1; stroke-width: 1px;\"/><path class=\"xgrid crisp\" transform=\"translate(350,0)\" d=\"M0,50v400\" style=\"stroke: rgb(238, 238, 238); stroke-opacity: 1; stroke-width: 1px;\"/><path class=\"xgrid crisp\" transform=\"translate(483.44,0)\" d=\"M0,50v400\" style=\"stroke: rgb(238, 238, 238); stroke-opacity: 1; stroke-width: 1px;\"/><path class=\"xgrid crisp\" transform=\"translate(616.88,0)\" d=\"M0,50v400\" style=\"stroke: rgb(238, 238, 238); stroke-opacity: 1; stroke-width: 1px;\"/></g><g class=\"y\"><path class=\"ygrid crisp\" transform=\"translate(0,356.13)\" d=\"M50,0h600\" style=\"stroke: rgb(238, 238, 238); stroke-opacity: 1; stroke-width: 1px;\"/><path class=\"ygrid crisp\" transform=\"translate(0,285.38)\" d=\"M50,0h600\" style=\"stroke: rgb(238, 238, 238); stroke-opacity: 1; stroke-width: 1px;\"/><path class=\"ygrid crisp\" transform=\"translate(0,214.63)\" d=\"M50,0h600\" style=\"stroke: rgb(238, 238, 238); stroke-opacity: 1; stroke-width: 1px;\"/><path class=\"ygrid crisp\" transform=\"translate(0,143.88)\" d=\"M50,0h600\" style=\"stroke: rgb(238, 238, 238); stroke-opacity: 1; stroke-width: 1px;\"/><path class=\"ygrid crisp\" transform=\"translate(0,73.13)\" d=\"M50,0h600\" style=\"stroke: rgb(238, 238, 238); stroke-opacity: 1; stroke-width: 1px;\"/></g></g><g class=\"zerolinelayer\"><path class=\"xzl zl crisp\" transform=\"translate(83.13,0)\" d=\"M0,50v400\" style=\"stroke: rgb(68, 68, 68); stroke-opacity: 1; stroke-width: 1px;\"/><path class=\"yzl zl crisp\" transform=\"translate(0,426.88)\" d=\"M50,0h600\" style=\"stroke: rgb(68, 68, 68); stroke-opacity: 1; stroke-width: 1px;\"/></g><path class=\"xlines-below\"/><path class=\"ylines-below\"/><g class=\"overlines-below\"/><g class=\"xaxislayer-below\"/><g class=\"yaxislayer-below\"/><g class=\"overaxes-below\"/><g class=\"plot\" transform=\"translate(50,50)\" clip-path=\"url('#clipbd34c6xyplot')\"><g class=\"scatterlayer mlayer\"><g class=\"trace scatter trace39514f\" style=\"stroke-miterlimit: 2; opacity: 1;\"><g class=\"fills\"/><g class=\"errorbars\"/><g class=\"lines\"/><g class=\"points\"><path class=\"point\" transform=\"translate(33.13,376.88)\" d=\"M2.5,0A2.5,2.5 0 1,1 0,-2.5A2.5,2.5 0 0,1 2.5,0Z\" style=\"opacity: 1; stroke: rgb(31, 119, 180); stroke-opacity: 1; stroke-width: 1px; fill: none;\"/><path class=\"point\" transform=\"translate(33.13,23.13)\" d=\"M2.5,0A2.5,2.5 0 1,1 0,-2.5A2.5,2.5 0 0,1 2.5,0Z\" style=\"opacity: 1; stroke: rgb(31, 119, 180); stroke-opacity: 1; stroke-width: 1px; fill: none;\"/><path class=\"point\" transform=\"translate(166.56,376.88)\" d=\"M2.5,0A2.5,2.5 0 1,1 0,-2.5A2.5,2.5 0 0,1 2.5,0Z\" style=\"opacity: 1; stroke: rgb(31, 119, 180); stroke-opacity: 1; stroke-width: 1px; fill: none;\"/><path class=\"point\" transform=\"translate(166.56,23.13)\" d=\"M2.5,0A2.5,2.5 0 1,1 0,-2.5A2.5,2.5 0 0,1 2.5,0Z\" style=\"opacity: 1; stroke: rgb(31, 119, 180); stroke-opacity: 1; stroke-width: 1px; fill: none;\"/><path class=\"point\" transform=\"translate(300,23.13)\" d=\"M2.5,0A2.5,2.5 0 1,1 0,-2.5A2.5,2.5 0 0,1 2.5,0Z\" style=\"opacity: 1; stroke: rgb(31, 119, 180); stroke-opacity: 1; stroke-width: 1px; fill: none;\"/><path class=\"point\" transform=\"translate(566.88,23.13)\" d=\"M2.5,0A2.5,2.5 0 1,1 0,-2.5A2.5,2.5 0 0,1 2.5,0Z\" style=\"opacity: 1; stroke: rgb(31, 119, 180); stroke-opacity: 1; stroke-width: 1px; fill: none;\"/></g><g class=\"text\"/></g></g></g><g class=\"overplot\"/><path class=\"xlines-above crisp\" d=\"M0,0\" style=\"fill: none;\"/><path class=\"ylines-above crisp\" d=\"M0,0\" style=\"fill: none;\"/><g class=\"overlines-above\"/><g class=\"xaxislayer-above\"><g class=\"xtick\"><text text-anchor=\"middle\" x=\"0\" y=\"463\" transform=\"translate(83.13,0)\" style=\"font-family: 'Open Sans', verdana, arial, sans-serif; font-size: 12px; fill: rgb(68, 68, 68); fill-opacity: 1; white-space: pre;\">0</text></g><g class=\"xtick\"><text text-anchor=\"middle\" x=\"0\" y=\"463\" transform=\"translate(216.56,0)\" style=\"font-family: 'Open Sans', verdana, arial, sans-serif; font-size: 12px; fill: rgb(68, 68, 68); fill-opacity: 1; white-space: pre;\">1</text></g><g class=\"xtick\"><text text-anchor=\"middle\" x=\"0\" y=\"463\" transform=\"translate(350,0)\" style=\"font-family: 'Open Sans', verdana, arial, sans-serif; font-size: 12px; fill: rgb(68, 68, 68); fill-opacity: 1; white-space: pre;\">2</text></g><g class=\"xtick\"><text text-anchor=\"middle\" x=\"0\" y=\"463\" transform=\"translate(483.44,0)\" style=\"font-family: 'Open Sans', verdana, arial, sans-serif; font-size: 12px; fill: rgb(68, 68, 68); fill-opacity: 1; white-space: pre;\">3</text></g><g class=\"xtick\"><text text-anchor=\"middle\" x=\"0\" y=\"463\" transform=\"translate(616.88,0)\" style=\"font-family: 'Open Sans', verdana, arial, sans-serif; font-size: 12px; fill: rgb(68, 68, 68); fill-opacity: 1; white-space: pre;\">4</text></g></g><g class=\"yaxislayer-above\"><g class=\"ytick\"><text text-anchor=\"end\" x=\"49\" y=\"4.199999999999999\" transform=\"translate(0,426.88)\" style=\"font-family: 'Open Sans', verdana, arial, sans-serif; font-size: 12px; fill: rgb(68, 68, 68); fill-opacity: 1; white-space: pre;\">0</text></g><g class=\"ytick\"><text text-anchor=\"end\" x=\"49\" y=\"4.199999999999999\" transform=\"translate(0,356.13)\" style=\"font-family: 'Open Sans', verdana, arial, sans-serif; font-size: 12px; fill: rgb(68, 68, 68); fill-opacity: 1; white-space: pre;\">0.2</text></g><g class=\"ytick\"><text text-anchor=\"end\" x=\"49\" y=\"4.199999999999999\" transform=\"translate(0,285.38)\" style=\"font-family: 'Open Sans', verdana, arial, sans-serif; font-size: 12px; fill: rgb(68, 68, 68); fill-opacity: 1; white-space: pre;\">0.4</text></g><g class=\"ytick\"><text text-anchor=\"end\" x=\"49\" y=\"4.199999999999999\" transform=\"translate(0,214.63)\" style=\"font-family: 'Open Sans', verdana, arial, sans-serif; font-size: 12px; fill: rgb(68, 68, 68); fill-opacity: 1; white-space: pre;\">0.6</text></g><g class=\"ytick\"><text text-anchor=\"end\" x=\"49\" y=\"4.199999999999999\" transform=\"translate(0,143.88)\" style=\"font-family: 'Open Sans', verdana, arial, sans-serif; font-size: 12px; fill: rgb(68, 68, 68); fill-opacity: 1; white-space: pre;\">0.8</text></g><g class=\"ytick\"><text text-anchor=\"end\" x=\"49\" y=\"4.199999999999999\" transform=\"translate(0,73.13)\" style=\"font-family: 'Open Sans', verdana, arial, sans-serif; font-size: 12px; fill: rgb(68, 68, 68); fill-opacity: 1; white-space: pre;\">1</text></g></g><g class=\"overaxes-above\"/></g></g><g class=\"polarlayer\"/><g class=\"ternarylayer\"/><g class=\"geolayer\"/><g class=\"funnelarealayer\"/><g class=\"pielayer\"/><g class=\"treemaplayer\"/><g class=\"sunburstlayer\"/><g class=\"glimages\"/><defs id=\"topdefs-bd34c6\"><g class=\"clips\"/></defs><g class=\"layer-above\"><g class=\"imagelayer\"/><g class=\"shapelayer\"/></g><g class=\"infolayer\"><g class=\"g-gtitle\"/><g class=\"g-xtitle\"/><g class=\"g-ytitle\"/></g></svg>"
      ],
      "text/html": [
       "<div\n",
       "    class=\"webio-mountpoint\"\n",
       "    data-webio-mountpoint=\"11413691695109150826\"\n",
       ">\n",
       "    <script>\n",
       "    (function(){\n",
       "    // Some integrations (namely, IJulia/Jupyter) use an alternate render pathway than\n",
       "    // just putting the html on the page. If WebIO isn't defined, then it's pretty likely\n",
       "    // that we're in one of those situations and the integration just isn't installed\n",
       "    // correctly.\n",
       "    if (typeof window.WebIO === \"undefined\") {\n",
       "        document\n",
       "            .querySelector('[data-webio-mountpoint=\"11413691695109150826\"]')\n",
       "            .innerHTML = (\n",
       "                '<div style=\"padding: 1em; background-color: #f8d6da; border: 1px solid #f5c6cb; font-weight: bold;\">' +\n",
       "                '<p><strong>WebIO not detected.</strong></p>' +\n",
       "                '<p>Please read ' +\n",
       "                '<a href=\"https://juliagizmos.github.io/WebIO.jl/latest/troubleshooting/not-detected/\" target=\"_blank\">the troubleshooting guide</a> ' +\n",
       "                'for more information on how to resolve this issue.</p>' +\n",
       "                '<p><a href=\"https://juliagizmos.github.io/WebIO.jl/latest/troubleshooting/not-detected/\" target=\"_blank\">https://juliagizmos.github.io/WebIO.jl/latest/troubleshooting/not-detected/</a></p>' +\n",
       "                '</div>'\n",
       "            );\n",
       "        return;\n",
       "    }\n",
       "    WebIO.mount(\n",
       "        document.querySelector('[data-webio-mountpoint=\"11413691695109150826\"]'),\n",
       "        {\"props\":{},\"nodeType\":\"Scope\",\"type\":\"node\",\"instanceArgs\":{\"imports\":{\"data\":[{\"name\":\"Plotly\",\"type\":\"js\",\"url\":\"\\/assetserver\\/0011d14de576c55f77111628d5a39fcc5762f320-plotly.min.js\"},{\"name\":null,\"type\":\"js\",\"url\":\"\\/assetserver\\/52365f0a3f606733873c2a55bbe1584aba3b706c-plotly_webio.bundle.js\"}],\"type\":\"async_block\"},\"id\":\"5944845714259002428\",\"handlers\":{\"_toImage\":[\"(function (options){return this.Plotly.toImage(this.plotElem,options).then((function (data){return WebIO.setval({\\\"name\\\":\\\"image\\\",\\\"scope\\\":\\\"5944845714259002428\\\",\\\"id\\\":\\\"263160445665099493\\\",\\\"type\\\":\\\"observable\\\"},data)}))})\"],\"__get_gd_contents\":[\"(function (prop){prop==\\\"data\\\" ? (WebIO.setval({\\\"name\\\":\\\"__gd_contents\\\",\\\"scope\\\":\\\"5944845714259002428\\\",\\\"id\\\":\\\"10178136162980288335\\\",\\\"type\\\":\\\"observable\\\"},this.plotElem.data)) : undefined; return prop==\\\"layout\\\" ? (WebIO.setval({\\\"name\\\":\\\"__gd_contents\\\",\\\"scope\\\":\\\"5944845714259002428\\\",\\\"id\\\":\\\"10178136162980288335\\\",\\\"type\\\":\\\"observable\\\"},this.plotElem.layout)) : undefined})\"],\"_downloadImage\":[\"(function (options){return this.Plotly.downloadImage(this.plotElem,options)})\"],\"_commands\":[\"(function (args){var fn=args.shift(); var elem=this.plotElem; var Plotly=this.Plotly; args.unshift(elem); return Plotly[fn].apply(this,args)})\"]},\"systemjs_options\":null,\"mount_callbacks\":[\"function () {\\n    var handler = ((function (Plotly,PlotlyWebIO){PlotlyWebIO.init(WebIO); var gd=this.dom.querySelector(\\\"#plot-c6dcad69-f52f-435a-a336-fc74228e2e2c\\\"); this.plotElem=gd; this.Plotly=Plotly; (window.Blink!==undefined) ? (gd.style.width=\\\"100%\\\", gd.style.height=\\\"100vh\\\", gd.style.marginLeft=\\\"0%\\\", gd.style.marginTop=\\\"0vh\\\") : undefined; window.onresize=(function (){return Plotly.Plots.resize(gd)}); Plotly.newPlot(gd,[{\\\"marker\\\":{\\\"symbol\\\":\\\"circle-open\\\",\\\"color\\\":\\\"rgb[250,250,250]\\\",\\\"line\\\":{\\\"color\\\":\\\"rgb[250,250,250]\\\"},\\\"opacity\\\":1,\\\"size\\\":5},\\\"mode\\\":\\\"markers\\\",\\\"y\\\":[0.0,1.0,0.0,1.0,1.0,1.0],\\\"type\\\":\\\"scatter\\\",\\\"autocolorscale\\\":false,\\\"x\\\":[0.0,0.0,1.0,1.0,2.0,4.0]}],{\\\"showlegend\\\":false,\\\"hovermode\\\":\\\"closest\\\",\\\"height\\\":800,\\\"margin\\\":{\\\"l\\\":50,\\\"b\\\":50,\\\"r\\\":50,\\\"t\\\":50},\\\"scene\\\":{\\\"aspectratio\\\":{\\\"y\\\":0.25,\\\"x\\\":1.0},\\\"aspectmode\\\":\\\"manual\\\"},\\\"width\\\":1000},{}); gd.on(\\\"plotly_hover\\\",(function (data){var filtered_data=WebIO.PlotlyCommands.filterEventData(gd,data,\\\"hover\\\"); return !(filtered_data.isnil) ? (WebIO.setval({\\\"name\\\":\\\"hover\\\",\\\"scope\\\":\\\"5944845714259002428\\\",\\\"id\\\":\\\"15351484750858026373\\\",\\\"type\\\":\\\"observable\\\"},filtered_data.out)) : undefined})); gd.on(\\\"plotly_unhover\\\",(function (){return WebIO.setval({\\\"name\\\":\\\"hover\\\",\\\"scope\\\":\\\"5944845714259002428\\\",\\\"id\\\":\\\"15351484750858026373\\\",\\\"type\\\":\\\"observable\\\"},{})})); gd.on(\\\"plotly_selected\\\",(function (data){var filtered_data=WebIO.PlotlyCommands.filterEventData(gd,data,\\\"selected\\\"); return !(filtered_data.isnil) ? (WebIO.setval({\\\"name\\\":\\\"selected\\\",\\\"scope\\\":\\\"5944845714259002428\\\",\\\"id\\\":\\\"15718048520986612054\\\",\\\"type\\\":\\\"observable\\\"},filtered_data.out)) : undefined})); gd.on(\\\"plotly_deselect\\\",(function (){return WebIO.setval({\\\"name\\\":\\\"selected\\\",\\\"scope\\\":\\\"5944845714259002428\\\",\\\"id\\\":\\\"15718048520986612054\\\",\\\"type\\\":\\\"observable\\\"},{})})); gd.on(\\\"plotly_relayout\\\",(function (data){var filtered_data=WebIO.PlotlyCommands.filterEventData(gd,data,\\\"relayout\\\"); return !(filtered_data.isnil) ? (WebIO.setval({\\\"name\\\":\\\"relayout\\\",\\\"scope\\\":\\\"5944845714259002428\\\",\\\"id\\\":\\\"748118992274788258\\\",\\\"type\\\":\\\"observable\\\"},filtered_data.out)) : undefined})); return gd.on(\\\"plotly_click\\\",(function (data){var filtered_data=WebIO.PlotlyCommands.filterEventData(gd,data,\\\"click\\\"); return !(filtered_data.isnil) ? (WebIO.setval({\\\"name\\\":\\\"click\\\",\\\"scope\\\":\\\"5944845714259002428\\\",\\\"id\\\":\\\"4686659935752426803\\\",\\\"type\\\":\\\"observable\\\"},filtered_data.out)) : undefined}))}));\\n    (WebIO.importBlock({\\\"data\\\":[{\\\"name\\\":\\\"Plotly\\\",\\\"type\\\":\\\"js\\\",\\\"url\\\":\\\"\\/assetserver\\/0011d14de576c55f77111628d5a39fcc5762f320-plotly.min.js\\\"},{\\\"name\\\":null,\\\"type\\\":\\\"js\\\",\\\"url\\\":\\\"\\/assetserver\\/52365f0a3f606733873c2a55bbe1584aba3b706c-plotly_webio.bundle.js\\\"}],\\\"type\\\":\\\"async_block\\\"})).then((imports) => handler.apply(this, imports));\\n}\\n\"],\"observables\":{\"_toImage\":{\"sync\":false,\"id\":\"17774200076941690706\",\"value\":{}},\"hover\":{\"sync\":false,\"id\":\"15351484750858026373\",\"value\":{}},\"selected\":{\"sync\":false,\"id\":\"15718048520986612054\",\"value\":{}},\"__gd_contents\":{\"sync\":false,\"id\":\"10178136162980288335\",\"value\":{}},\"click\":{\"sync\":false,\"id\":\"4686659935752426803\",\"value\":{}},\"image\":{\"sync\":true,\"id\":\"263160445665099493\",\"value\":\"\"},\"__get_gd_contents\":{\"sync\":false,\"id\":\"11659552067896038296\",\"value\":\"\"},\"_downloadImage\":{\"sync\":false,\"id\":\"13014616793035679084\",\"value\":{}},\"relayout\":{\"sync\":false,\"id\":\"748118992274788258\",\"value\":{}},\"_commands\":{\"sync\":false,\"id\":\"15451585504970896027\",\"value\":[]}}},\"children\":[{\"props\":{\"id\":\"plot-c6dcad69-f52f-435a-a336-fc74228e2e2c\"},\"nodeType\":\"DOM\",\"type\":\"node\",\"instanceArgs\":{\"namespace\":\"html\",\"tag\":\"div\"},\"children\":[]}]},\n",
       "        window,\n",
       "    );\n",
       "    })()\n",
       "    </script>\n",
       "</div>\n"
      ],
      "text/plain": [
       "data: [\n",
       "  \"scatter with fields autocolorscale, marker, mode, type, x, and y\"\n",
       "]\n",
       "\n",
       "layout: \"layout with fields height, hovermode, margin, scene, showlegend, and width\"\n",
       "\n"
      ]
     },
     "execution_count": 3,
     "metadata": {},
     "output_type": "execute_result"
    }
   ],
   "source": [
    "ezplot_pjs(POINTCLOUD)"
   ]
  },
  {
   "cell_type": "code",
   "execution_count": 14,
   "metadata": {},
   "outputs": [
    {
     "data": {
      "text/plain": [
       "2"
      ]
     },
     "execution_count": 14,
     "metadata": {},
     "output_type": "execute_result"
    }
   ],
   "source": [
    "n = size(POINTCLOUD,1)"
   ]
  },
  {
   "cell_type": "code",
   "execution_count": 10,
   "metadata": {},
   "outputs": [
    {
     "data": {
      "text/plain": [
       "Dict{String, Any} with 12 entries:\n",
       "  \"symmat\"   => [5 4 … 4 0; 4 5 … 3 0; … ; 4 3 … 5 2; 0 0 … 2 5]\n",
       "  \"maxnz\"    => [0, 15, 9, 5, 0]\n",
       "  \"firstv\"   => [[1, 2, 3, 4, 5, 6, 7], [1, 5, 8, 10, 11, 12, 12], [1, 7, 10, 1…\n",
       "  \"cyclerep\" => [Vector{Int64}[], [[1, 5], [1, 3], [1, 2], [1, 6], [4, 1], [4]]…\n",
       "  \"phi\"      => [Int64[], [4, 2, 1, 11, 6], [1, 3, 5, 6, 2, 4], [1, 2, 3, 4], I…\n",
       "  \"plo\"      => [Int64[], [5, 3, 2, 6, 1], [5, 7, 9, 10, 3, 8], [8, 9, 7, 10], …\n",
       "  \"ocg2rad\"  => [2.23607, 2.0, 1.41421, 1.0, 0.0]\n",
       "  \"farfaces\" => [[1, 2, 3, 4, 5, 6], [2, 3, 4, 5, 3, 4, 5, 4, 5, 5, 6], [5, 6, …\n",
       "  \"nvl2ovl\"  => [4, 3, 2, 1, 5, 6]\n",
       "  \"input\"    => Dict{String, Any}(\"genera\"=>[0.0 0.0 … 2.0 4.0; 0.0 1.0 … 1.0 1…\n",
       "  \"tid\"      => [Int64[], [5, 3, 2, 6, 1, 4], [5, 7, 9, 10, 3, 8], [8, 9, 7, 10…\n",
       "  \"grain\"    => [[5, 5, 5, 5, 5, 5], [4, 4, 3, 4, 3, 4, 3, 4, 2, 1, 2], [3, 3, …"
      ]
     },
     "execution_count": 10,
     "metadata": {},
     "output_type": "execute_result"
    }
   ],
   "source": [
    "PH = eirene(POINTCLOUD, maxdim=2, model=\"pc\") # computes the PH of POINTCLOUD. \n",
    "# Eirene generally uses Vietoris–Rips filtration\n",
    "# maxdim - we don't c"
   ]
  },
  {
   "cell_type": "code",
   "execution_count": 8,
   "metadata": {},
   "outputs": [
    {
     "data": {
      "text/plain": [
       "Dict{String, Any} with 12 entries:\n",
       "  \"symmat\"   => [907 700 … 207 314; 700 907 … 310 54; … ; 207 310 … 907 43; 314…\n",
       "  \"maxnz\"    => [0, 419, 4167, 1, 0]\n",
       "  \"firstv\"   => [[1, 2, 3, 4, 5, 6, 7, 8, 9, 10  …  42, 43, 44, 45, 46, 47, 48,…\n",
       "  \"cyclerep\" => [Vector{Int64}[], [[1, 6], [9, 16], [13, 18], [10, 5], [43, 45]…\n",
       "  \"phi\"      => [Int64[], [5, 345, 474, 184, 896, 537, 779, 383, 265, 819  …  5…\n",
       "  \"plo\"      => [Int64[], [6, 16, 18, 5, 45, 28, 27, 20, 7, 41  …  36, 49, 3, 4…\n",
       "  \"ocg2rad\"  => [0.808856, 0.807473, 0.806587, 0.806294, 0.80616, 0.805261, 0.8…\n",
       "  \"farfaces\" => [[1, 2, 3, 4, 5, 6, 7, 8, 9, 10  …  41, 42, 43, 44, 45, 46, 47,…\n",
       "  \"nvl2ovl\"  => [27, 6, 8, 44, 14, 30, 31, 15, 26, 34  …  37, 17, 45, 38, 43, 2…\n",
       "  \"input\"    => Dict{String, Any}(\"genera\"=>[0.963809 0.712479 … 0.890015 0.810…\n",
       "  \"tid\"      => [Int64[], [6, 16, 18, 5, 45, 28, 27, 20, 7, 41  …  49, 3, 4, 30…\n",
       "  \"grain\"    => [[907, 907, 907, 907, 907, 907, 907, 907, 907, 907  …  907, 907…"
      ]
     },
     "execution_count": 8,
     "metadata": {},
     "output_type": "execute_result"
    }
   ],
   "source": [
    "x = rand(3,50)\n",
    "C = eirene(x, model = \"pc\")"
   ]
  },
  {
   "cell_type": "code",
   "execution_count": 6,
   "metadata": {},
   "outputs": [
    {
     "data": {
      "application/vnd.plotly.v1+json": {
       "data": [
        {
         "line": {
          "color": "#66BAE7",
          "width": 2
         },
         "mode": "lines",
         "showlegend": false,
         "type": "scatter",
         "x": [
          0.28317875057192565,
          0.30551063581269144
         ],
         "y": [
          229,
          229
         ]
        },
        {
         "line": {
          "color": "#66BAE7",
          "width": 2
         },
         "mode": "lines",
         "showlegend": false,
         "type": "scatter",
         "x": [
          0.2774207117892357,
          0.28485566639106924
         ],
         "y": [
          228,
          228
         ]
        },
        {
         "line": {
          "color": "#66BAE7",
          "width": 2
         },
         "mode": "lines",
         "showlegend": false,
         "type": "scatter",
         "x": [
          0.23993744789192428,
          0.2729808778507308
         ],
         "y": [
          227,
          227
         ]
        },
        {
         "line": {
          "color": "#66BAE7",
          "width": 2
         },
         "mode": "lines",
         "showlegend": false,
         "type": "scatter",
         "x": [
          0.23308788010423548,
          0.23436067036524105
         ],
         "y": [
          226,
          226
         ]
        },
        {
         "line": {
          "color": "#66BAE7",
          "width": 2
         },
         "mode": "lines",
         "showlegend": false,
         "type": "scatter",
         "x": [
          0.20701097410653416,
          0.21124244679061588
         ],
         "y": [
          225,
          225
         ]
        },
        {
         "line": {
          "color": "#66BAE7",
          "width": 2
         },
         "mode": "lines",
         "showlegend": false,
         "type": "scatter",
         "x": [
          0.2033233538859565,
          0.20491422387770614
         ],
         "y": [
          224,
          224
         ]
        },
        {
         "line": {
          "color": "#66BAE7",
          "width": 2
         },
         "mode": "lines",
         "showlegend": false,
         "type": "scatter",
         "x": [
          0.19674996955844956,
          0.22105506219027912
         ],
         "y": [
          223,
          223
         ]
        },
        {
         "line": {
          "color": "#66BAE7",
          "width": 2
         },
         "mode": "lines",
         "showlegend": false,
         "type": "scatter",
         "x": [
          0.19465093200521744,
          0.22187734221566674
         ],
         "y": [
          222,
          222
         ]
        },
        {
         "line": {
          "color": "#66BAE7",
          "width": 2
         },
         "mode": "lines",
         "showlegend": false,
         "type": "scatter",
         "x": [
          0.19456704647909184,
          0.2126198409608246
         ],
         "y": [
          221,
          221
         ]
        },
        {
         "line": {
          "color": "#66BAE7",
          "width": 2
         },
         "mode": "lines",
         "showlegend": false,
         "type": "scatter",
         "x": [
          0.19400920320369502,
          0.2072186612353782
         ],
         "y": [
          220,
          220
         ]
        },
        {
         "line": {
          "color": "#66BAE7",
          "width": 2
         },
         "mode": "lines",
         "showlegend": false,
         "type": "scatter",
         "x": [
          0.19082593068995404,
          0.22881073930865678
         ],
         "y": [
          219,
          219
         ]
        },
        {
         "line": {
          "color": "#66BAE7",
          "width": 2
         },
         "mode": "lines",
         "showlegend": false,
         "type": "scatter",
         "x": [
          0.18973487384181542,
          0.190328310329506
         ],
         "y": [
          218,
          218
         ]
        },
        {
         "line": {
          "color": "#66BAE7",
          "width": 2
         },
         "mode": "lines",
         "showlegend": false,
         "type": "scatter",
         "x": [
          0.18642737283564126,
          0.23526097483920066
         ],
         "y": [
          217,
          217
         ]
        },
        {
         "line": {
          "color": "#66BAE7",
          "width": 2
         },
         "mode": "lines",
         "showlegend": false,
         "type": "scatter",
         "x": [
          0.18396490330026335,
          0.18660272401352132
         ],
         "y": [
          216,
          216
         ]
        },
        {
         "line": {
          "color": "#66BAE7",
          "width": 2
         },
         "mode": "lines",
         "showlegend": false,
         "type": "scatter",
         "x": [
          0.1828001149955212,
          0.185737337637339
         ],
         "y": [
          215,
          215
         ]
        },
        {
         "line": {
          "color": "#66BAE7",
          "width": 2
         },
         "mode": "lines",
         "showlegend": false,
         "type": "scatter",
         "x": [
          0.1826417840385567,
          0.2627507263708123
         ],
         "y": [
          214,
          214
         ]
        },
        {
         "line": {
          "color": "#66BAE7",
          "width": 2
         },
         "mode": "lines",
         "showlegend": false,
         "type": "scatter",
         "x": [
          0.18251898247714854,
          0.198136433513521
         ],
         "y": [
          213,
          213
         ]
        },
        {
         "line": {
          "color": "#66BAE7",
          "width": 2
         },
         "mode": "lines",
         "showlegend": false,
         "type": "scatter",
         "x": [
          0.18066577557512575,
          0.19031288045452727
         ],
         "y": [
          212,
          212
         ]
        },
        {
         "line": {
          "color": "#66BAE7",
          "width": 2
         },
         "mode": "lines",
         "showlegend": false,
         "type": "scatter",
         "x": [
          0.1788904000853743,
          0.22766732896417188
         ],
         "y": [
          211,
          211
         ]
        },
        {
         "line": {
          "color": "#66BAE7",
          "width": 2
         },
         "mode": "lines",
         "showlegend": false,
         "type": "scatter",
         "x": [
          0.17802163986649508,
          0.20203466381544927
         ],
         "y": [
          210,
          210
         ]
        },
        {
         "line": {
          "color": "#66BAE7",
          "width": 2
         },
         "mode": "lines",
         "showlegend": false,
         "type": "scatter",
         "x": [
          0.1779888064038573,
          0.18935986812610847
         ],
         "y": [
          209,
          209
         ]
        },
        {
         "line": {
          "color": "#66BAE7",
          "width": 2
         },
         "mode": "lines",
         "showlegend": false,
         "type": "scatter",
         "x": [
          0.17753333428917167,
          0.20944238276040214
         ],
         "y": [
          208,
          208
         ]
        },
        {
         "line": {
          "color": "#66BAE7",
          "width": 2
         },
         "mode": "lines",
         "showlegend": false,
         "type": "scatter",
         "x": [
          0.17711365596424644,
          0.21855061252635496
         ],
         "y": [
          207,
          207
         ]
        },
        {
         "line": {
          "color": "#66BAE7",
          "width": 2
         },
         "mode": "lines",
         "showlegend": false,
         "type": "scatter",
         "x": [
          0.17658795312847436,
          0.18306084235736014
         ],
         "y": [
          206,
          206
         ]
        },
        {
         "line": {
          "color": "#66BAE7",
          "width": 2
         },
         "mode": "lines",
         "showlegend": false,
         "type": "scatter",
         "x": [
          0.17635966118369756,
          0.20871064143637222
         ],
         "y": [
          205,
          205
         ]
        },
        {
         "line": {
          "color": "#66BAE7",
          "width": 2
         },
         "mode": "lines",
         "showlegend": false,
         "type": "scatter",
         "x": [
          0.17579066781138594,
          0.19774233390887538
         ],
         "y": [
          204,
          204
         ]
        },
        {
         "line": {
          "color": "#66BAE7",
          "width": 2
         },
         "mode": "lines",
         "showlegend": false,
         "type": "scatter",
         "x": [
          0.17578919762092785,
          0.19327342709623596
         ],
         "y": [
          203,
          203
         ]
        },
        {
         "line": {
          "color": "#66BAE7",
          "width": 2
         },
         "mode": "lines",
         "showlegend": false,
         "type": "scatter",
         "x": [
          0.17467358923119938,
          0.19442946701269045
         ],
         "y": [
          202,
          202
         ]
        },
        {
         "line": {
          "color": "#66BAE7",
          "width": 2
         },
         "mode": "lines",
         "showlegend": false,
         "type": "scatter",
         "x": [
          0.17258450695453945,
          0.19558612938573766
         ],
         "y": [
          201,
          201
         ]
        },
        {
         "line": {
          "color": "#66BAE7",
          "width": 2
         },
         "mode": "lines",
         "showlegend": false,
         "type": "scatter",
         "x": [
          0.17209189846154124,
          0.1768555421816465
         ],
         "y": [
          200,
          200
         ]
        },
        {
         "line": {
          "color": "#66BAE7",
          "width": 2
         },
         "mode": "lines",
         "showlegend": false,
         "type": "scatter",
         "x": [
          0.17035301933938737,
          0.1974858342280467
         ],
         "y": [
          199,
          199
         ]
        },
        {
         "line": {
          "color": "#66BAE7",
          "width": 2
         },
         "mode": "lines",
         "showlegend": false,
         "type": "scatter",
         "x": [
          0.16976223277742494,
          0.19242270244259865
         ],
         "y": [
          198,
          198
         ]
        },
        {
         "line": {
          "color": "#66BAE7",
          "width": 2
         },
         "mode": "lines",
         "showlegend": false,
         "type": "scatter",
         "x": [
          0.1694644892697707,
          0.17069071481882114
         ],
         "y": [
          197,
          197
         ]
        },
        {
         "line": {
          "color": "#66BAE7",
          "width": 2
         },
         "mode": "lines",
         "showlegend": false,
         "type": "scatter",
         "x": [
          0.1690247688132906,
          0.17710791827584269
         ],
         "y": [
          196,
          196
         ]
        },
        {
         "line": {
          "color": "#66BAE7",
          "width": 2
         },
         "mode": "lines",
         "showlegend": false,
         "type": "scatter",
         "x": [
          0.16841709381369577,
          0.2077310020881373
         ],
         "y": [
          195,
          195
         ]
        },
        {
         "line": {
          "color": "#66BAE7",
          "width": 2
         },
         "mode": "lines",
         "showlegend": false,
         "type": "scatter",
         "x": [
          0.1678411452096696,
          0.1728779419288258
         ],
         "y": [
          194,
          194
         ]
        },
        {
         "line": {
          "color": "#66BAE7",
          "width": 2
         },
         "mode": "lines",
         "showlegend": false,
         "type": "scatter",
         "x": [
          0.16683275382504856,
          0.1940419842221887
         ],
         "y": [
          193,
          193
         ]
        },
        {
         "line": {
          "color": "#66BAE7",
          "width": 2
         },
         "mode": "lines",
         "showlegend": false,
         "type": "scatter",
         "x": [
          0.16627215162968656,
          0.17313523152926605
         ],
         "y": [
          192,
          192
         ]
        },
        {
         "line": {
          "color": "#66BAE7",
          "width": 2
         },
         "mode": "lines",
         "showlegend": false,
         "type": "scatter",
         "x": [
          0.1661797756984218,
          0.19747976712819898
         ],
         "y": [
          191,
          191
         ]
        },
        {
         "line": {
          "color": "#66BAE7",
          "width": 2
         },
         "mode": "lines",
         "showlegend": false,
         "type": "scatter",
         "x": [
          0.1661626245835892,
          0.19195597595405178
         ],
         "y": [
          190,
          190
         ]
        },
        {
         "line": {
          "color": "#66BAE7",
          "width": 2
         },
         "mode": "lines",
         "showlegend": false,
         "type": "scatter",
         "x": [
          0.16580720683461098,
          0.1881199832477711
         ],
         "y": [
          189,
          189
         ]
        },
        {
         "line": {
          "color": "#66BAE7",
          "width": 2
         },
         "mode": "lines",
         "showlegend": false,
         "type": "scatter",
         "x": [
          0.1656314516477453,
          0.1673760327510531
         ],
         "y": [
          188,
          188
         ]
        },
        {
         "line": {
          "color": "#66BAE7",
          "width": 2
         },
         "mode": "lines",
         "showlegend": false,
         "type": "scatter",
         "x": [
          0.16558517631352582,
          0.17605986952534922
         ],
         "y": [
          187,
          187
         ]
        },
        {
         "line": {
          "color": "#66BAE7",
          "width": 2
         },
         "mode": "lines",
         "showlegend": false,
         "type": "scatter",
         "x": [
          0.16556660399559828,
          0.16825941897136745
         ],
         "y": [
          186,
          186
         ]
        },
        {
         "line": {
          "color": "#66BAE7",
          "width": 2
         },
         "mode": "lines",
         "showlegend": false,
         "type": "scatter",
         "x": [
          0.1654765401240227,
          0.1729846630408967
         ],
         "y": [
          185,
          185
         ]
        },
        {
         "line": {
          "color": "#66BAE7",
          "width": 2
         },
         "mode": "lines",
         "showlegend": false,
         "type": "scatter",
         "x": [
          0.16536058274188675,
          0.17959655602608418
         ],
         "y": [
          184,
          184
         ]
        },
        {
         "line": {
          "color": "#66BAE7",
          "width": 2
         },
         "mode": "lines",
         "showlegend": false,
         "type": "scatter",
         "x": [
          0.16520805869857336,
          0.16739112371598294
         ],
         "y": [
          183,
          183
         ]
        },
        {
         "line": {
          "color": "#66BAE7",
          "width": 2
         },
         "mode": "lines",
         "showlegend": false,
         "type": "scatter",
         "x": [
          0.164634484906685,
          0.16871013377170924
         ],
         "y": [
          182,
          182
         ]
        },
        {
         "line": {
          "color": "#66BAE7",
          "width": 2
         },
         "mode": "lines",
         "showlegend": false,
         "type": "scatter",
         "x": [
          0.16381031265656762,
          0.21798666998489405
         ],
         "y": [
          181,
          181
         ]
        },
        {
         "line": {
          "color": "#66BAE7",
          "width": 2
         },
         "mode": "lines",
         "showlegend": false,
         "type": "scatter",
         "x": [
          0.16360625948160715,
          0.17467621940258296
         ],
         "y": [
          180,
          180
         ]
        },
        {
         "line": {
          "color": "#66BAE7",
          "width": 2
         },
         "mode": "lines",
         "showlegend": false,
         "type": "scatter",
         "x": [
          0.16343258860023638,
          0.2042304437251137
         ],
         "y": [
          179,
          179
         ]
        },
        {
         "line": {
          "color": "#66BAE7",
          "width": 2
         },
         "mode": "lines",
         "showlegend": false,
         "type": "scatter",
         "x": [
          0.16341216721638965,
          0.1752015289284202
         ],
         "y": [
          178,
          178
         ]
        },
        {
         "line": {
          "color": "#66BAE7",
          "width": 2
         },
         "mode": "lines",
         "showlegend": false,
         "type": "scatter",
         "x": [
          0.16284968374303202,
          0.23476555734497612
         ],
         "y": [
          177,
          177
         ]
        },
        {
         "line": {
          "color": "#66BAE7",
          "width": 2
         },
         "mode": "lines",
         "showlegend": false,
         "type": "scatter",
         "x": [
          0.1623990189324045,
          0.16510914612938388
         ],
         "y": [
          176,
          176
         ]
        },
        {
         "line": {
          "color": "#66BAE7",
          "width": 2
         },
         "mode": "lines",
         "showlegend": false,
         "type": "scatter",
         "x": [
          0.1619752199176944,
          0.17215381076400524
         ],
         "y": [
          175,
          175
         ]
        },
        {
         "line": {
          "color": "#66BAE7",
          "width": 2
         },
         "mode": "lines",
         "showlegend": false,
         "type": "scatter",
         "x": [
          0.16182194024889052,
          0.16697904625840188
         ],
         "y": [
          174,
          174
         ]
        },
        {
         "line": {
          "color": "#66BAE7",
          "width": 2
         },
         "mode": "lines",
         "showlegend": false,
         "type": "scatter",
         "x": [
          0.16179152478860565,
          0.16461218528937704
         ],
         "y": [
          173,
          173
         ]
        },
        {
         "line": {
          "color": "#66BAE7",
          "width": 2
         },
         "mode": "lines",
         "showlegend": false,
         "type": "scatter",
         "x": [
          0.16164856059804034,
          0.17675527277519432
         ],
         "y": [
          172,
          172
         ]
        },
        {
         "line": {
          "color": "#66BAE7",
          "width": 2
         },
         "mode": "lines",
         "showlegend": false,
         "type": "scatter",
         "x": [
          0.16084050326801802,
          0.16897142130059042
         ],
         "y": [
          171,
          171
         ]
        },
        {
         "line": {
          "color": "#66BAE7",
          "width": 2
         },
         "mode": "lines",
         "showlegend": false,
         "type": "scatter",
         "x": [
          0.1602238030190192,
          0.16881125517306875
         ],
         "y": [
          170,
          170
         ]
        },
        {
         "line": {
          "color": "#66BAE7",
          "width": 2
         },
         "mode": "lines",
         "showlegend": false,
         "type": "scatter",
         "x": [
          0.1599805602331007,
          0.19383607552708387
         ],
         "y": [
          169,
          169
         ]
        },
        {
         "line": {
          "color": "#66BAE7",
          "width": 2
         },
         "mode": "lines",
         "showlegend": false,
         "type": "scatter",
         "x": [
          0.15986706002824588,
          0.20435950443265227
         ],
         "y": [
          168,
          168
         ]
        },
        {
         "line": {
          "color": "#66BAE7",
          "width": 2
         },
         "mode": "lines",
         "showlegend": false,
         "type": "scatter",
         "x": [
          0.15964740902984398,
          0.16452194478550433
         ],
         "y": [
          167,
          167
         ]
        },
        {
         "line": {
          "color": "#66BAE7",
          "width": 2
         },
         "mode": "lines",
         "showlegend": false,
         "type": "scatter",
         "x": [
          0.15959975858421774,
          0.20396148233932276
         ],
         "y": [
          166,
          166
         ]
        },
        {
         "line": {
          "color": "#66BAE7",
          "width": 2
         },
         "mode": "lines",
         "showlegend": false,
         "type": "scatter",
         "x": [
          0.15952173587056687,
          0.16681492278319124
         ],
         "y": [
          165,
          165
         ]
        },
        {
         "line": {
          "color": "#66BAE7",
          "width": 2
         },
         "mode": "lines",
         "showlegend": false,
         "type": "scatter",
         "x": [
          0.15935040074643012,
          0.17584853224983002
         ],
         "y": [
          164,
          164
         ]
        },
        {
         "line": {
          "color": "#66BAE7",
          "width": 2
         },
         "mode": "lines",
         "showlegend": false,
         "type": "scatter",
         "x": [
          0.15919893041923358,
          0.15963794177589405
         ],
         "y": [
          163,
          163
         ]
        },
        {
         "line": {
          "color": "#66BAE7",
          "width": 2
         },
         "mode": "lines",
         "showlegend": false,
         "type": "scatter",
         "x": [
          0.15899680350944467,
          0.21590448266488807
         ],
         "y": [
          162,
          162
         ]
        },
        {
         "line": {
          "color": "#66BAE7",
          "width": 2
         },
         "mode": "lines",
         "showlegend": false,
         "type": "scatter",
         "x": [
          0.15830136609461798,
          0.1782333607087155
         ],
         "y": [
          161,
          161
         ]
        },
        {
         "line": {
          "color": "#66BAE7",
          "width": 2
         },
         "mode": "lines",
         "showlegend": false,
         "type": "scatter",
         "x": [
          0.1575838761401593,
          0.17850447835982525
         ],
         "y": [
          160,
          160
         ]
        },
        {
         "line": {
          "color": "#66BAE7",
          "width": 2
         },
         "mode": "lines",
         "showlegend": false,
         "type": "scatter",
         "x": [
          0.15661869300377637,
          0.1695195596115737
         ],
         "y": [
          159,
          159
         ]
        },
        {
         "line": {
          "color": "#66BAE7",
          "width": 2
         },
         "mode": "lines",
         "showlegend": false,
         "type": "scatter",
         "x": [
          0.15653151402522397,
          0.1760429169447561
         ],
         "y": [
          158,
          158
         ]
        },
        {
         "line": {
          "color": "#66BAE7",
          "width": 2
         },
         "mode": "lines",
         "showlegend": false,
         "type": "scatter",
         "x": [
          0.15530946691150915,
          0.15690296925703334
         ],
         "y": [
          157,
          157
         ]
        },
        {
         "line": {
          "color": "#66BAE7",
          "width": 2
         },
         "mode": "lines",
         "showlegend": false,
         "type": "scatter",
         "x": [
          0.15512236874932056,
          0.19394453374950565
         ],
         "y": [
          156,
          156
         ]
        },
        {
         "line": {
          "color": "#66BAE7",
          "width": 2
         },
         "mode": "lines",
         "showlegend": false,
         "type": "scatter",
         "x": [
          0.15469763045167617,
          0.1656321819244199
         ],
         "y": [
          155,
          155
         ]
        },
        {
         "line": {
          "color": "#66BAE7",
          "width": 2
         },
         "mode": "lines",
         "showlegend": false,
         "type": "scatter",
         "x": [
          0.15428078373722745,
          0.17552523308023604
         ],
         "y": [
          154,
          154
         ]
        },
        {
         "line": {
          "color": "#66BAE7",
          "width": 2
         },
         "mode": "lines",
         "showlegend": false,
         "type": "scatter",
         "x": [
          0.15415487264590205,
          0.20536692132136283
         ],
         "y": [
          153,
          153
         ]
        },
        {
         "line": {
          "color": "#66BAE7",
          "width": 2
         },
         "mode": "lines",
         "showlegend": false,
         "type": "scatter",
         "x": [
          0.15383565585632086,
          0.1598969737677747
         ],
         "y": [
          152,
          152
         ]
        },
        {
         "line": {
          "color": "#66BAE7",
          "width": 2
         },
         "mode": "lines",
         "showlegend": false,
         "type": "scatter",
         "x": [
          0.15376571038103717,
          0.17582831445522615
         ],
         "y": [
          151,
          151
         ]
        },
        {
         "line": {
          "color": "#66BAE7",
          "width": 2
         },
         "mode": "lines",
         "showlegend": false,
         "type": "scatter",
         "x": [
          0.15328622144269657,
          0.19900118355525567
         ],
         "y": [
          150,
          150
         ]
        },
        {
         "line": {
          "color": "#66BAE7",
          "width": 2
         },
         "mode": "lines",
         "showlegend": false,
         "type": "scatter",
         "x": [
          0.1532195186978688,
          0.1545791484056455
         ],
         "y": [
          149,
          149
         ]
        },
        {
         "line": {
          "color": "#66BAE7",
          "width": 2
         },
         "mode": "lines",
         "showlegend": false,
         "type": "scatter",
         "x": [
          0.15302546670856543,
          0.23027459520471832
         ],
         "y": [
          148,
          148
         ]
        },
        {
         "line": {
          "color": "#66BAE7",
          "width": 2
         },
         "mode": "lines",
         "showlegend": false,
         "type": "scatter",
         "x": [
          0.15284457623103517,
          0.1596913078530542
         ],
         "y": [
          147,
          147
         ]
        },
        {
         "line": {
          "color": "#66BAE7",
          "width": 2
         },
         "mode": "lines",
         "showlegend": false,
         "type": "scatter",
         "x": [
          0.15226699008969125,
          0.18811634379196476
         ],
         "y": [
          146,
          146
         ]
        },
        {
         "line": {
          "color": "#66BAE7",
          "width": 2
         },
         "mode": "lines",
         "showlegend": false,
         "type": "scatter",
         "x": [
          0.15172615298674724,
          0.15664086390042475
         ],
         "y": [
          145,
          145
         ]
        },
        {
         "line": {
          "color": "#66BAE7",
          "width": 2
         },
         "mode": "lines",
         "showlegend": false,
         "type": "scatter",
         "x": [
          0.1506806670347921,
          0.16680519626637014
         ],
         "y": [
          144,
          144
         ]
        },
        {
         "line": {
          "color": "#66BAE7",
          "width": 2
         },
         "mode": "lines",
         "showlegend": false,
         "type": "scatter",
         "x": [
          0.15045410978044266,
          0.17628378374014383
         ],
         "y": [
          143,
          143
         ]
        },
        {
         "line": {
          "color": "#66BAE7",
          "width": 2
         },
         "mode": "lines",
         "showlegend": false,
         "type": "scatter",
         "x": [
          0.1498047921883162,
          0.1914049106253114
         ],
         "y": [
          142,
          142
         ]
        },
        {
         "line": {
          "color": "#66BAE7",
          "width": 2
         },
         "mode": "lines",
         "showlegend": false,
         "type": "scatter",
         "x": [
          0.1497365039743378,
          0.16172186053637067
         ],
         "y": [
          141,
          141
         ]
        },
        {
         "line": {
          "color": "#66BAE7",
          "width": 2
         },
         "mode": "lines",
         "showlegend": false,
         "type": "scatter",
         "x": [
          0.14963735870767622,
          0.17072451202760233
         ],
         "y": [
          140,
          140
         ]
        },
        {
         "line": {
          "color": "#66BAE7",
          "width": 2
         },
         "mode": "lines",
         "showlegend": false,
         "type": "scatter",
         "x": [
          0.14952498863991262,
          0.169309223210746
         ],
         "y": [
          139,
          139
         ]
        },
        {
         "line": {
          "color": "#66BAE7",
          "width": 2
         },
         "mode": "lines",
         "showlegend": false,
         "type": "scatter",
         "x": [
          0.1493946497573598,
          0.15581272251251954
         ],
         "y": [
          138,
          138
         ]
        },
        {
         "line": {
          "color": "#66BAE7",
          "width": 2
         },
         "mode": "lines",
         "showlegend": false,
         "type": "scatter",
         "x": [
          0.14909393802683465,
          0.17534834987080114
         ],
         "y": [
          137,
          137
         ]
        },
        {
         "line": {
          "color": "#66BAE7",
          "width": 2
         },
         "mode": "lines",
         "showlegend": false,
         "type": "scatter",
         "x": [
          0.14838741867025473,
          0.14846303047769688
         ],
         "y": [
          136,
          136
         ]
        },
        {
         "line": {
          "color": "#66BAE7",
          "width": 2
         },
         "mode": "lines",
         "showlegend": false,
         "type": "scatter",
         "x": [
          0.1483802913334642,
          0.16102582690296974
         ],
         "y": [
          135,
          135
         ]
        },
        {
         "line": {
          "color": "#66BAE7",
          "width": 2
         },
         "mode": "lines",
         "showlegend": false,
         "type": "scatter",
         "x": [
          0.14808716899459745,
          0.1845344754222224
         ],
         "y": [
          134,
          134
         ]
        },
        {
         "line": {
          "color": "#66BAE7",
          "width": 2
         },
         "mode": "lines",
         "showlegend": false,
         "type": "scatter",
         "x": [
          0.14804541127978013,
          0.21618915414095657
         ],
         "y": [
          133,
          133
         ]
        },
        {
         "line": {
          "color": "#66BAE7",
          "width": 2
         },
         "mode": "lines",
         "showlegend": false,
         "type": "scatter",
         "x": [
          0.14788835748510623,
          0.18610398461437916
         ],
         "y": [
          132,
          132
         ]
        },
        {
         "line": {
          "color": "#66BAE7",
          "width": 2
         },
         "mode": "lines",
         "showlegend": false,
         "type": "scatter",
         "x": [
          0.14776037063897574,
          0.1546236491496904
         ],
         "y": [
          131,
          131
         ]
        },
        {
         "line": {
          "color": "#66BAE7",
          "width": 2
         },
         "mode": "lines",
         "showlegend": false,
         "type": "scatter",
         "x": [
          0.14768668473943186,
          0.16128623132222691
         ],
         "y": [
          130,
          130
         ]
        },
        {
         "line": {
          "color": "#66BAE7",
          "width": 2
         },
         "mode": "lines",
         "showlegend": false,
         "type": "scatter",
         "x": [
          0.14723692460939766,
          0.17744187233759362
         ],
         "y": [
          129,
          129
         ]
        },
        {
         "line": {
          "color": "#66BAE7",
          "width": 2
         },
         "mode": "lines",
         "showlegend": false,
         "type": "scatter",
         "x": [
          0.14714860114218303,
          0.16099264510785657
         ],
         "y": [
          128,
          128
         ]
        },
        {
         "line": {
          "color": "#66BAE7",
          "width": 2
         },
         "mode": "lines",
         "showlegend": false,
         "type": "scatter",
         "x": [
          0.1467374209651057,
          0.17837010513669055
         ],
         "y": [
          127,
          127
         ]
        },
        {
         "line": {
          "color": "#66BAE7",
          "width": 2
         },
         "mode": "lines",
         "showlegend": false,
         "type": "scatter",
         "x": [
          0.14574157632236112,
          0.18805743046275566
         ],
         "y": [
          126,
          126
         ]
        },
        {
         "line": {
          "color": "#66BAE7",
          "width": 2
         },
         "mode": "lines",
         "showlegend": false,
         "type": "scatter",
         "x": [
          0.14539817190085932,
          0.14933303555773988
         ],
         "y": [
          125,
          125
         ]
        },
        {
         "line": {
          "color": "#66BAE7",
          "width": 2
         },
         "mode": "lines",
         "showlegend": false,
         "type": "scatter",
         "x": [
          0.14539157487963134,
          0.1462235024394821
         ],
         "y": [
          124,
          124
         ]
        },
        {
         "line": {
          "color": "#66BAE7",
          "width": 2
         },
         "mode": "lines",
         "showlegend": false,
         "type": "scatter",
         "x": [
          0.14530966815780139,
          0.14843636975606572
         ],
         "y": [
          123,
          123
         ]
        },
        {
         "line": {
          "color": "#66BAE7",
          "width": 2
         },
         "mode": "lines",
         "showlegend": false,
         "type": "scatter",
         "x": [
          0.14521399911011984,
          0.16802953183568842
         ],
         "y": [
          122,
          122
         ]
        },
        {
         "line": {
          "color": "#66BAE7",
          "width": 2
         },
         "mode": "lines",
         "showlegend": false,
         "type": "scatter",
         "x": [
          0.1449774117721222,
          0.15786076774685862
         ],
         "y": [
          121,
          121
         ]
        },
        {
         "line": {
          "color": "#66BAE7",
          "width": 2
         },
         "mode": "lines",
         "showlegend": false,
         "type": "scatter",
         "x": [
          0.14474678046004638,
          0.16072511824707247
         ],
         "y": [
          120,
          120
         ]
        },
        {
         "line": {
          "color": "#66BAE7",
          "width": 2
         },
         "mode": "lines",
         "showlegend": false,
         "type": "scatter",
         "x": [
          0.14433700624870954,
          0.18025224056510453
         ],
         "y": [
          119,
          119
         ]
        },
        {
         "line": {
          "color": "#66BAE7",
          "width": 2
         },
         "mode": "lines",
         "showlegend": false,
         "type": "scatter",
         "x": [
          0.144255765252594,
          0.15698126183538352
         ],
         "y": [
          118,
          118
         ]
        },
        {
         "line": {
          "color": "#66BAE7",
          "width": 2
         },
         "mode": "lines",
         "showlegend": false,
         "type": "scatter",
         "x": [
          0.144148904849893,
          0.19952083880357355
         ],
         "y": [
          117,
          117
         ]
        },
        {
         "line": {
          "color": "#66BAE7",
          "width": 2
         },
         "mode": "lines",
         "showlegend": false,
         "type": "scatter",
         "x": [
          0.14365215133852346,
          0.20443965031390507
         ],
         "y": [
          116,
          116
         ]
        },
        {
         "line": {
          "color": "#66BAE7",
          "width": 2
         },
         "mode": "lines",
         "showlegend": false,
         "type": "scatter",
         "x": [
          0.1434120016147882,
          0.15158992722736045
         ],
         "y": [
          115,
          115
         ]
        },
        {
         "line": {
          "color": "#66BAE7",
          "width": 2
         },
         "mode": "lines",
         "showlegend": false,
         "type": "scatter",
         "x": [
          0.14300325913378004,
          0.1793269014737301
         ],
         "y": [
          114,
          114
         ]
        },
        {
         "line": {
          "color": "#66BAE7",
          "width": 2
         },
         "mode": "lines",
         "showlegend": false,
         "type": "scatter",
         "x": [
          0.14290802106738762,
          0.16893678645779367
         ],
         "y": [
          113,
          113
         ]
        },
        {
         "line": {
          "color": "#66BAE7",
          "width": 2
         },
         "mode": "lines",
         "showlegend": false,
         "type": "scatter",
         "x": [
          0.1428334923107202,
          0.20522395292473541
         ],
         "y": [
          112,
          112
         ]
        },
        {
         "line": {
          "color": "#66BAE7",
          "width": 2
         },
         "mode": "lines",
         "showlegend": false,
         "type": "scatter",
         "x": [
          0.14264364447186792,
          0.2109282592464648
         ],
         "y": [
          111,
          111
         ]
        },
        {
         "line": {
          "color": "#66BAE7",
          "width": 2
         },
         "mode": "lines",
         "showlegend": false,
         "type": "scatter",
         "x": [
          0.1422525049142858,
          0.23966849140201796
         ],
         "y": [
          110,
          110
         ]
        },
        {
         "line": {
          "color": "#66BAE7",
          "width": 2
         },
         "mode": "lines",
         "showlegend": false,
         "type": "scatter",
         "x": [
          0.14165831759116077,
          0.20006791781042643
         ],
         "y": [
          109,
          109
         ]
        },
        {
         "line": {
          "color": "#66BAE7",
          "width": 2
         },
         "mode": "lines",
         "showlegend": false,
         "type": "scatter",
         "x": [
          0.14124306745145085,
          0.15761675413153503
         ],
         "y": [
          108,
          108
         ]
        },
        {
         "line": {
          "color": "#66BAE7",
          "width": 2
         },
         "mode": "lines",
         "showlegend": false,
         "type": "scatter",
         "x": [
          0.1410542650441916,
          0.1660111669419535
         ],
         "y": [
          107,
          107
         ]
        },
        {
         "line": {
          "color": "#66BAE7",
          "width": 2
         },
         "mode": "lines",
         "showlegend": false,
         "type": "scatter",
         "x": [
          0.1404967118992541,
          0.19011064381581078
         ],
         "y": [
          106,
          106
         ]
        },
        {
         "line": {
          "color": "#66BAE7",
          "width": 2
         },
         "mode": "lines",
         "showlegend": false,
         "type": "scatter",
         "x": [
          0.14005672592323698,
          0.19831466505601184
         ],
         "y": [
          105,
          105
         ]
        },
        {
         "line": {
          "color": "#66BAE7",
          "width": 2
         },
         "mode": "lines",
         "showlegend": false,
         "type": "scatter",
         "x": [
          0.13875426958161846,
          0.19300765914115334
         ],
         "y": [
          104,
          104
         ]
        },
        {
         "line": {
          "color": "#66BAE7",
          "width": 2
         },
         "mode": "lines",
         "showlegend": false,
         "type": "scatter",
         "x": [
          0.1386777000165037,
          0.1953262052307183
         ],
         "y": [
          103,
          103
         ]
        },
        {
         "line": {
          "color": "#66BAE7",
          "width": 2
         },
         "mode": "lines",
         "showlegend": false,
         "type": "scatter",
         "x": [
          0.1382828322381389,
          0.16561394200509574
         ],
         "y": [
          102,
          102
         ]
        },
        {
         "line": {
          "color": "#66BAE7",
          "width": 2
         },
         "mode": "lines",
         "showlegend": false,
         "type": "scatter",
         "x": [
          0.1381618403068657,
          0.15444645878208207
         ],
         "y": [
          101,
          101
         ]
        },
        {
         "line": {
          "color": "#66BAE7",
          "width": 2
         },
         "mode": "lines",
         "showlegend": false,
         "type": "scatter",
         "x": [
          0.13802705422385955,
          0.1973790326871647
         ],
         "y": [
          100,
          100
         ]
        },
        {
         "line": {
          "color": "#66BAE7",
          "width": 2
         },
         "mode": "lines",
         "showlegend": false,
         "type": "scatter",
         "x": [
          0.13769154483606932,
          0.15993058453977912
         ],
         "y": [
          99,
          99
         ]
        },
        {
         "line": {
          "color": "#66BAE7",
          "width": 2
         },
         "mode": "lines",
         "showlegend": false,
         "type": "scatter",
         "x": [
          0.13733382918367007,
          0.16644058558168232
         ],
         "y": [
          98,
          98
         ]
        },
        {
         "line": {
          "color": "#66BAE7",
          "width": 2
         },
         "mode": "lines",
         "showlegend": false,
         "type": "scatter",
         "x": [
          0.13722052817431796,
          0.1467688017501907
         ],
         "y": [
          97,
          97
         ]
        },
        {
         "line": {
          "color": "#66BAE7",
          "width": 2
         },
         "mode": "lines",
         "showlegend": false,
         "type": "scatter",
         "x": [
          0.13690640943578875,
          0.14837136493036826
         ],
         "y": [
          96,
          96
         ]
        },
        {
         "line": {
          "color": "#66BAE7",
          "width": 2
         },
         "mode": "lines",
         "showlegend": false,
         "type": "scatter",
         "x": [
          0.13674963774755164,
          0.21695778765179072
         ],
         "y": [
          95,
          95
         ]
        },
        {
         "line": {
          "color": "#66BAE7",
          "width": 2
         },
         "mode": "lines",
         "showlegend": false,
         "type": "scatter",
         "x": [
          0.13641651031789462,
          0.14398142096393748
         ],
         "y": [
          94,
          94
         ]
        },
        {
         "line": {
          "color": "#66BAE7",
          "width": 2
         },
         "mode": "lines",
         "showlegend": false,
         "type": "scatter",
         "x": [
          0.13636001488450875,
          0.1441125483887702
         ],
         "y": [
          93,
          93
         ]
        },
        {
         "line": {
          "color": "#66BAE7",
          "width": 2
         },
         "mode": "lines",
         "showlegend": false,
         "type": "scatter",
         "x": [
          0.13574262779649174,
          0.15475259263649013
         ],
         "y": [
          92,
          92
         ]
        },
        {
         "line": {
          "color": "#66BAE7",
          "width": 2
         },
         "mode": "lines",
         "showlegend": false,
         "type": "scatter",
         "x": [
          0.13535281838126373,
          0.13591723252595464
         ],
         "y": [
          91,
          91
         ]
        },
        {
         "line": {
          "color": "#66BAE7",
          "width": 2
         },
         "mode": "lines",
         "showlegend": false,
         "type": "scatter",
         "x": [
          0.1352102697692717,
          0.19009381121658778
         ],
         "y": [
          90,
          90
         ]
        },
        {
         "line": {
          "color": "#66BAE7",
          "width": 2
         },
         "mode": "lines",
         "showlegend": false,
         "type": "scatter",
         "x": [
          0.13514977360430147,
          0.1457949073987476
         ],
         "y": [
          89,
          89
         ]
        },
        {
         "line": {
          "color": "#66BAE7",
          "width": 2
         },
         "mode": "lines",
         "showlegend": false,
         "type": "scatter",
         "x": [
          0.1350526247561067,
          0.1409797110074864
         ],
         "y": [
          88,
          88
         ]
        },
        {
         "line": {
          "color": "#66BAE7",
          "width": 2
         },
         "mode": "lines",
         "showlegend": false,
         "type": "scatter",
         "x": [
          0.13502998618192932,
          0.16043656277472054
         ],
         "y": [
          87,
          87
         ]
        },
        {
         "line": {
          "color": "#66BAE7",
          "width": 2
         },
         "mode": "lines",
         "showlegend": false,
         "type": "scatter",
         "x": [
          0.1348152149670153,
          0.14164259667324317
         ],
         "y": [
          86,
          86
         ]
        },
        {
         "line": {
          "color": "#66BAE7",
          "width": 2
         },
         "mode": "lines",
         "showlegend": false,
         "type": "scatter",
         "x": [
          0.13472143776627038,
          0.2065694668667904
         ],
         "y": [
          85,
          85
         ]
        },
        {
         "line": {
          "color": "#66BAE7",
          "width": 2
         },
         "mode": "lines",
         "showlegend": false,
         "type": "scatter",
         "x": [
          0.13408236111206664,
          0.13993502063649577
         ],
         "y": [
          84,
          84
         ]
        },
        {
         "line": {
          "color": "#66BAE7",
          "width": 2
         },
         "mode": "lines",
         "showlegend": false,
         "type": "scatter",
         "x": [
          0.13386770086437905,
          0.15175958854799726
         ],
         "y": [
          83,
          83
         ]
        },
        {
         "line": {
          "color": "#66BAE7",
          "width": 2
         },
         "mode": "lines",
         "showlegend": false,
         "type": "scatter",
         "x": [
          0.1336933359942506,
          0.1606132321740607
         ],
         "y": [
          82,
          82
         ]
        },
        {
         "line": {
          "color": "#66BAE7",
          "width": 2
         },
         "mode": "lines",
         "showlegend": false,
         "type": "scatter",
         "x": [
          0.1336547160661364,
          0.2022321449747482
         ],
         "y": [
          81,
          81
         ]
        },
        {
         "line": {
          "color": "#66BAE7",
          "width": 2
         },
         "mode": "lines",
         "showlegend": false,
         "type": "scatter",
         "x": [
          0.13360693770561702,
          0.1505735949182755
         ],
         "y": [
          80,
          80
         ]
        },
        {
         "line": {
          "color": "#66BAE7",
          "width": 2
         },
         "mode": "lines",
         "showlegend": false,
         "type": "scatter",
         "x": [
          0.13352773944928117,
          0.216920597613008
         ],
         "y": [
          79,
          79
         ]
        },
        {
         "line": {
          "color": "#66BAE7",
          "width": 2
         },
         "mode": "lines",
         "showlegend": false,
         "type": "scatter",
         "x": [
          0.13336971960607896,
          0.15541958286581317
         ],
         "y": [
          78,
          78
         ]
        },
        {
         "line": {
          "color": "#66BAE7",
          "width": 2
         },
         "mode": "lines",
         "showlegend": false,
         "type": "scatter",
         "x": [
          0.13309062898253854,
          0.17533003747566814
         ],
         "y": [
          77,
          77
         ]
        },
        {
         "line": {
          "color": "#66BAE7",
          "width": 2
         },
         "mode": "lines",
         "showlegend": false,
         "type": "scatter",
         "x": [
          0.13292923193044806,
          0.2132182326926219
         ],
         "y": [
          76,
          76
         ]
        },
        {
         "line": {
          "color": "#66BAE7",
          "width": 2
         },
         "mode": "lines",
         "showlegend": false,
         "type": "scatter",
         "x": [
          0.13278964909529428,
          0.18776345640865094
         ],
         "y": [
          75,
          75
         ]
        },
        {
         "line": {
          "color": "#66BAE7",
          "width": 2
         },
         "mode": "lines",
         "showlegend": false,
         "type": "scatter",
         "x": [
          0.13264410844563443,
          0.14101957884844984
         ],
         "y": [
          74,
          74
         ]
        },
        {
         "line": {
          "color": "#66BAE7",
          "width": 2
         },
         "mode": "lines",
         "showlegend": false,
         "type": "scatter",
         "x": [
          0.13236823973207565,
          0.17363687343460804
         ],
         "y": [
          73,
          73
         ]
        },
        {
         "line": {
          "color": "#66BAE7",
          "width": 2
         },
         "mode": "lines",
         "showlegend": false,
         "type": "scatter",
         "x": [
          0.13200484202890198,
          0.1421187817144442
         ],
         "y": [
          72,
          72
         ]
        },
        {
         "line": {
          "color": "#66BAE7",
          "width": 2
         },
         "mode": "lines",
         "showlegend": false,
         "type": "scatter",
         "x": [
          0.13121083896664523,
          0.18588381230022077
         ],
         "y": [
          71,
          71
         ]
        },
        {
         "line": {
          "color": "#66BAE7",
          "width": 2
         },
         "mode": "lines",
         "showlegend": false,
         "type": "scatter",
         "x": [
          0.13080786311047976,
          0.15525144460981333
         ],
         "y": [
          70,
          70
         ]
        },
        {
         "line": {
          "color": "#66BAE7",
          "width": 2
         },
         "mode": "lines",
         "showlegend": false,
         "type": "scatter",
         "x": [
          0.13007729191786063,
          0.14318381289999613
         ],
         "y": [
          69,
          69
         ]
        },
        {
         "line": {
          "color": "#66BAE7",
          "width": 2
         },
         "mode": "lines",
         "showlegend": false,
         "type": "scatter",
         "x": [
          0.1299163493783442,
          0.13986672840753983
         ],
         "y": [
          68,
          68
         ]
        },
        {
         "line": {
          "color": "#66BAE7",
          "width": 2
         },
         "mode": "lines",
         "showlegend": false,
         "type": "scatter",
         "x": [
          0.12988516067287767,
          0.18224866244139354
         ],
         "y": [
          67,
          67
         ]
        },
        {
         "line": {
          "color": "#66BAE7",
          "width": 2
         },
         "mode": "lines",
         "showlegend": false,
         "type": "scatter",
         "x": [
          0.12971681155916126,
          0.13549157128529027
         ],
         "y": [
          66,
          66
         ]
        },
        {
         "line": {
          "color": "#66BAE7",
          "width": 2
         },
         "mode": "lines",
         "showlegend": false,
         "type": "scatter",
         "x": [
          0.1295603694327367,
          0.12959082014026516
         ],
         "y": [
          65,
          65
         ]
        },
        {
         "line": {
          "color": "#66BAE7",
          "width": 2
         },
         "mode": "lines",
         "showlegend": false,
         "type": "scatter",
         "x": [
          0.1293892908489303,
          0.1320363572852804
         ],
         "y": [
          64,
          64
         ]
        },
        {
         "line": {
          "color": "#66BAE7",
          "width": 2
         },
         "mode": "lines",
         "showlegend": false,
         "type": "scatter",
         "x": [
          0.12930361361726278,
          0.15338038409566512
         ],
         "y": [
          63,
          63
         ]
        },
        {
         "line": {
          "color": "#66BAE7",
          "width": 2
         },
         "mode": "lines",
         "showlegend": false,
         "type": "scatter",
         "x": [
          0.12930011311054096,
          0.1601501319072645
         ],
         "y": [
          62,
          62
         ]
        },
        {
         "line": {
          "color": "#66BAE7",
          "width": 2
         },
         "mode": "lines",
         "showlegend": false,
         "type": "scatter",
         "x": [
          0.12899145170931814,
          0.16323339434073117
         ],
         "y": [
          61,
          61
         ]
        },
        {
         "line": {
          "color": "#66BAE7",
          "width": 2
         },
         "mode": "lines",
         "showlegend": false,
         "type": "scatter",
         "x": [
          0.12896687015577463,
          0.14491915762424562
         ],
         "y": [
          60,
          60
         ]
        },
        {
         "line": {
          "color": "#66BAE7",
          "width": 2
         },
         "mode": "lines",
         "showlegend": false,
         "type": "scatter",
         "x": [
          0.12842624247018777,
          0.12934861908719003
         ],
         "y": [
          59,
          59
         ]
        },
        {
         "line": {
          "color": "#66BAE7",
          "width": 2
         },
         "mode": "lines",
         "showlegend": false,
         "type": "scatter",
         "x": [
          0.12820514574600805,
          0.2214630376139402
         ],
         "y": [
          58,
          58
         ]
        },
        {
         "line": {
          "color": "#66BAE7",
          "width": 2
         },
         "mode": "lines",
         "showlegend": false,
         "type": "scatter",
         "x": [
          0.12815228798695888,
          0.14999699548317008
         ],
         "y": [
          57,
          57
         ]
        },
        {
         "line": {
          "color": "#66BAE7",
          "width": 2
         },
         "mode": "lines",
         "showlegend": false,
         "type": "scatter",
         "x": [
          0.1279726860359129,
          0.161127268579985
         ],
         "y": [
          56,
          56
         ]
        },
        {
         "line": {
          "color": "#66BAE7",
          "width": 2
         },
         "mode": "lines",
         "showlegend": false,
         "type": "scatter",
         "x": [
          0.12787752925973095,
          0.18442703705214158
         ],
         "y": [
          55,
          55
         ]
        },
        {
         "line": {
          "color": "#66BAE7",
          "width": 2
         },
         "mode": "lines",
         "showlegend": false,
         "type": "scatter",
         "x": [
          0.12752633015998685,
          0.16173912104800198
         ],
         "y": [
          54,
          54
         ]
        },
        {
         "line": {
          "color": "#66BAE7",
          "width": 2
         },
         "mode": "lines",
         "showlegend": false,
         "type": "scatter",
         "x": [
          0.127362272432384,
          0.1811416014242032
         ],
         "y": [
          53,
          53
         ]
        },
        {
         "line": {
          "color": "#66BAE7",
          "width": 2
         },
         "mode": "lines",
         "showlegend": false,
         "type": "scatter",
         "x": [
          0.12713566037715232,
          0.13521045865657075
         ],
         "y": [
          52,
          52
         ]
        },
        {
         "line": {
          "color": "#66BAE7",
          "width": 2
         },
         "mode": "lines",
         "showlegend": false,
         "type": "scatter",
         "x": [
          0.12696691976365107,
          0.17864723148206071
         ],
         "y": [
          51,
          51
         ]
        },
        {
         "line": {
          "color": "#66BAE7",
          "width": 2
         },
         "mode": "lines",
         "showlegend": false,
         "type": "scatter",
         "x": [
          0.1269340815845786,
          0.13363109458348296
         ],
         "y": [
          50,
          50
         ]
        },
        {
         "line": {
          "color": "#66BAE7",
          "width": 2
         },
         "mode": "lines",
         "showlegend": false,
         "type": "scatter",
         "x": [
          0.12684850418339738,
          0.15750681017640475
         ],
         "y": [
          49,
          49
         ]
        },
        {
         "line": {
          "color": "#66BAE7",
          "width": 2
         },
         "mode": "lines",
         "showlegend": false,
         "type": "scatter",
         "x": [
          0.1263168770844991,
          0.20749952242976494
         ],
         "y": [
          48,
          48
         ]
        },
        {
         "line": {
          "color": "#66BAE7",
          "width": 2
         },
         "mode": "lines",
         "showlegend": false,
         "type": "scatter",
         "x": [
          0.12600340367429463,
          0.15786099300677855
         ],
         "y": [
          47,
          47
         ]
        },
        {
         "line": {
          "color": "#66BAE7",
          "width": 2
         },
         "mode": "lines",
         "showlegend": false,
         "type": "scatter",
         "x": [
          0.12583734523060516,
          0.18246087892703852
         ],
         "y": [
          46,
          46
         ]
        },
        {
         "line": {
          "color": "#66BAE7",
          "width": 2
         },
         "mode": "lines",
         "showlegend": false,
         "type": "scatter",
         "x": [
          0.12567934021044977,
          0.1256846914105717
         ],
         "y": [
          45,
          45
         ]
        },
        {
         "line": {
          "color": "#66BAE7",
          "width": 2
         },
         "mode": "lines",
         "showlegend": false,
         "type": "scatter",
         "x": [
          0.1251606006475136,
          0.14371002603658456
         ],
         "y": [
          44,
          44
         ]
        },
        {
         "line": {
          "color": "#66BAE7",
          "width": 2
         },
         "mode": "lines",
         "showlegend": false,
         "type": "scatter",
         "x": [
          0.12456584667759817,
          0.1749466198562299
         ],
         "y": [
          43,
          43
         ]
        },
        {
         "line": {
          "color": "#66BAE7",
          "width": 2
         },
         "mode": "lines",
         "showlegend": false,
         "type": "scatter",
         "x": [
          0.12431449822728674,
          0.14164259667324317
         ],
         "y": [
          42,
          42
         ]
        },
        {
         "line": {
          "color": "#66BAE7",
          "width": 2
         },
         "mode": "lines",
         "showlegend": false,
         "type": "scatter",
         "x": [
          0.12411852351583984,
          0.19845800311983974
         ],
         "y": [
          41,
          41
         ]
        },
        {
         "line": {
          "color": "#66BAE7",
          "width": 2
         },
         "mode": "lines",
         "showlegend": false,
         "type": "scatter",
         "x": [
          0.12397239601517493,
          0.20683091120777616
         ],
         "y": [
          40,
          40
         ]
        },
        {
         "line": {
          "color": "#66BAE7",
          "width": 2
         },
         "mode": "lines",
         "showlegend": false,
         "type": "scatter",
         "x": [
          0.12383463491264872,
          0.20333014455075804
         ],
         "y": [
          39,
          39
         ]
        },
        {
         "line": {
          "color": "#66BAE7",
          "width": 2
         },
         "mode": "lines",
         "showlegend": false,
         "type": "scatter",
         "x": [
          0.12358078532967323,
          0.19460279902875036
         ],
         "y": [
          38,
          38
         ]
        },
        {
         "line": {
          "color": "#66BAE7",
          "width": 2
         },
         "mode": "lines",
         "showlegend": false,
         "type": "scatter",
         "x": [
          0.1232215168856288,
          0.1250319960673595
         ],
         "y": [
          37,
          37
         ]
        },
        {
         "line": {
          "color": "#66BAE7",
          "width": 2
         },
         "mode": "lines",
         "showlegend": false,
         "type": "scatter",
         "x": [
          0.12308883863033683,
          0.1338031100680677
         ],
         "y": [
          36,
          36
         ]
        },
        {
         "line": {
          "color": "#66BAE7",
          "width": 2
         },
         "mode": "lines",
         "showlegend": false,
         "type": "scatter",
         "x": [
          0.12286151975793527,
          0.1623171618048455
         ],
         "y": [
          35,
          35
         ]
        },
        {
         "line": {
          "color": "#66BAE7",
          "width": 2
         },
         "mode": "lines",
         "showlegend": false,
         "type": "scatter",
         "x": [
          0.12275636341694318,
          0.14097121479343966
         ],
         "y": [
          34,
          34
         ]
        },
        {
         "line": {
          "color": "#66BAE7",
          "width": 2
         },
         "mode": "lines",
         "showlegend": false,
         "type": "scatter",
         "x": [
          0.1226687851010298,
          0.12534172498246723
         ],
         "y": [
          33,
          33
         ]
        },
        {
         "line": {
          "color": "#66BAE7",
          "width": 2
         },
         "mode": "lines",
         "showlegend": false,
         "type": "scatter",
         "x": [
          0.12243900627052554,
          0.148729901465339
         ],
         "y": [
          32,
          32
         ]
        },
        {
         "line": {
          "color": "#66BAE7",
          "width": 2
         },
         "mode": "lines",
         "showlegend": false,
         "type": "scatter",
         "x": [
          0.12222982334306005,
          0.13915827284444648
         ],
         "y": [
          31,
          31
         ]
        },
        {
         "line": {
          "color": "#66BAE7",
          "width": 2
         },
         "mode": "lines",
         "showlegend": false,
         "type": "scatter",
         "x": [
          0.12187972070535749,
          0.12763774820957902
         ],
         "y": [
          30,
          30
         ]
        },
        {
         "line": {
          "color": "#66BAE7",
          "width": 2
         },
         "mode": "lines",
         "showlegend": false,
         "type": "scatter",
         "x": [
          0.12163141490929025,
          0.13381814709767667
         ],
         "y": [
          29,
          29
         ]
        },
        {
         "line": {
          "color": "#66BAE7",
          "width": 2
         },
         "mode": "lines",
         "showlegend": false,
         "type": "scatter",
         "x": [
          0.12123454317294981,
          0.143898793534269
         ],
         "y": [
          28,
          28
         ]
        },
        {
         "line": {
          "color": "#66BAE7",
          "width": 2
         },
         "mode": "lines",
         "showlegend": false,
         "type": "scatter",
         "x": [
          0.12049943241693391,
          0.125950267850158
         ],
         "y": [
          27,
          27
         ]
        },
        {
         "line": {
          "color": "#66BAE7",
          "width": 2
         },
         "mode": "lines",
         "showlegend": false,
         "type": "scatter",
         "x": [
          0.12021715241766655,
          0.16355551854217304
         ],
         "y": [
          26,
          26
         ]
        },
        {
         "line": {
          "color": "#66BAE7",
          "width": 2
         },
         "mode": "lines",
         "showlegend": false,
         "type": "scatter",
         "x": [
          0.11809040625764491,
          0.13339641936454524
         ],
         "y": [
          25,
          25
         ]
        },
        {
         "line": {
          "color": "#66BAE7",
          "width": 2
         },
         "mode": "lines",
         "showlegend": false,
         "type": "scatter",
         "x": [
          0.11656861606993264,
          0.11933158530663096
         ],
         "y": [
          24,
          24
         ]
        },
        {
         "line": {
          "color": "#66BAE7",
          "width": 2
         },
         "mode": "lines",
         "showlegend": false,
         "type": "scatter",
         "x": [
          0.11567213568117414,
          0.16457891609349098
         ],
         "y": [
          23,
          23
         ]
        },
        {
         "line": {
          "color": "#66BAE7",
          "width": 2
         },
         "mode": "lines",
         "showlegend": false,
         "type": "scatter",
         "x": [
          0.11525559202998635,
          0.11987126077688132
         ],
         "y": [
          22,
          22
         ]
        },
        {
         "line": {
          "color": "#66BAE7",
          "width": 2
         },
         "mode": "lines",
         "showlegend": false,
         "type": "scatter",
         "x": [
          0.1144957626082298,
          0.11615488013674047
         ],
         "y": [
          21,
          21
         ]
        },
        {
         "line": {
          "color": "#66BAE7",
          "width": 2
         },
         "mode": "lines",
         "showlegend": false,
         "type": "scatter",
         "x": [
          0.11348682591005944,
          0.1619102264887012
         ],
         "y": [
          20,
          20
         ]
        },
        {
         "line": {
          "color": "#66BAE7",
          "width": 2
         },
         "mode": "lines",
         "showlegend": false,
         "type": "scatter",
         "x": [
          0.11323011347387173,
          0.1328966479831314
         ],
         "y": [
          19,
          19
         ]
        },
        {
         "line": {
          "color": "#66BAE7",
          "width": 2
         },
         "mode": "lines",
         "showlegend": false,
         "type": "scatter",
         "x": [
          0.11288225289364653,
          0.12085305384698729
         ],
         "y": [
          18,
          18
         ]
        },
        {
         "line": {
          "color": "#66BAE7",
          "width": 2
         },
         "mode": "lines",
         "showlegend": false,
         "type": "scatter",
         "x": [
          0.11264071767979289,
          0.15586151363900722
         ],
         "y": [
          17,
          17
         ]
        },
        {
         "line": {
          "color": "#66BAE7",
          "width": 2
         },
         "mode": "lines",
         "showlegend": false,
         "type": "scatter",
         "x": [
          0.11207895953421262,
          0.14072715657294557
         ],
         "y": [
          16,
          16
         ]
        },
        {
         "line": {
          "color": "#66BAE7",
          "width": 2
         },
         "mode": "lines",
         "showlegend": false,
         "type": "scatter",
         "x": [
          0.11133070948197624,
          0.1271903451811848
         ],
         "y": [
          15,
          15
         ]
        },
        {
         "line": {
          "color": "#66BAE7",
          "width": 2
         },
         "mode": "lines",
         "showlegend": false,
         "type": "scatter",
         "x": [
          0.11127717651689403,
          0.17384424102576465
         ],
         "y": [
          14,
          14
         ]
        },
        {
         "line": {
          "color": "#66BAE7",
          "width": 2
         },
         "mode": "lines",
         "showlegend": false,
         "type": "scatter",
         "x": [
          0.11088613975446593,
          0.12130579805334878
         ],
         "y": [
          13,
          13
         ]
        },
        {
         "line": {
          "color": "#66BAE7",
          "width": 2
         },
         "mode": "lines",
         "showlegend": false,
         "type": "scatter",
         "x": [
          0.10837443962303174,
          0.14469983745531378
         ],
         "y": [
          12,
          12
         ]
        },
        {
         "line": {
          "color": "#66BAE7",
          "width": 2
         },
         "mode": "lines",
         "showlegend": false,
         "type": "scatter",
         "x": [
          0.10836590660206874,
          0.12401227736048527
         ],
         "y": [
          11,
          11
         ]
        },
        {
         "line": {
          "color": "#66BAE7",
          "width": 2
         },
         "mode": "lines",
         "showlegend": false,
         "type": "scatter",
         "x": [
          0.1082416008636843,
          0.1344002832141876
         ],
         "y": [
          10,
          10
         ]
        },
        {
         "line": {
          "color": "#66BAE7",
          "width": 2
         },
         "mode": "lines",
         "showlegend": false,
         "type": "scatter",
         "x": [
          0.10613821385278649,
          0.11642502392905295
         ],
         "y": [
          9,
          9
         ]
        },
        {
         "line": {
          "color": "#66BAE7",
          "width": 2
         },
         "mode": "lines",
         "showlegend": false,
         "type": "scatter",
         "x": [
          0.10157237328957167,
          0.13540767058528222
         ],
         "y": [
          8,
          8
         ]
        },
        {
         "line": {
          "color": "#66BAE7",
          "width": 2
         },
         "mode": "lines",
         "showlegend": false,
         "type": "scatter",
         "x": [
          0.10140328381712797,
          0.1142058210250996
         ],
         "y": [
          7,
          7
         ]
        },
        {
         "line": {
          "color": "#66BAE7",
          "width": 2
         },
         "mode": "lines",
         "showlegend": false,
         "type": "scatter",
         "x": [
          0.10110819249968457,
          0.1202445252650789
         ],
         "y": [
          6,
          6
         ]
        },
        {
         "line": {
          "color": "#66BAE7",
          "width": 2
         },
         "mode": "lines",
         "showlegend": false,
         "type": "scatter",
         "x": [
          0.09785703398952687,
          0.10508859721163541
         ],
         "y": [
          5,
          5
         ]
        },
        {
         "line": {
          "color": "#66BAE7",
          "width": 2
         },
         "mode": "lines",
         "showlegend": false,
         "type": "scatter",
         "x": [
          0.0948131900971978,
          0.10148833786642657
         ],
         "y": [
          4,
          4
         ]
        },
        {
         "line": {
          "color": "#66BAE7",
          "width": 2
         },
         "mode": "lines",
         "showlegend": false,
         "type": "scatter",
         "x": [
          0.08951740870363722,
          0.10101785899268206
         ],
         "y": [
          3,
          3
         ]
        },
        {
         "line": {
          "color": "#66BAE7",
          "width": 2
         },
         "mode": "lines",
         "showlegend": false,
         "type": "scatter",
         "x": [
          0.08749071219808124,
          0.08914472835282147
         ],
         "y": [
          2,
          2
         ]
        },
        {
         "line": {
          "color": "#66BAE7",
          "width": 2
         },
         "mode": "lines",
         "name": "Dimension 1",
         "type": "scatter",
         "x": [
          0.075476704535997,
          0.07644176303407106
         ],
         "y": [
          1,
          1
         ]
        }
       ],
       "frames": [],
       "layout": {
        "margin": {
         "b": 50,
         "l": 50,
         "r": 50,
         "t": 60
        },
        "xaxis": {
         "rangevar": [
          -0.001,
          0.30651063581269145
         ],
         "showgrid": false,
         "title": "ϵ",
         "zeroline": false
        },
        "yaxis": {
         "rangevar": [
          0,
          229.1
         ],
         "showgrid": false,
         "ticks": false
        }
       }
      },
      "application/vnd.webio.node+json": {
       "children": [
        {
         "children": [],
         "instanceArgs": {
          "namespace": "html",
          "tag": "div"
         },
         "nodeType": "DOM",
         "props": {
          "id": "plot-b329c6c8-80e7-40fd-9279-883c9f6c4fbb"
         },
         "type": "node"
        }
       ],
       "instanceArgs": {
        "handlers": {
         "__get_gd_contents": [
          "(function (prop){prop==\"data\" ? (WebIO.setval({\"name\":\"__gd_contents\",\"scope\":\"11765041732573395145\",\"id\":\"6377911703734446842\",\"type\":\"observable\"},this.plotElem.data)) : undefined; return prop==\"layout\" ? (WebIO.setval({\"name\":\"__gd_contents\",\"scope\":\"11765041732573395145\",\"id\":\"6377911703734446842\",\"type\":\"observable\"},this.plotElem.layout)) : undefined})"
         ],
         "_commands": [
          "(function (args){var fn=args.shift(); var elem=this.plotElem; var Plotly=this.Plotly; args.unshift(elem); return Plotly[fn].apply(this,args)})"
         ],
         "_downloadImage": [
          "(function (options){return this.Plotly.downloadImage(this.plotElem,options)})"
         ],
         "_toImage": [
          "(function (options){return this.Plotly.toImage(this.plotElem,options).then((function (data){return WebIO.setval({\"name\":\"image\",\"scope\":\"11765041732573395145\",\"id\":\"12183557152359155106\",\"type\":\"observable\"},data)}))})"
         ]
        },
        "id": "11765041732573395145",
        "imports": {
         "data": [
          {
           "name": "Plotly",
           "type": "js",
           "url": "/assetserver/0011d14de576c55f77111628d5a39fcc5762f320-plotly.min.js"
          },
          {
           "name": null,
           "type": "js",
           "url": "/assetserver/52365f0a3f606733873c2a55bbe1584aba3b706c-plotly_webio.bundle.js"
          }
         ],
         "type": "async_block"
        },
        "mount_callbacks": [
         "function () {\n    var handler = ((function (Plotly,PlotlyWebIO){PlotlyWebIO.init(WebIO); var gd=this.dom.querySelector(\"#plot-b329c6c8-80e7-40fd-9279-883c9f6c4fbb\"); this.plotElem=gd; this.Plotly=Plotly; (window.Blink!==undefined) ? (gd.style.width=\"100%\", gd.style.height=\"100vh\", gd.style.marginLeft=\"0%\", gd.style.marginTop=\"0vh\") : undefined; window.onresize=(function (){return Plotly.Plots.resize(gd)}); Plotly.newPlot(gd,[{\"showlegend\":false,\"mode\":\"lines\",\"line\":{\"color\":\"#66BAE7\",\"width\":2},\"y\":[229,229],\"type\":\"scatter\",\"x\":[0.28317875057192565,0.30551063581269144]},{\"showlegend\":false,\"mode\":\"lines\",\"line\":{\"color\":\"#66BAE7\",\"width\":2},\"y\":[228,228],\"type\":\"scatter\",\"x\":[0.2774207117892357,0.28485566639106924]},{\"showlegend\":false,\"mode\":\"lines\",\"line\":{\"color\":\"#66BAE7\",\"width\":2},\"y\":[227,227],\"type\":\"scatter\",\"x\":[0.23993744789192428,0.2729808778507308]},{\"showlegend\":false,\"mode\":\"lines\",\"line\":{\"color\":\"#66BAE7\",\"width\":2},\"y\":[226,226],\"type\":\"scatter\",\"x\":[0.23308788010423548,0.23436067036524105]},{\"showlegend\":false,\"mode\":\"lines\",\"line\":{\"color\":\"#66BAE7\",\"width\":2},\"y\":[225,225],\"type\":\"scatter\",\"x\":[0.20701097410653416,0.21124244679061588]},{\"showlegend\":false,\"mode\":\"lines\",\"line\":{\"color\":\"#66BAE7\",\"width\":2},\"y\":[224,224],\"type\":\"scatter\",\"x\":[0.2033233538859565,0.20491422387770614]},{\"showlegend\":false,\"mode\":\"lines\",\"line\":{\"color\":\"#66BAE7\",\"width\":2},\"y\":[223,223],\"type\":\"scatter\",\"x\":[0.19674996955844956,0.22105506219027912]},{\"showlegend\":false,\"mode\":\"lines\",\"line\":{\"color\":\"#66BAE7\",\"width\":2},\"y\":[222,222],\"type\":\"scatter\",\"x\":[0.19465093200521744,0.22187734221566674]},{\"showlegend\":false,\"mode\":\"lines\",\"line\":{\"color\":\"#66BAE7\",\"width\":2},\"y\":[221,221],\"type\":\"scatter\",\"x\":[0.19456704647909184,0.2126198409608246]},{\"showlegend\":false,\"mode\":\"lines\",\"line\":{\"color\":\"#66BAE7\",\"width\":2},\"y\":[220,220],\"type\":\"scatter\",\"x\":[0.19400920320369502,0.2072186612353782]},{\"showlegend\":false,\"mode\":\"lines\",\"line\":{\"color\":\"#66BAE7\",\"width\":2},\"y\":[219,219],\"type\":\"scatter\",\"x\":[0.19082593068995404,0.22881073930865678]},{\"showlegend\":false,\"mode\":\"lines\",\"line\":{\"color\":\"#66BAE7\",\"width\":2},\"y\":[218,218],\"type\":\"scatter\",\"x\":[0.18973487384181542,0.190328310329506]},{\"showlegend\":false,\"mode\":\"lines\",\"line\":{\"color\":\"#66BAE7\",\"width\":2},\"y\":[217,217],\"type\":\"scatter\",\"x\":[0.18642737283564126,0.23526097483920066]},{\"showlegend\":false,\"mode\":\"lines\",\"line\":{\"color\":\"#66BAE7\",\"width\":2},\"y\":[216,216],\"type\":\"scatter\",\"x\":[0.18396490330026335,0.18660272401352132]},{\"showlegend\":false,\"mode\":\"lines\",\"line\":{\"color\":\"#66BAE7\",\"width\":2},\"y\":[215,215],\"type\":\"scatter\",\"x\":[0.1828001149955212,0.185737337637339]},{\"showlegend\":false,\"mode\":\"lines\",\"line\":{\"color\":\"#66BAE7\",\"width\":2},\"y\":[214,214],\"type\":\"scatter\",\"x\":[0.1826417840385567,0.2627507263708123]},{\"showlegend\":false,\"mode\":\"lines\",\"line\":{\"color\":\"#66BAE7\",\"width\":2},\"y\":[213,213],\"type\":\"scatter\",\"x\":[0.18251898247714854,0.198136433513521]},{\"showlegend\":false,\"mode\":\"lines\",\"line\":{\"color\":\"#66BAE7\",\"width\":2},\"y\":[212,212],\"type\":\"scatter\",\"x\":[0.18066577557512575,0.19031288045452727]},{\"showlegend\":false,\"mode\":\"lines\",\"line\":{\"color\":\"#66BAE7\",\"width\":2},\"y\":[211,211],\"type\":\"scatter\",\"x\":[0.1788904000853743,0.22766732896417188]},{\"showlegend\":false,\"mode\":\"lines\",\"line\":{\"color\":\"#66BAE7\",\"width\":2},\"y\":[210,210],\"type\":\"scatter\",\"x\":[0.17802163986649508,0.20203466381544927]},{\"showlegend\":false,\"mode\":\"lines\",\"line\":{\"color\":\"#66BAE7\",\"width\":2},\"y\":[209,209],\"type\":\"scatter\",\"x\":[0.1779888064038573,0.18935986812610847]},{\"showlegend\":false,\"mode\":\"lines\",\"line\":{\"color\":\"#66BAE7\",\"width\":2},\"y\":[208,208],\"type\":\"scatter\",\"x\":[0.17753333428917167,0.20944238276040214]},{\"showlegend\":false,\"mode\":\"lines\",\"line\":{\"color\":\"#66BAE7\",\"width\":2},\"y\":[207,207],\"type\":\"scatter\",\"x\":[0.17711365596424644,0.21855061252635496]},{\"showlegend\":false,\"mode\":\"lines\",\"line\":{\"color\":\"#66BAE7\",\"width\":2},\"y\":[206,206],\"type\":\"scatter\",\"x\":[0.17658795312847436,0.18306084235736014]},{\"showlegend\":false,\"mode\":\"lines\",\"line\":{\"color\":\"#66BAE7\",\"width\":2},\"y\":[205,205],\"type\":\"scatter\",\"x\":[0.17635966118369756,0.20871064143637222]},{\"showlegend\":false,\"mode\":\"lines\",\"line\":{\"color\":\"#66BAE7\",\"width\":2},\"y\":[204,204],\"type\":\"scatter\",\"x\":[0.17579066781138594,0.19774233390887538]},{\"showlegend\":false,\"mode\":\"lines\",\"line\":{\"color\":\"#66BAE7\",\"width\":2},\"y\":[203,203],\"type\":\"scatter\",\"x\":[0.17578919762092785,0.19327342709623596]},{\"showlegend\":false,\"mode\":\"lines\",\"line\":{\"color\":\"#66BAE7\",\"width\":2},\"y\":[202,202],\"type\":\"scatter\",\"x\":[0.17467358923119938,0.19442946701269045]},{\"showlegend\":false,\"mode\":\"lines\",\"line\":{\"color\":\"#66BAE7\",\"width\":2},\"y\":[201,201],\"type\":\"scatter\",\"x\":[0.17258450695453945,0.19558612938573766]},{\"showlegend\":false,\"mode\":\"lines\",\"line\":{\"color\":\"#66BAE7\",\"width\":2},\"y\":[200,200],\"type\":\"scatter\",\"x\":[0.17209189846154124,0.1768555421816465]},{\"showlegend\":false,\"mode\":\"lines\",\"line\":{\"color\":\"#66BAE7\",\"width\":2},\"y\":[199,199],\"type\":\"scatter\",\"x\":[0.17035301933938737,0.1974858342280467]},{\"showlegend\":false,\"mode\":\"lines\",\"line\":{\"color\":\"#66BAE7\",\"width\":2},\"y\":[198,198],\"type\":\"scatter\",\"x\":[0.16976223277742494,0.19242270244259865]},{\"showlegend\":false,\"mode\":\"lines\",\"line\":{\"color\":\"#66BAE7\",\"width\":2},\"y\":[197,197],\"type\":\"scatter\",\"x\":[0.1694644892697707,0.17069071481882114]},{\"showlegend\":false,\"mode\":\"lines\",\"line\":{\"color\":\"#66BAE7\",\"width\":2},\"y\":[196,196],\"type\":\"scatter\",\"x\":[0.1690247688132906,0.17710791827584269]},{\"showlegend\":false,\"mode\":\"lines\",\"line\":{\"color\":\"#66BAE7\",\"width\":2},\"y\":[195,195],\"type\":\"scatter\",\"x\":[0.16841709381369577,0.2077310020881373]},{\"showlegend\":false,\"mode\":\"lines\",\"line\":{\"color\":\"#66BAE7\",\"width\":2},\"y\":[194,194],\"type\":\"scatter\",\"x\":[0.1678411452096696,0.1728779419288258]},{\"showlegend\":false,\"mode\":\"lines\",\"line\":{\"color\":\"#66BAE7\",\"width\":2},\"y\":[193,193],\"type\":\"scatter\",\"x\":[0.16683275382504856,0.1940419842221887]},{\"showlegend\":false,\"mode\":\"lines\",\"line\":{\"color\":\"#66BAE7\",\"width\":2},\"y\":[192,192],\"type\":\"scatter\",\"x\":[0.16627215162968656,0.17313523152926605]},{\"showlegend\":false,\"mode\":\"lines\",\"line\":{\"color\":\"#66BAE7\",\"width\":2},\"y\":[191,191],\"type\":\"scatter\",\"x\":[0.1661797756984218,0.19747976712819898]},{\"showlegend\":false,\"mode\":\"lines\",\"line\":{\"color\":\"#66BAE7\",\"width\":2},\"y\":[190,190],\"type\":\"scatter\",\"x\":[0.1661626245835892,0.19195597595405178]},{\"showlegend\":false,\"mode\":\"lines\",\"line\":{\"color\":\"#66BAE7\",\"width\":2},\"y\":[189,189],\"type\":\"scatter\",\"x\":[0.16580720683461098,0.1881199832477711]},{\"showlegend\":false,\"mode\":\"lines\",\"line\":{\"color\":\"#66BAE7\",\"width\":2},\"y\":[188,188],\"type\":\"scatter\",\"x\":[0.1656314516477453,0.1673760327510531]},{\"showlegend\":false,\"mode\":\"lines\",\"line\":{\"color\":\"#66BAE7\",\"width\":2},\"y\":[187,187],\"type\":\"scatter\",\"x\":[0.16558517631352582,0.17605986952534922]},{\"showlegend\":false,\"mode\":\"lines\",\"line\":{\"color\":\"#66BAE7\",\"width\":2},\"y\":[186,186],\"type\":\"scatter\",\"x\":[0.16556660399559828,0.16825941897136745]},{\"showlegend\":false,\"mode\":\"lines\",\"line\":{\"color\":\"#66BAE7\",\"width\":2},\"y\":[185,185],\"type\":\"scatter\",\"x\":[0.1654765401240227,0.1729846630408967]},{\"showlegend\":false,\"mode\":\"lines\",\"line\":{\"color\":\"#66BAE7\",\"width\":2},\"y\":[184,184],\"type\":\"scatter\",\"x\":[0.16536058274188675,0.17959655602608418]},{\"showlegend\":false,\"mode\":\"lines\",\"line\":{\"color\":\"#66BAE7\",\"width\":2},\"y\":[183,183],\"type\":\"scatter\",\"x\":[0.16520805869857336,0.16739112371598294]},{\"showlegend\":false,\"mode\":\"lines\",\"line\":{\"color\":\"#66BAE7\",\"width\":2},\"y\":[182,182],\"type\":\"scatter\",\"x\":[0.164634484906685,0.16871013377170924]},{\"showlegend\":false,\"mode\":\"lines\",\"line\":{\"color\":\"#66BAE7\",\"width\":2},\"y\":[181,181],\"type\":\"scatter\",\"x\":[0.16381031265656762,0.21798666998489405]},{\"showlegend\":false,\"mode\":\"lines\",\"line\":{\"color\":\"#66BAE7\",\"width\":2},\"y\":[180,180],\"type\":\"scatter\",\"x\":[0.16360625948160715,0.17467621940258296]},{\"showlegend\":false,\"mode\":\"lines\",\"line\":{\"color\":\"#66BAE7\",\"width\":2},\"y\":[179,179],\"type\":\"scatter\",\"x\":[0.16343258860023638,0.2042304437251137]},{\"showlegend\":false,\"mode\":\"lines\",\"line\":{\"color\":\"#66BAE7\",\"width\":2},\"y\":[178,178],\"type\":\"scatter\",\"x\":[0.16341216721638965,0.1752015289284202]},{\"showlegend\":false,\"mode\":\"lines\",\"line\":{\"color\":\"#66BAE7\",\"width\":2},\"y\":[177,177],\"type\":\"scatter\",\"x\":[0.16284968374303202,0.23476555734497612]},{\"showlegend\":false,\"mode\":\"lines\",\"line\":{\"color\":\"#66BAE7\",\"width\":2},\"y\":[176,176],\"type\":\"scatter\",\"x\":[0.1623990189324045,0.16510914612938388]},{\"showlegend\":false,\"mode\":\"lines\",\"line\":{\"color\":\"#66BAE7\",\"width\":2},\"y\":[175,175],\"type\":\"scatter\",\"x\":[0.1619752199176944,0.17215381076400524]},{\"showlegend\":false,\"mode\":\"lines\",\"line\":{\"color\":\"#66BAE7\",\"width\":2},\"y\":[174,174],\"type\":\"scatter\",\"x\":[0.16182194024889052,0.16697904625840188]},{\"showlegend\":false,\"mode\":\"lines\",\"line\":{\"color\":\"#66BAE7\",\"width\":2},\"y\":[173,173],\"type\":\"scatter\",\"x\":[0.16179152478860565,0.16461218528937704]},{\"showlegend\":false,\"mode\":\"lines\",\"line\":{\"color\":\"#66BAE7\",\"width\":2},\"y\":[172,172],\"type\":\"scatter\",\"x\":[0.16164856059804034,0.17675527277519432]},{\"showlegend\":false,\"mode\":\"lines\",\"line\":{\"color\":\"#66BAE7\",\"width\":2},\"y\":[171,171],\"type\":\"scatter\",\"x\":[0.16084050326801802,0.16897142130059042]},{\"showlegend\":false,\"mode\":\"lines\",\"line\":{\"color\":\"#66BAE7\",\"width\":2},\"y\":[170,170],\"type\":\"scatter\",\"x\":[0.1602238030190192,0.16881125517306875]},{\"showlegend\":false,\"mode\":\"lines\",\"line\":{\"color\":\"#66BAE7\",\"width\":2},\"y\":[169,169],\"type\":\"scatter\",\"x\":[0.1599805602331007,0.19383607552708387]},{\"showlegend\":false,\"mode\":\"lines\",\"line\":{\"color\":\"#66BAE7\",\"width\":2},\"y\":[168,168],\"type\":\"scatter\",\"x\":[0.15986706002824588,0.20435950443265227]},{\"showlegend\":false,\"mode\":\"lines\",\"line\":{\"color\":\"#66BAE7\",\"width\":2},\"y\":[167,167],\"type\":\"scatter\",\"x\":[0.15964740902984398,0.16452194478550433]},{\"showlegend\":false,\"mode\":\"lines\",\"line\":{\"color\":\"#66BAE7\",\"width\":2},\"y\":[166,166],\"type\":\"scatter\",\"x\":[0.15959975858421774,0.20396148233932276]},{\"showlegend\":false,\"mode\":\"lines\",\"line\":{\"color\":\"#66BAE7\",\"width\":2},\"y\":[165,165],\"type\":\"scatter\",\"x\":[0.15952173587056687,0.16681492278319124]},{\"showlegend\":false,\"mode\":\"lines\",\"line\":{\"color\":\"#66BAE7\",\"width\":2},\"y\":[164,164],\"type\":\"scatter\",\"x\":[0.15935040074643012,0.17584853224983002]},{\"showlegend\":false,\"mode\":\"lines\",\"line\":{\"color\":\"#66BAE7\",\"width\":2},\"y\":[163,163],\"type\":\"scatter\",\"x\":[0.15919893041923358,0.15963794177589405]},{\"showlegend\":false,\"mode\":\"lines\",\"line\":{\"color\":\"#66BAE7\",\"width\":2},\"y\":[162,162],\"type\":\"scatter\",\"x\":[0.15899680350944467,0.21590448266488807]},{\"showlegend\":false,\"mode\":\"lines\",\"line\":{\"color\":\"#66BAE7\",\"width\":2},\"y\":[161,161],\"type\":\"scatter\",\"x\":[0.15830136609461798,0.1782333607087155]},{\"showlegend\":false,\"mode\":\"lines\",\"line\":{\"color\":\"#66BAE7\",\"width\":2},\"y\":[160,160],\"type\":\"scatter\",\"x\":[0.1575838761401593,0.17850447835982525]},{\"showlegend\":false,\"mode\":\"lines\",\"line\":{\"color\":\"#66BAE7\",\"width\":2},\"y\":[159,159],\"type\":\"scatter\",\"x\":[0.15661869300377637,0.1695195596115737]},{\"showlegend\":false,\"mode\":\"lines\",\"line\":{\"color\":\"#66BAE7\",\"width\":2},\"y\":[158,158],\"type\":\"scatter\",\"x\":[0.15653151402522397,0.1760429169447561]},{\"showlegend\":false,\"mode\":\"lines\",\"line\":{\"color\":\"#66BAE7\",\"width\":2},\"y\":[157,157],\"type\":\"scatter\",\"x\":[0.15530946691150915,0.15690296925703334]},{\"showlegend\":false,\"mode\":\"lines\",\"line\":{\"color\":\"#66BAE7\",\"width\":2},\"y\":[156,156],\"type\":\"scatter\",\"x\":[0.15512236874932056,0.19394453374950565]},{\"showlegend\":false,\"mode\":\"lines\",\"line\":{\"color\":\"#66BAE7\",\"width\":2},\"y\":[155,155],\"type\":\"scatter\",\"x\":[0.15469763045167617,0.1656321819244199]},{\"showlegend\":false,\"mode\":\"lines\",\"line\":{\"color\":\"#66BAE7\",\"width\":2},\"y\":[154,154],\"type\":\"scatter\",\"x\":[0.15428078373722745,0.17552523308023604]},{\"showlegend\":false,\"mode\":\"lines\",\"line\":{\"color\":\"#66BAE7\",\"width\":2},\"y\":[153,153],\"type\":\"scatter\",\"x\":[0.15415487264590205,0.20536692132136283]},{\"showlegend\":false,\"mode\":\"lines\",\"line\":{\"color\":\"#66BAE7\",\"width\":2},\"y\":[152,152],\"type\":\"scatter\",\"x\":[0.15383565585632086,0.1598969737677747]},{\"showlegend\":false,\"mode\":\"lines\",\"line\":{\"color\":\"#66BAE7\",\"width\":2},\"y\":[151,151],\"type\":\"scatter\",\"x\":[0.15376571038103717,0.17582831445522615]},{\"showlegend\":false,\"mode\":\"lines\",\"line\":{\"color\":\"#66BAE7\",\"width\":2},\"y\":[150,150],\"type\":\"scatter\",\"x\":[0.15328622144269657,0.19900118355525567]},{\"showlegend\":false,\"mode\":\"lines\",\"line\":{\"color\":\"#66BAE7\",\"width\":2},\"y\":[149,149],\"type\":\"scatter\",\"x\":[0.1532195186978688,0.1545791484056455]},{\"showlegend\":false,\"mode\":\"lines\",\"line\":{\"color\":\"#66BAE7\",\"width\":2},\"y\":[148,148],\"type\":\"scatter\",\"x\":[0.15302546670856543,0.23027459520471832]},{\"showlegend\":false,\"mode\":\"lines\",\"line\":{\"color\":\"#66BAE7\",\"width\":2},\"y\":[147,147],\"type\":\"scatter\",\"x\":[0.15284457623103517,0.1596913078530542]},{\"showlegend\":false,\"mode\":\"lines\",\"line\":{\"color\":\"#66BAE7\",\"width\":2},\"y\":[146,146],\"type\":\"scatter\",\"x\":[0.15226699008969125,0.18811634379196476]},{\"showlegend\":false,\"mode\":\"lines\",\"line\":{\"color\":\"#66BAE7\",\"width\":2},\"y\":[145,145],\"type\":\"scatter\",\"x\":[0.15172615298674724,0.15664086390042475]},{\"showlegend\":false,\"mode\":\"lines\",\"line\":{\"color\":\"#66BAE7\",\"width\":2},\"y\":[144,144],\"type\":\"scatter\",\"x\":[0.1506806670347921,0.16680519626637014]},{\"showlegend\":false,\"mode\":\"lines\",\"line\":{\"color\":\"#66BAE7\",\"width\":2},\"y\":[143,143],\"type\":\"scatter\",\"x\":[0.15045410978044266,0.17628378374014383]},{\"showlegend\":false,\"mode\":\"lines\",\"line\":{\"color\":\"#66BAE7\",\"width\":2},\"y\":[142,142],\"type\":\"scatter\",\"x\":[0.1498047921883162,0.1914049106253114]},{\"showlegend\":false,\"mode\":\"lines\",\"line\":{\"color\":\"#66BAE7\",\"width\":2},\"y\":[141,141],\"type\":\"scatter\",\"x\":[0.1497365039743378,0.16172186053637067]},{\"showlegend\":false,\"mode\":\"lines\",\"line\":{\"color\":\"#66BAE7\",\"width\":2},\"y\":[140,140],\"type\":\"scatter\",\"x\":[0.14963735870767622,0.17072451202760233]},{\"showlegend\":false,\"mode\":\"lines\",\"line\":{\"color\":\"#66BAE7\",\"width\":2},\"y\":[139,139],\"type\":\"scatter\",\"x\":[0.14952498863991262,0.169309223210746]},{\"showlegend\":false,\"mode\":\"lines\",\"line\":{\"color\":\"#66BAE7\",\"width\":2},\"y\":[138,138],\"type\":\"scatter\",\"x\":[0.1493946497573598,0.15581272251251954]},{\"showlegend\":false,\"mode\":\"lines\",\"line\":{\"color\":\"#66BAE7\",\"width\":2},\"y\":[137,137],\"type\":\"scatter\",\"x\":[0.14909393802683465,0.17534834987080114]},{\"showlegend\":false,\"mode\":\"lines\",\"line\":{\"color\":\"#66BAE7\",\"width\":2},\"y\":[136,136],\"type\":\"scatter\",\"x\":[0.14838741867025473,0.14846303047769688]},{\"showlegend\":false,\"mode\":\"lines\",\"line\":{\"color\":\"#66BAE7\",\"width\":2},\"y\":[135,135],\"type\":\"scatter\",\"x\":[0.1483802913334642,0.16102582690296974]},{\"showlegend\":false,\"mode\":\"lines\",\"line\":{\"color\":\"#66BAE7\",\"width\":2},\"y\":[134,134],\"type\":\"scatter\",\"x\":[0.14808716899459745,0.1845344754222224]},{\"showlegend\":false,\"mode\":\"lines\",\"line\":{\"color\":\"#66BAE7\",\"width\":2},\"y\":[133,133],\"type\":\"scatter\",\"x\":[0.14804541127978013,0.21618915414095657]},{\"showlegend\":false,\"mode\":\"lines\",\"line\":{\"color\":\"#66BAE7\",\"width\":2},\"y\":[132,132],\"type\":\"scatter\",\"x\":[0.14788835748510623,0.18610398461437916]},{\"showlegend\":false,\"mode\":\"lines\",\"line\":{\"color\":\"#66BAE7\",\"width\":2},\"y\":[131,131],\"type\":\"scatter\",\"x\":[0.14776037063897574,0.1546236491496904]},{\"showlegend\":false,\"mode\":\"lines\",\"line\":{\"color\":\"#66BAE7\",\"width\":2},\"y\":[130,130],\"type\":\"scatter\",\"x\":[0.14768668473943186,0.16128623132222691]},{\"showlegend\":false,\"mode\":\"lines\",\"line\":{\"color\":\"#66BAE7\",\"width\":2},\"y\":[129,129],\"type\":\"scatter\",\"x\":[0.14723692460939766,0.17744187233759362]},{\"showlegend\":false,\"mode\":\"lines\",\"line\":{\"color\":\"#66BAE7\",\"width\":2},\"y\":[128,128],\"type\":\"scatter\",\"x\":[0.14714860114218303,0.16099264510785657]},{\"showlegend\":false,\"mode\":\"lines\",\"line\":{\"color\":\"#66BAE7\",\"width\":2},\"y\":[127,127],\"type\":\"scatter\",\"x\":[0.1467374209651057,0.17837010513669055]},{\"showlegend\":false,\"mode\":\"lines\",\"line\":{\"color\":\"#66BAE7\",\"width\":2},\"y\":[126,126],\"type\":\"scatter\",\"x\":[0.14574157632236112,0.18805743046275566]},{\"showlegend\":false,\"mode\":\"lines\",\"line\":{\"color\":\"#66BAE7\",\"width\":2},\"y\":[125,125],\"type\":\"scatter\",\"x\":[0.14539817190085932,0.14933303555773988]},{\"showlegend\":false,\"mode\":\"lines\",\"line\":{\"color\":\"#66BAE7\",\"width\":2},\"y\":[124,124],\"type\":\"scatter\",\"x\":[0.14539157487963134,0.1462235024394821]},{\"showlegend\":false,\"mode\":\"lines\",\"line\":{\"color\":\"#66BAE7\",\"width\":2},\"y\":[123,123],\"type\":\"scatter\",\"x\":[0.14530966815780139,0.14843636975606572]},{\"showlegend\":false,\"mode\":\"lines\",\"line\":{\"color\":\"#66BAE7\",\"width\":2},\"y\":[122,122],\"type\":\"scatter\",\"x\":[0.14521399911011984,0.16802953183568842]},{\"showlegend\":false,\"mode\":\"lines\",\"line\":{\"color\":\"#66BAE7\",\"width\":2},\"y\":[121,121],\"type\":\"scatter\",\"x\":[0.1449774117721222,0.15786076774685862]},{\"showlegend\":false,\"mode\":\"lines\",\"line\":{\"color\":\"#66BAE7\",\"width\":2},\"y\":[120,120],\"type\":\"scatter\",\"x\":[0.14474678046004638,0.16072511824707247]},{\"showlegend\":false,\"mode\":\"lines\",\"line\":{\"color\":\"#66BAE7\",\"width\":2},\"y\":[119,119],\"type\":\"scatter\",\"x\":[0.14433700624870954,0.18025224056510453]},{\"showlegend\":false,\"mode\":\"lines\",\"line\":{\"color\":\"#66BAE7\",\"width\":2},\"y\":[118,118],\"type\":\"scatter\",\"x\":[0.144255765252594,0.15698126183538352]},{\"showlegend\":false,\"mode\":\"lines\",\"line\":{\"color\":\"#66BAE7\",\"width\":2},\"y\":[117,117],\"type\":\"scatter\",\"x\":[0.144148904849893,0.19952083880357355]},{\"showlegend\":false,\"mode\":\"lines\",\"line\":{\"color\":\"#66BAE7\",\"width\":2},\"y\":[116,116],\"type\":\"scatter\",\"x\":[0.14365215133852346,0.20443965031390507]},{\"showlegend\":false,\"mode\":\"lines\",\"line\":{\"color\":\"#66BAE7\",\"width\":2},\"y\":[115,115],\"type\":\"scatter\",\"x\":[0.1434120016147882,0.15158992722736045]},{\"showlegend\":false,\"mode\":\"lines\",\"line\":{\"color\":\"#66BAE7\",\"width\":2},\"y\":[114,114],\"type\":\"scatter\",\"x\":[0.14300325913378004,0.1793269014737301]},{\"showlegend\":false,\"mode\":\"lines\",\"line\":{\"color\":\"#66BAE7\",\"width\":2},\"y\":[113,113],\"type\":\"scatter\",\"x\":[0.14290802106738762,0.16893678645779367]},{\"showlegend\":false,\"mode\":\"lines\",\"line\":{\"color\":\"#66BAE7\",\"width\":2},\"y\":[112,112],\"type\":\"scatter\",\"x\":[0.1428334923107202,0.20522395292473541]},{\"showlegend\":false,\"mode\":\"lines\",\"line\":{\"color\":\"#66BAE7\",\"width\":2},\"y\":[111,111],\"type\":\"scatter\",\"x\":[0.14264364447186792,0.2109282592464648]},{\"showlegend\":false,\"mode\":\"lines\",\"line\":{\"color\":\"#66BAE7\",\"width\":2},\"y\":[110,110],\"type\":\"scatter\",\"x\":[0.1422525049142858,0.23966849140201796]},{\"showlegend\":false,\"mode\":\"lines\",\"line\":{\"color\":\"#66BAE7\",\"width\":2},\"y\":[109,109],\"type\":\"scatter\",\"x\":[0.14165831759116077,0.20006791781042643]},{\"showlegend\":false,\"mode\":\"lines\",\"line\":{\"color\":\"#66BAE7\",\"width\":2},\"y\":[108,108],\"type\":\"scatter\",\"x\":[0.14124306745145085,0.15761675413153503]},{\"showlegend\":false,\"mode\":\"lines\",\"line\":{\"color\":\"#66BAE7\",\"width\":2},\"y\":[107,107],\"type\":\"scatter\",\"x\":[0.1410542650441916,0.1660111669419535]},{\"showlegend\":false,\"mode\":\"lines\",\"line\":{\"color\":\"#66BAE7\",\"width\":2},\"y\":[106,106],\"type\":\"scatter\",\"x\":[0.1404967118992541,0.19011064381581078]},{\"showlegend\":false,\"mode\":\"lines\",\"line\":{\"color\":\"#66BAE7\",\"width\":2},\"y\":[105,105],\"type\":\"scatter\",\"x\":[0.14005672592323698,0.19831466505601184]},{\"showlegend\":false,\"mode\":\"lines\",\"line\":{\"color\":\"#66BAE7\",\"width\":2},\"y\":[104,104],\"type\":\"scatter\",\"x\":[0.13875426958161846,0.19300765914115334]},{\"showlegend\":false,\"mode\":\"lines\",\"line\":{\"color\":\"#66BAE7\",\"width\":2},\"y\":[103,103],\"type\":\"scatter\",\"x\":[0.1386777000165037,0.1953262052307183]},{\"showlegend\":false,\"mode\":\"lines\",\"line\":{\"color\":\"#66BAE7\",\"width\":2},\"y\":[102,102],\"type\":\"scatter\",\"x\":[0.1382828322381389,0.16561394200509574]},{\"showlegend\":false,\"mode\":\"lines\",\"line\":{\"color\":\"#66BAE7\",\"width\":2},\"y\":[101,101],\"type\":\"scatter\",\"x\":[0.1381618403068657,0.15444645878208207]},{\"showlegend\":false,\"mode\":\"lines\",\"line\":{\"color\":\"#66BAE7\",\"width\":2},\"y\":[100,100],\"type\":\"scatter\",\"x\":[0.13802705422385955,0.1973790326871647]},{\"showlegend\":false,\"mode\":\"lines\",\"line\":{\"color\":\"#66BAE7\",\"width\":2},\"y\":[99,99],\"type\":\"scatter\",\"x\":[0.13769154483606932,0.15993058453977912]},{\"showlegend\":false,\"mode\":\"lines\",\"line\":{\"color\":\"#66BAE7\",\"width\":2},\"y\":[98,98],\"type\":\"scatter\",\"x\":[0.13733382918367007,0.16644058558168232]},{\"showlegend\":false,\"mode\":\"lines\",\"line\":{\"color\":\"#66BAE7\",\"width\":2},\"y\":[97,97],\"type\":\"scatter\",\"x\":[0.13722052817431796,0.1467688017501907]},{\"showlegend\":false,\"mode\":\"lines\",\"line\":{\"color\":\"#66BAE7\",\"width\":2},\"y\":[96,96],\"type\":\"scatter\",\"x\":[0.13690640943578875,0.14837136493036826]},{\"showlegend\":false,\"mode\":\"lines\",\"line\":{\"color\":\"#66BAE7\",\"width\":2},\"y\":[95,95],\"type\":\"scatter\",\"x\":[0.13674963774755164,0.21695778765179072]},{\"showlegend\":false,\"mode\":\"lines\",\"line\":{\"color\":\"#66BAE7\",\"width\":2},\"y\":[94,94],\"type\":\"scatter\",\"x\":[0.13641651031789462,0.14398142096393748]},{\"showlegend\":false,\"mode\":\"lines\",\"line\":{\"color\":\"#66BAE7\",\"width\":2},\"y\":[93,93],\"type\":\"scatter\",\"x\":[0.13636001488450875,0.1441125483887702]},{\"showlegend\":false,\"mode\":\"lines\",\"line\":{\"color\":\"#66BAE7\",\"width\":2},\"y\":[92,92],\"type\":\"scatter\",\"x\":[0.13574262779649174,0.15475259263649013]},{\"showlegend\":false,\"mode\":\"lines\",\"line\":{\"color\":\"#66BAE7\",\"width\":2},\"y\":[91,91],\"type\":\"scatter\",\"x\":[0.13535281838126373,0.13591723252595464]},{\"showlegend\":false,\"mode\":\"lines\",\"line\":{\"color\":\"#66BAE7\",\"width\":2},\"y\":[90,90],\"type\":\"scatter\",\"x\":[0.1352102697692717,0.19009381121658778]},{\"showlegend\":false,\"mode\":\"lines\",\"line\":{\"color\":\"#66BAE7\",\"width\":2},\"y\":[89,89],\"type\":\"scatter\",\"x\":[0.13514977360430147,0.1457949073987476]},{\"showlegend\":false,\"mode\":\"lines\",\"line\":{\"color\":\"#66BAE7\",\"width\":2},\"y\":[88,88],\"type\":\"scatter\",\"x\":[0.1350526247561067,0.1409797110074864]},{\"showlegend\":false,\"mode\":\"lines\",\"line\":{\"color\":\"#66BAE7\",\"width\":2},\"y\":[87,87],\"type\":\"scatter\",\"x\":[0.13502998618192932,0.16043656277472054]},{\"showlegend\":false,\"mode\":\"lines\",\"line\":{\"color\":\"#66BAE7\",\"width\":2},\"y\":[86,86],\"type\":\"scatter\",\"x\":[0.1348152149670153,0.14164259667324317]},{\"showlegend\":false,\"mode\":\"lines\",\"line\":{\"color\":\"#66BAE7\",\"width\":2},\"y\":[85,85],\"type\":\"scatter\",\"x\":[0.13472143776627038,0.2065694668667904]},{\"showlegend\":false,\"mode\":\"lines\",\"line\":{\"color\":\"#66BAE7\",\"width\":2},\"y\":[84,84],\"type\":\"scatter\",\"x\":[0.13408236111206664,0.13993502063649577]},{\"showlegend\":false,\"mode\":\"lines\",\"line\":{\"color\":\"#66BAE7\",\"width\":2},\"y\":[83,83],\"type\":\"scatter\",\"x\":[0.13386770086437905,0.15175958854799726]},{\"showlegend\":false,\"mode\":\"lines\",\"line\":{\"color\":\"#66BAE7\",\"width\":2},\"y\":[82,82],\"type\":\"scatter\",\"x\":[0.1336933359942506,0.1606132321740607]},{\"showlegend\":false,\"mode\":\"lines\",\"line\":{\"color\":\"#66BAE7\",\"width\":2},\"y\":[81,81],\"type\":\"scatter\",\"x\":[0.1336547160661364,0.2022321449747482]},{\"showlegend\":false,\"mode\":\"lines\",\"line\":{\"color\":\"#66BAE7\",\"width\":2},\"y\":[80,80],\"type\":\"scatter\",\"x\":[0.13360693770561702,0.1505735949182755]},{\"showlegend\":false,\"mode\":\"lines\",\"line\":{\"color\":\"#66BAE7\",\"width\":2},\"y\":[79,79],\"type\":\"scatter\",\"x\":[0.13352773944928117,0.216920597613008]},{\"showlegend\":false,\"mode\":\"lines\",\"line\":{\"color\":\"#66BAE7\",\"width\":2},\"y\":[78,78],\"type\":\"scatter\",\"x\":[0.13336971960607896,0.15541958286581317]},{\"showlegend\":false,\"mode\":\"lines\",\"line\":{\"color\":\"#66BAE7\",\"width\":2},\"y\":[77,77],\"type\":\"scatter\",\"x\":[0.13309062898253854,0.17533003747566814]},{\"showlegend\":false,\"mode\":\"lines\",\"line\":{\"color\":\"#66BAE7\",\"width\":2},\"y\":[76,76],\"type\":\"scatter\",\"x\":[0.13292923193044806,0.2132182326926219]},{\"showlegend\":false,\"mode\":\"lines\",\"line\":{\"color\":\"#66BAE7\",\"width\":2},\"y\":[75,75],\"type\":\"scatter\",\"x\":[0.13278964909529428,0.18776345640865094]},{\"showlegend\":false,\"mode\":\"lines\",\"line\":{\"color\":\"#66BAE7\",\"width\":2},\"y\":[74,74],\"type\":\"scatter\",\"x\":[0.13264410844563443,0.14101957884844984]},{\"showlegend\":false,\"mode\":\"lines\",\"line\":{\"color\":\"#66BAE7\",\"width\":2},\"y\":[73,73],\"type\":\"scatter\",\"x\":[0.13236823973207565,0.17363687343460804]},{\"showlegend\":false,\"mode\":\"lines\",\"line\":{\"color\":\"#66BAE7\",\"width\":2},\"y\":[72,72],\"type\":\"scatter\",\"x\":[0.13200484202890198,0.1421187817144442]},{\"showlegend\":false,\"mode\":\"lines\",\"line\":{\"color\":\"#66BAE7\",\"width\":2},\"y\":[71,71],\"type\":\"scatter\",\"x\":[0.13121083896664523,0.18588381230022077]},{\"showlegend\":false,\"mode\":\"lines\",\"line\":{\"color\":\"#66BAE7\",\"width\":2},\"y\":[70,70],\"type\":\"scatter\",\"x\":[0.13080786311047976,0.15525144460981333]},{\"showlegend\":false,\"mode\":\"lines\",\"line\":{\"color\":\"#66BAE7\",\"width\":2},\"y\":[69,69],\"type\":\"scatter\",\"x\":[0.13007729191786063,0.14318381289999613]},{\"showlegend\":false,\"mode\":\"lines\",\"line\":{\"color\":\"#66BAE7\",\"width\":2},\"y\":[68,68],\"type\":\"scatter\",\"x\":[0.1299163493783442,0.13986672840753983]},{\"showlegend\":false,\"mode\":\"lines\",\"line\":{\"color\":\"#66BAE7\",\"width\":2},\"y\":[67,67],\"type\":\"scatter\",\"x\":[0.12988516067287767,0.18224866244139354]},{\"showlegend\":false,\"mode\":\"lines\",\"line\":{\"color\":\"#66BAE7\",\"width\":2},\"y\":[66,66],\"type\":\"scatter\",\"x\":[0.12971681155916126,0.13549157128529027]},{\"showlegend\":false,\"mode\":\"lines\",\"line\":{\"color\":\"#66BAE7\",\"width\":2},\"y\":[65,65],\"type\":\"scatter\",\"x\":[0.1295603694327367,0.12959082014026516]},{\"showlegend\":false,\"mode\":\"lines\",\"line\":{\"color\":\"#66BAE7\",\"width\":2},\"y\":[64,64],\"type\":\"scatter\",\"x\":[0.1293892908489303,0.1320363572852804]},{\"showlegend\":false,\"mode\":\"lines\",\"line\":{\"color\":\"#66BAE7\",\"width\":2},\"y\":[63,63],\"type\":\"scatter\",\"x\":[0.12930361361726278,0.15338038409566512]},{\"showlegend\":false,\"mode\":\"lines\",\"line\":{\"color\":\"#66BAE7\",\"width\":2},\"y\":[62,62],\"type\":\"scatter\",\"x\":[0.12930011311054096,0.1601501319072645]},{\"showlegend\":false,\"mode\":\"lines\",\"line\":{\"color\":\"#66BAE7\",\"width\":2},\"y\":[61,61],\"type\":\"scatter\",\"x\":[0.12899145170931814,0.16323339434073117]},{\"showlegend\":false,\"mode\":\"lines\",\"line\":{\"color\":\"#66BAE7\",\"width\":2},\"y\":[60,60],\"type\":\"scatter\",\"x\":[0.12896687015577463,0.14491915762424562]},{\"showlegend\":false,\"mode\":\"lines\",\"line\":{\"color\":\"#66BAE7\",\"width\":2},\"y\":[59,59],\"type\":\"scatter\",\"x\":[0.12842624247018777,0.12934861908719003]},{\"showlegend\":false,\"mode\":\"lines\",\"line\":{\"color\":\"#66BAE7\",\"width\":2},\"y\":[58,58],\"type\":\"scatter\",\"x\":[0.12820514574600805,0.2214630376139402]},{\"showlegend\":false,\"mode\":\"lines\",\"line\":{\"color\":\"#66BAE7\",\"width\":2},\"y\":[57,57],\"type\":\"scatter\",\"x\":[0.12815228798695888,0.14999699548317008]},{\"showlegend\":false,\"mode\":\"lines\",\"line\":{\"color\":\"#66BAE7\",\"width\":2},\"y\":[56,56],\"type\":\"scatter\",\"x\":[0.1279726860359129,0.161127268579985]},{\"showlegend\":false,\"mode\":\"lines\",\"line\":{\"color\":\"#66BAE7\",\"width\":2},\"y\":[55,55],\"type\":\"scatter\",\"x\":[0.12787752925973095,0.18442703705214158]},{\"showlegend\":false,\"mode\":\"lines\",\"line\":{\"color\":\"#66BAE7\",\"width\":2},\"y\":[54,54],\"type\":\"scatter\",\"x\":[0.12752633015998685,0.16173912104800198]},{\"showlegend\":false,\"mode\":\"lines\",\"line\":{\"color\":\"#66BAE7\",\"width\":2},\"y\":[53,53],\"type\":\"scatter\",\"x\":[0.127362272432384,0.1811416014242032]},{\"showlegend\":false,\"mode\":\"lines\",\"line\":{\"color\":\"#66BAE7\",\"width\":2},\"y\":[52,52],\"type\":\"scatter\",\"x\":[0.12713566037715232,0.13521045865657075]},{\"showlegend\":false,\"mode\":\"lines\",\"line\":{\"color\":\"#66BAE7\",\"width\":2},\"y\":[51,51],\"type\":\"scatter\",\"x\":[0.12696691976365107,0.17864723148206071]},{\"showlegend\":false,\"mode\":\"lines\",\"line\":{\"color\":\"#66BAE7\",\"width\":2},\"y\":[50,50],\"type\":\"scatter\",\"x\":[0.1269340815845786,0.13363109458348296]},{\"showlegend\":false,\"mode\":\"lines\",\"line\":{\"color\":\"#66BAE7\",\"width\":2},\"y\":[49,49],\"type\":\"scatter\",\"x\":[0.12684850418339738,0.15750681017640475]},{\"showlegend\":false,\"mode\":\"lines\",\"line\":{\"color\":\"#66BAE7\",\"width\":2},\"y\":[48,48],\"type\":\"scatter\",\"x\":[0.1263168770844991,0.20749952242976494]},{\"showlegend\":false,\"mode\":\"lines\",\"line\":{\"color\":\"#66BAE7\",\"width\":2},\"y\":[47,47],\"type\":\"scatter\",\"x\":[0.12600340367429463,0.15786099300677855]},{\"showlegend\":false,\"mode\":\"lines\",\"line\":{\"color\":\"#66BAE7\",\"width\":2},\"y\":[46,46],\"type\":\"scatter\",\"x\":[0.12583734523060516,0.18246087892703852]},{\"showlegend\":false,\"mode\":\"lines\",\"line\":{\"color\":\"#66BAE7\",\"width\":2},\"y\":[45,45],\"type\":\"scatter\",\"x\":[0.12567934021044977,0.1256846914105717]},{\"showlegend\":false,\"mode\":\"lines\",\"line\":{\"color\":\"#66BAE7\",\"width\":2},\"y\":[44,44],\"type\":\"scatter\",\"x\":[0.1251606006475136,0.14371002603658456]},{\"showlegend\":false,\"mode\":\"lines\",\"line\":{\"color\":\"#66BAE7\",\"width\":2},\"y\":[43,43],\"type\":\"scatter\",\"x\":[0.12456584667759817,0.1749466198562299]},{\"showlegend\":false,\"mode\":\"lines\",\"line\":{\"color\":\"#66BAE7\",\"width\":2},\"y\":[42,42],\"type\":\"scatter\",\"x\":[0.12431449822728674,0.14164259667324317]},{\"showlegend\":false,\"mode\":\"lines\",\"line\":{\"color\":\"#66BAE7\",\"width\":2},\"y\":[41,41],\"type\":\"scatter\",\"x\":[0.12411852351583984,0.19845800311983974]},{\"showlegend\":false,\"mode\":\"lines\",\"line\":{\"color\":\"#66BAE7\",\"width\":2},\"y\":[40,40],\"type\":\"scatter\",\"x\":[0.12397239601517493,0.20683091120777616]},{\"showlegend\":false,\"mode\":\"lines\",\"line\":{\"color\":\"#66BAE7\",\"width\":2},\"y\":[39,39],\"type\":\"scatter\",\"x\":[0.12383463491264872,0.20333014455075804]},{\"showlegend\":false,\"mode\":\"lines\",\"line\":{\"color\":\"#66BAE7\",\"width\":2},\"y\":[38,38],\"type\":\"scatter\",\"x\":[0.12358078532967323,0.19460279902875036]},{\"showlegend\":false,\"mode\":\"lines\",\"line\":{\"color\":\"#66BAE7\",\"width\":2},\"y\":[37,37],\"type\":\"scatter\",\"x\":[0.1232215168856288,0.1250319960673595]},{\"showlegend\":false,\"mode\":\"lines\",\"line\":{\"color\":\"#66BAE7\",\"width\":2},\"y\":[36,36],\"type\":\"scatter\",\"x\":[0.12308883863033683,0.1338031100680677]},{\"showlegend\":false,\"mode\":\"lines\",\"line\":{\"color\":\"#66BAE7\",\"width\":2},\"y\":[35,35],\"type\":\"scatter\",\"x\":[0.12286151975793527,0.1623171618048455]},{\"showlegend\":false,\"mode\":\"lines\",\"line\":{\"color\":\"#66BAE7\",\"width\":2},\"y\":[34,34],\"type\":\"scatter\",\"x\":[0.12275636341694318,0.14097121479343966]},{\"showlegend\":false,\"mode\":\"lines\",\"line\":{\"color\":\"#66BAE7\",\"width\":2},\"y\":[33,33],\"type\":\"scatter\",\"x\":[0.1226687851010298,0.12534172498246723]},{\"showlegend\":false,\"mode\":\"lines\",\"line\":{\"color\":\"#66BAE7\",\"width\":2},\"y\":[32,32],\"type\":\"scatter\",\"x\":[0.12243900627052554,0.148729901465339]},{\"showlegend\":false,\"mode\":\"lines\",\"line\":{\"color\":\"#66BAE7\",\"width\":2},\"y\":[31,31],\"type\":\"scatter\",\"x\":[0.12222982334306005,0.13915827284444648]},{\"showlegend\":false,\"mode\":\"lines\",\"line\":{\"color\":\"#66BAE7\",\"width\":2},\"y\":[30,30],\"type\":\"scatter\",\"x\":[0.12187972070535749,0.12763774820957902]},{\"showlegend\":false,\"mode\":\"lines\",\"line\":{\"color\":\"#66BAE7\",\"width\":2},\"y\":[29,29],\"type\":\"scatter\",\"x\":[0.12163141490929025,0.13381814709767667]},{\"showlegend\":false,\"mode\":\"lines\",\"line\":{\"color\":\"#66BAE7\",\"width\":2},\"y\":[28,28],\"type\":\"scatter\",\"x\":[0.12123454317294981,0.143898793534269]},{\"showlegend\":false,\"mode\":\"lines\",\"line\":{\"color\":\"#66BAE7\",\"width\":2},\"y\":[27,27],\"type\":\"scatter\",\"x\":[0.12049943241693391,0.125950267850158]},{\"showlegend\":false,\"mode\":\"lines\",\"line\":{\"color\":\"#66BAE7\",\"width\":2},\"y\":[26,26],\"type\":\"scatter\",\"x\":[0.12021715241766655,0.16355551854217304]},{\"showlegend\":false,\"mode\":\"lines\",\"line\":{\"color\":\"#66BAE7\",\"width\":2},\"y\":[25,25],\"type\":\"scatter\",\"x\":[0.11809040625764491,0.13339641936454524]},{\"showlegend\":false,\"mode\":\"lines\",\"line\":{\"color\":\"#66BAE7\",\"width\":2},\"y\":[24,24],\"type\":\"scatter\",\"x\":[0.11656861606993264,0.11933158530663096]},{\"showlegend\":false,\"mode\":\"lines\",\"line\":{\"color\":\"#66BAE7\",\"width\":2},\"y\":[23,23],\"type\":\"scatter\",\"x\":[0.11567213568117414,0.16457891609349098]},{\"showlegend\":false,\"mode\":\"lines\",\"line\":{\"color\":\"#66BAE7\",\"width\":2},\"y\":[22,22],\"type\":\"scatter\",\"x\":[0.11525559202998635,0.11987126077688132]},{\"showlegend\":false,\"mode\":\"lines\",\"line\":{\"color\":\"#66BAE7\",\"width\":2},\"y\":[21,21],\"type\":\"scatter\",\"x\":[0.1144957626082298,0.11615488013674047]},{\"showlegend\":false,\"mode\":\"lines\",\"line\":{\"color\":\"#66BAE7\",\"width\":2},\"y\":[20,20],\"type\":\"scatter\",\"x\":[0.11348682591005944,0.1619102264887012]},{\"showlegend\":false,\"mode\":\"lines\",\"line\":{\"color\":\"#66BAE7\",\"width\":2},\"y\":[19,19],\"type\":\"scatter\",\"x\":[0.11323011347387173,0.1328966479831314]},{\"showlegend\":false,\"mode\":\"lines\",\"line\":{\"color\":\"#66BAE7\",\"width\":2},\"y\":[18,18],\"type\":\"scatter\",\"x\":[0.11288225289364653,0.12085305384698729]},{\"showlegend\":false,\"mode\":\"lines\",\"line\":{\"color\":\"#66BAE7\",\"width\":2},\"y\":[17,17],\"type\":\"scatter\",\"x\":[0.11264071767979289,0.15586151363900722]},{\"showlegend\":false,\"mode\":\"lines\",\"line\":{\"color\":\"#66BAE7\",\"width\":2},\"y\":[16,16],\"type\":\"scatter\",\"x\":[0.11207895953421262,0.14072715657294557]},{\"showlegend\":false,\"mode\":\"lines\",\"line\":{\"color\":\"#66BAE7\",\"width\":2},\"y\":[15,15],\"type\":\"scatter\",\"x\":[0.11133070948197624,0.1271903451811848]},{\"showlegend\":false,\"mode\":\"lines\",\"line\":{\"color\":\"#66BAE7\",\"width\":2},\"y\":[14,14],\"type\":\"scatter\",\"x\":[0.11127717651689403,0.17384424102576465]},{\"showlegend\":false,\"mode\":\"lines\",\"line\":{\"color\":\"#66BAE7\",\"width\":2},\"y\":[13,13],\"type\":\"scatter\",\"x\":[0.11088613975446593,0.12130579805334878]},{\"showlegend\":false,\"mode\":\"lines\",\"line\":{\"color\":\"#66BAE7\",\"width\":2},\"y\":[12,12],\"type\":\"scatter\",\"x\":[0.10837443962303174,0.14469983745531378]},{\"showlegend\":false,\"mode\":\"lines\",\"line\":{\"color\":\"#66BAE7\",\"width\":2},\"y\":[11,11],\"type\":\"scatter\",\"x\":[0.10836590660206874,0.12401227736048527]},{\"showlegend\":false,\"mode\":\"lines\",\"line\":{\"color\":\"#66BAE7\",\"width\":2},\"y\":[10,10],\"type\":\"scatter\",\"x\":[0.1082416008636843,0.1344002832141876]},{\"showlegend\":false,\"mode\":\"lines\",\"line\":{\"color\":\"#66BAE7\",\"width\":2},\"y\":[9,9],\"type\":\"scatter\",\"x\":[0.10613821385278649,0.11642502392905295]},{\"showlegend\":false,\"mode\":\"lines\",\"line\":{\"color\":\"#66BAE7\",\"width\":2},\"y\":[8,8],\"type\":\"scatter\",\"x\":[0.10157237328957167,0.13540767058528222]},{\"showlegend\":false,\"mode\":\"lines\",\"line\":{\"color\":\"#66BAE7\",\"width\":2},\"y\":[7,7],\"type\":\"scatter\",\"x\":[0.10140328381712797,0.1142058210250996]},{\"showlegend\":false,\"mode\":\"lines\",\"line\":{\"color\":\"#66BAE7\",\"width\":2},\"y\":[6,6],\"type\":\"scatter\",\"x\":[0.10110819249968457,0.1202445252650789]},{\"showlegend\":false,\"mode\":\"lines\",\"line\":{\"color\":\"#66BAE7\",\"width\":2},\"y\":[5,5],\"type\":\"scatter\",\"x\":[0.09785703398952687,0.10508859721163541]},{\"showlegend\":false,\"mode\":\"lines\",\"line\":{\"color\":\"#66BAE7\",\"width\":2},\"y\":[4,4],\"type\":\"scatter\",\"x\":[0.0948131900971978,0.10148833786642657]},{\"showlegend\":false,\"mode\":\"lines\",\"line\":{\"color\":\"#66BAE7\",\"width\":2},\"y\":[3,3],\"type\":\"scatter\",\"x\":[0.08951740870363722,0.10101785899268206]},{\"showlegend\":false,\"mode\":\"lines\",\"line\":{\"color\":\"#66BAE7\",\"width\":2},\"y\":[2,2],\"type\":\"scatter\",\"x\":[0.08749071219808124,0.08914472835282147]},{\"mode\":\"lines\",\"line\":{\"color\":\"#66BAE7\",\"width\":2},\"y\":[1,1],\"type\":\"scatter\",\"name\":\"Dimension 1\",\"x\":[0.075476704535997,0.07644176303407106]}],{\"xaxis\":{\"showgrid\":false,\"zeroline\":false,\"rangevar\":[-0.001,0.30651063581269145],\"title\":\"ϵ\"},\"margin\":{\"l\":50,\"b\":50,\"r\":50,\"t\":60},\"yaxis\":{\"showgrid\":false,\"rangevar\":[0.0,229.1],\"ticks\":false}},{}); gd.on(\"plotly_hover\",(function (data){var filtered_data=WebIO.PlotlyCommands.filterEventData(gd,data,\"hover\"); return !(filtered_data.isnil) ? (WebIO.setval({\"name\":\"hover\",\"scope\":\"11765041732573395145\",\"id\":\"5384598156263819685\",\"type\":\"observable\"},filtered_data.out)) : undefined})); gd.on(\"plotly_unhover\",(function (){return WebIO.setval({\"name\":\"hover\",\"scope\":\"11765041732573395145\",\"id\":\"5384598156263819685\",\"type\":\"observable\"},{})})); gd.on(\"plotly_selected\",(function (data){var filtered_data=WebIO.PlotlyCommands.filterEventData(gd,data,\"selected\"); return !(filtered_data.isnil) ? (WebIO.setval({\"name\":\"selected\",\"scope\":\"11765041732573395145\",\"id\":\"3768452999122822155\",\"type\":\"observable\"},filtered_data.out)) : undefined})); gd.on(\"plotly_deselect\",(function (){return WebIO.setval({\"name\":\"selected\",\"scope\":\"11765041732573395145\",\"id\":\"3768452999122822155\",\"type\":\"observable\"},{})})); gd.on(\"plotly_relayout\",(function (data){var filtered_data=WebIO.PlotlyCommands.filterEventData(gd,data,\"relayout\"); return !(filtered_data.isnil) ? (WebIO.setval({\"name\":\"relayout\",\"scope\":\"11765041732573395145\",\"id\":\"3943509335691524546\",\"type\":\"observable\"},filtered_data.out)) : undefined})); return gd.on(\"plotly_click\",(function (data){var filtered_data=WebIO.PlotlyCommands.filterEventData(gd,data,\"click\"); return !(filtered_data.isnil) ? (WebIO.setval({\"name\":\"click\",\"scope\":\"11765041732573395145\",\"id\":\"6421300328814754849\",\"type\":\"observable\"},filtered_data.out)) : undefined}))}));\n    (WebIO.importBlock({\"data\":[{\"name\":\"Plotly\",\"type\":\"js\",\"url\":\"/assetserver/0011d14de576c55f77111628d5a39fcc5762f320-plotly.min.js\"},{\"name\":null,\"type\":\"js\",\"url\":\"/assetserver/52365f0a3f606733873c2a55bbe1584aba3b706c-plotly_webio.bundle.js\"}],\"type\":\"async_block\"})).then((imports) => handler.apply(this, imports));\n}\n"
        ],
        "observables": {
         "__gd_contents": {
          "id": "6377911703734446842",
          "sync": false,
          "value": {}
         },
         "__get_gd_contents": {
          "id": "10006380654966323324",
          "sync": false,
          "value": ""
         },
         "_commands": {
          "id": "1365273177173064670",
          "sync": false,
          "value": []
         },
         "_downloadImage": {
          "id": "2514743255186043690",
          "sync": false,
          "value": {}
         },
         "_toImage": {
          "id": "13476087200884554340",
          "sync": false,
          "value": {}
         },
         "click": {
          "id": "6421300328814754849",
          "sync": false,
          "value": {}
         },
         "hover": {
          "id": "5384598156263819685",
          "sync": false,
          "value": {}
         },
         "image": {
          "id": "12183557152359155106",
          "sync": true,
          "value": ""
         },
         "relayout": {
          "id": "3943509335691524546",
          "sync": false,
          "value": {}
         },
         "selected": {
          "id": "3768452999122822155",
          "sync": false,
          "value": {}
         }
        },
        "systemjs_options": null
       },
       "nodeType": "Scope",
       "props": {},
       "type": "node"
      },
      "image/png": "[encoded data removed]",
      "image/svg+xml": [
       "<svg class=\"main-svg\" xmlns=\"http://www.w3.org/2000/svg\" xmlns:xlink=\"http://www.w3.org/1999/xlink\" width=\"700\" height=\"500\" style=\"\" viewBox=\"0 0 700 500\"><rect x=\"0\" y=\"0\" width=\"700\" height=\"500\" style=\"fill: rgb(255, 255, 255); fill-opacity: 1;\"/><defs id=\"defs-4981dd\"><g class=\"clips\"><clipPath id=\"clip4981ddxyplot\" class=\"plotclip\"><rect width=\"507\" height=\"390\"/></clipPath><clipPath class=\"axesclip\" id=\"clip4981ddx\"><rect x=\"50\" y=\"0\" width=\"507\" height=\"500\"/></clipPath><clipPath class=\"axesclip\" id=\"clip4981ddy\"><rect x=\"0\" y=\"60\" width=\"700\" height=\"390\"/></clipPath><clipPath class=\"axesclip\" id=\"clip4981ddxy\"><rect x=\"50\" y=\"60\" width=\"507\" height=\"390\"/></clipPath></g><g class=\"gradients\"/></defs><g class=\"bglayer\"/><g class=\"layer-below\"><g class=\"imagelayer\"/><g class=\"shapelayer\"/></g><g class=\"cartesianlayer\"><g class=\"subplot xy\"><g class=\"layer-subplot\"><g class=\"shapelayer\"/><g class=\"imagelayer\"/></g><g class=\"gridlayer\"><g class=\"x\"/><g class=\"y\"/></g><g class=\"zerolinelayer\"><path class=\"yzl zl crisp\" transform=\"translate(0,432.04)\" d=\"M50,0h507\" style=\"stroke: rgb(68, 68, 68); stroke-opacity: 1; stroke-width: 1px;\"/></g><path class=\"xlines-below\"/><path class=\"ylines-below\"/><g class=\"overlines-below\"/><g class=\"xaxislayer-below\"/><g class=\"yaxislayer-below\"/><g class=\"overaxes-below\"/><g class=\"plot\" transform=\"translate(50,60)\" clip-path=\"url('#clip4981ddxyplot')\"><g class=\"scatterlayer mlayer\"><g class=\"trace scatter trace51127e\" style=\"stroke-miterlimit: 2; opacity: 1;\"><g class=\"fills\"/><g class=\"errorbars\"/><g class=\"lines\"><path class=\"js-line\" d=\"M457.78,19.5L507,19.5\" style=\"vector-effect: non-scaling-stroke; fill: none; stroke: rgb(102, 186, 231); stroke-opacity: 1; stroke-width: 2px; opacity: 1;\"/></g><g class=\"points\"/><g class=\"text\"/></g><g class=\"trace scatter trace8eecd9\" style=\"stroke-miterlimit: 2; opacity: 1;\"><g class=\"fills\"/><g class=\"errorbars\"/><g class=\"lines\"><path class=\"js-line\" d=\"M445.09,21.04L461.48,21.04\" style=\"vector-effect: non-scaling-stroke; fill: none; stroke: rgb(102, 186, 231); stroke-opacity: 1; stroke-width: 2px; opacity: 1;\"/></g><g class=\"points\"/><g class=\"text\"/></g><g class=\"trace scatter trace4960f8\" style=\"stroke-miterlimit: 2; opacity: 1;\"><g class=\"fills\"/><g class=\"errorbars\"/><g class=\"lines\"><path class=\"js-line\" d=\"M362.48,22.58L435.3,22.58\" style=\"vector-effect: non-scaling-stroke; fill: none; stroke: rgb(102, 186, 231); stroke-opacity: 1; stroke-width: 2px; opacity: 1;\"/></g><g class=\"points\"/><g class=\"text\"/></g><g class=\"trace scatter trace3f96f1\" style=\"stroke-miterlimit: 2; opacity: 1;\"><g class=\"fills\"/><g class=\"errorbars\"/><g class=\"lines\"><path class=\"js-line\" d=\"M347.38,24.12L350.18,24.12\" style=\"vector-effect: non-scaling-stroke; fill: none; stroke: rgb(102, 186, 231); stroke-opacity: 1; stroke-width: 2px; opacity: 1;\"/></g><g class=\"points\"/><g class=\"text\"/></g><g class=\"trace scatter trace135a3c\" style=\"stroke-miterlimit: 2; opacity: 1;\"><g class=\"fills\"/><g class=\"errorbars\"/><g class=\"lines\"><path class=\"js-line\" d=\"M289.9,25.66L299.23,25.66\" style=\"vector-effect: non-scaling-stroke; fill: none; stroke: rgb(102, 186, 231); stroke-opacity: 1; stroke-width: 2px; opacity: 1;\"/></g><g class=\"points\"/><g class=\"text\"/></g><g class=\"trace scatter trace792bbe\" style=\"stroke-miterlimit: 2; opacity: 1;\"><g class=\"fills\"/><g class=\"errorbars\"/><g class=\"lines\"><path class=\"js-line\" d=\"M281.78,27.2L285.28,27.2\" style=\"vector-effect: non-scaling-stroke; fill: none; stroke: rgb(102, 186, 231); stroke-opacity: 1; stroke-width: 2px; opacity: 1;\"/></g><g class=\"points\"/><g class=\"text\"/></g><g class=\"trace scatter trace603078\" style=\"stroke-miterlimit: 2; opacity: 1;\"><g class=\"fills\"/><g class=\"errorbars\"/><g class=\"lines\"><path class=\"js-line\" d=\"M267.29,28.74L320.86,28.74\" style=\"vector-effect: non-scaling-stroke; fill: none; stroke: rgb(102, 186, 231); stroke-opacity: 1; stroke-width: 2px; opacity: 1;\"/></g><g class=\"points\"/><g class=\"text\"/></g><g class=\"trace scatter trace10e365\" style=\"stroke-miterlimit: 2; opacity: 1;\"><g class=\"fills\"/><g class=\"errorbars\"/><g class=\"lines\"><path class=\"js-line\" d=\"M262.66,30.28L322.67,30.28\" style=\"vector-effect: non-scaling-stroke; fill: none; stroke: rgb(102, 186, 231); stroke-opacity: 1; stroke-width: 2px; opacity: 1;\"/></g><g class=\"points\"/><g class=\"text\"/></g><g class=\"trace scatter tracec7c895\" style=\"stroke-miterlimit: 2; opacity: 1;\"><g class=\"fills\"/><g class=\"errorbars\"/><g class=\"lines\"><path class=\"js-line\" d=\"M262.48,31.82L302.27,31.82\" style=\"vector-effect: non-scaling-stroke; fill: none; stroke: rgb(102, 186, 231); stroke-opacity: 1; stroke-width: 2px; opacity: 1;\"/></g><g class=\"points\"/><g class=\"text\"/></g><g class=\"trace scatter trace024f35\" style=\"stroke-miterlimit: 2; opacity: 1;\"><g class=\"fills\"/><g class=\"errorbars\"/><g class=\"lines\"><path class=\"js-line\" d=\"M261.25,33.36L290.36,33.36\" style=\"vector-effect: non-scaling-stroke; fill: none; stroke: rgb(102, 186, 231); stroke-opacity: 1; stroke-width: 2px; opacity: 1;\"/></g><g class=\"points\"/><g class=\"text\"/></g><g class=\"trace scatter trace7e1432\" style=\"stroke-miterlimit: 2; opacity: 1;\"><g class=\"fills\"/><g class=\"errorbars\"/><g class=\"lines\"><path class=\"js-line\" d=\"M254.23,34.89L337.95,34.89\" style=\"vector-effect: non-scaling-stroke; fill: none; stroke: rgb(102, 186, 231); stroke-opacity: 1; stroke-width: 2px; opacity: 1;\"/></g><g class=\"points\"/><g class=\"text\"/></g><g class=\"trace scatter tracef4d968\" style=\"stroke-miterlimit: 2; opacity: 1;\"><g class=\"fills\"/><g class=\"errorbars\"/><g class=\"lines\"><path class=\"js-line\" d=\"M251.83,36.43L253.14,36.43\" style=\"vector-effect: non-scaling-stroke; fill: none; stroke: rgb(102, 186, 231); stroke-opacity: 1; stroke-width: 2px; opacity: 1;\"/></g><g class=\"points\"/><g class=\"text\"/></g><g class=\"trace scatter tracea6a759\" style=\"stroke-miterlimit: 2; opacity: 1;\"><g class=\"fills\"/><g class=\"errorbars\"/><g class=\"lines\"><path class=\"js-line\" d=\"M244.54,37.97L352.17,37.97\" style=\"vector-effect: non-scaling-stroke; fill: none; stroke: rgb(102, 186, 231); stroke-opacity: 1; stroke-width: 2px; opacity: 1;\"/></g><g class=\"points\"/><g class=\"text\"/></g><g class=\"trace scatter trace2ee1a4\" style=\"stroke-miterlimit: 2; opacity: 1;\"><g class=\"fills\"/><g class=\"errorbars\"/><g class=\"lines\"><path class=\"js-line\" d=\"M239.11,39.51L244.92,39.51\" style=\"vector-effect: non-scaling-stroke; fill: none; stroke: rgb(102, 186, 231); stroke-opacity: 1; stroke-width: 2px; opacity: 1;\"/></g><g class=\"points\"/><g class=\"text\"/></g><g class=\"trace scatter trace171487\" style=\"stroke-miterlimit: 2; opacity: 1;\"><g class=\"fills\"/><g class=\"errorbars\"/><g class=\"lines\"><path class=\"js-line\" d=\"M236.54,41.05L243.02,41.05\" style=\"vector-effect: non-scaling-stroke; fill: none; stroke: rgb(102, 186, 231); stroke-opacity: 1; stroke-width: 2px; opacity: 1;\"/></g><g class=\"points\"/><g class=\"text\"/></g><g class=\"trace scatter trace666dbf\" style=\"stroke-miterlimit: 2; opacity: 1;\"><g class=\"fills\"/><g class=\"errorbars\"/><g class=\"lines\"><path class=\"js-line\" d=\"M236.19,42.59L412.76,42.59\" style=\"vector-effect: non-scaling-stroke; fill: none; stroke: rgb(102, 186, 231); stroke-opacity: 1; stroke-width: 2px; opacity: 1;\"/></g><g class=\"points\"/><g class=\"text\"/></g><g class=\"trace scatter trace083a35\" style=\"stroke-miterlimit: 2; opacity: 1;\"><g class=\"fills\"/><g class=\"errorbars\"/><g class=\"lines\"><path class=\"js-line\" d=\"M235.92,44.13L270.34,44.13\" style=\"vector-effect: non-scaling-stroke; fill: none; stroke: rgb(102, 186, 231); stroke-opacity: 1; stroke-width: 2px; opacity: 1;\"/></g><g class=\"points\"/><g class=\"text\"/></g><g class=\"trace scatter trace66acbc\" style=\"stroke-miterlimit: 2; opacity: 1;\"><g class=\"fills\"/><g class=\"errorbars\"/><g class=\"lines\"><path class=\"js-line\" d=\"M231.84,45.67L253.1,45.67\" style=\"vector-effect: non-scaling-stroke; fill: none; stroke: rgb(102, 186, 231); stroke-opacity: 1; stroke-width: 2px; opacity: 1;\"/></g><g class=\"points\"/><g class=\"text\"/></g><g class=\"trace scatter trace54130f\" style=\"stroke-miterlimit: 2; opacity: 1;\"><g class=\"fills\"/><g class=\"errorbars\"/><g class=\"lines\"><path class=\"js-line\" d=\"M227.93,47.21L335.43,47.21\" style=\"vector-effect: non-scaling-stroke; fill: none; stroke: rgb(102, 186, 231); stroke-opacity: 1; stroke-width: 2px; opacity: 1;\"/></g><g class=\"points\"/><g class=\"text\"/></g><g class=\"trace scatter trace6f9c8e\" style=\"stroke-miterlimit: 2; opacity: 1;\"><g class=\"fills\"/><g class=\"errorbars\"/><g class=\"lines\"><path class=\"js-line\" d=\"M226.01,48.75L278.94,48.75\" style=\"vector-effect: non-scaling-stroke; fill: none; stroke: rgb(102, 186, 231); stroke-opacity: 1; stroke-width: 2px; opacity: 1;\"/></g><g class=\"points\"/><g class=\"text\"/></g><g class=\"trace scatter trace49154c\" style=\"stroke-miterlimit: 2; opacity: 1;\"><g class=\"fills\"/><g class=\"errorbars\"/><g class=\"lines\"><path class=\"js-line\" d=\"M225.94,50.29L251,50.29\" style=\"vector-effect: non-scaling-stroke; fill: none; stroke: rgb(102, 186, 231); stroke-opacity: 1; stroke-width: 2px; opacity: 1;\"/></g><g class=\"points\"/><g class=\"text\"/></g><g class=\"trace scatter trace5dcc3c\" style=\"stroke-miterlimit: 2; opacity: 1;\"><g class=\"fills\"/><g class=\"errorbars\"/><g class=\"lines\"><path class=\"js-line\" d=\"M224.94,51.83L295.26,51.83\" style=\"vector-effect: non-scaling-stroke; fill: none; stroke: rgb(102, 186, 231); stroke-opacity: 1; stroke-width: 2px; opacity: 1;\"/></g><g class=\"points\"/><g class=\"text\"/></g><g class=\"trace scatter trace128a77\" style=\"stroke-miterlimit: 2; opacity: 1;\"><g class=\"fills\"/><g class=\"errorbars\"/><g class=\"lines\"><path class=\"js-line\" d=\"M224.01,53.37L315.34,53.37\" style=\"vector-effect: non-scaling-stroke; fill: none; stroke: rgb(102, 186, 231); stroke-opacity: 1; stroke-width: 2px; opacity: 1;\"/></g><g class=\"points\"/><g class=\"text\"/></g><g class=\"trace scatter trace7b1f74\" style=\"stroke-miterlimit: 2; opacity: 1;\"><g class=\"fills\"/><g class=\"errorbars\"/><g class=\"lines\"><path class=\"js-line\" d=\"M222.85,54.91L237.12,54.91\" style=\"vector-effect: non-scaling-stroke; fill: none; stroke: rgb(102, 186, 231); stroke-opacity: 1; stroke-width: 2px; opacity: 1;\"/></g><g class=\"points\"/><g class=\"text\"/></g><g class=\"trace scatter traceac8373\" style=\"stroke-miterlimit: 2; opacity: 1;\"><g class=\"fills\"/><g class=\"errorbars\"/><g class=\"lines\"><path class=\"js-line\" d=\"M222.35,56.45L293.65,56.45\" style=\"vector-effect: non-scaling-stroke; fill: none; stroke: rgb(102, 186, 231); stroke-opacity: 1; stroke-width: 2px; opacity: 1;\"/></g><g class=\"points\"/><g class=\"text\"/></g><g class=\"trace scatter trace5b52d4\" style=\"stroke-miterlimit: 2; opacity: 1;\"><g class=\"fills\"/><g class=\"errorbars\"/><g class=\"lines\"><path class=\"js-line\" d=\"M221.09,57.99L269.48,57.99\" style=\"vector-effect: non-scaling-stroke; fill: none; stroke: rgb(102, 186, 231); stroke-opacity: 1; stroke-width: 2px; opacity: 1;\"/></g><g class=\"points\"/><g class=\"text\"/></g><g class=\"trace scatter trace4e2da6\" style=\"stroke-miterlimit: 2; opacity: 1;\"><g class=\"fills\"/><g class=\"errorbars\"/><g class=\"lines\"><path class=\"js-line\" d=\"M221.09,59.53L259.63,59.53\" style=\"vector-effect: non-scaling-stroke; fill: none; stroke: rgb(102, 186, 231); stroke-opacity: 1; stroke-width: 2px; opacity: 1;\"/></g><g class=\"points\"/><g class=\"text\"/></g><g class=\"trace scatter tracecf02fc\" style=\"stroke-miterlimit: 2; opacity: 1;\"><g class=\"fills\"/><g class=\"errorbars\"/><g class=\"lines\"><path class=\"js-line\" d=\"M218.63,61.07L262.17,61.07\" style=\"vector-effect: non-scaling-stroke; fill: none; stroke: rgb(102, 186, 231); stroke-opacity: 1; stroke-width: 2px; opacity: 1;\"/></g><g class=\"points\"/><g class=\"text\"/></g><g class=\"trace scatter tracebf9261\" style=\"stroke-miterlimit: 2; opacity: 1;\"><g class=\"fills\"/><g class=\"errorbars\"/><g class=\"lines\"><path class=\"js-line\" d=\"M214.03,62.61L264.72,62.61\" style=\"vector-effect: non-scaling-stroke; fill: none; stroke: rgb(102, 186, 231); stroke-opacity: 1; stroke-width: 2px; opacity: 1;\"/></g><g class=\"points\"/><g class=\"text\"/></g><g class=\"trace scatter trace89fdde\" style=\"stroke-miterlimit: 2; opacity: 1;\"><g class=\"fills\"/><g class=\"errorbars\"/><g class=\"lines\"><path class=\"js-line\" d=\"M212.94,64.14L223.44,64.14\" style=\"vector-effect: non-scaling-stroke; fill: none; stroke: rgb(102, 186, 231); stroke-opacity: 1; stroke-width: 2px; opacity: 1;\"/></g><g class=\"points\"/><g class=\"text\"/></g><g class=\"trace scatter traced71731\" style=\"stroke-miterlimit: 2; opacity: 1;\"><g class=\"fills\"/><g class=\"errorbars\"/><g class=\"lines\"><path class=\"js-line\" d=\"M209.11,65.68L268.91,65.68\" style=\"vector-effect: non-scaling-stroke; fill: none; stroke: rgb(102, 186, 231); stroke-opacity: 1; stroke-width: 2px; opacity: 1;\"/></g><g class=\"points\"/><g class=\"text\"/></g><g class=\"trace scatter trace5d8dfd\" style=\"stroke-miterlimit: 2; opacity: 1;\"><g class=\"fills\"/><g class=\"errorbars\"/><g class=\"lines\"><path class=\"js-line\" d=\"M207.81,67.22L257.75,67.22\" style=\"vector-effect: non-scaling-stroke; fill: none; stroke: rgb(102, 186, 231); stroke-opacity: 1; stroke-width: 2px; opacity: 1;\"/></g><g class=\"points\"/><g class=\"text\"/></g><g class=\"trace scatter traced2f85b\" style=\"stroke-miterlimit: 2; opacity: 1;\"><g class=\"fills\"/><g class=\"errorbars\"/><g class=\"lines\"><path class=\"js-line\" d=\"M207.15,68.76L209.85,68.76\" style=\"vector-effect: non-scaling-stroke; fill: none; stroke: rgb(102, 186, 231); stroke-opacity: 1; stroke-width: 2px; opacity: 1;\"/></g><g class=\"points\"/><g class=\"text\"/></g><g class=\"trace scatter trace5ebc44\" style=\"stroke-miterlimit: 2; opacity: 1;\"><g class=\"fills\"/><g class=\"errorbars\"/><g class=\"lines\"><path class=\"js-line\" d=\"M206.18,70.3L224,70.3\" style=\"vector-effect: non-scaling-stroke; fill: none; stroke: rgb(102, 186, 231); stroke-opacity: 1; stroke-width: 2px; opacity: 1;\"/></g><g class=\"points\"/><g class=\"text\"/></g><g class=\"trace scatter trace5099db\" style=\"stroke-miterlimit: 2; opacity: 1;\"><g class=\"fills\"/><g class=\"errorbars\"/><g class=\"lines\"><path class=\"js-line\" d=\"M204.84,71.84L291.49,71.84\" style=\"vector-effect: non-scaling-stroke; fill: none; stroke: rgb(102, 186, 231); stroke-opacity: 1; stroke-width: 2px; opacity: 1;\"/></g><g class=\"points\"/><g class=\"text\"/></g><g class=\"trace scatter tracea91c91\" style=\"stroke-miterlimit: 2; opacity: 1;\"><g class=\"fills\"/><g class=\"errorbars\"/><g class=\"lines\"><path class=\"js-line\" d=\"M203.57,73.38L214.67,73.38\" style=\"vector-effect: non-scaling-stroke; fill: none; stroke: rgb(102, 186, 231); stroke-opacity: 1; stroke-width: 2px; opacity: 1;\"/></g><g class=\"points\"/><g class=\"text\"/></g><g class=\"trace scatter tracea7df1a\" style=\"stroke-miterlimit: 2; opacity: 1;\"><g class=\"fills\"/><g class=\"errorbars\"/><g class=\"lines\"><path class=\"js-line\" d=\"M201.35,74.92L261.32,74.92\" style=\"vector-effect: non-scaling-stroke; fill: none; stroke: rgb(102, 186, 231); stroke-opacity: 1; stroke-width: 2px; opacity: 1;\"/></g><g class=\"points\"/><g class=\"text\"/></g><g class=\"trace scatter trace7e3644\" style=\"stroke-miterlimit: 2; opacity: 1;\"><g class=\"fills\"/><g class=\"errorbars\"/><g class=\"lines\"><path class=\"js-line\" d=\"M200.12,76.46L215.24,76.46\" style=\"vector-effect: non-scaling-stroke; fill: none; stroke: rgb(102, 186, 231); stroke-opacity: 1; stroke-width: 2px; opacity: 1;\"/></g><g class=\"points\"/><g class=\"text\"/></g><g class=\"trace scatter tracea0bdf6\" style=\"stroke-miterlimit: 2; opacity: 1;\"><g class=\"fills\"/><g class=\"errorbars\"/><g class=\"lines\"><path class=\"js-line\" d=\"M199.91,78L268.9,78\" style=\"vector-effect: non-scaling-stroke; fill: none; stroke: rgb(102, 186, 231); stroke-opacity: 1; stroke-width: 2px; opacity: 1;\"/></g><g class=\"points\"/><g class=\"text\"/></g><g class=\"trace scatter trace2adf40\" style=\"stroke-miterlimit: 2; opacity: 1;\"><g class=\"fills\"/><g class=\"errorbars\"/><g class=\"lines\"><path class=\"js-line\" d=\"M199.87,79.54L256.72,79.54\" style=\"vector-effect: non-scaling-stroke; fill: none; stroke: rgb(102, 186, 231); stroke-opacity: 1; stroke-width: 2px; opacity: 1;\"/></g><g class=\"points\"/><g class=\"text\"/></g><g class=\"trace scatter trace507210\" style=\"stroke-miterlimit: 2; opacity: 1;\"><g class=\"fills\"/><g class=\"errorbars\"/><g class=\"lines\"><path class=\"js-line\" d=\"M199.09,81.08L248.27,81.08\" style=\"vector-effect: non-scaling-stroke; fill: none; stroke: rgb(102, 186, 231); stroke-opacity: 1; stroke-width: 2px; opacity: 1;\"/></g><g class=\"points\"/><g class=\"text\"/></g><g class=\"trace scatter trace10fdb6\" style=\"stroke-miterlimit: 2; opacity: 1;\"><g class=\"fills\"/><g class=\"errorbars\"/><g class=\"lines\"><path class=\"js-line\" d=\"M198.7,82.62L202.55,82.62\" style=\"vector-effect: non-scaling-stroke; fill: none; stroke: rgb(102, 186, 231); stroke-opacity: 1; stroke-width: 2px; opacity: 1;\"/></g><g class=\"points\"/><g class=\"text\"/></g><g class=\"trace scatter trace4240a2\" style=\"stroke-miterlimit: 2; opacity: 1;\"><g class=\"fills\"/><g class=\"errorbars\"/><g class=\"lines\"><path class=\"js-line\" d=\"M198.6,84.16L221.69,84.16\" style=\"vector-effect: non-scaling-stroke; fill: none; stroke: rgb(102, 186, 231); stroke-opacity: 1; stroke-width: 2px; opacity: 1;\"/></g><g class=\"points\"/><g class=\"text\"/></g><g class=\"trace scatter tracef4219d\" style=\"stroke-miterlimit: 2; opacity: 1;\"><g class=\"fills\"/><g class=\"errorbars\"/><g class=\"lines\"><path class=\"js-line\" d=\"M198.56,85.7L204.5,85.7\" style=\"vector-effect: non-scaling-stroke; fill: none; stroke: rgb(102, 186, 231); stroke-opacity: 1; stroke-width: 2px; opacity: 1;\"/></g><g class=\"points\"/><g class=\"text\"/></g><g class=\"trace scatter traceb9e072\" style=\"stroke-miterlimit: 2; opacity: 1;\"><g class=\"fills\"/><g class=\"errorbars\"/><g class=\"lines\"><path class=\"js-line\" d=\"M198.36,87.24L214.91,87.24\" style=\"vector-effect: non-scaling-stroke; fill: none; stroke: rgb(102, 186, 231); stroke-opacity: 1; stroke-width: 2px; opacity: 1;\"/></g><g class=\"points\"/><g class=\"text\"/></g><g class=\"trace scatter tracef8cc2c\" style=\"stroke-miterlimit: 2; opacity: 1;\"><g class=\"fills\"/><g class=\"errorbars\"/><g class=\"lines\"><path class=\"js-line\" d=\"M198.11,88.78L229.48,88.78\" style=\"vector-effect: non-scaling-stroke; fill: none; stroke: rgb(102, 186, 231); stroke-opacity: 1; stroke-width: 2px; opacity: 1;\"/></g><g class=\"points\"/><g class=\"text\"/></g><g class=\"trace scatter trace7688f9\" style=\"stroke-miterlimit: 2; opacity: 1;\"><g class=\"fills\"/><g class=\"errorbars\"/><g class=\"lines\"><path class=\"js-line\" d=\"M197.77,90.32L202.58,90.32\" style=\"vector-effect: non-scaling-stroke; fill: none; stroke: rgb(102, 186, 231); stroke-opacity: 1; stroke-width: 2px; opacity: 1;\"/></g><g class=\"points\"/><g class=\"text\"/></g><g class=\"trace scatter trace4b15fa\" style=\"stroke-miterlimit: 2; opacity: 1;\"><g class=\"fills\"/><g class=\"errorbars\"/><g class=\"lines\"><path class=\"js-line\" d=\"M196.51,91.86L205.49,91.86\" style=\"vector-effect: non-scaling-stroke; fill: none; stroke: rgb(102, 186, 231); stroke-opacity: 1; stroke-width: 2px; opacity: 1;\"/></g><g class=\"points\"/><g class=\"text\"/></g><g class=\"trace scatter traceaaae2b\" style=\"stroke-miterlimit: 2; opacity: 1;\"><g class=\"fills\"/><g class=\"errorbars\"/><g class=\"lines\"><path class=\"js-line\" d=\"M194.69,93.39L314.1,93.39\" style=\"vector-effect: non-scaling-stroke; fill: none; stroke: rgb(102, 186, 231); stroke-opacity: 1; stroke-width: 2px; opacity: 1;\"/></g><g class=\"points\"/><g class=\"text\"/></g><g class=\"trace scatter tracee64aa3\" style=\"stroke-miterlimit: 2; opacity: 1;\"><g class=\"fills\"/><g class=\"errorbars\"/><g class=\"lines\"><path class=\"js-line\" d=\"M194.24,94.93L218.64,94.93\" style=\"vector-effect: non-scaling-stroke; fill: none; stroke: rgb(102, 186, 231); stroke-opacity: 1; stroke-width: 2px; opacity: 1;\"/></g><g class=\"points\"/><g class=\"text\"/></g><g class=\"trace scatter trace1e6c93\" style=\"stroke-miterlimit: 2; opacity: 1;\"><g class=\"fills\"/><g class=\"errorbars\"/><g class=\"lines\"><path class=\"js-line\" d=\"M193.86,96.47L283.78,96.47\" style=\"vector-effect: non-scaling-stroke; fill: none; stroke: rgb(102, 186, 231); stroke-opacity: 1; stroke-width: 2px; opacity: 1;\"/></g><g class=\"points\"/><g class=\"text\"/></g><g class=\"trace scatter trace7aeca2\" style=\"stroke-miterlimit: 2; opacity: 1;\"><g class=\"fills\"/><g class=\"errorbars\"/><g class=\"lines\"><path class=\"js-line\" d=\"M193.81,98.01L219.8,98.01\" style=\"vector-effect: non-scaling-stroke; fill: none; stroke: rgb(102, 186, 231); stroke-opacity: 1; stroke-width: 2px; opacity: 1;\"/></g><g class=\"points\"/><g class=\"text\"/></g><g class=\"trace scatter trace7d7d5f\" style=\"stroke-miterlimit: 2; opacity: 1;\"><g class=\"fills\"/><g class=\"errorbars\"/><g class=\"lines\"><path class=\"js-line\" d=\"M192.57,99.55L351.08,99.55\" style=\"vector-effect: non-scaling-stroke; fill: none; stroke: rgb(102, 186, 231); stroke-opacity: 1; stroke-width: 2px; opacity: 1;\"/></g><g class=\"points\"/><g class=\"text\"/></g><g class=\"trace scatter trace409e6c\" style=\"stroke-miterlimit: 2; opacity: 1;\"><g class=\"fills\"/><g class=\"errorbars\"/><g class=\"lines\"><path class=\"js-line\" d=\"M191.58,101.09L197.55,101.09\" style=\"vector-effect: non-scaling-stroke; fill: none; stroke: rgb(102, 186, 231); stroke-opacity: 1; stroke-width: 2px; opacity: 1;\"/></g><g class=\"points\"/><g class=\"text\"/></g><g class=\"trace scatter tracecbb369\" style=\"stroke-miterlimit: 2; opacity: 1;\"><g class=\"fills\"/><g class=\"errorbars\"/><g class=\"lines\"><path class=\"js-line\" d=\"M190.64,102.63L213.08,102.63\" style=\"vector-effect: non-scaling-stroke; fill: none; stroke: rgb(102, 186, 231); stroke-opacity: 1; stroke-width: 2px; opacity: 1;\"/></g><g class=\"points\"/><g class=\"text\"/></g><g class=\"trace scatter trace392529\" style=\"stroke-miterlimit: 2; opacity: 1;\"><g class=\"fills\"/><g class=\"errorbars\"/><g class=\"lines\"><path class=\"js-line\" d=\"M190.31,104.17L201.67,104.17\" style=\"vector-effect: non-scaling-stroke; fill: none; stroke: rgb(102, 186, 231); stroke-opacity: 1; stroke-width: 2px; opacity: 1;\"/></g><g class=\"points\"/><g class=\"text\"/></g><g class=\"trace scatter trace171531\" style=\"stroke-miterlimit: 2; opacity: 1;\"><g class=\"fills\"/><g class=\"errorbars\"/><g class=\"lines\"><path class=\"js-line\" d=\"M190.24,105.71L196.46,105.71\" style=\"vector-effect: non-scaling-stroke; fill: none; stroke: rgb(102, 186, 231); stroke-opacity: 1; stroke-width: 2px; opacity: 1;\"/></g><g class=\"points\"/><g class=\"text\"/></g><g class=\"trace scatter trace7453f3\" style=\"stroke-miterlimit: 2; opacity: 1;\"><g class=\"fills\"/><g class=\"errorbars\"/><g class=\"lines\"><path class=\"js-line\" d=\"M189.92,107.25L223.22,107.25\" style=\"vector-effect: non-scaling-stroke; fill: none; stroke: rgb(102, 186, 231); stroke-opacity: 1; stroke-width: 2px; opacity: 1;\"/></g><g class=\"points\"/><g class=\"text\"/></g><g class=\"trace scatter tracec43bdc\" style=\"stroke-miterlimit: 2; opacity: 1;\"><g class=\"fills\"/><g class=\"errorbars\"/><g class=\"lines\"><path class=\"js-line\" d=\"M188.14,108.79L206.06,108.79\" style=\"vector-effect: non-scaling-stroke; fill: none; stroke: rgb(102, 186, 231); stroke-opacity: 1; stroke-width: 2px; opacity: 1;\"/></g><g class=\"points\"/><g class=\"text\"/></g><g class=\"trace scatter traced26ca1\" style=\"stroke-miterlimit: 2; opacity: 1;\"><g class=\"fills\"/><g class=\"errorbars\"/><g class=\"lines\"><path class=\"js-line\" d=\"M186.78,110.33L205.71,110.33\" style=\"vector-effect: non-scaling-stroke; fill: none; stroke: rgb(102, 186, 231); stroke-opacity: 1; stroke-width: 2px; opacity: 1;\"/></g><g class=\"points\"/><g class=\"text\"/></g><g class=\"trace scatter tracef65c47\" style=\"stroke-miterlimit: 2; opacity: 1;\"><g class=\"fills\"/><g class=\"errorbars\"/><g class=\"lines\"><path class=\"js-line\" d=\"M186.25,111.87L260.87,111.87\" style=\"vector-effect: non-scaling-stroke; fill: none; stroke: rgb(102, 186, 231); stroke-opacity: 1; stroke-width: 2px; opacity: 1;\"/></g><g class=\"points\"/><g class=\"text\"/></g><g class=\"trace scatter trace64bbda\" style=\"stroke-miterlimit: 2; opacity: 1;\"><g class=\"fills\"/><g class=\"errorbars\"/><g class=\"lines\"><path class=\"js-line\" d=\"M186,113.41L284.06,113.41\" style=\"vector-effect: non-scaling-stroke; fill: none; stroke: rgb(102, 186, 231); stroke-opacity: 1; stroke-width: 2px; opacity: 1;\"/></g><g class=\"points\"/><g class=\"text\"/></g><g class=\"trace scatter trace5246f2\" style=\"stroke-miterlimit: 2; opacity: 1;\"><g class=\"fills\"/><g class=\"errorbars\"/><g class=\"lines\"><path class=\"js-line\" d=\"M185.51,114.95L196.26,114.95\" style=\"vector-effect: non-scaling-stroke; fill: none; stroke: rgb(102, 186, 231); stroke-opacity: 1; stroke-width: 2px; opacity: 1;\"/></g><g class=\"points\"/><g class=\"text\"/></g><g class=\"trace scatter traced3ec2a\" style=\"stroke-miterlimit: 2; opacity: 1;\"><g class=\"fills\"/><g class=\"errorbars\"/><g class=\"lines\"><path class=\"js-line\" d=\"M185.41,116.49L283.18,116.49\" style=\"vector-effect: non-scaling-stroke; fill: none; stroke: rgb(102, 186, 231); stroke-opacity: 1; stroke-width: 2px; opacity: 1;\"/></g><g class=\"points\"/><g class=\"text\"/></g><g class=\"trace scatter trace9cd9c0\" style=\"stroke-miterlimit: 2; opacity: 1;\"><g class=\"fills\"/><g class=\"errorbars\"/><g class=\"lines\"><path class=\"js-line\" d=\"M185.24,118.03L201.31,118.03\" style=\"vector-effect: non-scaling-stroke; fill: none; stroke: rgb(102, 186, 231); stroke-opacity: 1; stroke-width: 2px; opacity: 1;\"/></g><g class=\"points\"/><g class=\"text\"/></g><g class=\"trace scatter tracef178eb\" style=\"stroke-miterlimit: 2; opacity: 1;\"><g class=\"fills\"/><g class=\"errorbars\"/><g class=\"lines\"><path class=\"js-line\" d=\"M184.86,119.57L221.22,119.57\" style=\"vector-effect: non-scaling-stroke; fill: none; stroke: rgb(102, 186, 231); stroke-opacity: 1; stroke-width: 2px; opacity: 1;\"/></g><g class=\"points\"/><g class=\"text\"/></g><g class=\"trace scatter trace103060\" style=\"stroke-miterlimit: 2; opacity: 1;\"><g class=\"fills\"/><g class=\"errorbars\"/><g class=\"lines\"><path class=\"js-line\" d=\"M184.53,121.11L185.49,121.11\" style=\"vector-effect: non-scaling-stroke; fill: none; stroke: rgb(102, 186, 231); stroke-opacity: 1; stroke-width: 2px; opacity: 1;\"/></g><g class=\"points\"/><g class=\"text\"/></g><g class=\"trace scatter trace4e8568\" style=\"stroke-miterlimit: 2; opacity: 1;\"><g class=\"fills\"/><g class=\"errorbars\"/><g class=\"lines\"><path class=\"js-line\" d=\"M184.08,122.64L309.51,122.64\" style=\"vector-effect: non-scaling-stroke; fill: none; stroke: rgb(102, 186, 231); stroke-opacity: 1; stroke-width: 2px; opacity: 1;\"/></g><g class=\"points\"/><g class=\"text\"/></g><g class=\"trace scatter traceb4a75d\" style=\"stroke-miterlimit: 2; opacity: 1;\"><g class=\"fills\"/><g class=\"errorbars\"/><g class=\"lines\"><path class=\"js-line\" d=\"M182.55,124.18L226.48,124.18\" style=\"vector-effect: non-scaling-stroke; fill: none; stroke: rgb(102, 186, 231); stroke-opacity: 1; stroke-width: 2px; opacity: 1;\"/></g><g class=\"points\"/><g class=\"text\"/></g><g class=\"trace scatter trace584501\" style=\"stroke-miterlimit: 2; opacity: 1;\"><g class=\"fills\"/><g class=\"errorbars\"/><g class=\"lines\"><path class=\"js-line\" d=\"M180.97,125.72L227.08,125.72\" style=\"vector-effect: non-scaling-stroke; fill: none; stroke: rgb(102, 186, 231); stroke-opacity: 1; stroke-width: 2px; opacity: 1;\"/></g><g class=\"points\"/><g class=\"text\"/></g><g class=\"trace scatter trace365c48\" style=\"stroke-miterlimit: 2; opacity: 1;\"><g class=\"fills\"/><g class=\"errorbars\"/><g class=\"lines\"><path class=\"js-line\" d=\"M178.84,127.26L207.27,127.26\" style=\"vector-effect: non-scaling-stroke; fill: none; stroke: rgb(102, 186, 231); stroke-opacity: 1; stroke-width: 2px; opacity: 1;\"/></g><g class=\"points\"/><g class=\"text\"/></g><g class=\"trace scatter trace1cac0a\" style=\"stroke-miterlimit: 2; opacity: 1;\"><g class=\"fills\"/><g class=\"errorbars\"/><g class=\"lines\"><path class=\"js-line\" d=\"M178.65,128.8L221.65,128.8\" style=\"vector-effect: non-scaling-stroke; fill: none; stroke: rgb(102, 186, 231); stroke-opacity: 1; stroke-width: 2px; opacity: 1;\"/></g><g class=\"points\"/><g class=\"text\"/></g><g class=\"trace scatter tracecb6070\" style=\"stroke-miterlimit: 2; opacity: 1;\"><g class=\"fills\"/><g class=\"errorbars\"/><g class=\"lines\"><path class=\"js-line\" d=\"M175.95,130.34L179.47,130.34\" style=\"vector-effect: non-scaling-stroke; fill: none; stroke: rgb(102, 186, 231); stroke-opacity: 1; stroke-width: 2px; opacity: 1;\"/></g><g class=\"points\"/><g class=\"text\"/></g><g class=\"trace scatter tracef5d8f5\" style=\"stroke-miterlimit: 2; opacity: 1;\"><g class=\"fills\"/><g class=\"errorbars\"/><g class=\"lines\"><path class=\"js-line\" d=\"M175.54,131.88L261.11,131.88\" style=\"vector-effect: non-scaling-stroke; fill: none; stroke: rgb(102, 186, 231); stroke-opacity: 1; stroke-width: 2px; opacity: 1;\"/></g><g class=\"points\"/><g class=\"text\"/></g><g class=\"trace scatter traced919c9\" style=\"stroke-miterlimit: 2; opacity: 1;\"><g class=\"fills\"/><g class=\"errorbars\"/><g class=\"lines\"><path class=\"js-line\" d=\"M174.6,133.42L198.7,133.42\" style=\"vector-effect: non-scaling-stroke; fill: none; stroke: rgb(102, 186, 231); stroke-opacity: 1; stroke-width: 2px; opacity: 1;\"/></g><g class=\"points\"/><g class=\"text\"/></g><g class=\"trace scatter trace163e94\" style=\"stroke-miterlimit: 2; opacity: 1;\"><g class=\"fills\"/><g class=\"errorbars\"/><g class=\"lines\"><path class=\"js-line\" d=\"M173.69,134.96L220.51,134.96\" style=\"vector-effect: non-scaling-stroke; fill: none; stroke: rgb(102, 186, 231); stroke-opacity: 1; stroke-width: 2px; opacity: 1;\"/></g><g class=\"points\"/><g class=\"text\"/></g><g class=\"trace scatter trace39e255\" style=\"stroke-miterlimit: 2; opacity: 1;\"><g class=\"fills\"/><g class=\"errorbars\"/><g class=\"lines\"><path class=\"js-line\" d=\"M173.41,136.5L286.28,136.5\" style=\"vector-effect: non-scaling-stroke; fill: none; stroke: rgb(102, 186, 231); stroke-opacity: 1; stroke-width: 2px; opacity: 1;\"/></g><g class=\"points\"/><g class=\"text\"/></g><g class=\"trace scatter traceb20b4d\" style=\"stroke-miterlimit: 2; opacity: 1;\"><g class=\"fills\"/><g class=\"errorbars\"/><g class=\"lines\"><path class=\"js-line\" d=\"M172.7,138.04L186.06,138.04\" style=\"vector-effect: non-scaling-stroke; fill: none; stroke: rgb(102, 186, 231); stroke-opacity: 1; stroke-width: 2px; opacity: 1;\"/></g><g class=\"points\"/><g class=\"text\"/></g><g class=\"trace scatter tracec5da6a\" style=\"stroke-miterlimit: 2; opacity: 1;\"><g class=\"fills\"/><g class=\"errorbars\"/><g class=\"lines\"><path class=\"js-line\" d=\"M172.55,139.58L221.18,139.58\" style=\"vector-effect: non-scaling-stroke; fill: none; stroke: rgb(102, 186, 231); stroke-opacity: 1; stroke-width: 2px; opacity: 1;\"/></g><g class=\"points\"/><g class=\"text\"/></g><g class=\"trace scatter trace5d9beb\" style=\"stroke-miterlimit: 2; opacity: 1;\"><g class=\"fills\"/><g class=\"errorbars\"/><g class=\"lines\"><path class=\"js-line\" d=\"M171.49,141.12L272.25,141.12\" style=\"vector-effect: non-scaling-stroke; fill: none; stroke: rgb(102, 186, 231); stroke-opacity: 1; stroke-width: 2px; opacity: 1;\"/></g><g class=\"points\"/><g class=\"text\"/></g><g class=\"trace scatter trace9d9fbe\" style=\"stroke-miterlimit: 2; opacity: 1;\"><g class=\"fills\"/><g class=\"errorbars\"/><g class=\"lines\"><path class=\"js-line\" d=\"M171.35,142.66L174.34,142.66\" style=\"vector-effect: non-scaling-stroke; fill: none; stroke: rgb(102, 186, 231); stroke-opacity: 1; stroke-width: 2px; opacity: 1;\"/></g><g class=\"points\"/><g class=\"text\"/></g><g class=\"trace scatter trace9e7ce0\" style=\"stroke-miterlimit: 2; opacity: 1;\"><g class=\"fills\"/><g class=\"errorbars\"/><g class=\"lines\"><path class=\"js-line\" d=\"M170.92,144.2L341.18,144.2\" style=\"vector-effect: non-scaling-stroke; fill: none; stroke: rgb(102, 186, 231); stroke-opacity: 1; stroke-width: 2px; opacity: 1;\"/></g><g class=\"points\"/><g class=\"text\"/></g><g class=\"trace scatter trace4a9b50\" style=\"stroke-miterlimit: 2; opacity: 1;\"><g class=\"fills\"/><g class=\"errorbars\"/><g class=\"lines\"><path class=\"js-line\" d=\"M170.52,145.74L185.61,145.74\" style=\"vector-effect: non-scaling-stroke; fill: none; stroke: rgb(102, 186, 231); stroke-opacity: 1; stroke-width: 2px; opacity: 1;\"/></g><g class=\"points\"/><g class=\"text\"/></g><g class=\"trace scatter trace0c8b0c\" style=\"stroke-miterlimit: 2; opacity: 1;\"><g class=\"fills\"/><g class=\"errorbars\"/><g class=\"lines\"><path class=\"js-line\" d=\"M169.25,147.28L248.26,147.28\" style=\"vector-effect: non-scaling-stroke; fill: none; stroke: rgb(102, 186, 231); stroke-opacity: 1; stroke-width: 2px; opacity: 1;\"/></g><g class=\"points\"/><g class=\"text\"/></g><g class=\"trace scatter tracef6af76\" style=\"stroke-miterlimit: 2; opacity: 1;\"><g class=\"fills\"/><g class=\"errorbars\"/><g class=\"lines\"><path class=\"js-line\" d=\"M168.06,148.82L178.89,148.82\" style=\"vector-effect: non-scaling-stroke; fill: none; stroke: rgb(102, 186, 231); stroke-opacity: 1; stroke-width: 2px; opacity: 1;\"/></g><g class=\"points\"/><g class=\"text\"/></g><g class=\"trace scatter tracee63c78\" style=\"stroke-miterlimit: 2; opacity: 1;\"><g class=\"fills\"/><g class=\"errorbars\"/><g class=\"lines\"><path class=\"js-line\" d=\"M165.75,150.36L201.29,150.36\" style=\"vector-effect: non-scaling-stroke; fill: none; stroke: rgb(102, 186, 231); stroke-opacity: 1; stroke-width: 2px; opacity: 1;\"/></g><g class=\"points\"/><g class=\"text\"/></g><g class=\"trace scatter trace06d192\" style=\"stroke-miterlimit: 2; opacity: 1;\"><g class=\"fills\"/><g class=\"errorbars\"/><g class=\"lines\"><path class=\"js-line\" d=\"M165.25,151.89L222.18,151.89\" style=\"vector-effect: non-scaling-stroke; fill: none; stroke: rgb(102, 186, 231); stroke-opacity: 1; stroke-width: 2px; opacity: 1;\"/></g><g class=\"points\"/><g class=\"text\"/></g><g class=\"trace scatter traceaea4e7\" style=\"stroke-miterlimit: 2; opacity: 1;\"><g class=\"fills\"/><g class=\"errorbars\"/><g class=\"lines\"><path class=\"js-line\" d=\"M163.82,153.43L255.51,153.43\" style=\"vector-effect: non-scaling-stroke; fill: none; stroke: rgb(102, 186, 231); stroke-opacity: 1; stroke-width: 2px; opacity: 1;\"/></g><g class=\"points\"/><g class=\"text\"/></g><g class=\"trace scatter trace00ebde\" style=\"stroke-miterlimit: 2; opacity: 1;\"><g class=\"fills\"/><g class=\"errorbars\"/><g class=\"lines\"><path class=\"js-line\" d=\"M163.67,154.97L190.09,154.97\" style=\"vector-effect: non-scaling-stroke; fill: none; stroke: rgb(102, 186, 231); stroke-opacity: 1; stroke-width: 2px; opacity: 1;\"/></g><g class=\"points\"/><g class=\"text\"/></g><g class=\"trace scatter trace9efb8d\" style=\"stroke-miterlimit: 2; opacity: 1;\"><g class=\"fills\"/><g class=\"errorbars\"/><g class=\"lines\"><path class=\"js-line\" d=\"M163.45,156.51L209.93,156.51\" style=\"vector-effect: non-scaling-stroke; fill: none; stroke: rgb(102, 186, 231); stroke-opacity: 1; stroke-width: 2px; opacity: 1;\"/></g><g class=\"points\"/><g class=\"text\"/></g><g class=\"trace scatter trace143676\" style=\"stroke-miterlimit: 2; opacity: 1;\"><g class=\"fills\"/><g class=\"errorbars\"/><g class=\"lines\"><path class=\"js-line\" d=\"M163.2,158.05L206.81,158.05\" style=\"vector-effect: non-scaling-stroke; fill: none; stroke: rgb(102, 186, 231); stroke-opacity: 1; stroke-width: 2px; opacity: 1;\"/></g><g class=\"points\"/><g class=\"text\"/></g><g class=\"trace scatter trace364052\" style=\"stroke-miterlimit: 2; opacity: 1;\"><g class=\"fills\"/><g class=\"errorbars\"/><g class=\"lines\"><path class=\"js-line\" d=\"M162.92,159.59L177.06,159.59\" style=\"vector-effect: non-scaling-stroke; fill: none; stroke: rgb(102, 186, 231); stroke-opacity: 1; stroke-width: 2px; opacity: 1;\"/></g><g class=\"points\"/><g class=\"text\"/></g><g class=\"trace scatter tracec22786\" style=\"stroke-miterlimit: 2; opacity: 1;\"><g class=\"fills\"/><g class=\"errorbars\"/><g class=\"lines\"><path class=\"js-line\" d=\"M162.25,161.13L220.12,161.13\" style=\"vector-effect: non-scaling-stroke; fill: none; stroke: rgb(102, 186, 231); stroke-opacity: 1; stroke-width: 2px; opacity: 1;\"/></g><g class=\"points\"/><g class=\"text\"/></g><g class=\"trace scatter traceca2509\" style=\"stroke-miterlimit: 2; opacity: 1;\"><g class=\"fills\"/><g class=\"errorbars\"/><g class=\"lines\"><path class=\"js-line\" d=\"M160.7,162.67L160.86,162.67\" style=\"vector-effect: non-scaling-stroke; fill: none; stroke: rgb(102, 186, 231); stroke-opacity: 1; stroke-width: 2px; opacity: 1;\"/></g><g class=\"points\"/><g class=\"text\"/></g><g class=\"trace scatter tracedd9766\" style=\"stroke-miterlimit: 2; opacity: 1;\"><g class=\"fills\"/><g class=\"errorbars\"/><g class=\"lines\"><path class=\"js-line\" d=\"M160.68,164.21L188.55,164.21\" style=\"vector-effect: non-scaling-stroke; fill: none; stroke: rgb(102, 186, 231); stroke-opacity: 1; stroke-width: 2px; opacity: 1;\"/></g><g class=\"points\"/><g class=\"text\"/></g><g class=\"trace scatter trace51eda3\" style=\"stroke-miterlimit: 2; opacity: 1;\"><g class=\"fills\"/><g class=\"errorbars\"/><g class=\"lines\"><path class=\"js-line\" d=\"M160.04,165.75L240.37,165.75\" style=\"vector-effect: non-scaling-stroke; fill: none; stroke: rgb(102, 186, 231); stroke-opacity: 1; stroke-width: 2px; opacity: 1;\"/></g><g class=\"points\"/><g class=\"text\"/></g><g class=\"trace scatter tracec1a3d7\" style=\"stroke-miterlimit: 2; opacity: 1;\"><g class=\"fills\"/><g class=\"errorbars\"/><g class=\"lines\"><path class=\"js-line\" d=\"M159.94,167.29L310.13,167.29\" style=\"vector-effect: non-scaling-stroke; fill: none; stroke: rgb(102, 186, 231); stroke-opacity: 1; stroke-width: 2px; opacity: 1;\"/></g><g class=\"points\"/><g class=\"text\"/></g><g class=\"trace scatter tracef50857\" style=\"stroke-miterlimit: 2; opacity: 1;\"><g class=\"fills\"/><g class=\"errorbars\"/><g class=\"lines\"><path class=\"js-line\" d=\"M159.6,168.83L243.83,168.83\" style=\"vector-effect: non-scaling-stroke; fill: none; stroke: rgb(102, 186, 231); stroke-opacity: 1; stroke-width: 2px; opacity: 1;\"/></g><g class=\"points\"/><g class=\"text\"/></g><g class=\"trace scatter trace3ccdb3\" style=\"stroke-miterlimit: 2; opacity: 1;\"><g class=\"fills\"/><g class=\"errorbars\"/><g class=\"lines\"><path class=\"js-line\" d=\"M159.31,170.37L174.44,170.37\" style=\"vector-effect: non-scaling-stroke; fill: none; stroke: rgb(102, 186, 231); stroke-opacity: 1; stroke-width: 2px; opacity: 1;\"/></g><g class=\"points\"/><g class=\"text\"/></g><g class=\"trace scatter trace52e427\" style=\"stroke-miterlimit: 2; opacity: 1;\"><g class=\"fills\"/><g class=\"errorbars\"/><g class=\"lines\"><path class=\"js-line\" d=\"M159.15,171.91L189.13,171.91\" style=\"vector-effect: non-scaling-stroke; fill: none; stroke: rgb(102, 186, 231); stroke-opacity: 1; stroke-width: 2px; opacity: 1;\"/></g><g class=\"points\"/><g class=\"text\"/></g><g class=\"trace scatter trace681e60\" style=\"stroke-miterlimit: 2; opacity: 1;\"><g class=\"fills\"/><g class=\"errorbars\"/><g class=\"lines\"><path class=\"js-line\" d=\"M158.16,173.45L224.73,173.45\" style=\"vector-effect: non-scaling-stroke; fill: none; stroke: rgb(102, 186, 231); stroke-opacity: 1; stroke-width: 2px; opacity: 1;\"/></g><g class=\"points\"/><g class=\"text\"/></g><g class=\"trace scatter trace7eac41\" style=\"stroke-miterlimit: 2; opacity: 1;\"><g class=\"fills\"/><g class=\"errorbars\"/><g class=\"lines\"><path class=\"js-line\" d=\"M157.97,174.99L188.48,174.99\" style=\"vector-effect: non-scaling-stroke; fill: none; stroke: rgb(102, 186, 231); stroke-opacity: 1; stroke-width: 2px; opacity: 1;\"/></g><g class=\"points\"/><g class=\"text\"/></g><g class=\"trace scatter trace21e283\" style=\"stroke-miterlimit: 2; opacity: 1;\"><g class=\"fills\"/><g class=\"errorbars\"/><g class=\"lines\"><path class=\"js-line\" d=\"M157.06,176.53L226.78,176.53\" style=\"vector-effect: non-scaling-stroke; fill: none; stroke: rgb(102, 186, 231); stroke-opacity: 1; stroke-width: 2px; opacity: 1;\"/></g><g class=\"points\"/><g class=\"text\"/></g><g class=\"trace scatter tracece7e62\" style=\"stroke-miterlimit: 2; opacity: 1;\"><g class=\"fills\"/><g class=\"errorbars\"/><g class=\"lines\"><path class=\"js-line\" d=\"M154.87,178.07L248.13,178.07\" style=\"vector-effect: non-scaling-stroke; fill: none; stroke: rgb(102, 186, 231); stroke-opacity: 1; stroke-width: 2px; opacity: 1;\"/></g><g class=\"points\"/><g class=\"text\"/></g><g class=\"trace scatter traceb0e55c\" style=\"stroke-miterlimit: 2; opacity: 1;\"><g class=\"fills\"/><g class=\"errorbars\"/><g class=\"lines\"><path class=\"js-line\" d=\"M154.11,179.61L162.78,179.61\" style=\"vector-effect: non-scaling-stroke; fill: none; stroke: rgb(102, 186, 231); stroke-opacity: 1; stroke-width: 2px; opacity: 1;\"/></g><g class=\"points\"/><g class=\"text\"/></g><g class=\"trace scatter trace70b0f8\" style=\"stroke-miterlimit: 2; opacity: 1;\"><g class=\"fills\"/><g class=\"errorbars\"/><g class=\"lines\"><path class=\"js-line\" d=\"M154.09,181.14L155.93,181.14\" style=\"vector-effect: non-scaling-stroke; fill: none; stroke: rgb(102, 186, 231); stroke-opacity: 1; stroke-width: 2px; opacity: 1;\"/></g><g class=\"points\"/><g class=\"text\"/></g><g class=\"trace scatter tracea1e3af\" style=\"stroke-miterlimit: 2; opacity: 1;\"><g class=\"fills\"/><g class=\"errorbars\"/><g class=\"lines\"><path class=\"js-line\" d=\"M153.91,182.68L160.8,182.68\" style=\"vector-effect: non-scaling-stroke; fill: none; stroke: rgb(102, 186, 231); stroke-opacity: 1; stroke-width: 2px; opacity: 1;\"/></g><g class=\"points\"/><g class=\"text\"/></g><g class=\"trace scatter trace90577d\" style=\"stroke-miterlimit: 2; opacity: 1;\"><g class=\"fills\"/><g class=\"errorbars\"/><g class=\"lines\"><path class=\"js-line\" d=\"M153.7,184.22L203.99,184.22\" style=\"vector-effect: non-scaling-stroke; fill: none; stroke: rgb(102, 186, 231); stroke-opacity: 1; stroke-width: 2px; opacity: 1;\"/></g><g class=\"points\"/><g class=\"text\"/></g><g class=\"trace scatter tracedf1f3c\" style=\"stroke-miterlimit: 2; opacity: 1;\"><g class=\"fills\"/><g class=\"errorbars\"/><g class=\"lines\"><path class=\"js-line\" d=\"M153.18,185.76L181.58,185.76\" style=\"vector-effect: non-scaling-stroke; fill: none; stroke: rgb(102, 186, 231); stroke-opacity: 1; stroke-width: 2px; opacity: 1;\"/></g><g class=\"points\"/><g class=\"text\"/></g><g class=\"trace scatter traced2d660\" style=\"stroke-miterlimit: 2; opacity: 1;\"><g class=\"fills\"/><g class=\"errorbars\"/><g class=\"lines\"><path class=\"js-line\" d=\"M152.67,187.3L187.89,187.3\" style=\"vector-effect: non-scaling-stroke; fill: none; stroke: rgb(102, 186, 231); stroke-opacity: 1; stroke-width: 2px; opacity: 1;\"/></g><g class=\"points\"/><g class=\"text\"/></g><g class=\"trace scatter trace71acf8\" style=\"stroke-miterlimit: 2; opacity: 1;\"><g class=\"fills\"/><g class=\"errorbars\"/><g class=\"lines\"><path class=\"js-line\" d=\"M151.77,188.84L230.93,188.84\" style=\"vector-effect: non-scaling-stroke; fill: none; stroke: rgb(102, 186, 231); stroke-opacity: 1; stroke-width: 2px; opacity: 1;\"/></g><g class=\"points\"/><g class=\"text\"/></g><g class=\"trace scatter trace4433f6\" style=\"stroke-miterlimit: 2; opacity: 1;\"><g class=\"fills\"/><g class=\"errorbars\"/><g class=\"lines\"><path class=\"js-line\" d=\"M151.59,190.38L179.64,190.38\" style=\"vector-effect: non-scaling-stroke; fill: none; stroke: rgb(102, 186, 231); stroke-opacity: 1; stroke-width: 2px; opacity: 1;\"/></g><g class=\"points\"/><g class=\"text\"/></g><g class=\"trace scatter tracef2ebf3\" style=\"stroke-miterlimit: 2; opacity: 1;\"><g class=\"fills\"/><g class=\"errorbars\"/><g class=\"lines\"><path class=\"js-line\" d=\"M151.36,191.92L273.4,191.92\" style=\"vector-effect: non-scaling-stroke; fill: none; stroke: rgb(102, 186, 231); stroke-opacity: 1; stroke-width: 2px; opacity: 1;\"/></g><g class=\"points\"/><g class=\"text\"/></g><g class=\"trace scatter tracef9a07f\" style=\"stroke-miterlimit: 2; opacity: 1;\"><g class=\"fills\"/><g class=\"errorbars\"/><g class=\"lines\"><path class=\"js-line\" d=\"M150.26,193.46L284.24,193.46\" style=\"vector-effect: non-scaling-stroke; fill: none; stroke: rgb(102, 186, 231); stroke-opacity: 1; stroke-width: 2px; opacity: 1;\"/></g><g class=\"points\"/><g class=\"text\"/></g><g class=\"trace scatter trace6ed9db\" style=\"stroke-miterlimit: 2; opacity: 1;\"><g class=\"fills\"/><g class=\"errorbars\"/><g class=\"lines\"><path class=\"js-line\" d=\"M149.73,195L167.76,195\" style=\"vector-effect: non-scaling-stroke; fill: none; stroke: rgb(102, 186, 231); stroke-opacity: 1; stroke-width: 2px; opacity: 1;\"/></g><g class=\"points\"/><g class=\"text\"/></g><g class=\"trace scatter tracea0d537\" style=\"stroke-miterlimit: 2; opacity: 1;\"><g class=\"fills\"/><g class=\"errorbars\"/><g class=\"lines\"><path class=\"js-line\" d=\"M148.83,196.54L228.89,196.54\" style=\"vector-effect: non-scaling-stroke; fill: none; stroke: rgb(102, 186, 231); stroke-opacity: 1; stroke-width: 2px; opacity: 1;\"/></g><g class=\"points\"/><g class=\"text\"/></g><g class=\"trace scatter trace39ebe8\" style=\"stroke-miterlimit: 2; opacity: 1;\"><g class=\"fills\"/><g class=\"errorbars\"/><g class=\"lines\"><path class=\"js-line\" d=\"M148.62,198.08L205.99,198.08\" style=\"vector-effect: non-scaling-stroke; fill: none; stroke: rgb(102, 186, 231); stroke-opacity: 1; stroke-width: 2px; opacity: 1;\"/></g><g class=\"points\"/><g class=\"text\"/></g><g class=\"trace scatter tracea685e4\" style=\"stroke-miterlimit: 2; opacity: 1;\"><g class=\"fills\"/><g class=\"errorbars\"/><g class=\"lines\"><path class=\"js-line\" d=\"M148.46,199.62L285.97,199.62\" style=\"vector-effect: non-scaling-stroke; fill: none; stroke: rgb(102, 186, 231); stroke-opacity: 1; stroke-width: 2px; opacity: 1;\"/></g><g class=\"points\"/><g class=\"text\"/></g><g class=\"trace scatter tracee1ed77\" style=\"stroke-miterlimit: 2; opacity: 1;\"><g class=\"fills\"/><g class=\"errorbars\"/><g class=\"lines\"><path class=\"js-line\" d=\"M148.04,201.16L298.54,201.16\" style=\"vector-effect: non-scaling-stroke; fill: none; stroke: rgb(102, 186, 231); stroke-opacity: 1; stroke-width: 2px; opacity: 1;\"/></g><g class=\"points\"/><g class=\"text\"/></g><g class=\"trace scatter trace5e233d\" style=\"stroke-miterlimit: 2; opacity: 1;\"><g class=\"fills\"/><g class=\"errorbars\"/><g class=\"lines\"><path class=\"js-line\" d=\"M147.18,202.7L361.88,202.7\" style=\"vector-effect: non-scaling-stroke; fill: none; stroke: rgb(102, 186, 231); stroke-opacity: 1; stroke-width: 2px; opacity: 1;\"/></g><g class=\"points\"/><g class=\"text\"/></g><g class=\"trace scatter trace86b2cf\" style=\"stroke-miterlimit: 2; opacity: 1;\"><g class=\"fills\"/><g class=\"errorbars\"/><g class=\"lines\"><path class=\"js-line\" d=\"M145.87,204.24L274.6,204.24\" style=\"vector-effect: non-scaling-stroke; fill: none; stroke: rgb(102, 186, 231); stroke-opacity: 1; stroke-width: 2px; opacity: 1;\"/></g><g class=\"points\"/><g class=\"text\"/></g><g class=\"trace scatter trace777f68\" style=\"stroke-miterlimit: 2; opacity: 1;\"><g class=\"fills\"/><g class=\"errorbars\"/><g class=\"lines\"><path class=\"js-line\" d=\"M144.95,205.78L181.04,205.78\" style=\"vector-effect: non-scaling-stroke; fill: none; stroke: rgb(102, 186, 231); stroke-opacity: 1; stroke-width: 2px; opacity: 1;\"/></g><g class=\"points\"/><g class=\"text\"/></g><g class=\"trace scatter tracec4e6cb\" style=\"stroke-miterlimit: 2; opacity: 1;\"><g class=\"fills\"/><g class=\"errorbars\"/><g class=\"lines\"><path class=\"js-line\" d=\"M144.53,207.32L199.54,207.32\" style=\"vector-effect: non-scaling-stroke; fill: none; stroke: rgb(102, 186, 231); stroke-opacity: 1; stroke-width: 2px; opacity: 1;\"/></g><g class=\"points\"/><g class=\"text\"/></g><g class=\"trace scatter trace2f23cc\" style=\"stroke-miterlimit: 2; opacity: 1;\"><g class=\"fills\"/><g class=\"errorbars\"/><g class=\"lines\"><path class=\"js-line\" d=\"M143.31,208.86L252.66,208.86\" style=\"vector-effect: non-scaling-stroke; fill: none; stroke: rgb(102, 186, 231); stroke-opacity: 1; stroke-width: 2px; opacity: 1;\"/></g><g class=\"points\"/><g class=\"text\"/></g><g class=\"trace scatter trace2575bd\" style=\"stroke-miterlimit: 2; opacity: 1;\"><g class=\"fills\"/><g class=\"errorbars\"/><g class=\"lines\"><path class=\"js-line\" d=\"M142.34,210.39L270.74,210.39\" style=\"vector-effect: non-scaling-stroke; fill: none; stroke: rgb(102, 186, 231); stroke-opacity: 1; stroke-width: 2px; opacity: 1;\"/></g><g class=\"points\"/><g class=\"text\"/></g><g class=\"trace scatter tracebb414d\" style=\"stroke-miterlimit: 2; opacity: 1;\"><g class=\"fills\"/><g class=\"errorbars\"/><g class=\"lines\"><path class=\"js-line\" d=\"M139.47,211.93L259.04,211.93\" style=\"vector-effect: non-scaling-stroke; fill: none; stroke: rgb(102, 186, 231); stroke-opacity: 1; stroke-width: 2px; opacity: 1;\"/></g><g class=\"points\"/><g class=\"text\"/></g><g class=\"trace scatter trace95ca6a\" style=\"stroke-miterlimit: 2; opacity: 1;\"><g class=\"fills\"/><g class=\"errorbars\"/><g class=\"lines\"><path class=\"js-line\" d=\"M139.3,213.47L264.15,213.47\" style=\"vector-effect: non-scaling-stroke; fill: none; stroke: rgb(102, 186, 231); stroke-opacity: 1; stroke-width: 2px; opacity: 1;\"/></g><g class=\"points\"/><g class=\"text\"/></g><g class=\"trace scatter trace23d91c\" style=\"stroke-miterlimit: 2; opacity: 1;\"><g class=\"fills\"/><g class=\"errorbars\"/><g class=\"lines\"><path class=\"js-line\" d=\"M138.43,215.01L198.66,215.01\" style=\"vector-effect: non-scaling-stroke; fill: none; stroke: rgb(102, 186, 231); stroke-opacity: 1; stroke-width: 2px; opacity: 1;\"/></g><g class=\"points\"/><g class=\"text\"/></g><g class=\"trace scatter trace04a031\" style=\"stroke-miterlimit: 2; opacity: 1;\"><g class=\"fills\"/><g class=\"errorbars\"/><g class=\"lines\"><path class=\"js-line\" d=\"M138.16,216.55L174.05,216.55\" style=\"vector-effect: non-scaling-stroke; fill: none; stroke: rgb(102, 186, 231); stroke-opacity: 1; stroke-width: 2px; opacity: 1;\"/></g><g class=\"points\"/><g class=\"text\"/></g><g class=\"trace scatter trace0ee21e\" style=\"stroke-miterlimit: 2; opacity: 1;\"><g class=\"fills\"/><g class=\"errorbars\"/><g class=\"lines\"><path class=\"js-line\" d=\"M137.86,218.09L268.68,218.09\" style=\"vector-effect: non-scaling-stroke; fill: none; stroke: rgb(102, 186, 231); stroke-opacity: 1; stroke-width: 2px; opacity: 1;\"/></g><g class=\"points\"/><g class=\"text\"/></g><g class=\"trace scatter tracebbf97b\" style=\"stroke-miterlimit: 2; opacity: 1;\"><g class=\"fills\"/><g class=\"errorbars\"/><g class=\"lines\"><path class=\"js-line\" d=\"M137.12,219.63L186.14,219.63\" style=\"vector-effect: non-scaling-stroke; fill: none; stroke: rgb(102, 186, 231); stroke-opacity: 1; stroke-width: 2px; opacity: 1;\"/></g><g class=\"points\"/><g class=\"text\"/></g><g class=\"trace scatter trace8c4333\" style=\"stroke-miterlimit: 2; opacity: 1;\"><g class=\"fills\"/><g class=\"errorbars\"/><g class=\"lines\"><path class=\"js-line\" d=\"M136.33,221.17L200.49,221.17\" style=\"vector-effect: non-scaling-stroke; fill: none; stroke: rgb(102, 186, 231); stroke-opacity: 1; stroke-width: 2px; opacity: 1;\"/></g><g class=\"points\"/><g class=\"text\"/></g><g class=\"trace scatter trace01ff10\" style=\"stroke-miterlimit: 2; opacity: 1;\"><g class=\"fills\"/><g class=\"errorbars\"/><g class=\"lines\"><path class=\"js-line\" d=\"M136.08,222.71L157.13,222.71\" style=\"vector-effect: non-scaling-stroke; fill: none; stroke: rgb(102, 186, 231); stroke-opacity: 1; stroke-width: 2px; opacity: 1;\"/></g><g class=\"points\"/><g class=\"text\"/></g><g class=\"trace scatter tracedd2a6c\" style=\"stroke-miterlimit: 2; opacity: 1;\"><g class=\"fills\"/><g class=\"errorbars\"/><g class=\"lines\"><path class=\"js-line\" d=\"M135.39,224.25L160.66,224.25\" style=\"vector-effect: non-scaling-stroke; fill: none; stroke: rgb(102, 186, 231); stroke-opacity: 1; stroke-width: 2px; opacity: 1;\"/></g><g class=\"points\"/><g class=\"text\"/></g><g class=\"trace scatter trace493aff\" style=\"stroke-miterlimit: 2; opacity: 1;\"><g class=\"fills\"/><g class=\"errorbars\"/><g class=\"lines\"><path class=\"js-line\" d=\"M135.05,225.79L311.83,225.79\" style=\"vector-effect: non-scaling-stroke; fill: none; stroke: rgb(102, 186, 231); stroke-opacity: 1; stroke-width: 2px; opacity: 1;\"/></g><g class=\"points\"/><g class=\"text\"/></g><g class=\"trace scatter trace57bff7\" style=\"stroke-miterlimit: 2; opacity: 1;\"><g class=\"fills\"/><g class=\"errorbars\"/><g class=\"lines\"><path class=\"js-line\" d=\"M134.31,227.33L150.99,227.33\" style=\"vector-effect: non-scaling-stroke; fill: none; stroke: rgb(102, 186, 231); stroke-opacity: 1; stroke-width: 2px; opacity: 1;\"/></g><g class=\"points\"/><g class=\"text\"/></g><g class=\"trace scatter trace4bf245\" style=\"stroke-miterlimit: 2; opacity: 1;\"><g class=\"fills\"/><g class=\"errorbars\"/><g class=\"lines\"><path class=\"js-line\" d=\"M134.19,228.87L151.27,228.87\" style=\"vector-effect: non-scaling-stroke; fill: none; stroke: rgb(102, 186, 231); stroke-opacity: 1; stroke-width: 2px; opacity: 1;\"/></g><g class=\"points\"/><g class=\"text\"/></g><g class=\"trace scatter traceeba4fc\" style=\"stroke-miterlimit: 2; opacity: 1;\"><g class=\"fills\"/><g class=\"errorbars\"/><g class=\"lines\"><path class=\"js-line\" d=\"M132.83,230.41L174.73,230.41\" style=\"vector-effect: non-scaling-stroke; fill: none; stroke: rgb(102, 186, 231); stroke-opacity: 1; stroke-width: 2px; opacity: 1;\"/></g><g class=\"points\"/><g class=\"text\"/></g><g class=\"trace scatter traceef7e5b\" style=\"stroke-miterlimit: 2; opacity: 1;\"><g class=\"fills\"/><g class=\"errorbars\"/><g class=\"lines\"><path class=\"js-line\" d=\"M131.97,231.95L133.21,231.95\" style=\"vector-effect: non-scaling-stroke; fill: none; stroke: rgb(102, 186, 231); stroke-opacity: 1; stroke-width: 2px; opacity: 1;\"/></g><g class=\"points\"/><g class=\"text\"/></g><g class=\"trace scatter trace3e98b2\" style=\"stroke-miterlimit: 2; opacity: 1;\"><g class=\"fills\"/><g class=\"errorbars\"/><g class=\"lines\"><path class=\"js-line\" d=\"M131.65,233.49L252.62,233.49\" style=\"vector-effect: non-scaling-stroke; fill: none; stroke: rgb(102, 186, 231); stroke-opacity: 1; stroke-width: 2px; opacity: 1;\"/></g><g class=\"points\"/><g class=\"text\"/></g><g class=\"trace scatter tracedd5668\" style=\"stroke-miterlimit: 2; opacity: 1;\"><g class=\"fills\"/><g class=\"errorbars\"/><g class=\"lines\"><path class=\"js-line\" d=\"M131.52,235.03L154.98,235.03\" style=\"vector-effect: non-scaling-stroke; fill: none; stroke: rgb(102, 186, 231); stroke-opacity: 1; stroke-width: 2px; opacity: 1;\"/></g><g class=\"points\"/><g class=\"text\"/></g><g class=\"trace scatter trace25b80b\" style=\"stroke-miterlimit: 2; opacity: 1;\"><g class=\"fills\"/><g class=\"errorbars\"/><g class=\"lines\"><path class=\"js-line\" d=\"M131.31,236.57L144.37,236.57\" style=\"vector-effect: non-scaling-stroke; fill: none; stroke: rgb(102, 186, 231); stroke-opacity: 1; stroke-width: 2px; opacity: 1;\"/></g><g class=\"points\"/><g class=\"text\"/></g><g class=\"trace scatter trace4b70f2\" style=\"stroke-miterlimit: 2; opacity: 1;\"><g class=\"fills\"/><g class=\"errorbars\"/><g class=\"lines\"><path class=\"js-line\" d=\"M131.26,238.11L187.25,238.11\" style=\"vector-effect: non-scaling-stroke; fill: none; stroke: rgb(102, 186, 231); stroke-opacity: 1; stroke-width: 2px; opacity: 1;\"/></g><g class=\"points\"/><g class=\"text\"/></g><g class=\"trace scatter traceab4f28\" style=\"stroke-miterlimit: 2; opacity: 1;\"><g class=\"fills\"/><g class=\"errorbars\"/><g class=\"lines\"><path class=\"js-line\" d=\"M130.78,239.64L145.83,239.64\" style=\"vector-effect: non-scaling-stroke; fill: none; stroke: rgb(102, 186, 231); stroke-opacity: 1; stroke-width: 2px; opacity: 1;\"/></g><g class=\"points\"/><g class=\"text\"/></g><g class=\"trace scatter trace115ba0\" style=\"stroke-miterlimit: 2; opacity: 1;\"><g class=\"fills\"/><g class=\"errorbars\"/><g class=\"lines\"><path class=\"js-line\" d=\"M130.58,241.18L288.93,241.18\" style=\"vector-effect: non-scaling-stroke; fill: none; stroke: rgb(102, 186, 231); stroke-opacity: 1; stroke-width: 2px; opacity: 1;\"/></g><g class=\"points\"/><g class=\"text\"/></g><g class=\"trace scatter trace1e8a4d\" style=\"stroke-miterlimit: 2; opacity: 1;\"><g class=\"fills\"/><g class=\"errorbars\"/><g class=\"lines\"><path class=\"js-line\" d=\"M129.17,242.72L142.07,242.72\" style=\"vector-effect: non-scaling-stroke; fill: none; stroke: rgb(102, 186, 231); stroke-opacity: 1; stroke-width: 2px; opacity: 1;\"/></g><g class=\"points\"/><g class=\"text\"/></g><g class=\"trace scatter traced3d819\" style=\"stroke-miterlimit: 2; opacity: 1;\"><g class=\"fills\"/><g class=\"errorbars\"/><g class=\"lines\"><path class=\"js-line\" d=\"M128.7,244.26L168.13,244.26\" style=\"vector-effect: non-scaling-stroke; fill: none; stroke: rgb(102, 186, 231); stroke-opacity: 1; stroke-width: 2px; opacity: 1;\"/></g><g class=\"points\"/><g class=\"text\"/></g><g class=\"trace scatter trace5bcc0d\" style=\"stroke-miterlimit: 2; opacity: 1;\"><g class=\"fills\"/><g class=\"errorbars\"/><g class=\"lines\"><path class=\"js-line\" d=\"M128.31,245.8L187.64,245.8\" style=\"vector-effect: non-scaling-stroke; fill: none; stroke: rgb(102, 186, 231); stroke-opacity: 1; stroke-width: 2px; opacity: 1;\"/></g><g class=\"points\"/><g class=\"text\"/></g><g class=\"trace scatter trace7e3824\" style=\"stroke-miterlimit: 2; opacity: 1;\"><g class=\"fills\"/><g class=\"errorbars\"/><g class=\"lines\"><path class=\"js-line\" d=\"M128.23,247.34L279.37,247.34\" style=\"vector-effect: non-scaling-stroke; fill: none; stroke: rgb(102, 186, 231); stroke-opacity: 1; stroke-width: 2px; opacity: 1;\"/></g><g class=\"points\"/><g class=\"text\"/></g><g class=\"trace scatter tracec61879\" style=\"stroke-miterlimit: 2; opacity: 1;\"><g class=\"fills\"/><g class=\"errorbars\"/><g class=\"lines\"><path class=\"js-line\" d=\"M128.12,248.88L165.52,248.88\" style=\"vector-effect: non-scaling-stroke; fill: none; stroke: rgb(102, 186, 231); stroke-opacity: 1; stroke-width: 2px; opacity: 1;\"/></g><g class=\"points\"/><g class=\"text\"/></g><g class=\"trace scatter traceedc67f\" style=\"stroke-miterlimit: 2; opacity: 1;\"><g class=\"fills\"/><g class=\"errorbars\"/><g class=\"lines\"><path class=\"js-line\" d=\"M127.95,250.42L311.75,250.42\" style=\"vector-effect: non-scaling-stroke; fill: none; stroke: rgb(102, 186, 231); stroke-opacity: 1; stroke-width: 2px; opacity: 1;\"/></g><g class=\"points\"/><g class=\"text\"/></g><g class=\"trace scatter tracee66e37\" style=\"stroke-miterlimit: 2; opacity: 1;\"><g class=\"fills\"/><g class=\"errorbars\"/><g class=\"lines\"><path class=\"js-line\" d=\"M127.6,251.96L176.2,251.96\" style=\"vector-effect: non-scaling-stroke; fill: none; stroke: rgb(102, 186, 231); stroke-opacity: 1; stroke-width: 2px; opacity: 1;\"/></g><g class=\"points\"/><g class=\"text\"/></g><g class=\"trace scatter tracedb7ad8\" style=\"stroke-miterlimit: 2; opacity: 1;\"><g class=\"fills\"/><g class=\"errorbars\"/><g class=\"lines\"><path class=\"js-line\" d=\"M126.98,253.5L220.08,253.5\" style=\"vector-effect: non-scaling-stroke; fill: none; stroke: rgb(102, 186, 231); stroke-opacity: 1; stroke-width: 2px; opacity: 1;\"/></g><g class=\"points\"/><g class=\"text\"/></g><g class=\"trace scatter tracef24339\" style=\"stroke-miterlimit: 2; opacity: 1;\"><g class=\"fills\"/><g class=\"errorbars\"/><g class=\"lines\"><path class=\"js-line\" d=\"M126.63,255.04L303.59,255.04\" style=\"vector-effect: non-scaling-stroke; fill: none; stroke: rgb(102, 186, 231); stroke-opacity: 1; stroke-width: 2px; opacity: 1;\"/></g><g class=\"points\"/><g class=\"text\"/></g><g class=\"trace scatter trace042481\" style=\"stroke-miterlimit: 2; opacity: 1;\"><g class=\"fills\"/><g class=\"errorbars\"/><g class=\"lines\"><path class=\"js-line\" d=\"M126.32,256.58L247.48,256.58\" style=\"vector-effect: non-scaling-stroke; fill: none; stroke: rgb(102, 186, 231); stroke-opacity: 1; stroke-width: 2px; opacity: 1;\"/></g><g class=\"points\"/><g class=\"text\"/></g><g class=\"trace scatter trace89939c\" style=\"stroke-miterlimit: 2; opacity: 1;\"><g class=\"fills\"/><g class=\"errorbars\"/><g class=\"lines\"><path class=\"js-line\" d=\"M126,258.12L144.46,258.12\" style=\"vector-effect: non-scaling-stroke; fill: none; stroke: rgb(102, 186, 231); stroke-opacity: 1; stroke-width: 2px; opacity: 1;\"/></g><g class=\"points\"/><g class=\"text\"/></g><g class=\"trace scatter trace31e8a7\" style=\"stroke-miterlimit: 2; opacity: 1;\"><g class=\"fills\"/><g class=\"errorbars\"/><g class=\"lines\"><path class=\"js-line\" d=\"M125.39,259.66L216.35,259.66\" style=\"vector-effect: non-scaling-stroke; fill: none; stroke: rgb(102, 186, 231); stroke-opacity: 1; stroke-width: 2px; opacity: 1;\"/></g><g class=\"points\"/><g class=\"text\"/></g><g class=\"trace scatter traced303da\" style=\"stroke-miterlimit: 2; opacity: 1;\"><g class=\"fills\"/><g class=\"errorbars\"/><g class=\"lines\"><path class=\"js-line\" d=\"M124.59,261.2L146.88,261.2\" style=\"vector-effect: non-scaling-stroke; fill: none; stroke: rgb(102, 186, 231); stroke-opacity: 1; stroke-width: 2px; opacity: 1;\"/></g><g class=\"points\"/><g class=\"text\"/></g><g class=\"trace scatter tracef4a173\" style=\"stroke-miterlimit: 2; opacity: 1;\"><g class=\"fills\"/><g class=\"errorbars\"/><g class=\"lines\"><path class=\"js-line\" d=\"M122.84,262.74L243.34,262.74\" style=\"vector-effect: non-scaling-stroke; fill: none; stroke: rgb(102, 186, 231); stroke-opacity: 1; stroke-width: 2px; opacity: 1;\"/></g><g class=\"points\"/><g class=\"text\"/></g><g class=\"trace scatter trace43b863\" style=\"stroke-miterlimit: 2; opacity: 1;\"><g class=\"fills\"/><g class=\"errorbars\"/><g class=\"lines\"><path class=\"js-line\" d=\"M121.95,264.28L175.83,264.28\" style=\"vector-effect: non-scaling-stroke; fill: none; stroke: rgb(102, 186, 231); stroke-opacity: 1; stroke-width: 2px; opacity: 1;\"/></g><g class=\"points\"/><g class=\"text\"/></g><g class=\"trace scatter traced47e0e\" style=\"stroke-miterlimit: 2; opacity: 1;\"><g class=\"fills\"/><g class=\"errorbars\"/><g class=\"lines\"><path class=\"js-line\" d=\"M120.34,265.82L149.23,265.82\" style=\"vector-effect: non-scaling-stroke; fill: none; stroke: rgb(102, 186, 231); stroke-opacity: 1; stroke-width: 2px; opacity: 1;\"/></g><g class=\"points\"/><g class=\"text\"/></g><g class=\"trace scatter trace88fb95\" style=\"stroke-miterlimit: 2; opacity: 1;\"><g class=\"fills\"/><g class=\"errorbars\"/><g class=\"lines\"><path class=\"js-line\" d=\"M119.99,267.36L141.92,267.36\" style=\"vector-effect: non-scaling-stroke; fill: none; stroke: rgb(102, 186, 231); stroke-opacity: 1; stroke-width: 2px; opacity: 1;\"/></g><g class=\"points\"/><g class=\"text\"/></g><g class=\"trace scatter trace046259\" style=\"stroke-miterlimit: 2; opacity: 1;\"><g class=\"fills\"/><g class=\"errorbars\"/><g class=\"lines\"><path class=\"js-line\" d=\"M119.92,268.89L235.33,268.89\" style=\"vector-effect: non-scaling-stroke; fill: none; stroke: rgb(102, 186, 231); stroke-opacity: 1; stroke-width: 2px; opacity: 1;\"/></g><g class=\"points\"/><g class=\"text\"/></g><g class=\"trace scatter trace5daded\" style=\"stroke-miterlimit: 2; opacity: 1;\"><g class=\"fills\"/><g class=\"errorbars\"/><g class=\"lines\"><path class=\"js-line\" d=\"M119.55,270.43L132.27,270.43\" style=\"vector-effect: non-scaling-stroke; fill: none; stroke: rgb(102, 186, 231); stroke-opacity: 1; stroke-width: 2px; opacity: 1;\"/></g><g class=\"points\"/><g class=\"text\"/></g><g class=\"trace scatter traceb95a31\" style=\"stroke-miterlimit: 2; opacity: 1;\"><g class=\"fills\"/><g class=\"errorbars\"/><g class=\"lines\"/><g class=\"points\"/><g class=\"text\"/></g><g class=\"trace scatter trace37553d\" style=\"stroke-miterlimit: 2; opacity: 1;\"><g class=\"fills\"/><g class=\"errorbars\"/><g class=\"lines\"><path class=\"js-line\" d=\"M118.82,273.51L124.66,273.51\" style=\"vector-effect: non-scaling-stroke; fill: none; stroke: rgb(102, 186, 231); stroke-opacity: 1; stroke-width: 2px; opacity: 1;\"/></g><g class=\"points\"/><g class=\"text\"/></g><g class=\"trace scatter trace80bb18\" style=\"stroke-miterlimit: 2; opacity: 1;\"><g class=\"fills\"/><g class=\"errorbars\"/><g class=\"lines\"><path class=\"js-line\" d=\"M118.64,275.05L171.7,275.05\" style=\"vector-effect: non-scaling-stroke; fill: none; stroke: rgb(102, 186, 231); stroke-opacity: 1; stroke-width: 2px; opacity: 1;\"/></g><g class=\"points\"/><g class=\"text\"/></g><g class=\"trace scatter tracee996e6\" style=\"stroke-miterlimit: 2; opacity: 1;\"><g class=\"fills\"/><g class=\"errorbars\"/><g class=\"lines\"><path class=\"js-line\" d=\"M118.63,276.59L186.62,276.59\" style=\"vector-effect: non-scaling-stroke; fill: none; stroke: rgb(102, 186, 231); stroke-opacity: 1; stroke-width: 2px; opacity: 1;\"/></g><g class=\"points\"/><g class=\"text\"/></g><g class=\"trace scatter tracec569f1\" style=\"stroke-miterlimit: 2; opacity: 1;\"><g class=\"fills\"/><g class=\"errorbars\"/><g class=\"lines\"><path class=\"js-line\" d=\"M117.95,278.13L193.42,278.13\" style=\"vector-effect: non-scaling-stroke; fill: none; stroke: rgb(102, 186, 231); stroke-opacity: 1; stroke-width: 2px; opacity: 1;\"/></g><g class=\"points\"/><g class=\"text\"/></g><g class=\"trace scatter tracec73202\" style=\"stroke-miterlimit: 2; opacity: 1;\"><g class=\"fills\"/><g class=\"errorbars\"/><g class=\"lines\"><path class=\"js-line\" d=\"M117.89,279.67L153.05,279.67\" style=\"vector-effect: non-scaling-stroke; fill: none; stroke: rgb(102, 186, 231); stroke-opacity: 1; stroke-width: 2px; opacity: 1;\"/></g><g class=\"points\"/><g class=\"text\"/></g><g class=\"trace scatter trace07835d\" style=\"stroke-miterlimit: 2; opacity: 1;\"><g class=\"fills\"/><g class=\"errorbars\"/><g class=\"lines\"><path class=\"js-line\" d=\"M116.7,281.21L118.73,281.21\" style=\"vector-effect: non-scaling-stroke; fill: none; stroke: rgb(102, 186, 231); stroke-opacity: 1; stroke-width: 2px; opacity: 1;\"/></g><g class=\"points\"/><g class=\"text\"/></g><g class=\"trace scatter tracea38f7f\" style=\"stroke-miterlimit: 2; opacity: 1;\"><g class=\"fills\"/><g class=\"errorbars\"/><g class=\"lines\"><path class=\"js-line\" d=\"M116.21,282.75L321.76,282.75\" style=\"vector-effect: non-scaling-stroke; fill: none; stroke: rgb(102, 186, 231); stroke-opacity: 1; stroke-width: 2px; opacity: 1;\"/></g><g class=\"points\"/><g class=\"text\"/></g><g class=\"trace scatter tracecef7e8\" style=\"stroke-miterlimit: 2; opacity: 1;\"><g class=\"fills\"/><g class=\"errorbars\"/><g class=\"lines\"><path class=\"js-line\" d=\"M116.1,284.29L164.24,284.29\" style=\"vector-effect: non-scaling-stroke; fill: none; stroke: rgb(102, 186, 231); stroke-opacity: 1; stroke-width: 2px; opacity: 1;\"/></g><g class=\"points\"/><g class=\"text\"/></g><g class=\"trace scatter tracedfc3f2\" style=\"stroke-miterlimit: 2; opacity: 1;\"><g class=\"fills\"/><g class=\"errorbars\"/><g class=\"lines\"><path class=\"js-line\" d=\"M115.7,285.83L188.78,285.83\" style=\"vector-effect: non-scaling-stroke; fill: none; stroke: rgb(102, 186, 231); stroke-opacity: 1; stroke-width: 2px; opacity: 1;\"/></g><g class=\"points\"/><g class=\"text\"/></g><g class=\"trace scatter trace90b731\" style=\"stroke-miterlimit: 2; opacity: 1;\"><g class=\"fills\"/><g class=\"errorbars\"/><g class=\"lines\"><path class=\"js-line\" d=\"M115.49,287.37L240.13,287.37\" style=\"vector-effect: non-scaling-stroke; fill: none; stroke: rgb(102, 186, 231); stroke-opacity: 1; stroke-width: 2px; opacity: 1;\"/></g><g class=\"points\"/><g class=\"text\"/></g><g class=\"trace scatter trace6c6b2d\" style=\"stroke-miterlimit: 2; opacity: 1;\"><g class=\"fills\"/><g class=\"errorbars\"/><g class=\"lines\"><path class=\"js-line\" d=\"M114.72,288.91L190.12,288.91\" style=\"vector-effect: non-scaling-stroke; fill: none; stroke: rgb(102, 186, 231); stroke-opacity: 1; stroke-width: 2px; opacity: 1;\"/></g><g class=\"points\"/><g class=\"text\"/></g><g class=\"trace scatter trace6feb1c\" style=\"stroke-miterlimit: 2; opacity: 1;\"><g class=\"fills\"/><g class=\"errorbars\"/><g class=\"lines\"><path class=\"js-line\" d=\"M114.36,290.45L232.89,290.45\" style=\"vector-effect: non-scaling-stroke; fill: none; stroke: rgb(102, 186, 231); stroke-opacity: 1; stroke-width: 2px; opacity: 1;\"/></g><g class=\"points\"/><g class=\"text\"/></g><g class=\"trace scatter trace1c3862\" style=\"stroke-miterlimit: 2; opacity: 1;\"><g class=\"fills\"/><g class=\"errorbars\"/><g class=\"lines\"><path class=\"js-line\" d=\"M113.86,291.99L131.65,291.99\" style=\"vector-effect: non-scaling-stroke; fill: none; stroke: rgb(102, 186, 231); stroke-opacity: 1; stroke-width: 2px; opacity: 1;\"/></g><g class=\"points\"/><g class=\"text\"/></g><g class=\"trace scatter trace4eff17\" style=\"stroke-miterlimit: 2; opacity: 1;\"><g class=\"fills\"/><g class=\"errorbars\"/><g class=\"lines\"><path class=\"js-line\" d=\"M113.49,293.53L227.39,293.53\" style=\"vector-effect: non-scaling-stroke; fill: none; stroke: rgb(102, 186, 231); stroke-opacity: 1; stroke-width: 2px; opacity: 1;\"/></g><g class=\"points\"/><g class=\"text\"/></g><g class=\"trace scatter tracecf1bc5\" style=\"stroke-miterlimit: 2; opacity: 1;\"><g class=\"fills\"/><g class=\"errorbars\"/><g class=\"lines\"><path class=\"js-line\" d=\"M113.41,295.07L128.17,295.07\" style=\"vector-effect: non-scaling-stroke; fill: none; stroke: rgb(102, 186, 231); stroke-opacity: 1; stroke-width: 2px; opacity: 1;\"/></g><g class=\"points\"/><g class=\"text\"/></g><g class=\"trace scatter trace11c92b\" style=\"stroke-miterlimit: 2; opacity: 1;\"><g class=\"fills\"/><g class=\"errorbars\"/><g class=\"lines\"><path class=\"js-line\" d=\"M113.22,296.61L180.8,296.61\" style=\"vector-effect: non-scaling-stroke; fill: none; stroke: rgb(102, 186, 231); stroke-opacity: 1; stroke-width: 2px; opacity: 1;\"/></g><g class=\"points\"/><g class=\"text\"/></g><g class=\"trace scatter trace270c9a\" style=\"stroke-miterlimit: 2; opacity: 1;\"><g class=\"fills\"/><g class=\"errorbars\"/><g class=\"lines\"><path class=\"js-line\" d=\"M112.05,298.14L290.98,298.14\" style=\"vector-effect: non-scaling-stroke; fill: none; stroke: rgb(102, 186, 231); stroke-opacity: 1; stroke-width: 2px; opacity: 1;\"/></g><g class=\"points\"/><g class=\"text\"/></g><g class=\"trace scatter tracef47c0e\" style=\"stroke-miterlimit: 2; opacity: 1;\"><g class=\"fills\"/><g class=\"errorbars\"/><g class=\"lines\"><path class=\"js-line\" d=\"M111.36,299.68L181.58,299.68\" style=\"vector-effect: non-scaling-stroke; fill: none; stroke: rgb(102, 186, 231); stroke-opacity: 1; stroke-width: 2px; opacity: 1;\"/></g><g class=\"points\"/><g class=\"text\"/></g><g class=\"trace scatter trace79110b\" style=\"stroke-miterlimit: 2; opacity: 1;\"><g class=\"fills\"/><g class=\"errorbars\"/><g class=\"lines\"><path class=\"js-line\" d=\"M111,301.22L235.8,301.22\" style=\"vector-effect: non-scaling-stroke; fill: none; stroke: rgb(102, 186, 231); stroke-opacity: 1; stroke-width: 2px; opacity: 1;\"/></g><g class=\"points\"/><g class=\"text\"/></g><g class=\"trace scatter trace87409f\" style=\"stroke-miterlimit: 2; opacity: 1;\"><g class=\"fills\"/><g class=\"errorbars\"/><g class=\"lines\"/><g class=\"points\"/><g class=\"text\"/></g><g class=\"trace scatter tracea8d764\" style=\"stroke-miterlimit: 2; opacity: 1;\"><g class=\"fills\"/><g class=\"errorbars\"/><g class=\"lines\"><path class=\"js-line\" d=\"M109.5,304.3L150.39,304.3\" style=\"vector-effect: non-scaling-stroke; fill: none; stroke: rgb(102, 186, 231); stroke-opacity: 1; stroke-width: 2px; opacity: 1;\"/></g><g class=\"points\"/><g class=\"text\"/></g><g class=\"trace scatter trace716e18\" style=\"stroke-miterlimit: 2; opacity: 1;\"><g class=\"fills\"/><g class=\"errorbars\"/><g class=\"lines\"><path class=\"js-line\" d=\"M108.19,305.84L219.23,305.84\" style=\"vector-effect: non-scaling-stroke; fill: none; stroke: rgb(102, 186, 231); stroke-opacity: 1; stroke-width: 2px; opacity: 1;\"/></g><g class=\"points\"/><g class=\"text\"/></g><g class=\"trace scatter trace85ff03\" style=\"stroke-miterlimit: 2; opacity: 1;\"><g class=\"fills\"/><g class=\"errorbars\"/><g class=\"lines\"><path class=\"js-line\" d=\"M107.64,307.38L145.83,307.38\" style=\"vector-effect: non-scaling-stroke; fill: none; stroke: rgb(102, 186, 231); stroke-opacity: 1; stroke-width: 2px; opacity: 1;\"/></g><g class=\"points\"/><g class=\"text\"/></g><g class=\"trace scatter trace7cfe42\" style=\"stroke-miterlimit: 2; opacity: 1;\"><g class=\"fills\"/><g class=\"errorbars\"/><g class=\"lines\"><path class=\"js-line\" d=\"M107.21,308.92L271.05,308.92\" style=\"vector-effect: non-scaling-stroke; fill: none; stroke: rgb(102, 186, 231); stroke-opacity: 1; stroke-width: 2px; opacity: 1;\"/></g><g class=\"points\"/><g class=\"text\"/></g><g class=\"trace scatter trace92e303\" style=\"stroke-miterlimit: 2; opacity: 1;\"><g class=\"fills\"/><g class=\"errorbars\"/><g class=\"lines\"><path class=\"js-line\" d=\"M106.89,310.46L289.51,310.46\" style=\"vector-effect: non-scaling-stroke; fill: none; stroke: rgb(102, 186, 231); stroke-opacity: 1; stroke-width: 2px; opacity: 1;\"/></g><g class=\"points\"/><g class=\"text\"/></g><g class=\"trace scatter trace246719\" style=\"stroke-miterlimit: 2; opacity: 1;\"><g class=\"fills\"/><g class=\"errorbars\"/><g class=\"lines\"><path class=\"js-line\" d=\"M106.58,312L281.79,312\" style=\"vector-effect: non-scaling-stroke; fill: none; stroke: rgb(102, 186, 231); stroke-opacity: 1; stroke-width: 2px; opacity: 1;\"/></g><g class=\"points\"/><g class=\"text\"/></g><g class=\"trace scatter trace9bff7e\" style=\"stroke-miterlimit: 2; opacity: 1;\"><g class=\"fills\"/><g class=\"errorbars\"/><g class=\"lines\"><path class=\"js-line\" d=\"M106.02,313.54L262.56,313.54\" style=\"vector-effect: non-scaling-stroke; fill: none; stroke: rgb(102, 186, 231); stroke-opacity: 1; stroke-width: 2px; opacity: 1;\"/></g><g class=\"points\"/><g class=\"text\"/></g><g class=\"trace scatter trace93ffbb\" style=\"stroke-miterlimit: 2; opacity: 1;\"><g class=\"fills\"/><g class=\"errorbars\"/><g class=\"lines\"><path class=\"js-line\" d=\"M105.23,315.08L109.22,315.08\" style=\"vector-effect: non-scaling-stroke; fill: none; stroke: rgb(102, 186, 231); stroke-opacity: 1; stroke-width: 2px; opacity: 1;\"/></g><g class=\"points\"/><g class=\"text\"/></g><g class=\"trace scatter trace96b002\" style=\"stroke-miterlimit: 2; opacity: 1;\"><g class=\"fills\"/><g class=\"errorbars\"/><g class=\"lines\"><path class=\"js-line\" d=\"M104.94,316.62L128.55,316.62\" style=\"vector-effect: non-scaling-stroke; fill: none; stroke: rgb(102, 186, 231); stroke-opacity: 1; stroke-width: 2px; opacity: 1;\"/></g><g class=\"points\"/><g class=\"text\"/></g><g class=\"trace scatter trace8cdcf6\" style=\"stroke-miterlimit: 2; opacity: 1;\"><g class=\"fills\"/><g class=\"errorbars\"/><g class=\"lines\"><path class=\"js-line\" d=\"M104.44,318.16L191.4,318.16\" style=\"vector-effect: non-scaling-stroke; fill: none; stroke: rgb(102, 186, 231); stroke-opacity: 1; stroke-width: 2px; opacity: 1;\"/></g><g class=\"points\"/><g class=\"text\"/></g><g class=\"trace scatter trace2d17d1\" style=\"stroke-miterlimit: 2; opacity: 1;\"><g class=\"fills\"/><g class=\"errorbars\"/><g class=\"lines\"><path class=\"js-line\" d=\"M104.21,319.7L144.35,319.7\" style=\"vector-effect: non-scaling-stroke; fill: none; stroke: rgb(102, 186, 231); stroke-opacity: 1; stroke-width: 2px; opacity: 1;\"/></g><g class=\"points\"/><g class=\"text\"/></g><g class=\"trace scatter trace441d50\" style=\"stroke-miterlimit: 2; opacity: 1;\"><g class=\"fills\"/><g class=\"errorbars\"/><g class=\"lines\"><path class=\"js-line\" d=\"M104.01,321.24L109.9,321.24\" style=\"vector-effect: non-scaling-stroke; fill: none; stroke: rgb(102, 186, 231); stroke-opacity: 1; stroke-width: 2px; opacity: 1;\"/></g><g class=\"points\"/><g class=\"text\"/></g><g class=\"trace scatter tracec08c4a\" style=\"stroke-miterlimit: 2; opacity: 1;\"><g class=\"fills\"/><g class=\"errorbars\"/><g class=\"lines\"><path class=\"js-line\" d=\"M103.51,322.78L161.45,322.78\" style=\"vector-effect: non-scaling-stroke; fill: none; stroke: rgb(102, 186, 231); stroke-opacity: 1; stroke-width: 2px; opacity: 1;\"/></g><g class=\"points\"/><g class=\"text\"/></g><g class=\"trace scatter trace7ad83d\" style=\"stroke-miterlimit: 2; opacity: 1;\"><g class=\"fills\"/><g class=\"errorbars\"/><g class=\"lines\"><path class=\"js-line\" d=\"M103.04,324.32L140.36,324.32\" style=\"vector-effect: non-scaling-stroke; fill: none; stroke: rgb(102, 186, 231); stroke-opacity: 1; stroke-width: 2px; opacity: 1;\"/></g><g class=\"points\"/><g class=\"text\"/></g><g class=\"trace scatter trace4886cc\" style=\"stroke-miterlimit: 2; opacity: 1;\"><g class=\"fills\"/><g class=\"errorbars\"/><g class=\"lines\"><path class=\"js-line\" d=\"M102.27,325.86L114.96,325.86\" style=\"vector-effect: non-scaling-stroke; fill: none; stroke: rgb(102, 186, 231); stroke-opacity: 1; stroke-width: 2px; opacity: 1;\"/></g><g class=\"points\"/><g class=\"text\"/></g><g class=\"trace scatter trace766c5f\" style=\"stroke-miterlimit: 2; opacity: 1;\"><g class=\"fills\"/><g class=\"errorbars\"/><g class=\"lines\"><path class=\"js-line\" d=\"M101.73,327.39L128.59,327.39\" style=\"vector-effect: non-scaling-stroke; fill: none; stroke: rgb(102, 186, 231); stroke-opacity: 1; stroke-width: 2px; opacity: 1;\"/></g><g class=\"points\"/><g class=\"text\"/></g><g class=\"trace scatter traceec269d\" style=\"stroke-miterlimit: 2; opacity: 1;\"><g class=\"fills\"/><g class=\"errorbars\"/><g class=\"lines\"><path class=\"js-line\" d=\"M100.85,328.93L150.8,328.93\" style=\"vector-effect: non-scaling-stroke; fill: none; stroke: rgb(102, 186, 231); stroke-opacity: 1; stroke-width: 2px; opacity: 1;\"/></g><g class=\"points\"/><g class=\"text\"/></g><g class=\"trace scatter trace8d2eaf\" style=\"stroke-miterlimit: 2; opacity: 1;\"><g class=\"fills\"/><g class=\"errorbars\"/><g class=\"lines\"><path class=\"js-line\" d=\"M99.23,330.47L111.24,330.47\" style=\"vector-effect: non-scaling-stroke; fill: none; stroke: rgb(102, 186, 231); stroke-opacity: 1; stroke-width: 2px; opacity: 1;\"/></g><g class=\"points\"/><g class=\"text\"/></g><g class=\"trace scatter trace422eeb\" style=\"stroke-miterlimit: 2; opacity: 1;\"><g class=\"fills\"/><g class=\"errorbars\"/><g class=\"lines\"><path class=\"js-line\" d=\"M98.61,332.01L194.13,332.01\" style=\"vector-effect: non-scaling-stroke; fill: none; stroke: rgb(102, 186, 231); stroke-opacity: 1; stroke-width: 2px; opacity: 1;\"/></g><g class=\"points\"/><g class=\"text\"/></g><g class=\"trace scatter trace1c9f8e\" style=\"stroke-miterlimit: 2; opacity: 1;\"><g class=\"fills\"/><g class=\"errorbars\"/><g class=\"lines\"><path class=\"js-line\" d=\"M93.92,333.55L127.66,333.55\" style=\"vector-effect: non-scaling-stroke; fill: none; stroke: rgb(102, 186, 231); stroke-opacity: 1; stroke-width: 2px; opacity: 1;\"/></g><g class=\"points\"/><g class=\"text\"/></g><g class=\"trace scatter trace95d3ba\" style=\"stroke-miterlimit: 2; opacity: 1;\"><g class=\"fills\"/><g class=\"errorbars\"/><g class=\"lines\"><path class=\"js-line\" d=\"M90.57,335.09L96.66,335.09\" style=\"vector-effect: non-scaling-stroke; fill: none; stroke: rgb(102, 186, 231); stroke-opacity: 1; stroke-width: 2px; opacity: 1;\"/></g><g class=\"points\"/><g class=\"text\"/></g><g class=\"trace scatter trace3cee89\" style=\"stroke-miterlimit: 2; opacity: 1;\"><g class=\"fills\"/><g class=\"errorbars\"/><g class=\"lines\"><path class=\"js-line\" d=\"M88.59,336.63L196.38,336.63\" style=\"vector-effect: non-scaling-stroke; fill: none; stroke: rgb(102, 186, 231); stroke-opacity: 1; stroke-width: 2px; opacity: 1;\"/></g><g class=\"points\"/><g class=\"text\"/></g><g class=\"trace scatter tracebf4b99\" style=\"stroke-miterlimit: 2; opacity: 1;\"><g class=\"fills\"/><g class=\"errorbars\"/><g class=\"lines\"><path class=\"js-line\" d=\"M87.67,338.17L97.85,338.17\" style=\"vector-effect: non-scaling-stroke; fill: none; stroke: rgb(102, 186, 231); stroke-opacity: 1; stroke-width: 2px; opacity: 1;\"/></g><g class=\"points\"/><g class=\"text\"/></g><g class=\"trace scatter tracef1bb40\" style=\"stroke-miterlimit: 2; opacity: 1;\"><g class=\"fills\"/><g class=\"errorbars\"/><g class=\"lines\"><path class=\"js-line\" d=\"M86,339.71L89.66,339.71\" style=\"vector-effect: non-scaling-stroke; fill: none; stroke: rgb(102, 186, 231); stroke-opacity: 1; stroke-width: 2px; opacity: 1;\"/></g><g class=\"points\"/><g class=\"text\"/></g><g class=\"trace scatter trace5c33dd\" style=\"stroke-miterlimit: 2; opacity: 1;\"><g class=\"fills\"/><g class=\"errorbars\"/><g class=\"lines\"><path class=\"js-line\" d=\"M83.78,341.25L190.5,341.25\" style=\"vector-effect: non-scaling-stroke; fill: none; stroke: rgb(102, 186, 231); stroke-opacity: 1; stroke-width: 2px; opacity: 1;\"/></g><g class=\"points\"/><g class=\"text\"/></g><g class=\"trace scatter trace5b3903\" style=\"stroke-miterlimit: 2; opacity: 1;\"><g class=\"fills\"/><g class=\"errorbars\"/><g class=\"lines\"><path class=\"js-line\" d=\"M83.21,342.79L126.55,342.79\" style=\"vector-effect: non-scaling-stroke; fill: none; stroke: rgb(102, 186, 231); stroke-opacity: 1; stroke-width: 2px; opacity: 1;\"/></g><g class=\"points\"/><g class=\"text\"/></g><g class=\"trace scatter tracebbaf33\" style=\"stroke-miterlimit: 2; opacity: 1;\"><g class=\"fills\"/><g class=\"errorbars\"/><g class=\"lines\"><path class=\"js-line\" d=\"M82.44,344.33L100.01,344.33\" style=\"vector-effect: non-scaling-stroke; fill: none; stroke: rgb(102, 186, 231); stroke-opacity: 1; stroke-width: 2px; opacity: 1;\"/></g><g class=\"points\"/><g class=\"text\"/></g><g class=\"trace scatter traceb04267\" style=\"stroke-miterlimit: 2; opacity: 1;\"><g class=\"fills\"/><g class=\"errorbars\"/><g class=\"lines\"><path class=\"js-line\" d=\"M81.91,345.87L177.17,345.87\" style=\"vector-effect: non-scaling-stroke; fill: none; stroke: rgb(102, 186, 231); stroke-opacity: 1; stroke-width: 2px; opacity: 1;\"/></g><g class=\"points\"/><g class=\"text\"/></g><g class=\"trace scatter tracea644f3\" style=\"stroke-miterlimit: 2; opacity: 1;\"><g class=\"fills\"/><g class=\"errorbars\"/><g class=\"lines\"><path class=\"js-line\" d=\"M80.67,347.41L143.81,347.41\" style=\"vector-effect: non-scaling-stroke; fill: none; stroke: rgb(102, 186, 231); stroke-opacity: 1; stroke-width: 2px; opacity: 1;\"/></g><g class=\"points\"/><g class=\"text\"/></g><g class=\"trace scatter trace65e63f\" style=\"stroke-miterlimit: 2; opacity: 1;\"><g class=\"fills\"/><g class=\"errorbars\"/><g class=\"lines\"><path class=\"js-line\" d=\"M79.02,348.95L113.98,348.95\" style=\"vector-effect: non-scaling-stroke; fill: none; stroke: rgb(102, 186, 231); stroke-opacity: 1; stroke-width: 2px; opacity: 1;\"/></g><g class=\"points\"/><g class=\"text\"/></g><g class=\"trace scatter tracee322c9\" style=\"stroke-miterlimit: 2; opacity: 1;\"><g class=\"fills\"/><g class=\"errorbars\"/><g class=\"lines\"><path class=\"js-line\" d=\"M78.91,350.49L216.8,350.49\" style=\"vector-effect: non-scaling-stroke; fill: none; stroke: rgb(102, 186, 231); stroke-opacity: 1; stroke-width: 2px; opacity: 1;\"/></g><g class=\"points\"/><g class=\"text\"/></g><g class=\"trace scatter trace12bb63\" style=\"stroke-miterlimit: 2; opacity: 1;\"><g class=\"fills\"/><g class=\"errorbars\"/><g class=\"lines\"><path class=\"js-line\" d=\"M78.04,352.03L101.01,352.03\" style=\"vector-effect: non-scaling-stroke; fill: none; stroke: rgb(102, 186, 231); stroke-opacity: 1; stroke-width: 2px; opacity: 1;\"/></g><g class=\"points\"/><g class=\"text\"/></g><g class=\"trace scatter trace4684a6\" style=\"stroke-miterlimit: 2; opacity: 1;\"><g class=\"fills\"/><g class=\"errorbars\"/><g class=\"lines\"><path class=\"js-line\" d=\"M72.51,353.57L152.57,353.57\" style=\"vector-effect: non-scaling-stroke; fill: none; stroke: rgb(102, 186, 231); stroke-opacity: 1; stroke-width: 2px; opacity: 1;\"/></g><g class=\"points\"/><g class=\"text\"/></g><g class=\"trace scatter trace2732f2\" style=\"stroke-miterlimit: 2; opacity: 1;\"><g class=\"fills\"/><g class=\"errorbars\"/><g class=\"lines\"><path class=\"js-line\" d=\"M72.49,355.11L106.97,355.11\" style=\"vector-effect: non-scaling-stroke; fill: none; stroke: rgb(102, 186, 231); stroke-opacity: 1; stroke-width: 2px; opacity: 1;\"/></g><g class=\"points\"/><g class=\"text\"/></g><g class=\"trace scatter tracecc8825\" style=\"stroke-miterlimit: 2; opacity: 1;\"><g class=\"fills\"/><g class=\"errorbars\"/><g class=\"lines\"><path class=\"js-line\" d=\"M72.21,356.64L129.87,356.64\" style=\"vector-effect: non-scaling-stroke; fill: none; stroke: rgb(102, 186, 231); stroke-opacity: 1; stroke-width: 2px; opacity: 1;\"/></g><g class=\"points\"/><g class=\"text\"/></g><g class=\"trace scatter trace9b5a50\" style=\"stroke-miterlimit: 2; opacity: 1;\"><g class=\"fills\"/><g class=\"errorbars\"/><g class=\"lines\"><path class=\"js-line\" d=\"M67.58,358.18L90.25,358.18\" style=\"vector-effect: non-scaling-stroke; fill: none; stroke: rgb(102, 186, 231); stroke-opacity: 1; stroke-width: 2px; opacity: 1;\"/></g><g class=\"points\"/><g class=\"text\"/></g><g class=\"trace scatter trace8a55d0\" style=\"stroke-miterlimit: 2; opacity: 1;\"><g class=\"fills\"/><g class=\"errorbars\"/><g class=\"lines\"><path class=\"js-line\" d=\"M57.52,359.72L132.09,359.72\" style=\"vector-effect: non-scaling-stroke; fill: none; stroke: rgb(102, 186, 231); stroke-opacity: 1; stroke-width: 2px; opacity: 1;\"/></g><g class=\"points\"/><g class=\"text\"/></g><g class=\"trace scatter trace5b5b4f\" style=\"stroke-miterlimit: 2; opacity: 1;\"><g class=\"fills\"/><g class=\"errorbars\"/><g class=\"lines\"><path class=\"js-line\" d=\"M57.14,361.26L85.36,361.26\" style=\"vector-effect: non-scaling-stroke; fill: none; stroke: rgb(102, 186, 231); stroke-opacity: 1; stroke-width: 2px; opacity: 1;\"/></g><g class=\"points\"/><g class=\"text\"/></g><g class=\"trace scatter tracede083c\" style=\"stroke-miterlimit: 2; opacity: 1;\"><g class=\"fills\"/><g class=\"errorbars\"/><g class=\"lines\"><path class=\"js-line\" d=\"M56.49,362.8L98.67,362.8\" style=\"vector-effect: non-scaling-stroke; fill: none; stroke: rgb(102, 186, 231); stroke-opacity: 1; stroke-width: 2px; opacity: 1;\"/></g><g class=\"points\"/><g class=\"text\"/></g><g class=\"trace scatter trace03f92f\" style=\"stroke-miterlimit: 2; opacity: 1;\"><g class=\"fills\"/><g class=\"errorbars\"/><g class=\"lines\"><path class=\"js-line\" d=\"M49.33,364.34L65.27,364.34\" style=\"vector-effect: non-scaling-stroke; fill: none; stroke: rgb(102, 186, 231); stroke-opacity: 1; stroke-width: 2px; opacity: 1;\"/></g><g class=\"points\"/><g class=\"text\"/></g><g class=\"trace scatter trace384d19\" style=\"stroke-miterlimit: 2; opacity: 1;\"><g class=\"fills\"/><g class=\"errorbars\"/><g class=\"lines\"><path class=\"js-line\" d=\"M42.62,365.88L57.33,365.88\" style=\"vector-effect: non-scaling-stroke; fill: none; stroke: rgb(102, 186, 231); stroke-opacity: 1; stroke-width: 2px; opacity: 1;\"/></g><g class=\"points\"/><g class=\"text\"/></g><g class=\"trace scatter trace5873bf\" style=\"stroke-miterlimit: 2; opacity: 1;\"><g class=\"fills\"/><g class=\"errorbars\"/><g class=\"lines\"><path class=\"js-line\" d=\"M30.95,367.42L56.29,367.42\" style=\"vector-effect: non-scaling-stroke; fill: none; stroke: rgb(102, 186, 231); stroke-opacity: 1; stroke-width: 2px; opacity: 1;\"/></g><g class=\"points\"/><g class=\"text\"/></g><g class=\"trace scatter tracea92c2b\" style=\"stroke-miterlimit: 2; opacity: 1;\"><g class=\"fills\"/><g class=\"errorbars\"/><g class=\"lines\"><path class=\"js-line\" d=\"M26.48,368.96L30.12,368.96\" style=\"vector-effect: non-scaling-stroke; fill: none; stroke: rgb(102, 186, 231); stroke-opacity: 1; stroke-width: 2px; opacity: 1;\"/></g><g class=\"points\"/><g class=\"text\"/></g><g class=\"trace scatter traced6b2c4\" style=\"stroke-miterlimit: 2; opacity: 1;\"><g class=\"fills\"/><g class=\"errorbars\"/><g class=\"lines\"><path class=\"js-line\" d=\"M0,370.5L2.13,370.5\" style=\"vector-effect: non-scaling-stroke; fill: none; stroke: rgb(102, 186, 231); stroke-opacity: 1; stroke-width: 2px; opacity: 1;\"/></g><g class=\"points\"/><g class=\"text\"/></g></g></g><g class=\"overplot\"/><path class=\"xlines-above crisp\" d=\"M0,0\" style=\"fill: none;\"/><path class=\"ylines-above crisp\" d=\"M0,0\" style=\"fill: none;\"/><g class=\"overlines-above\"/><g class=\"xaxislayer-above\"><g class=\"xtick\"><text text-anchor=\"middle\" x=\"0\" y=\"463\" transform=\"translate(104.05,0)\" style=\"font-family: 'Open Sans', verdana, arial, sans-serif; font-size: 12px; fill: rgb(68, 68, 68); fill-opacity: 1; white-space: pre;\">0.1</text></g><g class=\"xtick\"><text text-anchor=\"middle\" x=\"0\" y=\"463\" transform=\"translate(214.25,0)\" style=\"font-family: 'Open Sans', verdana, arial, sans-serif; font-size: 12px; fill: rgb(68, 68, 68); fill-opacity: 1; white-space: pre;\">0.15</text></g><g class=\"xtick\"><text text-anchor=\"middle\" x=\"0\" y=\"463\" transform=\"translate(324.45,0)\" style=\"font-family: 'Open Sans', verdana, arial, sans-serif; font-size: 12px; fill: rgb(68, 68, 68); fill-opacity: 1; white-space: pre;\">0.2</text></g><g class=\"xtick\"><text text-anchor=\"middle\" x=\"0\" y=\"463\" transform=\"translate(434.65,0)\" style=\"font-family: 'Open Sans', verdana, arial, sans-serif; font-size: 12px; fill: rgb(68, 68, 68); fill-opacity: 1; white-space: pre;\">0.25</text></g><g class=\"xtick\"><text text-anchor=\"middle\" x=\"0\" y=\"463\" transform=\"translate(544.85,0)\" style=\"font-family: 'Open Sans', verdana, arial, sans-serif; font-size: 12px; fill: rgb(68, 68, 68); fill-opacity: 1; white-space: pre;\">0.3</text></g></g><g class=\"yaxislayer-above\"><g class=\"ytick\"><text text-anchor=\"end\" x=\"49\" y=\"4.199999999999999\" transform=\"translate(0,432.04)\" style=\"font-family: 'Open Sans', verdana, arial, sans-serif; font-size: 12px; fill: rgb(68, 68, 68); fill-opacity: 1; white-space: pre;\">0</text></g><g class=\"ytick\"><text text-anchor=\"end\" x=\"49\" y=\"4.199999999999999\" transform=\"translate(0,355.07)\" style=\"font-family: 'Open Sans', verdana, arial, sans-serif; font-size: 12px; fill: rgb(68, 68, 68); fill-opacity: 1; white-space: pre;\">50</text></g><g class=\"ytick\"><text text-anchor=\"end\" x=\"49\" y=\"4.199999999999999\" transform=\"translate(0,278.09000000000003)\" style=\"font-family: 'Open Sans', verdana, arial, sans-serif; font-size: 12px; fill: rgb(68, 68, 68); fill-opacity: 1; white-space: pre;\">100</text></g><g class=\"ytick\"><text text-anchor=\"end\" x=\"49\" y=\"4.199999999999999\" transform=\"translate(0,201.12)\" style=\"font-family: 'Open Sans', verdana, arial, sans-serif; font-size: 12px; fill: rgb(68, 68, 68); fill-opacity: 1; white-space: pre;\">150</text></g><g class=\"ytick\"><text text-anchor=\"end\" x=\"49\" y=\"4.199999999999999\" transform=\"translate(0,124.14)\" style=\"font-family: 'Open Sans', verdana, arial, sans-serif; font-size: 12px; fill: rgb(68, 68, 68); fill-opacity: 1; white-space: pre;\">200</text></g></g><g class=\"overaxes-above\"/></g></g><g class=\"polarlayer\"/><g class=\"ternarylayer\"/><g class=\"geolayer\"/><g class=\"funnelarealayer\"/><g class=\"pielayer\"/><g class=\"treemaplayer\"/><g class=\"sunburstlayer\"/><g class=\"glimages\"/><defs id=\"topdefs-4981dd\"><g class=\"clips\"/><clipPath id=\"legend4981dd\"><rect width=\"121\" height=\"29\" x=\"0\" y=\"0\"/></clipPath></defs><g class=\"layer-above\"><g class=\"imagelayer\"/><g class=\"shapelayer\"/></g><g class=\"infolayer\"><g class=\"legend\" pointer-events=\"all\" transform=\"translate(567.14,60)\"><rect class=\"bg\" shape-rendering=\"crispEdges\" style=\"stroke: rgb(68, 68, 68); stroke-opacity: 1; fill: rgb(255, 255, 255); fill-opacity: 1; stroke-width: 0px;\" width=\"121\" height=\"29\" x=\"0\" y=\"0\"/><g class=\"scrollbox\" transform=\"\" clip-path=\"url('#legend4981dd')\"><g class=\"groups\"><g class=\"traces\" transform=\"translate(0,14.5)\" style=\"opacity: 1;\"><text class=\"legendtext\" text-anchor=\"start\" x=\"40\" y=\"4.680000000000001\" style=\"font-family: 'Open Sans', verdana, arial, sans-serif; font-size: 12px; fill: rgb(68, 68, 68); fill-opacity: 1; white-space: pre;\">Dimension 1</text><g class=\"layers\" style=\"opacity: 1;\"><g class=\"legendfill\"/><g class=\"legendlines\"><path class=\"js-line\" d=\"M5,0h30\" style=\"fill: none; stroke: rgb(102, 186, 231); stroke-opacity: 1; stroke-width: 2px;\"/></g><g class=\"legendsymbols\"><g class=\"legendpoints\"/></g></g><rect class=\"legendtoggle\" x=\"0\" y=\"-9.5\" width=\"115.234375\" height=\"19\" style=\"fill: rgb(0, 0, 0); fill-opacity: 0;\"/></g></g></g><rect class=\"scrollbar\" rx=\"20\" ry=\"3\" width=\"0\" height=\"0\" style=\"fill: rgb(128, 139, 164); fill-opacity: 1;\" x=\"0\" y=\"0\"/></g><g class=\"g-gtitle\"/><g class=\"g-xtitle\" transform=\"translate(0,-5)\"><text class=\"xtitle\" x=\"303.5\" y=\"502\" text-anchor=\"middle\" style=\"font-family: 'Open Sans', verdana, arial, sans-serif; font-size: 14px; fill: rgb(68, 68, 68); opacity: 1; font-weight: normal; white-space: pre;\">ϵ</text></g><g class=\"g-ytitle\"/></g></svg>"
      ],
      "text/html": [
       "<div\n",
       "    class=\"webio-mountpoint\"\n",
       "    data-webio-mountpoint=\"2532981227980403894\"\n",
       ">\n",
       "    <script>\n",
       "    (function(){\n",
       "    // Some integrations (namely, IJulia/Jupyter) use an alternate render pathway than\n",
       "    // just putting the html on the page. If WebIO isn't defined, then it's pretty likely\n",
       "    // that we're in one of those situations and the integration just isn't installed\n",
       "    // correctly.\n",
       "    if (typeof window.WebIO === \"undefined\") {\n",
       "        document\n",
       "            .querySelector('[data-webio-mountpoint=\"2532981227980403894\"]')\n",
       "            .innerHTML = (\n",
       "                '<div style=\"padding: 1em; background-color: #f8d6da; border: 1px solid #f5c6cb; font-weight: bold;\">' +\n",
       "                '<p><strong>WebIO not detected.</strong></p>' +\n",
       "                '<p>Please read ' +\n",
       "                '<a href=\"https://juliagizmos.github.io/WebIO.jl/latest/troubleshooting/not-detected/\" target=\"_blank\">the troubleshooting guide</a> ' +\n",
       "                'for more information on how to resolve this issue.</p>' +\n",
       "                '<p><a href=\"https://juliagizmos.github.io/WebIO.jl/latest/troubleshooting/not-detected/\" target=\"_blank\">https://juliagizmos.github.io/WebIO.jl/latest/troubleshooting/not-detected/</a></p>' +\n",
       "                '</div>'\n",
       "            );\n",
       "        return;\n",
       "    }\n",
       "    WebIO.mount(\n",
       "        document.querySelector('[data-webio-mountpoint=\"2532981227980403894\"]'),\n",
       "        {\"props\":{},\"nodeType\":\"Scope\",\"type\":\"node\",\"instanceArgs\":{\"imports\":{\"data\":[{\"name\":\"Plotly\",\"type\":\"js\",\"url\":\"\\/assetserver\\/0011d14de576c55f77111628d5a39fcc5762f320-plotly.min.js\"},{\"name\":null,\"type\":\"js\",\"url\":\"\\/assetserver\\/52365f0a3f606733873c2a55bbe1584aba3b706c-plotly_webio.bundle.js\"}],\"type\":\"async_block\"},\"id\":\"11765041732573395145\",\"handlers\":{\"_toImage\":[\"(function (options){return this.Plotly.toImage(this.plotElem,options).then((function (data){return WebIO.setval({\\\"name\\\":\\\"image\\\",\\\"scope\\\":\\\"11765041732573395145\\\",\\\"id\\\":\\\"12183557152359155106\\\",\\\"type\\\":\\\"observable\\\"},data)}))})\"],\"__get_gd_contents\":[\"(function (prop){prop==\\\"data\\\" ? (WebIO.setval({\\\"name\\\":\\\"__gd_contents\\\",\\\"scope\\\":\\\"11765041732573395145\\\",\\\"id\\\":\\\"6377911703734446842\\\",\\\"type\\\":\\\"observable\\\"},this.plotElem.data)) : undefined; return prop==\\\"layout\\\" ? (WebIO.setval({\\\"name\\\":\\\"__gd_contents\\\",\\\"scope\\\":\\\"11765041732573395145\\\",\\\"id\\\":\\\"6377911703734446842\\\",\\\"type\\\":\\\"observable\\\"},this.plotElem.layout)) : undefined})\"],\"_downloadImage\":[\"(function (options){return this.Plotly.downloadImage(this.plotElem,options)})\"],\"_commands\":[\"(function (args){var fn=args.shift(); var elem=this.plotElem; var Plotly=this.Plotly; args.unshift(elem); return Plotly[fn].apply(this,args)})\"]},\"systemjs_options\":null,\"mount_callbacks\":[\"function () {\\n    var handler = ((function (Plotly,PlotlyWebIO){PlotlyWebIO.init(WebIO); var gd=this.dom.querySelector(\\\"#plot-b329c6c8-80e7-40fd-9279-883c9f6c4fbb\\\"); this.plotElem=gd; this.Plotly=Plotly; (window.Blink!==undefined) ? (gd.style.width=\\\"100%\\\", gd.style.height=\\\"100vh\\\", gd.style.marginLeft=\\\"0%\\\", gd.style.marginTop=\\\"0vh\\\") : undefined; window.onresize=(function (){return Plotly.Plots.resize(gd)}); Plotly.newPlot(gd,[{\\\"showlegend\\\":false,\\\"mode\\\":\\\"lines\\\",\\\"line\\\":{\\\"color\\\":\\\"#66BAE7\\\",\\\"width\\\":2},\\\"y\\\":[229,229],\\\"type\\\":\\\"scatter\\\",\\\"x\\\":[0.28317875057192565,0.30551063581269144]},{\\\"showlegend\\\":false,\\\"mode\\\":\\\"lines\\\",\\\"line\\\":{\\\"color\\\":\\\"#66BAE7\\\",\\\"width\\\":2},\\\"y\\\":[228,228],\\\"type\\\":\\\"scatter\\\",\\\"x\\\":[0.2774207117892357,0.28485566639106924]},{\\\"showlegend\\\":false,\\\"mode\\\":\\\"lines\\\",\\\"line\\\":{\\\"color\\\":\\\"#66BAE7\\\",\\\"width\\\":2},\\\"y\\\":[227,227],\\\"type\\\":\\\"scatter\\\",\\\"x\\\":[0.23993744789192428,0.2729808778507308]},{\\\"showlegend\\\":false,\\\"mode\\\":\\\"lines\\\",\\\"line\\\":{\\\"color\\\":\\\"#66BAE7\\\",\\\"width\\\":2},\\\"y\\\":[226,226],\\\"type\\\":\\\"scatter\\\",\\\"x\\\":[0.23308788010423548,0.23436067036524105]},{\\\"showlegend\\\":false,\\\"mode\\\":\\\"lines\\\",\\\"line\\\":{\\\"color\\\":\\\"#66BAE7\\\",\\\"width\\\":2},\\\"y\\\":[225,225],\\\"type\\\":\\\"scatter\\\",\\\"x\\\":[0.20701097410653416,0.21124244679061588]},{\\\"showlegend\\\":false,\\\"mode\\\":\\\"lines\\\",\\\"line\\\":{\\\"color\\\":\\\"#66BAE7\\\",\\\"width\\\":2},\\\"y\\\":[224,224],\\\"type\\\":\\\"scatter\\\",\\\"x\\\":[0.2033233538859565,0.20491422387770614]},{\\\"showlegend\\\":false,\\\"mode\\\":\\\"lines\\\",\\\"line\\\":{\\\"color\\\":\\\"#66BAE7\\\",\\\"width\\\":2},\\\"y\\\":[223,223],\\\"type\\\":\\\"scatter\\\",\\\"x\\\":[0.19674996955844956,0.22105506219027912]},{\\\"showlegend\\\":false,\\\"mode\\\":\\\"lines\\\",\\\"line\\\":{\\\"color\\\":\\\"#66BAE7\\\",\\\"width\\\":2},\\\"y\\\":[222,222],\\\"type\\\":\\\"scatter\\\",\\\"x\\\":[0.19465093200521744,0.22187734221566674]},{\\\"showlegend\\\":false,\\\"mode\\\":\\\"lines\\\",\\\"line\\\":{\\\"color\\\":\\\"#66BAE7\\\",\\\"width\\\":2},\\\"y\\\":[221,221],\\\"type\\\":\\\"scatter\\\",\\\"x\\\":[0.19456704647909184,0.2126198409608246]},{\\\"showlegend\\\":false,\\\"mode\\\":\\\"lines\\\",\\\"line\\\":{\\\"color\\\":\\\"#66BAE7\\\",\\\"width\\\":2},\\\"y\\\":[220,220],\\\"type\\\":\\\"scatter\\\",\\\"x\\\":[0.19400920320369502,0.2072186612353782]},{\\\"showlegend\\\":false,\\\"mode\\\":\\\"lines\\\",\\\"line\\\":{\\\"color\\\":\\\"#66BAE7\\\",\\\"width\\\":2},\\\"y\\\":[219,219],\\\"type\\\":\\\"scatter\\\",\\\"x\\\":[0.19082593068995404,0.22881073930865678]},{\\\"showlegend\\\":false,\\\"mode\\\":\\\"lines\\\",\\\"line\\\":{\\\"color\\\":\\\"#66BAE7\\\",\\\"width\\\":2},\\\"y\\\":[218,218],\\\"type\\\":\\\"scatter\\\",\\\"x\\\":[0.18973487384181542,0.190328310329506]},{\\\"showlegend\\\":false,\\\"mode\\\":\\\"lines\\\",\\\"line\\\":{\\\"color\\\":\\\"#66BAE7\\\",\\\"width\\\":2},\\\"y\\\":[217,217],\\\"type\\\":\\\"scatter\\\",\\\"x\\\":[0.18642737283564126,0.23526097483920066]},{\\\"showlegend\\\":false,\\\"mode\\\":\\\"lines\\\",\\\"line\\\":{\\\"color\\\":\\\"#66BAE7\\\",\\\"width\\\":2},\\\"y\\\":[216,216],\\\"type\\\":\\\"scatter\\\",\\\"x\\\":[0.18396490330026335,0.18660272401352132]},{\\\"showlegend\\\":false,\\\"mode\\\":\\\"lines\\\",\\\"line\\\":{\\\"color\\\":\\\"#66BAE7\\\",\\\"width\\\":2},\\\"y\\\":[215,215],\\\"type\\\":\\\"scatter\\\",\\\"x\\\":[0.1828001149955212,0.185737337637339]},{\\\"showlegend\\\":false,\\\"mode\\\":\\\"lines\\\",\\\"line\\\":{\\\"color\\\":\\\"#66BAE7\\\",\\\"width\\\":2},\\\"y\\\":[214,214],\\\"type\\\":\\\"scatter\\\",\\\"x\\\":[0.1826417840385567,0.2627507263708123]},{\\\"showlegend\\\":false,\\\"mode\\\":\\\"lines\\\",\\\"line\\\":{\\\"color\\\":\\\"#66BAE7\\\",\\\"width\\\":2},\\\"y\\\":[213,213],\\\"type\\\":\\\"scatter\\\",\\\"x\\\":[0.18251898247714854,0.198136433513521]},{\\\"showlegend\\\":false,\\\"mode\\\":\\\"lines\\\",\\\"line\\\":{\\\"color\\\":\\\"#66BAE7\\\",\\\"width\\\":2},\\\"y\\\":[212,212],\\\"type\\\":\\\"scatter\\\",\\\"x\\\":[0.18066577557512575,0.19031288045452727]},{\\\"showlegend\\\":false,\\\"mode\\\":\\\"lines\\\",\\\"line\\\":{\\\"color\\\":\\\"#66BAE7\\\",\\\"width\\\":2},\\\"y\\\":[211,211],\\\"type\\\":\\\"scatter\\\",\\\"x\\\":[0.1788904000853743,0.22766732896417188]},{\\\"showlegend\\\":false,\\\"mode\\\":\\\"lines\\\",\\\"line\\\":{\\\"color\\\":\\\"#66BAE7\\\",\\\"width\\\":2},\\\"y\\\":[210,210],\\\"type\\\":\\\"scatter\\\",\\\"x\\\":[0.17802163986649508,0.20203466381544927]},{\\\"showlegend\\\":false,\\\"mode\\\":\\\"lines\\\",\\\"line\\\":{\\\"color\\\":\\\"#66BAE7\\\",\\\"width\\\":2},\\\"y\\\":[209,209],\\\"type\\\":\\\"scatter\\\",\\\"x\\\":[0.1779888064038573,0.18935986812610847]},{\\\"showlegend\\\":false,\\\"mode\\\":\\\"lines\\\",\\\"line\\\":{\\\"color\\\":\\\"#66BAE7\\\",\\\"width\\\":2},\\\"y\\\":[208,208],\\\"type\\\":\\\"scatter\\\",\\\"x\\\":[0.17753333428917167,0.20944238276040214]},{\\\"showlegend\\\":false,\\\"mode\\\":\\\"lines\\\",\\\"line\\\":{\\\"color\\\":\\\"#66BAE7\\\",\\\"width\\\":2},\\\"y\\\":[207,207],\\\"type\\\":\\\"scatter\\\",\\\"x\\\":[0.17711365596424644,0.21855061252635496]},{\\\"showlegend\\\":false,\\\"mode\\\":\\\"lines\\\",\\\"line\\\":{\\\"color\\\":\\\"#66BAE7\\\",\\\"width\\\":2},\\\"y\\\":[206,206],\\\"type\\\":\\\"scatter\\\",\\\"x\\\":[0.17658795312847436,0.18306084235736014]},{\\\"showlegend\\\":false,\\\"mode\\\":\\\"lines\\\",\\\"line\\\":{\\\"color\\\":\\\"#66BAE7\\\",\\\"width\\\":2},\\\"y\\\":[205,205],\\\"type\\\":\\\"scatter\\\",\\\"x\\\":[0.17635966118369756,0.20871064143637222]},{\\\"showlegend\\\":false,\\\"mode\\\":\\\"lines\\\",\\\"line\\\":{\\\"color\\\":\\\"#66BAE7\\\",\\\"width\\\":2},\\\"y\\\":[204,204],\\\"type\\\":\\\"scatter\\\",\\\"x\\\":[0.17579066781138594,0.19774233390887538]},{\\\"showlegend\\\":false,\\\"mode\\\":\\\"lines\\\",\\\"line\\\":{\\\"color\\\":\\\"#66BAE7\\\",\\\"width\\\":2},\\\"y\\\":[203,203],\\\"type\\\":\\\"scatter\\\",\\\"x\\\":[0.17578919762092785,0.19327342709623596]},{\\\"showlegend\\\":false,\\\"mode\\\":\\\"lines\\\",\\\"line\\\":{\\\"color\\\":\\\"#66BAE7\\\",\\\"width\\\":2},\\\"y\\\":[202,202],\\\"type\\\":\\\"scatter\\\",\\\"x\\\":[0.17467358923119938,0.19442946701269045]},{\\\"showlegend\\\":false,\\\"mode\\\":\\\"lines\\\",\\\"line\\\":{\\\"color\\\":\\\"#66BAE7\\\",\\\"width\\\":2},\\\"y\\\":[201,201],\\\"type\\\":\\\"scatter\\\",\\\"x\\\":[0.17258450695453945,0.19558612938573766]},{\\\"showlegend\\\":false,\\\"mode\\\":\\\"lines\\\",\\\"line\\\":{\\\"color\\\":\\\"#66BAE7\\\",\\\"width\\\":2},\\\"y\\\":[200,200],\\\"type\\\":\\\"scatter\\\",\\\"x\\\":[0.17209189846154124,0.1768555421816465]},{\\\"showlegend\\\":false,\\\"mode\\\":\\\"lines\\\",\\\"line\\\":{\\\"color\\\":\\\"#66BAE7\\\",\\\"width\\\":2},\\\"y\\\":[199,199],\\\"type\\\":\\\"scatter\\\",\\\"x\\\":[0.17035301933938737,0.1974858342280467]},{\\\"showlegend\\\":false,\\\"mode\\\":\\\"lines\\\",\\\"line\\\":{\\\"color\\\":\\\"#66BAE7\\\",\\\"width\\\":2},\\\"y\\\":[198,198],\\\"type\\\":\\\"scatter\\\",\\\"x\\\":[0.16976223277742494,0.19242270244259865]},{\\\"showlegend\\\":false,\\\"mode\\\":\\\"lines\\\",\\\"line\\\":{\\\"color\\\":\\\"#66BAE7\\\",\\\"width\\\":2},\\\"y\\\":[197,197],\\\"type\\\":\\\"scatter\\\",\\\"x\\\":[0.1694644892697707,0.17069071481882114]},{\\\"showlegend\\\":false,\\\"mode\\\":\\\"lines\\\",\\\"line\\\":{\\\"color\\\":\\\"#66BAE7\\\",\\\"width\\\":2},\\\"y\\\":[196,196],\\\"type\\\":\\\"scatter\\\",\\\"x\\\":[0.1690247688132906,0.17710791827584269]},{\\\"showlegend\\\":false,\\\"mode\\\":\\\"lines\\\",\\\"line\\\":{\\\"color\\\":\\\"#66BAE7\\\",\\\"width\\\":2},\\\"y\\\":[195,195],\\\"type\\\":\\\"scatter\\\",\\\"x\\\":[0.16841709381369577,0.2077310020881373]},{\\\"showlegend\\\":false,\\\"mode\\\":\\\"lines\\\",\\\"line\\\":{\\\"color\\\":\\\"#66BAE7\\\",\\\"width\\\":2},\\\"y\\\":[194,194],\\\"type\\\":\\\"scatter\\\",\\\"x\\\":[0.1678411452096696,0.1728779419288258]},{\\\"showlegend\\\":false,\\\"mode\\\":\\\"lines\\\",\\\"line\\\":{\\\"color\\\":\\\"#66BAE7\\\",\\\"width\\\":2},\\\"y\\\":[193,193],\\\"type\\\":\\\"scatter\\\",\\\"x\\\":[0.16683275382504856,0.1940419842221887]},{\\\"showlegend\\\":false,\\\"mode\\\":\\\"lines\\\",\\\"line\\\":{\\\"color\\\":\\\"#66BAE7\\\",\\\"width\\\":2},\\\"y\\\":[192,192],\\\"type\\\":\\\"scatter\\\",\\\"x\\\":[0.16627215162968656,0.17313523152926605]},{\\\"showlegend\\\":false,\\\"mode\\\":\\\"lines\\\",\\\"line\\\":{\\\"color\\\":\\\"#66BAE7\\\",\\\"width\\\":2},\\\"y\\\":[191,191],\\\"type\\\":\\\"scatter\\\",\\\"x\\\":[0.1661797756984218,0.19747976712819898]},{\\\"showlegend\\\":false,\\\"mode\\\":\\\"lines\\\",\\\"line\\\":{\\\"color\\\":\\\"#66BAE7\\\",\\\"width\\\":2},\\\"y\\\":[190,190],\\\"type\\\":\\\"scatter\\\",\\\"x\\\":[0.1661626245835892,0.19195597595405178]},{\\\"showlegend\\\":false,\\\"mode\\\":\\\"lines\\\",\\\"line\\\":{\\\"color\\\":\\\"#66BAE7\\\",\\\"width\\\":2},\\\"y\\\":[189,189],\\\"type\\\":\\\"scatter\\\",\\\"x\\\":[0.16580720683461098,0.1881199832477711]},{\\\"showlegend\\\":false,\\\"mode\\\":\\\"lines\\\",\\\"line\\\":{\\\"color\\\":\\\"#66BAE7\\\",\\\"width\\\":2},\\\"y\\\":[188,188],\\\"type\\\":\\\"scatter\\\",\\\"x\\\":[0.1656314516477453,0.1673760327510531]},{\\\"showlegend\\\":false,\\\"mode\\\":\\\"lines\\\",\\\"line\\\":{\\\"color\\\":\\\"#66BAE7\\\",\\\"width\\\":2},\\\"y\\\":[187,187],\\\"type\\\":\\\"scatter\\\",\\\"x\\\":[0.16558517631352582,0.17605986952534922]},{\\\"showlegend\\\":false,\\\"mode\\\":\\\"lines\\\",\\\"line\\\":{\\\"color\\\":\\\"#66BAE7\\\",\\\"width\\\":2},\\\"y\\\":[186,186],\\\"type\\\":\\\"scatter\\\",\\\"x\\\":[0.16556660399559828,0.16825941897136745]},{\\\"showlegend\\\":false,\\\"mode\\\":\\\"lines\\\",\\\"line\\\":{\\\"color\\\":\\\"#66BAE7\\\",\\\"width\\\":2},\\\"y\\\":[185,185],\\\"type\\\":\\\"scatter\\\",\\\"x\\\":[0.1654765401240227,0.1729846630408967]},{\\\"showlegend\\\":false,\\\"mode\\\":\\\"lines\\\",\\\"line\\\":{\\\"color\\\":\\\"#66BAE7\\\",\\\"width\\\":2},\\\"y\\\":[184,184],\\\"type\\\":\\\"scatter\\\",\\\"x\\\":[0.16536058274188675,0.17959655602608418]},{\\\"showlegend\\\":false,\\\"mode\\\":\\\"lines\\\",\\\"line\\\":{\\\"color\\\":\\\"#66BAE7\\\",\\\"width\\\":2},\\\"y\\\":[183,183],\\\"type\\\":\\\"scatter\\\",\\\"x\\\":[0.16520805869857336,0.16739112371598294]},{\\\"showlegend\\\":false,\\\"mode\\\":\\\"lines\\\",\\\"line\\\":{\\\"color\\\":\\\"#66BAE7\\\",\\\"width\\\":2},\\\"y\\\":[182,182],\\\"type\\\":\\\"scatter\\\",\\\"x\\\":[0.164634484906685,0.16871013377170924]},{\\\"showlegend\\\":false,\\\"mode\\\":\\\"lines\\\",\\\"line\\\":{\\\"color\\\":\\\"#66BAE7\\\",\\\"width\\\":2},\\\"y\\\":[181,181],\\\"type\\\":\\\"scatter\\\",\\\"x\\\":[0.16381031265656762,0.21798666998489405]},{\\\"showlegend\\\":false,\\\"mode\\\":\\\"lines\\\",\\\"line\\\":{\\\"color\\\":\\\"#66BAE7\\\",\\\"width\\\":2},\\\"y\\\":[180,180],\\\"type\\\":\\\"scatter\\\",\\\"x\\\":[0.16360625948160715,0.17467621940258296]},{\\\"showlegend\\\":false,\\\"mode\\\":\\\"lines\\\",\\\"line\\\":{\\\"color\\\":\\\"#66BAE7\\\",\\\"width\\\":2},\\\"y\\\":[179,179],\\\"type\\\":\\\"scatter\\\",\\\"x\\\":[0.16343258860023638,0.2042304437251137]},{\\\"showlegend\\\":false,\\\"mode\\\":\\\"lines\\\",\\\"line\\\":{\\\"color\\\":\\\"#66BAE7\\\",\\\"width\\\":2},\\\"y\\\":[178,178],\\\"type\\\":\\\"scatter\\\",\\\"x\\\":[0.16341216721638965,0.1752015289284202]},{\\\"showlegend\\\":false,\\\"mode\\\":\\\"lines\\\",\\\"line\\\":{\\\"color\\\":\\\"#66BAE7\\\",\\\"width\\\":2},\\\"y\\\":[177,177],\\\"type\\\":\\\"scatter\\\",\\\"x\\\":[0.16284968374303202,0.23476555734497612]},{\\\"showlegend\\\":false,\\\"mode\\\":\\\"lines\\\",\\\"line\\\":{\\\"color\\\":\\\"#66BAE7\\\",\\\"width\\\":2},\\\"y\\\":[176,176],\\\"type\\\":\\\"scatter\\\",\\\"x\\\":[0.1623990189324045,0.16510914612938388]},{\\\"showlegend\\\":false,\\\"mode\\\":\\\"lines\\\",\\\"line\\\":{\\\"color\\\":\\\"#66BAE7\\\",\\\"width\\\":2},\\\"y\\\":[175,175],\\\"type\\\":\\\"scatter\\\",\\\"x\\\":[0.1619752199176944,0.17215381076400524]},{\\\"showlegend\\\":false,\\\"mode\\\":\\\"lines\\\",\\\"line\\\":{\\\"color\\\":\\\"#66BAE7\\\",\\\"width\\\":2},\\\"y\\\":[174,174],\\\"type\\\":\\\"scatter\\\",\\\"x\\\":[0.16182194024889052,0.16697904625840188]},{\\\"showlegend\\\":false,\\\"mode\\\":\\\"lines\\\",\\\"line\\\":{\\\"color\\\":\\\"#66BAE7\\\",\\\"width\\\":2},\\\"y\\\":[173,173],\\\"type\\\":\\\"scatter\\\",\\\"x\\\":[0.16179152478860565,0.16461218528937704]},{\\\"showlegend\\\":false,\\\"mode\\\":\\\"lines\\\",\\\"line\\\":{\\\"color\\\":\\\"#66BAE7\\\",\\\"width\\\":2},\\\"y\\\":[172,172],\\\"type\\\":\\\"scatter\\\",\\\"x\\\":[0.16164856059804034,0.17675527277519432]},{\\\"showlegend\\\":false,\\\"mode\\\":\\\"lines\\\",\\\"line\\\":{\\\"color\\\":\\\"#66BAE7\\\",\\\"width\\\":2},\\\"y\\\":[171,171],\\\"type\\\":\\\"scatter\\\",\\\"x\\\":[0.16084050326801802,0.16897142130059042]},{\\\"showlegend\\\":false,\\\"mode\\\":\\\"lines\\\",\\\"line\\\":{\\\"color\\\":\\\"#66BAE7\\\",\\\"width\\\":2},\\\"y\\\":[170,170],\\\"type\\\":\\\"scatter\\\",\\\"x\\\":[0.1602238030190192,0.16881125517306875]},{\\\"showlegend\\\":false,\\\"mode\\\":\\\"lines\\\",\\\"line\\\":{\\\"color\\\":\\\"#66BAE7\\\",\\\"width\\\":2},\\\"y\\\":[169,169],\\\"type\\\":\\\"scatter\\\",\\\"x\\\":[0.1599805602331007,0.19383607552708387]},{\\\"showlegend\\\":false,\\\"mode\\\":\\\"lines\\\",\\\"line\\\":{\\\"color\\\":\\\"#66BAE7\\\",\\\"width\\\":2},\\\"y\\\":[168,168],\\\"type\\\":\\\"scatter\\\",\\\"x\\\":[0.15986706002824588,0.20435950443265227]},{\\\"showlegend\\\":false,\\\"mode\\\":\\\"lines\\\",\\\"line\\\":{\\\"color\\\":\\\"#66BAE7\\\",\\\"width\\\":2},\\\"y\\\":[167,167],\\\"type\\\":\\\"scatter\\\",\\\"x\\\":[0.15964740902984398,0.16452194478550433]},{\\\"showlegend\\\":false,\\\"mode\\\":\\\"lines\\\",\\\"line\\\":{\\\"color\\\":\\\"#66BAE7\\\",\\\"width\\\":2},\\\"y\\\":[166,166],\\\"type\\\":\\\"scatter\\\",\\\"x\\\":[0.15959975858421774,0.20396148233932276]},{\\\"showlegend\\\":false,\\\"mode\\\":\\\"lines\\\",\\\"line\\\":{\\\"color\\\":\\\"#66BAE7\\\",\\\"width\\\":2},\\\"y\\\":[165,165],\\\"type\\\":\\\"scatter\\\",\\\"x\\\":[0.15952173587056687,0.16681492278319124]},{\\\"showlegend\\\":false,\\\"mode\\\":\\\"lines\\\",\\\"line\\\":{\\\"color\\\":\\\"#66BAE7\\\",\\\"width\\\":2},\\\"y\\\":[164,164],\\\"type\\\":\\\"scatter\\\",\\\"x\\\":[0.15935040074643012,0.17584853224983002]},{\\\"showlegend\\\":false,\\\"mode\\\":\\\"lines\\\",\\\"line\\\":{\\\"color\\\":\\\"#66BAE7\\\",\\\"width\\\":2},\\\"y\\\":[163,163],\\\"type\\\":\\\"scatter\\\",\\\"x\\\":[0.15919893041923358,0.15963794177589405]},{\\\"showlegend\\\":false,\\\"mode\\\":\\\"lines\\\",\\\"line\\\":{\\\"color\\\":\\\"#66BAE7\\\",\\\"width\\\":2},\\\"y\\\":[162,162],\\\"type\\\":\\\"scatter\\\",\\\"x\\\":[0.15899680350944467,0.21590448266488807]},{\\\"showlegend\\\":false,\\\"mode\\\":\\\"lines\\\",\\\"line\\\":{\\\"color\\\":\\\"#66BAE7\\\",\\\"width\\\":2},\\\"y\\\":[161,161],\\\"type\\\":\\\"scatter\\\",\\\"x\\\":[0.15830136609461798,0.1782333607087155]},{\\\"showlegend\\\":false,\\\"mode\\\":\\\"lines\\\",\\\"line\\\":{\\\"color\\\":\\\"#66BAE7\\\",\\\"width\\\":2},\\\"y\\\":[160,160],\\\"type\\\":\\\"scatter\\\",\\\"x\\\":[0.1575838761401593,0.17850447835982525]},{\\\"showlegend\\\":false,\\\"mode\\\":\\\"lines\\\",\\\"line\\\":{\\\"color\\\":\\\"#66BAE7\\\",\\\"width\\\":2},\\\"y\\\":[159,159],\\\"type\\\":\\\"scatter\\\",\\\"x\\\":[0.15661869300377637,0.1695195596115737]},{\\\"showlegend\\\":false,\\\"mode\\\":\\\"lines\\\",\\\"line\\\":{\\\"color\\\":\\\"#66BAE7\\\",\\\"width\\\":2},\\\"y\\\":[158,158],\\\"type\\\":\\\"scatter\\\",\\\"x\\\":[0.15653151402522397,0.1760429169447561]},{\\\"showlegend\\\":false,\\\"mode\\\":\\\"lines\\\",\\\"line\\\":{\\\"color\\\":\\\"#66BAE7\\\",\\\"width\\\":2},\\\"y\\\":[157,157],\\\"type\\\":\\\"scatter\\\",\\\"x\\\":[0.15530946691150915,0.15690296925703334]},{\\\"showlegend\\\":false,\\\"mode\\\":\\\"lines\\\",\\\"line\\\":{\\\"color\\\":\\\"#66BAE7\\\",\\\"width\\\":2},\\\"y\\\":[156,156],\\\"type\\\":\\\"scatter\\\",\\\"x\\\":[0.15512236874932056,0.19394453374950565]},{\\\"showlegend\\\":false,\\\"mode\\\":\\\"lines\\\",\\\"line\\\":{\\\"color\\\":\\\"#66BAE7\\\",\\\"width\\\":2},\\\"y\\\":[155,155],\\\"type\\\":\\\"scatter\\\",\\\"x\\\":[0.15469763045167617,0.1656321819244199]},{\\\"showlegend\\\":false,\\\"mode\\\":\\\"lines\\\",\\\"line\\\":{\\\"color\\\":\\\"#66BAE7\\\",\\\"width\\\":2},\\\"y\\\":[154,154],\\\"type\\\":\\\"scatter\\\",\\\"x\\\":[0.15428078373722745,0.17552523308023604]},{\\\"showlegend\\\":false,\\\"mode\\\":\\\"lines\\\",\\\"line\\\":{\\\"color\\\":\\\"#66BAE7\\\",\\\"width\\\":2},\\\"y\\\":[153,153],\\\"type\\\":\\\"scatter\\\",\\\"x\\\":[0.15415487264590205,0.20536692132136283]},{\\\"showlegend\\\":false,\\\"mode\\\":\\\"lines\\\",\\\"line\\\":{\\\"color\\\":\\\"#66BAE7\\\",\\\"width\\\":2},\\\"y\\\":[152,152],\\\"type\\\":\\\"scatter\\\",\\\"x\\\":[0.15383565585632086,0.1598969737677747]},{\\\"showlegend\\\":false,\\\"mode\\\":\\\"lines\\\",\\\"line\\\":{\\\"color\\\":\\\"#66BAE7\\\",\\\"width\\\":2},\\\"y\\\":[151,151],\\\"type\\\":\\\"scatter\\\",\\\"x\\\":[0.15376571038103717,0.17582831445522615]},{\\\"showlegend\\\":false,\\\"mode\\\":\\\"lines\\\",\\\"line\\\":{\\\"color\\\":\\\"#66BAE7\\\",\\\"width\\\":2},\\\"y\\\":[150,150],\\\"type\\\":\\\"scatter\\\",\\\"x\\\":[0.15328622144269657,0.19900118355525567]},{\\\"showlegend\\\":false,\\\"mode\\\":\\\"lines\\\",\\\"line\\\":{\\\"color\\\":\\\"#66BAE7\\\",\\\"width\\\":2},\\\"y\\\":[149,149],\\\"type\\\":\\\"scatter\\\",\\\"x\\\":[0.1532195186978688,0.1545791484056455]},{\\\"showlegend\\\":false,\\\"mode\\\":\\\"lines\\\",\\\"line\\\":{\\\"color\\\":\\\"#66BAE7\\\",\\\"width\\\":2},\\\"y\\\":[148,148],\\\"type\\\":\\\"scatter\\\",\\\"x\\\":[0.15302546670856543,0.23027459520471832]},{\\\"showlegend\\\":false,\\\"mode\\\":\\\"lines\\\",\\\"line\\\":{\\\"color\\\":\\\"#66BAE7\\\",\\\"width\\\":2},\\\"y\\\":[147,147],\\\"type\\\":\\\"scatter\\\",\\\"x\\\":[0.15284457623103517,0.1596913078530542]},{\\\"showlegend\\\":false,\\\"mode\\\":\\\"lines\\\",\\\"line\\\":{\\\"color\\\":\\\"#66BAE7\\\",\\\"width\\\":2},\\\"y\\\":[146,146],\\\"type\\\":\\\"scatter\\\",\\\"x\\\":[0.15226699008969125,0.18811634379196476]},{\\\"showlegend\\\":false,\\\"mode\\\":\\\"lines\\\",\\\"line\\\":{\\\"color\\\":\\\"#66BAE7\\\",\\\"width\\\":2},\\\"y\\\":[145,145],\\\"type\\\":\\\"scatter\\\",\\\"x\\\":[0.15172615298674724,0.15664086390042475]},{\\\"showlegend\\\":false,\\\"mode\\\":\\\"lines\\\",\\\"line\\\":{\\\"color\\\":\\\"#66BAE7\\\",\\\"width\\\":2},\\\"y\\\":[144,144],\\\"type\\\":\\\"scatter\\\",\\\"x\\\":[0.1506806670347921,0.16680519626637014]},{\\\"showlegend\\\":false,\\\"mode\\\":\\\"lines\\\",\\\"line\\\":{\\\"color\\\":\\\"#66BAE7\\\",\\\"width\\\":2},\\\"y\\\":[143,143],\\\"type\\\":\\\"scatter\\\",\\\"x\\\":[0.15045410978044266,0.17628378374014383]},{\\\"showlegend\\\":false,\\\"mode\\\":\\\"lines\\\",\\\"line\\\":{\\\"color\\\":\\\"#66BAE7\\\",\\\"width\\\":2},\\\"y\\\":[142,142],\\\"type\\\":\\\"scatter\\\",\\\"x\\\":[0.1498047921883162,0.1914049106253114]},{\\\"showlegend\\\":false,\\\"mode\\\":\\\"lines\\\",\\\"line\\\":{\\\"color\\\":\\\"#66BAE7\\\",\\\"width\\\":2},\\\"y\\\":[141,141],\\\"type\\\":\\\"scatter\\\",\\\"x\\\":[0.1497365039743378,0.16172186053637067]},{\\\"showlegend\\\":false,\\\"mode\\\":\\\"lines\\\",\\\"line\\\":{\\\"color\\\":\\\"#66BAE7\\\",\\\"width\\\":2},\\\"y\\\":[140,140],\\\"type\\\":\\\"scatter\\\",\\\"x\\\":[0.14963735870767622,0.17072451202760233]},{\\\"showlegend\\\":false,\\\"mode\\\":\\\"lines\\\",\\\"line\\\":{\\\"color\\\":\\\"#66BAE7\\\",\\\"width\\\":2},\\\"y\\\":[139,139],\\\"type\\\":\\\"scatter\\\",\\\"x\\\":[0.14952498863991262,0.169309223210746]},{\\\"showlegend\\\":false,\\\"mode\\\":\\\"lines\\\",\\\"line\\\":{\\\"color\\\":\\\"#66BAE7\\\",\\\"width\\\":2},\\\"y\\\":[138,138],\\\"type\\\":\\\"scatter\\\",\\\"x\\\":[0.1493946497573598,0.15581272251251954]},{\\\"showlegend\\\":false,\\\"mode\\\":\\\"lines\\\",\\\"line\\\":{\\\"color\\\":\\\"#66BAE7\\\",\\\"width\\\":2},\\\"y\\\":[137,137],\\\"type\\\":\\\"scatter\\\",\\\"x\\\":[0.14909393802683465,0.17534834987080114]},{\\\"showlegend\\\":false,\\\"mode\\\":\\\"lines\\\",\\\"line\\\":{\\\"color\\\":\\\"#66BAE7\\\",\\\"width\\\":2},\\\"y\\\":[136,136],\\\"type\\\":\\\"scatter\\\",\\\"x\\\":[0.14838741867025473,0.14846303047769688]},{\\\"showlegend\\\":false,\\\"mode\\\":\\\"lines\\\",\\\"line\\\":{\\\"color\\\":\\\"#66BAE7\\\",\\\"width\\\":2},\\\"y\\\":[135,135],\\\"type\\\":\\\"scatter\\\",\\\"x\\\":[0.1483802913334642,0.16102582690296974]},{\\\"showlegend\\\":false,\\\"mode\\\":\\\"lines\\\",\\\"line\\\":{\\\"color\\\":\\\"#66BAE7\\\",\\\"width\\\":2},\\\"y\\\":[134,134],\\\"type\\\":\\\"scatter\\\",\\\"x\\\":[0.14808716899459745,0.1845344754222224]},{\\\"showlegend\\\":false,\\\"mode\\\":\\\"lines\\\",\\\"line\\\":{\\\"color\\\":\\\"#66BAE7\\\",\\\"width\\\":2},\\\"y\\\":[133,133],\\\"type\\\":\\\"scatter\\\",\\\"x\\\":[0.14804541127978013,0.21618915414095657]},{\\\"showlegend\\\":false,\\\"mode\\\":\\\"lines\\\",\\\"line\\\":{\\\"color\\\":\\\"#66BAE7\\\",\\\"width\\\":2},\\\"y\\\":[132,132],\\\"type\\\":\\\"scatter\\\",\\\"x\\\":[0.14788835748510623,0.18610398461437916]},{\\\"showlegend\\\":false,\\\"mode\\\":\\\"lines\\\",\\\"line\\\":{\\\"color\\\":\\\"#66BAE7\\\",\\\"width\\\":2},\\\"y\\\":[131,131],\\\"type\\\":\\\"scatter\\\",\\\"x\\\":[0.14776037063897574,0.1546236491496904]},{\\\"showlegend\\\":false,\\\"mode\\\":\\\"lines\\\",\\\"line\\\":{\\\"color\\\":\\\"#66BAE7\\\",\\\"width\\\":2},\\\"y\\\":[130,130],\\\"type\\\":\\\"scatter\\\",\\\"x\\\":[0.14768668473943186,0.16128623132222691]},{\\\"showlegend\\\":false,\\\"mode\\\":\\\"lines\\\",\\\"line\\\":{\\\"color\\\":\\\"#66BAE7\\\",\\\"width\\\":2},\\\"y\\\":[129,129],\\\"type\\\":\\\"scatter\\\",\\\"x\\\":[0.14723692460939766,0.17744187233759362]},{\\\"showlegend\\\":false,\\\"mode\\\":\\\"lines\\\",\\\"line\\\":{\\\"color\\\":\\\"#66BAE7\\\",\\\"width\\\":2},\\\"y\\\":[128,128],\\\"type\\\":\\\"scatter\\\",\\\"x\\\":[0.14714860114218303,0.16099264510785657]},{\\\"showlegend\\\":false,\\\"mode\\\":\\\"lines\\\",\\\"line\\\":{\\\"color\\\":\\\"#66BAE7\\\",\\\"width\\\":2},\\\"y\\\":[127,127],\\\"type\\\":\\\"scatter\\\",\\\"x\\\":[0.1467374209651057,0.17837010513669055]},{\\\"showlegend\\\":false,\\\"mode\\\":\\\"lines\\\",\\\"line\\\":{\\\"color\\\":\\\"#66BAE7\\\",\\\"width\\\":2},\\\"y\\\":[126,126],\\\"type\\\":\\\"scatter\\\",\\\"x\\\":[0.14574157632236112,0.18805743046275566]},{\\\"showlegend\\\":false,\\\"mode\\\":\\\"lines\\\",\\\"line\\\":{\\\"color\\\":\\\"#66BAE7\\\",\\\"width\\\":2},\\\"y\\\":[125,125],\\\"type\\\":\\\"scatter\\\",\\\"x\\\":[0.14539817190085932,0.14933303555773988]},{\\\"showlegend\\\":false,\\\"mode\\\":\\\"lines\\\",\\\"line\\\":{\\\"color\\\":\\\"#66BAE7\\\",\\\"width\\\":2},\\\"y\\\":[124,124],\\\"type\\\":\\\"scatter\\\",\\\"x\\\":[0.14539157487963134,0.1462235024394821]},{\\\"showlegend\\\":false,\\\"mode\\\":\\\"lines\\\",\\\"line\\\":{\\\"color\\\":\\\"#66BAE7\\\",\\\"width\\\":2},\\\"y\\\":[123,123],\\\"type\\\":\\\"scatter\\\",\\\"x\\\":[0.14530966815780139,0.14843636975606572]},{\\\"showlegend\\\":false,\\\"mode\\\":\\\"lines\\\",\\\"line\\\":{\\\"color\\\":\\\"#66BAE7\\\",\\\"width\\\":2},\\\"y\\\":[122,122],\\\"type\\\":\\\"scatter\\\",\\\"x\\\":[0.14521399911011984,0.16802953183568842]},{\\\"showlegend\\\":false,\\\"mode\\\":\\\"lines\\\",\\\"line\\\":{\\\"color\\\":\\\"#66BAE7\\\",\\\"width\\\":2},\\\"y\\\":[121,121],\\\"type\\\":\\\"scatter\\\",\\\"x\\\":[0.1449774117721222,0.15786076774685862]},{\\\"showlegend\\\":false,\\\"mode\\\":\\\"lines\\\",\\\"line\\\":{\\\"color\\\":\\\"#66BAE7\\\",\\\"width\\\":2},\\\"y\\\":[120,120],\\\"type\\\":\\\"scatter\\\",\\\"x\\\":[0.14474678046004638,0.16072511824707247]},{\\\"showlegend\\\":false,\\\"mode\\\":\\\"lines\\\",\\\"line\\\":{\\\"color\\\":\\\"#66BAE7\\\",\\\"width\\\":2},\\\"y\\\":[119,119],\\\"type\\\":\\\"scatter\\\",\\\"x\\\":[0.14433700624870954,0.18025224056510453]},{\\\"showlegend\\\":false,\\\"mode\\\":\\\"lines\\\",\\\"line\\\":{\\\"color\\\":\\\"#66BAE7\\\",\\\"width\\\":2},\\\"y\\\":[118,118],\\\"type\\\":\\\"scatter\\\",\\\"x\\\":[0.144255765252594,0.15698126183538352]},{\\\"showlegend\\\":false,\\\"mode\\\":\\\"lines\\\",\\\"line\\\":{\\\"color\\\":\\\"#66BAE7\\\",\\\"width\\\":2},\\\"y\\\":[117,117],\\\"type\\\":\\\"scatter\\\",\\\"x\\\":[0.144148904849893,0.19952083880357355]},{\\\"showlegend\\\":false,\\\"mode\\\":\\\"lines\\\",\\\"line\\\":{\\\"color\\\":\\\"#66BAE7\\\",\\\"width\\\":2},\\\"y\\\":[116,116],\\\"type\\\":\\\"scatter\\\",\\\"x\\\":[0.14365215133852346,0.20443965031390507]},{\\\"showlegend\\\":false,\\\"mode\\\":\\\"lines\\\",\\\"line\\\":{\\\"color\\\":\\\"#66BAE7\\\",\\\"width\\\":2},\\\"y\\\":[115,115],\\\"type\\\":\\\"scatter\\\",\\\"x\\\":[0.1434120016147882,0.15158992722736045]},{\\\"showlegend\\\":false,\\\"mode\\\":\\\"lines\\\",\\\"line\\\":{\\\"color\\\":\\\"#66BAE7\\\",\\\"width\\\":2},\\\"y\\\":[114,114],\\\"type\\\":\\\"scatter\\\",\\\"x\\\":[0.14300325913378004,0.1793269014737301]},{\\\"showlegend\\\":false,\\\"mode\\\":\\\"lines\\\",\\\"line\\\":{\\\"color\\\":\\\"#66BAE7\\\",\\\"width\\\":2},\\\"y\\\":[113,113],\\\"type\\\":\\\"scatter\\\",\\\"x\\\":[0.14290802106738762,0.16893678645779367]},{\\\"showlegend\\\":false,\\\"mode\\\":\\\"lines\\\",\\\"line\\\":{\\\"color\\\":\\\"#66BAE7\\\",\\\"width\\\":2},\\\"y\\\":[112,112],\\\"type\\\":\\\"scatter\\\",\\\"x\\\":[0.1428334923107202,0.20522395292473541]},{\\\"showlegend\\\":false,\\\"mode\\\":\\\"lines\\\",\\\"line\\\":{\\\"color\\\":\\\"#66BAE7\\\",\\\"width\\\":2},\\\"y\\\":[111,111],\\\"type\\\":\\\"scatter\\\",\\\"x\\\":[0.14264364447186792,0.2109282592464648]},{\\\"showlegend\\\":false,\\\"mode\\\":\\\"lines\\\",\\\"line\\\":{\\\"color\\\":\\\"#66BAE7\\\",\\\"width\\\":2},\\\"y\\\":[110,110],\\\"type\\\":\\\"scatter\\\",\\\"x\\\":[0.1422525049142858,0.23966849140201796]},{\\\"showlegend\\\":false,\\\"mode\\\":\\\"lines\\\",\\\"line\\\":{\\\"color\\\":\\\"#66BAE7\\\",\\\"width\\\":2},\\\"y\\\":[109,109],\\\"type\\\":\\\"scatter\\\",\\\"x\\\":[0.14165831759116077,0.20006791781042643]},{\\\"showlegend\\\":false,\\\"mode\\\":\\\"lines\\\",\\\"line\\\":{\\\"color\\\":\\\"#66BAE7\\\",\\\"width\\\":2},\\\"y\\\":[108,108],\\\"type\\\":\\\"scatter\\\",\\\"x\\\":[0.14124306745145085,0.15761675413153503]},{\\\"showlegend\\\":false,\\\"mode\\\":\\\"lines\\\",\\\"line\\\":{\\\"color\\\":\\\"#66BAE7\\\",\\\"width\\\":2},\\\"y\\\":[107,107],\\\"type\\\":\\\"scatter\\\",\\\"x\\\":[0.1410542650441916,0.1660111669419535]},{\\\"showlegend\\\":false,\\\"mode\\\":\\\"lines\\\",\\\"line\\\":{\\\"color\\\":\\\"#66BAE7\\\",\\\"width\\\":2},\\\"y\\\":[106,106],\\\"type\\\":\\\"scatter\\\",\\\"x\\\":[0.1404967118992541,0.19011064381581078]},{\\\"showlegend\\\":false,\\\"mode\\\":\\\"lines\\\",\\\"line\\\":{\\\"color\\\":\\\"#66BAE7\\\",\\\"width\\\":2},\\\"y\\\":[105,105],\\\"type\\\":\\\"scatter\\\",\\\"x\\\":[0.14005672592323698,0.19831466505601184]},{\\\"showlegend\\\":false,\\\"mode\\\":\\\"lines\\\",\\\"line\\\":{\\\"color\\\":\\\"#66BAE7\\\",\\\"width\\\":2},\\\"y\\\":[104,104],\\\"type\\\":\\\"scatter\\\",\\\"x\\\":[0.13875426958161846,0.19300765914115334]},{\\\"showlegend\\\":false,\\\"mode\\\":\\\"lines\\\",\\\"line\\\":{\\\"color\\\":\\\"#66BAE7\\\",\\\"width\\\":2},\\\"y\\\":[103,103],\\\"type\\\":\\\"scatter\\\",\\\"x\\\":[0.1386777000165037,0.1953262052307183]},{\\\"showlegend\\\":false,\\\"mode\\\":\\\"lines\\\",\\\"line\\\":{\\\"color\\\":\\\"#66BAE7\\\",\\\"width\\\":2},\\\"y\\\":[102,102],\\\"type\\\":\\\"scatter\\\",\\\"x\\\":[0.1382828322381389,0.16561394200509574]},{\\\"showlegend\\\":false,\\\"mode\\\":\\\"lines\\\",\\\"line\\\":{\\\"color\\\":\\\"#66BAE7\\\",\\\"width\\\":2},\\\"y\\\":[101,101],\\\"type\\\":\\\"scatter\\\",\\\"x\\\":[0.1381618403068657,0.15444645878208207]},{\\\"showlegend\\\":false,\\\"mode\\\":\\\"lines\\\",\\\"line\\\":{\\\"color\\\":\\\"#66BAE7\\\",\\\"width\\\":2},\\\"y\\\":[100,100],\\\"type\\\":\\\"scatter\\\",\\\"x\\\":[0.13802705422385955,0.1973790326871647]},{\\\"showlegend\\\":false,\\\"mode\\\":\\\"lines\\\",\\\"line\\\":{\\\"color\\\":\\\"#66BAE7\\\",\\\"width\\\":2},\\\"y\\\":[99,99],\\\"type\\\":\\\"scatter\\\",\\\"x\\\":[0.13769154483606932,0.15993058453977912]},{\\\"showlegend\\\":false,\\\"mode\\\":\\\"lines\\\",\\\"line\\\":{\\\"color\\\":\\\"#66BAE7\\\",\\\"width\\\":2},\\\"y\\\":[98,98],\\\"type\\\":\\\"scatter\\\",\\\"x\\\":[0.13733382918367007,0.16644058558168232]},{\\\"showlegend\\\":false,\\\"mode\\\":\\\"lines\\\",\\\"line\\\":{\\\"color\\\":\\\"#66BAE7\\\",\\\"width\\\":2},\\\"y\\\":[97,97],\\\"type\\\":\\\"scatter\\\",\\\"x\\\":[0.13722052817431796,0.1467688017501907]},{\\\"showlegend\\\":false,\\\"mode\\\":\\\"lines\\\",\\\"line\\\":{\\\"color\\\":\\\"#66BAE7\\\",\\\"width\\\":2},\\\"y\\\":[96,96],\\\"type\\\":\\\"scatter\\\",\\\"x\\\":[0.13690640943578875,0.14837136493036826]},{\\\"showlegend\\\":false,\\\"mode\\\":\\\"lines\\\",\\\"line\\\":{\\\"color\\\":\\\"#66BAE7\\\",\\\"width\\\":2},\\\"y\\\":[95,95],\\\"type\\\":\\\"scatter\\\",\\\"x\\\":[0.13674963774755164,0.21695778765179072]},{\\\"showlegend\\\":false,\\\"mode\\\":\\\"lines\\\",\\\"line\\\":{\\\"color\\\":\\\"#66BAE7\\\",\\\"width\\\":2},\\\"y\\\":[94,94],\\\"type\\\":\\\"scatter\\\",\\\"x\\\":[0.13641651031789462,0.14398142096393748]},{\\\"showlegend\\\":false,\\\"mode\\\":\\\"lines\\\",\\\"line\\\":{\\\"color\\\":\\\"#66BAE7\\\",\\\"width\\\":2},\\\"y\\\":[93,93],\\\"type\\\":\\\"scatter\\\",\\\"x\\\":[0.13636001488450875,0.1441125483887702]},{\\\"showlegend\\\":false,\\\"mode\\\":\\\"lines\\\",\\\"line\\\":{\\\"color\\\":\\\"#66BAE7\\\",\\\"width\\\":2},\\\"y\\\":[92,92],\\\"type\\\":\\\"scatter\\\",\\\"x\\\":[0.13574262779649174,0.15475259263649013]},{\\\"showlegend\\\":false,\\\"mode\\\":\\\"lines\\\",\\\"line\\\":{\\\"color\\\":\\\"#66BAE7\\\",\\\"width\\\":2},\\\"y\\\":[91,91],\\\"type\\\":\\\"scatter\\\",\\\"x\\\":[0.13535281838126373,0.13591723252595464]},{\\\"showlegend\\\":false,\\\"mode\\\":\\\"lines\\\",\\\"line\\\":{\\\"color\\\":\\\"#66BAE7\\\",\\\"width\\\":2},\\\"y\\\":[90,90],\\\"type\\\":\\\"scatter\\\",\\\"x\\\":[0.1352102697692717,0.19009381121658778]},{\\\"showlegend\\\":false,\\\"mode\\\":\\\"lines\\\",\\\"line\\\":{\\\"color\\\":\\\"#66BAE7\\\",\\\"width\\\":2},\\\"y\\\":[89,89],\\\"type\\\":\\\"scatter\\\",\\\"x\\\":[0.13514977360430147,0.1457949073987476]},{\\\"showlegend\\\":false,\\\"mode\\\":\\\"lines\\\",\\\"line\\\":{\\\"color\\\":\\\"#66BAE7\\\",\\\"width\\\":2},\\\"y\\\":[88,88],\\\"type\\\":\\\"scatter\\\",\\\"x\\\":[0.1350526247561067,0.1409797110074864]},{\\\"showlegend\\\":false,\\\"mode\\\":\\\"lines\\\",\\\"line\\\":{\\\"color\\\":\\\"#66BAE7\\\",\\\"width\\\":2},\\\"y\\\":[87,87],\\\"type\\\":\\\"scatter\\\",\\\"x\\\":[0.13502998618192932,0.16043656277472054]},{\\\"showlegend\\\":false,\\\"mode\\\":\\\"lines\\\",\\\"line\\\":{\\\"color\\\":\\\"#66BAE7\\\",\\\"width\\\":2},\\\"y\\\":[86,86],\\\"type\\\":\\\"scatter\\\",\\\"x\\\":[0.1348152149670153,0.14164259667324317]},{\\\"showlegend\\\":false,\\\"mode\\\":\\\"lines\\\",\\\"line\\\":{\\\"color\\\":\\\"#66BAE7\\\",\\\"width\\\":2},\\\"y\\\":[85,85],\\\"type\\\":\\\"scatter\\\",\\\"x\\\":[0.13472143776627038,0.2065694668667904]},{\\\"showlegend\\\":false,\\\"mode\\\":\\\"lines\\\",\\\"line\\\":{\\\"color\\\":\\\"#66BAE7\\\",\\\"width\\\":2},\\\"y\\\":[84,84],\\\"type\\\":\\\"scatter\\\",\\\"x\\\":[0.13408236111206664,0.13993502063649577]},{\\\"showlegend\\\":false,\\\"mode\\\":\\\"lines\\\",\\\"line\\\":{\\\"color\\\":\\\"#66BAE7\\\",\\\"width\\\":2},\\\"y\\\":[83,83],\\\"type\\\":\\\"scatter\\\",\\\"x\\\":[0.13386770086437905,0.15175958854799726]},{\\\"showlegend\\\":false,\\\"mode\\\":\\\"lines\\\",\\\"line\\\":{\\\"color\\\":\\\"#66BAE7\\\",\\\"width\\\":2},\\\"y\\\":[82,82],\\\"type\\\":\\\"scatter\\\",\\\"x\\\":[0.1336933359942506,0.1606132321740607]},{\\\"showlegend\\\":false,\\\"mode\\\":\\\"lines\\\",\\\"line\\\":{\\\"color\\\":\\\"#66BAE7\\\",\\\"width\\\":2},\\\"y\\\":[81,81],\\\"type\\\":\\\"scatter\\\",\\\"x\\\":[0.1336547160661364,0.2022321449747482]},{\\\"showlegend\\\":false,\\\"mode\\\":\\\"lines\\\",\\\"line\\\":{\\\"color\\\":\\\"#66BAE7\\\",\\\"width\\\":2},\\\"y\\\":[80,80],\\\"type\\\":\\\"scatter\\\",\\\"x\\\":[0.13360693770561702,0.1505735949182755]},{\\\"showlegend\\\":false,\\\"mode\\\":\\\"lines\\\",\\\"line\\\":{\\\"color\\\":\\\"#66BAE7\\\",\\\"width\\\":2},\\\"y\\\":[79,79],\\\"type\\\":\\\"scatter\\\",\\\"x\\\":[0.13352773944928117,0.216920597613008]},{\\\"showlegend\\\":false,\\\"mode\\\":\\\"lines\\\",\\\"line\\\":{\\\"color\\\":\\\"#66BAE7\\\",\\\"width\\\":2},\\\"y\\\":[78,78],\\\"type\\\":\\\"scatter\\\",\\\"x\\\":[0.13336971960607896,0.15541958286581317]},{\\\"showlegend\\\":false,\\\"mode\\\":\\\"lines\\\",\\\"line\\\":{\\\"color\\\":\\\"#66BAE7\\\",\\\"width\\\":2},\\\"y\\\":[77,77],\\\"type\\\":\\\"scatter\\\",\\\"x\\\":[0.13309062898253854,0.17533003747566814]},{\\\"showlegend\\\":false,\\\"mode\\\":\\\"lines\\\",\\\"line\\\":{\\\"color\\\":\\\"#66BAE7\\\",\\\"width\\\":2},\\\"y\\\":[76,76],\\\"type\\\":\\\"scatter\\\",\\\"x\\\":[0.13292923193044806,0.2132182326926219]},{\\\"showlegend\\\":false,\\\"mode\\\":\\\"lines\\\",\\\"line\\\":{\\\"color\\\":\\\"#66BAE7\\\",\\\"width\\\":2},\\\"y\\\":[75,75],\\\"type\\\":\\\"scatter\\\",\\\"x\\\":[0.13278964909529428,0.18776345640865094]},{\\\"showlegend\\\":false,\\\"mode\\\":\\\"lines\\\",\\\"line\\\":{\\\"color\\\":\\\"#66BAE7\\\",\\\"width\\\":2},\\\"y\\\":[74,74],\\\"type\\\":\\\"scatter\\\",\\\"x\\\":[0.13264410844563443,0.14101957884844984]},{\\\"showlegend\\\":false,\\\"mode\\\":\\\"lines\\\",\\\"line\\\":{\\\"color\\\":\\\"#66BAE7\\\",\\\"width\\\":2},\\\"y\\\":[73,73],\\\"type\\\":\\\"scatter\\\",\\\"x\\\":[0.13236823973207565,0.17363687343460804]},{\\\"showlegend\\\":false,\\\"mode\\\":\\\"lines\\\",\\\"line\\\":{\\\"color\\\":\\\"#66BAE7\\\",\\\"width\\\":2},\\\"y\\\":[72,72],\\\"type\\\":\\\"scatter\\\",\\\"x\\\":[0.13200484202890198,0.1421187817144442]},{\\\"showlegend\\\":false,\\\"mode\\\":\\\"lines\\\",\\\"line\\\":{\\\"color\\\":\\\"#66BAE7\\\",\\\"width\\\":2},\\\"y\\\":[71,71],\\\"type\\\":\\\"scatter\\\",\\\"x\\\":[0.13121083896664523,0.18588381230022077]},{\\\"showlegend\\\":false,\\\"mode\\\":\\\"lines\\\",\\\"line\\\":{\\\"color\\\":\\\"#66BAE7\\\",\\\"width\\\":2},\\\"y\\\":[70,70],\\\"type\\\":\\\"scatter\\\",\\\"x\\\":[0.13080786311047976,0.15525144460981333]},{\\\"showlegend\\\":false,\\\"mode\\\":\\\"lines\\\",\\\"line\\\":{\\\"color\\\":\\\"#66BAE7\\\",\\\"width\\\":2},\\\"y\\\":[69,69],\\\"type\\\":\\\"scatter\\\",\\\"x\\\":[0.13007729191786063,0.14318381289999613]},{\\\"showlegend\\\":false,\\\"mode\\\":\\\"lines\\\",\\\"line\\\":{\\\"color\\\":\\\"#66BAE7\\\",\\\"width\\\":2},\\\"y\\\":[68,68],\\\"type\\\":\\\"scatter\\\",\\\"x\\\":[0.1299163493783442,0.13986672840753983]},{\\\"showlegend\\\":false,\\\"mode\\\":\\\"lines\\\",\\\"line\\\":{\\\"color\\\":\\\"#66BAE7\\\",\\\"width\\\":2},\\\"y\\\":[67,67],\\\"type\\\":\\\"scatter\\\",\\\"x\\\":[0.12988516067287767,0.18224866244139354]},{\\\"showlegend\\\":false,\\\"mode\\\":\\\"lines\\\",\\\"line\\\":{\\\"color\\\":\\\"#66BAE7\\\",\\\"width\\\":2},\\\"y\\\":[66,66],\\\"type\\\":\\\"scatter\\\",\\\"x\\\":[0.12971681155916126,0.13549157128529027]},{\\\"showlegend\\\":false,\\\"mode\\\":\\\"lines\\\",\\\"line\\\":{\\\"color\\\":\\\"#66BAE7\\\",\\\"width\\\":2},\\\"y\\\":[65,65],\\\"type\\\":\\\"scatter\\\",\\\"x\\\":[0.1295603694327367,0.12959082014026516]},{\\\"showlegend\\\":false,\\\"mode\\\":\\\"lines\\\",\\\"line\\\":{\\\"color\\\":\\\"#66BAE7\\\",\\\"width\\\":2},\\\"y\\\":[64,64],\\\"type\\\":\\\"scatter\\\",\\\"x\\\":[0.1293892908489303,0.1320363572852804]},{\\\"showlegend\\\":false,\\\"mode\\\":\\\"lines\\\",\\\"line\\\":{\\\"color\\\":\\\"#66BAE7\\\",\\\"width\\\":2},\\\"y\\\":[63,63],\\\"type\\\":\\\"scatter\\\",\\\"x\\\":[0.12930361361726278,0.15338038409566512]},{\\\"showlegend\\\":false,\\\"mode\\\":\\\"lines\\\",\\\"line\\\":{\\\"color\\\":\\\"#66BAE7\\\",\\\"width\\\":2},\\\"y\\\":[62,62],\\\"type\\\":\\\"scatter\\\",\\\"x\\\":[0.12930011311054096,0.1601501319072645]},{\\\"showlegend\\\":false,\\\"mode\\\":\\\"lines\\\",\\\"line\\\":{\\\"color\\\":\\\"#66BAE7\\\",\\\"width\\\":2},\\\"y\\\":[61,61],\\\"type\\\":\\\"scatter\\\",\\\"x\\\":[0.12899145170931814,0.16323339434073117]},{\\\"showlegend\\\":false,\\\"mode\\\":\\\"lines\\\",\\\"line\\\":{\\\"color\\\":\\\"#66BAE7\\\",\\\"width\\\":2},\\\"y\\\":[60,60],\\\"type\\\":\\\"scatter\\\",\\\"x\\\":[0.12896687015577463,0.14491915762424562]},{\\\"showlegend\\\":false,\\\"mode\\\":\\\"lines\\\",\\\"line\\\":{\\\"color\\\":\\\"#66BAE7\\\",\\\"width\\\":2},\\\"y\\\":[59,59],\\\"type\\\":\\\"scatter\\\",\\\"x\\\":[0.12842624247018777,0.12934861908719003]},{\\\"showlegend\\\":false,\\\"mode\\\":\\\"lines\\\",\\\"line\\\":{\\\"color\\\":\\\"#66BAE7\\\",\\\"width\\\":2},\\\"y\\\":[58,58],\\\"type\\\":\\\"scatter\\\",\\\"x\\\":[0.12820514574600805,0.2214630376139402]},{\\\"showlegend\\\":false,\\\"mode\\\":\\\"lines\\\",\\\"line\\\":{\\\"color\\\":\\\"#66BAE7\\\",\\\"width\\\":2},\\\"y\\\":[57,57],\\\"type\\\":\\\"scatter\\\",\\\"x\\\":[0.12815228798695888,0.14999699548317008]},{\\\"showlegend\\\":false,\\\"mode\\\":\\\"lines\\\",\\\"line\\\":{\\\"color\\\":\\\"#66BAE7\\\",\\\"width\\\":2},\\\"y\\\":[56,56],\\\"type\\\":\\\"scatter\\\",\\\"x\\\":[0.1279726860359129,0.161127268579985]},{\\\"showlegend\\\":false,\\\"mode\\\":\\\"lines\\\",\\\"line\\\":{\\\"color\\\":\\\"#66BAE7\\\",\\\"width\\\":2},\\\"y\\\":[55,55],\\\"type\\\":\\\"scatter\\\",\\\"x\\\":[0.12787752925973095,0.18442703705214158]},{\\\"showlegend\\\":false,\\\"mode\\\":\\\"lines\\\",\\\"line\\\":{\\\"color\\\":\\\"#66BAE7\\\",\\\"width\\\":2},\\\"y\\\":[54,54],\\\"type\\\":\\\"scatter\\\",\\\"x\\\":[0.12752633015998685,0.16173912104800198]},{\\\"showlegend\\\":false,\\\"mode\\\":\\\"lines\\\",\\\"line\\\":{\\\"color\\\":\\\"#66BAE7\\\",\\\"width\\\":2},\\\"y\\\":[53,53],\\\"type\\\":\\\"scatter\\\",\\\"x\\\":[0.127362272432384,0.1811416014242032]},{\\\"showlegend\\\":false,\\\"mode\\\":\\\"lines\\\",\\\"line\\\":{\\\"color\\\":\\\"#66BAE7\\\",\\\"width\\\":2},\\\"y\\\":[52,52],\\\"type\\\":\\\"scatter\\\",\\\"x\\\":[0.12713566037715232,0.13521045865657075]},{\\\"showlegend\\\":false,\\\"mode\\\":\\\"lines\\\",\\\"line\\\":{\\\"color\\\":\\\"#66BAE7\\\",\\\"width\\\":2},\\\"y\\\":[51,51],\\\"type\\\":\\\"scatter\\\",\\\"x\\\":[0.12696691976365107,0.17864723148206071]},{\\\"showlegend\\\":false,\\\"mode\\\":\\\"lines\\\",\\\"line\\\":{\\\"color\\\":\\\"#66BAE7\\\",\\\"width\\\":2},\\\"y\\\":[50,50],\\\"type\\\":\\\"scatter\\\",\\\"x\\\":[0.1269340815845786,0.13363109458348296]},{\\\"showlegend\\\":false,\\\"mode\\\":\\\"lines\\\",\\\"line\\\":{\\\"color\\\":\\\"#66BAE7\\\",\\\"width\\\":2},\\\"y\\\":[49,49],\\\"type\\\":\\\"scatter\\\",\\\"x\\\":[0.12684850418339738,0.15750681017640475]},{\\\"showlegend\\\":false,\\\"mode\\\":\\\"lines\\\",\\\"line\\\":{\\\"color\\\":\\\"#66BAE7\\\",\\\"width\\\":2},\\\"y\\\":[48,48],\\\"type\\\":\\\"scatter\\\",\\\"x\\\":[0.1263168770844991,0.20749952242976494]},{\\\"showlegend\\\":false,\\\"mode\\\":\\\"lines\\\",\\\"line\\\":{\\\"color\\\":\\\"#66BAE7\\\",\\\"width\\\":2},\\\"y\\\":[47,47],\\\"type\\\":\\\"scatter\\\",\\\"x\\\":[0.12600340367429463,0.15786099300677855]},{\\\"showlegend\\\":false,\\\"mode\\\":\\\"lines\\\",\\\"line\\\":{\\\"color\\\":\\\"#66BAE7\\\",\\\"width\\\":2},\\\"y\\\":[46,46],\\\"type\\\":\\\"scatter\\\",\\\"x\\\":[0.12583734523060516,0.18246087892703852]},{\\\"showlegend\\\":false,\\\"mode\\\":\\\"lines\\\",\\\"line\\\":{\\\"color\\\":\\\"#66BAE7\\\",\\\"width\\\":2},\\\"y\\\":[45,45],\\\"type\\\":\\\"scatter\\\",\\\"x\\\":[0.12567934021044977,0.1256846914105717]},{\\\"showlegend\\\":false,\\\"mode\\\":\\\"lines\\\",\\\"line\\\":{\\\"color\\\":\\\"#66BAE7\\\",\\\"width\\\":2},\\\"y\\\":[44,44],\\\"type\\\":\\\"scatter\\\",\\\"x\\\":[0.1251606006475136,0.14371002603658456]},{\\\"showlegend\\\":false,\\\"mode\\\":\\\"lines\\\",\\\"line\\\":{\\\"color\\\":\\\"#66BAE7\\\",\\\"width\\\":2},\\\"y\\\":[43,43],\\\"type\\\":\\\"scatter\\\",\\\"x\\\":[0.12456584667759817,0.1749466198562299]},{\\\"showlegend\\\":false,\\\"mode\\\":\\\"lines\\\",\\\"line\\\":{\\\"color\\\":\\\"#66BAE7\\\",\\\"width\\\":2},\\\"y\\\":[42,42],\\\"type\\\":\\\"scatter\\\",\\\"x\\\":[0.12431449822728674,0.14164259667324317]},{\\\"showlegend\\\":false,\\\"mode\\\":\\\"lines\\\",\\\"line\\\":{\\\"color\\\":\\\"#66BAE7\\\",\\\"width\\\":2},\\\"y\\\":[41,41],\\\"type\\\":\\\"scatter\\\",\\\"x\\\":[0.12411852351583984,0.19845800311983974]},{\\\"showlegend\\\":false,\\\"mode\\\":\\\"lines\\\",\\\"line\\\":{\\\"color\\\":\\\"#66BAE7\\\",\\\"width\\\":2},\\\"y\\\":[40,40],\\\"type\\\":\\\"scatter\\\",\\\"x\\\":[0.12397239601517493,0.20683091120777616]},{\\\"showlegend\\\":false,\\\"mode\\\":\\\"lines\\\",\\\"line\\\":{\\\"color\\\":\\\"#66BAE7\\\",\\\"width\\\":2},\\\"y\\\":[39,39],\\\"type\\\":\\\"scatter\\\",\\\"x\\\":[0.12383463491264872,0.20333014455075804]},{\\\"showlegend\\\":false,\\\"mode\\\":\\\"lines\\\",\\\"line\\\":{\\\"color\\\":\\\"#66BAE7\\\",\\\"width\\\":2},\\\"y\\\":[38,38],\\\"type\\\":\\\"scatter\\\",\\\"x\\\":[0.12358078532967323,0.19460279902875036]},{\\\"showlegend\\\":false,\\\"mode\\\":\\\"lines\\\",\\\"line\\\":{\\\"color\\\":\\\"#66BAE7\\\",\\\"width\\\":2},\\\"y\\\":[37,37],\\\"type\\\":\\\"scatter\\\",\\\"x\\\":[0.1232215168856288,0.1250319960673595]},{\\\"showlegend\\\":false,\\\"mode\\\":\\\"lines\\\",\\\"line\\\":{\\\"color\\\":\\\"#66BAE7\\\",\\\"width\\\":2},\\\"y\\\":[36,36],\\\"type\\\":\\\"scatter\\\",\\\"x\\\":[0.12308883863033683,0.1338031100680677]},{\\\"showlegend\\\":false,\\\"mode\\\":\\\"lines\\\",\\\"line\\\":{\\\"color\\\":\\\"#66BAE7\\\",\\\"width\\\":2},\\\"y\\\":[35,35],\\\"type\\\":\\\"scatter\\\",\\\"x\\\":[0.12286151975793527,0.1623171618048455]},{\\\"showlegend\\\":false,\\\"mode\\\":\\\"lines\\\",\\\"line\\\":{\\\"color\\\":\\\"#66BAE7\\\",\\\"width\\\":2},\\\"y\\\":[34,34],\\\"type\\\":\\\"scatter\\\",\\\"x\\\":[0.12275636341694318,0.14097121479343966]},{\\\"showlegend\\\":false,\\\"mode\\\":\\\"lines\\\",\\\"line\\\":{\\\"color\\\":\\\"#66BAE7\\\",\\\"width\\\":2},\\\"y\\\":[33,33],\\\"type\\\":\\\"scatter\\\",\\\"x\\\":[0.1226687851010298,0.12534172498246723]},{\\\"showlegend\\\":false,\\\"mode\\\":\\\"lines\\\",\\\"line\\\":{\\\"color\\\":\\\"#66BAE7\\\",\\\"width\\\":2},\\\"y\\\":[32,32],\\\"type\\\":\\\"scatter\\\",\\\"x\\\":[0.12243900627052554,0.148729901465339]},{\\\"showlegend\\\":false,\\\"mode\\\":\\\"lines\\\",\\\"line\\\":{\\\"color\\\":\\\"#66BAE7\\\",\\\"width\\\":2},\\\"y\\\":[31,31],\\\"type\\\":\\\"scatter\\\",\\\"x\\\":[0.12222982334306005,0.13915827284444648]},{\\\"showlegend\\\":false,\\\"mode\\\":\\\"lines\\\",\\\"line\\\":{\\\"color\\\":\\\"#66BAE7\\\",\\\"width\\\":2},\\\"y\\\":[30,30],\\\"type\\\":\\\"scatter\\\",\\\"x\\\":[0.12187972070535749,0.12763774820957902]},{\\\"showlegend\\\":false,\\\"mode\\\":\\\"lines\\\",\\\"line\\\":{\\\"color\\\":\\\"#66BAE7\\\",\\\"width\\\":2},\\\"y\\\":[29,29],\\\"type\\\":\\\"scatter\\\",\\\"x\\\":[0.12163141490929025,0.13381814709767667]},{\\\"showlegend\\\":false,\\\"mode\\\":\\\"lines\\\",\\\"line\\\":{\\\"color\\\":\\\"#66BAE7\\\",\\\"width\\\":2},\\\"y\\\":[28,28],\\\"type\\\":\\\"scatter\\\",\\\"x\\\":[0.12123454317294981,0.143898793534269]},{\\\"showlegend\\\":false,\\\"mode\\\":\\\"lines\\\",\\\"line\\\":{\\\"color\\\":\\\"#66BAE7\\\",\\\"width\\\":2},\\\"y\\\":[27,27],\\\"type\\\":\\\"scatter\\\",\\\"x\\\":[0.12049943241693391,0.125950267850158]},{\\\"showlegend\\\":false,\\\"mode\\\":\\\"lines\\\",\\\"line\\\":{\\\"color\\\":\\\"#66BAE7\\\",\\\"width\\\":2},\\\"y\\\":[26,26],\\\"type\\\":\\\"scatter\\\",\\\"x\\\":[0.12021715241766655,0.16355551854217304]},{\\\"showlegend\\\":false,\\\"mode\\\":\\\"lines\\\",\\\"line\\\":{\\\"color\\\":\\\"#66BAE7\\\",\\\"width\\\":2},\\\"y\\\":[25,25],\\\"type\\\":\\\"scatter\\\",\\\"x\\\":[0.11809040625764491,0.13339641936454524]},{\\\"showlegend\\\":false,\\\"mode\\\":\\\"lines\\\",\\\"line\\\":{\\\"color\\\":\\\"#66BAE7\\\",\\\"width\\\":2},\\\"y\\\":[24,24],\\\"type\\\":\\\"scatter\\\",\\\"x\\\":[0.11656861606993264,0.11933158530663096]},{\\\"showlegend\\\":false,\\\"mode\\\":\\\"lines\\\",\\\"line\\\":{\\\"color\\\":\\\"#66BAE7\\\",\\\"width\\\":2},\\\"y\\\":[23,23],\\\"type\\\":\\\"scatter\\\",\\\"x\\\":[0.11567213568117414,0.16457891609349098]},{\\\"showlegend\\\":false,\\\"mode\\\":\\\"lines\\\",\\\"line\\\":{\\\"color\\\":\\\"#66BAE7\\\",\\\"width\\\":2},\\\"y\\\":[22,22],\\\"type\\\":\\\"scatter\\\",\\\"x\\\":[0.11525559202998635,0.11987126077688132]},{\\\"showlegend\\\":false,\\\"mode\\\":\\\"lines\\\",\\\"line\\\":{\\\"color\\\":\\\"#66BAE7\\\",\\\"width\\\":2},\\\"y\\\":[21,21],\\\"type\\\":\\\"scatter\\\",\\\"x\\\":[0.1144957626082298,0.11615488013674047]},{\\\"showlegend\\\":false,\\\"mode\\\":\\\"lines\\\",\\\"line\\\":{\\\"color\\\":\\\"#66BAE7\\\",\\\"width\\\":2},\\\"y\\\":[20,20],\\\"type\\\":\\\"scatter\\\",\\\"x\\\":[0.11348682591005944,0.1619102264887012]},{\\\"showlegend\\\":false,\\\"mode\\\":\\\"lines\\\",\\\"line\\\":{\\\"color\\\":\\\"#66BAE7\\\",\\\"width\\\":2},\\\"y\\\":[19,19],\\\"type\\\":\\\"scatter\\\",\\\"x\\\":[0.11323011347387173,0.1328966479831314]},{\\\"showlegend\\\":false,\\\"mode\\\":\\\"lines\\\",\\\"line\\\":{\\\"color\\\":\\\"#66BAE7\\\",\\\"width\\\":2},\\\"y\\\":[18,18],\\\"type\\\":\\\"scatter\\\",\\\"x\\\":[0.11288225289364653,0.12085305384698729]},{\\\"showlegend\\\":false,\\\"mode\\\":\\\"lines\\\",\\\"line\\\":{\\\"color\\\":\\\"#66BAE7\\\",\\\"width\\\":2},\\\"y\\\":[17,17],\\\"type\\\":\\\"scatter\\\",\\\"x\\\":[0.11264071767979289,0.15586151363900722]},{\\\"showlegend\\\":false,\\\"mode\\\":\\\"lines\\\",\\\"line\\\":{\\\"color\\\":\\\"#66BAE7\\\",\\\"width\\\":2},\\\"y\\\":[16,16],\\\"type\\\":\\\"scatter\\\",\\\"x\\\":[0.11207895953421262,0.14072715657294557]},{\\\"showlegend\\\":false,\\\"mode\\\":\\\"lines\\\",\\\"line\\\":{\\\"color\\\":\\\"#66BAE7\\\",\\\"width\\\":2},\\\"y\\\":[15,15],\\\"type\\\":\\\"scatter\\\",\\\"x\\\":[0.11133070948197624,0.1271903451811848]},{\\\"showlegend\\\":false,\\\"mode\\\":\\\"lines\\\",\\\"line\\\":{\\\"color\\\":\\\"#66BAE7\\\",\\\"width\\\":2},\\\"y\\\":[14,14],\\\"type\\\":\\\"scatter\\\",\\\"x\\\":[0.11127717651689403,0.17384424102576465]},{\\\"showlegend\\\":false,\\\"mode\\\":\\\"lines\\\",\\\"line\\\":{\\\"color\\\":\\\"#66BAE7\\\",\\\"width\\\":2},\\\"y\\\":[13,13],\\\"type\\\":\\\"scatter\\\",\\\"x\\\":[0.11088613975446593,0.12130579805334878]},{\\\"showlegend\\\":false,\\\"mode\\\":\\\"lines\\\",\\\"line\\\":{\\\"color\\\":\\\"#66BAE7\\\",\\\"width\\\":2},\\\"y\\\":[12,12],\\\"type\\\":\\\"scatter\\\",\\\"x\\\":[0.10837443962303174,0.14469983745531378]},{\\\"showlegend\\\":false,\\\"mode\\\":\\\"lines\\\",\\\"line\\\":{\\\"color\\\":\\\"#66BAE7\\\",\\\"width\\\":2},\\\"y\\\":[11,11],\\\"type\\\":\\\"scatter\\\",\\\"x\\\":[0.10836590660206874,0.12401227736048527]},{\\\"showlegend\\\":false,\\\"mode\\\":\\\"lines\\\",\\\"line\\\":{\\\"color\\\":\\\"#66BAE7\\\",\\\"width\\\":2},\\\"y\\\":[10,10],\\\"type\\\":\\\"scatter\\\",\\\"x\\\":[0.1082416008636843,0.1344002832141876]},{\\\"showlegend\\\":false,\\\"mode\\\":\\\"lines\\\",\\\"line\\\":{\\\"color\\\":\\\"#66BAE7\\\",\\\"width\\\":2},\\\"y\\\":[9,9],\\\"type\\\":\\\"scatter\\\",\\\"x\\\":[0.10613821385278649,0.11642502392905295]},{\\\"showlegend\\\":false,\\\"mode\\\":\\\"lines\\\",\\\"line\\\":{\\\"color\\\":\\\"#66BAE7\\\",\\\"width\\\":2},\\\"y\\\":[8,8],\\\"type\\\":\\\"scatter\\\",\\\"x\\\":[0.10157237328957167,0.13540767058528222]},{\\\"showlegend\\\":false,\\\"mode\\\":\\\"lines\\\",\\\"line\\\":{\\\"color\\\":\\\"#66BAE7\\\",\\\"width\\\":2},\\\"y\\\":[7,7],\\\"type\\\":\\\"scatter\\\",\\\"x\\\":[0.10140328381712797,0.1142058210250996]},{\\\"showlegend\\\":false,\\\"mode\\\":\\\"lines\\\",\\\"line\\\":{\\\"color\\\":\\\"#66BAE7\\\",\\\"width\\\":2},\\\"y\\\":[6,6],\\\"type\\\":\\\"scatter\\\",\\\"x\\\":[0.10110819249968457,0.1202445252650789]},{\\\"showlegend\\\":false,\\\"mode\\\":\\\"lines\\\",\\\"line\\\":{\\\"color\\\":\\\"#66BAE7\\\",\\\"width\\\":2},\\\"y\\\":[5,5],\\\"type\\\":\\\"scatter\\\",\\\"x\\\":[0.09785703398952687,0.10508859721163541]},{\\\"showlegend\\\":false,\\\"mode\\\":\\\"lines\\\",\\\"line\\\":{\\\"color\\\":\\\"#66BAE7\\\",\\\"width\\\":2},\\\"y\\\":[4,4],\\\"type\\\":\\\"scatter\\\",\\\"x\\\":[0.0948131900971978,0.10148833786642657]},{\\\"showlegend\\\":false,\\\"mode\\\":\\\"lines\\\",\\\"line\\\":{\\\"color\\\":\\\"#66BAE7\\\",\\\"width\\\":2},\\\"y\\\":[3,3],\\\"type\\\":\\\"scatter\\\",\\\"x\\\":[0.08951740870363722,0.10101785899268206]},{\\\"showlegend\\\":false,\\\"mode\\\":\\\"lines\\\",\\\"line\\\":{\\\"color\\\":\\\"#66BAE7\\\",\\\"width\\\":2},\\\"y\\\":[2,2],\\\"type\\\":\\\"scatter\\\",\\\"x\\\":[0.08749071219808124,0.08914472835282147]},{\\\"mode\\\":\\\"lines\\\",\\\"line\\\":{\\\"color\\\":\\\"#66BAE7\\\",\\\"width\\\":2},\\\"y\\\":[1,1],\\\"type\\\":\\\"scatter\\\",\\\"name\\\":\\\"Dimension 1\\\",\\\"x\\\":[0.075476704535997,0.07644176303407106]}],{\\\"xaxis\\\":{\\\"showgrid\\\":false,\\\"zeroline\\\":false,\\\"rangevar\\\":[-0.001,0.30651063581269145],\\\"title\\\":\\\"ϵ\\\"},\\\"margin\\\":{\\\"l\\\":50,\\\"b\\\":50,\\\"r\\\":50,\\\"t\\\":60},\\\"yaxis\\\":{\\\"showgrid\\\":false,\\\"rangevar\\\":[0.0,229.1],\\\"ticks\\\":false}},{}); gd.on(\\\"plotly_hover\\\",(function (data){var filtered_data=WebIO.PlotlyCommands.filterEventData(gd,data,\\\"hover\\\"); return !(filtered_data.isnil) ? (WebIO.setval({\\\"name\\\":\\\"hover\\\",\\\"scope\\\":\\\"11765041732573395145\\\",\\\"id\\\":\\\"5384598156263819685\\\",\\\"type\\\":\\\"observable\\\"},filtered_data.out)) : undefined})); gd.on(\\\"plotly_unhover\\\",(function (){return WebIO.setval({\\\"name\\\":\\\"hover\\\",\\\"scope\\\":\\\"11765041732573395145\\\",\\\"id\\\":\\\"5384598156263819685\\\",\\\"type\\\":\\\"observable\\\"},{})})); gd.on(\\\"plotly_selected\\\",(function (data){var filtered_data=WebIO.PlotlyCommands.filterEventData(gd,data,\\\"selected\\\"); return !(filtered_data.isnil) ? (WebIO.setval({\\\"name\\\":\\\"selected\\\",\\\"scope\\\":\\\"11765041732573395145\\\",\\\"id\\\":\\\"3768452999122822155\\\",\\\"type\\\":\\\"observable\\\"},filtered_data.out)) : undefined})); gd.on(\\\"plotly_deselect\\\",(function (){return WebIO.setval({\\\"name\\\":\\\"selected\\\",\\\"scope\\\":\\\"11765041732573395145\\\",\\\"id\\\":\\\"3768452999122822155\\\",\\\"type\\\":\\\"observable\\\"},{})})); gd.on(\\\"plotly_relayout\\\",(function (data){var filtered_data=WebIO.PlotlyCommands.filterEventData(gd,data,\\\"relayout\\\"); return !(filtered_data.isnil) ? (WebIO.setval({\\\"name\\\":\\\"relayout\\\",\\\"scope\\\":\\\"11765041732573395145\\\",\\\"id\\\":\\\"3943509335691524546\\\",\\\"type\\\":\\\"observable\\\"},filtered_data.out)) : undefined})); return gd.on(\\\"plotly_click\\\",(function (data){var filtered_data=WebIO.PlotlyCommands.filterEventData(gd,data,\\\"click\\\"); return !(filtered_data.isnil) ? (WebIO.setval({\\\"name\\\":\\\"click\\\",\\\"scope\\\":\\\"11765041732573395145\\\",\\\"id\\\":\\\"6421300328814754849\\\",\\\"type\\\":\\\"observable\\\"},filtered_data.out)) : undefined}))}));\\n    (WebIO.importBlock({\\\"data\\\":[{\\\"name\\\":\\\"Plotly\\\",\\\"type\\\":\\\"js\\\",\\\"url\\\":\\\"\\/assetserver\\/0011d14de576c55f77111628d5a39fcc5762f320-plotly.min.js\\\"},{\\\"name\\\":null,\\\"type\\\":\\\"js\\\",\\\"url\\\":\\\"\\/assetserver\\/52365f0a3f606733873c2a55bbe1584aba3b706c-plotly_webio.bundle.js\\\"}],\\\"type\\\":\\\"async_block\\\"})).then((imports) => handler.apply(this, imports));\\n}\\n\"],\"observables\":{\"_toImage\":{\"sync\":false,\"id\":\"13476087200884554340\",\"value\":{}},\"hover\":{\"sync\":false,\"id\":\"5384598156263819685\",\"value\":{}},\"selected\":{\"sync\":false,\"id\":\"3768452999122822155\",\"value\":{}},\"__gd_contents\":{\"sync\":false,\"id\":\"6377911703734446842\",\"value\":{}},\"click\":{\"sync\":false,\"id\":\"6421300328814754849\",\"value\":{}},\"image\":{\"sync\":true,\"id\":\"12183557152359155106\",\"value\":\"\"},\"__get_gd_contents\":{\"sync\":false,\"id\":\"10006380654966323324\",\"value\":\"\"},\"_downloadImage\":{\"sync\":false,\"id\":\"2514743255186043690\",\"value\":{}},\"relayout\":{\"sync\":false,\"id\":\"3943509335691524546\",\"value\":{}},\"_commands\":{\"sync\":false,\"id\":\"1365273177173064670\",\"value\":[]}}},\"children\":[{\"props\":{\"id\":\"plot-b329c6c8-80e7-40fd-9279-883c9f6c4fbb\"},\"nodeType\":\"DOM\",\"type\":\"node\",\"instanceArgs\":{\"namespace\":\"html\",\"tag\":\"div\"},\"children\":[]}]},\n",
       "        window,\n",
       "    );\n",
       "    })()\n",
       "    </script>\n",
       "</div>\n"
      ],
      "text/plain": [
       "data: [\n",
       "  \"scatter with fields line, mode, showlegend, type, x, and y\",\n",
       "  \"scatter with fields line, mode, showlegend, type, x, and y\",\n",
       "  \"scatter with fields line, mode, showlegend, type, x, and y\",\n",
       "  \"scatter with fields line, mode, showlegend, type, x, and y\",\n",
       "  \"scatter with fields line, mode, showlegend, type, x, and y\",\n",
       "  \"scatter with fields line, mode, showlegend, type, x, and y\",\n",
       "  \"scatter with fields line, mode, showlegend, type, x, and y\",\n",
       "  \"scatter with fields line, mode, showlegend, type, x, and y\",\n",
       "  \"scatter with fields line, mode, showlegend, type, x, and y\",\n",
       "  \"scatter with fields line, mode, showlegend, type, x, and y\",\n",
       "  \"scatter with fields line, mode, showlegend, type, x, and y\",\n",
       "  \"scatter with fields line, mode, showlegend, type, x, and y\",\n",
       "  \"scatter with fields line, mode, showlegend, type, x, and y\",\n",
       "  \"scatter with fields line, mode, showlegend, type, x, and y\",\n",
       "  \"scatter with fields line, mode, showlegend, type, x, and y\",\n",
       "  \"scatter with fields line, mode, showlegend, type, x, and y\",\n",
       "  \"scatter with fields line, mode, showlegend, type, x, and y\",\n",
       "  \"scatter with fields line, mode, showlegend, type, x, and y\",\n",
       "  \"scatter with fields line, mode, showlegend, type, x, and y\",\n",
       "  \"scatter with fields line, mode, showlegend, type, x, and y\",\n",
       "  \"scatter with fields line, mode, showlegend, type, x, and y\",\n",
       "  \"scatter with fields line, mode, showlegend, type, x, and y\",\n",
       "  \"scatter with fields line, mode, showlegend, type, x, and y\",\n",
       "  \"scatter with fields line, mode, showlegend, type, x, and y\",\n",
       "  \"scatter with fields line, mode, showlegend, type, x, and y\",\n",
       "  \"scatter with fields line, mode, showlegend, type, x, and y\",\n",
       "  \"scatter with fields line, mode, showlegend, type, x, and y\",\n",
       "  \"scatter with fields line, mode, showlegend, type, x, and y\",\n",
       "  \"scatter with fields line, mode, showlegend, type, x, and y\",\n",
       "  \"scatter with fields line, mode, showlegend, type, x, and y\",\n",
       "  \"scatter with fields line, mode, showlegend, type, x, and y\",\n",
       "  \"scatter with fields line, mode, showlegend, type, x, and y\",\n",
       "  \"scatter with fields line, mode, showlegend, type, x, and y\",\n",
       "  \"scatter with fields line, mode, showlegend, type, x, and y\",\n",
       "  \"scatter with fields line, mode, showlegend, type, x, and y\",\n",
       "  \"scatter with fields line, mode, showlegend, type, x, and y\",\n",
       "  \"scatter with fields line, mode, showlegend, type, x, and y\",\n",
       "  \"scatter with fields line, mode, showlegend, type, x, and y\",\n",
       "  \"scatter with fields line, mode, showlegend, type, x, and y\",\n",
       "  \"scatter with fields line, mode, showlegend, type, x, and y\",\n",
       "  \"scatter with fields line, mode, showlegend, type, x, and y\",\n",
       "  \"scatter with fields line, mode, showlegend, type, x, and y\",\n",
       "  \"scatter with fields line, mode, showlegend, type, x, and y\",\n",
       "  \"scatter with fields line, mode, showlegend, type, x, and y\",\n",
       "  \"scatter with fields line, mode, showlegend, type, x, and y\",\n",
       "  \"scatter with fields line, mode, showlegend, type, x, and y\",\n",
       "  \"scatter with fields line, mode, showlegend, type, x, and y\",\n",
       "  \"scatter with fields line, mode, showlegend, type, x, and y\",\n",
       "  \"scatter with fields line, mode, showlegend, type, x, and y\",\n",
       "  \"scatter with fields line, mode, showlegend, type, x, and y\",\n",
       "  \"scatter with fields line, mode, showlegend, type, x, and y\",\n",
       "  \"scatter with fields line, mode, showlegend, type, x, and y\",\n",
       "  \"scatter with fields line, mode, showlegend, type, x, and y\",\n",
       "  \"scatter with fields line, mode, showlegend, type, x, and y\",\n",
       "  \"scatter with fields line, mode, showlegend, type, x, and y\",\n",
       "  \"scatter with fields line, mode, showlegend, type, x, and y\",\n",
       "  \"scatter with fields line, mode, showlegend, type, x, and y\",\n",
       "  \"scatter with fields line, mode, showlegend, type, x, and y\",\n",
       "  \"scatter with fields line, mode, showlegend, type, x, and y\",\n",
       "  \"scatter with fields line, mode, showlegend, type, x, and y\",\n",
       "  \"scatter with fields line, mode, showlegend, type, x, and y\",\n",
       "  \"scatter with fields line, mode, showlegend, type, x, and y\",\n",
       "  \"scatter with fields line, mode, showlegend, type, x, and y\",\n",
       "  \"scatter with fields line, mode, showlegend, type, x, and y\",\n",
       "  \"scatter with fields line, mode, showlegend, type, x, and y\",\n",
       "  \"scatter with fields line, mode, showlegend, type, x, and y\",\n",
       "  \"scatter with fields line, mode, showlegend, type, x, and y\",\n",
       "  \"scatter with fields line, mode, showlegend, type, x, and y\",\n",
       "  \"scatter with fields line, mode, showlegend, type, x, and y\",\n",
       "  \"scatter with fields line, mode, showlegend, type, x, and y\",\n",
       "  \"scatter with fields line, mode, showlegend, type, x, and y\",\n",
       "  \"scatter with fields line, mode, showlegend, type, x, and y\",\n",
       "  \"scatter with fields line, mode, showlegend, type, x, and y\",\n",
       "  \"scatter with fields line, mode, showlegend, type, x, and y\",\n",
       "  \"scatter with fields line, mode, showlegend, type, x, and y\",\n",
       "  \"scatter with fields line, mode, showlegend, type, x, and y\",\n",
       "  \"scatter with fields line, mode, showlegend, type, x, and y\",\n",
       "  \"scatter with fields line, mode, showlegend, type, x, and y\",\n",
       "  \"scatter with fields line, mode, showlegend, type, x, and y\",\n",
       "  \"scatter with fields line, mode, showlegend, type, x, and y\",\n",
       "  \"scatter with fields line, mode, showlegend, type, x, and y\",\n",
       "  \"scatter with fields line, mode, showlegend, type, x, and y\",\n",
       "  \"scatter with fields line, mode, showlegend, type, x, and y\",\n",
       "  \"scatter with fields line, mode, showlegend, type, x, and y\",\n",
       "  \"scatter with fields line, mode, showlegend, type, x, and y\",\n",
       "  \"scatter with fields line, mode, showlegend, type, x, and y\",\n",
       "  \"scatter with fields line, mode, showlegend, type, x, and y\",\n",
       "  \"scatter with fields line, mode, showlegend, type, x, and y\",\n",
       "  \"scatter with fields line, mode, showlegend, type, x, and y\",\n",
       "  \"scatter with fields line, mode, showlegend, type, x, and y\",\n",
       "  \"scatter with fields line, mode, showlegend, type, x, and y\",\n",
       "  \"scatter with fields line, mode, showlegend, type, x, and y\",\n",
       "  \"scatter with fields line, mode, showlegend, type, x, and y\",\n",
       "  \"scatter with fields line, mode, showlegend, type, x, and y\",\n",
       "  \"scatter with fields line, mode, showlegend, type, x, and y\",\n",
       "  \"scatter with fields line, mode, showlegend, type, x, and y\",\n",
       "  \"scatter with fields line, mode, showlegend, type, x, and y\",\n",
       "  \"scatter with fields line, mode, showlegend, type, x, and y\",\n",
       "  \"scatter with fields line, mode, showlegend, type, x, and y\",\n",
       "  \"scatter with fields line, mode, showlegend, type, x, and y\",\n",
       "  \"scatter with fields line, mode, showlegend, type, x, and y\",\n",
       "  \"scatter with fields line, mode, showlegend, type, x, and y\",\n",
       "  \"scatter with fields line, mode, showlegend, type, x, and y\",\n",
       "  \"scatter with fields line, mode, showlegend, type, x, and y\",\n",
       "  \"scatter with fields line, mode, showlegend, type, x, and y\",\n",
       "  \"scatter with fields line, mode, showlegend, type, x, and y\",\n",
       "  \"scatter with fields line, mode, showlegend, type, x, and y\",\n",
       "  \"scatter with fields line, mode, showlegend, type, x, and y\",\n",
       "  \"scatter with fields line, mode, showlegend, type, x, and y\",\n",
       "  \"scatter with fields line, mode, showlegend, type, x, and y\",\n",
       "  \"scatter with fields line, mode, showlegend, type, x, and y\",\n",
       "  \"scatter with fields line, mode, showlegend, type, x, and y\",\n",
       "  \"scatter with fields line, mode, showlegend, type, x, and y\",\n",
       "  \"scatter with fields line, mode, showlegend, type, x, and y\",\n",
       "  \"scatter with fields line, mode, showlegend, type, x, and y\",\n",
       "  \"scatter with fields line, mode, showlegend, type, x, and y\",\n",
       "  \"scatter with fields line, mode, showlegend, type, x, and y\",\n",
       "  \"scatter with fields line, mode, showlegend, type, x, and y\",\n",
       "  \"scatter with fields line, mode, showlegend, type, x, and y\",\n",
       "  \"scatter with fields line, mode, showlegend, type, x, and y\",\n",
       "  \"scatter with fields line, mode, showlegend, type, x, and y\",\n",
       "  \"scatter with fields line, mode, showlegend, type, x, and y\",\n",
       "  \"scatter with fields line, mode, showlegend, type, x, and y\",\n",
       "  \"scatter with fields line, mode, showlegend, type, x, and y\",\n",
       "  \"scatter with fields line, mode, showlegend, type, x, and y\",\n",
       "  \"scatter with fields line, mode, showlegend, type, x, and y\",\n",
       "  \"scatter with fields line, mode, showlegend, type, x, and y\",\n",
       "  \"scatter with fields line, mode, showlegend, type, x, and y\",\n",
       "  \"scatter with fields line, mode, showlegend, type, x, and y\",\n",
       "  \"scatter with fields line, mode, showlegend, type, x, and y\",\n",
       "  \"scatter with fields line, mode, showlegend, type, x, and y\",\n",
       "  \"scatter with fields line, mode, showlegend, type, x, and y\",\n",
       "  \"scatter with fields line, mode, showlegend, type, x, and y\",\n",
       "  \"scatter with fields line, mode, showlegend, type, x, and y\",\n",
       "  \"scatter with fields line, mode, showlegend, type, x, and y\",\n",
       "  \"scatter with fields line, mode, showlegend, type, x, and y\",\n",
       "  \"scatter with fields line, mode, showlegend, type, x, and y\",\n",
       "  \"scatter with fields line, mode, showlegend, type, x, and y\",\n",
       "  \"scatter with fields line, mode, showlegend, type, x, and y\",\n",
       "  \"scatter with fields line, mode, showlegend, type, x, and y\",\n",
       "  \"scatter with fields line, mode, showlegend, type, x, and y\",\n",
       "  \"scatter with fields line, mode, showlegend, type, x, and y\",\n",
       "  \"scatter with fields line, mode, showlegend, type, x, and y\",\n",
       "  \"scatter with fields line, mode, showlegend, type, x, and y\",\n",
       "  \"scatter with fields line, mode, showlegend, type, x, and y\",\n",
       "  \"scatter with fields line, mode, showlegend, type, x, and y\",\n",
       "  \"scatter with fields line, mode, showlegend, type, x, and y\",\n",
       "  \"scatter with fields line, mode, showlegend, type, x, and y\",\n",
       "  \"scatter with fields line, mode, showlegend, type, x, and y\",\n",
       "  \"scatter with fields line, mode, showlegend, type, x, and y\",\n",
       "  \"scatter with fields line, mode, showlegend, type, x, and y\",\n",
       "  \"scatter with fields line, mode, showlegend, type, x, and y\",\n",
       "  \"scatter with fields line, mode, showlegend, type, x, and y\",\n",
       "  \"scatter with fields line, mode, showlegend, type, x, and y\",\n",
       "  \"scatter with fields line, mode, showlegend, type, x, and y\",\n",
       "  \"scatter with fields line, mode, showlegend, type, x, and y\",\n",
       "  \"scatter with fields line, mode, showlegend, type, x, and y\",\n",
       "  \"scatter with fields line, mode, showlegend, type, x, and y\",\n",
       "  \"scatter with fields line, mode, showlegend, type, x, and y\",\n",
       "  \"scatter with fields line, mode, showlegend, type, x, and y\",\n",
       "  \"scatter with fields line, mode, showlegend, type, x, and y\",\n",
       "  \"scatter with fields line, mode, showlegend, type, x, and y\",\n",
       "  \"scatter with fields line, mode, showlegend, type, x, and y\",\n",
       "  \"scatter with fields line, mode, showlegend, type, x, and y\",\n",
       "  \"scatter with fields line, mode, showlegend, type, x, and y\",\n",
       "  \"scatter with fields line, mode, showlegend, type, x, and y\",\n",
       "  \"scatter with fields line, mode, showlegend, type, x, and y\",\n",
       "  \"scatter with fields line, mode, showlegend, type, x, and y\",\n",
       "  \"scatter with fields line, mode, showlegend, type, x, and y\",\n",
       "  \"scatter with fields line, mode, showlegend, type, x, and y\",\n",
       "  \"scatter with fields line, mode, showlegend, type, x, and y\",\n",
       "  \"scatter with fields line, mode, showlegend, type, x, and y\",\n",
       "  \"scatter with fields line, mode, showlegend, type, x, and y\",\n",
       "  \"scatter with fields line, mode, showlegend, type, x, and y\",\n",
       "  \"scatter with fields line, mode, showlegend, type, x, and y\",\n",
       "  \"scatter with fields line, mode, showlegend, type, x, and y\",\n",
       "  \"scatter with fields line, mode, showlegend, type, x, and y\",\n",
       "  \"scatter with fields line, mode, showlegend, type, x, and y\",\n",
       "  \"scatter with fields line, mode, showlegend, type, x, and y\",\n",
       "  \"scatter with fields line, mode, showlegend, type, x, and y\",\n",
       "  \"scatter with fields line, mode, showlegend, type, x, and y\",\n",
       "  \"scatter with fields line, mode, showlegend, type, x, and y\",\n",
       "  \"scatter with fields line, mode, showlegend, type, x, and y\",\n",
       "  \"scatter with fields line, mode, showlegend, type, x, and y\",\n",
       "  \"scatter with fields line, mode, showlegend, type, x, and y\",\n",
       "  \"scatter with fields line, mode, showlegend, type, x, and y\",\n",
       "  \"scatter with fields line, mode, showlegend, type, x, and y\",\n",
       "  \"scatter with fields line, mode, showlegend, type, x, and y\",\n",
       "  \"scatter with fields line, mode, showlegend, type, x, and y\",\n",
       "  \"scatter with fields line, mode, showlegend, type, x, and y\",\n",
       "  \"scatter with fields line, mode, showlegend, type, x, and y\",\n",
       "  \"scatter with fields line, mode, showlegend, type, x, and y\",\n",
       "  \"scatter with fields line, mode, showlegend, type, x, and y\",\n",
       "  \"scatter with fields line, mode, showlegend, type, x, and y\",\n",
       "  \"scatter with fields line, mode, showlegend, type, x, and y\",\n",
       "  \"scatter with fields line, mode, showlegend, type, x, and y\",\n",
       "  \"scatter with fields line, mode, showlegend, type, x, and y\",\n",
       "  \"scatter with fields line, mode, showlegend, type, x, and y\",\n",
       "  \"scatter with fields line, mode, showlegend, type, x, and y\",\n",
       "  \"scatter with fields line, mode, showlegend, type, x, and y\",\n",
       "  \"scatter with fields line, mode, showlegend, type, x, and y\",\n",
       "  \"scatter with fields line, mode, showlegend, type, x, and y\",\n",
       "  \"scatter with fields line, mode, showlegend, type, x, and y\",\n",
       "  \"scatter with fields line, mode, showlegend, type, x, and y\",\n",
       "  \"scatter with fields line, mode, showlegend, type, x, and y\",\n",
       "  \"scatter with fields line, mode, showlegend, type, x, and y\",\n",
       "  \"scatter with fields line, mode, showlegend, type, x, and y\",\n",
       "  \"scatter with fields line, mode, showlegend, type, x, and y\",\n",
       "  \"scatter with fields line, mode, showlegend, type, x, and y\",\n",
       "  \"scatter with fields line, mode, showlegend, type, x, and y\",\n",
       "  \"scatter with fields line, mode, showlegend, type, x, and y\",\n",
       "  \"scatter with fields line, mode, showlegend, type, x, and y\",\n",
       "  \"scatter with fields line, mode, showlegend, type, x, and y\",\n",
       "  \"scatter with fields line, mode, showlegend, type, x, and y\",\n",
       "  \"scatter with fields line, mode, showlegend, type, x, and y\",\n",
       "  \"scatter with fields line, mode, showlegend, type, x, and y\",\n",
       "  \"scatter with fields line, mode, showlegend, type, x, and y\",\n",
       "  \"scatter with fields line, mode, showlegend, type, x, and y\",\n",
       "  \"scatter with fields line, mode, showlegend, type, x, and y\",\n",
       "  \"scatter with fields line, mode, showlegend, type, x, and y\",\n",
       "  \"scatter with fields line, mode, showlegend, type, x, and y\",\n",
       "  \"scatter with fields line, mode, showlegend, type, x, and y\",\n",
       "  \"scatter with fields line, mode, showlegend, type, x, and y\",\n",
       "  \"scatter with fields line, mode, showlegend, type, x, and y\",\n",
       "  \"scatter with fields line, mode, showlegend, type, x, and y\",\n",
       "  \"scatter with fields line, mode, showlegend, type, x, and y\",\n",
       "  \"scatter with fields line, mode, showlegend, type, x, and y\",\n",
       "  \"scatter with fields line, mode, showlegend, type, x, and y\",\n",
       "  \"scatter with fields line, mode, name, type, x, and y\"\n",
       "]\n",
       "\n",
       "layout: \"layout with fields margin, xaxis, and yaxis\"\n",
       "\n"
      ]
     },
     "execution_count": 6,
     "metadata": {},
     "output_type": "execute_result"
    }
   ],
   "source": [
    "plotbarcode_pjs(C,dim=1)"
   ]
  },
  {
   "cell_type": "code",
   "execution_count": null,
   "metadata": {},
   "outputs": [],
   "source": [
    "plotpersistencediagram_pjs(C,dim=1)"
   ]
  },
  {
   "cell_type": "code",
   "execution_count": 9,
   "metadata": {},
   "outputs": [
    {
     "data": {
      "application/vnd.plotly.v1+json": {
       "data": [
        {
         "autocolorscale": false,
         "marker": {
          "cmax": 1,
          "cmin": 0,
          "color": [
           1,
           0,
           0.49999999999999994,
           0.5
          ],
          "colorscale": "Jet",
          "line": {
           "color": [
            0.5000000000000001,
            0.5000000000000001,
            0,
            1
           ],
           "colorscale": "Jet",
           "width": 2
          },
          "opacity": 1,
          "size": 5,
          "symbol": "circle"
         },
         "mode": "markers+text",
         "text": [
          "26",
          "46",
          "22",
          "39"
         ],
         "type": "scatter3d",
         "x": [
          0.6158959793027257,
          0.7313672954255139,
          0.6186444021219517,
          0.8119273408444321
         ],
         "y": [
          0.1740104366179076,
          0.36927481051358124,
          0.1647842129162138,
          0.2697172058028665
         ],
         "z": [
          0.6474653231285081,
          0.8179421811943783,
          0.7683667089545005,
          0.6659076196825127
         ]
        },
        {
         "autocolorscale": false,
         "marker": {
          "color": "rgb(31,119,180)",
          "line": {
           "color": "rgb(31,119,180)",
           "width": 2
          },
          "opacity": 0.5,
          "size": 5,
          "symbol": "circle"
         },
         "mode": "markers",
         "text": [
          "27",
          "6",
          "8",
          "44",
          "14",
          "30",
          "31",
          "15",
          "34",
          "25",
          "3",
          "47",
          "4",
          "28",
          "48",
          "5",
          "2",
          "23",
          "12",
          "32",
          "21",
          "36",
          "20",
          "16",
          "7",
          "42",
          "33",
          "19",
          "40",
          "1",
          "13",
          "11",
          "24",
          "18",
          "50",
          "41",
          "37",
          "17",
          "45",
          "38",
          "43",
          "29",
          "9",
          "49",
          "35",
          "10"
         ],
         "type": "scatter3d",
         "x": [
          0.6349694384936415,
          0.4330249341091321,
          0.3601553795925825,
          0.5417096464762003,
          0.22369224883825045,
          0.7635014067061834,
          0.7038048744613723,
          0.4859471292256945,
          0.19001562538817063,
          0.6317995923132438,
          0.3427280162921149,
          0.5074244828505055,
          0.5841254183192712,
          0.1925861241973248,
          0.2535379311163737,
          0.08158986155609527,
          0.7124791509223869,
          0.6900680816400788,
          0.19781384269541458,
          0.172653404769612,
          0.41305438472948897,
          0.7641913222555943,
          0.24704546332197008,
          0.48575625754259644,
          0.022115906597997226,
          0.3540988911774514,
          0.5174045699673515,
          0.7768106146254035,
          0.2664902674311429,
          0.9638088586204367,
          0.5452807676218618,
          0.3597764476434242,
          0.02213355889865598,
          0.2308262219620767,
          0.8103921841283008,
          0.14807061467130023,
          0.2938183341536753,
          0.30082972689625076,
          0.9740857870251645,
          0.08215701943337739,
          0.973344363728597,
          0.6341575982124803,
          0.8417544549072802,
          0.8900152063481355,
          0.1177146531184794,
          0.8883747662122246
         ],
         "y": [
          0.4913393200712115,
          0.22762433425044515,
          0.6367975972339559,
          0.4971758839466509,
          0.3993501306118281,
          0.4365291126538322,
          0.661515771791102,
          0.16616992557604893,
          0.3442082141405074,
          0.7361081915148227,
          0.5300324406814998,
          0.4877592706066134,
          0.6609539703915503,
          0.676017144605485,
          0.7292266680285675,
          0.545944223246126,
          0.24230748327461704,
          0.29862491210537767,
          0.20153204875500896,
          0.1852862200670069,
          0.386272880181894,
          0.5924165473669025,
          0.8168454959897629,
          0.8305102698322111,
          0.49630860454735837,
          0.1090706961121255,
          0.05773464688137797,
          0.3953679438796487,
          0.8276350974287143,
          0.46078136737367337,
          0.07241895798252229,
          0.46366437315624154,
          0.6286849474365845,
          0.8227013569015129,
          0.1311614558272618,
          0.14459620115319005,
          0.010069793249981807,
          0.8733903286036051,
          0.6236720338432471,
          0.7514638267570937,
          0.7088613037987648,
          0.9678658838656162,
          0.8444199162199209,
          0.7593725453990343,
          0.18435033239715937,
          0.07974919793619661
         ],
         "z": [
          0.41617958744587646,
          0.6212318239409598,
          0.44787490574468625,
          0.8485745640713356,
          0.5052117296798195,
          0.5604259783614245,
          0.5918523655915826,
          0.5294453862660922,
          0.7096555007603329,
          0.46282719523503735,
          0.8941098673556802,
          0.9505595522534442,
          0.2783643631645316,
          0.4531342877313551,
          0.41770990765020377,
          0.6854111701083123,
          0.336446727565169,
          0.9589221643926331,
          0.8166990198935222,
          0.7918404358571547,
          0.14979965576191634,
          0.9056761768910193,
          0.704985492526391,
          0.2678281711376804,
          0.4563917772799395,
          0.9455068113597986,
          0.9231790745728989,
          0.19733958579109556,
          0.28579556672688033,
          0.7053793493663498,
          0.9986542595098526,
          0.06534469855528902,
          0.37559714450856085,
          0.812804213652349,
          0.3495681450102779,
          0.9611085257270935,
          0.939032576694411,
          0.17391382432047786,
          0.786304566979755,
          0.8932648986915439,
          0.8397868051711055,
          0.1323385852100154,
          0.12626913997390976,
          0.05481555913090963,
          0.07746841673802285,
          0.014974188904468777
         ]
        },
        {
         "line": {
          "color": "#1f77b4",
          "width": 1.5
         },
         "mode": "lines",
         "name": "Dim 1 Faces",
         "opacity": 0.5,
         "type": "scatter3d",
         "x": [
          0.6186444021219517,
          0.6158959793027257
         ],
         "y": [
          0.1647842129162138,
          0.1740104366179076
         ],
         "z": [
          0.7683667089545005,
          0.6474653231285081
         ]
        },
        {
         "line": {
          "color": "#1f77b4",
          "width": 1.5
         },
         "mode": "lines",
         "name": "edge (22,46)",
         "opacity": 0.5,
         "showlegend": false,
         "type": "scatter3d",
         "x": [
          0.6186444021219517,
          0.7313672954255139
         ],
         "y": [
          0.1647842129162138,
          0.36927481051358124
         ],
         "z": [
          0.7683667089545005,
          0.8179421811943783
         ]
        },
        {
         "line": {
          "color": "#1f77b4",
          "width": 1.5
         },
         "mode": "lines",
         "name": "edge (26,39)",
         "opacity": 0.5,
         "showlegend": false,
         "type": "scatter3d",
         "x": [
          0.6158959793027257,
          0.8119273408444321
         ],
         "y": [
          0.1740104366179076,
          0.2697172058028665
         ],
         "z": [
          0.6474653231285081,
          0.6659076196825127
         ]
        },
        {
         "line": {
          "color": "#1f77b4",
          "width": 1.5
         },
         "mode": "lines",
         "name": "edge (39,46)",
         "opacity": 0.5,
         "showlegend": false,
         "type": "scatter3d",
         "x": [
          0.8119273408444321,
          0.7313672954255139
         ],
         "y": [
          0.2697172058028665,
          0.36927481051358124
         ],
         "z": [
          0.6659076196825127,
          0.8179421811943783
         ]
        }
       ],
       "frames": [],
       "layout": {
        "height": 800,
        "hovermode": "closest",
        "margin": {
         "b": 50,
         "l": 50,
         "r": 50,
         "t": 50
        },
        "scene": {
         "aspectmode": "manual",
         "aspectratio": {
          "x": 1,
          "y": 1.0061201623163254
         }
        },
        "showlegend": false,
        "width": 1000
       }
      },
      "application/vnd.webio.node+json": {
       "children": [
        {
         "children": [],
         "instanceArgs": {
          "namespace": "html",
          "tag": "div"
         },
         "nodeType": "DOM",
         "props": {
          "id": "plot-b82ecb5d-c400-436b-80fa-79447346db37"
         },
         "type": "node"
        }
       ],
       "instanceArgs": {
        "handlers": {
         "__get_gd_contents": [
          "(function (prop){prop==\"data\" ? (WebIO.setval({\"name\":\"__gd_contents\",\"scope\":\"1983373053880007218\",\"id\":\"1324057200220332977\",\"type\":\"observable\"},this.plotElem.data)) : undefined; return prop==\"layout\" ? (WebIO.setval({\"name\":\"__gd_contents\",\"scope\":\"1983373053880007218\",\"id\":\"1324057200220332977\",\"type\":\"observable\"},this.plotElem.layout)) : undefined})"
         ],
         "_commands": [
          "(function (args){var fn=args.shift(); var elem=this.plotElem; var Plotly=this.Plotly; args.unshift(elem); return Plotly[fn].apply(this,args)})"
         ],
         "_downloadImage": [
          "(function (options){return this.Plotly.downloadImage(this.plotElem,options)})"
         ],
         "_toImage": [
          "(function (options){return this.Plotly.toImage(this.plotElem,options).then((function (data){return WebIO.setval({\"name\":\"image\",\"scope\":\"1983373053880007218\",\"id\":\"7076171522915016000\",\"type\":\"observable\"},data)}))})"
         ]
        },
        "id": "1983373053880007218",
        "imports": {
         "data": [
          {
           "name": "Plotly",
           "type": "js",
           "url": "/assetserver/0011d14de576c55f77111628d5a39fcc5762f320-plotly.min.js"
          },
          {
           "name": null,
           "type": "js",
           "url": "/assetserver/52365f0a3f606733873c2a55bbe1584aba3b706c-plotly_webio.bundle.js"
          }
         ],
         "type": "async_block"
        },
        "mount_callbacks": [
         "function () {\n    var handler = ((function (Plotly,PlotlyWebIO){PlotlyWebIO.init(WebIO); var gd=this.dom.querySelector(\"#plot-b82ecb5d-c400-436b-80fa-79447346db37\"); this.plotElem=gd; this.Plotly=Plotly; (window.Blink!==undefined) ? (gd.style.width=\"100%\", gd.style.height=\"100vh\", gd.style.marginLeft=\"0%\", gd.style.marginTop=\"0vh\") : undefined; window.onresize=(function (){return Plotly.Plots.resize(gd)}); Plotly.newPlot(gd,[{\"marker\":{\"symbol\":\"circle\",\"color\":[1.0,0.0,0.49999999999999994,0.5],\"line\":{\"color\":[0.5000000000000001,0.5000000000000001,0.0,1.0],\"colorscale\":\"Jet\",\"width\":2},\"cmin\":0,\"opacity\":1,\"size\":5,\"colorscale\":\"Jet\",\"cmax\":1},\"mode\":\"markers+text\",\"y\":[0.1740104366179076,0.36927481051358124,0.1647842129162138,0.2697172058028665],\"type\":\"scatter3d\",\"autocolorscale\":false,\"text\":[\"26\",\"46\",\"22\",\"39\"],\"z\":[0.6474653231285081,0.8179421811943783,0.7683667089545005,0.6659076196825127],\"x\":[0.6158959793027257,0.7313672954255139,0.6186444021219517,0.8119273408444321]},{\"marker\":{\"symbol\":\"circle\",\"color\":\"rgb(31,119,180)\",\"line\":{\"color\":\"rgb(31,119,180)\",\"width\":2},\"opacity\":0.5,\"size\":5},\"mode\":\"markers\",\"y\":[0.4913393200712115,0.22762433425044515,0.6367975972339559,0.4971758839466509,0.3993501306118281,0.4365291126538322,0.661515771791102,0.16616992557604893,0.3442082141405074,0.7361081915148227,0.5300324406814998,0.4877592706066134,0.6609539703915503,0.676017144605485,0.7292266680285675,0.545944223246126,0.24230748327461704,0.29862491210537767,0.20153204875500896,0.1852862200670069,0.386272880181894,0.5924165473669025,0.8168454959897629,0.8305102698322111,0.49630860454735837,0.1090706961121255,0.05773464688137797,0.3953679438796487,0.8276350974287143,0.46078136737367337,0.07241895798252229,0.46366437315624154,0.6286849474365845,0.8227013569015129,0.1311614558272618,0.14459620115319005,0.010069793249981807,0.8733903286036051,0.6236720338432471,0.7514638267570937,0.7088613037987648,0.9678658838656162,0.8444199162199209,0.7593725453990343,0.18435033239715937,0.07974919793619661],\"type\":\"scatter3d\",\"autocolorscale\":false,\"text\":[\"27\",\"6\",\"8\",\"44\",\"14\",\"30\",\"31\",\"15\",\"34\",\"25\",\"3\",\"47\",\"4\",\"28\",\"48\",\"5\",\"2\",\"23\",\"12\",\"32\",\"21\",\"36\",\"20\",\"16\",\"7\",\"42\",\"33\",\"19\",\"40\",\"1\",\"13\",\"11\",\"24\",\"18\",\"50\",\"41\",\"37\",\"17\",\"45\",\"38\",\"43\",\"29\",\"9\",\"49\",\"35\",\"10\"],\"z\":[0.41617958744587646,0.6212318239409598,0.44787490574468625,0.8485745640713356,0.5052117296798195,0.5604259783614245,0.5918523655915826,0.5294453862660922,0.7096555007603329,0.46282719523503735,0.8941098673556802,0.9505595522534442,0.2783643631645316,0.4531342877313551,0.41770990765020377,0.6854111701083123,0.336446727565169,0.9589221643926331,0.8166990198935222,0.7918404358571547,0.14979965576191634,0.9056761768910193,0.704985492526391,0.2678281711376804,0.4563917772799395,0.9455068113597986,0.9231790745728989,0.19733958579109556,0.28579556672688033,0.7053793493663498,0.9986542595098526,0.06534469855528902,0.37559714450856085,0.812804213652349,0.3495681450102779,0.9611085257270935,0.939032576694411,0.17391382432047786,0.786304566979755,0.8932648986915439,0.8397868051711055,0.1323385852100154,0.12626913997390976,0.05481555913090963,0.07746841673802285,0.014974188904468777],\"x\":[0.6349694384936415,0.4330249341091321,0.3601553795925825,0.5417096464762003,0.22369224883825045,0.7635014067061834,0.7038048744613723,0.4859471292256945,0.19001562538817063,0.6317995923132438,0.3427280162921149,0.5074244828505055,0.5841254183192712,0.1925861241973248,0.2535379311163737,0.08158986155609527,0.7124791509223869,0.6900680816400788,0.19781384269541458,0.172653404769612,0.41305438472948897,0.7641913222555943,0.24704546332197008,0.48575625754259644,0.022115906597997226,0.3540988911774514,0.5174045699673515,0.7768106146254035,0.2664902674311429,0.9638088586204367,0.5452807676218618,0.3597764476434242,0.02213355889865598,0.2308262219620767,0.8103921841283008,0.14807061467130023,0.2938183341536753,0.30082972689625076,0.9740857870251645,0.08215701943337739,0.973344363728597,0.6341575982124803,0.8417544549072802,0.8900152063481355,0.1177146531184794,0.8883747662122246]},{\"mode\":\"lines\",\"line\":{\"color\":\"#1f77b4\",\"width\":1.5},\"y\":[0.1647842129162138,0.1740104366179076],\"type\":\"scatter3d\",\"name\":\"Dim 1 Faces\",\"opacity\":0.5,\"z\":[0.7683667089545005,0.6474653231285081],\"x\":[0.6186444021219517,0.6158959793027257]},{\"showlegend\":false,\"mode\":\"lines\",\"line\":{\"color\":\"#1f77b4\",\"width\":1.5},\"y\":[0.1647842129162138,0.36927481051358124],\"type\":\"scatter3d\",\"name\":\"edge (22,46)\",\"opacity\":0.5,\"z\":[0.7683667089545005,0.8179421811943783],\"x\":[0.6186444021219517,0.7313672954255139]},{\"showlegend\":false,\"mode\":\"lines\",\"line\":{\"color\":\"#1f77b4\",\"width\":1.5},\"y\":[0.1740104366179076,0.2697172058028665],\"type\":\"scatter3d\",\"name\":\"edge (26,39)\",\"opacity\":0.5,\"z\":[0.6474653231285081,0.6659076196825127],\"x\":[0.6158959793027257,0.8119273408444321]},{\"showlegend\":false,\"mode\":\"lines\",\"line\":{\"color\":\"#1f77b4\",\"width\":1.5},\"y\":[0.2697172058028665,0.36927481051358124],\"type\":\"scatter3d\",\"name\":\"edge (39,46)\",\"opacity\":0.5,\"z\":[0.6659076196825127,0.8179421811943783],\"x\":[0.8119273408444321,0.7313672954255139]}],{\"showlegend\":false,\"hovermode\":\"closest\",\"height\":800,\"margin\":{\"l\":50,\"b\":50,\"r\":50,\"t\":50},\"scene\":{\"aspectratio\":{\"y\":1.0061201623163254,\"x\":1.0},\"aspectmode\":\"manual\"},\"width\":1000},{}); gd.on(\"plotly_hover\",(function (data){var filtered_data=WebIO.PlotlyCommands.filterEventData(gd,data,\"hover\"); return !(filtered_data.isnil) ? (WebIO.setval({\"name\":\"hover\",\"scope\":\"1983373053880007218\",\"id\":\"2735826031395840136\",\"type\":\"observable\"},filtered_data.out)) : undefined})); gd.on(\"plotly_unhover\",(function (){return WebIO.setval({\"name\":\"hover\",\"scope\":\"1983373053880007218\",\"id\":\"2735826031395840136\",\"type\":\"observable\"},{})})); gd.on(\"plotly_selected\",(function (data){var filtered_data=WebIO.PlotlyCommands.filterEventData(gd,data,\"selected\"); return !(filtered_data.isnil) ? (WebIO.setval({\"name\":\"selected\",\"scope\":\"1983373053880007218\",\"id\":\"14937114859794661648\",\"type\":\"observable\"},filtered_data.out)) : undefined})); gd.on(\"plotly_deselect\",(function (){return WebIO.setval({\"name\":\"selected\",\"scope\":\"1983373053880007218\",\"id\":\"14937114859794661648\",\"type\":\"observable\"},{})})); gd.on(\"plotly_relayout\",(function (data){var filtered_data=WebIO.PlotlyCommands.filterEventData(gd,data,\"relayout\"); return !(filtered_data.isnil) ? (WebIO.setval({\"name\":\"relayout\",\"scope\":\"1983373053880007218\",\"id\":\"10863480313425957962\",\"type\":\"observable\"},filtered_data.out)) : undefined})); return gd.on(\"plotly_click\",(function (data){var filtered_data=WebIO.PlotlyCommands.filterEventData(gd,data,\"click\"); return !(filtered_data.isnil) ? (WebIO.setval({\"name\":\"click\",\"scope\":\"1983373053880007218\",\"id\":\"28168888847338962\",\"type\":\"observable\"},filtered_data.out)) : undefined}))}));\n    (WebIO.importBlock({\"data\":[{\"name\":\"Plotly\",\"type\":\"js\",\"url\":\"/assetserver/0011d14de576c55f77111628d5a39fcc5762f320-plotly.min.js\"},{\"name\":null,\"type\":\"js\",\"url\":\"/assetserver/52365f0a3f606733873c2a55bbe1584aba3b706c-plotly_webio.bundle.js\"}],\"type\":\"async_block\"})).then((imports) => handler.apply(this, imports));\n}\n"
        ],
        "observables": {
         "__gd_contents": {
          "id": "1324057200220332977",
          "sync": false,
          "value": {}
         },
         "__get_gd_contents": {
          "id": "2654548424583361953",
          "sync": false,
          "value": ""
         },
         "_commands": {
          "id": "7404049650714366411",
          "sync": false,
          "value": []
         },
         "_downloadImage": {
          "id": "16136628539554268368",
          "sync": false,
          "value": {}
         },
         "_toImage": {
          "id": "10867201926211993681",
          "sync": false,
          "value": {}
         },
         "click": {
          "id": "28168888847338962",
          "sync": false,
          "value": {}
         },
         "hover": {
          "id": "2735826031395840136",
          "sync": false,
          "value": {}
         },
         "image": {
          "id": "7076171522915016000",
          "sync": true,
          "value": ""
         },
         "relayout": {
          "id": "10863480313425957962",
          "sync": false,
          "value": {}
         },
         "selected": {
          "id": "14937114859794661648",
          "sync": false,
          "value": {}
         }
        },
        "systemjs_options": null
       },
       "nodeType": "Scope",
       "props": {},
       "type": "node"
      },
      "image/png": "[encoded data removed]",
      "image/svg+xml": [
       "<svg class=\"main-svg\" xmlns=\"http://www.w3.org/2000/svg\" xmlns:xlink=\"http://www.w3.org/1999/xlink\" width=\"700\" height=\"500\" style=\"\" viewBox=\"0 0 700 500\"><rect x=\"0\" y=\"0\" width=\"700\" height=\"500\" style=\"fill: rgb(255, 255, 255); fill-opacity: 1;\"/><defs id=\"defs-996148\"><g class=\"clips\"/><g class=\"gradients\"/></defs><g class=\"bglayer\"/><g class=\"layer-below\"><g class=\"imagelayer\"/><g class=\"shapelayer\"/></g><g class=\"cartesianlayer\"/><g class=\"polarlayer\"/><g class=\"ternarylayer\"/><g class=\"geolayer\"/><g class=\"funnelarealayer\"/><g class=\"pielayer\"/><g class=\"treemaplayer\"/><g class=\"sunburstlayer\"/><g class=\"glimages\"><image xmlns=\"http://www.w3.org/2000/svg\" xlink:href=\"data:image/png;base64,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\" x=\"50\" y=\"50\" width=\"600\" height=\"400\" preserveAspectRatio=\"none\"/></g><defs id=\"topdefs-996148\"><g class=\"clips\"/></defs><g class=\"layer-above\"><g class=\"imagelayer\"/><g class=\"shapelayer\"/></g><g class=\"infolayer\"><g class=\"g-gtitle\"/></g></svg>"
      ],
      "text/html": [
       "<div\n",
       "    class=\"webio-mountpoint\"\n",
       "    data-webio-mountpoint=\"5648909046662082447\"\n",
       ">\n",
       "    <script>\n",
       "    (function(){\n",
       "    // Some integrations (namely, IJulia/Jupyter) use an alternate render pathway than\n",
       "    // just putting the html on the page. If WebIO isn't defined, then it's pretty likely\n",
       "    // that we're in one of those situations and the integration just isn't installed\n",
       "    // correctly.\n",
       "    if (typeof window.WebIO === \"undefined\") {\n",
       "        document\n",
       "            .querySelector('[data-webio-mountpoint=\"5648909046662082447\"]')\n",
       "            .innerHTML = (\n",
       "                '<div style=\"padding: 1em; background-color: #f8d6da; border: 1px solid #f5c6cb; font-weight: bold;\">' +\n",
       "                '<p><strong>WebIO not detected.</strong></p>' +\n",
       "                '<p>Please read ' +\n",
       "                '<a href=\"https://juliagizmos.github.io/WebIO.jl/latest/troubleshooting/not-detected/\" target=\"_blank\">the troubleshooting guide</a> ' +\n",
       "                'for more information on how to resolve this issue.</p>' +\n",
       "                '<p><a href=\"https://juliagizmos.github.io/WebIO.jl/latest/troubleshooting/not-detected/\" target=\"_blank\">https://juliagizmos.github.io/WebIO.jl/latest/troubleshooting/not-detected/</a></p>' +\n",
       "                '</div>'\n",
       "            );\n",
       "        return;\n",
       "    }\n",
       "    WebIO.mount(\n",
       "        document.querySelector('[data-webio-mountpoint=\"5648909046662082447\"]'),\n",
       "        {\"props\":{},\"nodeType\":\"Scope\",\"type\":\"node\",\"instanceArgs\":{\"imports\":{\"data\":[{\"name\":\"Plotly\",\"type\":\"js\",\"url\":\"\\/assetserver\\/0011d14de576c55f77111628d5a39fcc5762f320-plotly.min.js\"},{\"name\":null,\"type\":\"js\",\"url\":\"\\/assetserver\\/52365f0a3f606733873c2a55bbe1584aba3b706c-plotly_webio.bundle.js\"}],\"type\":\"async_block\"},\"id\":\"1983373053880007218\",\"handlers\":{\"_toImage\":[\"(function (options){return this.Plotly.toImage(this.plotElem,options).then((function (data){return WebIO.setval({\\\"name\\\":\\\"image\\\",\\\"scope\\\":\\\"1983373053880007218\\\",\\\"id\\\":\\\"7076171522915016000\\\",\\\"type\\\":\\\"observable\\\"},data)}))})\"],\"__get_gd_contents\":[\"(function (prop){prop==\\\"data\\\" ? (WebIO.setval({\\\"name\\\":\\\"__gd_contents\\\",\\\"scope\\\":\\\"1983373053880007218\\\",\\\"id\\\":\\\"1324057200220332977\\\",\\\"type\\\":\\\"observable\\\"},this.plotElem.data)) : undefined; return prop==\\\"layout\\\" ? (WebIO.setval({\\\"name\\\":\\\"__gd_contents\\\",\\\"scope\\\":\\\"1983373053880007218\\\",\\\"id\\\":\\\"1324057200220332977\\\",\\\"type\\\":\\\"observable\\\"},this.plotElem.layout)) : undefined})\"],\"_downloadImage\":[\"(function (options){return this.Plotly.downloadImage(this.plotElem,options)})\"],\"_commands\":[\"(function (args){var fn=args.shift(); var elem=this.plotElem; var Plotly=this.Plotly; args.unshift(elem); return Plotly[fn].apply(this,args)})\"]},\"systemjs_options\":null,\"mount_callbacks\":[\"function () {\\n    var handler = ((function (Plotly,PlotlyWebIO){PlotlyWebIO.init(WebIO); var gd=this.dom.querySelector(\\\"#plot-b82ecb5d-c400-436b-80fa-79447346db37\\\"); this.plotElem=gd; this.Plotly=Plotly; (window.Blink!==undefined) ? (gd.style.width=\\\"100%\\\", gd.style.height=\\\"100vh\\\", gd.style.marginLeft=\\\"0%\\\", gd.style.marginTop=\\\"0vh\\\") : undefined; window.onresize=(function (){return Plotly.Plots.resize(gd)}); Plotly.newPlot(gd,[{\\\"marker\\\":{\\\"symbol\\\":\\\"circle\\\",\\\"color\\\":[1.0,0.0,0.49999999999999994,0.5],\\\"line\\\":{\\\"color\\\":[0.5000000000000001,0.5000000000000001,0.0,1.0],\\\"colorscale\\\":\\\"Jet\\\",\\\"width\\\":2},\\\"cmin\\\":0,\\\"opacity\\\":1,\\\"size\\\":5,\\\"colorscale\\\":\\\"Jet\\\",\\\"cmax\\\":1},\\\"mode\\\":\\\"markers+text\\\",\\\"y\\\":[0.1740104366179076,0.36927481051358124,0.1647842129162138,0.2697172058028665],\\\"type\\\":\\\"scatter3d\\\",\\\"autocolorscale\\\":false,\\\"text\\\":[\\\"26\\\",\\\"46\\\",\\\"22\\\",\\\"39\\\"],\\\"z\\\":[0.6474653231285081,0.8179421811943783,0.7683667089545005,0.6659076196825127],\\\"x\\\":[0.6158959793027257,0.7313672954255139,0.6186444021219517,0.8119273408444321]},{\\\"marker\\\":{\\\"symbol\\\":\\\"circle\\\",\\\"color\\\":\\\"rgb(31,119,180)\\\",\\\"line\\\":{\\\"color\\\":\\\"rgb(31,119,180)\\\",\\\"width\\\":2},\\\"opacity\\\":0.5,\\\"size\\\":5},\\\"mode\\\":\\\"markers\\\",\\\"y\\\":[0.4913393200712115,0.22762433425044515,0.6367975972339559,0.4971758839466509,0.3993501306118281,0.4365291126538322,0.661515771791102,0.16616992557604893,0.3442082141405074,0.7361081915148227,0.5300324406814998,0.4877592706066134,0.6609539703915503,0.676017144605485,0.7292266680285675,0.545944223246126,0.24230748327461704,0.29862491210537767,0.20153204875500896,0.1852862200670069,0.386272880181894,0.5924165473669025,0.8168454959897629,0.8305102698322111,0.49630860454735837,0.1090706961121255,0.05773464688137797,0.3953679438796487,0.8276350974287143,0.46078136737367337,0.07241895798252229,0.46366437315624154,0.6286849474365845,0.8227013569015129,0.1311614558272618,0.14459620115319005,0.010069793249981807,0.8733903286036051,0.6236720338432471,0.7514638267570937,0.7088613037987648,0.9678658838656162,0.8444199162199209,0.7593725453990343,0.18435033239715937,0.07974919793619661],\\\"type\\\":\\\"scatter3d\\\",\\\"autocolorscale\\\":false,\\\"text\\\":[\\\"27\\\",\\\"6\\\",\\\"8\\\",\\\"44\\\",\\\"14\\\",\\\"30\\\",\\\"31\\\",\\\"15\\\",\\\"34\\\",\\\"25\\\",\\\"3\\\",\\\"47\\\",\\\"4\\\",\\\"28\\\",\\\"48\\\",\\\"5\\\",\\\"2\\\",\\\"23\\\",\\\"12\\\",\\\"32\\\",\\\"21\\\",\\\"36\\\",\\\"20\\\",\\\"16\\\",\\\"7\\\",\\\"42\\\",\\\"33\\\",\\\"19\\\",\\\"40\\\",\\\"1\\\",\\\"13\\\",\\\"11\\\",\\\"24\\\",\\\"18\\\",\\\"50\\\",\\\"41\\\",\\\"37\\\",\\\"17\\\",\\\"45\\\",\\\"38\\\",\\\"43\\\",\\\"29\\\",\\\"9\\\",\\\"49\\\",\\\"35\\\",\\\"10\\\"],\\\"z\\\":[0.41617958744587646,0.6212318239409598,0.44787490574468625,0.8485745640713356,0.5052117296798195,0.5604259783614245,0.5918523655915826,0.5294453862660922,0.7096555007603329,0.46282719523503735,0.8941098673556802,0.9505595522534442,0.2783643631645316,0.4531342877313551,0.41770990765020377,0.6854111701083123,0.336446727565169,0.9589221643926331,0.8166990198935222,0.7918404358571547,0.14979965576191634,0.9056761768910193,0.704985492526391,0.2678281711376804,0.4563917772799395,0.9455068113597986,0.9231790745728989,0.19733958579109556,0.28579556672688033,0.7053793493663498,0.9986542595098526,0.06534469855528902,0.37559714450856085,0.812804213652349,0.3495681450102779,0.9611085257270935,0.939032576694411,0.17391382432047786,0.786304566979755,0.8932648986915439,0.8397868051711055,0.1323385852100154,0.12626913997390976,0.05481555913090963,0.07746841673802285,0.014974188904468777],\\\"x\\\":[0.6349694384936415,0.4330249341091321,0.3601553795925825,0.5417096464762003,0.22369224883825045,0.7635014067061834,0.7038048744613723,0.4859471292256945,0.19001562538817063,0.6317995923132438,0.3427280162921149,0.5074244828505055,0.5841254183192712,0.1925861241973248,0.2535379311163737,0.08158986155609527,0.7124791509223869,0.6900680816400788,0.19781384269541458,0.172653404769612,0.41305438472948897,0.7641913222555943,0.24704546332197008,0.48575625754259644,0.022115906597997226,0.3540988911774514,0.5174045699673515,0.7768106146254035,0.2664902674311429,0.9638088586204367,0.5452807676218618,0.3597764476434242,0.02213355889865598,0.2308262219620767,0.8103921841283008,0.14807061467130023,0.2938183341536753,0.30082972689625076,0.9740857870251645,0.08215701943337739,0.973344363728597,0.6341575982124803,0.8417544549072802,0.8900152063481355,0.1177146531184794,0.8883747662122246]},{\\\"mode\\\":\\\"lines\\\",\\\"line\\\":{\\\"color\\\":\\\"#1f77b4\\\",\\\"width\\\":1.5},\\\"y\\\":[0.1647842129162138,0.1740104366179076],\\\"type\\\":\\\"scatter3d\\\",\\\"name\\\":\\\"Dim 1 Faces\\\",\\\"opacity\\\":0.5,\\\"z\\\":[0.7683667089545005,0.6474653231285081],\\\"x\\\":[0.6186444021219517,0.6158959793027257]},{\\\"showlegend\\\":false,\\\"mode\\\":\\\"lines\\\",\\\"line\\\":{\\\"color\\\":\\\"#1f77b4\\\",\\\"width\\\":1.5},\\\"y\\\":[0.1647842129162138,0.36927481051358124],\\\"type\\\":\\\"scatter3d\\\",\\\"name\\\":\\\"edge (22,46)\\\",\\\"opacity\\\":0.5,\\\"z\\\":[0.7683667089545005,0.8179421811943783],\\\"x\\\":[0.6186444021219517,0.7313672954255139]},{\\\"showlegend\\\":false,\\\"mode\\\":\\\"lines\\\",\\\"line\\\":{\\\"color\\\":\\\"#1f77b4\\\",\\\"width\\\":1.5},\\\"y\\\":[0.1740104366179076,0.2697172058028665],\\\"type\\\":\\\"scatter3d\\\",\\\"name\\\":\\\"edge (26,39)\\\",\\\"opacity\\\":0.5,\\\"z\\\":[0.6474653231285081,0.6659076196825127],\\\"x\\\":[0.6158959793027257,0.8119273408444321]},{\\\"showlegend\\\":false,\\\"mode\\\":\\\"lines\\\",\\\"line\\\":{\\\"color\\\":\\\"#1f77b4\\\",\\\"width\\\":1.5},\\\"y\\\":[0.2697172058028665,0.36927481051358124],\\\"type\\\":\\\"scatter3d\\\",\\\"name\\\":\\\"edge (39,46)\\\",\\\"opacity\\\":0.5,\\\"z\\\":[0.6659076196825127,0.8179421811943783],\\\"x\\\":[0.8119273408444321,0.7313672954255139]}],{\\\"showlegend\\\":false,\\\"hovermode\\\":\\\"closest\\\",\\\"height\\\":800,\\\"margin\\\":{\\\"l\\\":50,\\\"b\\\":50,\\\"r\\\":50,\\\"t\\\":50},\\\"scene\\\":{\\\"aspectratio\\\":{\\\"y\\\":1.0061201623163254,\\\"x\\\":1.0},\\\"aspectmode\\\":\\\"manual\\\"},\\\"width\\\":1000},{}); gd.on(\\\"plotly_hover\\\",(function (data){var filtered_data=WebIO.PlotlyCommands.filterEventData(gd,data,\\\"hover\\\"); return !(filtered_data.isnil) ? (WebIO.setval({\\\"name\\\":\\\"hover\\\",\\\"scope\\\":\\\"1983373053880007218\\\",\\\"id\\\":\\\"2735826031395840136\\\",\\\"type\\\":\\\"observable\\\"},filtered_data.out)) : undefined})); gd.on(\\\"plotly_unhover\\\",(function (){return WebIO.setval({\\\"name\\\":\\\"hover\\\",\\\"scope\\\":\\\"1983373053880007218\\\",\\\"id\\\":\\\"2735826031395840136\\\",\\\"type\\\":\\\"observable\\\"},{})})); gd.on(\\\"plotly_selected\\\",(function (data){var filtered_data=WebIO.PlotlyCommands.filterEventData(gd,data,\\\"selected\\\"); return !(filtered_data.isnil) ? (WebIO.setval({\\\"name\\\":\\\"selected\\\",\\\"scope\\\":\\\"1983373053880007218\\\",\\\"id\\\":\\\"14937114859794661648\\\",\\\"type\\\":\\\"observable\\\"},filtered_data.out)) : undefined})); gd.on(\\\"plotly_deselect\\\",(function (){return WebIO.setval({\\\"name\\\":\\\"selected\\\",\\\"scope\\\":\\\"1983373053880007218\\\",\\\"id\\\":\\\"14937114859794661648\\\",\\\"type\\\":\\\"observable\\\"},{})})); gd.on(\\\"plotly_relayout\\\",(function (data){var filtered_data=WebIO.PlotlyCommands.filterEventData(gd,data,\\\"relayout\\\"); return !(filtered_data.isnil) ? (WebIO.setval({\\\"name\\\":\\\"relayout\\\",\\\"scope\\\":\\\"1983373053880007218\\\",\\\"id\\\":\\\"10863480313425957962\\\",\\\"type\\\":\\\"observable\\\"},filtered_data.out)) : undefined})); return gd.on(\\\"plotly_click\\\",(function (data){var filtered_data=WebIO.PlotlyCommands.filterEventData(gd,data,\\\"click\\\"); return !(filtered_data.isnil) ? (WebIO.setval({\\\"name\\\":\\\"click\\\",\\\"scope\\\":\\\"1983373053880007218\\\",\\\"id\\\":\\\"28168888847338962\\\",\\\"type\\\":\\\"observable\\\"},filtered_data.out)) : undefined}))}));\\n    (WebIO.importBlock({\\\"data\\\":[{\\\"name\\\":\\\"Plotly\\\",\\\"type\\\":\\\"js\\\",\\\"url\\\":\\\"\\/assetserver\\/0011d14de576c55f77111628d5a39fcc5762f320-plotly.min.js\\\"},{\\\"name\\\":null,\\\"type\\\":\\\"js\\\",\\\"url\\\":\\\"\\/assetserver\\/52365f0a3f606733873c2a55bbe1584aba3b706c-plotly_webio.bundle.js\\\"}],\\\"type\\\":\\\"async_block\\\"})).then((imports) => handler.apply(this, imports));\\n}\\n\"],\"observables\":{\"_toImage\":{\"sync\":false,\"id\":\"10867201926211993681\",\"value\":{}},\"hover\":{\"sync\":false,\"id\":\"2735826031395840136\",\"value\":{}},\"selected\":{\"sync\":false,\"id\":\"14937114859794661648\",\"value\":{}},\"__gd_contents\":{\"sync\":false,\"id\":\"1324057200220332977\",\"value\":{}},\"click\":{\"sync\":false,\"id\":\"28168888847338962\",\"value\":{}},\"image\":{\"sync\":true,\"id\":\"7076171522915016000\",\"value\":\"\"},\"__get_gd_contents\":{\"sync\":false,\"id\":\"2654548424583361953\",\"value\":\"\"},\"_downloadImage\":{\"sync\":false,\"id\":\"16136628539554268368\",\"value\":{}},\"relayout\":{\"sync\":false,\"id\":\"10863480313425957962\",\"value\":{}},\"_commands\":{\"sync\":false,\"id\":\"7404049650714366411\",\"value\":[]}}},\"children\":[{\"props\":{\"id\":\"plot-b82ecb5d-c400-436b-80fa-79447346db37\"},\"nodeType\":\"DOM\",\"type\":\"node\",\"instanceArgs\":{\"namespace\":\"html\",\"tag\":\"div\"},\"children\":[]}]},\n",
       "        window,\n",
       "    );\n",
       "    })()\n",
       "    </script>\n",
       "</div>\n"
      ],
      "text/plain": [
       "data: [\n",
       "  \"scatter3d with fields autocolorscale, marker, mode, text, type, x, y, and z\",\n",
       "  \"scatter3d with fields autocolorscale, marker, mode, text, type, x, y, and z\",\n",
       "  \"scatter3d with fields line, mode, name, opacity, type, x, y, and z\",\n",
       "  \"scatter3d with fields line, mode, name, opacity, showlegend, type, x, y, and z\",\n",
       "  \"scatter3d with fields line, mode, name, opacity, showlegend, type, x, y, and z\",\n",
       "  \"scatter3d with fields line, mode, name, opacity, showlegend, type, x, y, and z\"\n",
       "]\n",
       "\n",
       "layout: \"layout with fields height, hovermode, margin, scene, showlegend, and width\"\n",
       "\n"
      ]
     },
     "execution_count": 9,
     "metadata": {},
     "output_type": "execute_result"
    }
   ],
   "source": [
    "plotclassrep_pjs(C,dim=1,class=1)"
   ]
  },
  {
   "cell_type": "code",
   "execution_count": null,
   "metadata": {},
   "outputs": [],
   "source": []
  },
  {
   "cell_type": "code",
   "execution_count": null,
   "metadata": {},
   "outputs": [],
   "source": []
  }
 ],
 "metadata": {
  "kernelspec": {
   "display_name": "Julia 1.6 1.6.0",
   "language": "julia",
   "name": "julia-1.6-1.6"
  },
  "language_info": {
   "file_extension": ".jl",
   "mimetype": "application/julia",
   "name": "julia",
   "version": "1.6.0"
  }
 },
 "nbformat": 4,
 "nbformat_minor": 2
}
