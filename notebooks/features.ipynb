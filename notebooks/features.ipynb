{
 "cells": [
  {
   "cell_type": "code",
   "execution_count": 121,
   "metadata": {},
   "outputs": [],
   "source": [
    "using Eirene\n",
    "using DelimitedFiles\n",
    "using PlotlyJS"
   ]
  },
  {
   "cell_type": "code",
   "execution_count": 138,
   "metadata": {},
   "outputs": [
    {
     "data": {
      "text/plain": [
       "2×6 Matrix{Float64}:\n",
       " 0.0  0.0  1.0  1.0  2.0  4.0\n",
       " 0.0  1.0  0.0  1.0  1.0  1.0"
      ]
     },
     "execution_count": 138,
     "metadata": {},
     "output_type": "execute_result"
    }
   ],
   "source": [
    "# filepath = \"/PHAML/data/data.csv\"\n",
    "folder_path = \"C:/Users/jevin/Documents/Documents/Education/Self-Learning/Persistant Homology/PHAML\"\n",
    "filepath = folder_path * \"/data/data.csv\" # * is used for string concatenation julia\n",
    "POINTCLOUD = readdlm(filepath, ',')"
   ]
  },
  {
   "cell_type": "code",
   "execution_count": 123,
   "metadata": {},
   "outputs": [
    {
     "data": {
      "text/plain": [
       "6"
      ]
     },
     "execution_count": 123,
     "metadata": {},
     "output_type": "execute_result"
    }
   ],
   "source": [
    "n = size(POINTCLOUD,2)"
   ]
  },
  {
   "cell_type": "code",
   "execution_count": 139,
   "metadata": {},
   "outputs": [
    {
     "data": {
      "text/plain": [
       "Dict{String, Any} with 12 entries:\n",
       "  \"symmat\"   => [5 4 … 4 0; 4 5 … 3 0; … ; 4 3 … 5 2; 0 0 … 2 5]\n",
       "  \"maxnz\"    => [0, 15, 9, 5, 0]\n",
       "  \"firstv\"   => [[1, 2, 3, 4, 5, 6, 7], [1, 5, 8, 10, 11, 12, 12], [1, 7, 10, 1…\n",
       "  \"cyclerep\" => [Vector{Int64}[], [[1, 5], [1, 3], [1, 2], [1, 6], [4, 1], [4]]…\n",
       "  \"phi\"      => [Int64[], [4, 2, 1, 11, 6], [1, 3, 5, 6, 2, 4], [1, 2, 3, 4], I…\n",
       "  \"plo\"      => [Int64[], [5, 3, 2, 6, 1], [5, 7, 9, 10, 3, 8], [8, 9, 7, 10], …\n",
       "  \"ocg2rad\"  => [2.23607, 2.0, 1.41421, 1.0, 0.0]\n",
       "  \"farfaces\" => [[1, 2, 3, 4, 5, 6], [2, 3, 4, 5, 3, 4, 5, 4, 5, 5, 6], [5, 6, …\n",
       "  \"nvl2ovl\"  => [4, 3, 2, 1, 5, 6]\n",
       "  \"input\"    => Dict{String, Any}(\"genera\"=>[0.0 0.0 … 2.0 4.0; 0.0 1.0 … 1.0 1…\n",
       "  \"tid\"      => [Int64[], [5, 3, 2, 6, 1, 4], [5, 7, 9, 10, 3, 8], [8, 9, 7, 10…\n",
       "  \"grain\"    => [[5, 5, 5, 5, 5, 5], [4, 4, 3, 4, 3, 4, 3, 4, 2, 1, 2], [3, 3, …"
      ]
     },
     "execution_count": 139,
     "metadata": {},
     "output_type": "execute_result"
    }
   ],
   "source": [
    "PH = eirene(POINTCLOUD, maxdim=2, model=\"pc\") # computes the PH of POINTCLOUD. \n",
    "# Eirene generally uses Vietoris–Rips filtration\n",
    "# maxdim - we don't compute higher dimensions"
   ]
  },
  {
   "cell_type": "code",
   "execution_count": 130,
   "metadata": {},
   "outputs": [
    {
     "data": {
      "application/vnd.plotly.v1+json": {
       "data": [
        {
         "line": {
          "color": "#2060A5",
          "width": 2
         },
         "mode": "lines",
         "name": "dimension 2",
         "type": "scatter",
         "x": [
          0,
          0
         ],
         "y": [
          27,
          27
         ]
        },
        {
         "line": {
          "color": "#3790D2",
          "width": 2
         },
         "mode": "lines",
         "name": "Dimension 1",
         "type": "scatter",
         "x": [
          1,
          1.4142135623730951
         ],
         "y": [
          17,
          17
         ]
        },
        {
         "line": {
          "color": "#66BAE7",
          "width": 2
         },
         "mode": "lines",
         "showlegend": false,
         "type": "scatter",
         "x": [
          0,
          4
         ],
         "y": [
          6,
          6
         ]
        },
        {
         "line": {
          "color": "#66BAE7",
          "width": 2
         },
         "mode": "lines",
         "showlegend": false,
         "type": "scatter",
         "x": [
          0,
          2
         ],
         "y": [
          5,
          5
         ]
        },
        {
         "line": {
          "color": "#66BAE7",
          "width": 2
         },
         "mode": "lines",
         "showlegend": false,
         "type": "scatter",
         "x": [
          0,
          1
         ],
         "y": [
          4,
          4
         ]
        },
        {
         "line": {
          "color": "#66BAE7",
          "width": 2
         },
         "mode": "lines",
         "showlegend": false,
         "type": "scatter",
         "x": [
          0,
          1
         ],
         "y": [
          3,
          3
         ]
        },
        {
         "line": {
          "color": "#66BAE7",
          "width": 2
         },
         "mode": "lines",
         "showlegend": false,
         "type": "scatter",
         "x": [
          0,
          1
         ],
         "y": [
          2,
          2
         ]
        },
        {
         "line": {
          "color": "#66BAE7",
          "width": 2
         },
         "mode": "lines",
         "name": "Dimension 0",
         "type": "scatter",
         "x": [
          0,
          1
         ],
         "y": [
          1,
          1
         ]
        }
       ],
       "frames": [],
       "layout": {
        "margin": {
         "b": 50,
         "l": 50,
         "r": 50,
         "t": 60
        },
        "xaxis": {
         "rangevar": [
          -0.001,
          4.001
         ],
         "showgrid": false,
         "title": "ϵ",
         "zeroline": false
        },
        "yaxis": {
         "rangevar": [
          0,
          27.1
         ],
         "showgrid": false,
         "ticks": false
        }
       }
      },
      "application/vnd.webio.node+json": {
       "children": [
        {
         "children": [],
         "instanceArgs": {
          "namespace": "html",
          "tag": "div"
         },
         "nodeType": "DOM",
         "props": {
          "id": "plot-13578f50-fcda-4310-9d70-3b8a08817f29"
         },
         "type": "node"
        }
       ],
       "instanceArgs": {
        "handlers": {
         "__get_gd_contents": [
          "(function (prop){prop==\"data\" ? (WebIO.setval({\"name\":\"__gd_contents\",\"scope\":\"6518300771527223036\",\"id\":\"14798745053910223618\",\"type\":\"observable\"},this.plotElem.data)) : undefined; return prop==\"layout\" ? (WebIO.setval({\"name\":\"__gd_contents\",\"scope\":\"6518300771527223036\",\"id\":\"14798745053910223618\",\"type\":\"observable\"},this.plotElem.layout)) : undefined})"
         ],
         "_commands": [
          "(function (args){var fn=args.shift(); var elem=this.plotElem; var Plotly=this.Plotly; args.unshift(elem); return Plotly[fn].apply(this,args)})"
         ],
         "_downloadImage": [
          "(function (options){return this.Plotly.downloadImage(this.plotElem,options)})"
         ],
         "_toImage": [
          "(function (options){return this.Plotly.toImage(this.plotElem,options).then((function (data){return WebIO.setval({\"name\":\"image\",\"scope\":\"6518300771527223036\",\"id\":\"3571601082675468146\",\"type\":\"observable\"},data)}))})"
         ]
        },
        "id": "6518300771527223036",
        "imports": {
         "data": [
          {
           "name": "Plotly",
           "type": "js",
           "url": "/assetserver/0011d14de576c55f77111628d5a39fcc5762f320-plotly.min.js"
          },
          {
           "name": null,
           "type": "js",
           "url": "/assetserver/52365f0a3f606733873c2a55bbe1584aba3b706c-plotly_webio.bundle.js"
          }
         ],
         "type": "async_block"
        },
        "mount_callbacks": [
         "function () {\n    var handler = ((function (Plotly,PlotlyWebIO){PlotlyWebIO.init(WebIO); var gd=this.dom.querySelector(\"#plot-13578f50-fcda-4310-9d70-3b8a08817f29\"); this.plotElem=gd; this.Plotly=Plotly; (window.Blink!==undefined) ? (gd.style.width=\"100%\", gd.style.height=\"100vh\", gd.style.marginLeft=\"0%\", gd.style.marginTop=\"0vh\") : undefined; window.onresize=(function (){return Plotly.Plots.resize(gd)}); Plotly.newPlot(gd,[{\"mode\":\"lines\",\"line\":{\"color\":\"#2060A5\",\"width\":2},\"y\":[27,27],\"type\":\"scatter\",\"name\":\"dimension 2\",\"x\":[0,0]},{\"mode\":\"lines\",\"line\":{\"color\":\"#3790D2\",\"width\":2},\"y\":[17,17],\"type\":\"scatter\",\"name\":\"Dimension 1\",\"x\":[1.0,1.4142135623730951]},{\"showlegend\":false,\"mode\":\"lines\",\"line\":{\"color\":\"#66BAE7\",\"width\":2},\"y\":[6,6],\"type\":\"scatter\",\"x\":[0.0,4.0]},{\"showlegend\":false,\"mode\":\"lines\",\"line\":{\"color\":\"#66BAE7\",\"width\":2},\"y\":[5,5],\"type\":\"scatter\",\"x\":[0.0,2.0]},{\"showlegend\":false,\"mode\":\"lines\",\"line\":{\"color\":\"#66BAE7\",\"width\":2},\"y\":[4,4],\"type\":\"scatter\",\"x\":[0.0,1.0]},{\"showlegend\":false,\"mode\":\"lines\",\"line\":{\"color\":\"#66BAE7\",\"width\":2},\"y\":[3,3],\"type\":\"scatter\",\"x\":[0.0,1.0]},{\"showlegend\":false,\"mode\":\"lines\",\"line\":{\"color\":\"#66BAE7\",\"width\":2},\"y\":[2,2],\"type\":\"scatter\",\"x\":[0.0,1.0]},{\"mode\":\"lines\",\"line\":{\"color\":\"#66BAE7\",\"width\":2},\"y\":[1,1],\"type\":\"scatter\",\"name\":\"Dimension 0\",\"x\":[0.0,1.0]}],{\"xaxis\":{\"showgrid\":false,\"zeroline\":false,\"rangevar\":[-0.001,4.001],\"title\":\"ϵ\"},\"margin\":{\"l\":50,\"b\":50,\"r\":50,\"t\":60},\"yaxis\":{\"showgrid\":false,\"rangevar\":[0.0,27.1],\"ticks\":false}},{}); gd.on(\"plotly_hover\",(function (data){var filtered_data=WebIO.PlotlyCommands.filterEventData(gd,data,\"hover\"); return !(filtered_data.isnil) ? (WebIO.setval({\"name\":\"hover\",\"scope\":\"6518300771527223036\",\"id\":\"325027824579203720\",\"type\":\"observable\"},filtered_data.out)) : undefined})); gd.on(\"plotly_unhover\",(function (){return WebIO.setval({\"name\":\"hover\",\"scope\":\"6518300771527223036\",\"id\":\"325027824579203720\",\"type\":\"observable\"},{})})); gd.on(\"plotly_selected\",(function (data){var filtered_data=WebIO.PlotlyCommands.filterEventData(gd,data,\"selected\"); return !(filtered_data.isnil) ? (WebIO.setval({\"name\":\"selected\",\"scope\":\"6518300771527223036\",\"id\":\"3263365326388555175\",\"type\":\"observable\"},filtered_data.out)) : undefined})); gd.on(\"plotly_deselect\",(function (){return WebIO.setval({\"name\":\"selected\",\"scope\":\"6518300771527223036\",\"id\":\"3263365326388555175\",\"type\":\"observable\"},{})})); gd.on(\"plotly_relayout\",(function (data){var filtered_data=WebIO.PlotlyCommands.filterEventData(gd,data,\"relayout\"); return !(filtered_data.isnil) ? (WebIO.setval({\"name\":\"relayout\",\"scope\":\"6518300771527223036\",\"id\":\"14332659843443425771\",\"type\":\"observable\"},filtered_data.out)) : undefined})); return gd.on(\"plotly_click\",(function (data){var filtered_data=WebIO.PlotlyCommands.filterEventData(gd,data,\"click\"); return !(filtered_data.isnil) ? (WebIO.setval({\"name\":\"click\",\"scope\":\"6518300771527223036\",\"id\":\"2217146552129788446\",\"type\":\"observable\"},filtered_data.out)) : undefined}))}));\n    (WebIO.importBlock({\"data\":[{\"name\":\"Plotly\",\"type\":\"js\",\"url\":\"/assetserver/0011d14de576c55f77111628d5a39fcc5762f320-plotly.min.js\"},{\"name\":null,\"type\":\"js\",\"url\":\"/assetserver/52365f0a3f606733873c2a55bbe1584aba3b706c-plotly_webio.bundle.js\"}],\"type\":\"async_block\"})).then((imports) => handler.apply(this, imports));\n}\n"
        ],
        "observables": {
         "__gd_contents": {
          "id": "14798745053910223618",
          "sync": false,
          "value": {}
         },
         "__get_gd_contents": {
          "id": "8835411457192443044",
          "sync": false,
          "value": ""
         },
         "_commands": {
          "id": "13262582957488485843",
          "sync": false,
          "value": []
         },
         "_downloadImage": {
          "id": "15177942820387924810",
          "sync": false,
          "value": {}
         },
         "_toImage": {
          "id": "16208928238993883523",
          "sync": false,
          "value": {}
         },
         "click": {
          "id": "2217146552129788446",
          "sync": false,
          "value": {}
         },
         "hover": {
          "id": "325027824579203720",
          "sync": false,
          "value": {}
         },
         "image": {
          "id": "3571601082675468146",
          "sync": true,
          "value": ""
         },
         "relayout": {
          "id": "14332659843443425771",
          "sync": false,
          "value": {}
         },
         "selected": {
          "id": "3263365326388555175",
          "sync": false,
          "value": {}
         }
        },
        "systemjs_options": null
       },
       "nodeType": "Scope",
       "props": {},
       "type": "node"
      },
      "image/png": "[encoded data removed]",
      "image/svg+xml": [
       "<svg class=\"main-svg\" xmlns=\"http://www.w3.org/2000/svg\" xmlns:xlink=\"http://www.w3.org/1999/xlink\" width=\"700\" height=\"500\" style=\"\" viewBox=\"0 0 700 500\"><rect x=\"0\" y=\"0\" width=\"700\" height=\"500\" style=\"fill: rgb(255, 255, 255); fill-opacity: 1;\"/><defs id=\"defs-344071\"><g class=\"clips\"><clipPath id=\"clip344071xyplot\" class=\"plotclip\"><rect width=\"507\" height=\"390\"/></clipPath><clipPath class=\"axesclip\" id=\"clip344071x\"><rect x=\"50\" y=\"0\" width=\"507\" height=\"500\"/></clipPath><clipPath class=\"axesclip\" id=\"clip344071y\"><rect x=\"0\" y=\"60\" width=\"700\" height=\"390\"/></clipPath><clipPath class=\"axesclip\" id=\"clip344071xy\"><rect x=\"50\" y=\"60\" width=\"507\" height=\"390\"/></clipPath></g><g class=\"gradients\"/></defs><g class=\"bglayer\"/><g class=\"layer-below\"><g class=\"imagelayer\"/><g class=\"shapelayer\"/></g><g class=\"cartesianlayer\"><g class=\"subplot xy\"><g class=\"layer-subplot\"><g class=\"shapelayer\"/><g class=\"imagelayer\"/></g><g class=\"gridlayer\"><g class=\"x\"/><g class=\"y\"/></g><g class=\"zerolinelayer\"><path class=\"yzl zl crisp\" transform=\"translate(0,444)\" d=\"M50,0h507\" style=\"stroke: rgb(68, 68, 68); stroke-opacity: 1; stroke-width: 1px;\"/></g><path class=\"xlines-below\"/><path class=\"ylines-below\"/><g class=\"overlines-below\"/><g class=\"xaxislayer-below\"/><g class=\"yaxislayer-below\"/><g class=\"overaxes-below\"/><g class=\"plot\" transform=\"translate(50,60)\" clip-path=\"url('#clip344071xyplot')\"><g class=\"scatterlayer mlayer\"><g class=\"trace scatter trace1b77e4\" style=\"stroke-miterlimit: 2; opacity: 1;\"><g class=\"fills\"/><g class=\"errorbars\"/><g class=\"lines\"/><g class=\"points\"/><g class=\"text\"/></g><g class=\"trace scatter trace76bab2\" style=\"stroke-miterlimit: 2; opacity: 1;\"><g class=\"fills\"/><g class=\"errorbars\"/><g class=\"lines\"><path class=\"js-line\" d=\"M126.75,154.5L179.25,154.5\" style=\"vector-effect: non-scaling-stroke; fill: none; stroke: rgb(55, 144, 210); stroke-opacity: 1; stroke-width: 2px; opacity: 1;\"/></g><g class=\"points\"/><g class=\"text\"/></g><g class=\"trace scatter trace7ff346\" style=\"stroke-miterlimit: 2; opacity: 1;\"><g class=\"fills\"/><g class=\"errorbars\"/><g class=\"lines\"><path class=\"js-line\" d=\"M0,303L507,303\" style=\"vector-effect: non-scaling-stroke; fill: none; stroke: rgb(102, 186, 231); stroke-opacity: 1; stroke-width: 2px; opacity: 1;\"/></g><g class=\"points\"/><g class=\"text\"/></g><g class=\"trace scatter tracefb3136\" style=\"stroke-miterlimit: 2; opacity: 1;\"><g class=\"fills\"/><g class=\"errorbars\"/><g class=\"lines\"><path class=\"js-line\" d=\"M0,316.5L253.5,316.5\" style=\"vector-effect: non-scaling-stroke; fill: none; stroke: rgb(102, 186, 231); stroke-opacity: 1; stroke-width: 2px; opacity: 1;\"/></g><g class=\"points\"/><g class=\"text\"/></g><g class=\"trace scatter tracea009b8\" style=\"stroke-miterlimit: 2; opacity: 1;\"><g class=\"fills\"/><g class=\"errorbars\"/><g class=\"lines\"><path class=\"js-line\" d=\"M0,330L126.75,330\" style=\"vector-effect: non-scaling-stroke; fill: none; stroke: rgb(102, 186, 231); stroke-opacity: 1; stroke-width: 2px; opacity: 1;\"/></g><g class=\"points\"/><g class=\"text\"/></g><g class=\"trace scatter trace180320\" style=\"stroke-miterlimit: 2; opacity: 1;\"><g class=\"fills\"/><g class=\"errorbars\"/><g class=\"lines\"><path class=\"js-line\" d=\"M0,343.5L126.75,343.5\" style=\"vector-effect: non-scaling-stroke; fill: none; stroke: rgb(102, 186, 231); stroke-opacity: 1; stroke-width: 2px; opacity: 1;\"/></g><g class=\"points\"/><g class=\"text\"/></g><g class=\"trace scatter trace5ffc05\" style=\"stroke-miterlimit: 2; opacity: 1;\"><g class=\"fills\"/><g class=\"errorbars\"/><g class=\"lines\"><path class=\"js-line\" d=\"M0,357L126.75,357\" style=\"vector-effect: non-scaling-stroke; fill: none; stroke: rgb(102, 186, 231); stroke-opacity: 1; stroke-width: 2px; opacity: 1;\"/></g><g class=\"points\"/><g class=\"text\"/></g><g class=\"trace scatter trace284983\" style=\"stroke-miterlimit: 2; opacity: 1;\"><g class=\"fills\"/><g class=\"errorbars\"/><g class=\"lines\"><path class=\"js-line\" d=\"M0,370.5L126.75,370.5\" style=\"vector-effect: non-scaling-stroke; fill: none; stroke: rgb(102, 186, 231); stroke-opacity: 1; stroke-width: 2px; opacity: 1;\"/></g><g class=\"points\"/><g class=\"text\"/></g></g></g><g class=\"overplot\"/><path class=\"xlines-above crisp\" d=\"M0,0\" style=\"fill: none;\"/><path class=\"ylines-above crisp\" d=\"M0,0\" style=\"fill: none;\"/><g class=\"overlines-above\"/><g class=\"xaxislayer-above\"><g class=\"xtick\"><text text-anchor=\"middle\" x=\"0\" y=\"463\" transform=\"translate(50,0)\" style=\"font-family: 'Open Sans', verdana, arial, sans-serif; font-size: 12px; fill: rgb(68, 68, 68); fill-opacity: 1; white-space: pre;\">0</text></g><g class=\"xtick\"><text text-anchor=\"middle\" x=\"0\" y=\"463\" transform=\"translate(176.75,0)\" style=\"font-family: 'Open Sans', verdana, arial, sans-serif; font-size: 12px; fill: rgb(68, 68, 68); fill-opacity: 1; white-space: pre;\">1</text></g><g class=\"xtick\"><text text-anchor=\"middle\" x=\"0\" y=\"463\" transform=\"translate(303.5,0)\" style=\"font-family: 'Open Sans', verdana, arial, sans-serif; font-size: 12px; fill: rgb(68, 68, 68); fill-opacity: 1; white-space: pre;\">2</text></g><g class=\"xtick\"><text text-anchor=\"middle\" x=\"0\" y=\"463\" transform=\"translate(430.25,0)\" style=\"font-family: 'Open Sans', verdana, arial, sans-serif; font-size: 12px; fill: rgb(68, 68, 68); fill-opacity: 1; white-space: pre;\">3</text></g><g class=\"xtick\"><text text-anchor=\"middle\" x=\"0\" y=\"463\" transform=\"translate(557,0)\" style=\"font-family: 'Open Sans', verdana, arial, sans-serif; font-size: 12px; fill: rgb(68, 68, 68); fill-opacity: 1; white-space: pre;\">4</text></g></g><g class=\"yaxislayer-above\"><g class=\"ytick\"><text text-anchor=\"end\" x=\"49\" y=\"4.199999999999999\" transform=\"translate(0,444)\" style=\"font-family: 'Open Sans', verdana, arial, sans-serif; font-size: 12px; fill: rgb(68, 68, 68); fill-opacity: 1; white-space: pre;\">0</text></g><g class=\"ytick\"><text text-anchor=\"end\" x=\"49\" y=\"4.199999999999999\" transform=\"translate(0,376.5)\" style=\"font-family: 'Open Sans', verdana, arial, sans-serif; font-size: 12px; fill: rgb(68, 68, 68); fill-opacity: 1; white-space: pre;\">5</text></g><g class=\"ytick\"><text text-anchor=\"end\" x=\"49\" y=\"4.199999999999999\" transform=\"translate(0,309)\" style=\"font-family: 'Open Sans', verdana, arial, sans-serif; font-size: 12px; fill: rgb(68, 68, 68); fill-opacity: 1; white-space: pre;\">10</text></g><g class=\"ytick\"><text text-anchor=\"end\" x=\"49\" y=\"4.199999999999999\" transform=\"translate(0,241.5)\" style=\"font-family: 'Open Sans', verdana, arial, sans-serif; font-size: 12px; fill: rgb(68, 68, 68); fill-opacity: 1; white-space: pre;\">15</text></g><g class=\"ytick\"><text text-anchor=\"end\" x=\"49\" y=\"4.199999999999999\" transform=\"translate(0,174)\" style=\"font-family: 'Open Sans', verdana, arial, sans-serif; font-size: 12px; fill: rgb(68, 68, 68); fill-opacity: 1; white-space: pre;\">20</text></g><g class=\"ytick\"><text text-anchor=\"end\" x=\"49\" y=\"4.199999999999999\" transform=\"translate(0,106.5)\" style=\"font-family: 'Open Sans', verdana, arial, sans-serif; font-size: 12px; fill: rgb(68, 68, 68); fill-opacity: 1; white-space: pre;\">25</text></g></g><g class=\"overaxes-above\"/></g></g><g class=\"polarlayer\"/><g class=\"ternarylayer\"/><g class=\"geolayer\"/><g class=\"funnelarealayer\"/><g class=\"pielayer\"/><g class=\"treemaplayer\"/><g class=\"sunburstlayer\"/><g class=\"glimages\"/><defs id=\"topdefs-344071\"><g class=\"clips\"/><clipPath id=\"legend344071\"><rect width=\"121\" height=\"67\" x=\"0\" y=\"0\"/></clipPath></defs><g class=\"layer-above\"><g class=\"imagelayer\"/><g class=\"shapelayer\"/></g><g class=\"infolayer\"><g class=\"legend\" pointer-events=\"all\" transform=\"translate(567.14,60)\"><rect class=\"bg\" shape-rendering=\"crispEdges\" width=\"121\" height=\"67\" x=\"0\" y=\"0\" style=\"stroke: rgb(68, 68, 68); stroke-opacity: 1; fill: rgb(255, 255, 255); fill-opacity: 1; stroke-width: 0px;\"/><g class=\"scrollbox\" transform=\"\" clip-path=\"url('#legend344071')\"><g class=\"groups\"><g class=\"traces\" transform=\"translate(0,14.5)\" style=\"opacity: 1;\"><text class=\"legendtext\" text-anchor=\"start\" x=\"40\" y=\"4.680000000000001\" style=\"font-family: 'Open Sans', verdana, arial, sans-serif; font-size: 12px; fill: rgb(68, 68, 68); fill-opacity: 1; white-space: pre;\">dimension 2</text><g class=\"layers\" style=\"opacity: 1;\"><g class=\"legendfill\"/><g class=\"legendlines\"><path class=\"js-line\" d=\"M5,0h30\" style=\"fill: none; stroke: rgb(32, 96, 165); stroke-opacity: 1; stroke-width: 2px;\"/></g><g class=\"legendsymbols\"><g class=\"legendpoints\"/></g></g><rect class=\"legendtoggle\" x=\"0\" y=\"-9.5\" width=\"115.234375\" height=\"19\" style=\"fill: rgb(0, 0, 0); fill-opacity: 0;\"/></g><g class=\"traces\" transform=\"translate(0,33.5)\" style=\"opacity: 1;\"><text class=\"legendtext\" text-anchor=\"start\" x=\"40\" y=\"4.680000000000001\" style=\"font-family: 'Open Sans', verdana, arial, sans-serif; font-size: 12px; fill: rgb(68, 68, 68); fill-opacity: 1; white-space: pre;\">Dimension 1</text><g class=\"layers\" style=\"opacity: 1;\"><g class=\"legendfill\"/><g class=\"legendlines\"><path class=\"js-line\" d=\"M5,0h30\" style=\"fill: none; stroke: rgb(55, 144, 210); stroke-opacity: 1; stroke-width: 2px;\"/></g><g class=\"legendsymbols\"><g class=\"legendpoints\"/></g></g><rect class=\"legendtoggle\" x=\"0\" y=\"-9.5\" width=\"115.234375\" height=\"19\" style=\"fill: rgb(0, 0, 0); fill-opacity: 0;\"/></g><g class=\"traces\" transform=\"translate(0,52.5)\" style=\"opacity: 1;\"><text class=\"legendtext\" text-anchor=\"start\" x=\"40\" y=\"4.680000000000001\" style=\"font-family: 'Open Sans', verdana, arial, sans-serif; font-size: 12px; fill: rgb(68, 68, 68); fill-opacity: 1; white-space: pre;\">Dimension 0</text><g class=\"layers\" style=\"opacity: 1;\"><g class=\"legendfill\"/><g class=\"legendlines\"><path class=\"js-line\" d=\"M5,0h30\" style=\"fill: none; stroke: rgb(102, 186, 231); stroke-opacity: 1; stroke-width: 2px;\"/></g><g class=\"legendsymbols\"><g class=\"legendpoints\"/></g></g><rect class=\"legendtoggle\" x=\"0\" y=\"-9.5\" width=\"115.234375\" height=\"19\" style=\"fill: rgb(0, 0, 0); fill-opacity: 0;\"/></g></g></g><rect class=\"scrollbar\" rx=\"20\" ry=\"3\" width=\"0\" height=\"0\" x=\"0\" y=\"0\" style=\"fill: rgb(128, 139, 164); fill-opacity: 1;\"/></g><g class=\"g-gtitle\"/><g class=\"g-xtitle\" transform=\"translate(0,-5)\"><text class=\"xtitle\" x=\"303.5\" y=\"502\" text-anchor=\"middle\" style=\"font-family: 'Open Sans', verdana, arial, sans-serif; font-size: 14px; fill: rgb(68, 68, 68); opacity: 1; font-weight: normal; white-space: pre;\">ϵ</text></g><g class=\"g-ytitle\"/></g></svg>"
      ],
      "text/html": [
       "<div\n",
       "    class=\"webio-mountpoint\"\n",
       "    data-webio-mountpoint=\"2050594234552278688\"\n",
       ">\n",
       "    <script>\n",
       "    (function(){\n",
       "    // Some integrations (namely, IJulia/Jupyter) use an alternate render pathway than\n",
       "    // just putting the html on the page. If WebIO isn't defined, then it's pretty likely\n",
       "    // that we're in one of those situations and the integration just isn't installed\n",
       "    // correctly.\n",
       "    if (typeof window.WebIO === \"undefined\") {\n",
       "        document\n",
       "            .querySelector('[data-webio-mountpoint=\"2050594234552278688\"]')\n",
       "            .innerHTML = (\n",
       "                '<div style=\"padding: 1em; background-color: #f8d6da; border: 1px solid #f5c6cb; font-weight: bold;\">' +\n",
       "                '<p><strong>WebIO not detected.</strong></p>' +\n",
       "                '<p>Please read ' +\n",
       "                '<a href=\"https://juliagizmos.github.io/WebIO.jl/latest/troubleshooting/not-detected/\" target=\"_blank\">the troubleshooting guide</a> ' +\n",
       "                'for more information on how to resolve this issue.</p>' +\n",
       "                '<p><a href=\"https://juliagizmos.github.io/WebIO.jl/latest/troubleshooting/not-detected/\" target=\"_blank\">https://juliagizmos.github.io/WebIO.jl/latest/troubleshooting/not-detected/</a></p>' +\n",
       "                '</div>'\n",
       "            );\n",
       "        return;\n",
       "    }\n",
       "    WebIO.mount(\n",
       "        document.querySelector('[data-webio-mountpoint=\"2050594234552278688\"]'),\n",
       "        {\"props\":{},\"nodeType\":\"Scope\",\"type\":\"node\",\"instanceArgs\":{\"imports\":{\"data\":[{\"name\":\"Plotly\",\"type\":\"js\",\"url\":\"\\/assetserver\\/0011d14de576c55f77111628d5a39fcc5762f320-plotly.min.js\"},{\"name\":null,\"type\":\"js\",\"url\":\"\\/assetserver\\/52365f0a3f606733873c2a55bbe1584aba3b706c-plotly_webio.bundle.js\"}],\"type\":\"async_block\"},\"id\":\"6518300771527223036\",\"handlers\":{\"_toImage\":[\"(function (options){return this.Plotly.toImage(this.plotElem,options).then((function (data){return WebIO.setval({\\\"name\\\":\\\"image\\\",\\\"scope\\\":\\\"6518300771527223036\\\",\\\"id\\\":\\\"3571601082675468146\\\",\\\"type\\\":\\\"observable\\\"},data)}))})\"],\"__get_gd_contents\":[\"(function (prop){prop==\\\"data\\\" ? (WebIO.setval({\\\"name\\\":\\\"__gd_contents\\\",\\\"scope\\\":\\\"6518300771527223036\\\",\\\"id\\\":\\\"14798745053910223618\\\",\\\"type\\\":\\\"observable\\\"},this.plotElem.data)) : undefined; return prop==\\\"layout\\\" ? (WebIO.setval({\\\"name\\\":\\\"__gd_contents\\\",\\\"scope\\\":\\\"6518300771527223036\\\",\\\"id\\\":\\\"14798745053910223618\\\",\\\"type\\\":\\\"observable\\\"},this.plotElem.layout)) : undefined})\"],\"_downloadImage\":[\"(function (options){return this.Plotly.downloadImage(this.plotElem,options)})\"],\"_commands\":[\"(function (args){var fn=args.shift(); var elem=this.plotElem; var Plotly=this.Plotly; args.unshift(elem); return Plotly[fn].apply(this,args)})\"]},\"systemjs_options\":null,\"mount_callbacks\":[\"function () {\\n    var handler = ((function (Plotly,PlotlyWebIO){PlotlyWebIO.init(WebIO); var gd=this.dom.querySelector(\\\"#plot-13578f50-fcda-4310-9d70-3b8a08817f29\\\"); this.plotElem=gd; this.Plotly=Plotly; (window.Blink!==undefined) ? (gd.style.width=\\\"100%\\\", gd.style.height=\\\"100vh\\\", gd.style.marginLeft=\\\"0%\\\", gd.style.marginTop=\\\"0vh\\\") : undefined; window.onresize=(function (){return Plotly.Plots.resize(gd)}); Plotly.newPlot(gd,[{\\\"mode\\\":\\\"lines\\\",\\\"line\\\":{\\\"color\\\":\\\"#2060A5\\\",\\\"width\\\":2},\\\"y\\\":[27,27],\\\"type\\\":\\\"scatter\\\",\\\"name\\\":\\\"dimension 2\\\",\\\"x\\\":[0,0]},{\\\"mode\\\":\\\"lines\\\",\\\"line\\\":{\\\"color\\\":\\\"#3790D2\\\",\\\"width\\\":2},\\\"y\\\":[17,17],\\\"type\\\":\\\"scatter\\\",\\\"name\\\":\\\"Dimension 1\\\",\\\"x\\\":[1.0,1.4142135623730951]},{\\\"showlegend\\\":false,\\\"mode\\\":\\\"lines\\\",\\\"line\\\":{\\\"color\\\":\\\"#66BAE7\\\",\\\"width\\\":2},\\\"y\\\":[6,6],\\\"type\\\":\\\"scatter\\\",\\\"x\\\":[0.0,4.0]},{\\\"showlegend\\\":false,\\\"mode\\\":\\\"lines\\\",\\\"line\\\":{\\\"color\\\":\\\"#66BAE7\\\",\\\"width\\\":2},\\\"y\\\":[5,5],\\\"type\\\":\\\"scatter\\\",\\\"x\\\":[0.0,2.0]},{\\\"showlegend\\\":false,\\\"mode\\\":\\\"lines\\\",\\\"line\\\":{\\\"color\\\":\\\"#66BAE7\\\",\\\"width\\\":2},\\\"y\\\":[4,4],\\\"type\\\":\\\"scatter\\\",\\\"x\\\":[0.0,1.0]},{\\\"showlegend\\\":false,\\\"mode\\\":\\\"lines\\\",\\\"line\\\":{\\\"color\\\":\\\"#66BAE7\\\",\\\"width\\\":2},\\\"y\\\":[3,3],\\\"type\\\":\\\"scatter\\\",\\\"x\\\":[0.0,1.0]},{\\\"showlegend\\\":false,\\\"mode\\\":\\\"lines\\\",\\\"line\\\":{\\\"color\\\":\\\"#66BAE7\\\",\\\"width\\\":2},\\\"y\\\":[2,2],\\\"type\\\":\\\"scatter\\\",\\\"x\\\":[0.0,1.0]},{\\\"mode\\\":\\\"lines\\\",\\\"line\\\":{\\\"color\\\":\\\"#66BAE7\\\",\\\"width\\\":2},\\\"y\\\":[1,1],\\\"type\\\":\\\"scatter\\\",\\\"name\\\":\\\"Dimension 0\\\",\\\"x\\\":[0.0,1.0]}],{\\\"xaxis\\\":{\\\"showgrid\\\":false,\\\"zeroline\\\":false,\\\"rangevar\\\":[-0.001,4.001],\\\"title\\\":\\\"ϵ\\\"},\\\"margin\\\":{\\\"l\\\":50,\\\"b\\\":50,\\\"r\\\":50,\\\"t\\\":60},\\\"yaxis\\\":{\\\"showgrid\\\":false,\\\"rangevar\\\":[0.0,27.1],\\\"ticks\\\":false}},{}); gd.on(\\\"plotly_hover\\\",(function (data){var filtered_data=WebIO.PlotlyCommands.filterEventData(gd,data,\\\"hover\\\"); return !(filtered_data.isnil) ? (WebIO.setval({\\\"name\\\":\\\"hover\\\",\\\"scope\\\":\\\"6518300771527223036\\\",\\\"id\\\":\\\"325027824579203720\\\",\\\"type\\\":\\\"observable\\\"},filtered_data.out)) : undefined})); gd.on(\\\"plotly_unhover\\\",(function (){return WebIO.setval({\\\"name\\\":\\\"hover\\\",\\\"scope\\\":\\\"6518300771527223036\\\",\\\"id\\\":\\\"325027824579203720\\\",\\\"type\\\":\\\"observable\\\"},{})})); gd.on(\\\"plotly_selected\\\",(function (data){var filtered_data=WebIO.PlotlyCommands.filterEventData(gd,data,\\\"selected\\\"); return !(filtered_data.isnil) ? (WebIO.setval({\\\"name\\\":\\\"selected\\\",\\\"scope\\\":\\\"6518300771527223036\\\",\\\"id\\\":\\\"3263365326388555175\\\",\\\"type\\\":\\\"observable\\\"},filtered_data.out)) : undefined})); gd.on(\\\"plotly_deselect\\\",(function (){return WebIO.setval({\\\"name\\\":\\\"selected\\\",\\\"scope\\\":\\\"6518300771527223036\\\",\\\"id\\\":\\\"3263365326388555175\\\",\\\"type\\\":\\\"observable\\\"},{})})); gd.on(\\\"plotly_relayout\\\",(function (data){var filtered_data=WebIO.PlotlyCommands.filterEventData(gd,data,\\\"relayout\\\"); return !(filtered_data.isnil) ? (WebIO.setval({\\\"name\\\":\\\"relayout\\\",\\\"scope\\\":\\\"6518300771527223036\\\",\\\"id\\\":\\\"14332659843443425771\\\",\\\"type\\\":\\\"observable\\\"},filtered_data.out)) : undefined})); return gd.on(\\\"plotly_click\\\",(function (data){var filtered_data=WebIO.PlotlyCommands.filterEventData(gd,data,\\\"click\\\"); return !(filtered_data.isnil) ? (WebIO.setval({\\\"name\\\":\\\"click\\\",\\\"scope\\\":\\\"6518300771527223036\\\",\\\"id\\\":\\\"2217146552129788446\\\",\\\"type\\\":\\\"observable\\\"},filtered_data.out)) : undefined}))}));\\n    (WebIO.importBlock({\\\"data\\\":[{\\\"name\\\":\\\"Plotly\\\",\\\"type\\\":\\\"js\\\",\\\"url\\\":\\\"\\/assetserver\\/0011d14de576c55f77111628d5a39fcc5762f320-plotly.min.js\\\"},{\\\"name\\\":null,\\\"type\\\":\\\"js\\\",\\\"url\\\":\\\"\\/assetserver\\/52365f0a3f606733873c2a55bbe1584aba3b706c-plotly_webio.bundle.js\\\"}],\\\"type\\\":\\\"async_block\\\"})).then((imports) => handler.apply(this, imports));\\n}\\n\"],\"observables\":{\"_toImage\":{\"sync\":false,\"id\":\"16208928238993883523\",\"value\":{}},\"hover\":{\"sync\":false,\"id\":\"325027824579203720\",\"value\":{}},\"selected\":{\"sync\":false,\"id\":\"3263365326388555175\",\"value\":{}},\"__gd_contents\":{\"sync\":false,\"id\":\"14798745053910223618\",\"value\":{}},\"click\":{\"sync\":false,\"id\":\"2217146552129788446\",\"value\":{}},\"image\":{\"sync\":true,\"id\":\"3571601082675468146\",\"value\":\"\"},\"__get_gd_contents\":{\"sync\":false,\"id\":\"8835411457192443044\",\"value\":\"\"},\"_downloadImage\":{\"sync\":false,\"id\":\"15177942820387924810\",\"value\":{}},\"relayout\":{\"sync\":false,\"id\":\"14332659843443425771\",\"value\":{}},\"_commands\":{\"sync\":false,\"id\":\"13262582957488485843\",\"value\":[]}}},\"children\":[{\"props\":{\"id\":\"plot-13578f50-fcda-4310-9d70-3b8a08817f29\"},\"nodeType\":\"DOM\",\"type\":\"node\",\"instanceArgs\":{\"namespace\":\"html\",\"tag\":\"div\"},\"children\":[]}]},\n",
       "        window,\n",
       "    );\n",
       "    })()\n",
       "    </script>\n",
       "</div>\n"
      ],
      "text/plain": [
       "data: [\n",
       "  \"scatter with fields line, mode, name, type, x, and y\",\n",
       "  \"scatter with fields line, mode, name, type, x, and y\",\n",
       "  \"scatter with fields line, mode, showlegend, type, x, and y\",\n",
       "  \"scatter with fields line, mode, showlegend, type, x, and y\",\n",
       "  \"scatter with fields line, mode, showlegend, type, x, and y\",\n",
       "  \"scatter with fields line, mode, showlegend, type, x, and y\",\n",
       "  \"scatter with fields line, mode, showlegend, type, x, and y\",\n",
       "  \"scatter with fields line, mode, name, type, x, and y\"\n",
       "]\n",
       "\n",
       "layout: \"layout with fields margin, xaxis, and yaxis\"\n",
       "\n"
      ]
     },
     "execution_count": 130,
     "metadata": {},
     "output_type": "execute_result"
    }
   ],
   "source": [
    "# Plot diagram up to voids\n",
    "plotbarcode_pjs(PH,dim=0:2)"
   ]
  },
  {
   "cell_type": "code",
   "execution_count": 131,
   "metadata": {},
   "outputs": [
    {
     "data": {
      "application/vnd.plotly.v1+json": {
       "data": [
        {
         "hoverinfo": "x+y+text",
         "marker": {
          "color": "black",
          "size": 5
         },
         "mode": "markers",
         "text": [
          "class/size  1/4"
         ],
         "textfont": {
          "family": "Raleway, sans-serif"
         },
         "textposition": "top center",
         "type": "scatter",
         "x": [
          1
         ],
         "y": [
          1.4142135623730951
         ]
        },
        {
         "hoverinfo": "x+text",
         "marker": {
          "color": "red",
          "size": 6
         },
         "mode": "markers",
         "text": [],
         "textfont": {
          "family": "Raleway, sans-serif"
         },
         "textposition": "top center",
         "type": "scatter",
         "x": [],
         "y": []
        }
       ],
       "frames": [],
       "layout": {
        "height": 800,
        "hovermode": "closest",
        "margin": {
         "b": 50,
         "l": 50,
         "r": 50,
         "t": 50
        },
        "scene": {
         "aspectmode": "manual",
         "aspectratio": {
          "x": null,
          "y": null
         }
        },
        "showlegend": false,
        "width": 1000
       }
      },
      "application/vnd.webio.node+json": {
       "children": [
        {
         "children": [],
         "instanceArgs": {
          "namespace": "html",
          "tag": "div"
         },
         "nodeType": "DOM",
         "props": {
          "id": "plot-edeb0fa2-f147-429b-a9a0-39d7a759e248"
         },
         "type": "node"
        }
       ],
       "instanceArgs": {
        "handlers": {
         "__get_gd_contents": [
          "(function (prop){prop==\"data\" ? (WebIO.setval({\"name\":\"__gd_contents\",\"scope\":\"2840158736778764166\",\"id\":\"5938683205567242766\",\"type\":\"observable\"},this.plotElem.data)) : undefined; return prop==\"layout\" ? (WebIO.setval({\"name\":\"__gd_contents\",\"scope\":\"2840158736778764166\",\"id\":\"5938683205567242766\",\"type\":\"observable\"},this.plotElem.layout)) : undefined})"
         ],
         "_commands": [
          "(function (args){var fn=args.shift(); var elem=this.plotElem; var Plotly=this.Plotly; args.unshift(elem); return Plotly[fn].apply(this,args)})"
         ],
         "_downloadImage": [
          "(function (options){return this.Plotly.downloadImage(this.plotElem,options)})"
         ],
         "_toImage": [
          "(function (options){return this.Plotly.toImage(this.plotElem,options).then((function (data){return WebIO.setval({\"name\":\"image\",\"scope\":\"2840158736778764166\",\"id\":\"7830429013992243874\",\"type\":\"observable\"},data)}))})"
         ]
        },
        "id": "2840158736778764166",
        "imports": {
         "data": [
          {
           "name": "Plotly",
           "type": "js",
           "url": "/assetserver/0011d14de576c55f77111628d5a39fcc5762f320-plotly.min.js"
          },
          {
           "name": null,
           "type": "js",
           "url": "/assetserver/52365f0a3f606733873c2a55bbe1584aba3b706c-plotly_webio.bundle.js"
          }
         ],
         "type": "async_block"
        },
        "mount_callbacks": [
         "function () {\n    var handler = ((function (Plotly,PlotlyWebIO){PlotlyWebIO.init(WebIO); var gd=this.dom.querySelector(\"#plot-edeb0fa2-f147-429b-a9a0-39d7a759e248\"); this.plotElem=gd; this.Plotly=Plotly; (window.Blink!==undefined) ? (gd.style.width=\"100%\", gd.style.height=\"100vh\", gd.style.marginLeft=\"0%\", gd.style.marginTop=\"0vh\") : undefined; window.onresize=(function (){return Plotly.Plots.resize(gd)}); Plotly.newPlot(gd,[{\"marker\":{\"color\":\"black\",\"size\":5},\"mode\":\"markers\",\"textfont\":{\"family\":\"Raleway, sans-serif\"},\"textposition\":\"top center\",\"y\":[1.4142135623730951],\"type\":\"scatter\",\"hoverinfo\":\"x+y+text\",\"text\":[\"class/size  1/4\"],\"x\":[1.0]},{\"marker\":{\"color\":\"red\",\"size\":6},\"mode\":\"markers\",\"textfont\":{\"family\":\"Raleway, sans-serif\"},\"textposition\":\"top center\",\"y\":[],\"type\":\"scatter\",\"hoverinfo\":\"x+text\",\"text\":[],\"x\":[]}],{\"showlegend\":false,\"hovermode\":\"closest\",\"height\":800,\"margin\":{\"l\":50,\"b\":50,\"r\":50,\"t\":50},\"scene\":{\"aspectratio\":{\"y\":null,\"x\":null},\"aspectmode\":\"manual\"},\"width\":1000},{}); gd.on(\"plotly_hover\",(function (data){var filtered_data=WebIO.PlotlyCommands.filterEventData(gd,data,\"hover\"); return !(filtered_data.isnil) ? (WebIO.setval({\"name\":\"hover\",\"scope\":\"2840158736778764166\",\"id\":\"11775169867318597977\",\"type\":\"observable\"},filtered_data.out)) : undefined})); gd.on(\"plotly_unhover\",(function (){return WebIO.setval({\"name\":\"hover\",\"scope\":\"2840158736778764166\",\"id\":\"11775169867318597977\",\"type\":\"observable\"},{})})); gd.on(\"plotly_selected\",(function (data){var filtered_data=WebIO.PlotlyCommands.filterEventData(gd,data,\"selected\"); return !(filtered_data.isnil) ? (WebIO.setval({\"name\":\"selected\",\"scope\":\"2840158736778764166\",\"id\":\"8296930365988023478\",\"type\":\"observable\"},filtered_data.out)) : undefined})); gd.on(\"plotly_deselect\",(function (){return WebIO.setval({\"name\":\"selected\",\"scope\":\"2840158736778764166\",\"id\":\"8296930365988023478\",\"type\":\"observable\"},{})})); gd.on(\"plotly_relayout\",(function (data){var filtered_data=WebIO.PlotlyCommands.filterEventData(gd,data,\"relayout\"); return !(filtered_data.isnil) ? (WebIO.setval({\"name\":\"relayout\",\"scope\":\"2840158736778764166\",\"id\":\"1434579026963745209\",\"type\":\"observable\"},filtered_data.out)) : undefined})); return gd.on(\"plotly_click\",(function (data){var filtered_data=WebIO.PlotlyCommands.filterEventData(gd,data,\"click\"); return !(filtered_data.isnil) ? (WebIO.setval({\"name\":\"click\",\"scope\":\"2840158736778764166\",\"id\":\"6630387076877302461\",\"type\":\"observable\"},filtered_data.out)) : undefined}))}));\n    (WebIO.importBlock({\"data\":[{\"name\":\"Plotly\",\"type\":\"js\",\"url\":\"/assetserver/0011d14de576c55f77111628d5a39fcc5762f320-plotly.min.js\"},{\"name\":null,\"type\":\"js\",\"url\":\"/assetserver/52365f0a3f606733873c2a55bbe1584aba3b706c-plotly_webio.bundle.js\"}],\"type\":\"async_block\"})).then((imports) => handler.apply(this, imports));\n}\n"
        ],
        "observables": {
         "__gd_contents": {
          "id": "5938683205567242766",
          "sync": false,
          "value": {}
         },
         "__get_gd_contents": {
          "id": "10816323788896718182",
          "sync": false,
          "value": ""
         },
         "_commands": {
          "id": "2200800211526930976",
          "sync": false,
          "value": []
         },
         "_downloadImage": {
          "id": "6083747742544352537",
          "sync": false,
          "value": {}
         },
         "_toImage": {
          "id": "8881511632557580303",
          "sync": false,
          "value": {}
         },
         "click": {
          "id": "6630387076877302461",
          "sync": false,
          "value": {}
         },
         "hover": {
          "id": "11775169867318597977",
          "sync": false,
          "value": {}
         },
         "image": {
          "id": "7830429013992243874",
          "sync": true,
          "value": ""
         },
         "relayout": {
          "id": "1434579026963745209",
          "sync": false,
          "value": {}
         },
         "selected": {
          "id": "8296930365988023478",
          "sync": false,
          "value": {}
         }
        },
        "systemjs_options": null
       },
       "nodeType": "Scope",
       "props": {},
       "type": "node"
      },
      "image/png": "[encoded data removed]",
      "image/svg+xml": [
       "<svg class=\"main-svg\" xmlns=\"http://www.w3.org/2000/svg\" xmlns:xlink=\"http://www.w3.org/1999/xlink\" width=\"700\" height=\"500\" style=\"\" viewBox=\"0 0 700 500\"><rect x=\"0\" y=\"0\" width=\"700\" height=\"500\" style=\"fill: rgb(255, 255, 255); fill-opacity: 1;\"/><defs id=\"defs-63c226\"><g class=\"clips\"><clipPath id=\"clip63c226xyplot\" class=\"plotclip\"><rect width=\"600\" height=\"400\"/></clipPath><clipPath class=\"axesclip\" id=\"clip63c226x\"><rect x=\"50\" y=\"0\" width=\"600\" height=\"500\"/></clipPath><clipPath class=\"axesclip\" id=\"clip63c226y\"><rect x=\"0\" y=\"50\" width=\"700\" height=\"400\"/></clipPath><clipPath class=\"axesclip\" id=\"clip63c226xy\"><rect x=\"50\" y=\"50\" width=\"600\" height=\"400\"/></clipPath></g><g class=\"gradients\"/></defs><g class=\"bglayer\"/><g class=\"layer-below\"><g class=\"imagelayer\"/><g class=\"shapelayer\"/></g><g class=\"cartesianlayer\"><g class=\"subplot xy\"><g class=\"layer-subplot\"><g class=\"shapelayer\"/><g class=\"imagelayer\"/></g><g class=\"gridlayer\"><g class=\"x\"><path class=\"xgrid crisp\" transform=\"translate(200,0)\" d=\"M0,50v400\" style=\"stroke: rgb(238, 238, 238); stroke-opacity: 1; stroke-width: 1px;\"/><path class=\"xgrid crisp\" transform=\"translate(350,0)\" d=\"M0,50v400\" style=\"stroke: rgb(238, 238, 238); stroke-opacity: 1; stroke-width: 1px;\"/><path class=\"xgrid crisp\" transform=\"translate(500,0)\" d=\"M0,50v400\" style=\"stroke: rgb(238, 238, 238); stroke-opacity: 1; stroke-width: 1px;\"/></g><g class=\"y\"><path class=\"ygrid crisp\" transform=\"translate(0,412.84)\" d=\"M50,0h600\" style=\"stroke: rgb(238, 238, 238); stroke-opacity: 1; stroke-width: 1px;\"/><path class=\"ygrid crisp\" transform=\"translate(0,372.84)\" d=\"M50,0h600\" style=\"stroke: rgb(238, 238, 238); stroke-opacity: 1; stroke-width: 1px;\"/><path class=\"ygrid crisp\" transform=\"translate(0,332.84)\" d=\"M50,0h600\" style=\"stroke: rgb(238, 238, 238); stroke-opacity: 1; stroke-width: 1px;\"/><path class=\"ygrid crisp\" transform=\"translate(0,292.84000000000003)\" d=\"M50,0h600\" style=\"stroke: rgb(238, 238, 238); stroke-opacity: 1; stroke-width: 1px;\"/><path class=\"ygrid crisp\" transform=\"translate(0,252.84)\" d=\"M50,0h600\" style=\"stroke: rgb(238, 238, 238); stroke-opacity: 1; stroke-width: 1px;\"/><path class=\"ygrid crisp\" transform=\"translate(0,212.84)\" d=\"M50,0h600\" style=\"stroke: rgb(238, 238, 238); stroke-opacity: 1; stroke-width: 1px;\"/><path class=\"ygrid crisp\" transform=\"translate(0,172.84)\" d=\"M50,0h600\" style=\"stroke: rgb(238, 238, 238); stroke-opacity: 1; stroke-width: 1px;\"/><path class=\"ygrid crisp\" transform=\"translate(0,132.84)\" d=\"M50,0h600\" style=\"stroke: rgb(238, 238, 238); stroke-opacity: 1; stroke-width: 1px;\"/><path class=\"ygrid crisp\" transform=\"translate(0,92.84)\" d=\"M50,0h600\" style=\"stroke: rgb(238, 238, 238); stroke-opacity: 1; stroke-width: 1px;\"/><path class=\"ygrid crisp\" transform=\"translate(0,52.84)\" d=\"M50,0h600\" style=\"stroke: rgb(238, 238, 238); stroke-opacity: 1; stroke-width: 1px;\"/></g></g><g class=\"zerolinelayer\"><path class=\"xzl zl crisp\" transform=\"translate(50,0)\" d=\"M0,50v400\" style=\"stroke: rgb(68, 68, 68); stroke-opacity: 1; stroke-width: 1px;\"/></g><path class=\"xlines-below\"/><path class=\"ylines-below\"/><g class=\"overlines-below\"/><g class=\"xaxislayer-below\"/><g class=\"yaxislayer-below\"/><g class=\"overaxes-below\"/><g class=\"plot\" transform=\"translate(50,50)\" clip-path=\"url('#clip63c226xyplot')\"><g class=\"scatterlayer mlayer\"><g class=\"trace scatter trace4b4ccd\" style=\"stroke-miterlimit: 2; opacity: 1;\"><g class=\"fills\"/><g class=\"errorbars\"/><g class=\"lines\"/><g class=\"points\"><path class=\"point\" transform=\"translate(300,200)\" d=\"M2.5,0A2.5,2.5 0 1,1 0,-2.5A2.5,2.5 0 0,1 2.5,0Z\" style=\"opacity: 1; stroke-width: 0px; fill: rgb(0, 0, 0); fill-opacity: 1;\"/></g><g class=\"text\"/></g></g></g><g class=\"overplot\"/><path class=\"xlines-above crisp\" d=\"M0,0\" style=\"fill: none;\"/><path class=\"ylines-above crisp\" d=\"M0,0\" style=\"fill: none;\"/><g class=\"overlines-above\"/><g class=\"xaxislayer-above\"><g class=\"xtick\"><text text-anchor=\"middle\" x=\"0\" y=\"463\" transform=\"translate(50,0)\" style=\"font-family: 'Open Sans', verdana, arial, sans-serif; font-size: 12px; fill: rgb(68, 68, 68); fill-opacity: 1; white-space: pre;\">0</text></g><g class=\"xtick\"><text text-anchor=\"middle\" x=\"0\" y=\"463\" transform=\"translate(200,0)\" style=\"font-family: 'Open Sans', verdana, arial, sans-serif; font-size: 12px; fill: rgb(68, 68, 68); fill-opacity: 1; white-space: pre;\">0.5</text></g><g class=\"xtick\"><text text-anchor=\"middle\" x=\"0\" y=\"463\" transform=\"translate(350,0)\" style=\"font-family: 'Open Sans', verdana, arial, sans-serif; font-size: 12px; fill: rgb(68, 68, 68); fill-opacity: 1; white-space: pre;\">1</text></g><g class=\"xtick\"><text text-anchor=\"middle\" x=\"0\" y=\"463\" transform=\"translate(500,0)\" style=\"font-family: 'Open Sans', verdana, arial, sans-serif; font-size: 12px; fill: rgb(68, 68, 68); fill-opacity: 1; white-space: pre;\">1.5</text></g><g class=\"xtick\"><text text-anchor=\"middle\" x=\"0\" y=\"463\" transform=\"translate(650,0)\" style=\"font-family: 'Open Sans', verdana, arial, sans-serif; font-size: 12px; fill: rgb(68, 68, 68); fill-opacity: 1; white-space: pre;\">2</text></g></g><g class=\"yaxislayer-above\"><g class=\"ytick\"><text text-anchor=\"end\" x=\"49\" y=\"4.199999999999999\" transform=\"translate(0,412.84)\" style=\"font-family: 'Open Sans', verdana, arial, sans-serif; font-size: 12px; fill: rgb(68, 68, 68); fill-opacity: 1; white-space: pre;\">0.6</text></g><g class=\"ytick\"><text text-anchor=\"end\" x=\"49\" y=\"4.199999999999999\" transform=\"translate(0,372.84)\" style=\"font-family: 'Open Sans', verdana, arial, sans-serif; font-size: 12px; fill: rgb(68, 68, 68); fill-opacity: 1; white-space: pre;\">0.8</text></g><g class=\"ytick\"><text text-anchor=\"end\" x=\"49\" y=\"4.199999999999999\" transform=\"translate(0,332.84)\" style=\"font-family: 'Open Sans', verdana, arial, sans-serif; font-size: 12px; fill: rgb(68, 68, 68); fill-opacity: 1; white-space: pre;\">1</text></g><g class=\"ytick\"><text text-anchor=\"end\" x=\"49\" y=\"4.199999999999999\" transform=\"translate(0,292.84000000000003)\" style=\"font-family: 'Open Sans', verdana, arial, sans-serif; font-size: 12px; fill: rgb(68, 68, 68); fill-opacity: 1; white-space: pre;\">1.2</text></g><g class=\"ytick\"><text text-anchor=\"end\" x=\"49\" y=\"4.199999999999999\" transform=\"translate(0,252.84)\" style=\"font-family: 'Open Sans', verdana, arial, sans-serif; font-size: 12px; fill: rgb(68, 68, 68); fill-opacity: 1; white-space: pre;\">1.4</text></g><g class=\"ytick\"><text text-anchor=\"end\" x=\"49\" y=\"4.199999999999999\" transform=\"translate(0,212.84)\" style=\"font-family: 'Open Sans', verdana, arial, sans-serif; font-size: 12px; fill: rgb(68, 68, 68); fill-opacity: 1; white-space: pre;\">1.6</text></g><g class=\"ytick\"><text text-anchor=\"end\" x=\"49\" y=\"4.199999999999999\" transform=\"translate(0,172.84)\" style=\"font-family: 'Open Sans', verdana, arial, sans-serif; font-size: 12px; fill: rgb(68, 68, 68); fill-opacity: 1; white-space: pre;\">1.8</text></g><g class=\"ytick\"><text text-anchor=\"end\" x=\"49\" y=\"4.199999999999999\" transform=\"translate(0,132.84)\" style=\"font-family: 'Open Sans', verdana, arial, sans-serif; font-size: 12px; fill: rgb(68, 68, 68); fill-opacity: 1; white-space: pre;\">2</text></g><g class=\"ytick\"><text text-anchor=\"end\" x=\"49\" y=\"4.199999999999999\" transform=\"translate(0,92.84)\" style=\"font-family: 'Open Sans', verdana, arial, sans-serif; font-size: 12px; fill: rgb(68, 68, 68); fill-opacity: 1; white-space: pre;\">2.2</text></g><g class=\"ytick\"><text text-anchor=\"end\" x=\"49\" y=\"4.199999999999999\" transform=\"translate(0,52.84)\" style=\"font-family: 'Open Sans', verdana, arial, sans-serif; font-size: 12px; fill: rgb(68, 68, 68); fill-opacity: 1; white-space: pre;\">2.4</text></g></g><g class=\"overaxes-above\"/></g></g><g class=\"polarlayer\"/><g class=\"ternarylayer\"/><g class=\"geolayer\"/><g class=\"funnelarealayer\"/><g class=\"pielayer\"/><g class=\"treemaplayer\"/><g class=\"sunburstlayer\"/><g class=\"glimages\"/><defs id=\"topdefs-63c226\"><g class=\"clips\"/></defs><g class=\"layer-above\"><g class=\"imagelayer\"/><g class=\"shapelayer\"/></g><g class=\"infolayer\"><g class=\"g-gtitle\"/><g class=\"g-xtitle\"/><g class=\"g-ytitle\"/></g></svg>"
      ],
      "text/html": [
       "<div\n",
       "    class=\"webio-mountpoint\"\n",
       "    data-webio-mountpoint=\"10643409061494472399\"\n",
       ">\n",
       "    <script>\n",
       "    (function(){\n",
       "    // Some integrations (namely, IJulia/Jupyter) use an alternate render pathway than\n",
       "    // just putting the html on the page. If WebIO isn't defined, then it's pretty likely\n",
       "    // that we're in one of those situations and the integration just isn't installed\n",
       "    // correctly.\n",
       "    if (typeof window.WebIO === \"undefined\") {\n",
       "        document\n",
       "            .querySelector('[data-webio-mountpoint=\"10643409061494472399\"]')\n",
       "            .innerHTML = (\n",
       "                '<div style=\"padding: 1em; background-color: #f8d6da; border: 1px solid #f5c6cb; font-weight: bold;\">' +\n",
       "                '<p><strong>WebIO not detected.</strong></p>' +\n",
       "                '<p>Please read ' +\n",
       "                '<a href=\"https://juliagizmos.github.io/WebIO.jl/latest/troubleshooting/not-detected/\" target=\"_blank\">the troubleshooting guide</a> ' +\n",
       "                'for more information on how to resolve this issue.</p>' +\n",
       "                '<p><a href=\"https://juliagizmos.github.io/WebIO.jl/latest/troubleshooting/not-detected/\" target=\"_blank\">https://juliagizmos.github.io/WebIO.jl/latest/troubleshooting/not-detected/</a></p>' +\n",
       "                '</div>'\n",
       "            );\n",
       "        return;\n",
       "    }\n",
       "    WebIO.mount(\n",
       "        document.querySelector('[data-webio-mountpoint=\"10643409061494472399\"]'),\n",
       "        {\"props\":{},\"nodeType\":\"Scope\",\"type\":\"node\",\"instanceArgs\":{\"imports\":{\"data\":[{\"name\":\"Plotly\",\"type\":\"js\",\"url\":\"\\/assetserver\\/0011d14de576c55f77111628d5a39fcc5762f320-plotly.min.js\"},{\"name\":null,\"type\":\"js\",\"url\":\"\\/assetserver\\/52365f0a3f606733873c2a55bbe1584aba3b706c-plotly_webio.bundle.js\"}],\"type\":\"async_block\"},\"id\":\"2840158736778764166\",\"handlers\":{\"_toImage\":[\"(function (options){return this.Plotly.toImage(this.plotElem,options).then((function (data){return WebIO.setval({\\\"name\\\":\\\"image\\\",\\\"scope\\\":\\\"2840158736778764166\\\",\\\"id\\\":\\\"7830429013992243874\\\",\\\"type\\\":\\\"observable\\\"},data)}))})\"],\"__get_gd_contents\":[\"(function (prop){prop==\\\"data\\\" ? (WebIO.setval({\\\"name\\\":\\\"__gd_contents\\\",\\\"scope\\\":\\\"2840158736778764166\\\",\\\"id\\\":\\\"5938683205567242766\\\",\\\"type\\\":\\\"observable\\\"},this.plotElem.data)) : undefined; return prop==\\\"layout\\\" ? (WebIO.setval({\\\"name\\\":\\\"__gd_contents\\\",\\\"scope\\\":\\\"2840158736778764166\\\",\\\"id\\\":\\\"5938683205567242766\\\",\\\"type\\\":\\\"observable\\\"},this.plotElem.layout)) : undefined})\"],\"_downloadImage\":[\"(function (options){return this.Plotly.downloadImage(this.plotElem,options)})\"],\"_commands\":[\"(function (args){var fn=args.shift(); var elem=this.plotElem; var Plotly=this.Plotly; args.unshift(elem); return Plotly[fn].apply(this,args)})\"]},\"systemjs_options\":null,\"mount_callbacks\":[\"function () {\\n    var handler = ((function (Plotly,PlotlyWebIO){PlotlyWebIO.init(WebIO); var gd=this.dom.querySelector(\\\"#plot-edeb0fa2-f147-429b-a9a0-39d7a759e248\\\"); this.plotElem=gd; this.Plotly=Plotly; (window.Blink!==undefined) ? (gd.style.width=\\\"100%\\\", gd.style.height=\\\"100vh\\\", gd.style.marginLeft=\\\"0%\\\", gd.style.marginTop=\\\"0vh\\\") : undefined; window.onresize=(function (){return Plotly.Plots.resize(gd)}); Plotly.newPlot(gd,[{\\\"marker\\\":{\\\"color\\\":\\\"black\\\",\\\"size\\\":5},\\\"mode\\\":\\\"markers\\\",\\\"textfont\\\":{\\\"family\\\":\\\"Raleway, sans-serif\\\"},\\\"textposition\\\":\\\"top center\\\",\\\"y\\\":[1.4142135623730951],\\\"type\\\":\\\"scatter\\\",\\\"hoverinfo\\\":\\\"x+y+text\\\",\\\"text\\\":[\\\"class\\/size  1\\/4\\\"],\\\"x\\\":[1.0]},{\\\"marker\\\":{\\\"color\\\":\\\"red\\\",\\\"size\\\":6},\\\"mode\\\":\\\"markers\\\",\\\"textfont\\\":{\\\"family\\\":\\\"Raleway, sans-serif\\\"},\\\"textposition\\\":\\\"top center\\\",\\\"y\\\":[],\\\"type\\\":\\\"scatter\\\",\\\"hoverinfo\\\":\\\"x+text\\\",\\\"text\\\":[],\\\"x\\\":[]}],{\\\"showlegend\\\":false,\\\"hovermode\\\":\\\"closest\\\",\\\"height\\\":800,\\\"margin\\\":{\\\"l\\\":50,\\\"b\\\":50,\\\"r\\\":50,\\\"t\\\":50},\\\"scene\\\":{\\\"aspectratio\\\":{\\\"y\\\":null,\\\"x\\\":null},\\\"aspectmode\\\":\\\"manual\\\"},\\\"width\\\":1000},{}); gd.on(\\\"plotly_hover\\\",(function (data){var filtered_data=WebIO.PlotlyCommands.filterEventData(gd,data,\\\"hover\\\"); return !(filtered_data.isnil) ? (WebIO.setval({\\\"name\\\":\\\"hover\\\",\\\"scope\\\":\\\"2840158736778764166\\\",\\\"id\\\":\\\"11775169867318597977\\\",\\\"type\\\":\\\"observable\\\"},filtered_data.out)) : undefined})); gd.on(\\\"plotly_unhover\\\",(function (){return WebIO.setval({\\\"name\\\":\\\"hover\\\",\\\"scope\\\":\\\"2840158736778764166\\\",\\\"id\\\":\\\"11775169867318597977\\\",\\\"type\\\":\\\"observable\\\"},{})})); gd.on(\\\"plotly_selected\\\",(function (data){var filtered_data=WebIO.PlotlyCommands.filterEventData(gd,data,\\\"selected\\\"); return !(filtered_data.isnil) ? (WebIO.setval({\\\"name\\\":\\\"selected\\\",\\\"scope\\\":\\\"2840158736778764166\\\",\\\"id\\\":\\\"8296930365988023478\\\",\\\"type\\\":\\\"observable\\\"},filtered_data.out)) : undefined})); gd.on(\\\"plotly_deselect\\\",(function (){return WebIO.setval({\\\"name\\\":\\\"selected\\\",\\\"scope\\\":\\\"2840158736778764166\\\",\\\"id\\\":\\\"8296930365988023478\\\",\\\"type\\\":\\\"observable\\\"},{})})); gd.on(\\\"plotly_relayout\\\",(function (data){var filtered_data=WebIO.PlotlyCommands.filterEventData(gd,data,\\\"relayout\\\"); return !(filtered_data.isnil) ? (WebIO.setval({\\\"name\\\":\\\"relayout\\\",\\\"scope\\\":\\\"2840158736778764166\\\",\\\"id\\\":\\\"1434579026963745209\\\",\\\"type\\\":\\\"observable\\\"},filtered_data.out)) : undefined})); return gd.on(\\\"plotly_click\\\",(function (data){var filtered_data=WebIO.PlotlyCommands.filterEventData(gd,data,\\\"click\\\"); return !(filtered_data.isnil) ? (WebIO.setval({\\\"name\\\":\\\"click\\\",\\\"scope\\\":\\\"2840158736778764166\\\",\\\"id\\\":\\\"6630387076877302461\\\",\\\"type\\\":\\\"observable\\\"},filtered_data.out)) : undefined}))}));\\n    (WebIO.importBlock({\\\"data\\\":[{\\\"name\\\":\\\"Plotly\\\",\\\"type\\\":\\\"js\\\",\\\"url\\\":\\\"\\/assetserver\\/0011d14de576c55f77111628d5a39fcc5762f320-plotly.min.js\\\"},{\\\"name\\\":null,\\\"type\\\":\\\"js\\\",\\\"url\\\":\\\"\\/assetserver\\/52365f0a3f606733873c2a55bbe1584aba3b706c-plotly_webio.bundle.js\\\"}],\\\"type\\\":\\\"async_block\\\"})).then((imports) => handler.apply(this, imports));\\n}\\n\"],\"observables\":{\"_toImage\":{\"sync\":false,\"id\":\"8881511632557580303\",\"value\":{}},\"hover\":{\"sync\":false,\"id\":\"11775169867318597977\",\"value\":{}},\"selected\":{\"sync\":false,\"id\":\"8296930365988023478\",\"value\":{}},\"__gd_contents\":{\"sync\":false,\"id\":\"5938683205567242766\",\"value\":{}},\"click\":{\"sync\":false,\"id\":\"6630387076877302461\",\"value\":{}},\"image\":{\"sync\":true,\"id\":\"7830429013992243874\",\"value\":\"\"},\"__get_gd_contents\":{\"sync\":false,\"id\":\"10816323788896718182\",\"value\":\"\"},\"_downloadImage\":{\"sync\":false,\"id\":\"6083747742544352537\",\"value\":{}},\"relayout\":{\"sync\":false,\"id\":\"1434579026963745209\",\"value\":{}},\"_commands\":{\"sync\":false,\"id\":\"2200800211526930976\",\"value\":[]}}},\"children\":[{\"props\":{\"id\":\"plot-edeb0fa2-f147-429b-a9a0-39d7a759e248\"},\"nodeType\":\"DOM\",\"type\":\"node\",\"instanceArgs\":{\"namespace\":\"html\",\"tag\":\"div\"},\"children\":[]}]},\n",
       "        window,\n",
       "    );\n",
       "    })()\n",
       "    </script>\n",
       "</div>\n"
      ],
      "text/plain": [
       "data: [\n",
       "  \"scatter with fields hoverinfo, marker, mode, text, textfont, textposition, type, x, and y\",\n",
       "  \"scatter with fields hoverinfo, marker, mode, text, textfont, textposition, type, x, and y\"\n",
       "]\n",
       "\n",
       "layout: \"layout with fields height, hovermode, margin, scene, showlegend, and width\"\n",
       "\n"
      ]
     },
     "execution_count": 131,
     "metadata": {},
     "output_type": "execute_result"
    }
   ],
   "source": [
    "plotpersistencediagram_pjs(PH,dim=1)\n",
    "# x -> birth time\n",
    "# y -> death time\n",
    "# ezplot_pjs(POINTCLOUD)"
   ]
  },
  {
   "cell_type": "code",
   "execution_count": null,
   "metadata": {},
   "outputs": [
    {
     "data": {
      "application/vnd.plotly.v1+json": {
       "data": [
        {
         "autocolorscale": false,
         "marker": {
          "cmax": 1,
          "cmin": 0,
          "color": [
           0.5,
           0,
           1,
           0.5
          ],
          "colorscale": "Jet",
          "line": {
           "color": [
            0,
            0.49999999999999994,
            0.49999999999999994,
            1
           ],
           "colorscale": "Jet",
           "width": 2
          },
          "opacity": 1,
          "size": 5,
          "symbol": "circle"
         },
         "mode": "markers+text",
         "text": [
          "4",
          "3",
          "2",
          "1"
         ],
         "type": "scatter",
         "x": [
          1,
          1,
          0,
          0
         ],
         "y": [
          1,
          0,
          1,
          0
         ]
        },
        {
         "autocolorscale": false,
         "marker": {
          "color": "rgb(31,119,180)",
          "line": {
           "color": "rgb(31,119,180)"
          },
          "opacity": 0.5,
          "size": 5,
          "symbol": "circle"
         },
         "mode": "markers",
         "text": [
          "5",
          "6"
         ],
         "type": "scatter",
         "x": [
          2,
          4
         ],
         "y": [
          1,
          1
         ]
        },
        {
         "line": {
          "color": "#1f77b4",
          "width": 1.5
         },
         "mode": "lines",
         "name": "Dim 1 Faces",
         "type": "scatter",
         "x": [
          0,
          0
         ],
         "y": [
          0,
          1
         ]
        },
        {
         "line": {
          "color": "#1f77b4",
          "width": 1.5
         },
         "mode": "lines",
         "name": "edge (1,3)",
         "showlegend": false,
         "type": "scatter",
         "x": [
          0,
          1
         ],
         "y": [
          0,
          0
         ]
        },
        {
         "line": {
          "color": "#1f77b4",
          "width": 1.5
         },
         "mode": "lines",
         "name": "edge (2,4)",
         "showlegend": false,
         "type": "scatter",
         "x": [
          0,
          1
         ],
         "y": [
          1,
          1
         ]
        },
        {
         "line": {
          "color": "#1f77b4",
          "width": 1.5
         },
         "mode": "lines",
         "name": "edge (3,4)",
         "showlegend": false,
         "type": "scatter",
         "x": [
          1,
          1
         ],
         "y": [
          0,
          1
         ]
        }
       ],
       "frames": [],
       "layout": {
        "height": 800,
        "hovermode": "closest",
        "margin": {
         "b": 50,
         "l": 50,
         "r": 50,
         "t": 50
        },
        "scene": {
         "aspectmode": "manual",
         "aspectratio": {
          "x": 1,
          "y": 0.25
         }
        },
        "showlegend": false,
        "width": 1000
       }
      },
      "application/vnd.webio.node+json": {
       "children": [
        {
         "children": [],
         "instanceArgs": {
          "namespace": "html",
          "tag": "div"
         },
         "nodeType": "DOM",
         "props": {
          "id": "plot-a40e6cfa-ed41-4150-b956-9596e0402e56"
         },
         "type": "node"
        }
       ],
       "instanceArgs": {
        "handlers": {
         "__get_gd_contents": [
          "(function (prop){prop==\"data\" ? (WebIO.setval({\"name\":\"__gd_contents\",\"scope\":\"18099720737945854224\",\"id\":\"8884609441200560273\",\"type\":\"observable\"},this.plotElem.data)) : undefined; return prop==\"layout\" ? (WebIO.setval({\"name\":\"__gd_contents\",\"scope\":\"18099720737945854224\",\"id\":\"8884609441200560273\",\"type\":\"observable\"},this.plotElem.layout)) : undefined})"
         ],
         "_commands": [
          "(function (args){var fn=args.shift(); var elem=this.plotElem; var Plotly=this.Plotly; args.unshift(elem); return Plotly[fn].apply(this,args)})"
         ],
         "_downloadImage": [
          "(function (options){return this.Plotly.downloadImage(this.plotElem,options)})"
         ],
         "_toImage": [
          "(function (options){return this.Plotly.toImage(this.plotElem,options).then((function (data){return WebIO.setval({\"name\":\"image\",\"scope\":\"18099720737945854224\",\"id\":\"12702277650439060945\",\"type\":\"observable\"},data)}))})"
         ]
        },
        "id": "18099720737945854224",
        "imports": {
         "data": [
          {
           "name": "Plotly",
           "type": "js",
           "url": "/assetserver/0011d14de576c55f77111628d5a39fcc5762f320-plotly.min.js"
          },
          {
           "name": null,
           "type": "js",
           "url": "/assetserver/52365f0a3f606733873c2a55bbe1584aba3b706c-plotly_webio.bundle.js"
          }
         ],
         "type": "async_block"
        },
        "mount_callbacks": [
         "function () {\n    var handler = ((function (Plotly,PlotlyWebIO){PlotlyWebIO.init(WebIO); var gd=this.dom.querySelector(\"#plot-a40e6cfa-ed41-4150-b956-9596e0402e56\"); this.plotElem=gd; this.Plotly=Plotly; (window.Blink!==undefined) ? (gd.style.width=\"100%\", gd.style.height=\"100vh\", gd.style.marginLeft=\"0%\", gd.style.marginTop=\"0vh\") : undefined; window.onresize=(function (){return Plotly.Plots.resize(gd)}); Plotly.newPlot(gd,[{\"marker\":{\"symbol\":\"circle\",\"color\":[0.5,0.0,1.0,0.5],\"line\":{\"color\":[0.0,0.49999999999999994,0.49999999999999994,1.0],\"colorscale\":\"Jet\",\"width\":2},\"cmin\":0,\"opacity\":1,\"size\":5,\"colorscale\":\"Jet\",\"cmax\":1},\"mode\":\"markers+text\",\"y\":[1.0,0.0,1.0,0.0],\"type\":\"scatter\",\"autocolorscale\":false,\"text\":[\"4\",\"3\",\"2\",\"1\"],\"x\":[1.0,1.0,0.0,0.0]},{\"marker\":{\"symbol\":\"circle\",\"color\":\"rgb(31,119,180)\",\"line\":{\"color\":\"rgb(31,119,180)\"},\"opacity\":0.5,\"size\":5},\"mode\":\"markers\",\"y\":[1.0,1.0],\"type\":\"scatter\",\"autocolorscale\":false,\"text\":[\"5\",\"6\"],\"x\":[2.0,4.0]},{\"mode\":\"lines\",\"line\":{\"color\":\"#1f77b4\",\"width\":1.5},\"y\":[0.0,1.0],\"type\":\"scatter\",\"name\":\"Dim 1 Faces\",\"x\":[0.0,0.0]},{\"showlegend\":false,\"mode\":\"lines\",\"line\":{\"color\":\"#1f77b4\",\"width\":1.5},\"y\":[0.0,0.0],\"type\":\"scatter\",\"name\":\"edge (1,3)\",\"x\":[0.0,1.0]},{\"showlegend\":false,\"mode\":\"lines\",\"line\":{\"color\":\"#1f77b4\",\"width\":1.5},\"y\":[1.0,1.0],\"type\":\"scatter\",\"name\":\"edge (2,4)\",\"x\":[0.0,1.0]},{\"showlegend\":false,\"mode\":\"lines\",\"line\":{\"color\":\"#1f77b4\",\"width\":1.5},\"y\":[0.0,1.0],\"type\":\"scatter\",\"name\":\"edge (3,4)\",\"x\":[1.0,1.0]}],{\"showlegend\":false,\"hovermode\":\"closest\",\"height\":800,\"margin\":{\"l\":50,\"b\":50,\"r\":50,\"t\":50},\"scene\":{\"aspectratio\":{\"y\":0.25,\"x\":1.0},\"aspectmode\":\"manual\"},\"width\":1000},{}); gd.on(\"plotly_hover\",(function (data){var filtered_data=WebIO.PlotlyCommands.filterEventData(gd,data,\"hover\"); return !(filtered_data.isnil) ? (WebIO.setval({\"name\":\"hover\",\"scope\":\"18099720737945854224\",\"id\":\"13510170978549376552\",\"type\":\"observable\"},filtered_data.out)) : undefined})); gd.on(\"plotly_unhover\",(function (){return WebIO.setval({\"name\":\"hover\",\"scope\":\"18099720737945854224\",\"id\":\"13510170978549376552\",\"type\":\"observable\"},{})})); gd.on(\"plotly_selected\",(function (data){var filtered_data=WebIO.PlotlyCommands.filterEventData(gd,data,\"selected\"); return !(filtered_data.isnil) ? (WebIO.setval({\"name\":\"selected\",\"scope\":\"18099720737945854224\",\"id\":\"8327604403009867850\",\"type\":\"observable\"},filtered_data.out)) : undefined})); gd.on(\"plotly_deselect\",(function (){return WebIO.setval({\"name\":\"selected\",\"scope\":\"18099720737945854224\",\"id\":\"8327604403009867850\",\"type\":\"observable\"},{})})); gd.on(\"plotly_relayout\",(function (data){var filtered_data=WebIO.PlotlyCommands.filterEventData(gd,data,\"relayout\"); return !(filtered_data.isnil) ? (WebIO.setval({\"name\":\"relayout\",\"scope\":\"18099720737945854224\",\"id\":\"9009427017003595482\",\"type\":\"observable\"},filtered_data.out)) : undefined})); return gd.on(\"plotly_click\",(function (data){var filtered_data=WebIO.PlotlyCommands.filterEventData(gd,data,\"click\"); return !(filtered_data.isnil) ? (WebIO.setval({\"name\":\"click\",\"scope\":\"18099720737945854224\",\"id\":\"7399113319499201429\",\"type\":\"observable\"},filtered_data.out)) : undefined}))}));\n    (WebIO.importBlock({\"data\":[{\"name\":\"Plotly\",\"type\":\"js\",\"url\":\"/assetserver/0011d14de576c55f77111628d5a39fcc5762f320-plotly.min.js\"},{\"name\":null,\"type\":\"js\",\"url\":\"/assetserver/52365f0a3f606733873c2a55bbe1584aba3b706c-plotly_webio.bundle.js\"}],\"type\":\"async_block\"})).then((imports) => handler.apply(this, imports));\n}\n"
        ],
        "observables": {
         "__gd_contents": {
          "id": "8884609441200560273",
          "sync": false,
          "value": {}
         },
         "__get_gd_contents": {
          "id": "8202687957059634605",
          "sync": false,
          "value": ""
         },
         "_commands": {
          "id": "5081686999304893366",
          "sync": false,
          "value": []
         },
         "_downloadImage": {
          "id": "10487440874027624257",
          "sync": false,
          "value": {}
         },
         "_toImage": {
          "id": "14296393565973800206",
          "sync": false,
          "value": {}
         },
         "click": {
          "id": "7399113319499201429",
          "sync": false,
          "value": {}
         },
         "hover": {
          "id": "13510170978549376552",
          "sync": false,
          "value": {}
         },
         "image": {
          "id": "12702277650439060945",
          "sync": true,
          "value": ""
         },
         "relayout": {
          "id": "9009427017003595482",
          "sync": false,
          "value": {}
         },
         "selected": {
          "id": "8327604403009867850",
          "sync": false,
          "value": {}
         }
        },
        "systemjs_options": null
       },
       "nodeType": "Scope",
       "props": {},
       "type": "node"
      },
      "image/png": "[encoded data removed]",
      "image/svg+xml": [
       "<svg class=\"main-svg\" xmlns=\"http://www.w3.org/2000/svg\" xmlns:xlink=\"http://www.w3.org/1999/xlink\" width=\"700\" height=\"500\" style=\"\" viewBox=\"0 0 700 500\"><rect x=\"0\" y=\"0\" width=\"700\" height=\"500\" style=\"fill: rgb(255, 255, 255); fill-opacity: 1;\"/><defs id=\"defs-03e5e4\"><g class=\"clips\"><clipPath id=\"clip03e5e4xyplot\" class=\"plotclip\"><rect width=\"600\" height=\"400\"/></clipPath><clipPath class=\"axesclip\" id=\"clip03e5e4x\"><rect x=\"50\" y=\"0\" width=\"600\" height=\"500\"/></clipPath><clipPath class=\"axesclip\" id=\"clip03e5e4y\"><rect x=\"0\" y=\"50\" width=\"700\" height=\"400\"/></clipPath><clipPath class=\"axesclip\" id=\"clip03e5e4xy\"><rect x=\"50\" y=\"50\" width=\"600\" height=\"400\"/></clipPath></g><g class=\"gradients\"/></defs><g class=\"bglayer\"/><g class=\"layer-below\"><g class=\"imagelayer\"/><g class=\"shapelayer\"/></g><g class=\"cartesianlayer\"><g class=\"subplot xy\"><g class=\"layer-subplot\"><g class=\"shapelayer\"/><g class=\"imagelayer\"/></g><g class=\"gridlayer\"><g class=\"x\"><path class=\"xgrid crisp\" transform=\"translate(216.56,0)\" d=\"M0,50v400\" style=\"stroke: rgb(238, 238, 238); stroke-opacity: 1; stroke-width: 1px;\"/><path class=\"xgrid crisp\" transform=\"translate(350,0)\" d=\"M0,50v400\" style=\"stroke: rgb(238, 238, 238); stroke-opacity: 1; stroke-width: 1px;\"/><path class=\"xgrid crisp\" transform=\"translate(483.44,0)\" d=\"M0,50v400\" style=\"stroke: rgb(238, 238, 238); stroke-opacity: 1; stroke-width: 1px;\"/><path class=\"xgrid crisp\" transform=\"translate(616.88,0)\" d=\"M0,50v400\" style=\"stroke: rgb(238, 238, 238); stroke-opacity: 1; stroke-width: 1px;\"/></g><g class=\"y\"><path class=\"ygrid crisp\" transform=\"translate(0,356.13)\" d=\"M50,0h600\" style=\"stroke: rgb(238, 238, 238); stroke-opacity: 1; stroke-width: 1px;\"/><path class=\"ygrid crisp\" transform=\"translate(0,285.38)\" d=\"M50,0h600\" style=\"stroke: rgb(238, 238, 238); stroke-opacity: 1; stroke-width: 1px;\"/><path class=\"ygrid crisp\" transform=\"translate(0,214.63)\" d=\"M50,0h600\" style=\"stroke: rgb(238, 238, 238); stroke-opacity: 1; stroke-width: 1px;\"/><path class=\"ygrid crisp\" transform=\"translate(0,143.88)\" d=\"M50,0h600\" style=\"stroke: rgb(238, 238, 238); stroke-opacity: 1; stroke-width: 1px;\"/><path class=\"ygrid crisp\" transform=\"translate(0,73.13)\" d=\"M50,0h600\" style=\"stroke: rgb(238, 238, 238); stroke-opacity: 1; stroke-width: 1px;\"/></g></g><g class=\"zerolinelayer\"><path class=\"xzl zl crisp\" transform=\"translate(83.13,0)\" d=\"M0,50v400\" style=\"stroke: rgb(68, 68, 68); stroke-opacity: 1; stroke-width: 1px;\"/><path class=\"yzl zl crisp\" transform=\"translate(0,426.88)\" d=\"M50,0h600\" style=\"stroke: rgb(68, 68, 68); stroke-opacity: 1; stroke-width: 1px;\"/></g><path class=\"xlines-below\"/><path class=\"ylines-below\"/><g class=\"overlines-below\"/><g class=\"xaxislayer-below\"/><g class=\"yaxislayer-below\"/><g class=\"overaxes-below\"/><g class=\"plot\" transform=\"translate(50,50)\" clip-path=\"url('#clip03e5e4xyplot')\"><g class=\"scatterlayer mlayer\"><g class=\"trace scatter trace17bbd0\" style=\"stroke-miterlimit: 2; opacity: 1;\"><g class=\"fills\"/><g class=\"errorbars\"/><g class=\"lines\"/><g class=\"points\"><path class=\"point\" transform=\"translate(166.56,23.13)\" d=\"M2.5,0A2.5,2.5 0 1,1 0,-2.5A2.5,2.5 0 0,1 2.5,0Z\" style=\"opacity: 1; stroke-width: 2px; fill: rgb(130, 255, 128); fill-opacity: 1; stroke: rgb(0, 0, 131); stroke-opacity: 1;\"/><path class=\"point\" transform=\"translate(166.56,376.88)\" d=\"M2.5,0A2.5,2.5 0 1,1 0,-2.5A2.5,2.5 0 0,1 2.5,0Z\" style=\"opacity: 1; stroke-width: 2px; fill: rgb(0, 0, 131); fill-opacity: 1; stroke: rgb(130, 255, 128); stroke-opacity: 1;\"/><path class=\"point\" transform=\"translate(33.13,23.13)\" d=\"M2.5,0A2.5,2.5 0 1,1 0,-2.5A2.5,2.5 0 0,1 2.5,0Z\" style=\"opacity: 1; stroke-width: 2px; fill: rgb(128, 0, 0); fill-opacity: 1; stroke: rgb(130, 255, 128); stroke-opacity: 1;\"/><path class=\"point\" transform=\"translate(33.13,376.88)\" d=\"M2.5,0A2.5,2.5 0 1,1 0,-2.5A2.5,2.5 0 0,1 2.5,0Z\" style=\"opacity: 1; stroke-width: 2px; fill: rgb(130, 255, 128); fill-opacity: 1; stroke: rgb(128, 0, 0); stroke-opacity: 1;\"/></g><g class=\"text\"><g class=\"textpoint\" transform=\"translate(0,3)\"><text x=\"166.56\" y=\"23.13\" text-anchor=\"middle\" style=\"font-family: 'Open Sans', verdana, arial, sans-serif; font-size: 12px; fill: rgb(68, 68, 68); fill-opacity: 1; white-space: pre;\">4</text></g><g class=\"textpoint\" transform=\"translate(0,3)\"><text x=\"166.56\" y=\"376.88\" text-anchor=\"middle\" style=\"font-family: 'Open Sans', verdana, arial, sans-serif; font-size: 12px; fill: rgb(68, 68, 68); fill-opacity: 1; white-space: pre;\">3</text></g><g class=\"textpoint\" transform=\"translate(0,3)\"><text x=\"33.13\" y=\"23.13\" text-anchor=\"middle\" style=\"font-family: 'Open Sans', verdana, arial, sans-serif; font-size: 12px; fill: rgb(68, 68, 68); fill-opacity: 1; white-space: pre;\">2</text></g><g class=\"textpoint\" transform=\"translate(0,3)\"><text x=\"33.13\" y=\"376.88\" text-anchor=\"middle\" style=\"font-family: 'Open Sans', verdana, arial, sans-serif; font-size: 12px; fill: rgb(68, 68, 68); fill-opacity: 1; white-space: pre;\">1</text></g></g></g><g class=\"trace scatter trace968b28\" style=\"stroke-miterlimit: 2; opacity: 1;\"><g class=\"fills\"/><g class=\"errorbars\"/><g class=\"lines\"/><g class=\"points\"><path class=\"point\" transform=\"translate(300,23.13)\" d=\"M2.5,0A2.5,2.5 0 1,1 0,-2.5A2.5,2.5 0 0,1 2.5,0Z\" style=\"opacity: 0.5; stroke-width: 0px; fill: rgb(31, 119, 180); fill-opacity: 1;\"/><path class=\"point\" transform=\"translate(566.88,23.13)\" d=\"M2.5,0A2.5,2.5 0 1,1 0,-2.5A2.5,2.5 0 0,1 2.5,0Z\" style=\"opacity: 0.5; stroke-width: 0px; fill: rgb(31, 119, 180); fill-opacity: 1;\"/></g><g class=\"text\"/></g><g class=\"trace scatter trace31fedc\" style=\"stroke-miterlimit: 2; opacity: 1;\"><g class=\"fills\"/><g class=\"errorbars\"/><g class=\"lines\"><path class=\"js-line\" d=\"M33.13,376.88L33.13,23.13\" style=\"vector-effect: non-scaling-stroke; fill: none; stroke: rgb(31, 119, 180); stroke-opacity: 1; stroke-width: 1.5px; opacity: 1;\"/></g><g class=\"points\"/><g class=\"text\"/></g><g class=\"trace scatter trace400fd4\" style=\"stroke-miterlimit: 2; opacity: 1;\"><g class=\"fills\"/><g class=\"errorbars\"/><g class=\"lines\"><path class=\"js-line\" d=\"M33.13,376.88L166.56,376.88\" style=\"vector-effect: non-scaling-stroke; fill: none; stroke: rgb(31, 119, 180); stroke-opacity: 1; stroke-width: 1.5px; opacity: 1;\"/></g><g class=\"points\"/><g class=\"text\"/></g><g class=\"trace scatter traceb745f8\" style=\"stroke-miterlimit: 2; opacity: 1;\"><g class=\"fills\"/><g class=\"errorbars\"/><g class=\"lines\"><path class=\"js-line\" d=\"M33.13,23.13L166.56,23.13\" style=\"vector-effect: non-scaling-stroke; fill: none; stroke: rgb(31, 119, 180); stroke-opacity: 1; stroke-width: 1.5px; opacity: 1;\"/></g><g class=\"points\"/><g class=\"text\"/></g><g class=\"trace scatter tracedc7ff5\" style=\"stroke-miterlimit: 2; opacity: 1;\"><g class=\"fills\"/><g class=\"errorbars\"/><g class=\"lines\"><path class=\"js-line\" d=\"M166.56,376.88L166.56,23.13\" style=\"vector-effect: non-scaling-stroke; fill: none; stroke: rgb(31, 119, 180); stroke-opacity: 1; stroke-width: 1.5px; opacity: 1;\"/></g><g class=\"points\"/><g class=\"text\"/></g></g></g><g class=\"overplot\"/><path class=\"xlines-above crisp\" d=\"M0,0\" style=\"fill: none;\"/><path class=\"ylines-above crisp\" d=\"M0,0\" style=\"fill: none;\"/><g class=\"overlines-above\"/><g class=\"xaxislayer-above\"><g class=\"xtick\"><text text-anchor=\"middle\" x=\"0\" y=\"463\" transform=\"translate(83.13,0)\" style=\"font-family: 'Open Sans', verdana, arial, sans-serif; font-size: 12px; fill: rgb(68, 68, 68); fill-opacity: 1; white-space: pre;\">0</text></g><g class=\"xtick\"><text text-anchor=\"middle\" x=\"0\" y=\"463\" transform=\"translate(216.56,0)\" style=\"font-family: 'Open Sans', verdana, arial, sans-serif; font-size: 12px; fill: rgb(68, 68, 68); fill-opacity: 1; white-space: pre;\">1</text></g><g class=\"xtick\"><text text-anchor=\"middle\" x=\"0\" y=\"463\" transform=\"translate(350,0)\" style=\"font-family: 'Open Sans', verdana, arial, sans-serif; font-size: 12px; fill: rgb(68, 68, 68); fill-opacity: 1; white-space: pre;\">2</text></g><g class=\"xtick\"><text text-anchor=\"middle\" x=\"0\" y=\"463\" transform=\"translate(483.44,0)\" style=\"font-family: 'Open Sans', verdana, arial, sans-serif; font-size: 12px; fill: rgb(68, 68, 68); fill-opacity: 1; white-space: pre;\">3</text></g><g class=\"xtick\"><text text-anchor=\"middle\" x=\"0\" y=\"463\" transform=\"translate(616.88,0)\" style=\"font-family: 'Open Sans', verdana, arial, sans-serif; font-size: 12px; fill: rgb(68, 68, 68); fill-opacity: 1; white-space: pre;\">4</text></g></g><g class=\"yaxislayer-above\"><g class=\"ytick\"><text text-anchor=\"end\" x=\"49\" y=\"4.199999999999999\" transform=\"translate(0,426.88)\" style=\"font-family: 'Open Sans', verdana, arial, sans-serif; font-size: 12px; fill: rgb(68, 68, 68); fill-opacity: 1; white-space: pre;\">0</text></g><g class=\"ytick\"><text text-anchor=\"end\" x=\"49\" y=\"4.199999999999999\" transform=\"translate(0,356.13)\" style=\"font-family: 'Open Sans', verdana, arial, sans-serif; font-size: 12px; fill: rgb(68, 68, 68); fill-opacity: 1; white-space: pre;\">0.2</text></g><g class=\"ytick\"><text text-anchor=\"end\" x=\"49\" y=\"4.199999999999999\" transform=\"translate(0,285.38)\" style=\"font-family: 'Open Sans', verdana, arial, sans-serif; font-size: 12px; fill: rgb(68, 68, 68); fill-opacity: 1; white-space: pre;\">0.4</text></g><g class=\"ytick\"><text text-anchor=\"end\" x=\"49\" y=\"4.199999999999999\" transform=\"translate(0,214.63)\" style=\"font-family: 'Open Sans', verdana, arial, sans-serif; font-size: 12px; fill: rgb(68, 68, 68); fill-opacity: 1; white-space: pre;\">0.6</text></g><g class=\"ytick\"><text text-anchor=\"end\" x=\"49\" y=\"4.199999999999999\" transform=\"translate(0,143.88)\" style=\"font-family: 'Open Sans', verdana, arial, sans-serif; font-size: 12px; fill: rgb(68, 68, 68); fill-opacity: 1; white-space: pre;\">0.8</text></g><g class=\"ytick\"><text text-anchor=\"end\" x=\"49\" y=\"4.199999999999999\" transform=\"translate(0,73.13)\" style=\"font-family: 'Open Sans', verdana, arial, sans-serif; font-size: 12px; fill: rgb(68, 68, 68); fill-opacity: 1; white-space: pre;\">1</text></g></g><g class=\"overaxes-above\"/></g></g><g class=\"polarlayer\"/><g class=\"ternarylayer\"/><g class=\"geolayer\"/><g class=\"funnelarealayer\"/><g class=\"pielayer\"/><g class=\"treemaplayer\"/><g class=\"sunburstlayer\"/><g class=\"glimages\"/><defs id=\"topdefs-03e5e4\"><g class=\"clips\"/></defs><g class=\"layer-above\"><g class=\"imagelayer\"/><g class=\"shapelayer\"/></g><g class=\"infolayer\"><g class=\"g-gtitle\"/><g class=\"g-xtitle\"/><g class=\"g-ytitle\"/></g></svg>"
      ],
      "text/html": [
       "<div\n",
       "    class=\"webio-mountpoint\"\n",
       "    data-webio-mountpoint=\"17660863400698773269\"\n",
       ">\n",
       "    <script>\n",
       "    (function(){\n",
       "    // Some integrations (namely, IJulia/Jupyter) use an alternate render pathway than\n",
       "    // just putting the html on the page. If WebIO isn't defined, then it's pretty likely\n",
       "    // that we're in one of those situations and the integration just isn't installed\n",
       "    // correctly.\n",
       "    if (typeof window.WebIO === \"undefined\") {\n",
       "        document\n",
       "            .querySelector('[data-webio-mountpoint=\"17660863400698773269\"]')\n",
       "            .innerHTML = (\n",
       "                '<div style=\"padding: 1em; background-color: #f8d6da; border: 1px solid #f5c6cb; font-weight: bold;\">' +\n",
       "                '<p><strong>WebIO not detected.</strong></p>' +\n",
       "                '<p>Please read ' +\n",
       "                '<a href=\"https://juliagizmos.github.io/WebIO.jl/latest/troubleshooting/not-detected/\" target=\"_blank\">the troubleshooting guide</a> ' +\n",
       "                'for more information on how to resolve this issue.</p>' +\n",
       "                '<p><a href=\"https://juliagizmos.github.io/WebIO.jl/latest/troubleshooting/not-detected/\" target=\"_blank\">https://juliagizmos.github.io/WebIO.jl/latest/troubleshooting/not-detected/</a></p>' +\n",
       "                '</div>'\n",
       "            );\n",
       "        return;\n",
       "    }\n",
       "    WebIO.mount(\n",
       "        document.querySelector('[data-webio-mountpoint=\"17660863400698773269\"]'),\n",
       "        {\"props\":{},\"nodeType\":\"Scope\",\"type\":\"node\",\"instanceArgs\":{\"imports\":{\"data\":[{\"name\":\"Plotly\",\"type\":\"js\",\"url\":\"\\/assetserver\\/0011d14de576c55f77111628d5a39fcc5762f320-plotly.min.js\"},{\"name\":null,\"type\":\"js\",\"url\":\"\\/assetserver\\/52365f0a3f606733873c2a55bbe1584aba3b706c-plotly_webio.bundle.js\"}],\"type\":\"async_block\"},\"id\":\"18099720737945854224\",\"handlers\":{\"_toImage\":[\"(function (options){return this.Plotly.toImage(this.plotElem,options).then((function (data){return WebIO.setval({\\\"name\\\":\\\"image\\\",\\\"scope\\\":\\\"18099720737945854224\\\",\\\"id\\\":\\\"12702277650439060945\\\",\\\"type\\\":\\\"observable\\\"},data)}))})\"],\"__get_gd_contents\":[\"(function (prop){prop==\\\"data\\\" ? (WebIO.setval({\\\"name\\\":\\\"__gd_contents\\\",\\\"scope\\\":\\\"18099720737945854224\\\",\\\"id\\\":\\\"8884609441200560273\\\",\\\"type\\\":\\\"observable\\\"},this.plotElem.data)) : undefined; return prop==\\\"layout\\\" ? (WebIO.setval({\\\"name\\\":\\\"__gd_contents\\\",\\\"scope\\\":\\\"18099720737945854224\\\",\\\"id\\\":\\\"8884609441200560273\\\",\\\"type\\\":\\\"observable\\\"},this.plotElem.layout)) : undefined})\"],\"_downloadImage\":[\"(function (options){return this.Plotly.downloadImage(this.plotElem,options)})\"],\"_commands\":[\"(function (args){var fn=args.shift(); var elem=this.plotElem; var Plotly=this.Plotly; args.unshift(elem); return Plotly[fn].apply(this,args)})\"]},\"systemjs_options\":null,\"mount_callbacks\":[\"function () {\\n    var handler = ((function (Plotly,PlotlyWebIO){PlotlyWebIO.init(WebIO); var gd=this.dom.querySelector(\\\"#plot-a40e6cfa-ed41-4150-b956-9596e0402e56\\\"); this.plotElem=gd; this.Plotly=Plotly; (window.Blink!==undefined) ? (gd.style.width=\\\"100%\\\", gd.style.height=\\\"100vh\\\", gd.style.marginLeft=\\\"0%\\\", gd.style.marginTop=\\\"0vh\\\") : undefined; window.onresize=(function (){return Plotly.Plots.resize(gd)}); Plotly.newPlot(gd,[{\\\"marker\\\":{\\\"symbol\\\":\\\"circle\\\",\\\"color\\\":[0.5,0.0,1.0,0.5],\\\"line\\\":{\\\"color\\\":[0.0,0.49999999999999994,0.49999999999999994,1.0],\\\"colorscale\\\":\\\"Jet\\\",\\\"width\\\":2},\\\"cmin\\\":0,\\\"opacity\\\":1,\\\"size\\\":5,\\\"colorscale\\\":\\\"Jet\\\",\\\"cmax\\\":1},\\\"mode\\\":\\\"markers+text\\\",\\\"y\\\":[1.0,0.0,1.0,0.0],\\\"type\\\":\\\"scatter\\\",\\\"autocolorscale\\\":false,\\\"text\\\":[\\\"4\\\",\\\"3\\\",\\\"2\\\",\\\"1\\\"],\\\"x\\\":[1.0,1.0,0.0,0.0]},{\\\"marker\\\":{\\\"symbol\\\":\\\"circle\\\",\\\"color\\\":\\\"rgb(31,119,180)\\\",\\\"line\\\":{\\\"color\\\":\\\"rgb(31,119,180)\\\"},\\\"opacity\\\":0.5,\\\"size\\\":5},\\\"mode\\\":\\\"markers\\\",\\\"y\\\":[1.0,1.0],\\\"type\\\":\\\"scatter\\\",\\\"autocolorscale\\\":false,\\\"text\\\":[\\\"5\\\",\\\"6\\\"],\\\"x\\\":[2.0,4.0]},{\\\"mode\\\":\\\"lines\\\",\\\"line\\\":{\\\"color\\\":\\\"#1f77b4\\\",\\\"width\\\":1.5},\\\"y\\\":[0.0,1.0],\\\"type\\\":\\\"scatter\\\",\\\"name\\\":\\\"Dim 1 Faces\\\",\\\"x\\\":[0.0,0.0]},{\\\"showlegend\\\":false,\\\"mode\\\":\\\"lines\\\",\\\"line\\\":{\\\"color\\\":\\\"#1f77b4\\\",\\\"width\\\":1.5},\\\"y\\\":[0.0,0.0],\\\"type\\\":\\\"scatter\\\",\\\"name\\\":\\\"edge (1,3)\\\",\\\"x\\\":[0.0,1.0]},{\\\"showlegend\\\":false,\\\"mode\\\":\\\"lines\\\",\\\"line\\\":{\\\"color\\\":\\\"#1f77b4\\\",\\\"width\\\":1.5},\\\"y\\\":[1.0,1.0],\\\"type\\\":\\\"scatter\\\",\\\"name\\\":\\\"edge (2,4)\\\",\\\"x\\\":[0.0,1.0]},{\\\"showlegend\\\":false,\\\"mode\\\":\\\"lines\\\",\\\"line\\\":{\\\"color\\\":\\\"#1f77b4\\\",\\\"width\\\":1.5},\\\"y\\\":[0.0,1.0],\\\"type\\\":\\\"scatter\\\",\\\"name\\\":\\\"edge (3,4)\\\",\\\"x\\\":[1.0,1.0]}],{\\\"showlegend\\\":false,\\\"hovermode\\\":\\\"closest\\\",\\\"height\\\":800,\\\"margin\\\":{\\\"l\\\":50,\\\"b\\\":50,\\\"r\\\":50,\\\"t\\\":50},\\\"scene\\\":{\\\"aspectratio\\\":{\\\"y\\\":0.25,\\\"x\\\":1.0},\\\"aspectmode\\\":\\\"manual\\\"},\\\"width\\\":1000},{}); gd.on(\\\"plotly_hover\\\",(function (data){var filtered_data=WebIO.PlotlyCommands.filterEventData(gd,data,\\\"hover\\\"); return !(filtered_data.isnil) ? (WebIO.setval({\\\"name\\\":\\\"hover\\\",\\\"scope\\\":\\\"18099720737945854224\\\",\\\"id\\\":\\\"13510170978549376552\\\",\\\"type\\\":\\\"observable\\\"},filtered_data.out)) : undefined})); gd.on(\\\"plotly_unhover\\\",(function (){return WebIO.setval({\\\"name\\\":\\\"hover\\\",\\\"scope\\\":\\\"18099720737945854224\\\",\\\"id\\\":\\\"13510170978549376552\\\",\\\"type\\\":\\\"observable\\\"},{})})); gd.on(\\\"plotly_selected\\\",(function (data){var filtered_data=WebIO.PlotlyCommands.filterEventData(gd,data,\\\"selected\\\"); return !(filtered_data.isnil) ? (WebIO.setval({\\\"name\\\":\\\"selected\\\",\\\"scope\\\":\\\"18099720737945854224\\\",\\\"id\\\":\\\"8327604403009867850\\\",\\\"type\\\":\\\"observable\\\"},filtered_data.out)) : undefined})); gd.on(\\\"plotly_deselect\\\",(function (){return WebIO.setval({\\\"name\\\":\\\"selected\\\",\\\"scope\\\":\\\"18099720737945854224\\\",\\\"id\\\":\\\"8327604403009867850\\\",\\\"type\\\":\\\"observable\\\"},{})})); gd.on(\\\"plotly_relayout\\\",(function (data){var filtered_data=WebIO.PlotlyCommands.filterEventData(gd,data,\\\"relayout\\\"); return !(filtered_data.isnil) ? (WebIO.setval({\\\"name\\\":\\\"relayout\\\",\\\"scope\\\":\\\"18099720737945854224\\\",\\\"id\\\":\\\"9009427017003595482\\\",\\\"type\\\":\\\"observable\\\"},filtered_data.out)) : undefined})); return gd.on(\\\"plotly_click\\\",(function (data){var filtered_data=WebIO.PlotlyCommands.filterEventData(gd,data,\\\"click\\\"); return !(filtered_data.isnil) ? (WebIO.setval({\\\"name\\\":\\\"click\\\",\\\"scope\\\":\\\"18099720737945854224\\\",\\\"id\\\":\\\"7399113319499201429\\\",\\\"type\\\":\\\"observable\\\"},filtered_data.out)) : undefined}))}));\\n    (WebIO.importBlock({\\\"data\\\":[{\\\"name\\\":\\\"Plotly\\\",\\\"type\\\":\\\"js\\\",\\\"url\\\":\\\"\\/assetserver\\/0011d14de576c55f77111628d5a39fcc5762f320-plotly.min.js\\\"},{\\\"name\\\":null,\\\"type\\\":\\\"js\\\",\\\"url\\\":\\\"\\/assetserver\\/52365f0a3f606733873c2a55bbe1584aba3b706c-plotly_webio.bundle.js\\\"}],\\\"type\\\":\\\"async_block\\\"})).then((imports) => handler.apply(this, imports));\\n}\\n\"],\"observables\":{\"_toImage\":{\"sync\":false,\"id\":\"14296393565973800206\",\"value\":{}},\"hover\":{\"sync\":false,\"id\":\"13510170978549376552\",\"value\":{}},\"selected\":{\"sync\":false,\"id\":\"8327604403009867850\",\"value\":{}},\"__gd_contents\":{\"sync\":false,\"id\":\"8884609441200560273\",\"value\":{}},\"click\":{\"sync\":false,\"id\":\"7399113319499201429\",\"value\":{}},\"image\":{\"sync\":true,\"id\":\"12702277650439060945\",\"value\":\"\"},\"__get_gd_contents\":{\"sync\":false,\"id\":\"8202687957059634605\",\"value\":\"\"},\"_downloadImage\":{\"sync\":false,\"id\":\"10487440874027624257\",\"value\":{}},\"relayout\":{\"sync\":false,\"id\":\"9009427017003595482\",\"value\":{}},\"_commands\":{\"sync\":false,\"id\":\"5081686999304893366\",\"value\":[]}}},\"children\":[{\"props\":{\"id\":\"plot-a40e6cfa-ed41-4150-b956-9596e0402e56\"},\"nodeType\":\"DOM\",\"type\":\"node\",\"instanceArgs\":{\"namespace\":\"html\",\"tag\":\"div\"},\"children\":[]}]},\n",
       "        window,\n",
       "    );\n",
       "    })()\n",
       "    </script>\n",
       "</div>\n"
      ],
      "text/plain": [
       "data: [\n",
       "  \"scatter with fields autocolorscale, marker, mode, text, type, x, and y\",\n",
       "  \"scatter with fields autocolorscale, marker, mode, text, type, x, and y\",\n",
       "  \"scatter with fields line, mode, name, type, x, and y\",\n",
       "  \"scatter with fields line, mode, name, showlegend, type, x, and y\",\n",
       "  \"scatter with fields line, mode, name, showlegend, type, x, and y\",\n",
       "  \"scatter with fields line, mode, name, showlegend, type, x, and y\"\n",
       "]\n",
       "\n",
       "layout: \"layout with fields height, hovermode, margin, scene, showlegend, and width\"\n",
       "\n"
      ]
     },
     "execution_count": 140,
     "metadata": {},
     "output_type": "execute_result"
    }
   ],
   "source": [
    "plotclassrep_pjs(PH,dim=1,class=1)\n",
    "# A Cycle should be drawn"
   ]
  }
 ],
 "metadata": {
  "kernelspec": {
   "display_name": "Julia 1.6 1.6.0",
   "language": "julia",
   "name": "julia-1.6-1.6"
  },
  "language_info": {
   "file_extension": ".jl",
   "mimetype": "application/julia",
   "name": "julia",
   "version": "1.6.0"
  }
 },
 "nbformat": 4,
 "nbformat_minor": 2
}
