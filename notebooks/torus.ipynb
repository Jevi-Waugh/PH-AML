{
 "cells": [
  {
   "cell_type": "code",
   "execution_count": 2,
   "metadata": {},
   "outputs": [
    {
     "name": "stderr",
     "output_type": "stream",
     "text": [
      "\u001b[36m\u001b[1m[ \u001b[22m\u001b[39m\u001b[36m\u001b[1mInfo: \u001b[22m\u001b[39mPrecompiling Eirene [9c0f25c4-2ca1-5870-89f6-52640788da1d]\n",
      "\u001b[33m\u001b[1m┌ \u001b[22m\u001b[39m\u001b[33m\u001b[1mWarning: \u001b[22m\u001b[39mPackage Eirene does not have SharedArrays in its dependencies:\n",
      "\u001b[33m\u001b[1m│ \u001b[22m\u001b[39m- If you have Eirene checked out for development and have\n",
      "\u001b[33m\u001b[1m│ \u001b[22m\u001b[39m  added SharedArrays as a dependency but haven't updated your primary\n",
      "\u001b[33m\u001b[1m│ \u001b[22m\u001b[39m  environment's manifest file, try `Pkg.resolve()`.\n",
      "\u001b[33m\u001b[1m│ \u001b[22m\u001b[39m- Otherwise you may need to report an issue with Eirene\n",
      "\u001b[33m\u001b[1m└ \u001b[22m\u001b[39mLoading SharedArrays into Eirene from project dependency, future warnings for Eirene are suppressed.\n"
     ]
    },
    {
     "data": {
      "application/vnd.webio.node+json": {
       "children": [],
       "instanceArgs": {
        "namespace": "html",
        "tag": "div"
       },
       "nodeType": "DOM",
       "props": {},
       "type": "node"
      },
      "text/html": [
       "<div style=\"padding: 1em; background-color: #f8d6da; border: 1px solid #f5c6cb; font-weight: bold;\">\n",
       "<p>The WebIO Jupyter extension was not detected. See the\n",
       "<a href=\"https://juliagizmos.github.io/WebIO.jl/latest/providers/ijulia/\" target=\"_blank\">\n",
       "    WebIO Jupyter integration documentation\n",
       "</a>\n",
       "for more information.\n",
       "</div>\n"
      ],
      "text/plain": [
       "WebIO._IJuliaInit()"
      ]
     },
     "metadata": {},
     "output_type": "display_data"
    }
   ],
   "source": [
    "using Eirene\n",
    "using DelimitedFiles\n",
    "using PlotlyJS"
   ]
  },
  {
   "cell_type": "code",
   "execution_count": 12,
   "metadata": {},
   "outputs": [
    {
     "data": {
      "text/plain": [
       "3×500 Matrix{Float64}:\n",
       "  2.12046    1.00014    0.397032  -0.838947  …  2.50589    1.4491   -2.19287\n",
       "  1.1083    -1.00439   -2.25565    0.654614     1.23087    1.19051   0.036944\n",
       " -0.919697   0.812769   0.956926  -0.352319     0.610697  -0.99221  -0.981163"
      ]
     },
     "execution_count": 12,
     "metadata": {},
     "output_type": "execute_result"
    }
   ],
   "source": [
    "\n",
    "file = \"torus_points_2.csv\"\n",
    "folder = \"C:/Users/jevin/Documents/Documents/Education/Self-Learning/Persistant Homology/PHAML/data/torus/\"\n",
    "file_path = folder * file\n",
    "sphere_pc = readdlm(file_path, ',')"
   ]
  },
  {
   "cell_type": "code",
   "execution_count": 13,
   "metadata": {},
   "outputs": [
    {
     "data": {
      "text/plain": [
       "Dict{String, Any} with 12 entries:\n",
       "  \"symmat\"   => [99286 99031 … 4605 3699; 99031 99286 … 2160 1568; … ; 4605 216…\n",
       "  \"maxnz\"    => [0, 18125, 1435181, 1, 0]\n",
       "  \"firstv\"   => [[1, 2, 3, 4, 5, 6, 7, 8, 9, 10  …  492, 493, 494, 495, 496, 49…\n",
       "  \"cyclerep\" => [Vector{Int64}[], [[1, 2], [3, 4], [29, 27], [18, 21], [17, 20]…\n",
       "  \"phi\"      => [Int64[], [1, 996, 12574, 8308, 7828, 18128, 17697, 18122, 4106…\n",
       "  \"plo\"      => [Int64[], [2, 4, 27, 21, 20, 49, 38, 43, 106, 475  …  44, 341, …\n",
       "  \"ocg2rad\"  => [3.97778, 3.97777, 3.9777, 3.97766, 3.97765, 3.97764, 3.97761, …\n",
       "  \"farfaces\" => [[1, 2, 3, 4, 5, 6, 7, 8, 9, 10  …  491, 492, 493, 494, 495, 49…\n",
       "  \"nvl2ovl\"  => [408, 452, 391, 335, 479, 199, 433, 442, 205, 461  …  251, 340,…\n",
       "  \"input\"    => Dict{String, Any}(\"genera\"=>[2.12046 1.00014 … 1.4491 -2.19287;…\n",
       "  \"tid\"      => [Int64[], [2, 4, 27, 21, 20, 49, 38, 43, 106, 475  …  341, 497,…\n",
       "  \"grain\"    => [[99286, 99286, 99286, 99286, 99286, 99286, 99286, 99286, 99286…"
      ]
     },
     "execution_count": 13,
     "metadata": {},
     "output_type": "execute_result"
    }
   ],
   "source": [
    "PH = eirene(sphere_pc, maxdim=1, model=\"pc\")\n"
   ]
  },
  {
   "cell_type": "code",
   "execution_count": 14,
   "metadata": {},
   "outputs": [
    {
     "data": {
      "application/vnd.plotly.v1+json": {
       "data": [
        {
         "line": {
          "color": "#66BAE7",
          "width": 2
         },
         "mode": "lines",
         "showlegend": false,
         "type": "scatter",
         "x": [
          1.101524407386873,
          1.1165679914062552
         ],
         "y": [
          142,
          142
         ]
        },
        {
         "line": {
          "color": "#66BAE7",
          "width": 2
         },
         "mode": "lines",
         "showlegend": false,
         "type": "scatter",
         "x": [
          0.9568046803454707,
          1.1136356088577644
         ],
         "y": [
          141,
          141
         ]
        },
        {
         "line": {
          "color": "#66BAE7",
          "width": 2
         },
         "mode": "lines",
         "showlegend": false,
         "type": "scatter",
         "x": [
          0.9324696628957972,
          1.0951715008718956
         ],
         "y": [
          140,
          140
         ]
        },
        {
         "line": {
          "color": "#66BAE7",
          "width": 2
         },
         "mode": "lines",
         "showlegend": false,
         "type": "scatter",
         "x": [
          0.8749083472753009,
          0.8872482364000519
         ],
         "y": [
          139,
          139
         ]
        },
        {
         "line": {
          "color": "#66BAE7",
          "width": 2
         },
         "mode": "lines",
         "showlegend": false,
         "type": "scatter",
         "x": [
          0.8724593975847815,
          1.0111085179094286
         ],
         "y": [
          138,
          138
         ]
        },
        {
         "line": {
          "color": "#66BAE7",
          "width": 2
         },
         "mode": "lines",
         "showlegend": false,
         "type": "scatter",
         "x": [
          0.8527003293971439,
          0.928670626659958
         ],
         "y": [
          137,
          137
         ]
        },
        {
         "line": {
          "color": "#66BAE7",
          "width": 2
         },
         "mode": "lines",
         "showlegend": false,
         "type": "scatter",
         "x": [
          0.8157438650103369,
          0.8240826401890763
         ],
         "y": [
          136,
          136
         ]
        },
        {
         "line": {
          "color": "#66BAE7",
          "width": 2
         },
         "mode": "lines",
         "showlegend": false,
         "type": "scatter",
         "x": [
          0.7820865094540368,
          0.7864028322265879
         ],
         "y": [
          135,
          135
         ]
        },
        {
         "line": {
          "color": "#66BAE7",
          "width": 2
         },
         "mode": "lines",
         "showlegend": false,
         "type": "scatter",
         "x": [
          0.773185405990696,
          0.9042059411516835
         ],
         "y": [
          134,
          134
         ]
        },
        {
         "line": {
          "color": "#66BAE7",
          "width": 2
         },
         "mode": "lines",
         "showlegend": false,
         "type": "scatter",
         "x": [
          0.7601163850187698,
          0.8245690865864426
         ],
         "y": [
          133,
          133
         ]
        },
        {
         "line": {
          "color": "#66BAE7",
          "width": 2
         },
         "mode": "lines",
         "showlegend": false,
         "type": "scatter",
         "x": [
          0.7572215911818669,
          0.900563983793489
         ],
         "y": [
          132,
          132
         ]
        },
        {
         "line": {
          "color": "#66BAE7",
          "width": 2
         },
         "mode": "lines",
         "showlegend": false,
         "type": "scatter",
         "x": [
          0.732112243531688,
          0.7553054557885837
         ],
         "y": [
          131,
          131
         ]
        },
        {
         "line": {
          "color": "#66BAE7",
          "width": 2
         },
         "mode": "lines",
         "showlegend": false,
         "type": "scatter",
         "x": [
          0.7254718109864776,
          0.7601359874825044
         ],
         "y": [
          130,
          130
         ]
        },
        {
         "line": {
          "color": "#66BAE7",
          "width": 2
         },
         "mode": "lines",
         "showlegend": false,
         "type": "scatter",
         "x": [
          0.7212276169740044,
          1.1774439553579594
         ],
         "y": [
          129,
          129
         ]
        },
        {
         "line": {
          "color": "#66BAE7",
          "width": 2
         },
         "mode": "lines",
         "showlegend": false,
         "type": "scatter",
         "x": [
          0.7172191014334462,
          0.767838850852181
         ],
         "y": [
          128,
          128
         ]
        },
        {
         "line": {
          "color": "#66BAE7",
          "width": 2
         },
         "mode": "lines",
         "showlegend": false,
         "type": "scatter",
         "x": [
          0.7141375776606353,
          0.843064516312955
         ],
         "y": [
          127,
          127
         ]
        },
        {
         "line": {
          "color": "#66BAE7",
          "width": 2
         },
         "mode": "lines",
         "showlegend": false,
         "type": "scatter",
         "x": [
          0.7132771324282032,
          0.7811047202917146
         ],
         "y": [
          126,
          126
         ]
        },
        {
         "line": {
          "color": "#66BAE7",
          "width": 2
         },
         "mode": "lines",
         "showlegend": false,
         "type": "scatter",
         "x": [
          0.7124714091519748,
          1.1539141996049802
         ],
         "y": [
          125,
          125
         ]
        },
        {
         "line": {
          "color": "#66BAE7",
          "width": 2
         },
         "mode": "lines",
         "showlegend": false,
         "type": "scatter",
         "x": [
          0.71180186930072,
          0.8224786541698202
         ],
         "y": [
          124,
          124
         ]
        },
        {
         "line": {
          "color": "#66BAE7",
          "width": 2
         },
         "mode": "lines",
         "showlegend": false,
         "type": "scatter",
         "x": [
          0.6974529192096057,
          0.8372178198802261
         ],
         "y": [
          123,
          123
         ]
        },
        {
         "line": {
          "color": "#66BAE7",
          "width": 2
         },
         "mode": "lines",
         "showlegend": false,
         "type": "scatter",
         "x": [
          0.6962190671749813,
          0.7195680137679825
         ],
         "y": [
          122,
          122
         ]
        },
        {
         "line": {
          "color": "#66BAE7",
          "width": 2
         },
         "mode": "lines",
         "showlegend": false,
         "type": "scatter",
         "x": [
          0.6926084885308589,
          0.7529023011852201
         ],
         "y": [
          121,
          121
         ]
        },
        {
         "line": {
          "color": "#66BAE7",
          "width": 2
         },
         "mode": "lines",
         "showlegend": false,
         "type": "scatter",
         "x": [
          0.6918722092763966,
          0.8029013906806988
         ],
         "y": [
          120,
          120
         ]
        },
        {
         "line": {
          "color": "#66BAE7",
          "width": 2
         },
         "mode": "lines",
         "showlegend": false,
         "type": "scatter",
         "x": [
          0.6866960501459128,
          0.7036068131037394
         ],
         "y": [
          119,
          119
         ]
        },
        {
         "line": {
          "color": "#66BAE7",
          "width": 2
         },
         "mode": "lines",
         "showlegend": false,
         "type": "scatter",
         "x": [
          0.6792194115320909,
          0.9223866900275617
         ],
         "y": [
          118,
          118
         ]
        },
        {
         "line": {
          "color": "#66BAE7",
          "width": 2
         },
         "mode": "lines",
         "showlegend": false,
         "type": "scatter",
         "x": [
          0.672449271387068,
          0.8645753986032669
         ],
         "y": [
          117,
          117
         ]
        },
        {
         "line": {
          "color": "#66BAE7",
          "width": 2
         },
         "mode": "lines",
         "showlegend": false,
         "type": "scatter",
         "x": [
          0.6650964643102527,
          0.6875656978223984
         ],
         "y": [
          116,
          116
         ]
        },
        {
         "line": {
          "color": "#66BAE7",
          "width": 2
         },
         "mode": "lines",
         "showlegend": false,
         "type": "scatter",
         "x": [
          0.6641627545014854,
          0.8444241919687057
         ],
         "y": [
          115,
          115
         ]
        },
        {
         "line": {
          "color": "#66BAE7",
          "width": 2
         },
         "mode": "lines",
         "showlegend": false,
         "type": "scatter",
         "x": [
          0.6620294517323227,
          0.6995544331479862
         ],
         "y": [
          114,
          114
         ]
        },
        {
         "line": {
          "color": "#66BAE7",
          "width": 2
         },
         "mode": "lines",
         "showlegend": false,
         "type": "scatter",
         "x": [
          0.6504856685216049,
          0.7019945824826586
         ],
         "y": [
          113,
          113
         ]
        },
        {
         "line": {
          "color": "#66BAE7",
          "width": 2
         },
         "mode": "lines",
         "showlegend": false,
         "type": "scatter",
         "x": [
          0.6467591664669308,
          0.7090206281935669
         ],
         "y": [
          112,
          112
         ]
        },
        {
         "line": {
          "color": "#66BAE7",
          "width": 2
         },
         "mode": "lines",
         "showlegend": false,
         "type": "scatter",
         "x": [
          0.6404250970738077,
          0.9106002036700845
         ],
         "y": [
          111,
          111
         ]
        },
        {
         "line": {
          "color": "#66BAE7",
          "width": 2
         },
         "mode": "lines",
         "showlegend": false,
         "type": "scatter",
         "x": [
          0.6335715797050874,
          0.6341045352156072
         ],
         "y": [
          110,
          110
         ]
        },
        {
         "line": {
          "color": "#66BAE7",
          "width": 2
         },
         "mode": "lines",
         "showlegend": false,
         "type": "scatter",
         "x": [
          0.633092341458971,
          0.9634612347339145
         ],
         "y": [
          109,
          109
         ]
        },
        {
         "line": {
          "color": "#66BAE7",
          "width": 2
         },
         "mode": "lines",
         "showlegend": false,
         "type": "scatter",
         "x": [
          0.6308916921865411,
          0.7048195333565899
         ],
         "y": [
          108,
          108
         ]
        },
        {
         "line": {
          "color": "#66BAE7",
          "width": 2
         },
         "mode": "lines",
         "showlegend": false,
         "type": "scatter",
         "x": [
          0.6276574559566733,
          0.6530008893003163
         ],
         "y": [
          107,
          107
         ]
        },
        {
         "line": {
          "color": "#66BAE7",
          "width": 2
         },
         "mode": "lines",
         "showlegend": false,
         "type": "scatter",
         "x": [
          0.6189291814400081,
          0.9190100965152663
         ],
         "y": [
          106,
          106
         ]
        },
        {
         "line": {
          "color": "#66BAE7",
          "width": 2
         },
         "mode": "lines",
         "showlegend": false,
         "type": "scatter",
         "x": [
          0.6169350044518472,
          0.8540710886676824
         ],
         "y": [
          105,
          105
         ]
        },
        {
         "line": {
          "color": "#66BAE7",
          "width": 2
         },
         "mode": "lines",
         "showlegend": false,
         "type": "scatter",
         "x": [
          0.6143939541971416,
          0.7931471887064857
         ],
         "y": [
          104,
          104
         ]
        },
        {
         "line": {
          "color": "#66BAE7",
          "width": 2
         },
         "mode": "lines",
         "showlegend": false,
         "type": "scatter",
         "x": [
          0.6107465748753714,
          1.0154060030406553
         ],
         "y": [
          103,
          103
         ]
        },
        {
         "line": {
          "color": "#66BAE7",
          "width": 2
         },
         "mode": "lines",
         "showlegend": false,
         "type": "scatter",
         "x": [
          0.6095740182734171,
          0.6747377289740063
         ],
         "y": [
          102,
          102
         ]
        },
        {
         "line": {
          "color": "#66BAE7",
          "width": 2
         },
         "mode": "lines",
         "showlegend": false,
         "type": "scatter",
         "x": [
          0.6072170075039068,
          0.6800320564973393
         ],
         "y": [
          101,
          101
         ]
        },
        {
         "line": {
          "color": "#66BAE7",
          "width": 2
         },
         "mode": "lines",
         "showlegend": false,
         "type": "scatter",
         "x": [
          0.6060480422260277,
          0.6289394191056883
         ],
         "y": [
          100,
          100
         ]
        },
        {
         "line": {
          "color": "#66BAE7",
          "width": 2
         },
         "mode": "lines",
         "showlegend": false,
         "type": "scatter",
         "x": [
          0.5961298039370285,
          0.6277529591001536
         ],
         "y": [
          99,
          99
         ]
        },
        {
         "line": {
          "color": "#66BAE7",
          "width": 2
         },
         "mode": "lines",
         "showlegend": false,
         "type": "scatter",
         "x": [
          0.5919371621050683,
          0.8794702896295021
         ],
         "y": [
          98,
          98
         ]
        },
        {
         "line": {
          "color": "#66BAE7",
          "width": 2
         },
         "mode": "lines",
         "showlegend": false,
         "type": "scatter",
         "x": [
          0.5899399083779643,
          1.1623108733763956
         ],
         "y": [
          97,
          97
         ]
        },
        {
         "line": {
          "color": "#66BAE7",
          "width": 2
         },
         "mode": "lines",
         "showlegend": false,
         "type": "scatter",
         "x": [
          0.5853373581841502,
          0.7288815128585714
         ],
         "y": [
          96,
          96
         ]
        },
        {
         "line": {
          "color": "#66BAE7",
          "width": 2
         },
         "mode": "lines",
         "showlegend": false,
         "type": "scatter",
         "x": [
          0.5823946412536782,
          0.6360542609762162
         ],
         "y": [
          95,
          95
         ]
        },
        {
         "line": {
          "color": "#66BAE7",
          "width": 2
         },
         "mode": "lines",
         "showlegend": false,
         "type": "scatter",
         "x": [
          0.5821790991413213,
          0.7846330420457713
         ],
         "y": [
          94,
          94
         ]
        },
        {
         "line": {
          "color": "#66BAE7",
          "width": 2
         },
         "mode": "lines",
         "showlegend": false,
         "type": "scatter",
         "x": [
          0.5821232599785023,
          0.683592422642322
         ],
         "y": [
          93,
          93
         ]
        },
        {
         "line": {
          "color": "#66BAE7",
          "width": 2
         },
         "mode": "lines",
         "showlegend": false,
         "type": "scatter",
         "x": [
          0.5779722043749151,
          1.193734100461658
         ],
         "y": [
          92,
          92
         ]
        },
        {
         "line": {
          "color": "#66BAE7",
          "width": 2
         },
         "mode": "lines",
         "showlegend": false,
         "type": "scatter",
         "x": [
          0.5779584308763048,
          0.7101612891583172
         ],
         "y": [
          91,
          91
         ]
        },
        {
         "line": {
          "color": "#66BAE7",
          "width": 2
         },
         "mode": "lines",
         "showlegend": false,
         "type": "scatter",
         "x": [
          0.5764219846067622,
          0.9010712625364338
         ],
         "y": [
          90,
          90
         ]
        },
        {
         "line": {
          "color": "#66BAE7",
          "width": 2
         },
         "mode": "lines",
         "showlegend": false,
         "type": "scatter",
         "x": [
          0.5754486288227644,
          0.7559891367552838
         ],
         "y": [
          89,
          89
         ]
        },
        {
         "line": {
          "color": "#66BAE7",
          "width": 2
         },
         "mode": "lines",
         "showlegend": false,
         "type": "scatter",
         "x": [
          0.5725862764029525,
          0.5759991981739204
         ],
         "y": [
          88,
          88
         ]
        },
        {
         "line": {
          "color": "#66BAE7",
          "width": 2
         },
         "mode": "lines",
         "showlegend": false,
         "type": "scatter",
         "x": [
          0.5718972974905565,
          0.6034222515270711
         ],
         "y": [
          87,
          87
         ]
        },
        {
         "line": {
          "color": "#66BAE7",
          "width": 2
         },
         "mode": "lines",
         "showlegend": false,
         "type": "scatter",
         "x": [
          0.5704617663910543,
          0.6181868686586596
         ],
         "y": [
          86,
          86
         ]
        },
        {
         "line": {
          "color": "#66BAE7",
          "width": 2
         },
         "mode": "lines",
         "showlegend": false,
         "type": "scatter",
         "x": [
          0.5676727863496713,
          0.8032443776049721
         ],
         "y": [
          85,
          85
         ]
        },
        {
         "line": {
          "color": "#66BAE7",
          "width": 2
         },
         "mode": "lines",
         "showlegend": false,
         "type": "scatter",
         "x": [
          0.5644044842885304,
          0.6073326873847626
         ],
         "y": [
          84,
          84
         ]
        },
        {
         "line": {
          "color": "#66BAE7",
          "width": 2
         },
         "mode": "lines",
         "showlegend": false,
         "type": "scatter",
         "x": [
          0.55952281479936,
          0.8483714199582629
         ],
         "y": [
          83,
          83
         ]
        },
        {
         "line": {
          "color": "#66BAE7",
          "width": 2
         },
         "mode": "lines",
         "showlegend": false,
         "type": "scatter",
         "x": [
          0.5553811743343516,
          1.2235481477191665
         ],
         "y": [
          82,
          82
         ]
        },
        {
         "line": {
          "color": "#66BAE7",
          "width": 2
         },
         "mode": "lines",
         "showlegend": false,
         "type": "scatter",
         "x": [
          0.5512233187819614,
          0.738582205134947
         ],
         "y": [
          81,
          81
         ]
        },
        {
         "line": {
          "color": "#66BAE7",
          "width": 2
         },
         "mode": "lines",
         "showlegend": false,
         "type": "scatter",
         "x": [
          0.5494797157511826,
          0.5633617325386948
         ],
         "y": [
          80,
          80
         ]
        },
        {
         "line": {
          "color": "#66BAE7",
          "width": 2
         },
         "mode": "lines",
         "showlegend": false,
         "type": "scatter",
         "x": [
          0.5384843335111983,
          0.8153690028747729
         ],
         "y": [
          79,
          79
         ]
        },
        {
         "line": {
          "color": "#66BAE7",
          "width": 2
         },
         "mode": "lines",
         "showlegend": false,
         "type": "scatter",
         "x": [
          0.5381570007767248,
          0.82728210457981
         ],
         "y": [
          78,
          78
         ]
        },
        {
         "line": {
          "color": "#66BAE7",
          "width": 2
         },
         "mode": "lines",
         "showlegend": false,
         "type": "scatter",
         "x": [
          0.535639550140763,
          0.6428092188324629
         ],
         "y": [
          77,
          77
         ]
        },
        {
         "line": {
          "color": "#66BAE7",
          "width": 2
         },
         "mode": "lines",
         "showlegend": false,
         "type": "scatter",
         "x": [
          0.5347260245340556,
          0.6495001739661056
         ],
         "y": [
          76,
          76
         ]
        },
        {
         "line": {
          "color": "#66BAE7",
          "width": 2
         },
         "mode": "lines",
         "showlegend": false,
         "type": "scatter",
         "x": [
          0.532800702128855,
          0.9798698521788479
         ],
         "y": [
          75,
          75
         ]
        },
        {
         "line": {
          "color": "#66BAE7",
          "width": 2
         },
         "mode": "lines",
         "showlegend": false,
         "type": "scatter",
         "x": [
          0.5327295173031057,
          0.5400650597409535
         ],
         "y": [
          74,
          74
         ]
        },
        {
         "line": {
          "color": "#66BAE7",
          "width": 2
         },
         "mode": "lines",
         "showlegend": false,
         "type": "scatter",
         "x": [
          0.5303905863804526,
          0.6053561100889293
         ],
         "y": [
          73,
          73
         ]
        },
        {
         "line": {
          "color": "#66BAE7",
          "width": 2
         },
         "mode": "lines",
         "showlegend": false,
         "type": "scatter",
         "x": [
          0.5265479280094065,
          0.6433831477914224
         ],
         "y": [
          72,
          72
         ]
        },
        {
         "line": {
          "color": "#66BAE7",
          "width": 2
         },
         "mode": "lines",
         "showlegend": false,
         "type": "scatter",
         "x": [
          0.523336908896171,
          0.5420373965069193
         ],
         "y": [
          71,
          71
         ]
        },
        {
         "line": {
          "color": "#66BAE7",
          "width": 2
         },
         "mode": "lines",
         "showlegend": false,
         "type": "scatter",
         "x": [
          0.5203036060628445,
          1.0856810444527434
         ],
         "y": [
          70,
          70
         ]
        },
        {
         "line": {
          "color": "#66BAE7",
          "width": 2
         },
         "mode": "lines",
         "showlegend": false,
         "type": "scatter",
         "x": [
          0.5153211077570952,
          0.7927003260072487
         ],
         "y": [
          69,
          69
         ]
        },
        {
         "line": {
          "color": "#66BAE7",
          "width": 2
         },
         "mode": "lines",
         "showlegend": false,
         "type": "scatter",
         "x": [
          0.5135164086550693,
          0.5219645695542944
         ],
         "y": [
          68,
          68
         ]
        },
        {
         "line": {
          "color": "#66BAE7",
          "width": 2
         },
         "mode": "lines",
         "showlegend": false,
         "type": "scatter",
         "x": [
          0.5084665064161059,
          0.5578229226062702
         ],
         "y": [
          67,
          67
         ]
        },
        {
         "line": {
          "color": "#66BAE7",
          "width": 2
         },
         "mode": "lines",
         "showlegend": false,
         "type": "scatter",
         "x": [
          0.5081655052765783,
          0.5536051172704244
         ],
         "y": [
          66,
          66
         ]
        },
        {
         "line": {
          "color": "#66BAE7",
          "width": 2
         },
         "mode": "lines",
         "showlegend": false,
         "type": "scatter",
         "x": [
          0.5067690912861593,
          0.6134624829539295
         ],
         "y": [
          65,
          65
         ]
        },
        {
         "line": {
          "color": "#66BAE7",
          "width": 2
         },
         "mode": "lines",
         "showlegend": false,
         "type": "scatter",
         "x": [
          0.5039463311792253,
          0.5917658893295551
         ],
         "y": [
          64,
          64
         ]
        },
        {
         "line": {
          "color": "#66BAE7",
          "width": 2
         },
         "mode": "lines",
         "showlegend": false,
         "type": "scatter",
         "x": [
          0.5021340754280671,
          0.8564442110371232
         ],
         "y": [
          63,
          63
         ]
        },
        {
         "line": {
          "color": "#66BAE7",
          "width": 2
         },
         "mode": "lines",
         "showlegend": false,
         "type": "scatter",
         "x": [
          0.4997988006828347,
          0.6816564672091071
         ],
         "y": [
          62,
          62
         ]
        },
        {
         "line": {
          "color": "#66BAE7",
          "width": 2
         },
         "mode": "lines",
         "showlegend": false,
         "type": "scatter",
         "x": [
          0.49748724592294846,
          0.5108090308256108
         ],
         "y": [
          61,
          61
         ]
        },
        {
         "line": {
          "color": "#66BAE7",
          "width": 2
         },
         "mode": "lines",
         "showlegend": false,
         "type": "scatter",
         "x": [
          0.4933903865804454,
          0.5503788237423378
         ],
         "y": [
          60,
          60
         ]
        },
        {
         "line": {
          "color": "#66BAE7",
          "width": 2
         },
         "mode": "lines",
         "showlegend": false,
         "type": "scatter",
         "x": [
          0.4891034176132916,
          0.507512708840872
         ],
         "y": [
          59,
          59
         ]
        },
        {
         "line": {
          "color": "#66BAE7",
          "width": 2
         },
         "mode": "lines",
         "showlegend": false,
         "type": "scatter",
         "x": [
          0.487758041662051,
          0.9203247876586823
         ],
         "y": [
          58,
          58
         ]
        },
        {
         "line": {
          "color": "#66BAE7",
          "width": 2
         },
         "mode": "lines",
         "showlegend": false,
         "type": "scatter",
         "x": [
          0.4840528015712748,
          0.7833879686655905
         ],
         "y": [
          57,
          57
         ]
        },
        {
         "line": {
          "color": "#66BAE7",
          "width": 2
         },
         "mode": "lines",
         "showlegend": false,
         "type": "scatter",
         "x": [
          0.47543182370241094,
          0.7362794690625295
         ],
         "y": [
          56,
          56
         ]
        },
        {
         "line": {
          "color": "#66BAE7",
          "width": 2
         },
         "mode": "lines",
         "showlegend": false,
         "type": "scatter",
         "x": [
          0.47340873251979587,
          0.5192668818459348
         ],
         "y": [
          55,
          55
         ]
        },
        {
         "line": {
          "color": "#66BAE7",
          "width": 2
         },
         "mode": "lines",
         "showlegend": false,
         "type": "scatter",
         "x": [
          0.46661839036733216,
          0.589095945004715
         ],
         "y": [
          54,
          54
         ]
        },
        {
         "line": {
          "color": "#66BAE7",
          "width": 2
         },
         "mode": "lines",
         "showlegend": false,
         "type": "scatter",
         "x": [
          0.4624975935137395,
          0.4991201172653737
         ],
         "y": [
          53,
          53
         ]
        },
        {
         "line": {
          "color": "#66BAE7",
          "width": 2
         },
         "mode": "lines",
         "showlegend": false,
         "type": "scatter",
         "x": [
          0.46089099419493895,
          0.6516098800279195
         ],
         "y": [
          52,
          52
         ]
        },
        {
         "line": {
          "color": "#66BAE7",
          "width": 2
         },
         "mode": "lines",
         "showlegend": false,
         "type": "scatter",
         "x": [
          0.45998569677110646,
          0.4970261872265888
         ],
         "y": [
          51,
          51
         ]
        },
        {
         "line": {
          "color": "#66BAE7",
          "width": 2
         },
         "mode": "lines",
         "showlegend": false,
         "type": "scatter",
         "x": [
          0.4572078450606463,
          0.47079816360835536
         ],
         "y": [
          50,
          50
         ]
        },
        {
         "line": {
          "color": "#66BAE7",
          "width": 2
         },
         "mode": "lines",
         "showlegend": false,
         "type": "scatter",
         "x": [
          0.4553836088848613,
          0.5557952611897654
         ],
         "y": [
          49,
          49
         ]
        },
        {
         "line": {
          "color": "#66BAE7",
          "width": 2
         },
         "mode": "lines",
         "showlegend": false,
         "type": "scatter",
         "x": [
          0.45390470887401024,
          1.744962737820209
         ],
         "y": [
          48,
          48
         ]
        },
        {
         "line": {
          "color": "#66BAE7",
          "width": 2
         },
         "mode": "lines",
         "showlegend": false,
         "type": "scatter",
         "x": [
          0.45347961114585894,
          0.47791571165740176
         ],
         "y": [
          47,
          47
         ]
        },
        {
         "line": {
          "color": "#66BAE7",
          "width": 2
         },
         "mode": "lines",
         "showlegend": false,
         "type": "scatter",
         "x": [
          0.4531264124954545,
          0.4649278472472903
         ],
         "y": [
          46,
          46
         ]
        },
        {
         "line": {
          "color": "#66BAE7",
          "width": 2
         },
         "mode": "lines",
         "showlegend": false,
         "type": "scatter",
         "x": [
          0.44930161718605033,
          0.5628040438785067
         ],
         "y": [
          45,
          45
         ]
        },
        {
         "line": {
          "color": "#66BAE7",
          "width": 2
         },
         "mode": "lines",
         "showlegend": false,
         "type": "scatter",
         "x": [
          0.4491960034661929,
          0.7624156506283171
         ],
         "y": [
          44,
          44
         ]
        },
        {
         "line": {
          "color": "#66BAE7",
          "width": 2
         },
         "mode": "lines",
         "showlegend": false,
         "type": "scatter",
         "x": [
          0.44805018646798894,
          0.739850314452863
         ],
         "y": [
          43,
          43
         ]
        },
        {
         "line": {
          "color": "#66BAE7",
          "width": 2
         },
         "mode": "lines",
         "showlegend": false,
         "type": "scatter",
         "x": [
          0.44628408583995216,
          1.7395210034587103
         ],
         "y": [
          42,
          42
         ]
        },
        {
         "line": {
          "color": "#66BAE7",
          "width": 2
         },
         "mode": "lines",
         "showlegend": false,
         "type": "scatter",
         "x": [
          0.44543931542467113,
          0.8272377608916301
         ],
         "y": [
          41,
          41
         ]
        },
        {
         "line": {
          "color": "#66BAE7",
          "width": 2
         },
         "mode": "lines",
         "showlegend": false,
         "type": "scatter",
         "x": [
          0.4429661832454033,
          0.44630601621421156
         ],
         "y": [
          40,
          40
         ]
        },
        {
         "line": {
          "color": "#66BAE7",
          "width": 2
         },
         "mode": "lines",
         "showlegend": false,
         "type": "scatter",
         "x": [
          0.44293022213098154,
          0.4459689627339571
         ],
         "y": [
          39,
          39
         ]
        },
        {
         "line": {
          "color": "#66BAE7",
          "width": 2
         },
         "mode": "lines",
         "showlegend": false,
         "type": "scatter",
         "x": [
          0.43832043624385125,
          0.49994001136536403
         ],
         "y": [
          38,
          38
         ]
        },
        {
         "line": {
          "color": "#66BAE7",
          "width": 2
         },
         "mode": "lines",
         "showlegend": false,
         "type": "scatter",
         "x": [
          0.4373111287104404,
          0.518014730264497
         ],
         "y": [
          37,
          37
         ]
        },
        {
         "line": {
          "color": "#66BAE7",
          "width": 2
         },
         "mode": "lines",
         "showlegend": false,
         "type": "scatter",
         "x": [
          0.43485141967918167,
          0.436468814686685
         ],
         "y": [
          36,
          36
         ]
        },
        {
         "line": {
          "color": "#66BAE7",
          "width": 2
         },
         "mode": "lines",
         "showlegend": false,
         "type": "scatter",
         "x": [
          0.4334231223273625,
          0.45240818890576956
         ],
         "y": [
          35,
          35
         ]
        },
        {
         "line": {
          "color": "#66BAE7",
          "width": 2
         },
         "mode": "lines",
         "showlegend": false,
         "type": "scatter",
         "x": [
          0.42913711603053084,
          0.48837476904217686
         ],
         "y": [
          34,
          34
         ]
        },
        {
         "line": {
          "color": "#66BAE7",
          "width": 2
         },
         "mode": "lines",
         "showlegend": false,
         "type": "scatter",
         "x": [
          0.4218255790074847,
          0.7788134876451491
         ],
         "y": [
          33,
          33
         ]
        },
        {
         "line": {
          "color": "#66BAE7",
          "width": 2
         },
         "mode": "lines",
         "showlegend": false,
         "type": "scatter",
         "x": [
          0.4161441430730466,
          0.4558861657278095
         ],
         "y": [
          32,
          32
         ]
        },
        {
         "line": {
          "color": "#66BAE7",
          "width": 2
         },
         "mode": "lines",
         "showlegend": false,
         "type": "scatter",
         "x": [
          0.41074788438773496,
          0.6511065460475727
         ],
         "y": [
          31,
          31
         ]
        },
        {
         "line": {
          "color": "#66BAE7",
          "width": 2
         },
         "mode": "lines",
         "showlegend": false,
         "type": "scatter",
         "x": [
          0.40931576662889463,
          0.4139949068007957
         ],
         "y": [
          30,
          30
         ]
        },
        {
         "line": {
          "color": "#66BAE7",
          "width": 2
         },
         "mode": "lines",
         "showlegend": false,
         "type": "scatter",
         "x": [
          0.40828856998573976,
          0.5584049016887298
         ],
         "y": [
          29,
          29
         ]
        },
        {
         "line": {
          "color": "#66BAE7",
          "width": 2
         },
         "mode": "lines",
         "showlegend": false,
         "type": "scatter",
         "x": [
          0.4051604912266253,
          0.43186594383558413
         ],
         "y": [
          28,
          28
         ]
        },
        {
         "line": {
          "color": "#66BAE7",
          "width": 2
         },
         "mode": "lines",
         "showlegend": false,
         "type": "scatter",
         "x": [
          0.40499463878426883,
          0.43076233984530365
         ],
         "y": [
          27,
          27
         ]
        },
        {
         "line": {
          "color": "#66BAE7",
          "width": 2
         },
         "mode": "lines",
         "showlegend": false,
         "type": "scatter",
         "x": [
          0.39988867886700624,
          0.4223490272334011
         ],
         "y": [
          26,
          26
         ]
        },
        {
         "line": {
          "color": "#66BAE7",
          "width": 2
         },
         "mode": "lines",
         "showlegend": false,
         "type": "scatter",
         "x": [
          0.3997568178105283,
          0.41194598252926384
         ],
         "y": [
          25,
          25
         ]
        },
        {
         "line": {
          "color": "#66BAE7",
          "width": 2
         },
         "mode": "lines",
         "showlegend": false,
         "type": "scatter",
         "x": [
          0.3940156271482172,
          0.7421511786078362
         ],
         "y": [
          24,
          24
         ]
        },
        {
         "line": {
          "color": "#66BAE7",
          "width": 2
         },
         "mode": "lines",
         "showlegend": false,
         "type": "scatter",
         "x": [
          0.3918516886603912,
          0.4187440985243851
         ],
         "y": [
          23,
          23
         ]
        },
        {
         "line": {
          "color": "#66BAE7",
          "width": 2
         },
         "mode": "lines",
         "showlegend": false,
         "type": "scatter",
         "x": [
          0.39130660805307166,
          0.42707857233769025
         ],
         "y": [
          22,
          22
         ]
        },
        {
         "line": {
          "color": "#66BAE7",
          "width": 2
         },
         "mode": "lines",
         "showlegend": false,
         "type": "scatter",
         "x": [
          0.38868453771664235,
          0.4556352356699378
         ],
         "y": [
          21,
          21
         ]
        },
        {
         "line": {
          "color": "#66BAE7",
          "width": 2
         },
         "mode": "lines",
         "showlegend": false,
         "type": "scatter",
         "x": [
          0.38853764561107856,
          0.5369222737594332
         ],
         "y": [
          20,
          20
         ]
        },
        {
         "line": {
          "color": "#66BAE7",
          "width": 2
         },
         "mode": "lines",
         "showlegend": false,
         "type": "scatter",
         "x": [
          0.38613376781757863,
          0.5308467517024099
         ],
         "y": [
          19,
          19
         ]
        },
        {
         "line": {
          "color": "#66BAE7",
          "width": 2
         },
         "mode": "lines",
         "showlegend": false,
         "type": "scatter",
         "x": [
          0.37569164278567624,
          0.3805238206814397
         ],
         "y": [
          18,
          18
         ]
        },
        {
         "line": {
          "color": "#66BAE7",
          "width": 2
         },
         "mode": "lines",
         "showlegend": false,
         "type": "scatter",
         "x": [
          0.37383530764495726,
          0.572754619544007
         ],
         "y": [
          17,
          17
         ]
        },
        {
         "line": {
          "color": "#66BAE7",
          "width": 2
         },
         "mode": "lines",
         "showlegend": false,
         "type": "scatter",
         "x": [
          0.37042038750722056,
          0.4502341879544474
         ],
         "y": [
          16,
          16
         ]
        },
        {
         "line": {
          "color": "#66BAE7",
          "width": 2
         },
         "mode": "lines",
         "showlegend": false,
         "type": "scatter",
         "x": [
          0.37020919549222525,
          0.38733667690266643
         ],
         "y": [
          15,
          15
         ]
        },
        {
         "line": {
          "color": "#66BAE7",
          "width": 2
         },
         "mode": "lines",
         "showlegend": false,
         "type": "scatter",
         "x": [
          0.35097745749406833,
          0.3722814594376148
         ],
         "y": [
          14,
          14
         ]
        },
        {
         "line": {
          "color": "#66BAE7",
          "width": 2
         },
         "mode": "lines",
         "showlegend": false,
         "type": "scatter",
         "x": [
          0.3487354599248555,
          0.4514393841192856
         ],
         "y": [
          13,
          13
         ]
        },
        {
         "line": {
          "color": "#66BAE7",
          "width": 2
         },
         "mode": "lines",
         "showlegend": false,
         "type": "scatter",
         "x": [
          0.34440954255943607,
          0.4608325617336501
         ],
         "y": [
          12,
          12
         ]
        },
        {
         "line": {
          "color": "#66BAE7",
          "width": 2
         },
         "mode": "lines",
         "showlegend": false,
         "type": "scatter",
         "x": [
          0.3419722970314992,
          0.35857158569245295
         ],
         "y": [
          11,
          11
         ]
        },
        {
         "line": {
          "color": "#66BAE7",
          "width": 2
         },
         "mode": "lines",
         "showlegend": false,
         "type": "scatter",
         "x": [
          0.33813761899114414,
          0.5865663664173053
         ],
         "y": [
          10,
          10
         ]
        },
        {
         "line": {
          "color": "#66BAE7",
          "width": 2
         },
         "mode": "lines",
         "showlegend": false,
         "type": "scatter",
         "x": [
          0.3371584100700991,
          0.3677462855978217
         ],
         "y": [
          9,
          9
         ]
        },
        {
         "line": {
          "color": "#66BAE7",
          "width": 2
         },
         "mode": "lines",
         "showlegend": false,
         "type": "scatter",
         "x": [
          0.33621561320230114,
          0.42674385868457454
         ],
         "y": [
          8,
          8
         ]
        },
        {
         "line": {
          "color": "#66BAE7",
          "width": 2
         },
         "mode": "lines",
         "showlegend": false,
         "type": "scatter",
         "x": [
          0.3314273946492658,
          0.37542840761322305
         ],
         "y": [
          7,
          7
         ]
        },
        {
         "line": {
          "color": "#66BAE7",
          "width": 2
         },
         "mode": "lines",
         "showlegend": false,
         "type": "scatter",
         "x": [
          0.3300696350544831,
          0.40439962335541285
         ],
         "y": [
          6,
          6
         ]
        },
        {
         "line": {
          "color": "#66BAE7",
          "width": 2
         },
         "mode": "lines",
         "showlegend": false,
         "type": "scatter",
         "x": [
          0.32314033354875615,
          0.4151272299584806
         ],
         "y": [
          5,
          5
         ]
        },
        {
         "line": {
          "color": "#66BAE7",
          "width": 2
         },
         "mode": "lines",
         "showlegend": false,
         "type": "scatter",
         "x": [
          0.29922456865204033,
          0.3512821362879138
         ],
         "y": [
          4,
          4
         ]
        },
        {
         "line": {
          "color": "#66BAE7",
          "width": 2
         },
         "mode": "lines",
         "showlegend": false,
         "type": "scatter",
         "x": [
          0.29921874198987014,
          0.43282674131920335
         ],
         "y": [
          3,
          3
         ]
        },
        {
         "line": {
          "color": "#66BAE7",
          "width": 2
         },
         "mode": "lines",
         "showlegend": false,
         "type": "scatter",
         "x": [
          0.28817090433629944,
          0.32404290095448784
         ],
         "y": [
          2,
          2
         ]
        },
        {
         "line": {
          "color": "#66BAE7",
          "width": 2
         },
         "mode": "lines",
         "name": "Dimension 1",
         "type": "scatter",
         "x": [
          0.2355615922768392,
          0.2683384352678533
         ],
         "y": [
          1,
          1
         ]
        }
       ],
       "frames": [],
       "layout": {
        "margin": {
         "b": 50,
         "l": 50,
         "r": 50,
         "t": 60
        },
        "xaxis": {
         "rangevar": [
          -0.001,
          1.745962737820209
         ],
         "showgrid": false,
         "title": "ϵ",
         "zeroline": false
        },
        "yaxis": {
         "rangevar": [
          0,
          142.1
         ],
         "showgrid": false,
         "ticks": false
        }
       }
      },
      "application/vnd.webio.node+json": {
       "children": [
        {
         "children": [],
         "instanceArgs": {
          "namespace": "html",
          "tag": "div"
         },
         "nodeType": "DOM",
         "props": {
          "id": "plot-e07f9311-d642-42d7-90b6-cbd208137009"
         },
         "type": "node"
        }
       ],
       "instanceArgs": {
        "handlers": {
         "__get_gd_contents": [
          "(function (prop){prop==\"data\" ? (WebIO.setval({\"name\":\"__gd_contents\",\"scope\":\"17112711449274174047\",\"id\":\"1231539973372700161\",\"type\":\"observable\"},this.plotElem.data)) : undefined; return prop==\"layout\" ? (WebIO.setval({\"name\":\"__gd_contents\",\"scope\":\"17112711449274174047\",\"id\":\"1231539973372700161\",\"type\":\"observable\"},this.plotElem.layout)) : undefined})"
         ],
         "_commands": [
          "(function (args){var fn=args.shift(); var elem=this.plotElem; var Plotly=this.Plotly; args.unshift(elem); return Plotly[fn].apply(this,args)})"
         ],
         "_downloadImage": [
          "(function (options){return this.Plotly.downloadImage(this.plotElem,options)})"
         ],
         "_toImage": [
          "(function (options){return this.Plotly.toImage(this.plotElem,options).then((function (data){return WebIO.setval({\"name\":\"image\",\"scope\":\"17112711449274174047\",\"id\":\"12932408321350986680\",\"type\":\"observable\"},data)}))})"
         ]
        },
        "id": "17112711449274174047",
        "imports": {
         "data": [
          {
           "name": "Plotly",
           "type": "js",
           "url": "/assetserver/0011d14de576c55f77111628d5a39fcc5762f320-plotly.min.js"
          },
          {
           "name": null,
           "type": "js",
           "url": "/assetserver/52365f0a3f606733873c2a55bbe1584aba3b706c-plotly_webio.bundle.js"
          }
         ],
         "type": "async_block"
        },
        "mount_callbacks": [
         "function () {\n    var handler = ((function (Plotly,PlotlyWebIO){PlotlyWebIO.init(WebIO); var gd=this.dom.querySelector(\"#plot-e07f9311-d642-42d7-90b6-cbd208137009\"); this.plotElem=gd; this.Plotly=Plotly; (window.Blink!==undefined) ? (gd.style.width=\"100%\", gd.style.height=\"100vh\", gd.style.marginLeft=\"0%\", gd.style.marginTop=\"0vh\") : undefined; window.onresize=(function (){return Plotly.Plots.resize(gd)}); Plotly.newPlot(gd,[{\"showlegend\":false,\"mode\":\"lines\",\"line\":{\"color\":\"#66BAE7\",\"width\":2},\"y\":[142,142],\"type\":\"scatter\",\"x\":[1.101524407386873,1.1165679914062552]},{\"showlegend\":false,\"mode\":\"lines\",\"line\":{\"color\":\"#66BAE7\",\"width\":2},\"y\":[141,141],\"type\":\"scatter\",\"x\":[0.9568046803454707,1.1136356088577644]},{\"showlegend\":false,\"mode\":\"lines\",\"line\":{\"color\":\"#66BAE7\",\"width\":2},\"y\":[140,140],\"type\":\"scatter\",\"x\":[0.9324696628957972,1.0951715008718956]},{\"showlegend\":false,\"mode\":\"lines\",\"line\":{\"color\":\"#66BAE7\",\"width\":2},\"y\":[139,139],\"type\":\"scatter\",\"x\":[0.8749083472753009,0.8872482364000519]},{\"showlegend\":false,\"mode\":\"lines\",\"line\":{\"color\":\"#66BAE7\",\"width\":2},\"y\":[138,138],\"type\":\"scatter\",\"x\":[0.8724593975847815,1.0111085179094286]},{\"showlegend\":false,\"mode\":\"lines\",\"line\":{\"color\":\"#66BAE7\",\"width\":2},\"y\":[137,137],\"type\":\"scatter\",\"x\":[0.8527003293971439,0.928670626659958]},{\"showlegend\":false,\"mode\":\"lines\",\"line\":{\"color\":\"#66BAE7\",\"width\":2},\"y\":[136,136],\"type\":\"scatter\",\"x\":[0.8157438650103369,0.8240826401890763]},{\"showlegend\":false,\"mode\":\"lines\",\"line\":{\"color\":\"#66BAE7\",\"width\":2},\"y\":[135,135],\"type\":\"scatter\",\"x\":[0.7820865094540368,0.7864028322265879]},{\"showlegend\":false,\"mode\":\"lines\",\"line\":{\"color\":\"#66BAE7\",\"width\":2},\"y\":[134,134],\"type\":\"scatter\",\"x\":[0.773185405990696,0.9042059411516835]},{\"showlegend\":false,\"mode\":\"lines\",\"line\":{\"color\":\"#66BAE7\",\"width\":2},\"y\":[133,133],\"type\":\"scatter\",\"x\":[0.7601163850187698,0.8245690865864426]},{\"showlegend\":false,\"mode\":\"lines\",\"line\":{\"color\":\"#66BAE7\",\"width\":2},\"y\":[132,132],\"type\":\"scatter\",\"x\":[0.7572215911818669,0.900563983793489]},{\"showlegend\":false,\"mode\":\"lines\",\"line\":{\"color\":\"#66BAE7\",\"width\":2},\"y\":[131,131],\"type\":\"scatter\",\"x\":[0.732112243531688,0.7553054557885837]},{\"showlegend\":false,\"mode\":\"lines\",\"line\":{\"color\":\"#66BAE7\",\"width\":2},\"y\":[130,130],\"type\":\"scatter\",\"x\":[0.7254718109864776,0.7601359874825044]},{\"showlegend\":false,\"mode\":\"lines\",\"line\":{\"color\":\"#66BAE7\",\"width\":2},\"y\":[129,129],\"type\":\"scatter\",\"x\":[0.7212276169740044,1.1774439553579594]},{\"showlegend\":false,\"mode\":\"lines\",\"line\":{\"color\":\"#66BAE7\",\"width\":2},\"y\":[128,128],\"type\":\"scatter\",\"x\":[0.7172191014334462,0.767838850852181]},{\"showlegend\":false,\"mode\":\"lines\",\"line\":{\"color\":\"#66BAE7\",\"width\":2},\"y\":[127,127],\"type\":\"scatter\",\"x\":[0.7141375776606353,0.843064516312955]},{\"showlegend\":false,\"mode\":\"lines\",\"line\":{\"color\":\"#66BAE7\",\"width\":2},\"y\":[126,126],\"type\":\"scatter\",\"x\":[0.7132771324282032,0.7811047202917146]},{\"showlegend\":false,\"mode\":\"lines\",\"line\":{\"color\":\"#66BAE7\",\"width\":2},\"y\":[125,125],\"type\":\"scatter\",\"x\":[0.7124714091519748,1.1539141996049802]},{\"showlegend\":false,\"mode\":\"lines\",\"line\":{\"color\":\"#66BAE7\",\"width\":2},\"y\":[124,124],\"type\":\"scatter\",\"x\":[0.71180186930072,0.8224786541698202]},{\"showlegend\":false,\"mode\":\"lines\",\"line\":{\"color\":\"#66BAE7\",\"width\":2},\"y\":[123,123],\"type\":\"scatter\",\"x\":[0.6974529192096057,0.8372178198802261]},{\"showlegend\":false,\"mode\":\"lines\",\"line\":{\"color\":\"#66BAE7\",\"width\":2},\"y\":[122,122],\"type\":\"scatter\",\"x\":[0.6962190671749813,0.7195680137679825]},{\"showlegend\":false,\"mode\":\"lines\",\"line\":{\"color\":\"#66BAE7\",\"width\":2},\"y\":[121,121],\"type\":\"scatter\",\"x\":[0.6926084885308589,0.7529023011852201]},{\"showlegend\":false,\"mode\":\"lines\",\"line\":{\"color\":\"#66BAE7\",\"width\":2},\"y\":[120,120],\"type\":\"scatter\",\"x\":[0.6918722092763966,0.8029013906806988]},{\"showlegend\":false,\"mode\":\"lines\",\"line\":{\"color\":\"#66BAE7\",\"width\":2},\"y\":[119,119],\"type\":\"scatter\",\"x\":[0.6866960501459128,0.7036068131037394]},{\"showlegend\":false,\"mode\":\"lines\",\"line\":{\"color\":\"#66BAE7\",\"width\":2},\"y\":[118,118],\"type\":\"scatter\",\"x\":[0.6792194115320909,0.9223866900275617]},{\"showlegend\":false,\"mode\":\"lines\",\"line\":{\"color\":\"#66BAE7\",\"width\":2},\"y\":[117,117],\"type\":\"scatter\",\"x\":[0.672449271387068,0.8645753986032669]},{\"showlegend\":false,\"mode\":\"lines\",\"line\":{\"color\":\"#66BAE7\",\"width\":2},\"y\":[116,116],\"type\":\"scatter\",\"x\":[0.6650964643102527,0.6875656978223984]},{\"showlegend\":false,\"mode\":\"lines\",\"line\":{\"color\":\"#66BAE7\",\"width\":2},\"y\":[115,115],\"type\":\"scatter\",\"x\":[0.6641627545014854,0.8444241919687057]},{\"showlegend\":false,\"mode\":\"lines\",\"line\":{\"color\":\"#66BAE7\",\"width\":2},\"y\":[114,114],\"type\":\"scatter\",\"x\":[0.6620294517323227,0.6995544331479862]},{\"showlegend\":false,\"mode\":\"lines\",\"line\":{\"color\":\"#66BAE7\",\"width\":2},\"y\":[113,113],\"type\":\"scatter\",\"x\":[0.6504856685216049,0.7019945824826586]},{\"showlegend\":false,\"mode\":\"lines\",\"line\":{\"color\":\"#66BAE7\",\"width\":2},\"y\":[112,112],\"type\":\"scatter\",\"x\":[0.6467591664669308,0.7090206281935669]},{\"showlegend\":false,\"mode\":\"lines\",\"line\":{\"color\":\"#66BAE7\",\"width\":2},\"y\":[111,111],\"type\":\"scatter\",\"x\":[0.6404250970738077,0.9106002036700845]},{\"showlegend\":false,\"mode\":\"lines\",\"line\":{\"color\":\"#66BAE7\",\"width\":2},\"y\":[110,110],\"type\":\"scatter\",\"x\":[0.6335715797050874,0.6341045352156072]},{\"showlegend\":false,\"mode\":\"lines\",\"line\":{\"color\":\"#66BAE7\",\"width\":2},\"y\":[109,109],\"type\":\"scatter\",\"x\":[0.633092341458971,0.9634612347339145]},{\"showlegend\":false,\"mode\":\"lines\",\"line\":{\"color\":\"#66BAE7\",\"width\":2},\"y\":[108,108],\"type\":\"scatter\",\"x\":[0.6308916921865411,0.7048195333565899]},{\"showlegend\":false,\"mode\":\"lines\",\"line\":{\"color\":\"#66BAE7\",\"width\":2},\"y\":[107,107],\"type\":\"scatter\",\"x\":[0.6276574559566733,0.6530008893003163]},{\"showlegend\":false,\"mode\":\"lines\",\"line\":{\"color\":\"#66BAE7\",\"width\":2},\"y\":[106,106],\"type\":\"scatter\",\"x\":[0.6189291814400081,0.9190100965152663]},{\"showlegend\":false,\"mode\":\"lines\",\"line\":{\"color\":\"#66BAE7\",\"width\":2},\"y\":[105,105],\"type\":\"scatter\",\"x\":[0.6169350044518472,0.8540710886676824]},{\"showlegend\":false,\"mode\":\"lines\",\"line\":{\"color\":\"#66BAE7\",\"width\":2},\"y\":[104,104],\"type\":\"scatter\",\"x\":[0.6143939541971416,0.7931471887064857]},{\"showlegend\":false,\"mode\":\"lines\",\"line\":{\"color\":\"#66BAE7\",\"width\":2},\"y\":[103,103],\"type\":\"scatter\",\"x\":[0.6107465748753714,1.0154060030406553]},{\"showlegend\":false,\"mode\":\"lines\",\"line\":{\"color\":\"#66BAE7\",\"width\":2},\"y\":[102,102],\"type\":\"scatter\",\"x\":[0.6095740182734171,0.6747377289740063]},{\"showlegend\":false,\"mode\":\"lines\",\"line\":{\"color\":\"#66BAE7\",\"width\":2},\"y\":[101,101],\"type\":\"scatter\",\"x\":[0.6072170075039068,0.6800320564973393]},{\"showlegend\":false,\"mode\":\"lines\",\"line\":{\"color\":\"#66BAE7\",\"width\":2},\"y\":[100,100],\"type\":\"scatter\",\"x\":[0.6060480422260277,0.6289394191056883]},{\"showlegend\":false,\"mode\":\"lines\",\"line\":{\"color\":\"#66BAE7\",\"width\":2},\"y\":[99,99],\"type\":\"scatter\",\"x\":[0.5961298039370285,0.6277529591001536]},{\"showlegend\":false,\"mode\":\"lines\",\"line\":{\"color\":\"#66BAE7\",\"width\":2},\"y\":[98,98],\"type\":\"scatter\",\"x\":[0.5919371621050683,0.8794702896295021]},{\"showlegend\":false,\"mode\":\"lines\",\"line\":{\"color\":\"#66BAE7\",\"width\":2},\"y\":[97,97],\"type\":\"scatter\",\"x\":[0.5899399083779643,1.1623108733763956]},{\"showlegend\":false,\"mode\":\"lines\",\"line\":{\"color\":\"#66BAE7\",\"width\":2},\"y\":[96,96],\"type\":\"scatter\",\"x\":[0.5853373581841502,0.7288815128585714]},{\"showlegend\":false,\"mode\":\"lines\",\"line\":{\"color\":\"#66BAE7\",\"width\":2},\"y\":[95,95],\"type\":\"scatter\",\"x\":[0.5823946412536782,0.6360542609762162]},{\"showlegend\":false,\"mode\":\"lines\",\"line\":{\"color\":\"#66BAE7\",\"width\":2},\"y\":[94,94],\"type\":\"scatter\",\"x\":[0.5821790991413213,0.7846330420457713]},{\"showlegend\":false,\"mode\":\"lines\",\"line\":{\"color\":\"#66BAE7\",\"width\":2},\"y\":[93,93],\"type\":\"scatter\",\"x\":[0.5821232599785023,0.683592422642322]},{\"showlegend\":false,\"mode\":\"lines\",\"line\":{\"color\":\"#66BAE7\",\"width\":2},\"y\":[92,92],\"type\":\"scatter\",\"x\":[0.5779722043749151,1.193734100461658]},{\"showlegend\":false,\"mode\":\"lines\",\"line\":{\"color\":\"#66BAE7\",\"width\":2},\"y\":[91,91],\"type\":\"scatter\",\"x\":[0.5779584308763048,0.7101612891583172]},{\"showlegend\":false,\"mode\":\"lines\",\"line\":{\"color\":\"#66BAE7\",\"width\":2},\"y\":[90,90],\"type\":\"scatter\",\"x\":[0.5764219846067622,0.9010712625364338]},{\"showlegend\":false,\"mode\":\"lines\",\"line\":{\"color\":\"#66BAE7\",\"width\":2},\"y\":[89,89],\"type\":\"scatter\",\"x\":[0.5754486288227644,0.7559891367552838]},{\"showlegend\":false,\"mode\":\"lines\",\"line\":{\"color\":\"#66BAE7\",\"width\":2},\"y\":[88,88],\"type\":\"scatter\",\"x\":[0.5725862764029525,0.5759991981739204]},{\"showlegend\":false,\"mode\":\"lines\",\"line\":{\"color\":\"#66BAE7\",\"width\":2},\"y\":[87,87],\"type\":\"scatter\",\"x\":[0.5718972974905565,0.6034222515270711]},{\"showlegend\":false,\"mode\":\"lines\",\"line\":{\"color\":\"#66BAE7\",\"width\":2},\"y\":[86,86],\"type\":\"scatter\",\"x\":[0.5704617663910543,0.6181868686586596]},{\"showlegend\":false,\"mode\":\"lines\",\"line\":{\"color\":\"#66BAE7\",\"width\":2},\"y\":[85,85],\"type\":\"scatter\",\"x\":[0.5676727863496713,0.8032443776049721]},{\"showlegend\":false,\"mode\":\"lines\",\"line\":{\"color\":\"#66BAE7\",\"width\":2},\"y\":[84,84],\"type\":\"scatter\",\"x\":[0.5644044842885304,0.6073326873847626]},{\"showlegend\":false,\"mode\":\"lines\",\"line\":{\"color\":\"#66BAE7\",\"width\":2},\"y\":[83,83],\"type\":\"scatter\",\"x\":[0.55952281479936,0.8483714199582629]},{\"showlegend\":false,\"mode\":\"lines\",\"line\":{\"color\":\"#66BAE7\",\"width\":2},\"y\":[82,82],\"type\":\"scatter\",\"x\":[0.5553811743343516,1.2235481477191665]},{\"showlegend\":false,\"mode\":\"lines\",\"line\":{\"color\":\"#66BAE7\",\"width\":2},\"y\":[81,81],\"type\":\"scatter\",\"x\":[0.5512233187819614,0.738582205134947]},{\"showlegend\":false,\"mode\":\"lines\",\"line\":{\"color\":\"#66BAE7\",\"width\":2},\"y\":[80,80],\"type\":\"scatter\",\"x\":[0.5494797157511826,0.5633617325386948]},{\"showlegend\":false,\"mode\":\"lines\",\"line\":{\"color\":\"#66BAE7\",\"width\":2},\"y\":[79,79],\"type\":\"scatter\",\"x\":[0.5384843335111983,0.8153690028747729]},{\"showlegend\":false,\"mode\":\"lines\",\"line\":{\"color\":\"#66BAE7\",\"width\":2},\"y\":[78,78],\"type\":\"scatter\",\"x\":[0.5381570007767248,0.82728210457981]},{\"showlegend\":false,\"mode\":\"lines\",\"line\":{\"color\":\"#66BAE7\",\"width\":2},\"y\":[77,77],\"type\":\"scatter\",\"x\":[0.535639550140763,0.6428092188324629]},{\"showlegend\":false,\"mode\":\"lines\",\"line\":{\"color\":\"#66BAE7\",\"width\":2},\"y\":[76,76],\"type\":\"scatter\",\"x\":[0.5347260245340556,0.6495001739661056]},{\"showlegend\":false,\"mode\":\"lines\",\"line\":{\"color\":\"#66BAE7\",\"width\":2},\"y\":[75,75],\"type\":\"scatter\",\"x\":[0.532800702128855,0.9798698521788479]},{\"showlegend\":false,\"mode\":\"lines\",\"line\":{\"color\":\"#66BAE7\",\"width\":2},\"y\":[74,74],\"type\":\"scatter\",\"x\":[0.5327295173031057,0.5400650597409535]},{\"showlegend\":false,\"mode\":\"lines\",\"line\":{\"color\":\"#66BAE7\",\"width\":2},\"y\":[73,73],\"type\":\"scatter\",\"x\":[0.5303905863804526,0.6053561100889293]},{\"showlegend\":false,\"mode\":\"lines\",\"line\":{\"color\":\"#66BAE7\",\"width\":2},\"y\":[72,72],\"type\":\"scatter\",\"x\":[0.5265479280094065,0.6433831477914224]},{\"showlegend\":false,\"mode\":\"lines\",\"line\":{\"color\":\"#66BAE7\",\"width\":2},\"y\":[71,71],\"type\":\"scatter\",\"x\":[0.523336908896171,0.5420373965069193]},{\"showlegend\":false,\"mode\":\"lines\",\"line\":{\"color\":\"#66BAE7\",\"width\":2},\"y\":[70,70],\"type\":\"scatter\",\"x\":[0.5203036060628445,1.0856810444527434]},{\"showlegend\":false,\"mode\":\"lines\",\"line\":{\"color\":\"#66BAE7\",\"width\":2},\"y\":[69,69],\"type\":\"scatter\",\"x\":[0.5153211077570952,0.7927003260072487]},{\"showlegend\":false,\"mode\":\"lines\",\"line\":{\"color\":\"#66BAE7\",\"width\":2},\"y\":[68,68],\"type\":\"scatter\",\"x\":[0.5135164086550693,0.5219645695542944]},{\"showlegend\":false,\"mode\":\"lines\",\"line\":{\"color\":\"#66BAE7\",\"width\":2},\"y\":[67,67],\"type\":\"scatter\",\"x\":[0.5084665064161059,0.5578229226062702]},{\"showlegend\":false,\"mode\":\"lines\",\"line\":{\"color\":\"#66BAE7\",\"width\":2},\"y\":[66,66],\"type\":\"scatter\",\"x\":[0.5081655052765783,0.5536051172704244]},{\"showlegend\":false,\"mode\":\"lines\",\"line\":{\"color\":\"#66BAE7\",\"width\":2},\"y\":[65,65],\"type\":\"scatter\",\"x\":[0.5067690912861593,0.6134624829539295]},{\"showlegend\":false,\"mode\":\"lines\",\"line\":{\"color\":\"#66BAE7\",\"width\":2},\"y\":[64,64],\"type\":\"scatter\",\"x\":[0.5039463311792253,0.5917658893295551]},{\"showlegend\":false,\"mode\":\"lines\",\"line\":{\"color\":\"#66BAE7\",\"width\":2},\"y\":[63,63],\"type\":\"scatter\",\"x\":[0.5021340754280671,0.8564442110371232]},{\"showlegend\":false,\"mode\":\"lines\",\"line\":{\"color\":\"#66BAE7\",\"width\":2},\"y\":[62,62],\"type\":\"scatter\",\"x\":[0.4997988006828347,0.6816564672091071]},{\"showlegend\":false,\"mode\":\"lines\",\"line\":{\"color\":\"#66BAE7\",\"width\":2},\"y\":[61,61],\"type\":\"scatter\",\"x\":[0.49748724592294846,0.5108090308256108]},{\"showlegend\":false,\"mode\":\"lines\",\"line\":{\"color\":\"#66BAE7\",\"width\":2},\"y\":[60,60],\"type\":\"scatter\",\"x\":[0.4933903865804454,0.5503788237423378]},{\"showlegend\":false,\"mode\":\"lines\",\"line\":{\"color\":\"#66BAE7\",\"width\":2},\"y\":[59,59],\"type\":\"scatter\",\"x\":[0.4891034176132916,0.507512708840872]},{\"showlegend\":false,\"mode\":\"lines\",\"line\":{\"color\":\"#66BAE7\",\"width\":2},\"y\":[58,58],\"type\":\"scatter\",\"x\":[0.487758041662051,0.9203247876586823]},{\"showlegend\":false,\"mode\":\"lines\",\"line\":{\"color\":\"#66BAE7\",\"width\":2},\"y\":[57,57],\"type\":\"scatter\",\"x\":[0.4840528015712748,0.7833879686655905]},{\"showlegend\":false,\"mode\":\"lines\",\"line\":{\"color\":\"#66BAE7\",\"width\":2},\"y\":[56,56],\"type\":\"scatter\",\"x\":[0.47543182370241094,0.7362794690625295]},{\"showlegend\":false,\"mode\":\"lines\",\"line\":{\"color\":\"#66BAE7\",\"width\":2},\"y\":[55,55],\"type\":\"scatter\",\"x\":[0.47340873251979587,0.5192668818459348]},{\"showlegend\":false,\"mode\":\"lines\",\"line\":{\"color\":\"#66BAE7\",\"width\":2},\"y\":[54,54],\"type\":\"scatter\",\"x\":[0.46661839036733216,0.589095945004715]},{\"showlegend\":false,\"mode\":\"lines\",\"line\":{\"color\":\"#66BAE7\",\"width\":2},\"y\":[53,53],\"type\":\"scatter\",\"x\":[0.4624975935137395,0.4991201172653737]},{\"showlegend\":false,\"mode\":\"lines\",\"line\":{\"color\":\"#66BAE7\",\"width\":2},\"y\":[52,52],\"type\":\"scatter\",\"x\":[0.46089099419493895,0.6516098800279195]},{\"showlegend\":false,\"mode\":\"lines\",\"line\":{\"color\":\"#66BAE7\",\"width\":2},\"y\":[51,51],\"type\":\"scatter\",\"x\":[0.45998569677110646,0.4970261872265888]},{\"showlegend\":false,\"mode\":\"lines\",\"line\":{\"color\":\"#66BAE7\",\"width\":2},\"y\":[50,50],\"type\":\"scatter\",\"x\":[0.4572078450606463,0.47079816360835536]},{\"showlegend\":false,\"mode\":\"lines\",\"line\":{\"color\":\"#66BAE7\",\"width\":2},\"y\":[49,49],\"type\":\"scatter\",\"x\":[0.4553836088848613,0.5557952611897654]},{\"showlegend\":false,\"mode\":\"lines\",\"line\":{\"color\":\"#66BAE7\",\"width\":2},\"y\":[48,48],\"type\":\"scatter\",\"x\":[0.45390470887401024,1.744962737820209]},{\"showlegend\":false,\"mode\":\"lines\",\"line\":{\"color\":\"#66BAE7\",\"width\":2},\"y\":[47,47],\"type\":\"scatter\",\"x\":[0.45347961114585894,0.47791571165740176]},{\"showlegend\":false,\"mode\":\"lines\",\"line\":{\"color\":\"#66BAE7\",\"width\":2},\"y\":[46,46],\"type\":\"scatter\",\"x\":[0.4531264124954545,0.4649278472472903]},{\"showlegend\":false,\"mode\":\"lines\",\"line\":{\"color\":\"#66BAE7\",\"width\":2},\"y\":[45,45],\"type\":\"scatter\",\"x\":[0.44930161718605033,0.5628040438785067]},{\"showlegend\":false,\"mode\":\"lines\",\"line\":{\"color\":\"#66BAE7\",\"width\":2},\"y\":[44,44],\"type\":\"scatter\",\"x\":[0.4491960034661929,0.7624156506283171]},{\"showlegend\":false,\"mode\":\"lines\",\"line\":{\"color\":\"#66BAE7\",\"width\":2},\"y\":[43,43],\"type\":\"scatter\",\"x\":[0.44805018646798894,0.739850314452863]},{\"showlegend\":false,\"mode\":\"lines\",\"line\":{\"color\":\"#66BAE7\",\"width\":2},\"y\":[42,42],\"type\":\"scatter\",\"x\":[0.44628408583995216,1.7395210034587103]},{\"showlegend\":false,\"mode\":\"lines\",\"line\":{\"color\":\"#66BAE7\",\"width\":2},\"y\":[41,41],\"type\":\"scatter\",\"x\":[0.44543931542467113,0.8272377608916301]},{\"showlegend\":false,\"mode\":\"lines\",\"line\":{\"color\":\"#66BAE7\",\"width\":2},\"y\":[40,40],\"type\":\"scatter\",\"x\":[0.4429661832454033,0.44630601621421156]},{\"showlegend\":false,\"mode\":\"lines\",\"line\":{\"color\":\"#66BAE7\",\"width\":2},\"y\":[39,39],\"type\":\"scatter\",\"x\":[0.44293022213098154,0.4459689627339571]},{\"showlegend\":false,\"mode\":\"lines\",\"line\":{\"color\":\"#66BAE7\",\"width\":2},\"y\":[38,38],\"type\":\"scatter\",\"x\":[0.43832043624385125,0.49994001136536403]},{\"showlegend\":false,\"mode\":\"lines\",\"line\":{\"color\":\"#66BAE7\",\"width\":2},\"y\":[37,37],\"type\":\"scatter\",\"x\":[0.4373111287104404,0.518014730264497]},{\"showlegend\":false,\"mode\":\"lines\",\"line\":{\"color\":\"#66BAE7\",\"width\":2},\"y\":[36,36],\"type\":\"scatter\",\"x\":[0.43485141967918167,0.436468814686685]},{\"showlegend\":false,\"mode\":\"lines\",\"line\":{\"color\":\"#66BAE7\",\"width\":2},\"y\":[35,35],\"type\":\"scatter\",\"x\":[0.4334231223273625,0.45240818890576956]},{\"showlegend\":false,\"mode\":\"lines\",\"line\":{\"color\":\"#66BAE7\",\"width\":2},\"y\":[34,34],\"type\":\"scatter\",\"x\":[0.42913711603053084,0.48837476904217686]},{\"showlegend\":false,\"mode\":\"lines\",\"line\":{\"color\":\"#66BAE7\",\"width\":2},\"y\":[33,33],\"type\":\"scatter\",\"x\":[0.4218255790074847,0.7788134876451491]},{\"showlegend\":false,\"mode\":\"lines\",\"line\":{\"color\":\"#66BAE7\",\"width\":2},\"y\":[32,32],\"type\":\"scatter\",\"x\":[0.4161441430730466,0.4558861657278095]},{\"showlegend\":false,\"mode\":\"lines\",\"line\":{\"color\":\"#66BAE7\",\"width\":2},\"y\":[31,31],\"type\":\"scatter\",\"x\":[0.41074788438773496,0.6511065460475727]},{\"showlegend\":false,\"mode\":\"lines\",\"line\":{\"color\":\"#66BAE7\",\"width\":2},\"y\":[30,30],\"type\":\"scatter\",\"x\":[0.40931576662889463,0.4139949068007957]},{\"showlegend\":false,\"mode\":\"lines\",\"line\":{\"color\":\"#66BAE7\",\"width\":2},\"y\":[29,29],\"type\":\"scatter\",\"x\":[0.40828856998573976,0.5584049016887298]},{\"showlegend\":false,\"mode\":\"lines\",\"line\":{\"color\":\"#66BAE7\",\"width\":2},\"y\":[28,28],\"type\":\"scatter\",\"x\":[0.4051604912266253,0.43186594383558413]},{\"showlegend\":false,\"mode\":\"lines\",\"line\":{\"color\":\"#66BAE7\",\"width\":2},\"y\":[27,27],\"type\":\"scatter\",\"x\":[0.40499463878426883,0.43076233984530365]},{\"showlegend\":false,\"mode\":\"lines\",\"line\":{\"color\":\"#66BAE7\",\"width\":2},\"y\":[26,26],\"type\":\"scatter\",\"x\":[0.39988867886700624,0.4223490272334011]},{\"showlegend\":false,\"mode\":\"lines\",\"line\":{\"color\":\"#66BAE7\",\"width\":2},\"y\":[25,25],\"type\":\"scatter\",\"x\":[0.3997568178105283,0.41194598252926384]},{\"showlegend\":false,\"mode\":\"lines\",\"line\":{\"color\":\"#66BAE7\",\"width\":2},\"y\":[24,24],\"type\":\"scatter\",\"x\":[0.3940156271482172,0.7421511786078362]},{\"showlegend\":false,\"mode\":\"lines\",\"line\":{\"color\":\"#66BAE7\",\"width\":2},\"y\":[23,23],\"type\":\"scatter\",\"x\":[0.3918516886603912,0.4187440985243851]},{\"showlegend\":false,\"mode\":\"lines\",\"line\":{\"color\":\"#66BAE7\",\"width\":2},\"y\":[22,22],\"type\":\"scatter\",\"x\":[0.39130660805307166,0.42707857233769025]},{\"showlegend\":false,\"mode\":\"lines\",\"line\":{\"color\":\"#66BAE7\",\"width\":2},\"y\":[21,21],\"type\":\"scatter\",\"x\":[0.38868453771664235,0.4556352356699378]},{\"showlegend\":false,\"mode\":\"lines\",\"line\":{\"color\":\"#66BAE7\",\"width\":2},\"y\":[20,20],\"type\":\"scatter\",\"x\":[0.38853764561107856,0.5369222737594332]},{\"showlegend\":false,\"mode\":\"lines\",\"line\":{\"color\":\"#66BAE7\",\"width\":2},\"y\":[19,19],\"type\":\"scatter\",\"x\":[0.38613376781757863,0.5308467517024099]},{\"showlegend\":false,\"mode\":\"lines\",\"line\":{\"color\":\"#66BAE7\",\"width\":2},\"y\":[18,18],\"type\":\"scatter\",\"x\":[0.37569164278567624,0.3805238206814397]},{\"showlegend\":false,\"mode\":\"lines\",\"line\":{\"color\":\"#66BAE7\",\"width\":2},\"y\":[17,17],\"type\":\"scatter\",\"x\":[0.37383530764495726,0.572754619544007]},{\"showlegend\":false,\"mode\":\"lines\",\"line\":{\"color\":\"#66BAE7\",\"width\":2},\"y\":[16,16],\"type\":\"scatter\",\"x\":[0.37042038750722056,0.4502341879544474]},{\"showlegend\":false,\"mode\":\"lines\",\"line\":{\"color\":\"#66BAE7\",\"width\":2},\"y\":[15,15],\"type\":\"scatter\",\"x\":[0.37020919549222525,0.38733667690266643]},{\"showlegend\":false,\"mode\":\"lines\",\"line\":{\"color\":\"#66BAE7\",\"width\":2},\"y\":[14,14],\"type\":\"scatter\",\"x\":[0.35097745749406833,0.3722814594376148]},{\"showlegend\":false,\"mode\":\"lines\",\"line\":{\"color\":\"#66BAE7\",\"width\":2},\"y\":[13,13],\"type\":\"scatter\",\"x\":[0.3487354599248555,0.4514393841192856]},{\"showlegend\":false,\"mode\":\"lines\",\"line\":{\"color\":\"#66BAE7\",\"width\":2},\"y\":[12,12],\"type\":\"scatter\",\"x\":[0.34440954255943607,0.4608325617336501]},{\"showlegend\":false,\"mode\":\"lines\",\"line\":{\"color\":\"#66BAE7\",\"width\":2},\"y\":[11,11],\"type\":\"scatter\",\"x\":[0.3419722970314992,0.35857158569245295]},{\"showlegend\":false,\"mode\":\"lines\",\"line\":{\"color\":\"#66BAE7\",\"width\":2},\"y\":[10,10],\"type\":\"scatter\",\"x\":[0.33813761899114414,0.5865663664173053]},{\"showlegend\":false,\"mode\":\"lines\",\"line\":{\"color\":\"#66BAE7\",\"width\":2},\"y\":[9,9],\"type\":\"scatter\",\"x\":[0.3371584100700991,0.3677462855978217]},{\"showlegend\":false,\"mode\":\"lines\",\"line\":{\"color\":\"#66BAE7\",\"width\":2},\"y\":[8,8],\"type\":\"scatter\",\"x\":[0.33621561320230114,0.42674385868457454]},{\"showlegend\":false,\"mode\":\"lines\",\"line\":{\"color\":\"#66BAE7\",\"width\":2},\"y\":[7,7],\"type\":\"scatter\",\"x\":[0.3314273946492658,0.37542840761322305]},{\"showlegend\":false,\"mode\":\"lines\",\"line\":{\"color\":\"#66BAE7\",\"width\":2},\"y\":[6,6],\"type\":\"scatter\",\"x\":[0.3300696350544831,0.40439962335541285]},{\"showlegend\":false,\"mode\":\"lines\",\"line\":{\"color\":\"#66BAE7\",\"width\":2},\"y\":[5,5],\"type\":\"scatter\",\"x\":[0.32314033354875615,0.4151272299584806]},{\"showlegend\":false,\"mode\":\"lines\",\"line\":{\"color\":\"#66BAE7\",\"width\":2},\"y\":[4,4],\"type\":\"scatter\",\"x\":[0.29922456865204033,0.3512821362879138]},{\"showlegend\":false,\"mode\":\"lines\",\"line\":{\"color\":\"#66BAE7\",\"width\":2},\"y\":[3,3],\"type\":\"scatter\",\"x\":[0.29921874198987014,0.43282674131920335]},{\"showlegend\":false,\"mode\":\"lines\",\"line\":{\"color\":\"#66BAE7\",\"width\":2},\"y\":[2,2],\"type\":\"scatter\",\"x\":[0.28817090433629944,0.32404290095448784]},{\"mode\":\"lines\",\"line\":{\"color\":\"#66BAE7\",\"width\":2},\"y\":[1,1],\"type\":\"scatter\",\"name\":\"Dimension 1\",\"x\":[0.2355615922768392,0.2683384352678533]}],{\"xaxis\":{\"showgrid\":false,\"zeroline\":false,\"rangevar\":[-0.001,1.745962737820209],\"title\":\"ϵ\"},\"margin\":{\"l\":50,\"b\":50,\"r\":50,\"t\":60},\"yaxis\":{\"showgrid\":false,\"rangevar\":[0.0,142.1],\"ticks\":false}},{}); gd.on(\"plotly_hover\",(function (data){var filtered_data=WebIO.PlotlyCommands.filterEventData(gd,data,\"hover\"); return !(filtered_data.isnil) ? (WebIO.setval({\"name\":\"hover\",\"scope\":\"17112711449274174047\",\"id\":\"13271695935289954967\",\"type\":\"observable\"},filtered_data.out)) : undefined})); gd.on(\"plotly_unhover\",(function (){return WebIO.setval({\"name\":\"hover\",\"scope\":\"17112711449274174047\",\"id\":\"13271695935289954967\",\"type\":\"observable\"},{})})); gd.on(\"plotly_selected\",(function (data){var filtered_data=WebIO.PlotlyCommands.filterEventData(gd,data,\"selected\"); return !(filtered_data.isnil) ? (WebIO.setval({\"name\":\"selected\",\"scope\":\"17112711449274174047\",\"id\":\"6339872460836679106\",\"type\":\"observable\"},filtered_data.out)) : undefined})); gd.on(\"plotly_deselect\",(function (){return WebIO.setval({\"name\":\"selected\",\"scope\":\"17112711449274174047\",\"id\":\"6339872460836679106\",\"type\":\"observable\"},{})})); gd.on(\"plotly_relayout\",(function (data){var filtered_data=WebIO.PlotlyCommands.filterEventData(gd,data,\"relayout\"); return !(filtered_data.isnil) ? (WebIO.setval({\"name\":\"relayout\",\"scope\":\"17112711449274174047\",\"id\":\"7638811493923890696\",\"type\":\"observable\"},filtered_data.out)) : undefined})); return gd.on(\"plotly_click\",(function (data){var filtered_data=WebIO.PlotlyCommands.filterEventData(gd,data,\"click\"); return !(filtered_data.isnil) ? (WebIO.setval({\"name\":\"click\",\"scope\":\"17112711449274174047\",\"id\":\"15694247859343224802\",\"type\":\"observable\"},filtered_data.out)) : undefined}))}));\n    (WebIO.importBlock({\"data\":[{\"name\":\"Plotly\",\"type\":\"js\",\"url\":\"/assetserver/0011d14de576c55f77111628d5a39fcc5762f320-plotly.min.js\"},{\"name\":null,\"type\":\"js\",\"url\":\"/assetserver/52365f0a3f606733873c2a55bbe1584aba3b706c-plotly_webio.bundle.js\"}],\"type\":\"async_block\"})).then((imports) => handler.apply(this, imports));\n}\n"
        ],
        "observables": {
         "__gd_contents": {
          "id": "1231539973372700161",
          "sync": false,
          "value": {}
         },
         "__get_gd_contents": {
          "id": "9290334696128910860",
          "sync": false,
          "value": ""
         },
         "_commands": {
          "id": "13519534998140644300",
          "sync": false,
          "value": []
         },
         "_downloadImage": {
          "id": "13140411201737231097",
          "sync": false,
          "value": {}
         },
         "_toImage": {
          "id": "4796465845503343799",
          "sync": false,
          "value": {}
         },
         "click": {
          "id": "15694247859343224802",
          "sync": false,
          "value": {}
         },
         "hover": {
          "id": "13271695935289954967",
          "sync": false,
          "value": {}
         },
         "image": {
          "id": "12932408321350986680",
          "sync": true,
          "value": ""
         },
         "relayout": {
          "id": "7638811493923890696",
          "sync": false,
          "value": {}
         },
         "selected": {
          "id": "6339872460836679106",
          "sync": false,
          "value": {}
         }
        },
        "systemjs_options": null
       },
       "nodeType": "Scope",
       "props": {},
       "type": "node"
      },
      "image/png": "[encoded data removed]",
      "image/svg+xml": [
       "<svg class=\"main-svg\" xmlns=\"http://www.w3.org/2000/svg\" xmlns:xlink=\"http://www.w3.org/1999/xlink\" width=\"700\" height=\"500\" style=\"\" viewBox=\"0 0 700 500\"><rect x=\"0\" y=\"0\" width=\"700\" height=\"500\" style=\"fill: rgb(255, 255, 255); fill-opacity: 1;\"/><defs id=\"defs-ec1828\"><g class=\"clips\"><clipPath id=\"clipec1828xyplot\" class=\"plotclip\"><rect width=\"507\" height=\"390\"/></clipPath><clipPath class=\"axesclip\" id=\"clipec1828x\"><rect x=\"50\" y=\"0\" width=\"507\" height=\"500\"/></clipPath><clipPath class=\"axesclip\" id=\"clipec1828y\"><rect x=\"0\" y=\"60\" width=\"700\" height=\"390\"/></clipPath><clipPath class=\"axesclip\" id=\"clipec1828xy\"><rect x=\"50\" y=\"60\" width=\"507\" height=\"390\"/></clipPath></g><g class=\"gradients\"/></defs><g class=\"bglayer\"/><g class=\"layer-below\"><g class=\"imagelayer\"/><g class=\"shapelayer\"/></g><g class=\"cartesianlayer\"><g class=\"subplot xy\"><g class=\"layer-subplot\"><g class=\"shapelayer\"/><g class=\"imagelayer\"/></g><g class=\"gridlayer\"><g class=\"x\"/><g class=\"y\"/></g><g class=\"zerolinelayer\"><path class=\"yzl zl crisp\" transform=\"translate(0,432.99)\" d=\"M50,0h507\" style=\"stroke: rgb(68, 68, 68); stroke-opacity: 1; stroke-width: 1px;\"/></g><path class=\"xlines-below\"/><path class=\"ylines-below\"/><g class=\"overlines-below\"/><g class=\"xaxislayer-below\"/><g class=\"yaxislayer-below\"/><g class=\"overaxes-below\"/><g class=\"plot\" transform=\"translate(50,60)\" clip-path=\"url('#clipec1828xyplot')\"><g class=\"scatterlayer mlayer\"><g class=\"trace scatter tracebb420e\" style=\"stroke-miterlimit: 2; opacity: 1;\"><g class=\"fills\"/><g class=\"errorbars\"/><g class=\"lines\"><path class=\"js-line\" d=\"M290.87,19.5L295.93,19.5\" style=\"vector-effect: non-scaling-stroke; fill: none; stroke: rgb(102, 186, 231); stroke-opacity: 1; stroke-width: 2px; opacity: 1;\"/></g><g class=\"points\"/><g class=\"text\"/></g><g class=\"trace scatter trace9f7567\" style=\"stroke-miterlimit: 2; opacity: 1;\"><g class=\"fills\"/><g class=\"errorbars\"/><g class=\"lines\"><path class=\"js-line\" d=\"M242.26,21.99L294.94,21.99\" style=\"vector-effect: non-scaling-stroke; fill: none; stroke: rgb(102, 186, 231); stroke-opacity: 1; stroke-width: 2px; opacity: 1;\"/></g><g class=\"points\"/><g class=\"text\"/></g><g class=\"trace scatter tracecf1a9b\" style=\"stroke-miterlimit: 2; opacity: 1;\"><g class=\"fills\"/><g class=\"errorbars\"/><g class=\"lines\"><path class=\"js-line\" d=\"M234.09,24.48L288.74,24.48\" style=\"vector-effect: non-scaling-stroke; fill: none; stroke: rgb(102, 186, 231); stroke-opacity: 1; stroke-width: 2px; opacity: 1;\"/></g><g class=\"points\"/><g class=\"text\"/></g><g class=\"trace scatter trace6d35e6\" style=\"stroke-miterlimit: 2; opacity: 1;\"><g class=\"fills\"/><g class=\"errorbars\"/><g class=\"lines\"><path class=\"js-line\" d=\"M214.75,26.97L218.9,26.97\" style=\"vector-effect: non-scaling-stroke; fill: none; stroke: rgb(102, 186, 231); stroke-opacity: 1; stroke-width: 2px; opacity: 1;\"/></g><g class=\"points\"/><g class=\"text\"/></g><g class=\"trace scatter trace8da6e4\" style=\"stroke-miterlimit: 2; opacity: 1;\"><g class=\"fills\"/><g class=\"errorbars\"/><g class=\"lines\"><path class=\"js-line\" d=\"M213.93,29.46L260.5,29.46\" style=\"vector-effect: non-scaling-stroke; fill: none; stroke: rgb(102, 186, 231); stroke-opacity: 1; stroke-width: 2px; opacity: 1;\"/></g><g class=\"points\"/><g class=\"text\"/></g><g class=\"trace scatter tracece364c\" style=\"stroke-miterlimit: 2; opacity: 1;\"><g class=\"fills\"/><g class=\"errorbars\"/><g class=\"lines\"><path class=\"js-line\" d=\"M207.29,31.95L232.81,31.95\" style=\"vector-effect: non-scaling-stroke; fill: none; stroke: rgb(102, 186, 231); stroke-opacity: 1; stroke-width: 2px; opacity: 1;\"/></g><g class=\"points\"/><g class=\"text\"/></g><g class=\"trace scatter trace5a8997\" style=\"stroke-miterlimit: 2; opacity: 1;\"><g class=\"fills\"/><g class=\"errorbars\"/><g class=\"lines\"><path class=\"js-line\" d=\"M194.88,34.44L197.68,34.44\" style=\"vector-effect: non-scaling-stroke; fill: none; stroke: rgb(102, 186, 231); stroke-opacity: 1; stroke-width: 2px; opacity: 1;\"/></g><g class=\"points\"/><g class=\"text\"/></g><g class=\"trace scatter trace67092b\" style=\"stroke-miterlimit: 2; opacity: 1;\"><g class=\"fills\"/><g class=\"errorbars\"/><g class=\"lines\"><path class=\"js-line\" d=\"M183.57,36.93L185.02,36.93\" style=\"vector-effect: non-scaling-stroke; fill: none; stroke: rgb(102, 186, 231); stroke-opacity: 1; stroke-width: 2px; opacity: 1;\"/></g><g class=\"points\"/><g class=\"text\"/></g><g class=\"trace scatter trace4bbde9\" style=\"stroke-miterlimit: 2; opacity: 1;\"><g class=\"fills\"/><g class=\"errorbars\"/><g class=\"lines\"><path class=\"js-line\" d=\"M180.59,39.41L224.59,39.41\" style=\"vector-effect: non-scaling-stroke; fill: none; stroke: rgb(102, 186, 231); stroke-opacity: 1; stroke-width: 2px; opacity: 1;\"/></g><g class=\"points\"/><g class=\"text\"/></g><g class=\"trace scatter tracebf63e3\" style=\"stroke-miterlimit: 2; opacity: 1;\"><g class=\"fills\"/><g class=\"errorbars\"/><g class=\"lines\"><path class=\"js-line\" d=\"M176.2,41.9L197.84,41.9\" style=\"vector-effect: non-scaling-stroke; fill: none; stroke: rgb(102, 186, 231); stroke-opacity: 1; stroke-width: 2px; opacity: 1;\"/></g><g class=\"points\"/><g class=\"text\"/></g><g class=\"trace scatter trace27f89f\" style=\"stroke-miterlimit: 2; opacity: 1;\"><g class=\"fills\"/><g class=\"errorbars\"/><g class=\"lines\"><path class=\"js-line\" d=\"M175.22,44.39L223.37,44.39\" style=\"vector-effect: non-scaling-stroke; fill: none; stroke: rgb(102, 186, 231); stroke-opacity: 1; stroke-width: 2px; opacity: 1;\"/></g><g class=\"points\"/><g class=\"text\"/></g><g class=\"trace scatter tracec99d87\" style=\"stroke-miterlimit: 2; opacity: 1;\"><g class=\"fills\"/><g class=\"errorbars\"/><g class=\"lines\"><path class=\"js-line\" d=\"M166.79,46.88L174.58,46.88\" style=\"vector-effect: non-scaling-stroke; fill: none; stroke: rgb(102, 186, 231); stroke-opacity: 1; stroke-width: 2px; opacity: 1;\"/></g><g class=\"points\"/><g class=\"text\"/></g><g class=\"trace scatter trace5c8194\" style=\"stroke-miterlimit: 2; opacity: 1;\"><g class=\"fills\"/><g class=\"errorbars\"/><g class=\"lines\"><path class=\"js-line\" d=\"M164.56,49.37L176.2,49.37\" style=\"vector-effect: non-scaling-stroke; fill: none; stroke: rgb(102, 186, 231); stroke-opacity: 1; stroke-width: 2px; opacity: 1;\"/></g><g class=\"points\"/><g class=\"text\"/></g><g class=\"trace scatter trace9d31cd\" style=\"stroke-miterlimit: 2; opacity: 1;\"><g class=\"fills\"/><g class=\"errorbars\"/><g class=\"lines\"><path class=\"js-line\" d=\"M163.13,51.86L316.37,51.86\" style=\"vector-effect: non-scaling-stroke; fill: none; stroke: rgb(102, 186, 231); stroke-opacity: 1; stroke-width: 2px; opacity: 1;\"/></g><g class=\"points\"/><g class=\"text\"/></g><g class=\"trace scatter tracef1599a\" style=\"stroke-miterlimit: 2; opacity: 1;\"><g class=\"fills\"/><g class=\"errorbars\"/><g class=\"lines\"><path class=\"js-line\" d=\"M161.79,54.35L178.79,54.35\" style=\"vector-effect: non-scaling-stroke; fill: none; stroke: rgb(102, 186, 231); stroke-opacity: 1; stroke-width: 2px; opacity: 1;\"/></g><g class=\"points\"/><g class=\"text\"/></g><g class=\"trace scatter trace26502d\" style=\"stroke-miterlimit: 2; opacity: 1;\"><g class=\"fills\"/><g class=\"errorbars\"/><g class=\"lines\"><path class=\"js-line\" d=\"M160.75,56.84L204.06,56.84\" style=\"vector-effect: non-scaling-stroke; fill: none; stroke: rgb(102, 186, 231); stroke-opacity: 1; stroke-width: 2px; opacity: 1;\"/></g><g class=\"points\"/><g class=\"text\"/></g><g class=\"trace scatter trace4ed0dd\" style=\"stroke-miterlimit: 2; opacity: 1;\"><g class=\"fills\"/><g class=\"errorbars\"/><g class=\"lines\"><path class=\"js-line\" d=\"M160.46,59.33L183.25,59.33\" style=\"vector-effect: non-scaling-stroke; fill: none; stroke: rgb(102, 186, 231); stroke-opacity: 1; stroke-width: 2px; opacity: 1;\"/></g><g class=\"points\"/><g class=\"text\"/></g><g class=\"trace scatter trace95d6db\" style=\"stroke-miterlimit: 2; opacity: 1;\"><g class=\"fills\"/><g class=\"errorbars\"/><g class=\"lines\"><path class=\"js-line\" d=\"M160.19,61.82L308.47,61.82\" style=\"vector-effect: non-scaling-stroke; fill: none; stroke: rgb(102, 186, 231); stroke-opacity: 1; stroke-width: 2px; opacity: 1;\"/></g><g class=\"points\"/><g class=\"text\"/></g><g class=\"trace scatter traceb0ec40\" style=\"stroke-miterlimit: 2; opacity: 1;\"><g class=\"fills\"/><g class=\"errorbars\"/><g class=\"lines\"><path class=\"js-line\" d=\"M159.97,64.31L197.14,64.31\" style=\"vector-effect: non-scaling-stroke; fill: none; stroke: rgb(102, 186, 231); stroke-opacity: 1; stroke-width: 2px; opacity: 1;\"/></g><g class=\"points\"/><g class=\"text\"/></g><g class=\"trace scatter trace76a453\" style=\"stroke-miterlimit: 2; opacity: 1;\"><g class=\"fills\"/><g class=\"errorbars\"/><g class=\"lines\"><path class=\"js-line\" d=\"M155.15,66.8L202.09,66.8\" style=\"vector-effect: non-scaling-stroke; fill: none; stroke: rgb(102, 186, 231); stroke-opacity: 1; stroke-width: 2px; opacity: 1;\"/></g><g class=\"points\"/><g class=\"text\"/></g><g class=\"trace scatter trace15b8cb\" style=\"stroke-miterlimit: 2; opacity: 1;\"><g class=\"fills\"/><g class=\"errorbars\"/><g class=\"lines\"><path class=\"js-line\" d=\"M154.73,69.29L162.58,69.29\" style=\"vector-effect: non-scaling-stroke; fill: none; stroke: rgb(102, 186, 231); stroke-opacity: 1; stroke-width: 2px; opacity: 1;\"/></g><g class=\"points\"/><g class=\"text\"/></g><g class=\"trace scatter trace009fea\" style=\"stroke-miterlimit: 2; opacity: 1;\"><g class=\"fills\"/><g class=\"errorbars\"/><g class=\"lines\"><path class=\"js-line\" d=\"M153.52,71.78L173.77,71.78\" style=\"vector-effect: non-scaling-stroke; fill: none; stroke: rgb(102, 186, 231); stroke-opacity: 1; stroke-width: 2px; opacity: 1;\"/></g><g class=\"points\"/><g class=\"text\"/></g><g class=\"trace scatter trace761e78\" style=\"stroke-miterlimit: 2; opacity: 1;\"><g class=\"fills\"/><g class=\"errorbars\"/><g class=\"lines\"><path class=\"js-line\" d=\"M153.27,74.27L190.57,74.27\" style=\"vector-effect: non-scaling-stroke; fill: none; stroke: rgb(102, 186, 231); stroke-opacity: 1; stroke-width: 2px; opacity: 1;\"/></g><g class=\"points\"/><g class=\"text\"/></g><g class=\"trace scatter trace283565\" style=\"stroke-miterlimit: 2; opacity: 1;\"><g class=\"fills\"/><g class=\"errorbars\"/><g class=\"lines\"><path class=\"js-line\" d=\"M151.53,76.76L157.21,76.76\" style=\"vector-effect: non-scaling-stroke; fill: none; stroke: rgb(102, 186, 231); stroke-opacity: 1; stroke-width: 2px; opacity: 1;\"/></g><g class=\"points\"/><g class=\"text\"/></g><g class=\"trace scatter trace0ab81c\" style=\"stroke-miterlimit: 2; opacity: 1;\"><g class=\"fills\"/><g class=\"errorbars\"/><g class=\"lines\"><path class=\"js-line\" d=\"M149.02,79.24L230.7,79.24\" style=\"vector-effect: non-scaling-stroke; fill: none; stroke: rgb(102, 186, 231); stroke-opacity: 1; stroke-width: 2px; opacity: 1;\"/></g><g class=\"points\"/><g class=\"text\"/></g><g class=\"trace scatter trace4f4cad\" style=\"stroke-miterlimit: 2; opacity: 1;\"><g class=\"fills\"/><g class=\"errorbars\"/><g class=\"lines\"><path class=\"js-line\" d=\"M146.75,81.73L211.28,81.73\" style=\"vector-effect: non-scaling-stroke; fill: none; stroke: rgb(102, 186, 231); stroke-opacity: 1; stroke-width: 2px; opacity: 1;\"/></g><g class=\"points\"/><g class=\"text\"/></g><g class=\"trace scatter trace92fb82\" style=\"stroke-miterlimit: 2; opacity: 1;\"><g class=\"fills\"/><g class=\"errorbars\"/><g class=\"lines\"><path class=\"js-line\" d=\"M144.28,84.22L151.83,84.22\" style=\"vector-effect: non-scaling-stroke; fill: none; stroke: rgb(102, 186, 231); stroke-opacity: 1; stroke-width: 2px; opacity: 1;\"/></g><g class=\"points\"/><g class=\"text\"/></g><g class=\"trace scatter trace1c9f4a\" style=\"stroke-miterlimit: 2; opacity: 1;\"><g class=\"fills\"/><g class=\"errorbars\"/><g class=\"lines\"><path class=\"js-line\" d=\"M143.96,86.71L204.51,86.71\" style=\"vector-effect: non-scaling-stroke; fill: none; stroke: rgb(102, 186, 231); stroke-opacity: 1; stroke-width: 2px; opacity: 1;\"/></g><g class=\"points\"/><g class=\"text\"/></g><g class=\"trace scatter trace6255e8\" style=\"stroke-miterlimit: 2; opacity: 1;\"><g class=\"fills\"/><g class=\"errorbars\"/><g class=\"lines\"><path class=\"js-line\" d=\"M143.25,89.2L155.85,89.2\" style=\"vector-effect: non-scaling-stroke; fill: none; stroke: rgb(102, 186, 231); stroke-opacity: 1; stroke-width: 2px; opacity: 1;\"/></g><g class=\"points\"/><g class=\"text\"/></g><g class=\"trace scatter tracedaa612\" style=\"stroke-miterlimit: 2; opacity: 1;\"><g class=\"fills\"/><g class=\"errorbars\"/><g class=\"lines\"><path class=\"js-line\" d=\"M139.37,91.69L156.67,91.69\" style=\"vector-effect: non-scaling-stroke; fill: none; stroke: rgb(102, 186, 231); stroke-opacity: 1; stroke-width: 2px; opacity: 1;\"/></g><g class=\"points\"/><g class=\"text\"/></g><g class=\"trace scatter tracec4ca52\" style=\"stroke-miterlimit: 2; opacity: 1;\"><g class=\"fills\"/><g class=\"errorbars\"/><g class=\"lines\"><path class=\"js-line\" d=\"M138.12,94.18L159.03,94.18\" style=\"vector-effect: non-scaling-stroke; fill: none; stroke: rgb(102, 186, 231); stroke-opacity: 1; stroke-width: 2px; opacity: 1;\"/></g><g class=\"points\"/><g class=\"text\"/></g><g class=\"trace scatter trace8e7c32\" style=\"stroke-miterlimit: 2; opacity: 1;\"><g class=\"fills\"/><g class=\"errorbars\"/><g class=\"lines\"><path class=\"js-line\" d=\"M135.99,96.67L226.74,96.67\" style=\"vector-effect: non-scaling-stroke; fill: none; stroke: rgb(102, 186, 231); stroke-opacity: 1; stroke-width: 2px; opacity: 1;\"/></g><g class=\"points\"/><g class=\"text\"/></g><g class=\"trace scatter tracedc847b\" style=\"stroke-miterlimit: 2; opacity: 1;\"><g class=\"fills\"/><g class=\"errorbars\"/><g class=\"lines\"><path class=\"js-line\" d=\"M133.69,99.16L133.87,99.16\" style=\"vector-effect: non-scaling-stroke; fill: none; stroke: rgb(102, 186, 231); stroke-opacity: 1; stroke-width: 2px; opacity: 1;\"/></g><g class=\"points\"/><g class=\"text\"/></g><g class=\"trace scatter trace1835f2\" style=\"stroke-miterlimit: 2; opacity: 1;\"><g class=\"fills\"/><g class=\"errorbars\"/><g class=\"lines\"><path class=\"js-line\" d=\"M133.53,101.65L244.5,101.65\" style=\"vector-effect: non-scaling-stroke; fill: none; stroke: rgb(102, 186, 231); stroke-opacity: 1; stroke-width: 2px; opacity: 1;\"/></g><g class=\"points\"/><g class=\"text\"/></g><g class=\"trace scatter traceccf3e4\" style=\"stroke-miterlimit: 2; opacity: 1;\"><g class=\"fills\"/><g class=\"errorbars\"/><g class=\"lines\"><path class=\"js-line\" d=\"M132.79,104.14L157.62,104.14\" style=\"vector-effect: non-scaling-stroke; fill: none; stroke: rgb(102, 186, 231); stroke-opacity: 1; stroke-width: 2px; opacity: 1;\"/></g><g class=\"points\"/><g class=\"text\"/></g><g class=\"trace scatter trace90bcf9\" style=\"stroke-miterlimit: 2; opacity: 1;\"><g class=\"fills\"/><g class=\"errorbars\"/><g class=\"lines\"><path class=\"js-line\" d=\"M131.7,106.63L140.22,106.63\" style=\"vector-effect: non-scaling-stroke; fill: none; stroke: rgb(102, 186, 231); stroke-opacity: 1; stroke-width: 2px; opacity: 1;\"/></g><g class=\"points\"/><g class=\"text\"/></g><g class=\"trace scatter trace0bec0e\" style=\"stroke-miterlimit: 2; opacity: 1;\"><g class=\"fills\"/><g class=\"errorbars\"/><g class=\"lines\"><path class=\"js-line\" d=\"M128.77,109.12L229.57,109.12\" style=\"vector-effect: non-scaling-stroke; fill: none; stroke: rgb(102, 186, 231); stroke-opacity: 1; stroke-width: 2px; opacity: 1;\"/></g><g class=\"points\"/><g class=\"text\"/></g><g class=\"trace scatter trace5e3411\" style=\"stroke-miterlimit: 2; opacity: 1;\"><g class=\"fills\"/><g class=\"errorbars\"/><g class=\"lines\"><path class=\"js-line\" d=\"M128.1,111.61L207.75,111.61\" style=\"vector-effect: non-scaling-stroke; fill: none; stroke: rgb(102, 186, 231); stroke-opacity: 1; stroke-width: 2px; opacity: 1;\"/></g><g class=\"points\"/><g class=\"text\"/></g><g class=\"trace scatter trace00248a\" style=\"stroke-miterlimit: 2; opacity: 1;\"><g class=\"fills\"/><g class=\"errorbars\"/><g class=\"lines\"><path class=\"js-line\" d=\"M127.25,114.1L187.29,114.1\" style=\"vector-effect: non-scaling-stroke; fill: none; stroke: rgb(102, 186, 231); stroke-opacity: 1; stroke-width: 2px; opacity: 1;\"/></g><g class=\"points\"/><g class=\"text\"/></g><g class=\"trace scatter tracec8147c\" style=\"stroke-miterlimit: 2; opacity: 1;\"><g class=\"fills\"/><g class=\"errorbars\"/><g class=\"lines\"><path class=\"js-line\" d=\"M126.02,116.59L261.95,116.59\" style=\"vector-effect: non-scaling-stroke; fill: none; stroke: rgb(102, 186, 231); stroke-opacity: 1; stroke-width: 2px; opacity: 1;\"/></g><g class=\"points\"/><g class=\"text\"/></g><g class=\"trace scatter trace6938f4\" style=\"stroke-miterlimit: 2; opacity: 1;\"><g class=\"fills\"/><g class=\"errorbars\"/><g class=\"lines\"><path class=\"js-line\" d=\"M125.63,119.07L147.52,119.07\" style=\"vector-effect: non-scaling-stroke; fill: none; stroke: rgb(102, 186, 231); stroke-opacity: 1; stroke-width: 2px; opacity: 1;\"/></g><g class=\"points\"/><g class=\"text\"/></g><g class=\"trace scatter tracefdd443\" style=\"stroke-miterlimit: 2; opacity: 1;\"><g class=\"fills\"/><g class=\"errorbars\"/><g class=\"lines\"><path class=\"js-line\" d=\"M124.84,121.56L149.3,121.56\" style=\"vector-effect: non-scaling-stroke; fill: none; stroke: rgb(102, 186, 231); stroke-opacity: 1; stroke-width: 2px; opacity: 1;\"/></g><g class=\"points\"/><g class=\"text\"/></g><g class=\"trace scatter tracef989b8\" style=\"stroke-miterlimit: 2; opacity: 1;\"><g class=\"fills\"/><g class=\"errorbars\"/><g class=\"lines\"><path class=\"js-line\" d=\"M124.44,124.05L132.13,124.05\" style=\"vector-effect: non-scaling-stroke; fill: none; stroke: rgb(102, 186, 231); stroke-opacity: 1; stroke-width: 2px; opacity: 1;\"/></g><g class=\"points\"/><g class=\"text\"/></g><g class=\"trace scatter trace644084\" style=\"stroke-miterlimit: 2; opacity: 1;\"><g class=\"fills\"/><g class=\"errorbars\"/><g class=\"lines\"><path class=\"js-line\" d=\"M121.11,126.54L131.74,126.54\" style=\"vector-effect: non-scaling-stroke; fill: none; stroke: rgb(102, 186, 231); stroke-opacity: 1; stroke-width: 2px; opacity: 1;\"/></g><g class=\"points\"/><g class=\"text\"/></g><g class=\"trace scatter trace7aecff\" style=\"stroke-miterlimit: 2; opacity: 1;\"><g class=\"fills\"/><g class=\"errorbars\"/><g class=\"lines\"><path class=\"js-line\" d=\"M119.7,129.03L216.29,129.03\" style=\"vector-effect: non-scaling-stroke; fill: none; stroke: rgb(102, 186, 231); stroke-opacity: 1; stroke-width: 2px; opacity: 1;\"/></g><g class=\"points\"/><g class=\"text\"/></g><g class=\"trace scatter trace2ac749\" style=\"stroke-miterlimit: 2; opacity: 1;\"><g class=\"fills\"/><g class=\"errorbars\"/><g class=\"lines\"><path class=\"js-line\" d=\"M119.03,131.52L311.29,131.52\" style=\"vector-effect: non-scaling-stroke; fill: none; stroke: rgb(102, 186, 231); stroke-opacity: 1; stroke-width: 2px; opacity: 1;\"/></g><g class=\"points\"/><g class=\"text\"/></g><g class=\"trace scatter trace2c5262\" style=\"stroke-miterlimit: 2; opacity: 1;\"><g class=\"fills\"/><g class=\"errorbars\"/><g class=\"lines\"><path class=\"js-line\" d=\"M117.49,134.01L165.7,134.01\" style=\"vector-effect: non-scaling-stroke; fill: none; stroke: rgb(102, 186, 231); stroke-opacity: 1; stroke-width: 2px; opacity: 1;\"/></g><g class=\"points\"/><g class=\"text\"/></g><g class=\"trace scatter trace97c094\" style=\"stroke-miterlimit: 2; opacity: 1;\"><g class=\"fills\"/><g class=\"errorbars\"/><g class=\"lines\"><path class=\"js-line\" d=\"M116.5,136.5L134.52,136.5\" style=\"vector-effect: non-scaling-stroke; fill: none; stroke: rgb(102, 186, 231); stroke-opacity: 1; stroke-width: 2px; opacity: 1;\"/></g><g class=\"points\"/><g class=\"text\"/></g><g class=\"trace scatter traceb345ce\" style=\"stroke-miterlimit: 2; opacity: 1;\"><g class=\"fills\"/><g class=\"errorbars\"/><g class=\"lines\"><path class=\"js-line\" d=\"M116.43,138.99L184.43,138.99\" style=\"vector-effect: non-scaling-stroke; fill: none; stroke: rgb(102, 186, 231); stroke-opacity: 1; stroke-width: 2px; opacity: 1;\"/></g><g class=\"points\"/><g class=\"text\"/></g><g class=\"trace scatter trace5108ea\" style=\"stroke-miterlimit: 2; opacity: 1;\"><g class=\"fills\"/><g class=\"errorbars\"/><g class=\"lines\"><path class=\"js-line\" d=\"M116.41,141.48L150.49,141.48\" style=\"vector-effect: non-scaling-stroke; fill: none; stroke: rgb(102, 186, 231); stroke-opacity: 1; stroke-width: 2px; opacity: 1;\"/></g><g class=\"points\"/><g class=\"text\"/></g><g class=\"trace scatter trace02f2c6\" style=\"stroke-miterlimit: 2; opacity: 1;\"><g class=\"fills\"/><g class=\"errorbars\"/><g class=\"lines\"><path class=\"js-line\" d=\"M115.01,143.97L321.85,143.97\" style=\"vector-effect: non-scaling-stroke; fill: none; stroke: rgb(102, 186, 231); stroke-opacity: 1; stroke-width: 2px; opacity: 1;\"/></g><g class=\"points\"/><g class=\"text\"/></g><g class=\"trace scatter trace9ed829\" style=\"stroke-miterlimit: 2; opacity: 1;\"><g class=\"fills\"/><g class=\"errorbars\"/><g class=\"lines\"><path class=\"js-line\" d=\"M115.01,146.46L159.42,146.46\" style=\"vector-effect: non-scaling-stroke; fill: none; stroke: rgb(102, 186, 231); stroke-opacity: 1; stroke-width: 2px; opacity: 1;\"/></g><g class=\"points\"/><g class=\"text\"/></g><g class=\"trace scatter trace16dd30\" style=\"stroke-miterlimit: 2; opacity: 1;\"><g class=\"fills\"/><g class=\"errorbars\"/><g class=\"lines\"><path class=\"js-line\" d=\"M114.49,148.95L223.54,148.95\" style=\"vector-effect: non-scaling-stroke; fill: none; stroke: rgb(102, 186, 231); stroke-opacity: 1; stroke-width: 2px; opacity: 1;\"/></g><g class=\"points\"/><g class=\"text\"/></g><g class=\"trace scatter trace005e78\" style=\"stroke-miterlimit: 2; opacity: 1;\"><g class=\"fills\"/><g class=\"errorbars\"/><g class=\"lines\"><path class=\"js-line\" d=\"M114.17,151.44L174.81,151.44\" style=\"vector-effect: non-scaling-stroke; fill: none; stroke: rgb(102, 186, 231); stroke-opacity: 1; stroke-width: 2px; opacity: 1;\"/></g><g class=\"points\"/><g class=\"text\"/></g><g class=\"trace scatter traced45a4b\" style=\"stroke-miterlimit: 2; opacity: 1;\"><g class=\"fills\"/><g class=\"errorbars\"/><g class=\"lines\"><path class=\"js-line\" d=\"M113.2,153.93L114.35,153.93\" style=\"vector-effect: non-scaling-stroke; fill: none; stroke: rgb(102, 186, 231); stroke-opacity: 1; stroke-width: 2px; opacity: 1;\"/></g><g class=\"points\"/><g class=\"text\"/></g><g class=\"trace scatter traced3f97b\" style=\"stroke-miterlimit: 2; opacity: 1;\"><g class=\"fills\"/><g class=\"errorbars\"/><g class=\"lines\"><path class=\"js-line\" d=\"M112.97,156.41L123.56,156.41\" style=\"vector-effect: non-scaling-stroke; fill: none; stroke: rgb(102, 186, 231); stroke-opacity: 1; stroke-width: 2px; opacity: 1;\"/></g><g class=\"points\"/><g class=\"text\"/></g><g class=\"trace scatter traceaf3b6a\" style=\"stroke-miterlimit: 2; opacity: 1;\"><g class=\"fills\"/><g class=\"errorbars\"/><g class=\"lines\"><path class=\"js-line\" d=\"M112.49,158.9L128.52,158.9\" style=\"vector-effect: non-scaling-stroke; fill: none; stroke: rgb(102, 186, 231); stroke-opacity: 1; stroke-width: 2px; opacity: 1;\"/></g><g class=\"points\"/><g class=\"text\"/></g><g class=\"trace scatter tracef6df46\" style=\"stroke-miterlimit: 2; opacity: 1;\"><g class=\"fills\"/><g class=\"errorbars\"/><g class=\"lines\"><path class=\"js-line\" d=\"M111.55,161.39L190.68,161.39\" style=\"vector-effect: non-scaling-stroke; fill: none; stroke: rgb(102, 186, 231); stroke-opacity: 1; stroke-width: 2px; opacity: 1;\"/></g><g class=\"points\"/><g class=\"text\"/></g><g class=\"trace scatter traceebfdf2\" style=\"stroke-miterlimit: 2; opacity: 1;\"><g class=\"fills\"/><g class=\"errorbars\"/><g class=\"lines\"><path class=\"js-line\" d=\"M110.46,163.88L124.88,163.88\" style=\"vector-effect: non-scaling-stroke; fill: none; stroke: rgb(102, 186, 231); stroke-opacity: 1; stroke-width: 2px; opacity: 1;\"/></g><g class=\"points\"/><g class=\"text\"/></g><g class=\"trace scatter tracea8cefa\" style=\"stroke-miterlimit: 2; opacity: 1;\"><g class=\"fills\"/><g class=\"errorbars\"/><g class=\"lines\"><path class=\"js-line\" d=\"M108.82,166.37L205.84,166.37\" style=\"vector-effect: non-scaling-stroke; fill: none; stroke: rgb(102, 186, 231); stroke-opacity: 1; stroke-width: 2px; opacity: 1;\"/></g><g class=\"points\"/><g class=\"text\"/></g><g class=\"trace scatter traceea0d70\" style=\"stroke-miterlimit: 2; opacity: 1;\"><g class=\"fills\"/><g class=\"errorbars\"/><g class=\"lines\"><path class=\"js-line\" d=\"M107.43,168.86L331.86,168.86\" style=\"vector-effect: non-scaling-stroke; fill: none; stroke: rgb(102, 186, 231); stroke-opacity: 1; stroke-width: 2px; opacity: 1;\"/></g><g class=\"points\"/><g class=\"text\"/></g><g class=\"trace scatter trace8ec747\" style=\"stroke-miterlimit: 2; opacity: 1;\"><g class=\"fills\"/><g class=\"errorbars\"/><g class=\"lines\"><path class=\"js-line\" d=\"M106.03,171.35L168.96,171.35\" style=\"vector-effect: non-scaling-stroke; fill: none; stroke: rgb(102, 186, 231); stroke-opacity: 1; stroke-width: 2px; opacity: 1;\"/></g><g class=\"points\"/><g class=\"text\"/></g><g class=\"trace scatter trace5833fe\" style=\"stroke-miterlimit: 2; opacity: 1;\"><g class=\"fills\"/><g class=\"errorbars\"/><g class=\"lines\"><path class=\"js-line\" d=\"M105.44,173.84L110.11,173.84\" style=\"vector-effect: non-scaling-stroke; fill: none; stroke: rgb(102, 186, 231); stroke-opacity: 1; stroke-width: 2px; opacity: 1;\"/></g><g class=\"points\"/><g class=\"text\"/></g><g class=\"trace scatter trace11cfac\" style=\"stroke-miterlimit: 2; opacity: 1;\"><g class=\"fills\"/><g class=\"errorbars\"/><g class=\"lines\"><path class=\"js-line\" d=\"M101.75,176.33L194.75,176.33\" style=\"vector-effect: non-scaling-stroke; fill: none; stroke: rgb(102, 186, 231); stroke-opacity: 1; stroke-width: 2px; opacity: 1;\"/></g><g class=\"points\"/><g class=\"text\"/></g><g class=\"trace scatter tracec43538\" style=\"stroke-miterlimit: 2; opacity: 1;\"><g class=\"fills\"/><g class=\"errorbars\"/><g class=\"lines\"><path class=\"js-line\" d=\"M101.64,178.82L198.76,178.82\" style=\"vector-effect: non-scaling-stroke; fill: none; stroke: rgb(102, 186, 231); stroke-opacity: 1; stroke-width: 2px; opacity: 1;\"/></g><g class=\"points\"/><g class=\"text\"/></g><g class=\"trace scatter tracedef95e\" style=\"stroke-miterlimit: 2; opacity: 1;\"><g class=\"fills\"/><g class=\"errorbars\"/><g class=\"lines\"><path class=\"js-line\" d=\"M100.79,181.31L136.79,181.31\" style=\"vector-effect: non-scaling-stroke; fill: none; stroke: rgb(102, 186, 231); stroke-opacity: 1; stroke-width: 2px; opacity: 1;\"/></g><g class=\"points\"/><g class=\"text\"/></g><g class=\"trace scatter trace268dc8\" style=\"stroke-miterlimit: 2; opacity: 1;\"><g class=\"fills\"/><g class=\"errorbars\"/><g class=\"lines\"><path class=\"js-line\" d=\"M100.49,183.8L139.04,183.8\" style=\"vector-effect: non-scaling-stroke; fill: none; stroke: rgb(102, 186, 231); stroke-opacity: 1; stroke-width: 2px; opacity: 1;\"/></g><g class=\"points\"/><g class=\"text\"/></g><g class=\"trace scatter trace233bd8\" style=\"stroke-miterlimit: 2; opacity: 1;\"><g class=\"fills\"/><g class=\"errorbars\"/><g class=\"lines\"><path class=\"js-line\" d=\"M99.84,186.29L250.01,186.29\" style=\"vector-effect: non-scaling-stroke; fill: none; stroke: rgb(102, 186, 231); stroke-opacity: 1; stroke-width: 2px; opacity: 1;\"/></g><g class=\"points\"/><g class=\"text\"/></g><g class=\"trace scatter trace4d179b\" style=\"stroke-miterlimit: 2; opacity: 1;\"><g class=\"fills\"/><g class=\"errorbars\"/><g class=\"lines\"><path class=\"js-line\" d=\"M99.82,188.78L102.28,188.78\" style=\"vector-effect: non-scaling-stroke; fill: none; stroke: rgb(102, 186, 231); stroke-opacity: 1; stroke-width: 2px; opacity: 1;\"/></g><g class=\"points\"/><g class=\"text\"/></g><g class=\"trace scatter trace4f52a6\" style=\"stroke-miterlimit: 2; opacity: 1;\"><g class=\"fills\"/><g class=\"errorbars\"/><g class=\"lines\"><path class=\"js-line\" d=\"M99.03,191.27L124.21,191.27\" style=\"vector-effect: non-scaling-stroke; fill: none; stroke: rgb(102, 186, 231); stroke-opacity: 1; stroke-width: 2px; opacity: 1;\"/></g><g class=\"points\"/><g class=\"text\"/></g><g class=\"trace scatter traceeff6d3\" style=\"stroke-miterlimit: 2; opacity: 1;\"><g class=\"fills\"/><g class=\"errorbars\"/><g class=\"lines\"><path class=\"js-line\" d=\"M97.74,193.76L136.99,193.76\" style=\"vector-effect: non-scaling-stroke; fill: none; stroke: rgb(102, 186, 231); stroke-opacity: 1; stroke-width: 2px; opacity: 1;\"/></g><g class=\"points\"/><g class=\"text\"/></g><g class=\"trace scatter trace143c0c\" style=\"stroke-miterlimit: 2; opacity: 1;\"><g class=\"fills\"/><g class=\"errorbars\"/><g class=\"lines\"><path class=\"js-line\" d=\"M96.66,196.24L102.94,196.24\" style=\"vector-effect: non-scaling-stroke; fill: none; stroke: rgb(102, 186, 231); stroke-opacity: 1; stroke-width: 2px; opacity: 1;\"/></g><g class=\"points\"/><g class=\"text\"/></g><g class=\"trace scatter tracef78865\" style=\"stroke-miterlimit: 2; opacity: 1;\"><g class=\"fills\"/><g class=\"errorbars\"/><g class=\"lines\"><path class=\"js-line\" d=\"M95.64,198.73L285.55,198.73\" style=\"vector-effect: non-scaling-stroke; fill: none; stroke: rgb(102, 186, 231); stroke-opacity: 1; stroke-width: 2px; opacity: 1;\"/></g><g class=\"points\"/><g class=\"text\"/></g><g class=\"trace scatter tracef3e48a\" style=\"stroke-miterlimit: 2; opacity: 1;\"><g class=\"fills\"/><g class=\"errorbars\"/><g class=\"lines\"><path class=\"js-line\" d=\"M93.97,201.22L187.14,201.22\" style=\"vector-effect: non-scaling-stroke; fill: none; stroke: rgb(102, 186, 231); stroke-opacity: 1; stroke-width: 2px; opacity: 1;\"/></g><g class=\"points\"/><g class=\"text\"/></g><g class=\"trace scatter trace60bb3d\" style=\"stroke-miterlimit: 2; opacity: 1;\"><g class=\"fills\"/><g class=\"errorbars\"/><g class=\"lines\"><path class=\"js-line\" d=\"M93.36,203.71L96.2,203.71\" style=\"vector-effect: non-scaling-stroke; fill: none; stroke: rgb(102, 186, 231); stroke-opacity: 1; stroke-width: 2px; opacity: 1;\"/></g><g class=\"points\"/><g class=\"text\"/></g><g class=\"trace scatter trace8a3499\" style=\"stroke-miterlimit: 2; opacity: 1;\"><g class=\"fills\"/><g class=\"errorbars\"/><g class=\"lines\"><path class=\"js-line\" d=\"M91.67,206.2L108.25,206.2\" style=\"vector-effect: non-scaling-stroke; fill: none; stroke: rgb(102, 186, 231); stroke-opacity: 1; stroke-width: 2px; opacity: 1;\"/></g><g class=\"points\"/><g class=\"text\"/></g><g class=\"trace scatter trace76f0f8\" style=\"stroke-miterlimit: 2; opacity: 1;\"><g class=\"fills\"/><g class=\"errorbars\"/><g class=\"lines\"><path class=\"js-line\" d=\"M91.57,208.69L106.83,208.69\" style=\"vector-effect: non-scaling-stroke; fill: none; stroke: rgb(102, 186, 231); stroke-opacity: 1; stroke-width: 2px; opacity: 1;\"/></g><g class=\"points\"/><g class=\"text\"/></g><g class=\"trace scatter tracef12ff0\" style=\"stroke-miterlimit: 2; opacity: 1;\"><g class=\"fills\"/><g class=\"errorbars\"/><g class=\"lines\"><path class=\"js-line\" d=\"M91.1,211.18L126.93,211.18\" style=\"vector-effect: non-scaling-stroke; fill: none; stroke: rgb(102, 186, 231); stroke-opacity: 1; stroke-width: 2px; opacity: 1;\"/></g><g class=\"points\"/><g class=\"text\"/></g><g class=\"trace scatter tracefd9f71\" style=\"stroke-miterlimit: 2; opacity: 1;\"><g class=\"fills\"/><g class=\"errorbars\"/><g class=\"lines\"><path class=\"js-line\" d=\"M90.15,213.67L119.65,213.67\" style=\"vector-effect: non-scaling-stroke; fill: none; stroke: rgb(102, 186, 231); stroke-opacity: 1; stroke-width: 2px; opacity: 1;\"/></g><g class=\"points\"/><g class=\"text\"/></g><g class=\"trace scatter tracebe0c06\" style=\"stroke-miterlimit: 2; opacity: 1;\"><g class=\"fills\"/><g class=\"errorbars\"/><g class=\"lines\"><path class=\"js-line\" d=\"M89.54,216.16L208.55,216.16\" style=\"vector-effect: non-scaling-stroke; fill: none; stroke: rgb(102, 186, 231); stroke-opacity: 1; stroke-width: 2px; opacity: 1;\"/></g><g class=\"points\"/><g class=\"text\"/></g><g class=\"trace scatter trace912756\" style=\"stroke-miterlimit: 2; opacity: 1;\"><g class=\"fills\"/><g class=\"errorbars\"/><g class=\"lines\"><path class=\"js-line\" d=\"M88.76,218.65L149.84,218.65\" style=\"vector-effect: non-scaling-stroke; fill: none; stroke: rgb(102, 186, 231); stroke-opacity: 1; stroke-width: 2px; opacity: 1;\"/></g><g class=\"points\"/><g class=\"text\"/></g><g class=\"trace scatter traceff844b\" style=\"stroke-miterlimit: 2; opacity: 1;\"><g class=\"fills\"/><g class=\"errorbars\"/><g class=\"lines\"><path class=\"js-line\" d=\"M87.98,221.14L92.45,221.14\" style=\"vector-effect: non-scaling-stroke; fill: none; stroke: rgb(102, 186, 231); stroke-opacity: 1; stroke-width: 2px; opacity: 1;\"/></g><g class=\"points\"/><g class=\"text\"/></g><g class=\"trace scatter trace88a654\" style=\"stroke-miterlimit: 2; opacity: 1;\"><g class=\"fills\"/><g class=\"errorbars\"/><g class=\"lines\"><path class=\"js-line\" d=\"M86.6,223.63L105.75,223.63\" style=\"vector-effect: non-scaling-stroke; fill: none; stroke: rgb(102, 186, 231); stroke-opacity: 1; stroke-width: 2px; opacity: 1;\"/></g><g class=\"points\"/><g class=\"text\"/></g><g class=\"trace scatter trace636b83\" style=\"stroke-miterlimit: 2; opacity: 1;\"><g class=\"fills\"/><g class=\"errorbars\"/><g class=\"lines\"><path class=\"js-line\" d=\"M85.16,226.12L91.35,226.12\" style=\"vector-effect: non-scaling-stroke; fill: none; stroke: rgb(102, 186, 231); stroke-opacity: 1; stroke-width: 2px; opacity: 1;\"/></g><g class=\"points\"/><g class=\"text\"/></g><g class=\"trace scatter traced07d98\" style=\"stroke-miterlimit: 2; opacity: 1;\"><g class=\"fills\"/><g class=\"errorbars\"/><g class=\"lines\"><path class=\"js-line\" d=\"M84.71,228.61L230.01,228.61\" style=\"vector-effect: non-scaling-stroke; fill: none; stroke: rgb(102, 186, 231); stroke-opacity: 1; stroke-width: 2px; opacity: 1;\"/></g><g class=\"points\"/><g class=\"text\"/></g><g class=\"trace scatter tracef47987\" style=\"stroke-miterlimit: 2; opacity: 1;\"><g class=\"fills\"/><g class=\"errorbars\"/><g class=\"lines\"><path class=\"js-line\" d=\"M83.47,231.1L184.01,231.1\" style=\"vector-effect: non-scaling-stroke; fill: none; stroke: rgb(102, 186, 231); stroke-opacity: 1; stroke-width: 2px; opacity: 1;\"/></g><g class=\"points\"/><g class=\"text\"/></g><g class=\"trace scatter tracec5edd2\" style=\"stroke-miterlimit: 2; opacity: 1;\"><g class=\"fills\"/><g class=\"errorbars\"/><g class=\"lines\"><path class=\"js-line\" d=\"M80.57,233.59L168.19,233.59\" style=\"vector-effect: non-scaling-stroke; fill: none; stroke: rgb(102, 186, 231); stroke-opacity: 1; stroke-width: 2px; opacity: 1;\"/></g><g class=\"points\"/><g class=\"text\"/></g><g class=\"trace scatter tracebc8da3\" style=\"stroke-miterlimit: 2; opacity: 1;\"><g class=\"fills\"/><g class=\"errorbars\"/><g class=\"lines\"><path class=\"js-line\" d=\"M79.89,236.07L95.3,236.07\" style=\"vector-effect: non-scaling-stroke; fill: none; stroke: rgb(102, 186, 231); stroke-opacity: 1; stroke-width: 2px; opacity: 1;\"/></g><g class=\"points\"/><g class=\"text\"/></g><g class=\"trace scatter tracec35c7c\" style=\"stroke-miterlimit: 2; opacity: 1;\"><g class=\"fills\"/><g class=\"errorbars\"/><g class=\"lines\"><path class=\"js-line\" d=\"M77.61,238.56L118.75,238.56\" style=\"vector-effect: non-scaling-stroke; fill: none; stroke: rgb(102, 186, 231); stroke-opacity: 1; stroke-width: 2px; opacity: 1;\"/></g><g class=\"points\"/><g class=\"text\"/></g><g class=\"trace scatter trace03c0fc\" style=\"stroke-miterlimit: 2; opacity: 1;\"><g class=\"fills\"/><g class=\"errorbars\"/><g class=\"lines\"><path class=\"js-line\" d=\"M76.23,241.05L88.53,241.05\" style=\"vector-effect: non-scaling-stroke; fill: none; stroke: rgb(102, 186, 231); stroke-opacity: 1; stroke-width: 2px; opacity: 1;\"/></g><g class=\"points\"/><g class=\"text\"/></g><g class=\"trace scatter traced0a81c\" style=\"stroke-miterlimit: 2; opacity: 1;\"><g class=\"fills\"/><g class=\"errorbars\"/><g class=\"lines\"><path class=\"js-line\" d=\"M75.69,243.54L139.75,243.54\" style=\"vector-effect: non-scaling-stroke; fill: none; stroke: rgb(102, 186, 231); stroke-opacity: 1; stroke-width: 2px; opacity: 1;\"/></g><g class=\"points\"/><g class=\"text\"/></g><g class=\"trace scatter tracea1eff5\" style=\"stroke-miterlimit: 2; opacity: 1;\"><g class=\"fills\"/><g class=\"errorbars\"/><g class=\"lines\"><path class=\"js-line\" d=\"M75.38,246.03L87.82,246.03\" style=\"vector-effect: non-scaling-stroke; fill: none; stroke: rgb(102, 186, 231); stroke-opacity: 1; stroke-width: 2px; opacity: 1;\"/></g><g class=\"points\"/><g class=\"text\"/></g><g class=\"trace scatter trace0689e1\" style=\"stroke-miterlimit: 2; opacity: 1;\"><g class=\"fills\"/><g class=\"errorbars\"/><g class=\"lines\"><path class=\"js-line\" d=\"M74.45,248.52L79.01,248.52\" style=\"vector-effect: non-scaling-stroke; fill: none; stroke: rgb(102, 186, 231); stroke-opacity: 1; stroke-width: 2px; opacity: 1;\"/></g><g class=\"points\"/><g class=\"text\"/></g><g class=\"trace scatter tracea3ea18\" style=\"stroke-miterlimit: 2; opacity: 1;\"><g class=\"fills\"/><g class=\"errorbars\"/><g class=\"lines\"><path class=\"js-line\" d=\"M73.84,251.01L107.56,251.01\" style=\"vector-effect: non-scaling-stroke; fill: none; stroke: rgb(102, 186, 231); stroke-opacity: 1; stroke-width: 2px; opacity: 1;\"/></g><g class=\"points\"/><g class=\"text\"/></g><g class=\"trace scatter trace1abb1f\" style=\"stroke-miterlimit: 2; opacity: 1;\"><g class=\"fills\"/><g class=\"errorbars\"/><g class=\"lines\"><path class=\"js-line\" d=\"M73.34,253.5L507,253.5\" style=\"vector-effect: non-scaling-stroke; fill: none; stroke: rgb(102, 186, 231); stroke-opacity: 1; stroke-width: 2px; opacity: 1;\"/></g><g class=\"points\"/><g class=\"text\"/></g><g class=\"trace scatter traced57e91\" style=\"stroke-miterlimit: 2; opacity: 1;\"><g class=\"fills\"/><g class=\"errorbars\"/><g class=\"lines\"><path class=\"js-line\" d=\"M73.2,255.99L81.41,255.99\" style=\"vector-effect: non-scaling-stroke; fill: none; stroke: rgb(102, 186, 231); stroke-opacity: 1; stroke-width: 2px; opacity: 1;\"/></g><g class=\"points\"/><g class=\"text\"/></g><g class=\"trace scatter trace63d023\" style=\"stroke-miterlimit: 2; opacity: 1;\"><g class=\"fills\"/><g class=\"errorbars\"/><g class=\"lines\"><path class=\"js-line\" d=\"M73.08,258.48L77.04,258.48\" style=\"vector-effect: non-scaling-stroke; fill: none; stroke: rgb(102, 186, 231); stroke-opacity: 1; stroke-width: 2px; opacity: 1;\"/></g><g class=\"points\"/><g class=\"text\"/></g><g class=\"trace scatter trace98366e\" style=\"stroke-miterlimit: 2; opacity: 1;\"><g class=\"fills\"/><g class=\"errorbars\"/><g class=\"lines\"><path class=\"js-line\" d=\"M71.79,260.97L109.92,260.97\" style=\"vector-effect: non-scaling-stroke; fill: none; stroke: rgb(102, 186, 231); stroke-opacity: 1; stroke-width: 2px; opacity: 1;\"/></g><g class=\"points\"/><g class=\"text\"/></g><g class=\"trace scatter trace084392\" style=\"stroke-miterlimit: 2; opacity: 1;\"><g class=\"fills\"/><g class=\"errorbars\"/><g class=\"lines\"><path class=\"js-line\" d=\"M71.76,263.46L176.97,263.46\" style=\"vector-effect: non-scaling-stroke; fill: none; stroke: rgb(102, 186, 231); stroke-opacity: 1; stroke-width: 2px; opacity: 1;\"/></g><g class=\"points\"/><g class=\"text\"/></g><g class=\"trace scatter trace6ea1e0\" style=\"stroke-miterlimit: 2; opacity: 1;\"><g class=\"fills\"/><g class=\"errorbars\"/><g class=\"lines\"><path class=\"js-line\" d=\"M71.37,265.95L169.39,265.95\" style=\"vector-effect: non-scaling-stroke; fill: none; stroke: rgb(102, 186, 231); stroke-opacity: 1; stroke-width: 2px; opacity: 1;\"/></g><g class=\"points\"/><g class=\"text\"/></g><g class=\"trace scatter trace1ce4e8\" style=\"stroke-miterlimit: 2; opacity: 1;\"><g class=\"fills\"/><g class=\"errorbars\"/><g class=\"lines\"><path class=\"js-line\" d=\"M70.78,268.44L505.17,268.44\" style=\"vector-effect: non-scaling-stroke; fill: none; stroke: rgb(102, 186, 231); stroke-opacity: 1; stroke-width: 2px; opacity: 1;\"/></g><g class=\"points\"/><g class=\"text\"/></g><g class=\"trace scatter trace97d59e\" style=\"stroke-miterlimit: 2; opacity: 1;\"><g class=\"fills\"/><g class=\"errorbars\"/><g class=\"lines\"><path class=\"js-line\" d=\"M70.5,270.93L198.74,270.93\" style=\"vector-effect: non-scaling-stroke; fill: none; stroke: rgb(102, 186, 231); stroke-opacity: 1; stroke-width: 2px; opacity: 1;\"/></g><g class=\"points\"/><g class=\"text\"/></g><g class=\"trace scatter tracea2ee2d\" style=\"stroke-miterlimit: 2; opacity: 1;\"><g class=\"fills\"/><g class=\"errorbars\"/><g class=\"lines\"><path class=\"js-line\" d=\"M69.67,273.41L70.79,273.41\" style=\"vector-effect: non-scaling-stroke; fill: none; stroke: rgb(102, 186, 231); stroke-opacity: 1; stroke-width: 2px; opacity: 1;\"/></g><g class=\"points\"/><g class=\"text\"/></g><g class=\"trace scatter trace17a03d\" style=\"stroke-miterlimit: 2; opacity: 1;\"><g class=\"fills\"/><g class=\"errorbars\"/><g class=\"lines\"><path class=\"js-line\" d=\"M69.65,275.9L70.67,275.9\" style=\"vector-effect: non-scaling-stroke; fill: none; stroke: rgb(102, 186, 231); stroke-opacity: 1; stroke-width: 2px; opacity: 1;\"/></g><g class=\"points\"/><g class=\"text\"/></g><g class=\"trace scatter tracefa5015\" style=\"stroke-miterlimit: 2; opacity: 1;\"><g class=\"fills\"/><g class=\"errorbars\"/><g class=\"lines\"><path class=\"js-line\" d=\"M68.11,278.39L88.8,278.39\" style=\"vector-effect: non-scaling-stroke; fill: none; stroke: rgb(102, 186, 231); stroke-opacity: 1; stroke-width: 2px; opacity: 1;\"/></g><g class=\"points\"/><g class=\"text\"/></g><g class=\"trace scatter trace3b63e0\" style=\"stroke-miterlimit: 2; opacity: 1;\"><g class=\"fills\"/><g class=\"errorbars\"/><g class=\"lines\"><path class=\"js-line\" d=\"M67.77,280.88L94.87,280.88\" style=\"vector-effect: non-scaling-stroke; fill: none; stroke: rgb(102, 186, 231); stroke-opacity: 1; stroke-width: 2px; opacity: 1;\"/></g><g class=\"points\"/><g class=\"text\"/></g><g class=\"trace scatter tracec65632\" style=\"stroke-miterlimit: 2; opacity: 1;\"><g class=\"fills\"/><g class=\"errorbars\"/><g class=\"lines\"><path class=\"js-line\" d=\"M66.94,283.37L67.48,283.37\" style=\"vector-effect: non-scaling-stroke; fill: none; stroke: rgb(102, 186, 231); stroke-opacity: 1; stroke-width: 2px; opacity: 1;\"/></g><g class=\"points\"/><g class=\"text\"/></g><g class=\"trace scatter trace95e144\" style=\"stroke-miterlimit: 2; opacity: 1;\"><g class=\"fills\"/><g class=\"errorbars\"/><g class=\"lines\"><path class=\"js-line\" d=\"M66.46,285.86L72.84,285.86\" style=\"vector-effect: non-scaling-stroke; fill: none; stroke: rgb(102, 186, 231); stroke-opacity: 1; stroke-width: 2px; opacity: 1;\"/></g><g class=\"points\"/><g class=\"text\"/></g><g class=\"trace scatter trace53529e\" style=\"stroke-miterlimit: 2; opacity: 1;\"><g class=\"fills\"/><g class=\"errorbars\"/><g class=\"lines\"><path class=\"js-line\" d=\"M65.02,288.35L84.92,288.35\" style=\"vector-effect: non-scaling-stroke; fill: none; stroke: rgb(102, 186, 231); stroke-opacity: 1; stroke-width: 2px; opacity: 1;\"/></g><g class=\"points\"/><g class=\"text\"/></g><g class=\"trace scatter trace7721d8\" style=\"stroke-miterlimit: 2; opacity: 1;\"><g class=\"fills\"/><g class=\"errorbars\"/><g class=\"lines\"><path class=\"js-line\" d=\"M62.57,290.84L182.48,290.84\" style=\"vector-effect: non-scaling-stroke; fill: none; stroke: rgb(102, 186, 231); stroke-opacity: 1; stroke-width: 2px; opacity: 1;\"/></g><g class=\"points\"/><g class=\"text\"/></g><g class=\"trace scatter traceb6ecbe\" style=\"stroke-miterlimit: 2; opacity: 1;\"><g class=\"fills\"/><g class=\"errorbars\"/><g class=\"lines\"><path class=\"js-line\" d=\"M60.66,293.33L74.01,293.33\" style=\"vector-effect: non-scaling-stroke; fill: none; stroke: rgb(102, 186, 231); stroke-opacity: 1; stroke-width: 2px; opacity: 1;\"/></g><g class=\"points\"/><g class=\"text\"/></g><g class=\"trace scatter trace78f948\" style=\"stroke-miterlimit: 2; opacity: 1;\"><g class=\"fills\"/><g class=\"errorbars\"/><g class=\"lines\"><path class=\"js-line\" d=\"M58.84,295.82L139.58,295.82\" style=\"vector-effect: non-scaling-stroke; fill: none; stroke: rgb(102, 186, 231); stroke-opacity: 1; stroke-width: 2px; opacity: 1;\"/></g><g class=\"points\"/><g class=\"text\"/></g><g class=\"trace scatter trace2fea0a\" style=\"stroke-miterlimit: 2; opacity: 1;\"><g class=\"fills\"/><g class=\"errorbars\"/><g class=\"lines\"><path class=\"js-line\" d=\"M58.36,298.31L59.93,298.31\" style=\"vector-effect: non-scaling-stroke; fill: none; stroke: rgb(102, 186, 231); stroke-opacity: 1; stroke-width: 2px; opacity: 1;\"/></g><g class=\"points\"/><g class=\"text\"/></g><g class=\"trace scatter trace8f3248\" style=\"stroke-miterlimit: 2; opacity: 1;\"><g class=\"fills\"/><g class=\"errorbars\"/><g class=\"lines\"><path class=\"js-line\" d=\"M58.02,300.8L108.44,300.8\" style=\"vector-effect: non-scaling-stroke; fill: none; stroke: rgb(102, 186, 231); stroke-opacity: 1; stroke-width: 2px; opacity: 1;\"/></g><g class=\"points\"/><g class=\"text\"/></g><g class=\"trace scatter tracebc6f5d\" style=\"stroke-miterlimit: 2; opacity: 1;\"><g class=\"fills\"/><g class=\"errorbars\"/><g class=\"lines\"><path class=\"js-line\" d=\"M56.97,303.29L65.94,303.29\" style=\"vector-effect: non-scaling-stroke; fill: none; stroke: rgb(102, 186, 231); stroke-opacity: 1; stroke-width: 2px; opacity: 1;\"/></g><g class=\"points\"/><g class=\"text\"/></g><g class=\"trace scatter trace8e34b2\" style=\"stroke-miterlimit: 2; opacity: 1;\"><g class=\"fills\"/><g class=\"errorbars\"/><g class=\"lines\"><path class=\"js-line\" d=\"M56.91,305.78L65.57,305.78\" style=\"vector-effect: non-scaling-stroke; fill: none; stroke: rgb(102, 186, 231); stroke-opacity: 1; stroke-width: 2px; opacity: 1;\"/></g><g class=\"points\"/><g class=\"text\"/></g><g class=\"trace scatter traced9e2bc\" style=\"stroke-miterlimit: 2; opacity: 1;\"><g class=\"fills\"/><g class=\"errorbars\"/><g class=\"lines\"><path class=\"js-line\" d=\"M55.2,308.27L62.74,308.27\" style=\"vector-effect: non-scaling-stroke; fill: none; stroke: rgb(102, 186, 231); stroke-opacity: 1; stroke-width: 2px; opacity: 1;\"/></g><g class=\"points\"/><g class=\"text\"/></g><g class=\"trace scatter trace2d5318\" style=\"stroke-miterlimit: 2; opacity: 1;\"><g class=\"fills\"/><g class=\"errorbars\"/><g class=\"lines\"><path class=\"js-line\" d=\"M55.15,310.76L59.25,310.76\" style=\"vector-effect: non-scaling-stroke; fill: none; stroke: rgb(102, 186, 231); stroke-opacity: 1; stroke-width: 2px; opacity: 1;\"/></g><g class=\"points\"/><g class=\"text\"/></g><g class=\"trace scatter traceab5bb9\" style=\"stroke-miterlimit: 2; opacity: 1;\"><g class=\"fills\"/><g class=\"errorbars\"/><g class=\"lines\"><path class=\"js-line\" d=\"M53.22,313.24L170.16,313.24\" style=\"vector-effect: non-scaling-stroke; fill: none; stroke: rgb(102, 186, 231); stroke-opacity: 1; stroke-width: 2px; opacity: 1;\"/></g><g class=\"points\"/><g class=\"text\"/></g><g class=\"trace scatter trace790d7f\" style=\"stroke-miterlimit: 2; opacity: 1;\"><g class=\"fills\"/><g class=\"errorbars\"/><g class=\"lines\"><path class=\"js-line\" d=\"M52.5,315.73L61.53,315.73\" style=\"vector-effect: non-scaling-stroke; fill: none; stroke: rgb(102, 186, 231); stroke-opacity: 1; stroke-width: 2px; opacity: 1;\"/></g><g class=\"points\"/><g class=\"text\"/></g><g class=\"trace scatter trace2d85f5\" style=\"stroke-miterlimit: 2; opacity: 1;\"><g class=\"fills\"/><g class=\"errorbars\"/><g class=\"lines\"><path class=\"js-line\" d=\"M52.31,318.22L64.33,318.22\" style=\"vector-effect: non-scaling-stroke; fill: none; stroke: rgb(102, 186, 231); stroke-opacity: 1; stroke-width: 2px; opacity: 1;\"/></g><g class=\"points\"/><g class=\"text\"/></g><g class=\"trace scatter trace81faab\" style=\"stroke-miterlimit: 2; opacity: 1;\"><g class=\"fills\"/><g class=\"errorbars\"/><g class=\"lines\"><path class=\"js-line\" d=\"M51.43,320.71L73.92,320.71\" style=\"vector-effect: non-scaling-stroke; fill: none; stroke: rgb(102, 186, 231); stroke-opacity: 1; stroke-width: 2px; opacity: 1;\"/></g><g class=\"points\"/><g class=\"text\"/></g><g class=\"trace scatter trace99c0ea\" style=\"stroke-miterlimit: 2; opacity: 1;\"><g class=\"fills\"/><g class=\"errorbars\"/><g class=\"lines\"><path class=\"js-line\" d=\"M51.38,323.2L101.23,323.2\" style=\"vector-effect: non-scaling-stroke; fill: none; stroke: rgb(102, 186, 231); stroke-opacity: 1; stroke-width: 2px; opacity: 1;\"/></g><g class=\"points\"/><g class=\"text\"/></g><g class=\"trace scatter trace925de2\" style=\"stroke-miterlimit: 2; opacity: 1;\"><g class=\"fills\"/><g class=\"errorbars\"/><g class=\"lines\"><path class=\"js-line\" d=\"M50.58,325.69L99.18,325.69\" style=\"vector-effect: non-scaling-stroke; fill: none; stroke: rgb(102, 186, 231); stroke-opacity: 1; stroke-width: 2px; opacity: 1;\"/></g><g class=\"points\"/><g class=\"text\"/></g><g class=\"trace scatter tracea6d52b\" style=\"stroke-miterlimit: 2; opacity: 1;\"><g class=\"fills\"/><g class=\"errorbars\"/><g class=\"lines\"><path class=\"js-line\" d=\"M47.07,328.18L48.69,328.18\" style=\"vector-effect: non-scaling-stroke; fill: none; stroke: rgb(102, 186, 231); stroke-opacity: 1; stroke-width: 2px; opacity: 1;\"/></g><g class=\"points\"/><g class=\"text\"/></g><g class=\"trace scatter tracebf7a5d\" style=\"stroke-miterlimit: 2; opacity: 1;\"><g class=\"fills\"/><g class=\"errorbars\"/><g class=\"lines\"><path class=\"js-line\" d=\"M46.45,330.67L113.26,330.67\" style=\"vector-effect: non-scaling-stroke; fill: none; stroke: rgb(102, 186, 231); stroke-opacity: 1; stroke-width: 2px; opacity: 1;\"/></g><g class=\"points\"/><g class=\"text\"/></g><g class=\"trace scatter trace9d505b\" style=\"stroke-miterlimit: 2; opacity: 1;\"><g class=\"fills\"/><g class=\"errorbars\"/><g class=\"lines\"><path class=\"js-line\" d=\"M45.3,333.16L72.11,333.16\" style=\"vector-effect: non-scaling-stroke; fill: none; stroke: rgb(102, 186, 231); stroke-opacity: 1; stroke-width: 2px; opacity: 1;\"/></g><g class=\"points\"/><g class=\"text\"/></g><g class=\"trace scatter trace0c56e7\" style=\"stroke-miterlimit: 2; opacity: 1;\"><g class=\"fills\"/><g class=\"errorbars\"/><g class=\"lines\"><path class=\"js-line\" d=\"M45.23,335.65L50.98,335.65\" style=\"vector-effect: non-scaling-stroke; fill: none; stroke: rgb(102, 186, 231); stroke-opacity: 1; stroke-width: 2px; opacity: 1;\"/></g><g class=\"points\"/><g class=\"text\"/></g><g class=\"trace scatter trace5cf16a\" style=\"stroke-miterlimit: 2; opacity: 1;\"><g class=\"fills\"/><g class=\"errorbars\"/><g class=\"lines\"><path class=\"js-line\" d=\"M38.77,338.14L45.92,338.14\" style=\"vector-effect: non-scaling-stroke; fill: none; stroke: rgb(102, 186, 231); stroke-opacity: 1; stroke-width: 2px; opacity: 1;\"/></g><g class=\"points\"/><g class=\"text\"/></g><g class=\"trace scatter trace1460e5\" style=\"stroke-miterlimit: 2; opacity: 1;\"><g class=\"fills\"/><g class=\"errorbars\"/><g class=\"lines\"><path class=\"js-line\" d=\"M38.01,340.63L72.51,340.63\" style=\"vector-effect: non-scaling-stroke; fill: none; stroke: rgb(102, 186, 231); stroke-opacity: 1; stroke-width: 2px; opacity: 1;\"/></g><g class=\"points\"/><g class=\"text\"/></g><g class=\"trace scatter trace4f7c1b\" style=\"stroke-miterlimit: 2; opacity: 1;\"><g class=\"fills\"/><g class=\"errorbars\"/><g class=\"lines\"><path class=\"js-line\" d=\"M36.56,343.12L75.67,343.12\" style=\"vector-effect: non-scaling-stroke; fill: none; stroke: rgb(102, 186, 231); stroke-opacity: 1; stroke-width: 2px; opacity: 1;\"/></g><g class=\"points\"/><g class=\"text\"/></g><g class=\"trace scatter trace127f41\" style=\"stroke-miterlimit: 2; opacity: 1;\"><g class=\"fills\"/><g class=\"errorbars\"/><g class=\"lines\"><path class=\"js-line\" d=\"M35.74,345.61L41.32,345.61\" style=\"vector-effect: non-scaling-stroke; fill: none; stroke: rgb(102, 186, 231); stroke-opacity: 1; stroke-width: 2px; opacity: 1;\"/></g><g class=\"points\"/><g class=\"text\"/></g><g class=\"trace scatter trace801441\" style=\"stroke-miterlimit: 2; opacity: 1;\"><g class=\"fills\"/><g class=\"errorbars\"/><g class=\"lines\"><path class=\"js-line\" d=\"M34.45,348.1L117.9,348.1\" style=\"vector-effect: non-scaling-stroke; fill: none; stroke: rgb(102, 186, 231); stroke-opacity: 1; stroke-width: 2px; opacity: 1;\"/></g><g class=\"points\"/><g class=\"text\"/></g><g class=\"trace scatter trace6edb0d\" style=\"stroke-miterlimit: 2; opacity: 1;\"><g class=\"fills\"/><g class=\"errorbars\"/><g class=\"lines\"><path class=\"js-line\" d=\"M34.13,350.59L44.4,350.59\" style=\"vector-effect: non-scaling-stroke; fill: none; stroke: rgb(102, 186, 231); stroke-opacity: 1; stroke-width: 2px; opacity: 1;\"/></g><g class=\"points\"/><g class=\"text\"/></g><g class=\"trace scatter trace586ea4\" style=\"stroke-miterlimit: 2; opacity: 1;\"><g class=\"fills\"/><g class=\"errorbars\"/><g class=\"lines\"><path class=\"js-line\" d=\"M33.81,353.07L64.22,353.07\" style=\"vector-effect: non-scaling-stroke; fill: none; stroke: rgb(102, 186, 231); stroke-opacity: 1; stroke-width: 2px; opacity: 1;\"/></g><g class=\"points\"/><g class=\"text\"/></g><g class=\"trace scatter trace972336\" style=\"stroke-miterlimit: 2; opacity: 1;\"><g class=\"fills\"/><g class=\"errorbars\"/><g class=\"lines\"><path class=\"js-line\" d=\"M32.2,355.56L46.98,355.56\" style=\"vector-effect: non-scaling-stroke; fill: none; stroke: rgb(102, 186, 231); stroke-opacity: 1; stroke-width: 2px; opacity: 1;\"/></g><g class=\"points\"/><g class=\"text\"/></g><g class=\"trace scatter trace1f874e\" style=\"stroke-miterlimit: 2; opacity: 1;\"><g class=\"fills\"/><g class=\"errorbars\"/><g class=\"lines\"><path class=\"js-line\" d=\"M31.74,358.05L56.71,358.05\" style=\"vector-effect: non-scaling-stroke; fill: none; stroke: rgb(102, 186, 231); stroke-opacity: 1; stroke-width: 2px; opacity: 1;\"/></g><g class=\"points\"/><g class=\"text\"/></g><g class=\"trace scatter trace1def7a\" style=\"stroke-miterlimit: 2; opacity: 1;\"><g class=\"fills\"/><g class=\"errorbars\"/><g class=\"lines\"><path class=\"js-line\" d=\"M29.42,360.54L60.32,360.54\" style=\"vector-effect: non-scaling-stroke; fill: none; stroke: rgb(102, 186, 231); stroke-opacity: 1; stroke-width: 2px; opacity: 1;\"/></g><g class=\"points\"/><g class=\"text\"/></g><g class=\"trace scatter tracebfbb77\" style=\"stroke-miterlimit: 2; opacity: 1;\"><g class=\"fills\"/><g class=\"errorbars\"/><g class=\"lines\"><path class=\"js-line\" d=\"M21.38,363.03L38.87,363.03\" style=\"vector-effect: non-scaling-stroke; fill: none; stroke: rgb(102, 186, 231); stroke-opacity: 1; stroke-width: 2px; opacity: 1;\"/></g><g class=\"points\"/><g class=\"text\"/></g><g class=\"trace scatter trace804ba1\" style=\"stroke-miterlimit: 2; opacity: 1;\"><g class=\"fills\"/><g class=\"errorbars\"/><g class=\"lines\"><path class=\"js-line\" d=\"M21.38,365.52L66.26,365.52\" style=\"vector-effect: non-scaling-stroke; fill: none; stroke: rgb(102, 186, 231); stroke-opacity: 1; stroke-width: 2px; opacity: 1;\"/></g><g class=\"points\"/><g class=\"text\"/></g><g class=\"trace scatter trace63eb4f\" style=\"stroke-miterlimit: 2; opacity: 1;\"><g class=\"fills\"/><g class=\"errorbars\"/><g class=\"lines\"><path class=\"js-line\" d=\"M17.67,368.01L29.72,368.01\" style=\"vector-effect: non-scaling-stroke; fill: none; stroke: rgb(102, 186, 231); stroke-opacity: 1; stroke-width: 2px; opacity: 1;\"/></g><g class=\"points\"/><g class=\"text\"/></g><g class=\"trace scatter trace497a43\" style=\"stroke-miterlimit: 2; opacity: 1;\"><g class=\"fills\"/><g class=\"errorbars\"/><g class=\"lines\"><path class=\"js-line\" d=\"M0,370.5L11.01,370.5\" style=\"vector-effect: non-scaling-stroke; fill: none; stroke: rgb(102, 186, 231); stroke-opacity: 1; stroke-width: 2px; opacity: 1;\"/></g><g class=\"points\"/><g class=\"text\"/></g></g></g><g class=\"overplot\"/><path class=\"xlines-above crisp\" d=\"M0,0\" style=\"fill: none;\"/><path class=\"ylines-above crisp\" d=\"M0,0\" style=\"fill: none;\"/><g class=\"overlines-above\"/><g class=\"xaxislayer-above\"><g class=\"xtick\"><text text-anchor=\"middle\" x=\"0\" y=\"463\" transform=\"translate(138.82,0)\" style=\"font-family: 'Open Sans', verdana, arial, sans-serif; font-size: 12px; fill: rgb(68, 68, 68); fill-opacity: 1; white-space: pre;\">0.5</text></g><g class=\"xtick\"><text text-anchor=\"middle\" x=\"0\" y=\"463\" transform=\"translate(306.77,0)\" style=\"font-family: 'Open Sans', verdana, arial, sans-serif; font-size: 12px; fill: rgb(68, 68, 68); fill-opacity: 1; white-space: pre;\">1</text></g><g class=\"xtick\"><text text-anchor=\"middle\" x=\"0\" y=\"463\" transform=\"translate(474.72,0)\" style=\"font-family: 'Open Sans', verdana, arial, sans-serif; font-size: 12px; fill: rgb(68, 68, 68); fill-opacity: 1; white-space: pre;\">1.5</text></g></g><g class=\"yaxislayer-above\"><g class=\"ytick\"><text text-anchor=\"end\" x=\"49\" y=\"4.199999999999999\" transform=\"translate(0,432.99)\" style=\"font-family: 'Open Sans', verdana, arial, sans-serif; font-size: 12px; fill: rgb(68, 68, 68); fill-opacity: 1; white-space: pre;\">0</text></g><g class=\"ytick\"><text text-anchor=\"end\" x=\"49\" y=\"4.199999999999999\" transform=\"translate(0,383.2)\" style=\"font-family: 'Open Sans', verdana, arial, sans-serif; font-size: 12px; fill: rgb(68, 68, 68); fill-opacity: 1; white-space: pre;\">20</text></g><g class=\"ytick\"><text text-anchor=\"end\" x=\"49\" y=\"4.199999999999999\" transform=\"translate(0,333.41)\" style=\"font-family: 'Open Sans', verdana, arial, sans-serif; font-size: 12px; fill: rgb(68, 68, 68); fill-opacity: 1; white-space: pre;\">40</text></g><g class=\"ytick\"><text text-anchor=\"end\" x=\"49\" y=\"4.199999999999999\" transform=\"translate(0,283.63)\" style=\"font-family: 'Open Sans', verdana, arial, sans-serif; font-size: 12px; fill: rgb(68, 68, 68); fill-opacity: 1; white-space: pre;\">60</text></g><g class=\"ytick\"><text text-anchor=\"end\" x=\"49\" y=\"4.199999999999999\" transform=\"translate(0,233.84)\" style=\"font-family: 'Open Sans', verdana, arial, sans-serif; font-size: 12px; fill: rgb(68, 68, 68); fill-opacity: 1; white-space: pre;\">80</text></g><g class=\"ytick\"><text text-anchor=\"end\" x=\"49\" y=\"4.199999999999999\" transform=\"translate(0,184.05)\" style=\"font-family: 'Open Sans', verdana, arial, sans-serif; font-size: 12px; fill: rgb(68, 68, 68); fill-opacity: 1; white-space: pre;\">100</text></g><g class=\"ytick\"><text text-anchor=\"end\" x=\"49\" y=\"4.199999999999999\" transform=\"translate(0,134.26999999999998)\" style=\"font-family: 'Open Sans', verdana, arial, sans-serif; font-size: 12px; fill: rgb(68, 68, 68); fill-opacity: 1; white-space: pre;\">120</text></g><g class=\"ytick\"><text text-anchor=\"end\" x=\"49\" y=\"4.199999999999999\" transform=\"translate(0,84.48)\" style=\"font-family: 'Open Sans', verdana, arial, sans-serif; font-size: 12px; fill: rgb(68, 68, 68); fill-opacity: 1; white-space: pre;\">140</text></g></g><g class=\"overaxes-above\"/></g></g><g class=\"polarlayer\"/><g class=\"ternarylayer\"/><g class=\"geolayer\"/><g class=\"funnelarealayer\"/><g class=\"pielayer\"/><g class=\"treemaplayer\"/><g class=\"sunburstlayer\"/><g class=\"glimages\"/><defs id=\"topdefs-ec1828\"><g class=\"clips\"/><clipPath id=\"legendec1828\"><rect width=\"121\" height=\"29\" x=\"0\" y=\"0\"/></clipPath></defs><g class=\"layer-above\"><g class=\"imagelayer\"/><g class=\"shapelayer\"/></g><g class=\"infolayer\"><g class=\"legend\" pointer-events=\"all\" transform=\"translate(567.14,60)\"><rect class=\"bg\" shape-rendering=\"crispEdges\" style=\"stroke: rgb(68, 68, 68); stroke-opacity: 1; fill: rgb(255, 255, 255); fill-opacity: 1; stroke-width: 0px;\" width=\"121\" height=\"29\" x=\"0\" y=\"0\"/><g class=\"scrollbox\" transform=\"\" clip-path=\"url('#legendec1828')\"><g class=\"groups\"><g class=\"traces\" transform=\"translate(0,14.5)\" style=\"opacity: 1;\"><text class=\"legendtext\" text-anchor=\"start\" x=\"40\" y=\"4.680000000000001\" style=\"font-family: 'Open Sans', verdana, arial, sans-serif; font-size: 12px; fill: rgb(68, 68, 68); fill-opacity: 1; white-space: pre;\">Dimension 1</text><g class=\"layers\" style=\"opacity: 1;\"><g class=\"legendfill\"/><g class=\"legendlines\"><path class=\"js-line\" d=\"M5,0h30\" style=\"fill: none; stroke: rgb(102, 186, 231); stroke-opacity: 1; stroke-width: 2px;\"/></g><g class=\"legendsymbols\"><g class=\"legendpoints\"/></g></g><rect class=\"legendtoggle\" x=\"0\" y=\"-9.5\" width=\"115.234375\" height=\"19\" style=\"fill: rgb(0, 0, 0); fill-opacity: 0;\"/></g></g></g><rect class=\"scrollbar\" rx=\"20\" ry=\"3\" width=\"0\" height=\"0\" style=\"fill: rgb(128, 139, 164); fill-opacity: 1;\" x=\"0\" y=\"0\"/></g><g class=\"g-gtitle\"/><g class=\"g-xtitle\" transform=\"translate(0,-5)\"><text class=\"xtitle\" x=\"303.5\" y=\"502\" text-anchor=\"middle\" style=\"font-family: 'Open Sans', verdana, arial, sans-serif; font-size: 14px; fill: rgb(68, 68, 68); opacity: 1; font-weight: normal; white-space: pre;\">ϵ</text></g><g class=\"g-ytitle\"/></g></svg>"
      ],
      "text/html": [
       "<div\n",
       "    class=\"webio-mountpoint\"\n",
       "    data-webio-mountpoint=\"4099001289077345333\"\n",
       ">\n",
       "    <script>\n",
       "    (function(){\n",
       "    // Some integrations (namely, IJulia/Jupyter) use an alternate render pathway than\n",
       "    // just putting the html on the page. If WebIO isn't defined, then it's pretty likely\n",
       "    // that we're in one of those situations and the integration just isn't installed\n",
       "    // correctly.\n",
       "    if (typeof window.WebIO === \"undefined\") {\n",
       "        document\n",
       "            .querySelector('[data-webio-mountpoint=\"4099001289077345333\"]')\n",
       "            .innerHTML = (\n",
       "                '<div style=\"padding: 1em; background-color: #f8d6da; border: 1px solid #f5c6cb; font-weight: bold;\">' +\n",
       "                '<p><strong>WebIO not detected.</strong></p>' +\n",
       "                '<p>Please read ' +\n",
       "                '<a href=\"https://juliagizmos.github.io/WebIO.jl/latest/troubleshooting/not-detected/\" target=\"_blank\">the troubleshooting guide</a> ' +\n",
       "                'for more information on how to resolve this issue.</p>' +\n",
       "                '<p><a href=\"https://juliagizmos.github.io/WebIO.jl/latest/troubleshooting/not-detected/\" target=\"_blank\">https://juliagizmos.github.io/WebIO.jl/latest/troubleshooting/not-detected/</a></p>' +\n",
       "                '</div>'\n",
       "            );\n",
       "        return;\n",
       "    }\n",
       "    WebIO.mount(\n",
       "        document.querySelector('[data-webio-mountpoint=\"4099001289077345333\"]'),\n",
       "        {\"props\":{},\"nodeType\":\"Scope\",\"type\":\"node\",\"instanceArgs\":{\"imports\":{\"data\":[{\"name\":\"Plotly\",\"type\":\"js\",\"url\":\"\\/assetserver\\/0011d14de576c55f77111628d5a39fcc5762f320-plotly.min.js\"},{\"name\":null,\"type\":\"js\",\"url\":\"\\/assetserver\\/52365f0a3f606733873c2a55bbe1584aba3b706c-plotly_webio.bundle.js\"}],\"type\":\"async_block\"},\"id\":\"17112711449274174047\",\"handlers\":{\"_toImage\":[\"(function (options){return this.Plotly.toImage(this.plotElem,options).then((function (data){return WebIO.setval({\\\"name\\\":\\\"image\\\",\\\"scope\\\":\\\"17112711449274174047\\\",\\\"id\\\":\\\"12932408321350986680\\\",\\\"type\\\":\\\"observable\\\"},data)}))})\"],\"__get_gd_contents\":[\"(function (prop){prop==\\\"data\\\" ? (WebIO.setval({\\\"name\\\":\\\"__gd_contents\\\",\\\"scope\\\":\\\"17112711449274174047\\\",\\\"id\\\":\\\"1231539973372700161\\\",\\\"type\\\":\\\"observable\\\"},this.plotElem.data)) : undefined; return prop==\\\"layout\\\" ? (WebIO.setval({\\\"name\\\":\\\"__gd_contents\\\",\\\"scope\\\":\\\"17112711449274174047\\\",\\\"id\\\":\\\"1231539973372700161\\\",\\\"type\\\":\\\"observable\\\"},this.plotElem.layout)) : undefined})\"],\"_downloadImage\":[\"(function (options){return this.Plotly.downloadImage(this.plotElem,options)})\"],\"_commands\":[\"(function (args){var fn=args.shift(); var elem=this.plotElem; var Plotly=this.Plotly; args.unshift(elem); return Plotly[fn].apply(this,args)})\"]},\"systemjs_options\":null,\"mount_callbacks\":[\"function () {\\n    var handler = ((function (Plotly,PlotlyWebIO){PlotlyWebIO.init(WebIO); var gd=this.dom.querySelector(\\\"#plot-e07f9311-d642-42d7-90b6-cbd208137009\\\"); this.plotElem=gd; this.Plotly=Plotly; (window.Blink!==undefined) ? (gd.style.width=\\\"100%\\\", gd.style.height=\\\"100vh\\\", gd.style.marginLeft=\\\"0%\\\", gd.style.marginTop=\\\"0vh\\\") : undefined; window.onresize=(function (){return Plotly.Plots.resize(gd)}); Plotly.newPlot(gd,[{\\\"showlegend\\\":false,\\\"mode\\\":\\\"lines\\\",\\\"line\\\":{\\\"color\\\":\\\"#66BAE7\\\",\\\"width\\\":2},\\\"y\\\":[142,142],\\\"type\\\":\\\"scatter\\\",\\\"x\\\":[1.101524407386873,1.1165679914062552]},{\\\"showlegend\\\":false,\\\"mode\\\":\\\"lines\\\",\\\"line\\\":{\\\"color\\\":\\\"#66BAE7\\\",\\\"width\\\":2},\\\"y\\\":[141,141],\\\"type\\\":\\\"scatter\\\",\\\"x\\\":[0.9568046803454707,1.1136356088577644]},{\\\"showlegend\\\":false,\\\"mode\\\":\\\"lines\\\",\\\"line\\\":{\\\"color\\\":\\\"#66BAE7\\\",\\\"width\\\":2},\\\"y\\\":[140,140],\\\"type\\\":\\\"scatter\\\",\\\"x\\\":[0.9324696628957972,1.0951715008718956]},{\\\"showlegend\\\":false,\\\"mode\\\":\\\"lines\\\",\\\"line\\\":{\\\"color\\\":\\\"#66BAE7\\\",\\\"width\\\":2},\\\"y\\\":[139,139],\\\"type\\\":\\\"scatter\\\",\\\"x\\\":[0.8749083472753009,0.8872482364000519]},{\\\"showlegend\\\":false,\\\"mode\\\":\\\"lines\\\",\\\"line\\\":{\\\"color\\\":\\\"#66BAE7\\\",\\\"width\\\":2},\\\"y\\\":[138,138],\\\"type\\\":\\\"scatter\\\",\\\"x\\\":[0.8724593975847815,1.0111085179094286]},{\\\"showlegend\\\":false,\\\"mode\\\":\\\"lines\\\",\\\"line\\\":{\\\"color\\\":\\\"#66BAE7\\\",\\\"width\\\":2},\\\"y\\\":[137,137],\\\"type\\\":\\\"scatter\\\",\\\"x\\\":[0.8527003293971439,0.928670626659958]},{\\\"showlegend\\\":false,\\\"mode\\\":\\\"lines\\\",\\\"line\\\":{\\\"color\\\":\\\"#66BAE7\\\",\\\"width\\\":2},\\\"y\\\":[136,136],\\\"type\\\":\\\"scatter\\\",\\\"x\\\":[0.8157438650103369,0.8240826401890763]},{\\\"showlegend\\\":false,\\\"mode\\\":\\\"lines\\\",\\\"line\\\":{\\\"color\\\":\\\"#66BAE7\\\",\\\"width\\\":2},\\\"y\\\":[135,135],\\\"type\\\":\\\"scatter\\\",\\\"x\\\":[0.7820865094540368,0.7864028322265879]},{\\\"showlegend\\\":false,\\\"mode\\\":\\\"lines\\\",\\\"line\\\":{\\\"color\\\":\\\"#66BAE7\\\",\\\"width\\\":2},\\\"y\\\":[134,134],\\\"type\\\":\\\"scatter\\\",\\\"x\\\":[0.773185405990696,0.9042059411516835]},{\\\"showlegend\\\":false,\\\"mode\\\":\\\"lines\\\",\\\"line\\\":{\\\"color\\\":\\\"#66BAE7\\\",\\\"width\\\":2},\\\"y\\\":[133,133],\\\"type\\\":\\\"scatter\\\",\\\"x\\\":[0.7601163850187698,0.8245690865864426]},{\\\"showlegend\\\":false,\\\"mode\\\":\\\"lines\\\",\\\"line\\\":{\\\"color\\\":\\\"#66BAE7\\\",\\\"width\\\":2},\\\"y\\\":[132,132],\\\"type\\\":\\\"scatter\\\",\\\"x\\\":[0.7572215911818669,0.900563983793489]},{\\\"showlegend\\\":false,\\\"mode\\\":\\\"lines\\\",\\\"line\\\":{\\\"color\\\":\\\"#66BAE7\\\",\\\"width\\\":2},\\\"y\\\":[131,131],\\\"type\\\":\\\"scatter\\\",\\\"x\\\":[0.732112243531688,0.7553054557885837]},{\\\"showlegend\\\":false,\\\"mode\\\":\\\"lines\\\",\\\"line\\\":{\\\"color\\\":\\\"#66BAE7\\\",\\\"width\\\":2},\\\"y\\\":[130,130],\\\"type\\\":\\\"scatter\\\",\\\"x\\\":[0.7254718109864776,0.7601359874825044]},{\\\"showlegend\\\":false,\\\"mode\\\":\\\"lines\\\",\\\"line\\\":{\\\"color\\\":\\\"#66BAE7\\\",\\\"width\\\":2},\\\"y\\\":[129,129],\\\"type\\\":\\\"scatter\\\",\\\"x\\\":[0.7212276169740044,1.1774439553579594]},{\\\"showlegend\\\":false,\\\"mode\\\":\\\"lines\\\",\\\"line\\\":{\\\"color\\\":\\\"#66BAE7\\\",\\\"width\\\":2},\\\"y\\\":[128,128],\\\"type\\\":\\\"scatter\\\",\\\"x\\\":[0.7172191014334462,0.767838850852181]},{\\\"showlegend\\\":false,\\\"mode\\\":\\\"lines\\\",\\\"line\\\":{\\\"color\\\":\\\"#66BAE7\\\",\\\"width\\\":2},\\\"y\\\":[127,127],\\\"type\\\":\\\"scatter\\\",\\\"x\\\":[0.7141375776606353,0.843064516312955]},{\\\"showlegend\\\":false,\\\"mode\\\":\\\"lines\\\",\\\"line\\\":{\\\"color\\\":\\\"#66BAE7\\\",\\\"width\\\":2},\\\"y\\\":[126,126],\\\"type\\\":\\\"scatter\\\",\\\"x\\\":[0.7132771324282032,0.7811047202917146]},{\\\"showlegend\\\":false,\\\"mode\\\":\\\"lines\\\",\\\"line\\\":{\\\"color\\\":\\\"#66BAE7\\\",\\\"width\\\":2},\\\"y\\\":[125,125],\\\"type\\\":\\\"scatter\\\",\\\"x\\\":[0.7124714091519748,1.1539141996049802]},{\\\"showlegend\\\":false,\\\"mode\\\":\\\"lines\\\",\\\"line\\\":{\\\"color\\\":\\\"#66BAE7\\\",\\\"width\\\":2},\\\"y\\\":[124,124],\\\"type\\\":\\\"scatter\\\",\\\"x\\\":[0.71180186930072,0.8224786541698202]},{\\\"showlegend\\\":false,\\\"mode\\\":\\\"lines\\\",\\\"line\\\":{\\\"color\\\":\\\"#66BAE7\\\",\\\"width\\\":2},\\\"y\\\":[123,123],\\\"type\\\":\\\"scatter\\\",\\\"x\\\":[0.6974529192096057,0.8372178198802261]},{\\\"showlegend\\\":false,\\\"mode\\\":\\\"lines\\\",\\\"line\\\":{\\\"color\\\":\\\"#66BAE7\\\",\\\"width\\\":2},\\\"y\\\":[122,122],\\\"type\\\":\\\"scatter\\\",\\\"x\\\":[0.6962190671749813,0.7195680137679825]},{\\\"showlegend\\\":false,\\\"mode\\\":\\\"lines\\\",\\\"line\\\":{\\\"color\\\":\\\"#66BAE7\\\",\\\"width\\\":2},\\\"y\\\":[121,121],\\\"type\\\":\\\"scatter\\\",\\\"x\\\":[0.6926084885308589,0.7529023011852201]},{\\\"showlegend\\\":false,\\\"mode\\\":\\\"lines\\\",\\\"line\\\":{\\\"color\\\":\\\"#66BAE7\\\",\\\"width\\\":2},\\\"y\\\":[120,120],\\\"type\\\":\\\"scatter\\\",\\\"x\\\":[0.6918722092763966,0.8029013906806988]},{\\\"showlegend\\\":false,\\\"mode\\\":\\\"lines\\\",\\\"line\\\":{\\\"color\\\":\\\"#66BAE7\\\",\\\"width\\\":2},\\\"y\\\":[119,119],\\\"type\\\":\\\"scatter\\\",\\\"x\\\":[0.6866960501459128,0.7036068131037394]},{\\\"showlegend\\\":false,\\\"mode\\\":\\\"lines\\\",\\\"line\\\":{\\\"color\\\":\\\"#66BAE7\\\",\\\"width\\\":2},\\\"y\\\":[118,118],\\\"type\\\":\\\"scatter\\\",\\\"x\\\":[0.6792194115320909,0.9223866900275617]},{\\\"showlegend\\\":false,\\\"mode\\\":\\\"lines\\\",\\\"line\\\":{\\\"color\\\":\\\"#66BAE7\\\",\\\"width\\\":2},\\\"y\\\":[117,117],\\\"type\\\":\\\"scatter\\\",\\\"x\\\":[0.672449271387068,0.8645753986032669]},{\\\"showlegend\\\":false,\\\"mode\\\":\\\"lines\\\",\\\"line\\\":{\\\"color\\\":\\\"#66BAE7\\\",\\\"width\\\":2},\\\"y\\\":[116,116],\\\"type\\\":\\\"scatter\\\",\\\"x\\\":[0.6650964643102527,0.6875656978223984]},{\\\"showlegend\\\":false,\\\"mode\\\":\\\"lines\\\",\\\"line\\\":{\\\"color\\\":\\\"#66BAE7\\\",\\\"width\\\":2},\\\"y\\\":[115,115],\\\"type\\\":\\\"scatter\\\",\\\"x\\\":[0.6641627545014854,0.8444241919687057]},{\\\"showlegend\\\":false,\\\"mode\\\":\\\"lines\\\",\\\"line\\\":{\\\"color\\\":\\\"#66BAE7\\\",\\\"width\\\":2},\\\"y\\\":[114,114],\\\"type\\\":\\\"scatter\\\",\\\"x\\\":[0.6620294517323227,0.6995544331479862]},{\\\"showlegend\\\":false,\\\"mode\\\":\\\"lines\\\",\\\"line\\\":{\\\"color\\\":\\\"#66BAE7\\\",\\\"width\\\":2},\\\"y\\\":[113,113],\\\"type\\\":\\\"scatter\\\",\\\"x\\\":[0.6504856685216049,0.7019945824826586]},{\\\"showlegend\\\":false,\\\"mode\\\":\\\"lines\\\",\\\"line\\\":{\\\"color\\\":\\\"#66BAE7\\\",\\\"width\\\":2},\\\"y\\\":[112,112],\\\"type\\\":\\\"scatter\\\",\\\"x\\\":[0.6467591664669308,0.7090206281935669]},{\\\"showlegend\\\":false,\\\"mode\\\":\\\"lines\\\",\\\"line\\\":{\\\"color\\\":\\\"#66BAE7\\\",\\\"width\\\":2},\\\"y\\\":[111,111],\\\"type\\\":\\\"scatter\\\",\\\"x\\\":[0.6404250970738077,0.9106002036700845]},{\\\"showlegend\\\":false,\\\"mode\\\":\\\"lines\\\",\\\"line\\\":{\\\"color\\\":\\\"#66BAE7\\\",\\\"width\\\":2},\\\"y\\\":[110,110],\\\"type\\\":\\\"scatter\\\",\\\"x\\\":[0.6335715797050874,0.6341045352156072]},{\\\"showlegend\\\":false,\\\"mode\\\":\\\"lines\\\",\\\"line\\\":{\\\"color\\\":\\\"#66BAE7\\\",\\\"width\\\":2},\\\"y\\\":[109,109],\\\"type\\\":\\\"scatter\\\",\\\"x\\\":[0.633092341458971,0.9634612347339145]},{\\\"showlegend\\\":false,\\\"mode\\\":\\\"lines\\\",\\\"line\\\":{\\\"color\\\":\\\"#66BAE7\\\",\\\"width\\\":2},\\\"y\\\":[108,108],\\\"type\\\":\\\"scatter\\\",\\\"x\\\":[0.6308916921865411,0.7048195333565899]},{\\\"showlegend\\\":false,\\\"mode\\\":\\\"lines\\\",\\\"line\\\":{\\\"color\\\":\\\"#66BAE7\\\",\\\"width\\\":2},\\\"y\\\":[107,107],\\\"type\\\":\\\"scatter\\\",\\\"x\\\":[0.6276574559566733,0.6530008893003163]},{\\\"showlegend\\\":false,\\\"mode\\\":\\\"lines\\\",\\\"line\\\":{\\\"color\\\":\\\"#66BAE7\\\",\\\"width\\\":2},\\\"y\\\":[106,106],\\\"type\\\":\\\"scatter\\\",\\\"x\\\":[0.6189291814400081,0.9190100965152663]},{\\\"showlegend\\\":false,\\\"mode\\\":\\\"lines\\\",\\\"line\\\":{\\\"color\\\":\\\"#66BAE7\\\",\\\"width\\\":2},\\\"y\\\":[105,105],\\\"type\\\":\\\"scatter\\\",\\\"x\\\":[0.6169350044518472,0.8540710886676824]},{\\\"showlegend\\\":false,\\\"mode\\\":\\\"lines\\\",\\\"line\\\":{\\\"color\\\":\\\"#66BAE7\\\",\\\"width\\\":2},\\\"y\\\":[104,104],\\\"type\\\":\\\"scatter\\\",\\\"x\\\":[0.6143939541971416,0.7931471887064857]},{\\\"showlegend\\\":false,\\\"mode\\\":\\\"lines\\\",\\\"line\\\":{\\\"color\\\":\\\"#66BAE7\\\",\\\"width\\\":2},\\\"y\\\":[103,103],\\\"type\\\":\\\"scatter\\\",\\\"x\\\":[0.6107465748753714,1.0154060030406553]},{\\\"showlegend\\\":false,\\\"mode\\\":\\\"lines\\\",\\\"line\\\":{\\\"color\\\":\\\"#66BAE7\\\",\\\"width\\\":2},\\\"y\\\":[102,102],\\\"type\\\":\\\"scatter\\\",\\\"x\\\":[0.6095740182734171,0.6747377289740063]},{\\\"showlegend\\\":false,\\\"mode\\\":\\\"lines\\\",\\\"line\\\":{\\\"color\\\":\\\"#66BAE7\\\",\\\"width\\\":2},\\\"y\\\":[101,101],\\\"type\\\":\\\"scatter\\\",\\\"x\\\":[0.6072170075039068,0.6800320564973393]},{\\\"showlegend\\\":false,\\\"mode\\\":\\\"lines\\\",\\\"line\\\":{\\\"color\\\":\\\"#66BAE7\\\",\\\"width\\\":2},\\\"y\\\":[100,100],\\\"type\\\":\\\"scatter\\\",\\\"x\\\":[0.6060480422260277,0.6289394191056883]},{\\\"showlegend\\\":false,\\\"mode\\\":\\\"lines\\\",\\\"line\\\":{\\\"color\\\":\\\"#66BAE7\\\",\\\"width\\\":2},\\\"y\\\":[99,99],\\\"type\\\":\\\"scatter\\\",\\\"x\\\":[0.5961298039370285,0.6277529591001536]},{\\\"showlegend\\\":false,\\\"mode\\\":\\\"lines\\\",\\\"line\\\":{\\\"color\\\":\\\"#66BAE7\\\",\\\"width\\\":2},\\\"y\\\":[98,98],\\\"type\\\":\\\"scatter\\\",\\\"x\\\":[0.5919371621050683,0.8794702896295021]},{\\\"showlegend\\\":false,\\\"mode\\\":\\\"lines\\\",\\\"line\\\":{\\\"color\\\":\\\"#66BAE7\\\",\\\"width\\\":2},\\\"y\\\":[97,97],\\\"type\\\":\\\"scatter\\\",\\\"x\\\":[0.5899399083779643,1.1623108733763956]},{\\\"showlegend\\\":false,\\\"mode\\\":\\\"lines\\\",\\\"line\\\":{\\\"color\\\":\\\"#66BAE7\\\",\\\"width\\\":2},\\\"y\\\":[96,96],\\\"type\\\":\\\"scatter\\\",\\\"x\\\":[0.5853373581841502,0.7288815128585714]},{\\\"showlegend\\\":false,\\\"mode\\\":\\\"lines\\\",\\\"line\\\":{\\\"color\\\":\\\"#66BAE7\\\",\\\"width\\\":2},\\\"y\\\":[95,95],\\\"type\\\":\\\"scatter\\\",\\\"x\\\":[0.5823946412536782,0.6360542609762162]},{\\\"showlegend\\\":false,\\\"mode\\\":\\\"lines\\\",\\\"line\\\":{\\\"color\\\":\\\"#66BAE7\\\",\\\"width\\\":2},\\\"y\\\":[94,94],\\\"type\\\":\\\"scatter\\\",\\\"x\\\":[0.5821790991413213,0.7846330420457713]},{\\\"showlegend\\\":false,\\\"mode\\\":\\\"lines\\\",\\\"line\\\":{\\\"color\\\":\\\"#66BAE7\\\",\\\"width\\\":2},\\\"y\\\":[93,93],\\\"type\\\":\\\"scatter\\\",\\\"x\\\":[0.5821232599785023,0.683592422642322]},{\\\"showlegend\\\":false,\\\"mode\\\":\\\"lines\\\",\\\"line\\\":{\\\"color\\\":\\\"#66BAE7\\\",\\\"width\\\":2},\\\"y\\\":[92,92],\\\"type\\\":\\\"scatter\\\",\\\"x\\\":[0.5779722043749151,1.193734100461658]},{\\\"showlegend\\\":false,\\\"mode\\\":\\\"lines\\\",\\\"line\\\":{\\\"color\\\":\\\"#66BAE7\\\",\\\"width\\\":2},\\\"y\\\":[91,91],\\\"type\\\":\\\"scatter\\\",\\\"x\\\":[0.5779584308763048,0.7101612891583172]},{\\\"showlegend\\\":false,\\\"mode\\\":\\\"lines\\\",\\\"line\\\":{\\\"color\\\":\\\"#66BAE7\\\",\\\"width\\\":2},\\\"y\\\":[90,90],\\\"type\\\":\\\"scatter\\\",\\\"x\\\":[0.5764219846067622,0.9010712625364338]},{\\\"showlegend\\\":false,\\\"mode\\\":\\\"lines\\\",\\\"line\\\":{\\\"color\\\":\\\"#66BAE7\\\",\\\"width\\\":2},\\\"y\\\":[89,89],\\\"type\\\":\\\"scatter\\\",\\\"x\\\":[0.5754486288227644,0.7559891367552838]},{\\\"showlegend\\\":false,\\\"mode\\\":\\\"lines\\\",\\\"line\\\":{\\\"color\\\":\\\"#66BAE7\\\",\\\"width\\\":2},\\\"y\\\":[88,88],\\\"type\\\":\\\"scatter\\\",\\\"x\\\":[0.5725862764029525,0.5759991981739204]},{\\\"showlegend\\\":false,\\\"mode\\\":\\\"lines\\\",\\\"line\\\":{\\\"color\\\":\\\"#66BAE7\\\",\\\"width\\\":2},\\\"y\\\":[87,87],\\\"type\\\":\\\"scatter\\\",\\\"x\\\":[0.5718972974905565,0.6034222515270711]},{\\\"showlegend\\\":false,\\\"mode\\\":\\\"lines\\\",\\\"line\\\":{\\\"color\\\":\\\"#66BAE7\\\",\\\"width\\\":2},\\\"y\\\":[86,86],\\\"type\\\":\\\"scatter\\\",\\\"x\\\":[0.5704617663910543,0.6181868686586596]},{\\\"showlegend\\\":false,\\\"mode\\\":\\\"lines\\\",\\\"line\\\":{\\\"color\\\":\\\"#66BAE7\\\",\\\"width\\\":2},\\\"y\\\":[85,85],\\\"type\\\":\\\"scatter\\\",\\\"x\\\":[0.5676727863496713,0.8032443776049721]},{\\\"showlegend\\\":false,\\\"mode\\\":\\\"lines\\\",\\\"line\\\":{\\\"color\\\":\\\"#66BAE7\\\",\\\"width\\\":2},\\\"y\\\":[84,84],\\\"type\\\":\\\"scatter\\\",\\\"x\\\":[0.5644044842885304,0.6073326873847626]},{\\\"showlegend\\\":false,\\\"mode\\\":\\\"lines\\\",\\\"line\\\":{\\\"color\\\":\\\"#66BAE7\\\",\\\"width\\\":2},\\\"y\\\":[83,83],\\\"type\\\":\\\"scatter\\\",\\\"x\\\":[0.55952281479936,0.8483714199582629]},{\\\"showlegend\\\":false,\\\"mode\\\":\\\"lines\\\",\\\"line\\\":{\\\"color\\\":\\\"#66BAE7\\\",\\\"width\\\":2},\\\"y\\\":[82,82],\\\"type\\\":\\\"scatter\\\",\\\"x\\\":[0.5553811743343516,1.2235481477191665]},{\\\"showlegend\\\":false,\\\"mode\\\":\\\"lines\\\",\\\"line\\\":{\\\"color\\\":\\\"#66BAE7\\\",\\\"width\\\":2},\\\"y\\\":[81,81],\\\"type\\\":\\\"scatter\\\",\\\"x\\\":[0.5512233187819614,0.738582205134947]},{\\\"showlegend\\\":false,\\\"mode\\\":\\\"lines\\\",\\\"line\\\":{\\\"color\\\":\\\"#66BAE7\\\",\\\"width\\\":2},\\\"y\\\":[80,80],\\\"type\\\":\\\"scatter\\\",\\\"x\\\":[0.5494797157511826,0.5633617325386948]},{\\\"showlegend\\\":false,\\\"mode\\\":\\\"lines\\\",\\\"line\\\":{\\\"color\\\":\\\"#66BAE7\\\",\\\"width\\\":2},\\\"y\\\":[79,79],\\\"type\\\":\\\"scatter\\\",\\\"x\\\":[0.5384843335111983,0.8153690028747729]},{\\\"showlegend\\\":false,\\\"mode\\\":\\\"lines\\\",\\\"line\\\":{\\\"color\\\":\\\"#66BAE7\\\",\\\"width\\\":2},\\\"y\\\":[78,78],\\\"type\\\":\\\"scatter\\\",\\\"x\\\":[0.5381570007767248,0.82728210457981]},{\\\"showlegend\\\":false,\\\"mode\\\":\\\"lines\\\",\\\"line\\\":{\\\"color\\\":\\\"#66BAE7\\\",\\\"width\\\":2},\\\"y\\\":[77,77],\\\"type\\\":\\\"scatter\\\",\\\"x\\\":[0.535639550140763,0.6428092188324629]},{\\\"showlegend\\\":false,\\\"mode\\\":\\\"lines\\\",\\\"line\\\":{\\\"color\\\":\\\"#66BAE7\\\",\\\"width\\\":2},\\\"y\\\":[76,76],\\\"type\\\":\\\"scatter\\\",\\\"x\\\":[0.5347260245340556,0.6495001739661056]},{\\\"showlegend\\\":false,\\\"mode\\\":\\\"lines\\\",\\\"line\\\":{\\\"color\\\":\\\"#66BAE7\\\",\\\"width\\\":2},\\\"y\\\":[75,75],\\\"type\\\":\\\"scatter\\\",\\\"x\\\":[0.532800702128855,0.9798698521788479]},{\\\"showlegend\\\":false,\\\"mode\\\":\\\"lines\\\",\\\"line\\\":{\\\"color\\\":\\\"#66BAE7\\\",\\\"width\\\":2},\\\"y\\\":[74,74],\\\"type\\\":\\\"scatter\\\",\\\"x\\\":[0.5327295173031057,0.5400650597409535]},{\\\"showlegend\\\":false,\\\"mode\\\":\\\"lines\\\",\\\"line\\\":{\\\"color\\\":\\\"#66BAE7\\\",\\\"width\\\":2},\\\"y\\\":[73,73],\\\"type\\\":\\\"scatter\\\",\\\"x\\\":[0.5303905863804526,0.6053561100889293]},{\\\"showlegend\\\":false,\\\"mode\\\":\\\"lines\\\",\\\"line\\\":{\\\"color\\\":\\\"#66BAE7\\\",\\\"width\\\":2},\\\"y\\\":[72,72],\\\"type\\\":\\\"scatter\\\",\\\"x\\\":[0.5265479280094065,0.6433831477914224]},{\\\"showlegend\\\":false,\\\"mode\\\":\\\"lines\\\",\\\"line\\\":{\\\"color\\\":\\\"#66BAE7\\\",\\\"width\\\":2},\\\"y\\\":[71,71],\\\"type\\\":\\\"scatter\\\",\\\"x\\\":[0.523336908896171,0.5420373965069193]},{\\\"showlegend\\\":false,\\\"mode\\\":\\\"lines\\\",\\\"line\\\":{\\\"color\\\":\\\"#66BAE7\\\",\\\"width\\\":2},\\\"y\\\":[70,70],\\\"type\\\":\\\"scatter\\\",\\\"x\\\":[0.5203036060628445,1.0856810444527434]},{\\\"showlegend\\\":false,\\\"mode\\\":\\\"lines\\\",\\\"line\\\":{\\\"color\\\":\\\"#66BAE7\\\",\\\"width\\\":2},\\\"y\\\":[69,69],\\\"type\\\":\\\"scatter\\\",\\\"x\\\":[0.5153211077570952,0.7927003260072487]},{\\\"showlegend\\\":false,\\\"mode\\\":\\\"lines\\\",\\\"line\\\":{\\\"color\\\":\\\"#66BAE7\\\",\\\"width\\\":2},\\\"y\\\":[68,68],\\\"type\\\":\\\"scatter\\\",\\\"x\\\":[0.5135164086550693,0.5219645695542944]},{\\\"showlegend\\\":false,\\\"mode\\\":\\\"lines\\\",\\\"line\\\":{\\\"color\\\":\\\"#66BAE7\\\",\\\"width\\\":2},\\\"y\\\":[67,67],\\\"type\\\":\\\"scatter\\\",\\\"x\\\":[0.5084665064161059,0.5578229226062702]},{\\\"showlegend\\\":false,\\\"mode\\\":\\\"lines\\\",\\\"line\\\":{\\\"color\\\":\\\"#66BAE7\\\",\\\"width\\\":2},\\\"y\\\":[66,66],\\\"type\\\":\\\"scatter\\\",\\\"x\\\":[0.5081655052765783,0.5536051172704244]},{\\\"showlegend\\\":false,\\\"mode\\\":\\\"lines\\\",\\\"line\\\":{\\\"color\\\":\\\"#66BAE7\\\",\\\"width\\\":2},\\\"y\\\":[65,65],\\\"type\\\":\\\"scatter\\\",\\\"x\\\":[0.5067690912861593,0.6134624829539295]},{\\\"showlegend\\\":false,\\\"mode\\\":\\\"lines\\\",\\\"line\\\":{\\\"color\\\":\\\"#66BAE7\\\",\\\"width\\\":2},\\\"y\\\":[64,64],\\\"type\\\":\\\"scatter\\\",\\\"x\\\":[0.5039463311792253,0.5917658893295551]},{\\\"showlegend\\\":false,\\\"mode\\\":\\\"lines\\\",\\\"line\\\":{\\\"color\\\":\\\"#66BAE7\\\",\\\"width\\\":2},\\\"y\\\":[63,63],\\\"type\\\":\\\"scatter\\\",\\\"x\\\":[0.5021340754280671,0.8564442110371232]},{\\\"showlegend\\\":false,\\\"mode\\\":\\\"lines\\\",\\\"line\\\":{\\\"color\\\":\\\"#66BAE7\\\",\\\"width\\\":2},\\\"y\\\":[62,62],\\\"type\\\":\\\"scatter\\\",\\\"x\\\":[0.4997988006828347,0.6816564672091071]},{\\\"showlegend\\\":false,\\\"mode\\\":\\\"lines\\\",\\\"line\\\":{\\\"color\\\":\\\"#66BAE7\\\",\\\"width\\\":2},\\\"y\\\":[61,61],\\\"type\\\":\\\"scatter\\\",\\\"x\\\":[0.49748724592294846,0.5108090308256108]},{\\\"showlegend\\\":false,\\\"mode\\\":\\\"lines\\\",\\\"line\\\":{\\\"color\\\":\\\"#66BAE7\\\",\\\"width\\\":2},\\\"y\\\":[60,60],\\\"type\\\":\\\"scatter\\\",\\\"x\\\":[0.4933903865804454,0.5503788237423378]},{\\\"showlegend\\\":false,\\\"mode\\\":\\\"lines\\\",\\\"line\\\":{\\\"color\\\":\\\"#66BAE7\\\",\\\"width\\\":2},\\\"y\\\":[59,59],\\\"type\\\":\\\"scatter\\\",\\\"x\\\":[0.4891034176132916,0.507512708840872]},{\\\"showlegend\\\":false,\\\"mode\\\":\\\"lines\\\",\\\"line\\\":{\\\"color\\\":\\\"#66BAE7\\\",\\\"width\\\":2},\\\"y\\\":[58,58],\\\"type\\\":\\\"scatter\\\",\\\"x\\\":[0.487758041662051,0.9203247876586823]},{\\\"showlegend\\\":false,\\\"mode\\\":\\\"lines\\\",\\\"line\\\":{\\\"color\\\":\\\"#66BAE7\\\",\\\"width\\\":2},\\\"y\\\":[57,57],\\\"type\\\":\\\"scatter\\\",\\\"x\\\":[0.4840528015712748,0.7833879686655905]},{\\\"showlegend\\\":false,\\\"mode\\\":\\\"lines\\\",\\\"line\\\":{\\\"color\\\":\\\"#66BAE7\\\",\\\"width\\\":2},\\\"y\\\":[56,56],\\\"type\\\":\\\"scatter\\\",\\\"x\\\":[0.47543182370241094,0.7362794690625295]},{\\\"showlegend\\\":false,\\\"mode\\\":\\\"lines\\\",\\\"line\\\":{\\\"color\\\":\\\"#66BAE7\\\",\\\"width\\\":2},\\\"y\\\":[55,55],\\\"type\\\":\\\"scatter\\\",\\\"x\\\":[0.47340873251979587,0.5192668818459348]},{\\\"showlegend\\\":false,\\\"mode\\\":\\\"lines\\\",\\\"line\\\":{\\\"color\\\":\\\"#66BAE7\\\",\\\"width\\\":2},\\\"y\\\":[54,54],\\\"type\\\":\\\"scatter\\\",\\\"x\\\":[0.46661839036733216,0.589095945004715]},{\\\"showlegend\\\":false,\\\"mode\\\":\\\"lines\\\",\\\"line\\\":{\\\"color\\\":\\\"#66BAE7\\\",\\\"width\\\":2},\\\"y\\\":[53,53],\\\"type\\\":\\\"scatter\\\",\\\"x\\\":[0.4624975935137395,0.4991201172653737]},{\\\"showlegend\\\":false,\\\"mode\\\":\\\"lines\\\",\\\"line\\\":{\\\"color\\\":\\\"#66BAE7\\\",\\\"width\\\":2},\\\"y\\\":[52,52],\\\"type\\\":\\\"scatter\\\",\\\"x\\\":[0.46089099419493895,0.6516098800279195]},{\\\"showlegend\\\":false,\\\"mode\\\":\\\"lines\\\",\\\"line\\\":{\\\"color\\\":\\\"#66BAE7\\\",\\\"width\\\":2},\\\"y\\\":[51,51],\\\"type\\\":\\\"scatter\\\",\\\"x\\\":[0.45998569677110646,0.4970261872265888]},{\\\"showlegend\\\":false,\\\"mode\\\":\\\"lines\\\",\\\"line\\\":{\\\"color\\\":\\\"#66BAE7\\\",\\\"width\\\":2},\\\"y\\\":[50,50],\\\"type\\\":\\\"scatter\\\",\\\"x\\\":[0.4572078450606463,0.47079816360835536]},{\\\"showlegend\\\":false,\\\"mode\\\":\\\"lines\\\",\\\"line\\\":{\\\"color\\\":\\\"#66BAE7\\\",\\\"width\\\":2},\\\"y\\\":[49,49],\\\"type\\\":\\\"scatter\\\",\\\"x\\\":[0.4553836088848613,0.5557952611897654]},{\\\"showlegend\\\":false,\\\"mode\\\":\\\"lines\\\",\\\"line\\\":{\\\"color\\\":\\\"#66BAE7\\\",\\\"width\\\":2},\\\"y\\\":[48,48],\\\"type\\\":\\\"scatter\\\",\\\"x\\\":[0.45390470887401024,1.744962737820209]},{\\\"showlegend\\\":false,\\\"mode\\\":\\\"lines\\\",\\\"line\\\":{\\\"color\\\":\\\"#66BAE7\\\",\\\"width\\\":2},\\\"y\\\":[47,47],\\\"type\\\":\\\"scatter\\\",\\\"x\\\":[0.45347961114585894,0.47791571165740176]},{\\\"showlegend\\\":false,\\\"mode\\\":\\\"lines\\\",\\\"line\\\":{\\\"color\\\":\\\"#66BAE7\\\",\\\"width\\\":2},\\\"y\\\":[46,46],\\\"type\\\":\\\"scatter\\\",\\\"x\\\":[0.4531264124954545,0.4649278472472903]},{\\\"showlegend\\\":false,\\\"mode\\\":\\\"lines\\\",\\\"line\\\":{\\\"color\\\":\\\"#66BAE7\\\",\\\"width\\\":2},\\\"y\\\":[45,45],\\\"type\\\":\\\"scatter\\\",\\\"x\\\":[0.44930161718605033,0.5628040438785067]},{\\\"showlegend\\\":false,\\\"mode\\\":\\\"lines\\\",\\\"line\\\":{\\\"color\\\":\\\"#66BAE7\\\",\\\"width\\\":2},\\\"y\\\":[44,44],\\\"type\\\":\\\"scatter\\\",\\\"x\\\":[0.4491960034661929,0.7624156506283171]},{\\\"showlegend\\\":false,\\\"mode\\\":\\\"lines\\\",\\\"line\\\":{\\\"color\\\":\\\"#66BAE7\\\",\\\"width\\\":2},\\\"y\\\":[43,43],\\\"type\\\":\\\"scatter\\\",\\\"x\\\":[0.44805018646798894,0.739850314452863]},{\\\"showlegend\\\":false,\\\"mode\\\":\\\"lines\\\",\\\"line\\\":{\\\"color\\\":\\\"#66BAE7\\\",\\\"width\\\":2},\\\"y\\\":[42,42],\\\"type\\\":\\\"scatter\\\",\\\"x\\\":[0.44628408583995216,1.7395210034587103]},{\\\"showlegend\\\":false,\\\"mode\\\":\\\"lines\\\",\\\"line\\\":{\\\"color\\\":\\\"#66BAE7\\\",\\\"width\\\":2},\\\"y\\\":[41,41],\\\"type\\\":\\\"scatter\\\",\\\"x\\\":[0.44543931542467113,0.8272377608916301]},{\\\"showlegend\\\":false,\\\"mode\\\":\\\"lines\\\",\\\"line\\\":{\\\"color\\\":\\\"#66BAE7\\\",\\\"width\\\":2},\\\"y\\\":[40,40],\\\"type\\\":\\\"scatter\\\",\\\"x\\\":[0.4429661832454033,0.44630601621421156]},{\\\"showlegend\\\":false,\\\"mode\\\":\\\"lines\\\",\\\"line\\\":{\\\"color\\\":\\\"#66BAE7\\\",\\\"width\\\":2},\\\"y\\\":[39,39],\\\"type\\\":\\\"scatter\\\",\\\"x\\\":[0.44293022213098154,0.4459689627339571]},{\\\"showlegend\\\":false,\\\"mode\\\":\\\"lines\\\",\\\"line\\\":{\\\"color\\\":\\\"#66BAE7\\\",\\\"width\\\":2},\\\"y\\\":[38,38],\\\"type\\\":\\\"scatter\\\",\\\"x\\\":[0.43832043624385125,0.49994001136536403]},{\\\"showlegend\\\":false,\\\"mode\\\":\\\"lines\\\",\\\"line\\\":{\\\"color\\\":\\\"#66BAE7\\\",\\\"width\\\":2},\\\"y\\\":[37,37],\\\"type\\\":\\\"scatter\\\",\\\"x\\\":[0.4373111287104404,0.518014730264497]},{\\\"showlegend\\\":false,\\\"mode\\\":\\\"lines\\\",\\\"line\\\":{\\\"color\\\":\\\"#66BAE7\\\",\\\"width\\\":2},\\\"y\\\":[36,36],\\\"type\\\":\\\"scatter\\\",\\\"x\\\":[0.43485141967918167,0.436468814686685]},{\\\"showlegend\\\":false,\\\"mode\\\":\\\"lines\\\",\\\"line\\\":{\\\"color\\\":\\\"#66BAE7\\\",\\\"width\\\":2},\\\"y\\\":[35,35],\\\"type\\\":\\\"scatter\\\",\\\"x\\\":[0.4334231223273625,0.45240818890576956]},{\\\"showlegend\\\":false,\\\"mode\\\":\\\"lines\\\",\\\"line\\\":{\\\"color\\\":\\\"#66BAE7\\\",\\\"width\\\":2},\\\"y\\\":[34,34],\\\"type\\\":\\\"scatter\\\",\\\"x\\\":[0.42913711603053084,0.48837476904217686]},{\\\"showlegend\\\":false,\\\"mode\\\":\\\"lines\\\",\\\"line\\\":{\\\"color\\\":\\\"#66BAE7\\\",\\\"width\\\":2},\\\"y\\\":[33,33],\\\"type\\\":\\\"scatter\\\",\\\"x\\\":[0.4218255790074847,0.7788134876451491]},{\\\"showlegend\\\":false,\\\"mode\\\":\\\"lines\\\",\\\"line\\\":{\\\"color\\\":\\\"#66BAE7\\\",\\\"width\\\":2},\\\"y\\\":[32,32],\\\"type\\\":\\\"scatter\\\",\\\"x\\\":[0.4161441430730466,0.4558861657278095]},{\\\"showlegend\\\":false,\\\"mode\\\":\\\"lines\\\",\\\"line\\\":{\\\"color\\\":\\\"#66BAE7\\\",\\\"width\\\":2},\\\"y\\\":[31,31],\\\"type\\\":\\\"scatter\\\",\\\"x\\\":[0.41074788438773496,0.6511065460475727]},{\\\"showlegend\\\":false,\\\"mode\\\":\\\"lines\\\",\\\"line\\\":{\\\"color\\\":\\\"#66BAE7\\\",\\\"width\\\":2},\\\"y\\\":[30,30],\\\"type\\\":\\\"scatter\\\",\\\"x\\\":[0.40931576662889463,0.4139949068007957]},{\\\"showlegend\\\":false,\\\"mode\\\":\\\"lines\\\",\\\"line\\\":{\\\"color\\\":\\\"#66BAE7\\\",\\\"width\\\":2},\\\"y\\\":[29,29],\\\"type\\\":\\\"scatter\\\",\\\"x\\\":[0.40828856998573976,0.5584049016887298]},{\\\"showlegend\\\":false,\\\"mode\\\":\\\"lines\\\",\\\"line\\\":{\\\"color\\\":\\\"#66BAE7\\\",\\\"width\\\":2},\\\"y\\\":[28,28],\\\"type\\\":\\\"scatter\\\",\\\"x\\\":[0.4051604912266253,0.43186594383558413]},{\\\"showlegend\\\":false,\\\"mode\\\":\\\"lines\\\",\\\"line\\\":{\\\"color\\\":\\\"#66BAE7\\\",\\\"width\\\":2},\\\"y\\\":[27,27],\\\"type\\\":\\\"scatter\\\",\\\"x\\\":[0.40499463878426883,0.43076233984530365]},{\\\"showlegend\\\":false,\\\"mode\\\":\\\"lines\\\",\\\"line\\\":{\\\"color\\\":\\\"#66BAE7\\\",\\\"width\\\":2},\\\"y\\\":[26,26],\\\"type\\\":\\\"scatter\\\",\\\"x\\\":[0.39988867886700624,0.4223490272334011]},{\\\"showlegend\\\":false,\\\"mode\\\":\\\"lines\\\",\\\"line\\\":{\\\"color\\\":\\\"#66BAE7\\\",\\\"width\\\":2},\\\"y\\\":[25,25],\\\"type\\\":\\\"scatter\\\",\\\"x\\\":[0.3997568178105283,0.41194598252926384]},{\\\"showlegend\\\":false,\\\"mode\\\":\\\"lines\\\",\\\"line\\\":{\\\"color\\\":\\\"#66BAE7\\\",\\\"width\\\":2},\\\"y\\\":[24,24],\\\"type\\\":\\\"scatter\\\",\\\"x\\\":[0.3940156271482172,0.7421511786078362]},{\\\"showlegend\\\":false,\\\"mode\\\":\\\"lines\\\",\\\"line\\\":{\\\"color\\\":\\\"#66BAE7\\\",\\\"width\\\":2},\\\"y\\\":[23,23],\\\"type\\\":\\\"scatter\\\",\\\"x\\\":[0.3918516886603912,0.4187440985243851]},{\\\"showlegend\\\":false,\\\"mode\\\":\\\"lines\\\",\\\"line\\\":{\\\"color\\\":\\\"#66BAE7\\\",\\\"width\\\":2},\\\"y\\\":[22,22],\\\"type\\\":\\\"scatter\\\",\\\"x\\\":[0.39130660805307166,0.42707857233769025]},{\\\"showlegend\\\":false,\\\"mode\\\":\\\"lines\\\",\\\"line\\\":{\\\"color\\\":\\\"#66BAE7\\\",\\\"width\\\":2},\\\"y\\\":[21,21],\\\"type\\\":\\\"scatter\\\",\\\"x\\\":[0.38868453771664235,0.4556352356699378]},{\\\"showlegend\\\":false,\\\"mode\\\":\\\"lines\\\",\\\"line\\\":{\\\"color\\\":\\\"#66BAE7\\\",\\\"width\\\":2},\\\"y\\\":[20,20],\\\"type\\\":\\\"scatter\\\",\\\"x\\\":[0.38853764561107856,0.5369222737594332]},{\\\"showlegend\\\":false,\\\"mode\\\":\\\"lines\\\",\\\"line\\\":{\\\"color\\\":\\\"#66BAE7\\\",\\\"width\\\":2},\\\"y\\\":[19,19],\\\"type\\\":\\\"scatter\\\",\\\"x\\\":[0.38613376781757863,0.5308467517024099]},{\\\"showlegend\\\":false,\\\"mode\\\":\\\"lines\\\",\\\"line\\\":{\\\"color\\\":\\\"#66BAE7\\\",\\\"width\\\":2},\\\"y\\\":[18,18],\\\"type\\\":\\\"scatter\\\",\\\"x\\\":[0.37569164278567624,0.3805238206814397]},{\\\"showlegend\\\":false,\\\"mode\\\":\\\"lines\\\",\\\"line\\\":{\\\"color\\\":\\\"#66BAE7\\\",\\\"width\\\":2},\\\"y\\\":[17,17],\\\"type\\\":\\\"scatter\\\",\\\"x\\\":[0.37383530764495726,0.572754619544007]},{\\\"showlegend\\\":false,\\\"mode\\\":\\\"lines\\\",\\\"line\\\":{\\\"color\\\":\\\"#66BAE7\\\",\\\"width\\\":2},\\\"y\\\":[16,16],\\\"type\\\":\\\"scatter\\\",\\\"x\\\":[0.37042038750722056,0.4502341879544474]},{\\\"showlegend\\\":false,\\\"mode\\\":\\\"lines\\\",\\\"line\\\":{\\\"color\\\":\\\"#66BAE7\\\",\\\"width\\\":2},\\\"y\\\":[15,15],\\\"type\\\":\\\"scatter\\\",\\\"x\\\":[0.37020919549222525,0.38733667690266643]},{\\\"showlegend\\\":false,\\\"mode\\\":\\\"lines\\\",\\\"line\\\":{\\\"color\\\":\\\"#66BAE7\\\",\\\"width\\\":2},\\\"y\\\":[14,14],\\\"type\\\":\\\"scatter\\\",\\\"x\\\":[0.35097745749406833,0.3722814594376148]},{\\\"showlegend\\\":false,\\\"mode\\\":\\\"lines\\\",\\\"line\\\":{\\\"color\\\":\\\"#66BAE7\\\",\\\"width\\\":2},\\\"y\\\":[13,13],\\\"type\\\":\\\"scatter\\\",\\\"x\\\":[0.3487354599248555,0.4514393841192856]},{\\\"showlegend\\\":false,\\\"mode\\\":\\\"lines\\\",\\\"line\\\":{\\\"color\\\":\\\"#66BAE7\\\",\\\"width\\\":2},\\\"y\\\":[12,12],\\\"type\\\":\\\"scatter\\\",\\\"x\\\":[0.34440954255943607,0.4608325617336501]},{\\\"showlegend\\\":false,\\\"mode\\\":\\\"lines\\\",\\\"line\\\":{\\\"color\\\":\\\"#66BAE7\\\",\\\"width\\\":2},\\\"y\\\":[11,11],\\\"type\\\":\\\"scatter\\\",\\\"x\\\":[0.3419722970314992,0.35857158569245295]},{\\\"showlegend\\\":false,\\\"mode\\\":\\\"lines\\\",\\\"line\\\":{\\\"color\\\":\\\"#66BAE7\\\",\\\"width\\\":2},\\\"y\\\":[10,10],\\\"type\\\":\\\"scatter\\\",\\\"x\\\":[0.33813761899114414,0.5865663664173053]},{\\\"showlegend\\\":false,\\\"mode\\\":\\\"lines\\\",\\\"line\\\":{\\\"color\\\":\\\"#66BAE7\\\",\\\"width\\\":2},\\\"y\\\":[9,9],\\\"type\\\":\\\"scatter\\\",\\\"x\\\":[0.3371584100700991,0.3677462855978217]},{\\\"showlegend\\\":false,\\\"mode\\\":\\\"lines\\\",\\\"line\\\":{\\\"color\\\":\\\"#66BAE7\\\",\\\"width\\\":2},\\\"y\\\":[8,8],\\\"type\\\":\\\"scatter\\\",\\\"x\\\":[0.33621561320230114,0.42674385868457454]},{\\\"showlegend\\\":false,\\\"mode\\\":\\\"lines\\\",\\\"line\\\":{\\\"color\\\":\\\"#66BAE7\\\",\\\"width\\\":2},\\\"y\\\":[7,7],\\\"type\\\":\\\"scatter\\\",\\\"x\\\":[0.3314273946492658,0.37542840761322305]},{\\\"showlegend\\\":false,\\\"mode\\\":\\\"lines\\\",\\\"line\\\":{\\\"color\\\":\\\"#66BAE7\\\",\\\"width\\\":2},\\\"y\\\":[6,6],\\\"type\\\":\\\"scatter\\\",\\\"x\\\":[0.3300696350544831,0.40439962335541285]},{\\\"showlegend\\\":false,\\\"mode\\\":\\\"lines\\\",\\\"line\\\":{\\\"color\\\":\\\"#66BAE7\\\",\\\"width\\\":2},\\\"y\\\":[5,5],\\\"type\\\":\\\"scatter\\\",\\\"x\\\":[0.32314033354875615,0.4151272299584806]},{\\\"showlegend\\\":false,\\\"mode\\\":\\\"lines\\\",\\\"line\\\":{\\\"color\\\":\\\"#66BAE7\\\",\\\"width\\\":2},\\\"y\\\":[4,4],\\\"type\\\":\\\"scatter\\\",\\\"x\\\":[0.29922456865204033,0.3512821362879138]},{\\\"showlegend\\\":false,\\\"mode\\\":\\\"lines\\\",\\\"line\\\":{\\\"color\\\":\\\"#66BAE7\\\",\\\"width\\\":2},\\\"y\\\":[3,3],\\\"type\\\":\\\"scatter\\\",\\\"x\\\":[0.29921874198987014,0.43282674131920335]},{\\\"showlegend\\\":false,\\\"mode\\\":\\\"lines\\\",\\\"line\\\":{\\\"color\\\":\\\"#66BAE7\\\",\\\"width\\\":2},\\\"y\\\":[2,2],\\\"type\\\":\\\"scatter\\\",\\\"x\\\":[0.28817090433629944,0.32404290095448784]},{\\\"mode\\\":\\\"lines\\\",\\\"line\\\":{\\\"color\\\":\\\"#66BAE7\\\",\\\"width\\\":2},\\\"y\\\":[1,1],\\\"type\\\":\\\"scatter\\\",\\\"name\\\":\\\"Dimension 1\\\",\\\"x\\\":[0.2355615922768392,0.2683384352678533]}],{\\\"xaxis\\\":{\\\"showgrid\\\":false,\\\"zeroline\\\":false,\\\"rangevar\\\":[-0.001,1.745962737820209],\\\"title\\\":\\\"ϵ\\\"},\\\"margin\\\":{\\\"l\\\":50,\\\"b\\\":50,\\\"r\\\":50,\\\"t\\\":60},\\\"yaxis\\\":{\\\"showgrid\\\":false,\\\"rangevar\\\":[0.0,142.1],\\\"ticks\\\":false}},{}); gd.on(\\\"plotly_hover\\\",(function (data){var filtered_data=WebIO.PlotlyCommands.filterEventData(gd,data,\\\"hover\\\"); return !(filtered_data.isnil) ? (WebIO.setval({\\\"name\\\":\\\"hover\\\",\\\"scope\\\":\\\"17112711449274174047\\\",\\\"id\\\":\\\"13271695935289954967\\\",\\\"type\\\":\\\"observable\\\"},filtered_data.out)) : undefined})); gd.on(\\\"plotly_unhover\\\",(function (){return WebIO.setval({\\\"name\\\":\\\"hover\\\",\\\"scope\\\":\\\"17112711449274174047\\\",\\\"id\\\":\\\"13271695935289954967\\\",\\\"type\\\":\\\"observable\\\"},{})})); gd.on(\\\"plotly_selected\\\",(function (data){var filtered_data=WebIO.PlotlyCommands.filterEventData(gd,data,\\\"selected\\\"); return !(filtered_data.isnil) ? (WebIO.setval({\\\"name\\\":\\\"selected\\\",\\\"scope\\\":\\\"17112711449274174047\\\",\\\"id\\\":\\\"6339872460836679106\\\",\\\"type\\\":\\\"observable\\\"},filtered_data.out)) : undefined})); gd.on(\\\"plotly_deselect\\\",(function (){return WebIO.setval({\\\"name\\\":\\\"selected\\\",\\\"scope\\\":\\\"17112711449274174047\\\",\\\"id\\\":\\\"6339872460836679106\\\",\\\"type\\\":\\\"observable\\\"},{})})); gd.on(\\\"plotly_relayout\\\",(function (data){var filtered_data=WebIO.PlotlyCommands.filterEventData(gd,data,\\\"relayout\\\"); return !(filtered_data.isnil) ? (WebIO.setval({\\\"name\\\":\\\"relayout\\\",\\\"scope\\\":\\\"17112711449274174047\\\",\\\"id\\\":\\\"7638811493923890696\\\",\\\"type\\\":\\\"observable\\\"},filtered_data.out)) : undefined})); return gd.on(\\\"plotly_click\\\",(function (data){var filtered_data=WebIO.PlotlyCommands.filterEventData(gd,data,\\\"click\\\"); return !(filtered_data.isnil) ? (WebIO.setval({\\\"name\\\":\\\"click\\\",\\\"scope\\\":\\\"17112711449274174047\\\",\\\"id\\\":\\\"15694247859343224802\\\",\\\"type\\\":\\\"observable\\\"},filtered_data.out)) : undefined}))}));\\n    (WebIO.importBlock({\\\"data\\\":[{\\\"name\\\":\\\"Plotly\\\",\\\"type\\\":\\\"js\\\",\\\"url\\\":\\\"\\/assetserver\\/0011d14de576c55f77111628d5a39fcc5762f320-plotly.min.js\\\"},{\\\"name\\\":null,\\\"type\\\":\\\"js\\\",\\\"url\\\":\\\"\\/assetserver\\/52365f0a3f606733873c2a55bbe1584aba3b706c-plotly_webio.bundle.js\\\"}],\\\"type\\\":\\\"async_block\\\"})).then((imports) => handler.apply(this, imports));\\n}\\n\"],\"observables\":{\"_toImage\":{\"sync\":false,\"id\":\"4796465845503343799\",\"value\":{}},\"hover\":{\"sync\":false,\"id\":\"13271695935289954967\",\"value\":{}},\"selected\":{\"sync\":false,\"id\":\"6339872460836679106\",\"value\":{}},\"__gd_contents\":{\"sync\":false,\"id\":\"1231539973372700161\",\"value\":{}},\"click\":{\"sync\":false,\"id\":\"15694247859343224802\",\"value\":{}},\"image\":{\"sync\":true,\"id\":\"12932408321350986680\",\"value\":\"\"},\"__get_gd_contents\":{\"sync\":false,\"id\":\"9290334696128910860\",\"value\":\"\"},\"_downloadImage\":{\"sync\":false,\"id\":\"13140411201737231097\",\"value\":{}},\"relayout\":{\"sync\":false,\"id\":\"7638811493923890696\",\"value\":{}},\"_commands\":{\"sync\":false,\"id\":\"13519534998140644300\",\"value\":[]}}},\"children\":[{\"props\":{\"id\":\"plot-e07f9311-d642-42d7-90b6-cbd208137009\"},\"nodeType\":\"DOM\",\"type\":\"node\",\"instanceArgs\":{\"namespace\":\"html\",\"tag\":\"div\"},\"children\":[]}]},\n",
       "        window,\n",
       "    );\n",
       "    })()\n",
       "    </script>\n",
       "</div>\n"
      ],
      "text/plain": [
       "data: [\n",
       "  \"scatter with fields line, mode, showlegend, type, x, and y\",\n",
       "  \"scatter with fields line, mode, showlegend, type, x, and y\",\n",
       "  \"scatter with fields line, mode, showlegend, type, x, and y\",\n",
       "  \"scatter with fields line, mode, showlegend, type, x, and y\",\n",
       "  \"scatter with fields line, mode, showlegend, type, x, and y\",\n",
       "  \"scatter with fields line, mode, showlegend, type, x, and y\",\n",
       "  \"scatter with fields line, mode, showlegend, type, x, and y\",\n",
       "  \"scatter with fields line, mode, showlegend, type, x, and y\",\n",
       "  \"scatter with fields line, mode, showlegend, type, x, and y\",\n",
       "  \"scatter with fields line, mode, showlegend, type, x, and y\",\n",
       "  \"scatter with fields line, mode, showlegend, type, x, and y\",\n",
       "  \"scatter with fields line, mode, showlegend, type, x, and y\",\n",
       "  \"scatter with fields line, mode, showlegend, type, x, and y\",\n",
       "  \"scatter with fields line, mode, showlegend, type, x, and y\",\n",
       "  \"scatter with fields line, mode, showlegend, type, x, and y\",\n",
       "  \"scatter with fields line, mode, showlegend, type, x, and y\",\n",
       "  \"scatter with fields line, mode, showlegend, type, x, and y\",\n",
       "  \"scatter with fields line, mode, showlegend, type, x, and y\",\n",
       "  \"scatter with fields line, mode, showlegend, type, x, and y\",\n",
       "  \"scatter with fields line, mode, showlegend, type, x, and y\",\n",
       "  \"scatter with fields line, mode, showlegend, type, x, and y\",\n",
       "  \"scatter with fields line, mode, showlegend, type, x, and y\",\n",
       "  \"scatter with fields line, mode, showlegend, type, x, and y\",\n",
       "  \"scatter with fields line, mode, showlegend, type, x, and y\",\n",
       "  \"scatter with fields line, mode, showlegend, type, x, and y\",\n",
       "  \"scatter with fields line, mode, showlegend, type, x, and y\",\n",
       "  \"scatter with fields line, mode, showlegend, type, x, and y\",\n",
       "  \"scatter with fields line, mode, showlegend, type, x, and y\",\n",
       "  \"scatter with fields line, mode, showlegend, type, x, and y\",\n",
       "  \"scatter with fields line, mode, showlegend, type, x, and y\",\n",
       "  \"scatter with fields line, mode, showlegend, type, x, and y\",\n",
       "  \"scatter with fields line, mode, showlegend, type, x, and y\",\n",
       "  \"scatter with fields line, mode, showlegend, type, x, and y\",\n",
       "  \"scatter with fields line, mode, showlegend, type, x, and y\",\n",
       "  \"scatter with fields line, mode, showlegend, type, x, and y\",\n",
       "  \"scatter with fields line, mode, showlegend, type, x, and y\",\n",
       "  \"scatter with fields line, mode, showlegend, type, x, and y\",\n",
       "  \"scatter with fields line, mode, showlegend, type, x, and y\",\n",
       "  \"scatter with fields line, mode, showlegend, type, x, and y\",\n",
       "  \"scatter with fields line, mode, showlegend, type, x, and y\",\n",
       "  \"scatter with fields line, mode, showlegend, type, x, and y\",\n",
       "  \"scatter with fields line, mode, showlegend, type, x, and y\",\n",
       "  \"scatter with fields line, mode, showlegend, type, x, and y\",\n",
       "  \"scatter with fields line, mode, showlegend, type, x, and y\",\n",
       "  \"scatter with fields line, mode, showlegend, type, x, and y\",\n",
       "  \"scatter with fields line, mode, showlegend, type, x, and y\",\n",
       "  \"scatter with fields line, mode, showlegend, type, x, and y\",\n",
       "  \"scatter with fields line, mode, showlegend, type, x, and y\",\n",
       "  \"scatter with fields line, mode, showlegend, type, x, and y\",\n",
       "  \"scatter with fields line, mode, showlegend, type, x, and y\",\n",
       "  \"scatter with fields line, mode, showlegend, type, x, and y\",\n",
       "  \"scatter with fields line, mode, showlegend, type, x, and y\",\n",
       "  \"scatter with fields line, mode, showlegend, type, x, and y\",\n",
       "  \"scatter with fields line, mode, showlegend, type, x, and y\",\n",
       "  \"scatter with fields line, mode, showlegend, type, x, and y\",\n",
       "  \"scatter with fields line, mode, showlegend, type, x, and y\",\n",
       "  \"scatter with fields line, mode, showlegend, type, x, and y\",\n",
       "  \"scatter with fields line, mode, showlegend, type, x, and y\",\n",
       "  \"scatter with fields line, mode, showlegend, type, x, and y\",\n",
       "  \"scatter with fields line, mode, showlegend, type, x, and y\",\n",
       "  \"scatter with fields line, mode, showlegend, type, x, and y\",\n",
       "  \"scatter with fields line, mode, showlegend, type, x, and y\",\n",
       "  \"scatter with fields line, mode, showlegend, type, x, and y\",\n",
       "  \"scatter with fields line, mode, showlegend, type, x, and y\",\n",
       "  \"scatter with fields line, mode, showlegend, type, x, and y\",\n",
       "  \"scatter with fields line, mode, showlegend, type, x, and y\",\n",
       "  \"scatter with fields line, mode, showlegend, type, x, and y\",\n",
       "  \"scatter with fields line, mode, showlegend, type, x, and y\",\n",
       "  \"scatter with fields line, mode, showlegend, type, x, and y\",\n",
       "  \"scatter with fields line, mode, showlegend, type, x, and y\",\n",
       "  \"scatter with fields line, mode, showlegend, type, x, and y\",\n",
       "  \"scatter with fields line, mode, showlegend, type, x, and y\",\n",
       "  \"scatter with fields line, mode, showlegend, type, x, and y\",\n",
       "  \"scatter with fields line, mode, showlegend, type, x, and y\",\n",
       "  \"scatter with fields line, mode, showlegend, type, x, and y\",\n",
       "  \"scatter with fields line, mode, showlegend, type, x, and y\",\n",
       "  \"scatter with fields line, mode, showlegend, type, x, and y\",\n",
       "  \"scatter with fields line, mode, showlegend, type, x, and y\",\n",
       "  \"scatter with fields line, mode, showlegend, type, x, and y\",\n",
       "  \"scatter with fields line, mode, showlegend, type, x, and y\",\n",
       "  \"scatter with fields line, mode, showlegend, type, x, and y\",\n",
       "  \"scatter with fields line, mode, showlegend, type, x, and y\",\n",
       "  \"scatter with fields line, mode, showlegend, type, x, and y\",\n",
       "  \"scatter with fields line, mode, showlegend, type, x, and y\",\n",
       "  \"scatter with fields line, mode, showlegend, type, x, and y\",\n",
       "  \"scatter with fields line, mode, showlegend, type, x, and y\",\n",
       "  \"scatter with fields line, mode, showlegend, type, x, and y\",\n",
       "  \"scatter with fields line, mode, showlegend, type, x, and y\",\n",
       "  \"scatter with fields line, mode, showlegend, type, x, and y\",\n",
       "  \"scatter with fields line, mode, showlegend, type, x, and y\",\n",
       "  \"scatter with fields line, mode, showlegend, type, x, and y\",\n",
       "  \"scatter with fields line, mode, showlegend, type, x, and y\",\n",
       "  \"scatter with fields line, mode, showlegend, type, x, and y\",\n",
       "  \"scatter with fields line, mode, showlegend, type, x, and y\",\n",
       "  \"scatter with fields line, mode, showlegend, type, x, and y\",\n",
       "  \"scatter with fields line, mode, showlegend, type, x, and y\",\n",
       "  \"scatter with fields line, mode, showlegend, type, x, and y\",\n",
       "  \"scatter with fields line, mode, showlegend, type, x, and y\",\n",
       "  \"scatter with fields line, mode, showlegend, type, x, and y\",\n",
       "  \"scatter with fields line, mode, showlegend, type, x, and y\",\n",
       "  \"scatter with fields line, mode, showlegend, type, x, and y\",\n",
       "  \"scatter with fields line, mode, showlegend, type, x, and y\",\n",
       "  \"scatter with fields line, mode, showlegend, type, x, and y\",\n",
       "  \"scatter with fields line, mode, showlegend, type, x, and y\",\n",
       "  \"scatter with fields line, mode, showlegend, type, x, and y\",\n",
       "  \"scatter with fields line, mode, showlegend, type, x, and y\",\n",
       "  \"scatter with fields line, mode, showlegend, type, x, and y\",\n",
       "  \"scatter with fields line, mode, showlegend, type, x, and y\",\n",
       "  \"scatter with fields line, mode, showlegend, type, x, and y\",\n",
       "  \"scatter with fields line, mode, showlegend, type, x, and y\",\n",
       "  \"scatter with fields line, mode, showlegend, type, x, and y\",\n",
       "  \"scatter with fields line, mode, showlegend, type, x, and y\",\n",
       "  \"scatter with fields line, mode, showlegend, type, x, and y\",\n",
       "  \"scatter with fields line, mode, showlegend, type, x, and y\",\n",
       "  \"scatter with fields line, mode, showlegend, type, x, and y\",\n",
       "  \"scatter with fields line, mode, showlegend, type, x, and y\",\n",
       "  \"scatter with fields line, mode, showlegend, type, x, and y\",\n",
       "  \"scatter with fields line, mode, showlegend, type, x, and y\",\n",
       "  \"scatter with fields line, mode, showlegend, type, x, and y\",\n",
       "  \"scatter with fields line, mode, showlegend, type, x, and y\",\n",
       "  \"scatter with fields line, mode, showlegend, type, x, and y\",\n",
       "  \"scatter with fields line, mode, showlegend, type, x, and y\",\n",
       "  \"scatter with fields line, mode, showlegend, type, x, and y\",\n",
       "  \"scatter with fields line, mode, showlegend, type, x, and y\",\n",
       "  \"scatter with fields line, mode, showlegend, type, x, and y\",\n",
       "  \"scatter with fields line, mode, showlegend, type, x, and y\",\n",
       "  \"scatter with fields line, mode, showlegend, type, x, and y\",\n",
       "  \"scatter with fields line, mode, showlegend, type, x, and y\",\n",
       "  \"scatter with fields line, mode, showlegend, type, x, and y\",\n",
       "  \"scatter with fields line, mode, showlegend, type, x, and y\",\n",
       "  \"scatter with fields line, mode, showlegend, type, x, and y\",\n",
       "  \"scatter with fields line, mode, showlegend, type, x, and y\",\n",
       "  \"scatter with fields line, mode, showlegend, type, x, and y\",\n",
       "  \"scatter with fields line, mode, showlegend, type, x, and y\",\n",
       "  \"scatter with fields line, mode, showlegend, type, x, and y\",\n",
       "  \"scatter with fields line, mode, showlegend, type, x, and y\",\n",
       "  \"scatter with fields line, mode, showlegend, type, x, and y\",\n",
       "  \"scatter with fields line, mode, showlegend, type, x, and y\",\n",
       "  \"scatter with fields line, mode, showlegend, type, x, and y\",\n",
       "  \"scatter with fields line, mode, showlegend, type, x, and y\",\n",
       "  \"scatter with fields line, mode, showlegend, type, x, and y\",\n",
       "  \"scatter with fields line, mode, name, type, x, and y\"\n",
       "]\n",
       "\n",
       "layout: \"layout with fields margin, xaxis, and yaxis\"\n",
       "\n"
      ]
     },
     "execution_count": 14,
     "metadata": {},
     "output_type": "execute_result"
    }
   ],
   "source": [
    "plotbarcode_pjs(PH, dim=1)"
   ]
  },
  {
   "cell_type": "code",
   "execution_count": 15,
   "metadata": {},
   "outputs": [
    {
     "data": {
      "application/vnd.plotly.v1+json": {
       "data": [
        {
         "hoverinfo": "x+y+text",
         "marker": {
          "color": "black",
          "size": 5
         },
         "mode": "markers",
         "text": [
          "class/size  1/6",
          "class/size  2/5",
          "class/size  3/4",
          "class/size  4/4",
          "class/size  5/8",
          "class/size  6/7",
          "class/size  7/6",
          "class/size  8/5",
          "class/size  9/6",
          "class/size  10/6",
          "class/size  11/5",
          "class/size  12/7",
          "class/size  13/4",
          "class/size  14/10",
          "class/size  15/6",
          "class/size  16/9",
          "class/size  17/4",
          "class/size  18/5",
          "class/size  19/4",
          "class/size  20/9",
          "class/size  21/6",
          "class/size  22/5",
          "class/size  23/7",
          "class/size  24/6",
          "class/size  25/9",
          "class/size  26/5",
          "class/size  27/11",
          "class/size  28/6",
          "class/size  29/18",
          "class/size  30/12",
          "class/size  31/7",
          "class/size  32/13",
          "class/size  33/7",
          "class/size  34/13",
          "class/size  35/17",
          "class/size  36/8",
          "class/size  37/28",
          "class/size  38/4",
          "class/size  39/11",
          "class/size  40/9",
          "class/size  41/6",
          "class/size  42/6",
          "class/size  43/4",
          "class/size  44/4",
          "class/size  45/8",
          "class/size  46/7",
          "class/size  47/7",
          "class/size  48/9",
          "class/size  49/5",
          "class/size  50/14",
          "class/size  51/10",
          "class/size  52/11",
          "class/size  53/7",
          "class/size  54/16",
          "class/size  55/6",
          "class/size  56/10",
          "class/size  57/4",
          "class/size  58/6",
          "class/size  59/10",
          "class/size  60/4",
          "class/size  61/13",
          "class/size  62/31",
          "class/size  63/7",
          "class/size  64/7",
          "class/size  65/8",
          "class/size  66/11",
          "class/size  67/6",
          "class/size  68/7",
          "class/size  69/18",
          "class/size  70/6",
          "class/size  71/10",
          "class/size  72/5",
          "class/size  73/11",
          "class/size  74/24",
          "class/size  75/8",
          "class/size  76/5",
          "class/size  77/12",
          "class/size  78/11",
          "class/size  79/14",
          "class/size  80/6",
          "class/size  81/17",
          "class/size  82/10",
          "class/size  83/14",
          "class/size  84/12",
          "class/size  85/13",
          "class/size  86/10",
          "class/size  87/5",
          "class/size  88/4",
          "class/size  89/9",
          "class/size  90/40",
          "class/size  91/12",
          "class/size  92/9",
          "class/size  93/14",
          "class/size  94/10",
          "class/size  95/7",
          "class/size  96/9",
          "class/size  97/32",
          "class/size  98/14",
          "class/size  99/13",
          "class/size  100/7",
          "class/size  101/6",
          "class/size  102/18",
          "class/size  103/18",
          "class/size  104/17",
          "class/size  105/15",
          "class/size  106/18",
          "class/size  107/13",
          "class/size  108/24",
          "class/size  109/10",
          "class/size  110/14",
          "class/size  111/14",
          "class/size  112/39",
          "class/size  113/36",
          "class/size  114/29",
          "class/size  115/20",
          "class/size  116/37",
          "class/size  117/34",
          "class/size  118/29",
          "class/size  119/36",
          "class/size  120/69",
          "class/size  121/13",
          "class/size  122/18",
          "class/size  123/36",
          "class/size  124/13",
          "class/size  125/23",
          "class/size  126/46",
          "class/size  127/21",
          "class/size  128/35",
          "class/size  129/43",
          "class/size  130/14",
          "class/size  131/53",
          "class/size  132/44",
          "class/size  133/34",
          "class/size  134/56",
          "class/size  135/50",
          "class/size  136/24",
          "class/size  137/53",
          "class/size  138/89",
          "class/size  139/73",
          "class/size  140/84",
          "class/size  141/73",
          "class/size  142/48"
         ],
         "textfont": {
          "family": "Raleway, sans-serif"
         },
         "textposition": "top center",
         "type": "scatter",
         "x": [
          0.28817090433629944,
          0.29922456865204033,
          0.32314033354875615,
          0.37042038750722056,
          0.3918516886603912,
          0.3997568178105283,
          0.39988867886700624,
          0.4051604912266253,
          0.4334231223273625,
          0.43832043624385125,
          0.4429661832454033,
          0.4531264124954545,
          0.45347961114585894,
          0.4572078450606463,
          0.46661839036733216,
          0.4891034176132916,
          0.4933903865804454,
          0.49748724592294846,
          0.5135164086550693,
          0.523336908896171,
          0.5327295173031057,
          0.5494797157511826,
          0.5644044842885304,
          0.5718972974905565,
          0.5725862764029525,
          0.5823946412536782,
          0.6060480422260277,
          0.6467591664669308,
          0.6620294517323227,
          0.71180186930072,
          0.7172191014334462,
          0.773185405990696,
          0.7820865094540368,
          0.8157438650103369,
          0.8527003293971439,
          0.8749083472753009,
          1.101524407386873,
          0.2355615922768392,
          0.29921874198987014,
          0.3300696350544831,
          0.3314273946492658,
          0.33621561320230114,
          0.3371584100700991,
          0.3419722970314992,
          0.3487354599248555,
          0.35097745749406833,
          0.37020919549222525,
          0.37383530764495726,
          0.37569164278567624,
          0.38613376781757863,
          0.39130660805307166,
          0.3940156271482172,
          0.40499463878426883,
          0.40828856998573976,
          0.40931576662889463,
          0.41074788438773496,
          0.4161441430730466,
          0.42913711603053084,
          0.43485141967918167,
          0.44293022213098154,
          0.44543931542467113,
          0.44805018646798894,
          0.44930161718605033,
          0.4553836088848613,
          0.45998569677110646,
          0.46089099419493895,
          0.4624975935137395,
          0.47340873251979587,
          0.4997988006828347,
          0.5039463311792253,
          0.5081655052765783,
          0.5084665064161059,
          0.5265479280094065,
          0.5303905863804526,
          0.5347260245340556,
          0.535639550140763,
          0.5512233187819614,
          0.55952281479936,
          0.5704617663910543,
          0.5779584308763048,
          0.5821232599785023,
          0.5821790991413213,
          0.5961298039370285,
          0.6072170075039068,
          0.6095740182734171,
          0.6143939541971416,
          0.6276574559566733,
          0.6335715797050874,
          0.6504856685216049,
          0.6641627545014854,
          0.6650964643102527,
          0.6866960501459128,
          0.6918722092763966,
          0.6926084885308589,
          0.6962190671749813,
          0.6974529192096057,
          0.7124714091519748,
          0.7132771324282032,
          0.7141375776606353,
          0.7254718109864776,
          0.732112243531688,
          0.7572215911818669,
          0.7601163850187698,
          0.8724593975847815,
          0.9324696628957972,
          0.9568046803454707,
          0.33813761899114414,
          0.38853764561107856,
          0.38868453771664235,
          0.4218255790074847,
          0.4373111287104404,
          0.4491960034661929,
          0.5067690912861593,
          0.5153211077570952,
          0.5203036060628445,
          0.5381570007767248,
          0.5676727863496713,
          0.5754486288227644,
          0.5853373581841502,
          0.5899399083779643,
          0.5919371621050683,
          0.6169350044518472,
          0.6189291814400081,
          0.6308916921865411,
          0.633092341458971,
          0.6404250970738077,
          0.672449271387068,
          0.6792194115320909,
          0.7212276169740044,
          0.34440954255943607,
          0.47543182370241094,
          0.4840528015712748,
          0.5021340754280671,
          0.532800702128855,
          0.5384843335111983,
          0.5764219846067622,
          0.5779722043749151,
          0.6107465748753714,
          0.45390470887401024,
          0.487758041662051,
          0.5553811743343516,
          0.44628408583995216
         ],
         "y": [
          0.32404290095448784,
          0.3512821362879138,
          0.4151272299584806,
          0.4502341879544474,
          0.4187440985243851,
          0.41194598252926384,
          0.4223490272334011,
          0.43186594383558413,
          0.45240818890576956,
          0.49994001136536403,
          0.44630601621421156,
          0.4649278472472903,
          0.47791571165740176,
          0.47079816360835536,
          0.589095945004715,
          0.507512708840872,
          0.5503788237423378,
          0.5108090308256108,
          0.5219645695542944,
          0.5420373965069193,
          0.5400650597409535,
          0.5633617325386948,
          0.6073326873847626,
          0.6034222515270711,
          0.5759991981739204,
          0.6360542609762162,
          0.6289394191056883,
          0.7090206281935669,
          0.6995544331479862,
          0.8224786541698202,
          0.767838850852181,
          0.9042059411516835,
          0.7864028322265879,
          0.8240826401890763,
          0.928670626659958,
          0.8872482364000519,
          1.1165679914062552,
          0.2683384352678533,
          0.43282674131920335,
          0.40439962335541285,
          0.37542840761322305,
          0.42674385868457454,
          0.3677462855978217,
          0.35857158569245295,
          0.4514393841192856,
          0.3722814594376148,
          0.38733667690266643,
          0.572754619544007,
          0.3805238206814397,
          0.5308467517024099,
          0.42707857233769025,
          0.7421511786078362,
          0.43076233984530365,
          0.5584049016887298,
          0.4139949068007957,
          0.6511065460475727,
          0.4558861657278095,
          0.48837476904217686,
          0.436468814686685,
          0.4459689627339571,
          0.8272377608916301,
          0.739850314452863,
          0.5628040438785067,
          0.5557952611897654,
          0.4970261872265888,
          0.6516098800279195,
          0.4991201172653737,
          0.5192668818459348,
          0.6816564672091071,
          0.5917658893295551,
          0.5536051172704244,
          0.5578229226062702,
          0.6433831477914224,
          0.6053561100889293,
          0.6495001739661056,
          0.6428092188324629,
          0.738582205134947,
          0.8483714199582629,
          0.6181868686586596,
          0.7101612891583172,
          0.683592422642322,
          0.7846330420457713,
          0.6277529591001536,
          0.6800320564973393,
          0.6747377289740063,
          0.7931471887064857,
          0.6530008893003163,
          0.6341045352156072,
          0.7019945824826586,
          0.8444241919687057,
          0.6875656978223984,
          0.7036068131037394,
          0.8029013906806988,
          0.7529023011852201,
          0.7195680137679825,
          0.8372178198802261,
          1.1539141996049802,
          0.7811047202917146,
          0.843064516312955,
          0.7601359874825044,
          0.7553054557885837,
          0.900563983793489,
          0.8245690865864426,
          1.0111085179094286,
          1.0951715008718956,
          1.1136356088577644,
          0.5865663664173053,
          0.5369222737594332,
          0.4556352356699378,
          0.7788134876451491,
          0.518014730264497,
          0.7624156506283171,
          0.6134624829539295,
          0.7927003260072487,
          1.0856810444527434,
          0.82728210457981,
          0.8032443776049721,
          0.7559891367552838,
          0.7288815128585714,
          1.1623108733763956,
          0.8794702896295021,
          0.8540710886676824,
          0.9190100965152663,
          0.7048195333565899,
          0.9634612347339145,
          0.9106002036700845,
          0.8645753986032669,
          0.9223866900275617,
          1.1774439553579594,
          0.4608325617336501,
          0.7362794690625295,
          0.7833879686655905,
          0.8564442110371232,
          0.9798698521788479,
          0.8153690028747729,
          0.9010712625364338,
          1.193734100461658,
          1.0154060030406553,
          1.744962737820209,
          0.9203247876586823,
          1.2235481477191665,
          1.7395210034587103
         ]
        },
        {
         "hoverinfo": "x+text",
         "marker": {
          "color": "red",
          "size": 6
         },
         "mode": "markers",
         "text": [],
         "textfont": {
          "family": "Raleway, sans-serif"
         },
         "textposition": "top center",
         "type": "scatter",
         "x": [],
         "y": []
        }
       ],
       "frames": [],
       "layout": {
        "height": 800,
        "hovermode": "closest",
        "margin": {
         "b": 50,
         "l": 50,
         "r": 50,
         "t": 50
        },
        "scene": {
         "aspectmode": "manual",
         "aspectratio": {
          "x": 1,
          "y": 1.705182112657722
         }
        },
        "showlegend": false,
        "width": 1000
       }
      },
      "application/vnd.webio.node+json": {
       "children": [
        {
         "children": [],
         "instanceArgs": {
          "namespace": "html",
          "tag": "div"
         },
         "nodeType": "DOM",
         "props": {
          "id": "plot-64ab6236-b251-4850-a3aa-51727f1d4a3b"
         },
         "type": "node"
        }
       ],
       "instanceArgs": {
        "handlers": {
         "__get_gd_contents": [
          "(function (prop){prop==\"data\" ? (WebIO.setval({\"name\":\"__gd_contents\",\"scope\":\"8478374940335597728\",\"id\":\"8339995094011556159\",\"type\":\"observable\"},this.plotElem.data)) : undefined; return prop==\"layout\" ? (WebIO.setval({\"name\":\"__gd_contents\",\"scope\":\"8478374940335597728\",\"id\":\"8339995094011556159\",\"type\":\"observable\"},this.plotElem.layout)) : undefined})"
         ],
         "_commands": [
          "(function (args){var fn=args.shift(); var elem=this.plotElem; var Plotly=this.Plotly; args.unshift(elem); return Plotly[fn].apply(this,args)})"
         ],
         "_downloadImage": [
          "(function (options){return this.Plotly.downloadImage(this.plotElem,options)})"
         ],
         "_toImage": [
          "(function (options){return this.Plotly.toImage(this.plotElem,options).then((function (data){return WebIO.setval({\"name\":\"image\",\"scope\":\"8478374940335597728\",\"id\":\"1547277306022988015\",\"type\":\"observable\"},data)}))})"
         ]
        },
        "id": "8478374940335597728",
        "imports": {
         "data": [
          {
           "name": "Plotly",
           "type": "js",
           "url": "/assetserver/0011d14de576c55f77111628d5a39fcc5762f320-plotly.min.js"
          },
          {
           "name": null,
           "type": "js",
           "url": "/assetserver/52365f0a3f606733873c2a55bbe1584aba3b706c-plotly_webio.bundle.js"
          }
         ],
         "type": "async_block"
        },
        "mount_callbacks": [
         "function () {\n    var handler = ((function (Plotly,PlotlyWebIO){PlotlyWebIO.init(WebIO); var gd=this.dom.querySelector(\"#plot-64ab6236-b251-4850-a3aa-51727f1d4a3b\"); this.plotElem=gd; this.Plotly=Plotly; (window.Blink!==undefined) ? (gd.style.width=\"100%\", gd.style.height=\"100vh\", gd.style.marginLeft=\"0%\", gd.style.marginTop=\"0vh\") : undefined; window.onresize=(function (){return Plotly.Plots.resize(gd)}); Plotly.newPlot(gd,[{\"marker\":{\"color\":\"black\",\"size\":5},\"mode\":\"markers\",\"textfont\":{\"family\":\"Raleway, sans-serif\"},\"textposition\":\"top center\",\"y\":[0.32404290095448784,0.3512821362879138,0.4151272299584806,0.4502341879544474,0.4187440985243851,0.41194598252926384,0.4223490272334011,0.43186594383558413,0.45240818890576956,0.49994001136536403,0.44630601621421156,0.4649278472472903,0.47791571165740176,0.47079816360835536,0.589095945004715,0.507512708840872,0.5503788237423378,0.5108090308256108,0.5219645695542944,0.5420373965069193,0.5400650597409535,0.5633617325386948,0.6073326873847626,0.6034222515270711,0.5759991981739204,0.6360542609762162,0.6289394191056883,0.7090206281935669,0.6995544331479862,0.8224786541698202,0.767838850852181,0.9042059411516835,0.7864028322265879,0.8240826401890763,0.928670626659958,0.8872482364000519,1.1165679914062552,0.2683384352678533,0.43282674131920335,0.40439962335541285,0.37542840761322305,0.42674385868457454,0.3677462855978217,0.35857158569245295,0.4514393841192856,0.3722814594376148,0.38733667690266643,0.572754619544007,0.3805238206814397,0.5308467517024099,0.42707857233769025,0.7421511786078362,0.43076233984530365,0.5584049016887298,0.4139949068007957,0.6511065460475727,0.4558861657278095,0.48837476904217686,0.436468814686685,0.4459689627339571,0.8272377608916301,0.739850314452863,0.5628040438785067,0.5557952611897654,0.4970261872265888,0.6516098800279195,0.4991201172653737,0.5192668818459348,0.6816564672091071,0.5917658893295551,0.5536051172704244,0.5578229226062702,0.6433831477914224,0.6053561100889293,0.6495001739661056,0.6428092188324629,0.738582205134947,0.8483714199582629,0.6181868686586596,0.7101612891583172,0.683592422642322,0.7846330420457713,0.6277529591001536,0.6800320564973393,0.6747377289740063,0.7931471887064857,0.6530008893003163,0.6341045352156072,0.7019945824826586,0.8444241919687057,0.6875656978223984,0.7036068131037394,0.8029013906806988,0.7529023011852201,0.7195680137679825,0.8372178198802261,1.1539141996049802,0.7811047202917146,0.843064516312955,0.7601359874825044,0.7553054557885837,0.900563983793489,0.8245690865864426,1.0111085179094286,1.0951715008718956,1.1136356088577644,0.5865663664173053,0.5369222737594332,0.4556352356699378,0.7788134876451491,0.518014730264497,0.7624156506283171,0.6134624829539295,0.7927003260072487,1.0856810444527434,0.82728210457981,0.8032443776049721,0.7559891367552838,0.7288815128585714,1.1623108733763956,0.8794702896295021,0.8540710886676824,0.9190100965152663,0.7048195333565899,0.9634612347339145,0.9106002036700845,0.8645753986032669,0.9223866900275617,1.1774439553579594,0.4608325617336501,0.7362794690625295,0.7833879686655905,0.8564442110371232,0.9798698521788479,0.8153690028747729,0.9010712625364338,1.193734100461658,1.0154060030406553,1.744962737820209,0.9203247876586823,1.2235481477191665,1.7395210034587103],\"type\":\"scatter\",\"hoverinfo\":\"x+y+text\",\"text\":[\"class/size  1/6\",\"class/size  2/5\",\"class/size  3/4\",\"class/size  4/4\",\"class/size  5/8\",\"class/size  6/7\",\"class/size  7/6\",\"class/size  8/5\",\"class/size  9/6\",\"class/size  10/6\",\"class/size  11/5\",\"class/size  12/7\",\"class/size  13/4\",\"class/size  14/10\",\"class/size  15/6\",\"class/size  16/9\",\"class/size  17/4\",\"class/size  18/5\",\"class/size  19/4\",\"class/size  20/9\",\"class/size  21/6\",\"class/size  22/5\",\"class/size  23/7\",\"class/size  24/6\",\"class/size  25/9\",\"class/size  26/5\",\"class/size  27/11\",\"class/size  28/6\",\"class/size  29/18\",\"class/size  30/12\",\"class/size  31/7\",\"class/size  32/13\",\"class/size  33/7\",\"class/size  34/13\",\"class/size  35/17\",\"class/size  36/8\",\"class/size  37/28\",\"class/size  38/4\",\"class/size  39/11\",\"class/size  40/9\",\"class/size  41/6\",\"class/size  42/6\",\"class/size  43/4\",\"class/size  44/4\",\"class/size  45/8\",\"class/size  46/7\",\"class/size  47/7\",\"class/size  48/9\",\"class/size  49/5\",\"class/size  50/14\",\"class/size  51/10\",\"class/size  52/11\",\"class/size  53/7\",\"class/size  54/16\",\"class/size  55/6\",\"class/size  56/10\",\"class/size  57/4\",\"class/size  58/6\",\"class/size  59/10\",\"class/size  60/4\",\"class/size  61/13\",\"class/size  62/31\",\"class/size  63/7\",\"class/size  64/7\",\"class/size  65/8\",\"class/size  66/11\",\"class/size  67/6\",\"class/size  68/7\",\"class/size  69/18\",\"class/size  70/6\",\"class/size  71/10\",\"class/size  72/5\",\"class/size  73/11\",\"class/size  74/24\",\"class/size  75/8\",\"class/size  76/5\",\"class/size  77/12\",\"class/size  78/11\",\"class/size  79/14\",\"class/size  80/6\",\"class/size  81/17\",\"class/size  82/10\",\"class/size  83/14\",\"class/size  84/12\",\"class/size  85/13\",\"class/size  86/10\",\"class/size  87/5\",\"class/size  88/4\",\"class/size  89/9\",\"class/size  90/40\",\"class/size  91/12\",\"class/size  92/9\",\"class/size  93/14\",\"class/size  94/10\",\"class/size  95/7\",\"class/size  96/9\",\"class/size  97/32\",\"class/size  98/14\",\"class/size  99/13\",\"class/size  100/7\",\"class/size  101/6\",\"class/size  102/18\",\"class/size  103/18\",\"class/size  104/17\",\"class/size  105/15\",\"class/size  106/18\",\"class/size  107/13\",\"class/size  108/24\",\"class/size  109/10\",\"class/size  110/14\",\"class/size  111/14\",\"class/size  112/39\",\"class/size  113/36\",\"class/size  114/29\",\"class/size  115/20\",\"class/size  116/37\",\"class/size  117/34\",\"class/size  118/29\",\"class/size  119/36\",\"class/size  120/69\",\"class/size  121/13\",\"class/size  122/18\",\"class/size  123/36\",\"class/size  124/13\",\"class/size  125/23\",\"class/size  126/46\",\"class/size  127/21\",\"class/size  128/35\",\"class/size  129/43\",\"class/size  130/14\",\"class/size  131/53\",\"class/size  132/44\",\"class/size  133/34\",\"class/size  134/56\",\"class/size  135/50\",\"class/size  136/24\",\"class/size  137/53\",\"class/size  138/89\",\"class/size  139/73\",\"class/size  140/84\",\"class/size  141/73\",\"class/size  142/48\"],\"x\":[0.28817090433629944,0.29922456865204033,0.32314033354875615,0.37042038750722056,0.3918516886603912,0.3997568178105283,0.39988867886700624,0.4051604912266253,0.4334231223273625,0.43832043624385125,0.4429661832454033,0.4531264124954545,0.45347961114585894,0.4572078450606463,0.46661839036733216,0.4891034176132916,0.4933903865804454,0.49748724592294846,0.5135164086550693,0.523336908896171,0.5327295173031057,0.5494797157511826,0.5644044842885304,0.5718972974905565,0.5725862764029525,0.5823946412536782,0.6060480422260277,0.6467591664669308,0.6620294517323227,0.71180186930072,0.7172191014334462,0.773185405990696,0.7820865094540368,0.8157438650103369,0.8527003293971439,0.8749083472753009,1.101524407386873,0.2355615922768392,0.29921874198987014,0.3300696350544831,0.3314273946492658,0.33621561320230114,0.3371584100700991,0.3419722970314992,0.3487354599248555,0.35097745749406833,0.37020919549222525,0.37383530764495726,0.37569164278567624,0.38613376781757863,0.39130660805307166,0.3940156271482172,0.40499463878426883,0.40828856998573976,0.40931576662889463,0.41074788438773496,0.4161441430730466,0.42913711603053084,0.43485141967918167,0.44293022213098154,0.44543931542467113,0.44805018646798894,0.44930161718605033,0.4553836088848613,0.45998569677110646,0.46089099419493895,0.4624975935137395,0.47340873251979587,0.4997988006828347,0.5039463311792253,0.5081655052765783,0.5084665064161059,0.5265479280094065,0.5303905863804526,0.5347260245340556,0.535639550140763,0.5512233187819614,0.55952281479936,0.5704617663910543,0.5779584308763048,0.5821232599785023,0.5821790991413213,0.5961298039370285,0.6072170075039068,0.6095740182734171,0.6143939541971416,0.6276574559566733,0.6335715797050874,0.6504856685216049,0.6641627545014854,0.6650964643102527,0.6866960501459128,0.6918722092763966,0.6926084885308589,0.6962190671749813,0.6974529192096057,0.7124714091519748,0.7132771324282032,0.7141375776606353,0.7254718109864776,0.732112243531688,0.7572215911818669,0.7601163850187698,0.8724593975847815,0.9324696628957972,0.9568046803454707,0.33813761899114414,0.38853764561107856,0.38868453771664235,0.4218255790074847,0.4373111287104404,0.4491960034661929,0.5067690912861593,0.5153211077570952,0.5203036060628445,0.5381570007767248,0.5676727863496713,0.5754486288227644,0.5853373581841502,0.5899399083779643,0.5919371621050683,0.6169350044518472,0.6189291814400081,0.6308916921865411,0.633092341458971,0.6404250970738077,0.672449271387068,0.6792194115320909,0.7212276169740044,0.34440954255943607,0.47543182370241094,0.4840528015712748,0.5021340754280671,0.532800702128855,0.5384843335111983,0.5764219846067622,0.5779722043749151,0.6107465748753714,0.45390470887401024,0.487758041662051,0.5553811743343516,0.44628408583995216]},{\"marker\":{\"color\":\"red\",\"size\":6},\"mode\":\"markers\",\"textfont\":{\"family\":\"Raleway, sans-serif\"},\"textposition\":\"top center\",\"y\":[],\"type\":\"scatter\",\"hoverinfo\":\"x+text\",\"text\":[],\"x\":[]}],{\"showlegend\":false,\"hovermode\":\"closest\",\"height\":800,\"margin\":{\"l\":50,\"b\":50,\"r\":50,\"t\":50},\"scene\":{\"aspectratio\":{\"y\":1.705182112657722,\"x\":1.0},\"aspectmode\":\"manual\"},\"width\":1000},{}); gd.on(\"plotly_hover\",(function (data){var filtered_data=WebIO.PlotlyCommands.filterEventData(gd,data,\"hover\"); return !(filtered_data.isnil) ? (WebIO.setval({\"name\":\"hover\",\"scope\":\"8478374940335597728\",\"id\":\"18377715451228160772\",\"type\":\"observable\"},filtered_data.out)) : undefined})); gd.on(\"plotly_unhover\",(function (){return WebIO.setval({\"name\":\"hover\",\"scope\":\"8478374940335597728\",\"id\":\"18377715451228160772\",\"type\":\"observable\"},{})})); gd.on(\"plotly_selected\",(function (data){var filtered_data=WebIO.PlotlyCommands.filterEventData(gd,data,\"selected\"); return !(filtered_data.isnil) ? (WebIO.setval({\"name\":\"selected\",\"scope\":\"8478374940335597728\",\"id\":\"6740595973563272354\",\"type\":\"observable\"},filtered_data.out)) : undefined})); gd.on(\"plotly_deselect\",(function (){return WebIO.setval({\"name\":\"selected\",\"scope\":\"8478374940335597728\",\"id\":\"6740595973563272354\",\"type\":\"observable\"},{})})); gd.on(\"plotly_relayout\",(function (data){var filtered_data=WebIO.PlotlyCommands.filterEventData(gd,data,\"relayout\"); return !(filtered_data.isnil) ? (WebIO.setval({\"name\":\"relayout\",\"scope\":\"8478374940335597728\",\"id\":\"9517481488522526509\",\"type\":\"observable\"},filtered_data.out)) : undefined})); return gd.on(\"plotly_click\",(function (data){var filtered_data=WebIO.PlotlyCommands.filterEventData(gd,data,\"click\"); return !(filtered_data.isnil) ? (WebIO.setval({\"name\":\"click\",\"scope\":\"8478374940335597728\",\"id\":\"2710143438578037955\",\"type\":\"observable\"},filtered_data.out)) : undefined}))}));\n    (WebIO.importBlock({\"data\":[{\"name\":\"Plotly\",\"type\":\"js\",\"url\":\"/assetserver/0011d14de576c55f77111628d5a39fcc5762f320-plotly.min.js\"},{\"name\":null,\"type\":\"js\",\"url\":\"/assetserver/52365f0a3f606733873c2a55bbe1584aba3b706c-plotly_webio.bundle.js\"}],\"type\":\"async_block\"})).then((imports) => handler.apply(this, imports));\n}\n"
        ],
        "observables": {
         "__gd_contents": {
          "id": "8339995094011556159",
          "sync": false,
          "value": {}
         },
         "__get_gd_contents": {
          "id": "15735676449690515558",
          "sync": false,
          "value": ""
         },
         "_commands": {
          "id": "8872568313806007566",
          "sync": false,
          "value": []
         },
         "_downloadImage": {
          "id": "11494616712176856802",
          "sync": false,
          "value": {}
         },
         "_toImage": {
          "id": "12424284878720180865",
          "sync": false,
          "value": {}
         },
         "click": {
          "id": "2710143438578037955",
          "sync": false,
          "value": {}
         },
         "hover": {
          "id": "18377715451228160772",
          "sync": false,
          "value": {}
         },
         "image": {
          "id": "1547277306022988015",
          "sync": true,
          "value": ""
         },
         "relayout": {
          "id": "9517481488522526509",
          "sync": false,
          "value": {}
         },
         "selected": {
          "id": "6740595973563272354",
          "sync": false,
          "value": {}
         }
        },
        "systemjs_options": null
       },
       "nodeType": "Scope",
       "props": {},
       "type": "node"
      },
      "image/png": "[encoded data removed]",
      "image/svg+xml": [
       "<svg class=\"main-svg\" xmlns=\"http://www.w3.org/2000/svg\" xmlns:xlink=\"http://www.w3.org/1999/xlink\" width=\"700\" height=\"500\" style=\"\" viewBox=\"0 0 700 500\"><rect x=\"0\" y=\"0\" width=\"700\" height=\"500\" style=\"fill: rgb(255, 255, 255); fill-opacity: 1;\"/><defs id=\"defs-b27882\"><g class=\"clips\"><clipPath id=\"clipb27882xyplot\" class=\"plotclip\"><rect width=\"600\" height=\"400\"/></clipPath><clipPath class=\"axesclip\" id=\"clipb27882x\"><rect x=\"50\" y=\"0\" width=\"600\" height=\"500\"/></clipPath><clipPath class=\"axesclip\" id=\"clipb27882y\"><rect x=\"0\" y=\"50\" width=\"700\" height=\"400\"/></clipPath><clipPath class=\"axesclip\" id=\"clipb27882xy\"><rect x=\"50\" y=\"50\" width=\"600\" height=\"400\"/></clipPath></g><g class=\"gradients\"/></defs><g class=\"bglayer\"/><g class=\"layer-below\"><g class=\"imagelayer\"/><g class=\"shapelayer\"/></g><g class=\"cartesianlayer\"><g class=\"subplot xy\"><g class=\"layer-subplot\"><g class=\"shapelayer\"/><g class=\"imagelayer\"/></g><g class=\"gridlayer\"><g class=\"x\"><path class=\"xgrid crisp\" transform=\"translate(61.21,0)\" d=\"M0,50v400\" style=\"stroke: rgb(238, 238, 238); stroke-opacity: 1; stroke-width: 1px;\"/><path class=\"xgrid crisp\" transform=\"translate(184.48,0)\" d=\"M0,50v400\" style=\"stroke: rgb(238, 238, 238); stroke-opacity: 1; stroke-width: 1px;\"/><path class=\"xgrid crisp\" transform=\"translate(307.75,0)\" d=\"M0,50v400\" style=\"stroke: rgb(238, 238, 238); stroke-opacity: 1; stroke-width: 1px;\"/><path class=\"xgrid crisp\" transform=\"translate(431.03,0)\" d=\"M0,50v400\" style=\"stroke: rgb(238, 238, 238); stroke-opacity: 1; stroke-width: 1px;\"/><path class=\"xgrid crisp\" transform=\"translate(554.3,0)\" d=\"M0,50v400\" style=\"stroke: rgb(238, 238, 238); stroke-opacity: 1; stroke-width: 1px;\"/></g><g class=\"y\"><path class=\"ygrid crisp\" transform=\"translate(0,443.25)\" d=\"M50,0h600\" style=\"stroke: rgb(238, 238, 238); stroke-opacity: 1; stroke-width: 1px;\"/><path class=\"ygrid crisp\" transform=\"translate(0,395.33)\" d=\"M50,0h600\" style=\"stroke: rgb(238, 238, 238); stroke-opacity: 1; stroke-width: 1px;\"/><path class=\"ygrid crisp\" transform=\"translate(0,347.42)\" d=\"M50,0h600\" style=\"stroke: rgb(238, 238, 238); stroke-opacity: 1; stroke-width: 1px;\"/><path class=\"ygrid crisp\" transform=\"translate(0,299.51)\" d=\"M50,0h600\" style=\"stroke: rgb(238, 238, 238); stroke-opacity: 1; stroke-width: 1px;\"/><path class=\"ygrid crisp\" transform=\"translate(0,251.59)\" d=\"M50,0h600\" style=\"stroke: rgb(238, 238, 238); stroke-opacity: 1; stroke-width: 1px;\"/><path class=\"ygrid crisp\" transform=\"translate(0,203.68)\" d=\"M50,0h600\" style=\"stroke: rgb(238, 238, 238); stroke-opacity: 1; stroke-width: 1px;\"/><path class=\"ygrid crisp\" transform=\"translate(0,155.76999999999998)\" d=\"M50,0h600\" style=\"stroke: rgb(238, 238, 238); stroke-opacity: 1; stroke-width: 1px;\"/><path class=\"ygrid crisp\" transform=\"translate(0,107.85)\" d=\"M50,0h600\" style=\"stroke: rgb(238, 238, 238); stroke-opacity: 1; stroke-width: 1px;\"/><path class=\"ygrid crisp\" transform=\"translate(0,59.94)\" d=\"M50,0h600\" style=\"stroke: rgb(238, 238, 238); stroke-opacity: 1; stroke-width: 1px;\"/></g></g><g class=\"zerolinelayer\"/><path class=\"xlines-below\"/><path class=\"ylines-below\"/><g class=\"overlines-below\"/><g class=\"xaxislayer-below\"/><g class=\"yaxislayer-below\"/><g class=\"overaxes-below\"/><g class=\"plot\" transform=\"translate(50,50)\" clip-path=\"url('#clipb27882xyplot')\"><g class=\"scatterlayer mlayer\"><g class=\"trace scatter trace3261c2\" style=\"stroke-miterlimit: 2; opacity: 1;\"><g class=\"fills\"/><g class=\"errorbars\"/><g class=\"lines\"/><g class=\"points\"><path class=\"point\" transform=\"translate(65.55,363.53)\" d=\"M2.5,0A2.5,2.5 0 1,1 0,-2.5A2.5,2.5 0 0,1 2.5,0Z\" style=\"opacity: 1; stroke-width: 0px; fill: rgb(0, 0, 0); fill-opacity: 1;\"/><path class=\"point\" transform=\"translate(72.36,357)\" d=\"M2.5,0A2.5,2.5 0 1,1 0,-2.5A2.5,2.5 0 0,1 2.5,0Z\" style=\"opacity: 1; stroke-width: 0px; fill: rgb(0, 0, 0); fill-opacity: 1;\"/><path class=\"point\" transform=\"translate(87.11,341.71)\" d=\"M2.5,0A2.5,2.5 0 1,1 0,-2.5A2.5,2.5 0 0,1 2.5,0Z\" style=\"opacity: 1; stroke-width: 0px; fill: rgb(0, 0, 0); fill-opacity: 1;\"/><path class=\"point\" transform=\"translate(116.25,333.3)\" d=\"M2.5,0A2.5,2.5 0 1,1 0,-2.5A2.5,2.5 0 0,1 2.5,0Z\" style=\"opacity: 1; stroke-width: 0px; fill: rgb(0, 0, 0); fill-opacity: 1;\"/><path class=\"point\" transform=\"translate(129.46,340.84)\" d=\"M2.5,0A2.5,2.5 0 1,1 0,-2.5A2.5,2.5 0 0,1 2.5,0Z\" style=\"opacity: 1; stroke-width: 0px; fill: rgb(0, 0, 0); fill-opacity: 1;\"/><path class=\"point\" transform=\"translate(134.33,342.47)\" d=\"M2.5,0A2.5,2.5 0 1,1 0,-2.5A2.5,2.5 0 0,1 2.5,0Z\" style=\"opacity: 1; stroke-width: 0px; fill: rgb(0, 0, 0); fill-opacity: 1;\"/><path class=\"point\" transform=\"translate(134.41,339.98)\" d=\"M2.5,0A2.5,2.5 0 1,1 0,-2.5A2.5,2.5 0 0,1 2.5,0Z\" style=\"opacity: 1; stroke-width: 0px; fill: rgb(0, 0, 0); fill-opacity: 1;\"/><path class=\"point\" transform=\"translate(137.66,337.7)\" d=\"M2.5,0A2.5,2.5 0 1,1 0,-2.5A2.5,2.5 0 0,1 2.5,0Z\" style=\"opacity: 1; stroke-width: 0px; fill: rgb(0, 0, 0); fill-opacity: 1;\"/><path class=\"point\" transform=\"translate(155.08,332.78)\" d=\"M2.5,0A2.5,2.5 0 1,1 0,-2.5A2.5,2.5 0 0,1 2.5,0Z\" style=\"opacity: 1; stroke-width: 0px; fill: rgb(0, 0, 0); fill-opacity: 1;\"/><path class=\"point\" transform=\"translate(158.1,321.39)\" d=\"M2.5,0A2.5,2.5 0 1,1 0,-2.5A2.5,2.5 0 0,1 2.5,0Z\" style=\"opacity: 1; stroke-width: 0px; fill: rgb(0, 0, 0); fill-opacity: 1;\"/><path class=\"point\" transform=\"translate(160.96,334.24)\" d=\"M2.5,0A2.5,2.5 0 1,1 0,-2.5A2.5,2.5 0 0,1 2.5,0Z\" style=\"opacity: 1; stroke-width: 0px; fill: rgb(0, 0, 0); fill-opacity: 1;\"/><path class=\"point\" transform=\"translate(167.22,329.78)\" d=\"M2.5,0A2.5,2.5 0 1,1 0,-2.5A2.5,2.5 0 0,1 2.5,0Z\" style=\"opacity: 1; stroke-width: 0px; fill: rgb(0, 0, 0); fill-opacity: 1;\"/><path class=\"point\" transform=\"translate(167.44,326.67)\" d=\"M2.5,0A2.5,2.5 0 1,1 0,-2.5A2.5,2.5 0 0,1 2.5,0Z\" style=\"opacity: 1; stroke-width: 0px; fill: rgb(0, 0, 0); fill-opacity: 1;\"/><path class=\"point\" transform=\"translate(169.74,328.37)\" d=\"M2.5,0A2.5,2.5 0 1,1 0,-2.5A2.5,2.5 0 0,1 2.5,0Z\" style=\"opacity: 1; stroke-width: 0px; fill: rgb(0, 0, 0); fill-opacity: 1;\"/><path class=\"point\" transform=\"translate(175.54,300.03)\" d=\"M2.5,0A2.5,2.5 0 1,1 0,-2.5A2.5,2.5 0 0,1 2.5,0Z\" style=\"opacity: 1; stroke-width: 0px; fill: rgb(0, 0, 0); fill-opacity: 1;\"/><path class=\"point\" transform=\"translate(189.4,319.58)\" d=\"M2.5,0A2.5,2.5 0 1,1 0,-2.5A2.5,2.5 0 0,1 2.5,0Z\" style=\"opacity: 1; stroke-width: 0px; fill: rgb(0, 0, 0); fill-opacity: 1;\"/><path class=\"point\" transform=\"translate(192.04,309.31)\" d=\"M2.5,0A2.5,2.5 0 1,1 0,-2.5A2.5,2.5 0 0,1 2.5,0Z\" style=\"opacity: 1; stroke-width: 0px; fill: rgb(0, 0, 0); fill-opacity: 1;\"/><path class=\"point\" transform=\"translate(194.57,318.79)\" d=\"M2.5,0A2.5,2.5 0 1,1 0,-2.5A2.5,2.5 0 0,1 2.5,0Z\" style=\"opacity: 1; stroke-width: 0px; fill: rgb(0, 0, 0); fill-opacity: 1;\"/><path class=\"point\" transform=\"translate(204.45,316.11)\" d=\"M2.5,0A2.5,2.5 0 1,1 0,-2.5A2.5,2.5 0 0,1 2.5,0Z\" style=\"opacity: 1; stroke-width: 0px; fill: rgb(0, 0, 0); fill-opacity: 1;\"/><path class=\"point\" transform=\"translate(210.5,311.31)\" d=\"M2.5,0A2.5,2.5 0 1,1 0,-2.5A2.5,2.5 0 0,1 2.5,0Z\" style=\"opacity: 1; stroke-width: 0px; fill: rgb(0, 0, 0); fill-opacity: 1;\"/><path class=\"point\" transform=\"translate(216.29,311.78)\" d=\"M2.5,0A2.5,2.5 0 1,1 0,-2.5A2.5,2.5 0 0,1 2.5,0Z\" style=\"opacity: 1; stroke-width: 0px; fill: rgb(0, 0, 0); fill-opacity: 1;\"/><path class=\"point\" transform=\"translate(226.61,306.2)\" d=\"M2.5,0A2.5,2.5 0 1,1 0,-2.5A2.5,2.5 0 0,1 2.5,0Z\" style=\"opacity: 1; stroke-width: 0px; fill: rgb(0, 0, 0); fill-opacity: 1;\"/><path class=\"point\" transform=\"translate(235.81,295.66)\" d=\"M2.5,0A2.5,2.5 0 1,1 0,-2.5A2.5,2.5 0 0,1 2.5,0Z\" style=\"opacity: 1; stroke-width: 0px; fill: rgb(0, 0, 0); fill-opacity: 1;\"/><path class=\"point\" transform=\"translate(240.43,296.6)\" d=\"M2.5,0A2.5,2.5 0 1,1 0,-2.5A2.5,2.5 0 0,1 2.5,0Z\" style=\"opacity: 1; stroke-width: 0px; fill: rgb(0, 0, 0); fill-opacity: 1;\"/><path class=\"point\" transform=\"translate(240.86,303.17)\" d=\"M2.5,0A2.5,2.5 0 1,1 0,-2.5A2.5,2.5 0 0,1 2.5,0Z\" style=\"opacity: 1; stroke-width: 0px; fill: rgb(0, 0, 0); fill-opacity: 1;\"/><path class=\"point\" transform=\"translate(246.9,288.78)\" d=\"M2.5,0A2.5,2.5 0 1,1 0,-2.5A2.5,2.5 0 0,1 2.5,0Z\" style=\"opacity: 1; stroke-width: 0px; fill: rgb(0, 0, 0); fill-opacity: 1;\"/><path class=\"point\" transform=\"translate(261.48,290.49)\" d=\"M2.5,0A2.5,2.5 0 1,1 0,-2.5A2.5,2.5 0 0,1 2.5,0Z\" style=\"opacity: 1; stroke-width: 0px; fill: rgb(0, 0, 0); fill-opacity: 1;\"/><path class=\"point\" transform=\"translate(286.57,271.3)\" d=\"M2.5,0A2.5,2.5 0 1,1 0,-2.5A2.5,2.5 0 0,1 2.5,0Z\" style=\"opacity: 1; stroke-width: 0px; fill: rgb(0, 0, 0); fill-opacity: 1;\"/><path class=\"point\" transform=\"translate(295.99,273.57)\" d=\"M2.5,0A2.5,2.5 0 1,1 0,-2.5A2.5,2.5 0 0,1 2.5,0Z\" style=\"opacity: 1; stroke-width: 0px; fill: rgb(0, 0, 0); fill-opacity: 1;\"/><path class=\"point\" transform=\"translate(326.66,244.12)\" d=\"M2.5,0A2.5,2.5 0 1,1 0,-2.5A2.5,2.5 0 0,1 2.5,0Z\" style=\"opacity: 1; stroke-width: 0px; fill: rgb(0, 0, 0); fill-opacity: 1;\"/><path class=\"point\" transform=\"translate(330,257.21)\" d=\"M2.5,0A2.5,2.5 0 1,1 0,-2.5A2.5,2.5 0 0,1 2.5,0Z\" style=\"opacity: 1; stroke-width: 0px; fill: rgb(0, 0, 0); fill-opacity: 1;\"/><path class=\"point\" transform=\"translate(364.5,224.54)\" d=\"M2.5,0A2.5,2.5 0 1,1 0,-2.5A2.5,2.5 0 0,1 2.5,0Z\" style=\"opacity: 1; stroke-width: 0px; fill: rgb(0, 0, 0); fill-opacity: 1;\"/><path class=\"point\" transform=\"translate(369.98,252.76)\" d=\"M2.5,0A2.5,2.5 0 1,1 0,-2.5A2.5,2.5 0 0,1 2.5,0Z\" style=\"opacity: 1; stroke-width: 0px; fill: rgb(0, 0, 0); fill-opacity: 1;\"/><path class=\"point\" transform=\"translate(390.73,243.74)\" d=\"M2.5,0A2.5,2.5 0 1,1 0,-2.5A2.5,2.5 0 0,1 2.5,0Z\" style=\"opacity: 1; stroke-width: 0px; fill: rgb(0, 0, 0); fill-opacity: 1;\"/><path class=\"point\" transform=\"translate(413.51,218.68)\" d=\"M2.5,0A2.5,2.5 0 1,1 0,-2.5A2.5,2.5 0 0,1 2.5,0Z\" style=\"opacity: 1; stroke-width: 0px; fill: rgb(0, 0, 0); fill-opacity: 1;\"/><path class=\"point\" transform=\"translate(427.2,228.6)\" d=\"M2.5,0A2.5,2.5 0 1,1 0,-2.5A2.5,2.5 0 0,1 2.5,0Z\" style=\"opacity: 1; stroke-width: 0px; fill: rgb(0, 0, 0); fill-opacity: 1;\"/><path class=\"point\" transform=\"translate(566.87,173.67)\" d=\"M2.5,0A2.5,2.5 0 1,1 0,-2.5A2.5,2.5 0 0,1 2.5,0Z\" style=\"opacity: 1; stroke-width: 0px; fill: rgb(0, 0, 0); fill-opacity: 1;\"/><path class=\"point\" transform=\"translate(33.13,376.88)\" d=\"M2.5,0A2.5,2.5 0 1,1 0,-2.5A2.5,2.5 0 0,1 2.5,0Z\" style=\"opacity: 1; stroke-width: 0px; fill: rgb(0, 0, 0); fill-opacity: 1;\"/><path class=\"point\" transform=\"translate(72.36,337.47)\" d=\"M2.5,0A2.5,2.5 0 1,1 0,-2.5A2.5,2.5 0 0,1 2.5,0Z\" style=\"opacity: 1; stroke-width: 0px; fill: rgb(0, 0, 0); fill-opacity: 1;\"/><path class=\"point\" transform=\"translate(91.38,344.28)\" d=\"M2.5,0A2.5,2.5 0 1,1 0,-2.5A2.5,2.5 0 0,1 2.5,0Z\" style=\"opacity: 1; stroke-width: 0px; fill: rgb(0, 0, 0); fill-opacity: 1;\"/><path class=\"point\" transform=\"translate(92.21,351.22)\" d=\"M2.5,0A2.5,2.5 0 1,1 0,-2.5A2.5,2.5 0 0,1 2.5,0Z\" style=\"opacity: 1; stroke-width: 0px; fill: rgb(0, 0, 0); fill-opacity: 1;\"/><path class=\"point\" transform=\"translate(95.16,338.93)\" d=\"M2.5,0A2.5,2.5 0 1,1 0,-2.5A2.5,2.5 0 0,1 2.5,0Z\" style=\"opacity: 1; stroke-width: 0px; fill: rgb(0, 0, 0); fill-opacity: 1;\"/><path class=\"point\" transform=\"translate(95.75,353.06)\" d=\"M2.5,0A2.5,2.5 0 1,1 0,-2.5A2.5,2.5 0 0,1 2.5,0Z\" style=\"opacity: 1; stroke-width: 0px; fill: rgb(0, 0, 0); fill-opacity: 1;\"/><path class=\"point\" transform=\"translate(98.71,355.26)\" d=\"M2.5,0A2.5,2.5 0 1,1 0,-2.5A2.5,2.5 0 0,1 2.5,0Z\" style=\"opacity: 1; stroke-width: 0px; fill: rgb(0, 0, 0); fill-opacity: 1;\"/><path class=\"point\" transform=\"translate(102.88,333.01)\" d=\"M2.5,0A2.5,2.5 0 1,1 0,-2.5A2.5,2.5 0 0,1 2.5,0Z\" style=\"opacity: 1; stroke-width: 0px; fill: rgb(0, 0, 0); fill-opacity: 1;\"/><path class=\"point\" transform=\"translate(104.26,351.97)\" d=\"M2.5,0A2.5,2.5 0 1,1 0,-2.5A2.5,2.5 0 0,1 2.5,0Z\" style=\"opacity: 1; stroke-width: 0px; fill: rgb(0, 0, 0); fill-opacity: 1;\"/><path class=\"point\" transform=\"translate(116.12,348.37)\" d=\"M2.5,0A2.5,2.5 0 1,1 0,-2.5A2.5,2.5 0 0,1 2.5,0Z\" style=\"opacity: 1; stroke-width: 0px; fill: rgb(0, 0, 0); fill-opacity: 1;\"/><path class=\"point\" transform=\"translate(118.35,303.95)\" d=\"M2.5,0A2.5,2.5 0 1,1 0,-2.5A2.5,2.5 0 0,1 2.5,0Z\" style=\"opacity: 1; stroke-width: 0px; fill: rgb(0, 0, 0); fill-opacity: 1;\"/><path class=\"point\" transform=\"translate(119.5,350)\" d=\"M2.5,0A2.5,2.5 0 1,1 0,-2.5A2.5,2.5 0 0,1 2.5,0Z\" style=\"opacity: 1; stroke-width: 0px; fill: rgb(0, 0, 0); fill-opacity: 1;\"/><path class=\"point\" transform=\"translate(125.93,313.99)\" d=\"M2.5,0A2.5,2.5 0 1,1 0,-2.5A2.5,2.5 0 0,1 2.5,0Z\" style=\"opacity: 1; stroke-width: 0px; fill: rgb(0, 0, 0); fill-opacity: 1;\"/><path class=\"point\" transform=\"translate(129.12,338.85)\" d=\"M2.5,0A2.5,2.5 0 1,1 0,-2.5A2.5,2.5 0 0,1 2.5,0Z\" style=\"opacity: 1; stroke-width: 0px; fill: rgb(0, 0, 0); fill-opacity: 1;\"/><path class=\"point\" transform=\"translate(130.79,263.37)\" d=\"M2.5,0A2.5,2.5 0 1,1 0,-2.5A2.5,2.5 0 0,1 2.5,0Z\" style=\"opacity: 1; stroke-width: 0px; fill: rgb(0, 0, 0); fill-opacity: 1;\"/><path class=\"point\" transform=\"translate(137.56,337.96)\" d=\"M2.5,0A2.5,2.5 0 1,1 0,-2.5A2.5,2.5 0 0,1 2.5,0Z\" style=\"opacity: 1; stroke-width: 0px; fill: rgb(0, 0, 0); fill-opacity: 1;\"/><path class=\"point\" transform=\"translate(139.59,307.38)\" d=\"M2.5,0A2.5,2.5 0 1,1 0,-2.5A2.5,2.5 0 0,1 2.5,0Z\" style=\"opacity: 1; stroke-width: 0px; fill: rgb(0, 0, 0); fill-opacity: 1;\"/><path class=\"point\" transform=\"translate(140.22,341.98)\" d=\"M2.5,0A2.5,2.5 0 1,1 0,-2.5A2.5,2.5 0 0,1 2.5,0Z\" style=\"opacity: 1; stroke-width: 0px; fill: rgb(0, 0, 0); fill-opacity: 1;\"/><path class=\"point\" transform=\"translate(141.1,285.18)\" d=\"M2.5,0A2.5,2.5 0 1,1 0,-2.5A2.5,2.5 0 0,1 2.5,0Z\" style=\"opacity: 1; stroke-width: 0px; fill: rgb(0, 0, 0); fill-opacity: 1;\"/><path class=\"point\" transform=\"translate(144.43,331.94)\" d=\"M2.5,0A2.5,2.5 0 1,1 0,-2.5A2.5,2.5 0 0,1 2.5,0Z\" style=\"opacity: 1; stroke-width: 0px; fill: rgb(0, 0, 0); fill-opacity: 1;\"/><path class=\"point\" transform=\"translate(152.44,324.16)\" d=\"M2.5,0A2.5,2.5 0 1,1 0,-2.5A2.5,2.5 0 0,1 2.5,0Z\" style=\"opacity: 1; stroke-width: 0px; fill: rgb(0, 0, 0); fill-opacity: 1;\"/><path class=\"point\" transform=\"translate(155.96,336.6)\" d=\"M2.5,0A2.5,2.5 0 1,1 0,-2.5A2.5,2.5 0 0,1 2.5,0Z\" style=\"opacity: 1; stroke-width: 0px; fill: rgb(0, 0, 0); fill-opacity: 1;\"/><path class=\"point\" transform=\"translate(160.94,334.32)\" d=\"M2.5,0A2.5,2.5 0 1,1 0,-2.5A2.5,2.5 0 0,1 2.5,0Z\" style=\"opacity: 1; stroke-width: 0px; fill: rgb(0, 0, 0); fill-opacity: 1;\"/><path class=\"point\" transform=\"translate(162.49,242.98)\" d=\"M2.5,0A2.5,2.5 0 1,1 0,-2.5A2.5,2.5 0 0,1 2.5,0Z\" style=\"opacity: 1; stroke-width: 0px; fill: rgb(0, 0, 0); fill-opacity: 1;\"/><path class=\"point\" transform=\"translate(164.1,263.92)\" d=\"M2.5,0A2.5,2.5 0 1,1 0,-2.5A2.5,2.5 0 0,1 2.5,0Z\" style=\"opacity: 1; stroke-width: 0px; fill: rgb(0, 0, 0); fill-opacity: 1;\"/><path class=\"point\" transform=\"translate(164.87,306.33)\" d=\"M2.5,0A2.5,2.5 0 1,1 0,-2.5A2.5,2.5 0 0,1 2.5,0Z\" style=\"opacity: 1; stroke-width: 0px; fill: rgb(0, 0, 0); fill-opacity: 1;\"/><path class=\"point\" transform=\"translate(168.62,308.01)\" d=\"M2.5,0A2.5,2.5 0 1,1 0,-2.5A2.5,2.5 0 0,1 2.5,0Z\" style=\"opacity: 1; stroke-width: 0px; fill: rgb(0, 0, 0); fill-opacity: 1;\"/><path class=\"point\" transform=\"translate(171.45,322.09)\" d=\"M2.5,0A2.5,2.5 0 1,1 0,-2.5A2.5,2.5 0 0,1 2.5,0Z\" style=\"opacity: 1; stroke-width: 0px; fill: rgb(0, 0, 0); fill-opacity: 1;\"/><path class=\"point\" transform=\"translate(172.01,285.06)\" d=\"M2.5,0A2.5,2.5 0 1,1 0,-2.5A2.5,2.5 0 0,1 2.5,0Z\" style=\"opacity: 1; stroke-width: 0px; fill: rgb(0, 0, 0); fill-opacity: 1;\"/><path class=\"point\" transform=\"translate(173,321.59)\" d=\"M2.5,0A2.5,2.5 0 1,1 0,-2.5A2.5,2.5 0 0,1 2.5,0Z\" style=\"opacity: 1; stroke-width: 0px; fill: rgb(0, 0, 0); fill-opacity: 1;\"/><path class=\"point\" transform=\"translate(179.73,316.76)\" d=\"M2.5,0A2.5,2.5 0 1,1 0,-2.5A2.5,2.5 0 0,1 2.5,0Z\" style=\"opacity: 1; stroke-width: 0px; fill: rgb(0, 0, 0); fill-opacity: 1;\"/><path class=\"point\" transform=\"translate(195.99,277.86)\" d=\"M2.5,0A2.5,2.5 0 1,1 0,-2.5A2.5,2.5 0 0,1 2.5,0Z\" style=\"opacity: 1; stroke-width: 0px; fill: rgb(0, 0, 0); fill-opacity: 1;\"/><path class=\"point\" transform=\"translate(198.55,299.39)\" d=\"M2.5,0A2.5,2.5 0 1,1 0,-2.5A2.5,2.5 0 0,1 2.5,0Z\" style=\"opacity: 1; stroke-width: 0px; fill: rgb(0, 0, 0); fill-opacity: 1;\"/><path class=\"point\" transform=\"translate(201.15,308.53)\" d=\"M2.5,0A2.5,2.5 0 1,1 0,-2.5A2.5,2.5 0 0,1 2.5,0Z\" style=\"opacity: 1; stroke-width: 0px; fill: rgb(0, 0, 0); fill-opacity: 1;\"/><path class=\"point\" transform=\"translate(201.33,307.52)\" d=\"M2.5,0A2.5,2.5 0 1,1 0,-2.5A2.5,2.5 0 0,1 2.5,0Z\" style=\"opacity: 1; stroke-width: 0px; fill: rgb(0, 0, 0); fill-opacity: 1;\"/><path class=\"point\" transform=\"translate(212.48,287.03)\" d=\"M2.5,0A2.5,2.5 0 1,1 0,-2.5A2.5,2.5 0 0,1 2.5,0Z\" style=\"opacity: 1; stroke-width: 0px; fill: rgb(0, 0, 0); fill-opacity: 1;\"/><path class=\"point\" transform=\"translate(214.85,296.14)\" d=\"M2.5,0A2.5,2.5 0 1,1 0,-2.5A2.5,2.5 0 0,1 2.5,0Z\" style=\"opacity: 1; stroke-width: 0px; fill: rgb(0, 0, 0); fill-opacity: 1;\"/><path class=\"point\" transform=\"translate(217.52,285.56)\" d=\"M2.5,0A2.5,2.5 0 1,1 0,-2.5A2.5,2.5 0 0,1 2.5,0Z\" style=\"opacity: 1; stroke-width: 0px; fill: rgb(0, 0, 0); fill-opacity: 1;\"/><path class=\"point\" transform=\"translate(218.08,287.16)\" d=\"M2.5,0A2.5,2.5 0 1,1 0,-2.5A2.5,2.5 0 0,1 2.5,0Z\" style=\"opacity: 1; stroke-width: 0px; fill: rgb(0, 0, 0); fill-opacity: 1;\"/><path class=\"point\" transform=\"translate(227.69,264.22)\" d=\"M2.5,0A2.5,2.5 0 1,1 0,-2.5A2.5,2.5 0 0,1 2.5,0Z\" style=\"opacity: 1; stroke-width: 0px; fill: rgb(0, 0, 0); fill-opacity: 1;\"/><path class=\"point\" transform=\"translate(232.8,237.92)\" d=\"M2.5,0A2.5,2.5 0 1,1 0,-2.5A2.5,2.5 0 0,1 2.5,0Z\" style=\"opacity: 1; stroke-width: 0px; fill: rgb(0, 0, 0); fill-opacity: 1;\"/><path class=\"point\" transform=\"translate(239.55,293.06)\" d=\"M2.5,0A2.5,2.5 0 1,1 0,-2.5A2.5,2.5 0 0,1 2.5,0Z\" style=\"opacity: 1; stroke-width: 0px; fill: rgb(0, 0, 0); fill-opacity: 1;\"/><path class=\"point\" transform=\"translate(244.17,271.03)\" d=\"M2.5,0A2.5,2.5 0 1,1 0,-2.5A2.5,2.5 0 0,1 2.5,0Z\" style=\"opacity: 1; stroke-width: 0px; fill: rgb(0, 0, 0); fill-opacity: 1;\"/><path class=\"point\" transform=\"translate(246.73,277.39)\" d=\"M2.5,0A2.5,2.5 0 1,1 0,-2.5A2.5,2.5 0 0,1 2.5,0Z\" style=\"opacity: 1; stroke-width: 0px; fill: rgb(0, 0, 0); fill-opacity: 1;\"/><path class=\"point\" transform=\"translate(246.77,253.19)\" d=\"M2.5,0A2.5,2.5 0 1,1 0,-2.5A2.5,2.5 0 0,1 2.5,0Z\" style=\"opacity: 1; stroke-width: 0px; fill: rgb(0, 0, 0); fill-opacity: 1;\"/><path class=\"point\" transform=\"translate(255.37,290.77)\" d=\"M2.5,0A2.5,2.5 0 1,1 0,-2.5A2.5,2.5 0 0,1 2.5,0Z\" style=\"opacity: 1; stroke-width: 0px; fill: rgb(0, 0, 0); fill-opacity: 1;\"/><path class=\"point\" transform=\"translate(262.2,278.25)\" d=\"M2.5,0A2.5,2.5 0 1,1 0,-2.5A2.5,2.5 0 0,1 2.5,0Z\" style=\"opacity: 1; stroke-width: 0px; fill: rgb(0, 0, 0); fill-opacity: 1;\"/><path class=\"point\" transform=\"translate(263.65,279.52)\" d=\"M2.5,0A2.5,2.5 0 1,1 0,-2.5A2.5,2.5 0 0,1 2.5,0Z\" style=\"opacity: 1; stroke-width: 0px; fill: rgb(0, 0, 0); fill-opacity: 1;\"/><path class=\"point\" transform=\"translate(266.62,251.15)\" d=\"M2.5,0A2.5,2.5 0 1,1 0,-2.5A2.5,2.5 0 0,1 2.5,0Z\" style=\"opacity: 1; stroke-width: 0px; fill: rgb(0, 0, 0); fill-opacity: 1;\"/><path class=\"point\" transform=\"translate(274.8,284.72)\" d=\"M2.5,0A2.5,2.5 0 1,1 0,-2.5A2.5,2.5 0 0,1 2.5,0Z\" style=\"opacity: 1; stroke-width: 0px; fill: rgb(0, 0, 0); fill-opacity: 1;\"/><path class=\"point\" transform=\"translate(278.44,289.25)\" d=\"M2.5,0A2.5,2.5 0 1,1 0,-2.5A2.5,2.5 0 0,1 2.5,0Z\" style=\"opacity: 1; stroke-width: 0px; fill: rgb(0, 0, 0); fill-opacity: 1;\"/><path class=\"point\" transform=\"translate(288.87,272.99)\" d=\"M2.5,0A2.5,2.5 0 1,1 0,-2.5A2.5,2.5 0 0,1 2.5,0Z\" style=\"opacity: 1; stroke-width: 0px; fill: rgb(0, 0, 0); fill-opacity: 1;\"/><path class=\"point\" transform=\"translate(297.3,238.86)\" d=\"M2.5,0A2.5,2.5 0 1,1 0,-2.5A2.5,2.5 0 0,1 2.5,0Z\" style=\"opacity: 1; stroke-width: 0px; fill: rgb(0, 0, 0); fill-opacity: 1;\"/><path class=\"point\" transform=\"translate(297.88,276.44)\" d=\"M2.5,0A2.5,2.5 0 1,1 0,-2.5A2.5,2.5 0 0,1 2.5,0Z\" style=\"opacity: 1; stroke-width: 0px; fill: rgb(0, 0, 0); fill-opacity: 1;\"/><path class=\"point\" transform=\"translate(311.19,272.6)\" d=\"M2.5,0A2.5,2.5 0 1,1 0,-2.5A2.5,2.5 0 0,1 2.5,0Z\" style=\"opacity: 1; stroke-width: 0px; fill: rgb(0, 0, 0); fill-opacity: 1;\"/><path class=\"point\" transform=\"translate(314.38,248.81)\" d=\"M2.5,0A2.5,2.5 0 1,1 0,-2.5A2.5,2.5 0 0,1 2.5,0Z\" style=\"opacity: 1; stroke-width: 0px; fill: rgb(0, 0, 0); fill-opacity: 1;\"/><path class=\"point\" transform=\"translate(314.83,260.79)\" d=\"M2.5,0A2.5,2.5 0 1,1 0,-2.5A2.5,2.5 0 0,1 2.5,0Z\" style=\"opacity: 1; stroke-width: 0px; fill: rgb(0, 0, 0); fill-opacity: 1;\"/><path class=\"point\" transform=\"translate(317.06,268.78)\" d=\"M2.5,0A2.5,2.5 0 1,1 0,-2.5A2.5,2.5 0 0,1 2.5,0Z\" style=\"opacity: 1; stroke-width: 0px; fill: rgb(0, 0, 0); fill-opacity: 1;\"/><path class=\"point\" transform=\"translate(317.82,240.59)\" d=\"M2.5,0A2.5,2.5 0 1,1 0,-2.5A2.5,2.5 0 0,1 2.5,0Z\" style=\"opacity: 1; stroke-width: 0px; fill: rgb(0, 0, 0); fill-opacity: 1;\"/><path class=\"point\" transform=\"translate(327.08,164.72)\" d=\"M2.5,0A2.5,2.5 0 1,1 0,-2.5A2.5,2.5 0 0,1 2.5,0Z\" style=\"opacity: 1; stroke-width: 0px; fill: rgb(0, 0, 0); fill-opacity: 1;\"/><path class=\"point\" transform=\"translate(327.57,254.03)\" d=\"M2.5,0A2.5,2.5 0 1,1 0,-2.5A2.5,2.5 0 0,1 2.5,0Z\" style=\"opacity: 1; stroke-width: 0px; fill: rgb(0, 0, 0); fill-opacity: 1;\"/><path class=\"point\" transform=\"translate(328.1,239.19)\" d=\"M2.5,0A2.5,2.5 0 1,1 0,-2.5A2.5,2.5 0 0,1 2.5,0Z\" style=\"opacity: 1; stroke-width: 0px; fill: rgb(0, 0, 0); fill-opacity: 1;\"/><path class=\"point\" transform=\"translate(335.09,259.06)\" d=\"M2.5,0A2.5,2.5 0 1,1 0,-2.5A2.5,2.5 0 0,1 2.5,0Z\" style=\"opacity: 1; stroke-width: 0px; fill: rgb(0, 0, 0); fill-opacity: 1;\"/><path class=\"point\" transform=\"translate(339.18,260.21)\" d=\"M2.5,0A2.5,2.5 0 1,1 0,-2.5A2.5,2.5 0 0,1 2.5,0Z\" style=\"opacity: 1; stroke-width: 0px; fill: rgb(0, 0, 0); fill-opacity: 1;\"/><path class=\"point\" transform=\"translate(354.66,225.41)\" d=\"M2.5,0A2.5,2.5 0 1,1 0,-2.5A2.5,2.5 0 0,1 2.5,0Z\" style=\"opacity: 1; stroke-width: 0px; fill: rgb(0, 0, 0); fill-opacity: 1;\"/><path class=\"point\" transform=\"translate(356.44,243.62)\" d=\"M2.5,0A2.5,2.5 0 1,1 0,-2.5A2.5,2.5 0 0,1 2.5,0Z\" style=\"opacity: 1; stroke-width: 0px; fill: rgb(0, 0, 0); fill-opacity: 1;\"/><path class=\"point\" transform=\"translate(425.69,198.93)\" d=\"M2.5,0A2.5,2.5 0 1,1 0,-2.5A2.5,2.5 0 0,1 2.5,0Z\" style=\"opacity: 1; stroke-width: 0px; fill: rgb(0, 0, 0); fill-opacity: 1;\"/><path class=\"point\" transform=\"translate(462.68,178.79)\" d=\"M2.5,0A2.5,2.5 0 1,1 0,-2.5A2.5,2.5 0 0,1 2.5,0Z\" style=\"opacity: 1; stroke-width: 0px; fill: rgb(0, 0, 0); fill-opacity: 1;\"/><path class=\"point\" transform=\"translate(477.67,174.37)\" d=\"M2.5,0A2.5,2.5 0 1,1 0,-2.5A2.5,2.5 0 0,1 2.5,0Z\" style=\"opacity: 1; stroke-width: 0px; fill: rgb(0, 0, 0); fill-opacity: 1;\"/><path class=\"point\" transform=\"translate(96.35,300.64)\" d=\"M2.5,0A2.5,2.5 0 1,1 0,-2.5A2.5,2.5 0 0,1 2.5,0Z\" style=\"opacity: 1; stroke-width: 0px; fill: rgb(0, 0, 0); fill-opacity: 1;\"/><path class=\"point\" transform=\"translate(127.41,312.53)\" d=\"M2.5,0A2.5,2.5 0 1,1 0,-2.5A2.5,2.5 0 0,1 2.5,0Z\" style=\"opacity: 1; stroke-width: 0px; fill: rgb(0, 0, 0); fill-opacity: 1;\"/><path class=\"point\" transform=\"translate(127.5,332)\" d=\"M2.5,0A2.5,2.5 0 1,1 0,-2.5A2.5,2.5 0 0,1 2.5,0Z\" style=\"opacity: 1; stroke-width: 0px; fill: rgb(0, 0, 0); fill-opacity: 1;\"/><path class=\"point\" transform=\"translate(147.93,254.58)\" d=\"M2.5,0A2.5,2.5 0 1,1 0,-2.5A2.5,2.5 0 0,1 2.5,0Z\" style=\"opacity: 1; stroke-width: 0px; fill: rgb(0, 0, 0); fill-opacity: 1;\"/><path class=\"point\" transform=\"translate(157.48,317.06)\" d=\"M2.5,0A2.5,2.5 0 1,1 0,-2.5A2.5,2.5 0 0,1 2.5,0Z\" style=\"opacity: 1; stroke-width: 0px; fill: rgb(0, 0, 0); fill-opacity: 1;\"/><path class=\"point\" transform=\"translate(164.8,258.51)\" d=\"M2.5,0A2.5,2.5 0 1,1 0,-2.5A2.5,2.5 0 0,1 2.5,0Z\" style=\"opacity: 1; stroke-width: 0px; fill: rgb(0, 0, 0); fill-opacity: 1;\"/><path class=\"point\" transform=\"translate(200.29,294.19)\" d=\"M2.5,0A2.5,2.5 0 1,1 0,-2.5A2.5,2.5 0 0,1 2.5,0Z\" style=\"opacity: 1; stroke-width: 0px; fill: rgb(0, 0, 0); fill-opacity: 1;\"/><path class=\"point\" transform=\"translate(205.56,251.26)\" d=\"M2.5,0A2.5,2.5 0 1,1 0,-2.5A2.5,2.5 0 0,1 2.5,0Z\" style=\"opacity: 1; stroke-width: 0px; fill: rgb(0, 0, 0); fill-opacity: 1;\"/><path class=\"point\" transform=\"translate(208.63,181.07)\" d=\"M2.5,0A2.5,2.5 0 1,1 0,-2.5A2.5,2.5 0 0,1 2.5,0Z\" style=\"opacity: 1; stroke-width: 0px; fill: rgb(0, 0, 0); fill-opacity: 1;\"/><path class=\"point\" transform=\"translate(219.63,242.97)\" d=\"M2.5,0A2.5,2.5 0 1,1 0,-2.5A2.5,2.5 0 0,1 2.5,0Z\" style=\"opacity: 1; stroke-width: 0px; fill: rgb(0, 0, 0); fill-opacity: 1;\"/><path class=\"point\" transform=\"translate(237.83,248.73)\" d=\"M2.5,0A2.5,2.5 0 1,1 0,-2.5A2.5,2.5 0 0,1 2.5,0Z\" style=\"opacity: 1; stroke-width: 0px; fill: rgb(0, 0, 0); fill-opacity: 1;\"/><path class=\"point\" transform=\"translate(242.62,260.05)\" d=\"M2.5,0A2.5,2.5 0 1,1 0,-2.5A2.5,2.5 0 0,1 2.5,0Z\" style=\"opacity: 1; stroke-width: 0px; fill: rgb(0, 0, 0); fill-opacity: 1;\"/><path class=\"point\" transform=\"translate(248.71,266.54)\" d=\"M2.5,0A2.5,2.5 0 1,1 0,-2.5A2.5,2.5 0 0,1 2.5,0Z\" style=\"opacity: 1; stroke-width: 0px; fill: rgb(0, 0, 0); fill-opacity: 1;\"/><path class=\"point\" transform=\"translate(251.55,162.71)\" d=\"M2.5,0A2.5,2.5 0 1,1 0,-2.5A2.5,2.5 0 0,1 2.5,0Z\" style=\"opacity: 1; stroke-width: 0px; fill: rgb(0, 0, 0); fill-opacity: 1;\"/><path class=\"point\" transform=\"translate(252.78,230.47)\" d=\"M2.5,0A2.5,2.5 0 1,1 0,-2.5A2.5,2.5 0 0,1 2.5,0Z\" style=\"opacity: 1; stroke-width: 0px; fill: rgb(0, 0, 0); fill-opacity: 1;\"/><path class=\"point\" transform=\"translate(268.19,236.55)\" d=\"M2.5,0A2.5,2.5 0 1,1 0,-2.5A2.5,2.5 0 0,1 2.5,0Z\" style=\"opacity: 1; stroke-width: 0px; fill: rgb(0, 0, 0); fill-opacity: 1;\"/><path class=\"point\" transform=\"translate(269.42,221)\" d=\"M2.5,0A2.5,2.5 0 1,1 0,-2.5A2.5,2.5 0 0,1 2.5,0Z\" style=\"opacity: 1; stroke-width: 0px; fill: rgb(0, 0, 0); fill-opacity: 1;\"/><path class=\"point\" transform=\"translate(276.79,272.31)\" d=\"M2.5,0A2.5,2.5 0 1,1 0,-2.5A2.5,2.5 0 0,1 2.5,0Z\" style=\"opacity: 1; stroke-width: 0px; fill: rgb(0, 0, 0); fill-opacity: 1;\"/><path class=\"point\" transform=\"translate(278.15,210.35)\" d=\"M2.5,0A2.5,2.5 0 1,1 0,-2.5A2.5,2.5 0 0,1 2.5,0Z\" style=\"opacity: 1; stroke-width: 0px; fill: rgb(0, 0, 0); fill-opacity: 1;\"/><path class=\"point\" transform=\"translate(282.67,223.01)\" d=\"M2.5,0A2.5,2.5 0 1,1 0,-2.5A2.5,2.5 0 0,1 2.5,0Z\" style=\"opacity: 1; stroke-width: 0px; fill: rgb(0, 0, 0); fill-opacity: 1;\"/><path class=\"point\" transform=\"translate(302.41,234.04)\" d=\"M2.5,0A2.5,2.5 0 1,1 0,-2.5A2.5,2.5 0 0,1 2.5,0Z\" style=\"opacity: 1; stroke-width: 0px; fill: rgb(0, 0, 0); fill-opacity: 1;\"/><path class=\"point\" transform=\"translate(306.58,220.19)\" d=\"M2.5,0A2.5,2.5 0 1,1 0,-2.5A2.5,2.5 0 0,1 2.5,0Z\" style=\"opacity: 1; stroke-width: 0px; fill: rgb(0, 0, 0); fill-opacity: 1;\"/><path class=\"point\" transform=\"translate(332.47,159.08)\" d=\"M2.5,0A2.5,2.5 0 1,1 0,-2.5A2.5,2.5 0 0,1 2.5,0Z\" style=\"opacity: 1; stroke-width: 0px; fill: rgb(0, 0, 0); fill-opacity: 1;\"/><path class=\"point\" transform=\"translate(100.22,330.76)\" d=\"M2.5,0A2.5,2.5 0 1,1 0,-2.5A2.5,2.5 0 0,1 2.5,0Z\" style=\"opacity: 1; stroke-width: 0px; fill: rgb(0, 0, 0); fill-opacity: 1;\"/><path class=\"point\" transform=\"translate(180.97,264.77)\" d=\"M2.5,0A2.5,2.5 0 1,1 0,-2.5A2.5,2.5 0 0,1 2.5,0Z\" style=\"opacity: 1; stroke-width: 0px; fill: rgb(0, 0, 0); fill-opacity: 1;\"/><path class=\"point\" transform=\"translate(186.29,253.49)\" d=\"M2.5,0A2.5,2.5 0 1,1 0,-2.5A2.5,2.5 0 0,1 2.5,0Z\" style=\"opacity: 1; stroke-width: 0px; fill: rgb(0, 0, 0); fill-opacity: 1;\"/><path class=\"point\" transform=\"translate(197.43,235.98)\" d=\"M2.5,0A2.5,2.5 0 1,1 0,-2.5A2.5,2.5 0 0,1 2.5,0Z\" style=\"opacity: 1; stroke-width: 0px; fill: rgb(0, 0, 0); fill-opacity: 1;\"/><path class=\"point\" transform=\"translate(216.33,206.42)\" d=\"M2.5,0A2.5,2.5 0 1,1 0,-2.5A2.5,2.5 0 0,1 2.5,0Z\" style=\"opacity: 1; stroke-width: 0px; fill: rgb(0, 0, 0); fill-opacity: 1;\"/><path class=\"point\" transform=\"translate(219.84,245.82)\" d=\"M2.5,0A2.5,2.5 0 1,1 0,-2.5A2.5,2.5 0 0,1 2.5,0Z\" style=\"opacity: 1; stroke-width: 0px; fill: rgb(0, 0, 0); fill-opacity: 1;\"/><path class=\"point\" transform=\"translate(243.22,225.29)\" d=\"M2.5,0A2.5,2.5 0 1,1 0,-2.5A2.5,2.5 0 0,1 2.5,0Z\" style=\"opacity: 1; stroke-width: 0px; fill: rgb(0, 0, 0); fill-opacity: 1;\"/><path class=\"point\" transform=\"translate(244.18,155.18)\" d=\"M2.5,0A2.5,2.5 0 1,1 0,-2.5A2.5,2.5 0 0,1 2.5,0Z\" style=\"opacity: 1; stroke-width: 0px; fill: rgb(0, 0, 0); fill-opacity: 1;\"/><path class=\"point\" transform=\"translate(264.38,197.9)\" d=\"M2.5,0A2.5,2.5 0 1,1 0,-2.5A2.5,2.5 0 0,1 2.5,0Z\" style=\"opacity: 1; stroke-width: 0px; fill: rgb(0, 0, 0); fill-opacity: 1;\"/><path class=\"point\" transform=\"translate(167.7,23.12)\" d=\"M2.5,0A2.5,2.5 0 1,1 0,-2.5A2.5,2.5 0 0,1 2.5,0Z\" style=\"opacity: 1; stroke-width: 0px; fill: rgb(0, 0, 0); fill-opacity: 1;\"/><path class=\"point\" transform=\"translate(188.57,220.68)\" d=\"M2.5,0A2.5,2.5 0 1,1 0,-2.5A2.5,2.5 0 0,1 2.5,0Z\" style=\"opacity: 1; stroke-width: 0px; fill: rgb(0, 0, 0); fill-opacity: 1;\"/><path class=\"point\" transform=\"translate(230.25,148.04)\" d=\"M2.5,0A2.5,2.5 0 1,1 0,-2.5A2.5,2.5 0 0,1 2.5,0Z\" style=\"opacity: 1; stroke-width: 0px; fill: rgb(0, 0, 0); fill-opacity: 1;\"/><path class=\"point\" transform=\"translate(163.01,24.43)\" d=\"M2.5,0A2.5,2.5 0 1,1 0,-2.5A2.5,2.5 0 0,1 2.5,0Z\" style=\"opacity: 1; stroke-width: 0px; fill: rgb(0, 0, 0); fill-opacity: 1;\"/></g><g class=\"text\"/></g></g></g><g class=\"overplot\"/><path class=\"xlines-above crisp\" d=\"M0,0\" style=\"fill: none;\"/><path class=\"ylines-above crisp\" d=\"M0,0\" style=\"fill: none;\"/><g class=\"overlines-above\"/><g class=\"xaxislayer-above\"><g class=\"xtick\"><text text-anchor=\"middle\" x=\"0\" y=\"463\" transform=\"translate(61.21,0)\" style=\"font-family: 'Open Sans', verdana, arial, sans-serif; font-size: 12px; fill: rgb(68, 68, 68); fill-opacity: 1; white-space: pre;\">0.2</text></g><g class=\"xtick\"><text text-anchor=\"middle\" x=\"0\" y=\"463\" transform=\"translate(184.48,0)\" style=\"font-family: 'Open Sans', verdana, arial, sans-serif; font-size: 12px; fill: rgb(68, 68, 68); fill-opacity: 1; white-space: pre;\">0.4</text></g><g class=\"xtick\"><text text-anchor=\"middle\" x=\"0\" y=\"463\" transform=\"translate(307.75,0)\" style=\"font-family: 'Open Sans', verdana, arial, sans-serif; font-size: 12px; fill: rgb(68, 68, 68); fill-opacity: 1; white-space: pre;\">0.6</text></g><g class=\"xtick\"><text text-anchor=\"middle\" x=\"0\" y=\"463\" transform=\"translate(431.03,0)\" style=\"font-family: 'Open Sans', verdana, arial, sans-serif; font-size: 12px; fill: rgb(68, 68, 68); fill-opacity: 1; white-space: pre;\">0.8</text></g><g class=\"xtick\"><text text-anchor=\"middle\" x=\"0\" y=\"463\" transform=\"translate(554.3,0)\" style=\"font-family: 'Open Sans', verdana, arial, sans-serif; font-size: 12px; fill: rgb(68, 68, 68); fill-opacity: 1; white-space: pre;\">1</text></g></g><g class=\"yaxislayer-above\"><g class=\"ytick\"><text text-anchor=\"end\" x=\"49\" y=\"4.199999999999999\" transform=\"translate(0,443.25)\" style=\"font-family: 'Open Sans', verdana, arial, sans-serif; font-size: 12px; fill: rgb(68, 68, 68); fill-opacity: 1; white-space: pre;\">0.2</text></g><g class=\"ytick\"><text text-anchor=\"end\" x=\"49\" y=\"4.199999999999999\" transform=\"translate(0,395.33)\" style=\"font-family: 'Open Sans', verdana, arial, sans-serif; font-size: 12px; fill: rgb(68, 68, 68); fill-opacity: 1; white-space: pre;\">0.4</text></g><g class=\"ytick\"><text text-anchor=\"end\" x=\"49\" y=\"4.199999999999999\" transform=\"translate(0,347.42)\" style=\"font-family: 'Open Sans', verdana, arial, sans-serif; font-size: 12px; fill: rgb(68, 68, 68); fill-opacity: 1; white-space: pre;\">0.6</text></g><g class=\"ytick\"><text text-anchor=\"end\" x=\"49\" y=\"4.199999999999999\" transform=\"translate(0,299.51)\" style=\"font-family: 'Open Sans', verdana, arial, sans-serif; font-size: 12px; fill: rgb(68, 68, 68); fill-opacity: 1; white-space: pre;\">0.8</text></g><g class=\"ytick\"><text text-anchor=\"end\" x=\"49\" y=\"4.199999999999999\" transform=\"translate(0,251.59)\" style=\"font-family: 'Open Sans', verdana, arial, sans-serif; font-size: 12px; fill: rgb(68, 68, 68); fill-opacity: 1; white-space: pre;\">1</text></g><g class=\"ytick\"><text text-anchor=\"end\" x=\"49\" y=\"4.199999999999999\" transform=\"translate(0,203.68)\" style=\"font-family: 'Open Sans', verdana, arial, sans-serif; font-size: 12px; fill: rgb(68, 68, 68); fill-opacity: 1; white-space: pre;\">1.2</text></g><g class=\"ytick\"><text text-anchor=\"end\" x=\"49\" y=\"4.199999999999999\" transform=\"translate(0,155.76999999999998)\" style=\"font-family: 'Open Sans', verdana, arial, sans-serif; font-size: 12px; fill: rgb(68, 68, 68); fill-opacity: 1; white-space: pre;\">1.4</text></g><g class=\"ytick\"><text text-anchor=\"end\" x=\"49\" y=\"4.199999999999999\" transform=\"translate(0,107.85)\" style=\"font-family: 'Open Sans', verdana, arial, sans-serif; font-size: 12px; fill: rgb(68, 68, 68); fill-opacity: 1; white-space: pre;\">1.6</text></g><g class=\"ytick\"><text text-anchor=\"end\" x=\"49\" y=\"4.199999999999999\" transform=\"translate(0,59.94)\" style=\"font-family: 'Open Sans', verdana, arial, sans-serif; font-size: 12px; fill: rgb(68, 68, 68); fill-opacity: 1; white-space: pre;\">1.8</text></g></g><g class=\"overaxes-above\"/></g></g><g class=\"polarlayer\"/><g class=\"ternarylayer\"/><g class=\"geolayer\"/><g class=\"funnelarealayer\"/><g class=\"pielayer\"/><g class=\"treemaplayer\"/><g class=\"sunburstlayer\"/><g class=\"glimages\"/><defs id=\"topdefs-b27882\"><g class=\"clips\"/></defs><g class=\"layer-above\"><g class=\"imagelayer\"/><g class=\"shapelayer\"/></g><g class=\"infolayer\"><g class=\"g-gtitle\"/><g class=\"g-xtitle\"/><g class=\"g-ytitle\"/></g></svg>"
      ],
      "text/html": [
       "<div\n",
       "    class=\"webio-mountpoint\"\n",
       "    data-webio-mountpoint=\"8938631002289727859\"\n",
       ">\n",
       "    <script>\n",
       "    (function(){\n",
       "    // Some integrations (namely, IJulia/Jupyter) use an alternate render pathway than\n",
       "    // just putting the html on the page. If WebIO isn't defined, then it's pretty likely\n",
       "    // that we're in one of those situations and the integration just isn't installed\n",
       "    // correctly.\n",
       "    if (typeof window.WebIO === \"undefined\") {\n",
       "        document\n",
       "            .querySelector('[data-webio-mountpoint=\"8938631002289727859\"]')\n",
       "            .innerHTML = (\n",
       "                '<div style=\"padding: 1em; background-color: #f8d6da; border: 1px solid #f5c6cb; font-weight: bold;\">' +\n",
       "                '<p><strong>WebIO not detected.</strong></p>' +\n",
       "                '<p>Please read ' +\n",
       "                '<a href=\"https://juliagizmos.github.io/WebIO.jl/latest/troubleshooting/not-detected/\" target=\"_blank\">the troubleshooting guide</a> ' +\n",
       "                'for more information on how to resolve this issue.</p>' +\n",
       "                '<p><a href=\"https://juliagizmos.github.io/WebIO.jl/latest/troubleshooting/not-detected/\" target=\"_blank\">https://juliagizmos.github.io/WebIO.jl/latest/troubleshooting/not-detected/</a></p>' +\n",
       "                '</div>'\n",
       "            );\n",
       "        return;\n",
       "    }\n",
       "    WebIO.mount(\n",
       "        document.querySelector('[data-webio-mountpoint=\"8938631002289727859\"]'),\n",
       "        {\"props\":{},\"nodeType\":\"Scope\",\"type\":\"node\",\"instanceArgs\":{\"imports\":{\"data\":[{\"name\":\"Plotly\",\"type\":\"js\",\"url\":\"\\/assetserver\\/0011d14de576c55f77111628d5a39fcc5762f320-plotly.min.js\"},{\"name\":null,\"type\":\"js\",\"url\":\"\\/assetserver\\/52365f0a3f606733873c2a55bbe1584aba3b706c-plotly_webio.bundle.js\"}],\"type\":\"async_block\"},\"id\":\"8478374940335597728\",\"handlers\":{\"_toImage\":[\"(function (options){return this.Plotly.toImage(this.plotElem,options).then((function (data){return WebIO.setval({\\\"name\\\":\\\"image\\\",\\\"scope\\\":\\\"8478374940335597728\\\",\\\"id\\\":\\\"1547277306022988015\\\",\\\"type\\\":\\\"observable\\\"},data)}))})\"],\"__get_gd_contents\":[\"(function (prop){prop==\\\"data\\\" ? (WebIO.setval({\\\"name\\\":\\\"__gd_contents\\\",\\\"scope\\\":\\\"8478374940335597728\\\",\\\"id\\\":\\\"8339995094011556159\\\",\\\"type\\\":\\\"observable\\\"},this.plotElem.data)) : undefined; return prop==\\\"layout\\\" ? (WebIO.setval({\\\"name\\\":\\\"__gd_contents\\\",\\\"scope\\\":\\\"8478374940335597728\\\",\\\"id\\\":\\\"8339995094011556159\\\",\\\"type\\\":\\\"observable\\\"},this.plotElem.layout)) : undefined})\"],\"_downloadImage\":[\"(function (options){return this.Plotly.downloadImage(this.plotElem,options)})\"],\"_commands\":[\"(function (args){var fn=args.shift(); var elem=this.plotElem; var Plotly=this.Plotly; args.unshift(elem); return Plotly[fn].apply(this,args)})\"]},\"systemjs_options\":null,\"mount_callbacks\":[\"function () {\\n    var handler = ((function (Plotly,PlotlyWebIO){PlotlyWebIO.init(WebIO); var gd=this.dom.querySelector(\\\"#plot-64ab6236-b251-4850-a3aa-51727f1d4a3b\\\"); this.plotElem=gd; this.Plotly=Plotly; (window.Blink!==undefined) ? (gd.style.width=\\\"100%\\\", gd.style.height=\\\"100vh\\\", gd.style.marginLeft=\\\"0%\\\", gd.style.marginTop=\\\"0vh\\\") : undefined; window.onresize=(function (){return Plotly.Plots.resize(gd)}); Plotly.newPlot(gd,[{\\\"marker\\\":{\\\"color\\\":\\\"black\\\",\\\"size\\\":5},\\\"mode\\\":\\\"markers\\\",\\\"textfont\\\":{\\\"family\\\":\\\"Raleway, sans-serif\\\"},\\\"textposition\\\":\\\"top center\\\",\\\"y\\\":[0.32404290095448784,0.3512821362879138,0.4151272299584806,0.4502341879544474,0.4187440985243851,0.41194598252926384,0.4223490272334011,0.43186594383558413,0.45240818890576956,0.49994001136536403,0.44630601621421156,0.4649278472472903,0.47791571165740176,0.47079816360835536,0.589095945004715,0.507512708840872,0.5503788237423378,0.5108090308256108,0.5219645695542944,0.5420373965069193,0.5400650597409535,0.5633617325386948,0.6073326873847626,0.6034222515270711,0.5759991981739204,0.6360542609762162,0.6289394191056883,0.7090206281935669,0.6995544331479862,0.8224786541698202,0.767838850852181,0.9042059411516835,0.7864028322265879,0.8240826401890763,0.928670626659958,0.8872482364000519,1.1165679914062552,0.2683384352678533,0.43282674131920335,0.40439962335541285,0.37542840761322305,0.42674385868457454,0.3677462855978217,0.35857158569245295,0.4514393841192856,0.3722814594376148,0.38733667690266643,0.572754619544007,0.3805238206814397,0.5308467517024099,0.42707857233769025,0.7421511786078362,0.43076233984530365,0.5584049016887298,0.4139949068007957,0.6511065460475727,0.4558861657278095,0.48837476904217686,0.436468814686685,0.4459689627339571,0.8272377608916301,0.739850314452863,0.5628040438785067,0.5557952611897654,0.4970261872265888,0.6516098800279195,0.4991201172653737,0.5192668818459348,0.6816564672091071,0.5917658893295551,0.5536051172704244,0.5578229226062702,0.6433831477914224,0.6053561100889293,0.6495001739661056,0.6428092188324629,0.738582205134947,0.8483714199582629,0.6181868686586596,0.7101612891583172,0.683592422642322,0.7846330420457713,0.6277529591001536,0.6800320564973393,0.6747377289740063,0.7931471887064857,0.6530008893003163,0.6341045352156072,0.7019945824826586,0.8444241919687057,0.6875656978223984,0.7036068131037394,0.8029013906806988,0.7529023011852201,0.7195680137679825,0.8372178198802261,1.1539141996049802,0.7811047202917146,0.843064516312955,0.7601359874825044,0.7553054557885837,0.900563983793489,0.8245690865864426,1.0111085179094286,1.0951715008718956,1.1136356088577644,0.5865663664173053,0.5369222737594332,0.4556352356699378,0.7788134876451491,0.518014730264497,0.7624156506283171,0.6134624829539295,0.7927003260072487,1.0856810444527434,0.82728210457981,0.8032443776049721,0.7559891367552838,0.7288815128585714,1.1623108733763956,0.8794702896295021,0.8540710886676824,0.9190100965152663,0.7048195333565899,0.9634612347339145,0.9106002036700845,0.8645753986032669,0.9223866900275617,1.1774439553579594,0.4608325617336501,0.7362794690625295,0.7833879686655905,0.8564442110371232,0.9798698521788479,0.8153690028747729,0.9010712625364338,1.193734100461658,1.0154060030406553,1.744962737820209,0.9203247876586823,1.2235481477191665,1.7395210034587103],\\\"type\\\":\\\"scatter\\\",\\\"hoverinfo\\\":\\\"x+y+text\\\",\\\"text\\\":[\\\"class\\/size  1\\/6\\\",\\\"class\\/size  2\\/5\\\",\\\"class\\/size  3\\/4\\\",\\\"class\\/size  4\\/4\\\",\\\"class\\/size  5\\/8\\\",\\\"class\\/size  6\\/7\\\",\\\"class\\/size  7\\/6\\\",\\\"class\\/size  8\\/5\\\",\\\"class\\/size  9\\/6\\\",\\\"class\\/size  10\\/6\\\",\\\"class\\/size  11\\/5\\\",\\\"class\\/size  12\\/7\\\",\\\"class\\/size  13\\/4\\\",\\\"class\\/size  14\\/10\\\",\\\"class\\/size  15\\/6\\\",\\\"class\\/size  16\\/9\\\",\\\"class\\/size  17\\/4\\\",\\\"class\\/size  18\\/5\\\",\\\"class\\/size  19\\/4\\\",\\\"class\\/size  20\\/9\\\",\\\"class\\/size  21\\/6\\\",\\\"class\\/size  22\\/5\\\",\\\"class\\/size  23\\/7\\\",\\\"class\\/size  24\\/6\\\",\\\"class\\/size  25\\/9\\\",\\\"class\\/size  26\\/5\\\",\\\"class\\/size  27\\/11\\\",\\\"class\\/size  28\\/6\\\",\\\"class\\/size  29\\/18\\\",\\\"class\\/size  30\\/12\\\",\\\"class\\/size  31\\/7\\\",\\\"class\\/size  32\\/13\\\",\\\"class\\/size  33\\/7\\\",\\\"class\\/size  34\\/13\\\",\\\"class\\/size  35\\/17\\\",\\\"class\\/size  36\\/8\\\",\\\"class\\/size  37\\/28\\\",\\\"class\\/size  38\\/4\\\",\\\"class\\/size  39\\/11\\\",\\\"class\\/size  40\\/9\\\",\\\"class\\/size  41\\/6\\\",\\\"class\\/size  42\\/6\\\",\\\"class\\/size  43\\/4\\\",\\\"class\\/size  44\\/4\\\",\\\"class\\/size  45\\/8\\\",\\\"class\\/size  46\\/7\\\",\\\"class\\/size  47\\/7\\\",\\\"class\\/size  48\\/9\\\",\\\"class\\/size  49\\/5\\\",\\\"class\\/size  50\\/14\\\",\\\"class\\/size  51\\/10\\\",\\\"class\\/size  52\\/11\\\",\\\"class\\/size  53\\/7\\\",\\\"class\\/size  54\\/16\\\",\\\"class\\/size  55\\/6\\\",\\\"class\\/size  56\\/10\\\",\\\"class\\/size  57\\/4\\\",\\\"class\\/size  58\\/6\\\",\\\"class\\/size  59\\/10\\\",\\\"class\\/size  60\\/4\\\",\\\"class\\/size  61\\/13\\\",\\\"class\\/size  62\\/31\\\",\\\"class\\/size  63\\/7\\\",\\\"class\\/size  64\\/7\\\",\\\"class\\/size  65\\/8\\\",\\\"class\\/size  66\\/11\\\",\\\"class\\/size  67\\/6\\\",\\\"class\\/size  68\\/7\\\",\\\"class\\/size  69\\/18\\\",\\\"class\\/size  70\\/6\\\",\\\"class\\/size  71\\/10\\\",\\\"class\\/size  72\\/5\\\",\\\"class\\/size  73\\/11\\\",\\\"class\\/size  74\\/24\\\",\\\"class\\/size  75\\/8\\\",\\\"class\\/size  76\\/5\\\",\\\"class\\/size  77\\/12\\\",\\\"class\\/size  78\\/11\\\",\\\"class\\/size  79\\/14\\\",\\\"class\\/size  80\\/6\\\",\\\"class\\/size  81\\/17\\\",\\\"class\\/size  82\\/10\\\",\\\"class\\/size  83\\/14\\\",\\\"class\\/size  84\\/12\\\",\\\"class\\/size  85\\/13\\\",\\\"class\\/size  86\\/10\\\",\\\"class\\/size  87\\/5\\\",\\\"class\\/size  88\\/4\\\",\\\"class\\/size  89\\/9\\\",\\\"class\\/size  90\\/40\\\",\\\"class\\/size  91\\/12\\\",\\\"class\\/size  92\\/9\\\",\\\"class\\/size  93\\/14\\\",\\\"class\\/size  94\\/10\\\",\\\"class\\/size  95\\/7\\\",\\\"class\\/size  96\\/9\\\",\\\"class\\/size  97\\/32\\\",\\\"class\\/size  98\\/14\\\",\\\"class\\/size  99\\/13\\\",\\\"class\\/size  100\\/7\\\",\\\"class\\/size  101\\/6\\\",\\\"class\\/size  102\\/18\\\",\\\"class\\/size  103\\/18\\\",\\\"class\\/size  104\\/17\\\",\\\"class\\/size  105\\/15\\\",\\\"class\\/size  106\\/18\\\",\\\"class\\/size  107\\/13\\\",\\\"class\\/size  108\\/24\\\",\\\"class\\/size  109\\/10\\\",\\\"class\\/size  110\\/14\\\",\\\"class\\/size  111\\/14\\\",\\\"class\\/size  112\\/39\\\",\\\"class\\/size  113\\/36\\\",\\\"class\\/size  114\\/29\\\",\\\"class\\/size  115\\/20\\\",\\\"class\\/size  116\\/37\\\",\\\"class\\/size  117\\/34\\\",\\\"class\\/size  118\\/29\\\",\\\"class\\/size  119\\/36\\\",\\\"class\\/size  120\\/69\\\",\\\"class\\/size  121\\/13\\\",\\\"class\\/size  122\\/18\\\",\\\"class\\/size  123\\/36\\\",\\\"class\\/size  124\\/13\\\",\\\"class\\/size  125\\/23\\\",\\\"class\\/size  126\\/46\\\",\\\"class\\/size  127\\/21\\\",\\\"class\\/size  128\\/35\\\",\\\"class\\/size  129\\/43\\\",\\\"class\\/size  130\\/14\\\",\\\"class\\/size  131\\/53\\\",\\\"class\\/size  132\\/44\\\",\\\"class\\/size  133\\/34\\\",\\\"class\\/size  134\\/56\\\",\\\"class\\/size  135\\/50\\\",\\\"class\\/size  136\\/24\\\",\\\"class\\/size  137\\/53\\\",\\\"class\\/size  138\\/89\\\",\\\"class\\/size  139\\/73\\\",\\\"class\\/size  140\\/84\\\",\\\"class\\/size  141\\/73\\\",\\\"class\\/size  142\\/48\\\"],\\\"x\\\":[0.28817090433629944,0.29922456865204033,0.32314033354875615,0.37042038750722056,0.3918516886603912,0.3997568178105283,0.39988867886700624,0.4051604912266253,0.4334231223273625,0.43832043624385125,0.4429661832454033,0.4531264124954545,0.45347961114585894,0.4572078450606463,0.46661839036733216,0.4891034176132916,0.4933903865804454,0.49748724592294846,0.5135164086550693,0.523336908896171,0.5327295173031057,0.5494797157511826,0.5644044842885304,0.5718972974905565,0.5725862764029525,0.5823946412536782,0.6060480422260277,0.6467591664669308,0.6620294517323227,0.71180186930072,0.7172191014334462,0.773185405990696,0.7820865094540368,0.8157438650103369,0.8527003293971439,0.8749083472753009,1.101524407386873,0.2355615922768392,0.29921874198987014,0.3300696350544831,0.3314273946492658,0.33621561320230114,0.3371584100700991,0.3419722970314992,0.3487354599248555,0.35097745749406833,0.37020919549222525,0.37383530764495726,0.37569164278567624,0.38613376781757863,0.39130660805307166,0.3940156271482172,0.40499463878426883,0.40828856998573976,0.40931576662889463,0.41074788438773496,0.4161441430730466,0.42913711603053084,0.43485141967918167,0.44293022213098154,0.44543931542467113,0.44805018646798894,0.44930161718605033,0.4553836088848613,0.45998569677110646,0.46089099419493895,0.4624975935137395,0.47340873251979587,0.4997988006828347,0.5039463311792253,0.5081655052765783,0.5084665064161059,0.5265479280094065,0.5303905863804526,0.5347260245340556,0.535639550140763,0.5512233187819614,0.55952281479936,0.5704617663910543,0.5779584308763048,0.5821232599785023,0.5821790991413213,0.5961298039370285,0.6072170075039068,0.6095740182734171,0.6143939541971416,0.6276574559566733,0.6335715797050874,0.6504856685216049,0.6641627545014854,0.6650964643102527,0.6866960501459128,0.6918722092763966,0.6926084885308589,0.6962190671749813,0.6974529192096057,0.7124714091519748,0.7132771324282032,0.7141375776606353,0.7254718109864776,0.732112243531688,0.7572215911818669,0.7601163850187698,0.8724593975847815,0.9324696628957972,0.9568046803454707,0.33813761899114414,0.38853764561107856,0.38868453771664235,0.4218255790074847,0.4373111287104404,0.4491960034661929,0.5067690912861593,0.5153211077570952,0.5203036060628445,0.5381570007767248,0.5676727863496713,0.5754486288227644,0.5853373581841502,0.5899399083779643,0.5919371621050683,0.6169350044518472,0.6189291814400081,0.6308916921865411,0.633092341458971,0.6404250970738077,0.672449271387068,0.6792194115320909,0.7212276169740044,0.34440954255943607,0.47543182370241094,0.4840528015712748,0.5021340754280671,0.532800702128855,0.5384843335111983,0.5764219846067622,0.5779722043749151,0.6107465748753714,0.45390470887401024,0.487758041662051,0.5553811743343516,0.44628408583995216]},{\\\"marker\\\":{\\\"color\\\":\\\"red\\\",\\\"size\\\":6},\\\"mode\\\":\\\"markers\\\",\\\"textfont\\\":{\\\"family\\\":\\\"Raleway, sans-serif\\\"},\\\"textposition\\\":\\\"top center\\\",\\\"y\\\":[],\\\"type\\\":\\\"scatter\\\",\\\"hoverinfo\\\":\\\"x+text\\\",\\\"text\\\":[],\\\"x\\\":[]}],{\\\"showlegend\\\":false,\\\"hovermode\\\":\\\"closest\\\",\\\"height\\\":800,\\\"margin\\\":{\\\"l\\\":50,\\\"b\\\":50,\\\"r\\\":50,\\\"t\\\":50},\\\"scene\\\":{\\\"aspectratio\\\":{\\\"y\\\":1.705182112657722,\\\"x\\\":1.0},\\\"aspectmode\\\":\\\"manual\\\"},\\\"width\\\":1000},{}); gd.on(\\\"plotly_hover\\\",(function (data){var filtered_data=WebIO.PlotlyCommands.filterEventData(gd,data,\\\"hover\\\"); return !(filtered_data.isnil) ? (WebIO.setval({\\\"name\\\":\\\"hover\\\",\\\"scope\\\":\\\"8478374940335597728\\\",\\\"id\\\":\\\"18377715451228160772\\\",\\\"type\\\":\\\"observable\\\"},filtered_data.out)) : undefined})); gd.on(\\\"plotly_unhover\\\",(function (){return WebIO.setval({\\\"name\\\":\\\"hover\\\",\\\"scope\\\":\\\"8478374940335597728\\\",\\\"id\\\":\\\"18377715451228160772\\\",\\\"type\\\":\\\"observable\\\"},{})})); gd.on(\\\"plotly_selected\\\",(function (data){var filtered_data=WebIO.PlotlyCommands.filterEventData(gd,data,\\\"selected\\\"); return !(filtered_data.isnil) ? (WebIO.setval({\\\"name\\\":\\\"selected\\\",\\\"scope\\\":\\\"8478374940335597728\\\",\\\"id\\\":\\\"6740595973563272354\\\",\\\"type\\\":\\\"observable\\\"},filtered_data.out)) : undefined})); gd.on(\\\"plotly_deselect\\\",(function (){return WebIO.setval({\\\"name\\\":\\\"selected\\\",\\\"scope\\\":\\\"8478374940335597728\\\",\\\"id\\\":\\\"6740595973563272354\\\",\\\"type\\\":\\\"observable\\\"},{})})); gd.on(\\\"plotly_relayout\\\",(function (data){var filtered_data=WebIO.PlotlyCommands.filterEventData(gd,data,\\\"relayout\\\"); return !(filtered_data.isnil) ? (WebIO.setval({\\\"name\\\":\\\"relayout\\\",\\\"scope\\\":\\\"8478374940335597728\\\",\\\"id\\\":\\\"9517481488522526509\\\",\\\"type\\\":\\\"observable\\\"},filtered_data.out)) : undefined})); return gd.on(\\\"plotly_click\\\",(function (data){var filtered_data=WebIO.PlotlyCommands.filterEventData(gd,data,\\\"click\\\"); return !(filtered_data.isnil) ? (WebIO.setval({\\\"name\\\":\\\"click\\\",\\\"scope\\\":\\\"8478374940335597728\\\",\\\"id\\\":\\\"2710143438578037955\\\",\\\"type\\\":\\\"observable\\\"},filtered_data.out)) : undefined}))}));\\n    (WebIO.importBlock({\\\"data\\\":[{\\\"name\\\":\\\"Plotly\\\",\\\"type\\\":\\\"js\\\",\\\"url\\\":\\\"\\/assetserver\\/0011d14de576c55f77111628d5a39fcc5762f320-plotly.min.js\\\"},{\\\"name\\\":null,\\\"type\\\":\\\"js\\\",\\\"url\\\":\\\"\\/assetserver\\/52365f0a3f606733873c2a55bbe1584aba3b706c-plotly_webio.bundle.js\\\"}],\\\"type\\\":\\\"async_block\\\"})).then((imports) => handler.apply(this, imports));\\n}\\n\"],\"observables\":{\"_toImage\":{\"sync\":false,\"id\":\"12424284878720180865\",\"value\":{}},\"hover\":{\"sync\":false,\"id\":\"18377715451228160772\",\"value\":{}},\"selected\":{\"sync\":false,\"id\":\"6740595973563272354\",\"value\":{}},\"__gd_contents\":{\"sync\":false,\"id\":\"8339995094011556159\",\"value\":{}},\"click\":{\"sync\":false,\"id\":\"2710143438578037955\",\"value\":{}},\"image\":{\"sync\":true,\"id\":\"1547277306022988015\",\"value\":\"\"},\"__get_gd_contents\":{\"sync\":false,\"id\":\"15735676449690515558\",\"value\":\"\"},\"_downloadImage\":{\"sync\":false,\"id\":\"11494616712176856802\",\"value\":{}},\"relayout\":{\"sync\":false,\"id\":\"9517481488522526509\",\"value\":{}},\"_commands\":{\"sync\":false,\"id\":\"8872568313806007566\",\"value\":[]}}},\"children\":[{\"props\":{\"id\":\"plot-64ab6236-b251-4850-a3aa-51727f1d4a3b\"},\"nodeType\":\"DOM\",\"type\":\"node\",\"instanceArgs\":{\"namespace\":\"html\",\"tag\":\"div\"},\"children\":[]}]},\n",
       "        window,\n",
       "    );\n",
       "    })()\n",
       "    </script>\n",
       "</div>\n"
      ],
      "text/plain": [
       "data: [\n",
       "  \"scatter with fields hoverinfo, marker, mode, text, textfont, textposition, type, x, and y\",\n",
       "  \"scatter with fields hoverinfo, marker, mode, text, textfont, textposition, type, x, and y\"\n",
       "]\n",
       "\n",
       "layout: \"layout with fields height, hovermode, margin, scene, showlegend, and width\"\n",
       "\n"
      ]
     },
     "execution_count": 15,
     "metadata": {},
     "output_type": "execute_result"
    }
   ],
   "source": [
    "plotpersistencediagram_pjs(PH, dim=1)"
   ]
  },
  {
   "cell_type": "code",
   "execution_count": 16,
   "metadata": {},
   "outputs": [
    {
     "data": {
      "application/vnd.plotly.v1+json": {
       "data": [
        {
         "autocolorscale": false,
         "marker": {
          "cmax": 1,
          "cmin": 0,
          "color": [
           0.6990554964311726,
           0.6588599135294712,
           0.281766790512737,
           0.2438909388966237,
           0.6174898952839026,
           0.32126007233452475,
           0.20791293703995536,
           0.842317708967009,
           0.8096763072936619,
           0.7377790499563999,
           0.5752517308354618,
           0.0880554627769723,
           0.7747438784630325,
           0.1139477463628055,
           0.0652147802937392,
           0.8724264179653045,
           0.9454307525221085,
           0.17409915348088523,
           0.9962927271060164,
           0.1426999336424812,
           0.9889163755197464,
           0.9779219660216285,
           0.04559480333495985,
           0.9633908973729826,
           0.029340791345610212,
           0.9241745020977818,
           0.3620783899208613,
           0.5753342575959454,
           0.9999964088540537,
           0.8997795199412358,
           0.5324581367758909,
           0.01657308334368214,
           0.5325414347805496,
           0.6175710398009505,
           0.007386206972194043,
           0.6589390750374693,
           0.4465567307543618,
           0.44647374153332375,
           0.4039195387294103,
           0.4895093944429974,
           1,
           0.737852506214639,
           0.40400145020877803,
           0.699132088846012,
           0.48942594190344657,
           0.36215861721462383,
           0.8097418869508318,
           0.0018481786495956967,
           0.32133802146786816,
           0.7748136547202347,
           0.02936896501088504,
           0.9963034739562657,
           0.11400078708084917,
           0.9889341985083784,
           0.04562962726225161,
           0.2818418843775504,
           0.14275831873221692,
           0.977946733193471,
           0.9454688079032333,
           0.963422425360561,
           0.06525599665887553,
           0.1741624506795371,
           0,
           0.8423786064953088,
           0.08810276642840519,
           0.2439626215242054,
           0.9242188031237251,
           0.20798067771721018,
           0.8998297386227001,
           0.016594398158980596,
           0.8724821825007414,
           0.007400505130079049,
           0.0018553542915087644
          ],
          "colorscale": "Jet",
          "line": {
           "color": [
            0.9589155328156201,
            0.9743047203591566,
            0.9499022682487684,
            0.9294609216343641,
            0.9861823283446841,
            0.9670127025229212,
            0.9058400032582439,
            0.8648926774070556,
            0.8929425994735537,
            0.9401287018744415,
            0.9944604191182873,
            0.7833830069942658,
            0.9180833186589774,
            0.8177583966519388,
            0.7469095553467078,
            0.8341412242686597,
            0.728044165107385,
            0.8792143941358315,
            0.5644312715088465,
            0.8497812209615899,
            0.6068268401376458,
            0.6484315068643968,
            0.7086080783843226,
            0.6889372452928476,
            0.668762146842034,
            0.7654627323560086,
            0.9806655447878708,
            0.005553898984459842,
            0.5215586829352233,
            0.800915913058415,
            0.9990777045921265,
            0.6276667660561159,
            0.0009294743876650006,
            0.013839036168613102,
            0.5856261918478983,
            0.025723545683127586,
            0.002772357324635258,
            0.9972204769893904,
            0.9907597141761985,
            0,
            0.4785264880627762,
            0.05991272964605411,
            0.009226020797901864,
            0.041119438777582194,
            1,
            0.01931320975338288,
            0.10711082589510022,
            0.5429516779201187,
            0.03295924217324898,
            0.08196427933814691,
            0.3311610932724347,
            0.4356532822067014,
            0.18217896038064044,
            0.39325648358314136,
            0.2913178739158612,
            0.05006308760778914,
            0.15016093319849624,
            0.35164998325577124,
            0.2720319056637016,
            0.31114182119618183,
            0.25301967065627234,
            0.12073299871593851,
            0.4999591714433954,
            0.1351661930842079,
            0.21655002999123915,
            0.07049811516951639,
            0.23460979278957783,
            0.09411303106394932,
            0.1991525428046856,
            0.37225434346978997,
            0.16592266878251166,
            0.4142933844607331,
            0.4569669738939306
           ],
           "colorscale": "Jet",
           "width": 2
          },
          "opacity": 1,
          "size": 5,
          "symbol": "circle"
         },
         "mode": "markers+text",
         "text": [
          "408",
          "452",
          "391",
          "335",
          "479",
          "199",
          "442",
          "461",
          "349",
          "365",
          "396",
          "273",
          "257",
          "403",
          "90",
          "139",
          "472",
          "105",
          "208",
          "149",
          "40",
          "72",
          "195",
          "448",
          "232",
          "126",
          "115",
          "108",
          "224",
          "163",
          "457",
          "4",
          "88",
          "131",
          "67",
          "12",
          "313",
          "324",
          "104",
          "436",
          "293",
          "223",
          "187",
          "304",
          "318",
          "75",
          "303",
          "441",
          "407",
          "322",
          "367",
          "287",
          "310",
          "181",
          "443",
          "112",
          "432",
          "87",
          "9",
          "2",
          "70",
          "174",
          "429",
          "270",
          "144",
          "38",
          "230",
          "29",
          "117",
          "252",
          "422",
          "490",
          "145"
         ],
         "type": "scatter3d",
         "x": [
          0.945928,
          0.860566,
          0.555386,
          0.468964,
          0.877956,
          0.587104,
          0.27424,
          0.966149,
          0.973375,
          1.013971,
          0.958442,
          -0.185595,
          1.012702,
          -0.015991,
          -0.364863,
          0.972401,
          0.75707,
          0.259491,
          0.638254,
          0.174934,
          0.510943,
          0.555191,
          -0.54075,
          0.621137,
          -0.622076,
          0.76166,
          0.744673,
          -0.242562,
          0.814776,
          0.901474,
          0.974728,
          -0.838947,
          -0.346523,
          -0.099933,
          -0.915062,
          -0.013084,
          -0.632619,
          0.845888,
          0.780081,
          -0.372052,
          0.926408,
          0.156716,
          -0.752061,
          0.077262,
          1.005852,
          -0.736157,
          0.398835,
          -0.955989,
          -0.640271,
          0.174478,
          -1.20658,
          0.956225,
          -1.174425,
          0.946133,
          -1.2729,
          -0.70298,
          -1.181843,
          1.024768,
          0.878406,
          1.000137,
          -1.327723,
          -1.119289,
          -1.071306,
          0.489505,
          -1.374556,
          -0.940998,
          0.871664,
          -0.982952,
          0.860627,
          -1.466913,
          0.846324,
          -1.433885,
          -1.429447
         ],
         "y": [
          0.324384,
          0.51159,
          0.833887,
          0.883248,
          0.511261,
          0.82729,
          0.96866,
          -0.272752,
          -0.248473,
          -0.01087,
          0.367766,
          0.982644,
          -0.061606,
          1.009263,
          0.931325,
          -0.304151,
          -0.663237,
          0.997479,
          -0.780185,
          1.014642,
          -0.8608,
          -0.835358,
          0.851431,
          -0.7945,
          0.798093,
          -0.677166,
          0.768439,
          -0.970153,
          -0.666475,
          -0.544675,
          0.550276,
          0.654614,
          -0.974194,
          -1.053078,
          0.554602,
          -1.066381,
          -0.83378,
          0.801785,
          0.865399,
          -0.994016,
          -0.672594,
          -1.10486,
          -0.780907,
          -1.113365,
          0.658074,
          -0.849801,
          -1.124627,
          0.697179,
          -0.988329,
          -1.217883,
          0.143664,
          -0.866935,
          -0.28312,
          -0.913967,
          0.029141,
          -1.048389,
          -0.453646,
          -0.947466,
          -1.094073,
          -1.004385,
          -0.050832,
          -0.720897,
          0.889215,
          -1.333443,
          -0.170261,
          -1.010755,
          -1.217204,
          -1.005582,
          -1.269637,
          0.410096,
          -1.396987,
          0.846858,
          0.881098
         ],
         "z": [
          -0.002173,
          -0.047917,
          0.061759,
          0.007324,
          0.178,
          0.169359,
          0.115841,
          -0.08836,
          -0.095684,
          -0.166921,
          0.229021,
          -0.005982,
          -0.170105,
          0.136718,
          0.022164,
          -0.193286,
          -0.113812,
          0.245798,
          0.126209,
          0.241552,
          0.04513,
          -0.077726,
          -0.131135,
          -0.129991,
          -0.153777,
          -0.194797,
          0.36772,
          0.005763,
          0.320168,
          -0.321956,
          0.473729,
          -0.352319,
          -0.2585,
          0.335077,
          -0.367586,
          0.358477,
          -0.301747,
          0.551005,
          0.550391,
          -0.344905,
          0.518332,
          0.467335,
          -0.401553,
          0.467567,
          0.602656,
          -0.482886,
          0.590899,
          -0.576927,
          -0.56891,
          0.638427,
          -0.619625,
          0.704921,
          -0.610611,
          0.729,
          -0.686885,
          -0.675085,
          -0.67906,
          0.796719,
          0.80229,
          0.812769,
          -0.741182,
          -0.74358,
          -0.794139,
          0.814938,
          -0.788575,
          -0.785375,
          0.864359,
          -0.80461,
          0.884699,
          -0.87899,
          0.93036,
          -0.942322,
          -0.947141
         ]
        },
        {
         "autocolorscale": false,
         "marker": {
          "color": "rgb(31,119,180)",
          "line": {
           "color": "rgb(31,119,180)",
           "width": 2
          },
          "opacity": 0.5,
          "size": 5,
          "symbol": "circle"
         },
         "mode": "markers",
         "text": [
          "433",
          "205",
          "26",
          "83",
          "94",
          "425",
          "236",
          "68",
          "314",
          "328",
          "190",
          "234",
          "401",
          "486",
          "393",
          "132",
          "11",
          "54",
          "169",
          "41",
          "288",
          "5",
          "23",
          "44",
          "114",
          "382",
          "166",
          "481",
          "373",
          "387",
          "402",
          "173",
          "172",
          "350",
          "152",
          "57",
          "464",
          "385",
          "386",
          "334",
          "435",
          "291",
          "213",
          "460",
          "465",
          "298",
          "167",
          "311",
          "25",
          "459",
          "339",
          "470",
          "483",
          "477",
          "466",
          "404",
          "343",
          "78",
          "308",
          "229",
          "271",
          "397",
          "381",
          "39",
          "249",
          "398",
          "348",
          "107",
          "188",
          "268",
          "204",
          "48",
          "45",
          "453",
          "134",
          "52",
          "51",
          "439",
          "20",
          "280",
          "33",
          "254",
          "21",
          "197",
          "214",
          "170",
          "58",
          "265",
          "16",
          "233",
          "79",
          "203",
          "263",
          "84",
          "219",
          "438",
          "192",
          "142",
          "185",
          "178",
          "143",
          "65",
          "53",
          "363",
          "428",
          "85",
          "217",
          "346",
          "89",
          "154",
          "312",
          "6",
          "421",
          "274",
          "210",
          "157",
          "492",
          "158",
          "165",
          "495",
          "413",
          "309",
          "246",
          "162",
          "475",
          "61",
          "121",
          "456",
          "264",
          "494",
          "76",
          "347",
          "202",
          "478",
          "394",
          "468",
          "183",
          "281",
          "333",
          "127",
          "168",
          "156",
          "352",
          "198",
          "34",
          "296",
          "243",
          "418",
          "245",
          "380",
          "499",
          "27",
          "95",
          "267",
          "201",
          "247",
          "102",
          "437",
          "290",
          "342",
          "49",
          "125",
          "237",
          "491",
          "18",
          "151",
          "444",
          "302",
          "450",
          "353",
          "440",
          "228",
          "297",
          "59",
          "159",
          "225",
          "357",
          "392",
          "116",
          "321",
          "14",
          "161",
          "99",
          "35",
          "238",
          "91",
          "493",
          "331",
          "338",
          "122",
          "488",
          "358",
          "307",
          "369",
          "356",
          "417",
          "253",
          "360",
          "286",
          "371",
          "124",
          "473",
          "81",
          "211",
          "278",
          "150",
          "366",
          "480",
          "200",
          "399",
          "226",
          "276",
          "284",
          "351",
          "431",
          "364",
          "206",
          "135",
          "164",
          "390",
          "372",
          "269",
          "221",
          "378",
          "294",
          "359",
          "244",
          "283",
          "282",
          "222",
          "412",
          "140",
          "500",
          "111",
          "32",
          "383",
          "71",
          "3",
          "15",
          "141",
          "445",
          "148",
          "146",
          "191",
          "235",
          "1",
          "73",
          "426",
          "427",
          "315",
          "496",
          "455",
          "405",
          "180",
          "423",
          "130",
          "160",
          "74",
          "10",
          "374",
          "118",
          "47",
          "375",
          "110",
          "344",
          "414",
          "43",
          "325",
          "409",
          "93",
          "153",
          "212",
          "277",
          "37",
          "255",
          "177",
          "86",
          "330",
          "133",
          "128",
          "136",
          "323",
          "77",
          "30",
          "362",
          "471",
          "489",
          "424",
          "451",
          "106",
          "259",
          "498",
          "184",
          "218",
          "147",
          "220",
          "194",
          "326",
          "82",
          "7",
          "319",
          "469",
          "113",
          "379",
          "354",
          "186",
          "467",
          "241",
          "463",
          "60",
          "100",
          "337",
          "80",
          "216",
          "109",
          "416",
          "476",
          "13",
          "175",
          "250",
          "129",
          "248",
          "31",
          "56",
          "305",
          "301",
          "179",
          "262",
          "400",
          "123",
          "419",
          "482",
          "69",
          "97",
          "182",
          "8",
          "215",
          "189",
          "138",
          "487",
          "42",
          "66",
          "285",
          "411",
          "120",
          "196",
          "368",
          "300",
          "336",
          "497",
          "332",
          "275",
          "63",
          "24",
          "327",
          "240",
          "239",
          "474",
          "231",
          "316",
          "289",
          "50",
          "92",
          "103",
          "22",
          "227",
          "207",
          "279",
          "430",
          "64",
          "260",
          "384",
          "242",
          "46",
          "420",
          "462",
          "395",
          "446",
          "19",
          "370",
          "266",
          "355",
          "55",
          "485",
          "388",
          "434",
          "193",
          "299",
          "171",
          "345",
          "376",
          "447",
          "17",
          "361",
          "176",
          "454",
          "101",
          "261",
          "36",
          "119",
          "410",
          "458",
          "306",
          "96",
          "320",
          "62",
          "415",
          "295",
          "272",
          "406",
          "258",
          "98",
          "341",
          "449",
          "209",
          "137",
          "292",
          "251",
          "340",
          "389",
          "256",
          "484",
          "377",
          "329",
          "155",
          "28",
          "317"
         ],
         "type": "scatter3d",
         "x": [
          0.519717,
          0.952186,
          0.770597,
          -0.351154,
          -0.549803,
          0.620707,
          -0.715759,
          0.622835,
          0.616874,
          -1.000733,
          -0.778399,
          -0.877433,
          -1.006951,
          0.155643,
          -0.030415,
          -0.208318,
          -0.943563,
          1.083708,
          -0.926877,
          -0.155954,
          -0.209534,
          1.076785,
          0.109705,
          0.500092,
          -0.582329,
          0.824861,
          1.064758,
          0.920022,
          0.260363,
          0.227244,
          1.174493,
          -0.027376,
          0.268832,
          -1.061707,
          0.879887,
          0.665443,
          0.885639,
          -1.1078,
          -0.662946,
          -0.638591,
          -0.104525,
          -0.124059,
          -1.055754,
          1.143191,
          1.237241,
          -0.925568,
          -0.48709,
          -0.937755,
          -0.848585,
          0.764927,
          0.849085,
          0.304561,
          -0.51679,
          0.974072,
          0.662652,
          1.125193,
          -1.069426,
          -0.521673,
          -1.145217,
          -0.434489,
          -1.142051,
          0.594411,
          -0.166285,
          1.235139,
          -0.158772,
          -0.212531,
          -0.686608,
          1.177562,
          0.783123,
          -0.632213,
          0.613255,
          -0.245177,
          -1.239176,
          1.032392,
          -0.959607,
          -1.20124,
          1.357815,
          1.240362,
          -0.421688,
          1.396246,
          -0.301479,
          1.400417,
          -1.308345,
          -0.484688,
          -1.148793,
          0.298151,
          1.319046,
          -1.142198,
          0.121253,
          1.328663,
          -0.923357,
          -1.038457,
          0.665144,
          1.276771,
          1.297111,
          1.243887,
          -1.308765,
          0.45098,
          -1.356995,
          1.516208,
          1.507235,
          0.916524,
          0.837704,
          -1.452549,
          -1.121686,
          1.639783,
          -0.75072,
          -1.259223,
          -0.332392,
          0.657528,
          1.400115,
          1.658021,
          1.679439,
          -0.468913,
          -1.127514,
          -0.845255,
          -0.166343,
          1.699116,
          1.117862,
          1.635438,
          -0.066528,
          1.494425,
          -1.545309,
          1.756734,
          1.525102,
          1.685477,
          1.497037,
          1.664513,
          -0.270136,
          -1.045388,
          -1.323976,
          -1.245537,
          1.258628,
          -1.595916,
          1.02893,
          0.305906,
          0.493147,
          -1.493897,
          1.77962,
          1.255796,
          -1.65786,
          1.477331,
          -0.152071,
          1.584602,
          -0.688332,
          1.261874,
          -1.018514,
          0.718879,
          -0.486982,
          -0.583624,
          1.449099,
          1.263013,
          0.525832,
          1.910784,
          -0.187524,
          -1.57174,
          -1.687618,
          -1.431811,
          -1.406225,
          1.208817,
          1.632538,
          0.841203,
          1.089753,
          -1.551702,
          -1.334129,
          0.799081,
          -0.381409,
          2.002372,
          -1.829198,
          1.715232,
          -0.980623,
          1.373185,
          1.214152,
          0.598636,
          1.72517,
          1.951506,
          2.054653,
          1.204578,
          -1.848798,
          -1.013678,
          -1.916883,
          -0.186355,
          0.75862,
          1.723973,
          0.578718,
          -0.763811,
          1.271042,
          0.201775,
          -0.594981,
          0.846843,
          -1.834947,
          0.267808,
          -1.912398,
          1.958941,
          1.490842,
          -1.797801,
          -0.262739,
          -1.955703,
          1.927143,
          1.939759,
          -1.975964,
          2.231026,
          -1.577102,
          -0.053623,
          -0.529625,
          1.886055,
          1.241728,
          0.919244,
          -2.026956,
          2.188408,
          -0.112209,
          0.859549,
          -0.992133,
          0.839896,
          1.902976,
          -1.559601,
          1.596367,
          -1.408892,
          -0.491525,
          -0.235323,
          2.275337,
          1.275753,
          0.017428,
          -0.336344,
          -0.538422,
          -0.092849,
          -0.901155,
          -0.425795,
          -0.098613,
          2.303026,
          0.085934,
          -2.10275,
          -2.192871,
          -1.94923,
          -2.160387,
          1.547326,
          -0.091517,
          0.397032,
          1.933449,
          -2.099708,
          2.356163,
          2.351992,
          1.651334,
          -2.109455,
          0.566403,
          2.120459,
          -1.726607,
          2.264188,
          1.243682,
          -1.192279,
          -2.009205,
          0.360532,
          -0.72799,
          2.520054,
          -1.789464,
          0.263914,
          -2.234352,
          1.969168,
          -0.734099,
          1.186294,
          1.819414,
          2.622197,
          1.519371,
          -1.370756,
          2.139285,
          2.468665,
          -2.222597,
          -1.092845,
          -2.321075,
          2.575337,
          -0.378859,
          0.639169,
          2.450604,
          1.185565,
          1.936922,
          -0.717832,
          -1.277089,
          -1.759939,
          -1.891031,
          -1.377728,
          1.290927,
          2.504134,
          2.444342,
          0.892692,
          -0.730908,
          -1.714883,
          1.598426,
          2.630952,
          -2.505486,
          2.709637,
          1.829417,
          2.505885,
          1.007398,
          0.608317,
          1.175437,
          -2.379381,
          -2.353506,
          2.242138,
          -1.401391,
          1.433889,
          -2.017731,
          2.31851,
          -1.188355,
          -2.48776,
          -1.89205,
          0.304689,
          2.41902,
          2.748978,
          1.44394,
          -0.133298,
          2.710658,
          -2.031028,
          2.164648,
          -2.055366,
          0.428002,
          2.443703,
          -2.543311,
          2.35805,
          -2.297733,
          2.726145,
          2.437085,
          1.15518,
          2.732345,
          0.636697,
          2.872862,
          2.292781,
          2.437503,
          -0.748907,
          2.124332,
          2.8807,
          1.35169,
          0.993402,
          2.853017,
          2.888333,
          2.466972,
          2.833536,
          -0.012578,
          -1.865326,
          0.855289,
          0.436522,
          -2.178554,
          1.632942,
          2.423637,
          -2.077479,
          0.69903,
          1.479061,
          -0.007737,
          2.813543,
          -1.735488,
          0.749971,
          -1.07975,
          2.945998,
          1.122627,
          1.640435,
          1.154222,
          -1.91326,
          -1.243493,
          -0.116131,
          2.112955,
          2.368225,
          1.902529,
          -0.516533,
          -0.629886,
          2.348431,
          -1.074265,
          2.191978,
          2.150699,
          2.077604,
          1.591118,
          2.191339,
          1.785637,
          1.684771,
          1.793905,
          -2.607681,
          -2.304015,
          -2.783574,
          1.162031,
          -2.688796,
          -2.014385,
          -2.325958,
          -1.139908,
          -1.811713,
          -0.231374,
          -2.651221,
          0.782793,
          1.013209,
          -2.027346,
          0.275691,
          -2.844869,
          -2.762797,
          -2.813818,
          0.980808,
          -1.540735,
          -2.619095,
          -2.677578,
          -0.649587,
          -0.166622,
          -2.7064,
          -2.692146,
          -2.711644,
          -2.206685,
          -2.887274,
          -2.903931,
          -1.622406,
          -1.863544,
          -1.730932,
          -1.724028,
          -2.970846,
          -0.135681,
          -0.692775,
          -2.707843,
          -2.811972,
          -1.236053,
          -2.304883,
          -2.173654,
          -2.535111,
          -1.373053,
          -1.888629,
          -2.984478,
          -2.949301,
          -2.933735,
          -2.064619,
          -1.180339,
          -1.250651,
          -2.84127,
          -1.759527,
          -1.857766
         ],
         "y": [
          0.87067,
          -0.313858,
          -0.641042,
          0.94259,
          0.8694,
          -0.814077,
          0.730993,
          -0.82065,
          -0.827165,
          -0.009606,
          0.672239,
          0.532563,
          0.065576,
          1.060466,
          1.070628,
          1.047751,
          0.425519,
          -0.089292,
          -0.42092,
          1.0733,
          1.073335,
          -0.279518,
          1.112744,
          -0.976018,
          -0.885159,
          -0.744775,
          -0.449133,
          -0.668037,
          1.137331,
          -1.077495,
          -0.151436,
          1.162095,
          1.143006,
          -0.26021,
          -0.741347,
          0.984445,
          0.795294,
          -0.051991,
          -0.889022,
          0.982171,
          1.196092,
          1.193868,
          0.4667,
          0.454345,
          -0.161157,
          -0.666952,
          1.098197,
          0.73599,
          -0.788624,
          0.996672,
          -0.869014,
          1.228044,
          1.130144,
          0.813963,
          1.109226,
          -0.539103,
          0.577902,
          -1.078762,
          0.3921,
          1.190341,
          0.420749,
          1.150211,
          -1.201012,
          0.588122,
          1.311416,
          1.29667,
          1.112638,
          0.732655,
          -1.068195,
          1.180339,
          1.272209,
          -1.267086,
          -0.323266,
          0.943627,
          0.950713,
          0.556489,
          0.51702,
          -0.686481,
          1.315557,
          -0.330629,
          1.371634,
          0.19551,
          0.279981,
          -1.254848,
          -0.652766,
          -1.334688,
          0.756709,
          0.802183,
          1.462667,
          0.665613,
          -1.026255,
          -0.903668,
          1.3493,
          -0.805895,
          0.798115,
          0.882111,
          -0.476828,
          1.477416,
          -0.3678,
          0.149953,
          0.249443,
          -1.176223,
          -1.230425,
          0.013004,
          1.008324,
          0.183391,
          -1.279284,
          -0.756012,
          1.544303,
          -1.371461,
          -0.719644,
          -0.127256,
          0.040023,
          1.536565,
          1.139666,
          1.359507,
          1.644206,
          -0.23562,
          1.29631,
          -0.222303,
          1.671787,
          -0.676325,
          0.012639,
          0.181649,
          -0.809543,
          -0.532565,
          0.981263,
          -0.604529,
          1.704672,
          1.352567,
          1.022574,
          1.129474,
          1.255111,
          0.394154,
          -1.348208,
          -1.648289,
          -1.611021,
          0.852934,
          -0.112036,
          -1.31139,
          -0.211301,
          -0.957139,
          1.798242,
          -0.952472,
          1.650641,
          -1.229321,
          -1.336164,
          -1.587098,
          -1.629661,
          1.728966,
          1.190508,
          -1.395701,
          -1.765473,
          -0.426584,
          1.891679,
          0.922828,
          0.510104,
          -0.988243,
          -1.031012,
          -1.379662,
          -1.089949,
          1.754905,
          -1.595407,
          -0.828869,
          1.330319,
          -1.652645,
          1.911662,
          -0.401626,
          -0.155877,
          0.988269,
          1.698593,
          1.517105,
          -1.608742,
          1.93442,
          -1.11876,
          -0.723009,
          -0.417574,
          -1.517099,
          0.199898,
          1.711864,
          0.041332,
          2.050523,
          1.960448,
          1.258338,
          -1.955114,
          -1.773864,
          1.674484,
          2.105578,
          2.01874,
          -1.810992,
          0.701255,
          -1.958229,
          0.3861,
          -0.967108,
          -1.566041,
          0.988626,
          2.122117,
          0.610467,
          -1.095619,
          0.942812,
          0.088459,
          -0.332112,
          -1.1798,
          -2.082179,
          -1.925611,
          -1.218024,
          1.876311,
          -1.986291,
          -0.227119,
          0.165917,
          2.223587,
          -1.917767,
          -1.770725,
          -1.931125,
          1.136759,
          1.509145,
          -1.457719,
          1.677778,
          -1.990445,
          2.248901,
          0.594992,
          1.884159,
          -2.176726,
          -2.069856,
          2.21536,
          2.312587,
          2.110552,
          2.25892,
          -2.201301,
          0.739208,
          2.349857,
          0.503028,
          0.036944,
          -0.88846,
          -0.276139,
          1.793527,
          -2.245004,
          -2.255655,
          -1.473477,
          0.8542,
          -0.181654,
          -0.740186,
          -1.619211,
          0.871144,
          -2.180828,
          1.1083,
          -1.287467,
          -1.030822,
          -2.09332,
          2.100756,
          1.077164,
          2.437059,
          -2.13388,
          -0.320433,
          1.512129,
          -2.363826,
          0.79541,
          -1.454415,
          -2.135682,
          2.278684,
          1.768067,
          -0.167885,
          2.045708,
          2.136542,
          1.499341,
          -0.63861,
          1.074596,
          -2.07693,
          -0.504554,
          -0.805418,
          2.592892,
          2.569293,
          1.126727,
          2.406043,
          1.790021,
          -2.316215,
          -2.001433,
          -1.568762,
          -1.402344,
          2.263007,
          -2.334671,
          -1.112427,
          -1.023003,
          2.529141,
          2.556075,
          -1.653019,
          -2.067025,
          0.581919,
          -0.018492,
          0.08072,
          -1.934067,
          1.230872,
          2.586554,
          2.702648,
          2.518543,
          -0.563372,
          1.174574,
          1.689089,
          2.314142,
          -2.255364,
          1.783824,
          1.595986,
          -2.14395,
          -0.179126,
          1.954582,
          2.789075,
          -1.504441,
          -0.788691,
          2.371799,
          2.826359,
          -0.700241,
          1.765538,
          -1.87902,
          -1.418041,
          -2.65285,
          1.485481,
          0.072327,
          -1.521096,
          1.431653,
          -0.964729,
          1.390055,
          -2.551745,
          0.96644,
          2.821223,
          -0.068941,
          -1.841214,
          -1.652646,
          2.80008,
          1.929049,
          -0.645173,
          2.590641,
          -2.657087,
          0.766352,
          0.626546,
          -1.560046,
          0.663001,
          2.945973,
          2.143481,
          2.815808,
          -2.751434,
          -1.404026,
          2.456047,
          -1.70814,
          1.966277,
          -2.67888,
          -2.531597,
          2.959878,
          -1.011317,
          2.344687,
          2.885896,
          2.755658,
          -0.518923,
          2.759105,
          2.456925,
          -2.67735,
          2.157329,
          2.69289,
          2.995378,
          2.105509,
          1.829866,
          -2.317816,
          2.954148,
          2.922056,
          1.86314,
          2.765823,
          2.020247,
          2.088593,
          2.144203,
          2.53431,
          2.048534,
          2.395814,
          -2.477952,
          2.395452,
          1.172283,
          1.776793,
          0.152993,
          -2.681437,
          -0.494438,
          2.192285,
          -1.338057,
          -2.41357,
          2.383532,
          -2.799098,
          -0.521381,
          -2.830637,
          -2.800148,
          2.204855,
          -2.87195,
          0.246734,
          -0.398528,
          0.812813,
          -2.828886,
          -2.234496,
          1.44191,
          1.267118,
          -2.712278,
          -2.888043,
          1.293823,
          1.322082,
          -0.663681,
          -1.641353,
          0.750956,
          0.389044,
          -2.248554,
          -2.047424,
          -2.184062,
          -2.200459,
          0.415959,
          -2.960721,
          -2.80598,
          -0.988968,
          -0.743059,
          -2.570733,
          -1.708244,
          -1.860991,
          -1.413107,
          -2.547876,
          -2.176493,
          -0.27324,
          -0.405064,
          -0.528872,
          -2.039535,
          -2.674865,
          -2.695216,
          -0.957431,
          -2.365574,
          -2.315109
         ],
         "z": [
          0.166675,
          0.071776,
          -0.068871,
          0.108245,
          -0.237689,
          -0.216504,
          0.213535,
          -0.244051,
          -0.250412,
          -0.039471,
          0.237035,
          0.228292,
          -0.134481,
          -0.372149,
          -0.370231,
          -0.363124,
          0.26252,
          -0.408809,
          -0.188754,
          -0.40248,
          0.422412,
          -0.460755,
          0.47151,
          0.428963,
          0.339891,
          -0.458575,
          0.535726,
          -0.505163,
          0.552899,
          -0.438354,
          0.578355,
          0.546311,
          -0.563956,
          0.421409,
          -0.52769,
          -0.58401,
          -0.586864,
          0.454042,
          0.453982,
          0.560018,
          0.600867,
          0.600395,
          0.53367,
          -0.638247,
          0.658812,
          0.511697,
          0.601824,
          0.589298,
          -0.540191,
          -0.668592,
          -0.619446,
          0.678334,
          -0.653065,
          -0.682796,
          0.7063,
          -0.658791,
          -0.620234,
          0.597697,
          0.613726,
          -0.6804,
          0.622137,
          -0.708933,
          -0.616274,
          0.774978,
          -0.734131,
          0.727575,
          -0.721358,
          0.789989,
          0.737368,
          0.750377,
          0.80908,
          -0.704795,
          0.694645,
          -0.798997,
          -0.760631,
          0.736791,
          0.837079,
          0.812944,
          0.785776,
          0.824994,
          -0.803263,
          -0.81031,
          0.749475,
          0.755803,
          0.734413,
          -0.774629,
          0.877644,
          0.796793,
          0.846546,
          -0.857828,
          0.784999,
          0.781897,
          -0.868514,
          0.871631,
          -0.878895,
          -0.879941,
          0.794642,
          0.890345,
          0.804433,
          -0.879231,
          -0.881457,
          -0.860853,
          -0.859295,
          0.836876,
          0.870751,
          0.936752,
          0.856161,
          -0.847209,
          0.907371,
          -0.87778,
          -0.904833,
          0.941468,
          0.947389,
          0.919334,
          -0.917888,
          0.916885,
          -0.937716,
          0.958639,
          0.957551,
          -0.936928,
          -0.945063,
          -0.933084,
          0.890676,
          0.972261,
          0.961913,
          0.972624,
          0.977695,
          0.973401,
          0.961714,
          -0.956865,
          0.944987,
          0.947886,
          -0.974929,
          0.934436,
          -0.952667,
          -0.946206,
          -0.949028,
          -0.96007,
          -0.976203,
          0.98287,
          -0.944424,
          -0.970845,
          0.980736,
          0.988507,
          0.977359,
          -0.97119,
          -0.947448,
          -0.966229,
          -0.954211,
          0.984535,
          -0.99221,
          0.993053,
          0.987458,
          0.99911,
          -0.995083,
          -0.984144,
          0.971516,
          0.96554,
          0.966595,
          -0.986178,
          0.999313,
          -0.998546,
          0.99769,
          0.970576,
          -0.993255,
          -0.986409,
          -0.998716,
          0.999107,
          -0.986432,
          -0.999791,
          -0.999252,
          0.998929,
          0.99988,
          -0.999689,
          0.998421,
          0.996703,
          0.995318,
          -0.998024,
          0.990091,
          0.999945,
          -0.996577,
          0.99826,
          0.994773,
          0.990932,
          0.99924,
          0.997639,
          -0.994759,
          0.99334,
          -0.994515,
          -1,
          0.999365,
          -0.999723,
          0.998798,
          0.982802,
          0.986758,
          -0.998663,
          0.990388,
          -0.99881,
          0.976213,
          -0.987639,
          0.999757,
          0.96678,
          -0.999537,
          0.99656,
          -0.999996,
          0.96948,
          0.96825,
          0.982037,
          -0.999214,
          -0.980865,
          -0.974031,
          -0.994827,
          0.999558,
          -0.99438,
          -0.976249,
          -0.985405,
          -0.986825,
          -0.981615,
          -0.998737,
          -0.96529,
          0.936058,
          -0.96132,
          0.984248,
          -0.995284,
          0.960044,
          -0.949274,
          -0.955532,
          0.954347,
          0.979073,
          0.908101,
          0.936215,
          0.986777,
          -0.981163,
          -0.989843,
          -0.984037,
          -0.92953,
          0.969049,
          0.956926,
          0.902391,
          -0.963749,
          -0.931729,
          0.884936,
          -0.94984,
          -0.959339,
          -0.967419,
          -0.919697,
          0.988106,
          0.872956,
          0.900479,
          -0.909587,
          0.960078,
          -0.886054,
          0.967035,
          0.841444,
          0.939408,
          0.925596,
          -0.928349,
          -0.894009,
          -0.966058,
          0.822346,
          -0.843587,
          0.778563,
          -0.836336,
          -0.842651,
          0.790559,
          -0.835212,
          -0.883334,
          0.937901,
          -0.926911,
          0.715762,
          0.784267,
          -0.761978,
          0.716861,
          0.731094,
          -0.770539,
          0.905241,
          0.92736,
          -0.933865,
          0.935145,
          -0.760445,
          0.744337,
          0.672491,
          -0.760121,
          -0.731295,
          0.75256,
          0.924217,
          -0.790114,
          -0.719455,
          -0.862795,
          -0.703355,
          -0.749315,
          0.610697,
          0.630969,
          0.637727,
          0.626606,
          0.895448,
          -0.77633,
          0.59032,
          0.708817,
          -0.740021,
          -0.720756,
          0.579852,
          -0.892389,
          0.869348,
          -0.693622,
          -0.592368,
          0.528901,
          0.510496,
          -0.629798,
          -0.558506,
          -0.600474,
          0.722727,
          0.4993,
          -0.867709,
          0.726512,
          0.510666,
          0.838865,
          -0.591795,
          -0.706963,
          0.452409,
          -0.592401,
          0.598607,
          0.439534,
          -0.451687,
          -0.486484,
          0.339619,
          0.32725,
          -0.43897,
          -0.493936,
          0.305901,
          0.387026,
          0.547637,
          0.299328,
          0.294966,
          -0.394604,
          -0.414459,
          -0.324166,
          0.540304,
          -0.333253,
          0.618421,
          -0.80609,
          0.314218,
          -0.261917,
          -0.509538,
          -0.639752,
          0.362468,
          0.280383,
          -0.1426,
          -0.398655,
          0.19016,
          -0.281208,
          -0.131233,
          0.205057,
          -0.299054,
          0.402204,
          0.468411,
          -0.258053,
          -0.068826,
          0.18409,
          0.119719,
          0.051985,
          -0.045465,
          0.146738,
          0.067258,
          0.254307,
          -0.194174,
          0.063934,
          -0.168862,
          -0.123155,
          0.02267,
          -0.154155,
          0.084216,
          -0.120564,
          -0.511868,
          -0.415595,
          -0.615963,
          -0.386236,
          -0.679281,
          -0.212212,
          -0.730072,
          -0.743069,
          0.110148,
          0.588298,
          0.712176,
          0.349647,
          0.209438,
          0.097364,
          0.465301,
          -0.517723,
          -0.611309,
          -0.370425,
          -0.108553,
          -0.69995,
          -0.14263,
          0.272116,
          -0.614418,
          0.450364,
          -0.02175,
          0.03851,
          0.610934,
          0.661232,
          0.181801,
          0.367875,
          -0.634699,
          0.639818,
          -0.617209,
          -0.606078,
          0.018705,
          -0.266525,
          -0.4555,
          -0.469771,
          -0.417902,
          -0.522802,
          -0.49499,
          0.507793,
          -0.430995,
          0.447476,
          -0.47186,
          0.077917,
          0.213298,
          -0.193883,
          -0.431466,
          -0.383084,
          -0.238068,
          0.059169,
          0.317677,
          -0.249645
         ]
        },
        {
         "line": {
          "color": "#1f77b4",
          "width": 1.5
         },
         "mode": "lines",
         "name": "Dim 1 Faces",
         "opacity": 0.5,
         "type": "scatter3d",
         "x": [
          1.000137,
          0.878406
         ],
         "y": [
          -1.004385,
          -1.094073
         ],
         "z": [
          0.812769,
          0.80229
         ]
        },
        {
         "line": {
          "color": "#1f77b4",
          "width": 1.5
         },
         "mode": "lines",
         "name": "edge (2,87)",
         "opacity": 0.5,
         "showlegend": false,
         "type": "scatter3d",
         "x": [
          1.000137,
          1.024768
         ],
         "y": [
          -1.004385,
          -0.947466
         ],
         "z": [
          0.812769,
          0.796719
         ]
        },
        {
         "line": {
          "color": "#1f77b4",
          "width": 1.5
         },
         "mode": "lines",
         "name": "edge (4,67)",
         "opacity": 0.5,
         "showlegend": false,
         "type": "scatter3d",
         "x": [
          -0.838947,
          -0.915062
         ],
         "y": [
          0.654614,
          0.554602
         ],
         "z": [
          -0.352319,
          -0.367586
         ]
        },
        {
         "line": {
          "color": "#1f77b4",
          "width": 1.5
         },
         "mode": "lines",
         "name": "edge (4,232)",
         "opacity": 0.5,
         "showlegend": false,
         "type": "scatter3d",
         "x": [
          -0.838947,
          -0.622076
         ],
         "y": [
          0.654614,
          0.798093
         ],
         "z": [
          -0.352319,
          -0.153777
         ]
        },
        {
         "line": {
          "color": "#1f77b4",
          "width": 1.5
         },
         "mode": "lines",
         "name": "edge (9,230)",
         "opacity": 0.5,
         "showlegend": false,
         "type": "scatter3d",
         "x": [
          0.878406,
          0.871664
         ],
         "y": [
          -1.094073,
          -1.217204
         ],
         "z": [
          0.80229,
          0.864359
         ]
        },
        {
         "line": {
          "color": "#1f77b4",
          "width": 1.5
         },
         "mode": "lines",
         "name": "edge (12,131)",
         "opacity": 0.5,
         "showlegend": false,
         "type": "scatter3d",
         "x": [
          -0.013084,
          -0.099933
         ],
         "y": [
          -1.066381,
          -1.053078
         ],
         "z": [
          0.358477,
          0.335077
         ]
        },
        {
         "line": {
          "color": "#1f77b4",
          "width": 1.5
         },
         "mode": "lines",
         "name": "edge (12,304)",
         "opacity": 0.5,
         "showlegend": false,
         "type": "scatter3d",
         "x": [
          -0.013084,
          0.077262
         ],
         "y": [
          -1.066381,
          -1.113365
         ],
         "z": [
          0.358477,
          0.467567
         ]
        },
        {
         "line": {
          "color": "#1f77b4",
          "width": 1.5
         },
         "mode": "lines",
         "name": "edge (29,38)",
         "opacity": 0.5,
         "showlegend": false,
         "type": "scatter3d",
         "x": [
          -0.982952,
          -0.940998
         ],
         "y": [
          -1.005582,
          -1.010755
         ],
         "z": [
          -0.80461,
          -0.785375
         ]
        },
        {
         "line": {
          "color": "#1f77b4",
          "width": 1.5
         },
         "mode": "lines",
         "name": "edge (29,174)",
         "opacity": 0.5,
         "showlegend": false,
         "type": "scatter3d",
         "x": [
          -0.982952,
          -1.119289
         ],
         "y": [
          -1.005582,
          -0.720897
         ],
         "z": [
          -0.80461,
          -0.74358
         ]
        },
        {
         "line": {
          "color": "#1f77b4",
          "width": 1.5
         },
         "mode": "lines",
         "name": "edge (38,112)",
         "opacity": 0.5,
         "showlegend": false,
         "type": "scatter3d",
         "x": [
          -0.940998,
          -0.70298
         ],
         "y": [
          -1.010755,
          -1.048389
         ],
         "z": [
          -0.785375,
          -0.675085
         ]
        },
        {
         "line": {
          "color": "#1f77b4",
          "width": 1.5
         },
         "mode": "lines",
         "name": "edge (40,72)",
         "opacity": 0.5,
         "showlegend": false,
         "type": "scatter3d",
         "x": [
          0.510943,
          0.555191
         ],
         "y": [
          -0.8608,
          -0.835358
         ],
         "z": [
          0.04513,
          -0.077726
         ]
        },
        {
         "line": {
          "color": "#1f77b4",
          "width": 1.5
         },
         "mode": "lines",
         "name": "edge (40,208)",
         "opacity": 0.5,
         "showlegend": false,
         "type": "scatter3d",
         "x": [
          0.510943,
          0.638254
         ],
         "y": [
          -0.8608,
          -0.780185
         ],
         "z": [
          0.04513,
          0.126209
         ]
        },
        {
         "line": {
          "color": "#1f77b4",
          "width": 1.5
         },
         "mode": "lines",
         "name": "edge (67,441)",
         "opacity": 0.5,
         "showlegend": false,
         "type": "scatter3d",
         "x": [
          -0.915062,
          -0.955989
         ],
         "y": [
          0.554602,
          0.697179
         ],
         "z": [
          -0.367586,
          -0.576927
         ]
        },
        {
         "line": {
          "color": "#1f77b4",
          "width": 1.5
         },
         "mode": "lines",
         "name": "edge (70,144)",
         "opacity": 0.5,
         "showlegend": false,
         "type": "scatter3d",
         "x": [
          -1.327723,
          -1.374556
         ],
         "y": [
          -0.050832,
          -0.170261
         ],
         "z": [
          -0.741182,
          -0.788575
         ]
        },
        {
         "line": {
          "color": "#1f77b4",
          "width": 1.5
         },
         "mode": "lines",
         "name": "edge (70,443)",
         "opacity": 0.5,
         "showlegend": false,
         "type": "scatter3d",
         "x": [
          -1.327723,
          -1.2729
         ],
         "y": [
          -0.050832,
          0.029141
         ],
         "z": [
          -0.741182,
          -0.686885
         ]
        },
        {
         "line": {
          "color": "#1f77b4",
          "width": 1.5
         },
         "mode": "lines",
         "name": "edge (72,448)",
         "opacity": 0.5,
         "showlegend": false,
         "type": "scatter3d",
         "x": [
          0.555191,
          0.621137
         ],
         "y": [
          -0.835358,
          -0.7945
         ],
         "z": [
          -0.077726,
          -0.129991
         ]
        },
        {
         "line": {
          "color": "#1f77b4",
          "width": 1.5
         },
         "mode": "lines",
         "name": "edge (75,187)",
         "opacity": 0.5,
         "showlegend": false,
         "type": "scatter3d",
         "x": [
          -0.736157,
          -0.752061
         ],
         "y": [
          -0.849801,
          -0.780907
         ],
         "z": [
          -0.482886,
          -0.401553
         ]
        },
        {
         "line": {
          "color": "#1f77b4",
          "width": 1.5
         },
         "mode": "lines",
         "name": "edge (75,407)",
         "opacity": 0.5,
         "showlegend": false,
         "type": "scatter3d",
         "x": [
          -0.736157,
          -0.640271
         ],
         "y": [
          -0.849801,
          -0.988329
         ],
         "z": [
          -0.482886,
          -0.56891
         ]
        },
        {
         "line": {
          "color": "#1f77b4",
          "width": 1.5
         },
         "mode": "lines",
         "name": "edge (87,181)",
         "opacity": 0.5,
         "showlegend": false,
         "type": "scatter3d",
         "x": [
          1.024768,
          0.946133
         ],
         "y": [
          -0.947466,
          -0.913967
         ],
         "z": [
          0.796719,
          0.729
         ]
        },
        {
         "line": {
          "color": "#1f77b4",
          "width": 1.5
         },
         "mode": "lines",
         "name": "edge (88,108)",
         "opacity": 0.5,
         "showlegend": false,
         "type": "scatter3d",
         "x": [
          -0.346523,
          -0.242562
         ],
         "y": [
          -0.974194,
          -0.970153
         ],
         "z": [
          -0.2585,
          0.005763
         ]
        },
        {
         "line": {
          "color": "#1f77b4",
          "width": 1.5
         },
         "mode": "lines",
         "name": "edge (88,436)",
         "opacity": 0.5,
         "showlegend": false,
         "type": "scatter3d",
         "x": [
          -0.346523,
          -0.372052
         ],
         "y": [
          -0.974194,
          -0.994016
         ],
         "z": [
          -0.2585,
          -0.344905
         ]
        },
        {
         "line": {
          "color": "#1f77b4",
          "width": 1.5
         },
         "mode": "lines",
         "name": "edge (90,195)",
         "opacity": 0.5,
         "showlegend": false,
         "type": "scatter3d",
         "x": [
          -0.364863,
          -0.54075
         ],
         "y": [
          0.931325,
          0.851431
         ],
         "z": [
          0.022164,
          -0.131135
         ]
        },
        {
         "line": {
          "color": "#1f77b4",
          "width": 1.5
         },
         "mode": "lines",
         "name": "edge (90,273)",
         "opacity": 0.5,
         "showlegend": false,
         "type": "scatter3d",
         "x": [
          -0.364863,
          -0.185595
         ],
         "y": [
          0.931325,
          0.982644
         ],
         "z": [
          0.022164,
          -0.005982
         ]
        },
        {
         "line": {
          "color": "#1f77b4",
          "width": 1.5
         },
         "mode": "lines",
         "name": "edge (104,115)",
         "opacity": 0.5,
         "showlegend": false,
         "type": "scatter3d",
         "x": [
          0.780081,
          0.744673
         ],
         "y": [
          0.865399,
          0.768439
         ],
         "z": [
          0.550391,
          0.36772
         ]
        },
        {
         "line": {
          "color": "#1f77b4",
          "width": 1.5
         },
         "mode": "lines",
         "name": "edge (104,324)",
         "opacity": 0.5,
         "showlegend": false,
         "type": "scatter3d",
         "x": [
          0.780081,
          0.845888
         ],
         "y": [
          0.865399,
          0.801785
         ],
         "z": [
          0.550391,
          0.551005
         ]
        },
        {
         "line": {
          "color": "#1f77b4",
          "width": 1.5
         },
         "mode": "lines",
         "name": "edge (105,149)",
         "opacity": 0.5,
         "showlegend": false,
         "type": "scatter3d",
         "x": [
          0.259491,
          0.174934
         ],
         "y": [
          0.997479,
          1.014642
         ],
         "z": [
          0.245798,
          0.241552
         ]
        },
        {
         "line": {
          "color": "#1f77b4",
          "width": 1.5
         },
         "mode": "lines",
         "name": "edge (105,442)",
         "opacity": 0.5,
         "showlegend": false,
         "type": "scatter3d",
         "x": [
          0.259491,
          0.27424
         ],
         "y": [
          0.997479,
          0.96866
         ],
         "z": [
          0.245798,
          0.115841
         ]
        },
        {
         "line": {
          "color": "#1f77b4",
          "width": 1.5
         },
         "mode": "lines",
         "name": "edge (108,131)",
         "opacity": 0.5,
         "showlegend": false,
         "type": "scatter3d",
         "x": [
          -0.242562,
          -0.099933
         ],
         "y": [
          -0.970153,
          -1.053078
         ],
         "z": [
          0.005763,
          0.335077
         ]
        },
        {
         "line": {
          "color": "#1f77b4",
          "width": 1.5
         },
         "mode": "lines",
         "name": "edge (112,407)",
         "opacity": 0.5,
         "showlegend": false,
         "type": "scatter3d",
         "x": [
          -0.70298,
          -0.640271
         ],
         "y": [
          -1.048389,
          -0.988329
         ],
         "z": [
          -0.675085,
          -0.56891
         ]
        },
        {
         "line": {
          "color": "#1f77b4",
          "width": 1.5
         },
         "mode": "lines",
         "name": "edge (115,199)",
         "opacity": 0.5,
         "showlegend": false,
         "type": "scatter3d",
         "x": [
          0.744673,
          0.587104
         ],
         "y": [
          0.768439,
          0.82729
         ],
         "z": [
          0.36772,
          0.169359
         ]
        },
        {
         "line": {
          "color": "#1f77b4",
          "width": 1.5
         },
         "mode": "lines",
         "name": "edge (117,230)",
         "opacity": 0.5,
         "showlegend": false,
         "type": "scatter3d",
         "x": [
          0.860627,
          0.871664
         ],
         "y": [
          -1.269637,
          -1.217204
         ],
         "z": [
          0.884699,
          0.864359
         ]
        },
        {
         "line": {
          "color": "#1f77b4",
          "width": 1.5
         },
         "mode": "lines",
         "name": "edge (117,422)",
         "opacity": 0.5,
         "showlegend": false,
         "type": "scatter3d",
         "x": [
          0.860627,
          0.846324
         ],
         "y": [
          -1.269637,
          -1.396987
         ],
         "z": [
          0.884699,
          0.93036
         ]
        },
        {
         "line": {
          "color": "#1f77b4",
          "width": 1.5
         },
         "mode": "lines",
         "name": "edge (126,163)",
         "opacity": 0.5,
         "showlegend": false,
         "type": "scatter3d",
         "x": [
          0.76166,
          0.901474
         ],
         "y": [
          -0.677166,
          -0.544675
         ],
         "z": [
          -0.194797,
          -0.321956
         ]
        },
        {
         "line": {
          "color": "#1f77b4",
          "width": 1.5
         },
         "mode": "lines",
         "name": "edge (126,472)",
         "opacity": 0.5,
         "showlegend": false,
         "type": "scatter3d",
         "x": [
          0.76166,
          0.75707
         ],
         "y": [
          -0.677166,
          -0.663237
         ],
         "z": [
          -0.194797,
          -0.113812
         ]
        },
        {
         "line": {
          "color": "#1f77b4",
          "width": 1.5
         },
         "mode": "lines",
         "name": "edge (139,163)",
         "opacity": 0.5,
         "showlegend": false,
         "type": "scatter3d",
         "x": [
          0.972401,
          0.901474
         ],
         "y": [
          -0.304151,
          -0.544675
         ],
         "z": [
          -0.193286,
          -0.321956
         ]
        },
        {
         "line": {
          "color": "#1f77b4",
          "width": 1.5
         },
         "mode": "lines",
         "name": "edge (139,461)",
         "opacity": 0.5,
         "showlegend": false,
         "type": "scatter3d",
         "x": [
          0.972401,
          0.966149
         ],
         "y": [
          -0.304151,
          -0.272752
         ],
         "z": [
          -0.193286,
          -0.08836
         ]
        },
        {
         "line": {
          "color": "#1f77b4",
          "width": 1.5
         },
         "mode": "lines",
         "name": "edge (144,310)",
         "opacity": 0.5,
         "showlegend": false,
         "type": "scatter3d",
         "x": [
          -1.374556,
          -1.174425
         ],
         "y": [
          -0.170261,
          -0.28312
         ],
         "z": [
          -0.788575,
          -0.610611
         ]
        },
        {
         "line": {
          "color": "#1f77b4",
          "width": 1.5
         },
         "mode": "lines",
         "name": "edge (145,429)",
         "opacity": 0.5,
         "showlegend": false,
         "type": "scatter3d",
         "x": [
          -1.429447,
          -1.071306
         ],
         "y": [
          0.881098,
          0.889215
         ],
         "z": [
          -0.947141,
          -0.794139
         ]
        },
        {
         "line": {
          "color": "#1f77b4",
          "width": 1.5
         },
         "mode": "lines",
         "name": "edge (145,490)",
         "opacity": 0.5,
         "showlegend": false,
         "type": "scatter3d",
         "x": [
          -1.429447,
          -1.433885
         ],
         "y": [
          0.881098,
          0.846858
         ],
         "z": [
          -0.947141,
          -0.942322
         ]
        },
        {
         "line": {
          "color": "#1f77b4",
          "width": 1.5
         },
         "mode": "lines",
         "name": "edge (149,403)",
         "opacity": 0.5,
         "showlegend": false,
         "type": "scatter3d",
         "x": [
          0.174934,
          -0.015991
         ],
         "y": [
          1.014642,
          1.009263
         ],
         "z": [
          0.241552,
          0.136718
         ]
        },
        {
         "line": {
          "color": "#1f77b4",
          "width": 1.5
         },
         "mode": "lines",
         "name": "edge (174,432)",
         "opacity": 0.5,
         "showlegend": false,
         "type": "scatter3d",
         "x": [
          -1.119289,
          -1.181843
         ],
         "y": [
          -0.720897,
          -0.453646
         ],
         "z": [
          -0.74358,
          -0.67906
         ]
        },
        {
         "line": {
          "color": "#1f77b4",
          "width": 1.5
         },
         "mode": "lines",
         "name": "edge (181,287)",
         "opacity": 0.5,
         "showlegend": false,
         "type": "scatter3d",
         "x": [
          0.946133,
          0.956225
         ],
         "y": [
          -0.913967,
          -0.866935
         ],
         "z": [
          0.729,
          0.704921
         ]
        },
        {
         "line": {
          "color": "#1f77b4",
          "width": 1.5
         },
         "mode": "lines",
         "name": "edge (187,313)",
         "opacity": 0.5,
         "showlegend": false,
         "type": "scatter3d",
         "x": [
          -0.752061,
          -0.632619
         ],
         "y": [
          -0.780907,
          -0.83378
         ],
         "z": [
          -0.401553,
          -0.301747
         ]
        },
        {
         "line": {
          "color": "#1f77b4",
          "width": 1.5
         },
         "mode": "lines",
         "name": "edge (195,232)",
         "opacity": 0.5,
         "showlegend": false,
         "type": "scatter3d",
         "x": [
          -0.54075,
          -0.622076
         ],
         "y": [
          0.851431,
          0.798093
         ],
         "z": [
          -0.131135,
          -0.153777
         ]
        },
        {
         "line": {
          "color": "#1f77b4",
          "width": 1.5
         },
         "mode": "lines",
         "name": "edge (199,391)",
         "opacity": 0.5,
         "showlegend": false,
         "type": "scatter3d",
         "x": [
          0.587104,
          0.555386
         ],
         "y": [
          0.82729,
          0.833887
         ],
         "z": [
          0.169359,
          0.061759
         ]
        },
        {
         "line": {
          "color": "#1f77b4",
          "width": 1.5
         },
         "mode": "lines",
         "name": "edge (208,224)",
         "opacity": 0.5,
         "showlegend": false,
         "type": "scatter3d",
         "x": [
          0.638254,
          0.814776
         ],
         "y": [
          -0.780185,
          -0.666475
         ],
         "z": [
          0.126209,
          0.320168
         ]
        },
        {
         "line": {
          "color": "#1f77b4",
          "width": 1.5
         },
         "mode": "lines",
         "name": "edge (223,304)",
         "opacity": 0.5,
         "showlegend": false,
         "type": "scatter3d",
         "x": [
          0.156716,
          0.077262
         ],
         "y": [
          -1.10486,
          -1.113365
         ],
         "z": [
          0.467335,
          0.467567
         ]
        },
        {
         "line": {
          "color": "#1f77b4",
          "width": 1.5
         },
         "mode": "lines",
         "name": "edge (223,322)",
         "opacity": 0.5,
         "showlegend": false,
         "type": "scatter3d",
         "x": [
          0.156716,
          0.174478
         ],
         "y": [
          -1.10486,
          -1.217883
         ],
         "z": [
          0.467335,
          0.638427
         ]
        },
        {
         "line": {
          "color": "#1f77b4",
          "width": 1.5
         },
         "mode": "lines",
         "name": "edge (224,293)",
         "opacity": 0.5,
         "showlegend": false,
         "type": "scatter3d",
         "x": [
          0.814776,
          0.926408
         ],
         "y": [
          -0.666475,
          -0.672594
         ],
         "z": [
          0.320168,
          0.518332
         ]
        },
        {
         "line": {
          "color": "#1f77b4",
          "width": 1.5
         },
         "mode": "lines",
         "name": "edge (252,367)",
         "opacity": 0.5,
         "showlegend": false,
         "type": "scatter3d",
         "x": [
          -1.466913,
          -1.20658
         ],
         "y": [
          0.410096,
          0.143664
         ],
         "z": [
          -0.87899,
          -0.619625
         ]
        },
        {
         "line": {
          "color": "#1f77b4",
          "width": 1.5
         },
         "mode": "lines",
         "name": "edge (252,490)",
         "opacity": 0.5,
         "showlegend": false,
         "type": "scatter3d",
         "x": [
          -1.466913,
          -1.433885
         ],
         "y": [
          0.410096,
          0.846858
         ],
         "z": [
          -0.87899,
          -0.942322
         ]
        },
        {
         "line": {
          "color": "#1f77b4",
          "width": 1.5
         },
         "mode": "lines",
         "name": "edge (257,349)",
         "opacity": 0.5,
         "showlegend": false,
         "type": "scatter3d",
         "x": [
          1.012702,
          0.973375
         ],
         "y": [
          -0.061606,
          -0.248473
         ],
         "z": [
          -0.170105,
          -0.095684
         ]
        },
        {
         "line": {
          "color": "#1f77b4",
          "width": 1.5
         },
         "mode": "lines",
         "name": "edge (257,365)",
         "opacity": 0.5,
         "showlegend": false,
         "type": "scatter3d",
         "x": [
          1.012702,
          1.013971
         ],
         "y": [
          -0.061606,
          -0.01087
         ],
         "z": [
          -0.170105,
          -0.166921
         ]
        },
        {
         "line": {
          "color": "#1f77b4",
          "width": 1.5
         },
         "mode": "lines",
         "name": "edge (270,303)",
         "opacity": 0.5,
         "showlegend": false,
         "type": "scatter3d",
         "x": [
          0.489505,
          0.398835
         ],
         "y": [
          -1.333443,
          -1.124627
         ],
         "z": [
          0.814938,
          0.590899
         ]
        },
        {
         "line": {
          "color": "#1f77b4",
          "width": 1.5
         },
         "mode": "lines",
         "name": "edge (270,422)",
         "opacity": 0.5,
         "showlegend": false,
         "type": "scatter3d",
         "x": [
          0.489505,
          0.846324
         ],
         "y": [
          -1.333443,
          -1.396987
         ],
         "z": [
          0.814938,
          0.93036
         ]
        },
        {
         "line": {
          "color": "#1f77b4",
          "width": 1.5
         },
         "mode": "lines",
         "name": "edge (273,403)",
         "opacity": 0.5,
         "showlegend": false,
         "type": "scatter3d",
         "x": [
          -0.185595,
          -0.015991
         ],
         "y": [
          0.982644,
          1.009263
         ],
         "z": [
          -0.005982,
          0.136718
         ]
        },
        {
         "line": {
          "color": "#1f77b4",
          "width": 1.5
         },
         "mode": "lines",
         "name": "edge (287,293)",
         "opacity": 0.5,
         "showlegend": false,
         "type": "scatter3d",
         "x": [
          0.956225,
          0.926408
         ],
         "y": [
          -0.866935,
          -0.672594
         ],
         "z": [
          0.704921,
          0.518332
         ]
        },
        {
         "line": {
          "color": "#1f77b4",
          "width": 1.5
         },
         "mode": "lines",
         "name": "edge (303,322)",
         "opacity": 0.5,
         "showlegend": false,
         "type": "scatter3d",
         "x": [
          0.398835,
          0.174478
         ],
         "y": [
          -1.124627,
          -1.217883
         ],
         "z": [
          0.590899,
          0.638427
         ]
        },
        {
         "line": {
          "color": "#1f77b4",
          "width": 1.5
         },
         "mode": "lines",
         "name": "edge (310,432)",
         "opacity": 0.5,
         "showlegend": false,
         "type": "scatter3d",
         "x": [
          -1.174425,
          -1.181843
         ],
         "y": [
          -0.28312,
          -0.453646
         ],
         "z": [
          -0.610611,
          -0.67906
         ]
        },
        {
         "line": {
          "color": "#1f77b4",
          "width": 1.5
         },
         "mode": "lines",
         "name": "edge (313,436)",
         "opacity": 0.5,
         "showlegend": false,
         "type": "scatter3d",
         "x": [
          -0.632619,
          -0.372052
         ],
         "y": [
          -0.83378,
          -0.994016
         ],
         "z": [
          -0.301747,
          -0.344905
         ]
        },
        {
         "line": {
          "color": "#1f77b4",
          "width": 1.5
         },
         "mode": "lines",
         "name": "edge (318,324)",
         "opacity": 0.5,
         "showlegend": false,
         "type": "scatter3d",
         "x": [
          1.005852,
          0.845888
         ],
         "y": [
          0.658074,
          0.801785
         ],
         "z": [
          0.602656,
          0.551005
         ]
        },
        {
         "line": {
          "color": "#1f77b4",
          "width": 1.5
         },
         "mode": "lines",
         "name": "edge (318,457)",
         "opacity": 0.5,
         "showlegend": false,
         "type": "scatter3d",
         "x": [
          1.005852,
          0.974728
         ],
         "y": [
          0.658074,
          0.550276
         ],
         "z": [
          0.602656,
          0.473729
         ]
        },
        {
         "line": {
          "color": "#1f77b4",
          "width": 1.5
         },
         "mode": "lines",
         "name": "edge (335,391)",
         "opacity": 0.5,
         "showlegend": false,
         "type": "scatter3d",
         "x": [
          0.468964,
          0.555386
         ],
         "y": [
          0.883248,
          0.833887
         ],
         "z": [
          0.007324,
          0.061759
         ]
        },
        {
         "line": {
          "color": "#1f77b4",
          "width": 1.5
         },
         "mode": "lines",
         "name": "edge (335,442)",
         "opacity": 0.5,
         "showlegend": false,
         "type": "scatter3d",
         "x": [
          0.468964,
          0.27424
         ],
         "y": [
          0.883248,
          0.96866
         ],
         "z": [
          0.007324,
          0.115841
         ]
        },
        {
         "line": {
          "color": "#1f77b4",
          "width": 1.5
         },
         "mode": "lines",
         "name": "edge (349,461)",
         "opacity": 0.5,
         "showlegend": false,
         "type": "scatter3d",
         "x": [
          0.973375,
          0.966149
         ],
         "y": [
          -0.248473,
          -0.272752
         ],
         "z": [
          -0.095684,
          -0.08836
         ]
        },
        {
         "line": {
          "color": "#1f77b4",
          "width": 1.5
         },
         "mode": "lines",
         "name": "edge (365,408)",
         "opacity": 0.5,
         "showlegend": false,
         "type": "scatter3d",
         "x": [
          1.013971,
          0.945928
         ],
         "y": [
          -0.01087,
          0.324384
         ],
         "z": [
          -0.166921,
          -0.002173
         ]
        },
        {
         "line": {
          "color": "#1f77b4",
          "width": 1.5
         },
         "mode": "lines",
         "name": "edge (367,443)",
         "opacity": 0.5,
         "showlegend": false,
         "type": "scatter3d",
         "x": [
          -1.20658,
          -1.2729
         ],
         "y": [
          0.143664,
          0.029141
         ],
         "z": [
          -0.619625,
          -0.686885
         ]
        },
        {
         "line": {
          "color": "#1f77b4",
          "width": 1.5
         },
         "mode": "lines",
         "name": "edge (396,457)",
         "opacity": 0.5,
         "showlegend": false,
         "type": "scatter3d",
         "x": [
          0.958442,
          0.974728
         ],
         "y": [
          0.367766,
          0.550276
         ],
         "z": [
          0.229021,
          0.473729
         ]
        },
        {
         "line": {
          "color": "#1f77b4",
          "width": 1.5
         },
         "mode": "lines",
         "name": "edge (396,479)",
         "opacity": 0.5,
         "showlegend": false,
         "type": "scatter3d",
         "x": [
          0.958442,
          0.877956
         ],
         "y": [
          0.367766,
          0.511261
         ],
         "z": [
          0.229021,
          0.178
         ]
        },
        {
         "line": {
          "color": "#1f77b4",
          "width": 1.5
         },
         "mode": "lines",
         "name": "edge (408,452)",
         "opacity": 0.5,
         "showlegend": false,
         "type": "scatter3d",
         "x": [
          0.945928,
          0.860566
         ],
         "y": [
          0.324384,
          0.51159
         ],
         "z": [
          -0.002173,
          -0.047917
         ]
        },
        {
         "line": {
          "color": "#1f77b4",
          "width": 1.5
         },
         "mode": "lines",
         "name": "edge (429,441)",
         "opacity": 0.5,
         "showlegend": false,
         "type": "scatter3d",
         "x": [
          -1.071306,
          -0.955989
         ],
         "y": [
          0.889215,
          0.697179
         ],
         "z": [
          -0.794139,
          -0.576927
         ]
        },
        {
         "line": {
          "color": "#1f77b4",
          "width": 1.5
         },
         "mode": "lines",
         "name": "edge (448,472)",
         "opacity": 0.5,
         "showlegend": false,
         "type": "scatter3d",
         "x": [
          0.621137,
          0.75707
         ],
         "y": [
          -0.7945,
          -0.663237
         ],
         "z": [
          -0.129991,
          -0.113812
         ]
        },
        {
         "line": {
          "color": "#1f77b4",
          "width": 1.5
         },
         "mode": "lines",
         "name": "edge (452,479)",
         "opacity": 0.5,
         "showlegend": false,
         "type": "scatter3d",
         "x": [
          0.860566,
          0.877956
         ],
         "y": [
          0.51159,
          0.511261
         ],
         "z": [
          -0.047917,
          0.178
         ]
        }
       ],
       "frames": [],
       "layout": {
        "height": 800,
        "hovermode": "closest",
        "margin": {
         "b": 50,
         "l": 50,
         "r": 50,
         "t": 50
        },
        "scene": {
         "aspectmode": "manual",
         "aspectratio": {
          "x": 1,
          "y": 1.00432056381309
         }
        },
        "showlegend": false,
        "width": 1000
       }
      },
      "application/vnd.webio.node+json": {
       "children": [
        {
         "children": [],
         "instanceArgs": {
          "namespace": "html",
          "tag": "div"
         },
         "nodeType": "DOM",
         "props": {
          "id": "plot-71f40a3e-3738-46fd-b6b8-3d73897c6577"
         },
         "type": "node"
        }
       ],
       "instanceArgs": {
        "handlers": {
         "__get_gd_contents": [
          "(function (prop){prop==\"data\" ? (WebIO.setval({\"name\":\"__gd_contents\",\"scope\":\"5285784211199482531\",\"id\":\"1246458213519265576\",\"type\":\"observable\"},this.plotElem.data)) : undefined; return prop==\"layout\" ? (WebIO.setval({\"name\":\"__gd_contents\",\"scope\":\"5285784211199482531\",\"id\":\"1246458213519265576\",\"type\":\"observable\"},this.plotElem.layout)) : undefined})"
         ],
         "_commands": [
          "(function (args){var fn=args.shift(); var elem=this.plotElem; var Plotly=this.Plotly; args.unshift(elem); return Plotly[fn].apply(this,args)})"
         ],
         "_downloadImage": [
          "(function (options){return this.Plotly.downloadImage(this.plotElem,options)})"
         ],
         "_toImage": [
          "(function (options){return this.Plotly.toImage(this.plotElem,options).then((function (data){return WebIO.setval({\"name\":\"image\",\"scope\":\"5285784211199482531\",\"id\":\"11305039682168788993\",\"type\":\"observable\"},data)}))})"
         ]
        },
        "id": "5285784211199482531",
        "imports": {
         "data": [
          {
           "name": "Plotly",
           "type": "js",
           "url": "/assetserver/0011d14de576c55f77111628d5a39fcc5762f320-plotly.min.js"
          },
          {
           "name": null,
           "type": "js",
           "url": "/assetserver/52365f0a3f606733873c2a55bbe1584aba3b706c-plotly_webio.bundle.js"
          }
         ],
         "type": "async_block"
        },
        "mount_callbacks": [
         "function () {\n    var handler = ((function (Plotly,PlotlyWebIO){PlotlyWebIO.init(WebIO); var gd=this.dom.querySelector(\"#plot-71f40a3e-3738-46fd-b6b8-3d73897c6577\"); this.plotElem=gd; this.Plotly=Plotly; (window.Blink!==undefined) ? (gd.style.width=\"100%\", gd.style.height=\"100vh\", gd.style.marginLeft=\"0%\", gd.style.marginTop=\"0vh\") : undefined; window.onresize=(function (){return Plotly.Plots.resize(gd)}); Plotly.newPlot(gd,[{\"marker\":{\"symbol\":\"circle\",\"color\":[0.6990554964311726,0.6588599135294712,0.281766790512737,0.2438909388966237,0.6174898952839026,0.32126007233452475,0.20791293703995536,0.842317708967009,0.8096763072936619,0.7377790499563999,0.5752517308354618,0.0880554627769723,0.7747438784630325,0.1139477463628055,0.0652147802937392,0.8724264179653045,0.9454307525221085,0.17409915348088523,0.9962927271060164,0.1426999336424812,0.9889163755197464,0.9779219660216285,0.04559480333495985,0.9633908973729826,0.029340791345610212,0.9241745020977818,0.3620783899208613,0.5753342575959454,0.9999964088540537,0.8997795199412358,0.5324581367758909,0.01657308334368214,0.5325414347805496,0.6175710398009505,0.007386206972194043,0.6589390750374693,0.4465567307543618,0.44647374153332375,0.4039195387294103,0.4895093944429974,1.0,0.737852506214639,0.40400145020877803,0.699132088846012,0.48942594190344657,0.36215861721462383,0.8097418869508318,0.0018481786495956967,0.32133802146786816,0.7748136547202347,0.02936896501088504,0.9963034739562657,0.11400078708084917,0.9889341985083784,0.04562962726225161,0.2818418843775504,0.14275831873221692,0.977946733193471,0.9454688079032333,0.963422425360561,0.06525599665887553,0.1741624506795371,0.0,0.8423786064953088,0.08810276642840519,0.2439626215242054,0.9242188031237251,0.20798067771721018,0.8998297386227001,0.016594398158980596,0.8724821825007414,0.007400505130079049,0.0018553542915087644],\"line\":{\"color\":[0.9589155328156201,0.9743047203591566,0.9499022682487684,0.9294609216343641,0.9861823283446841,0.9670127025229212,0.9058400032582439,0.8648926774070556,0.8929425994735537,0.9401287018744415,0.9944604191182873,0.7833830069942658,0.9180833186589774,0.8177583966519388,0.7469095553467078,0.8341412242686597,0.728044165107385,0.8792143941358315,0.5644312715088465,0.8497812209615899,0.6068268401376458,0.6484315068643968,0.7086080783843226,0.6889372452928476,0.668762146842034,0.7654627323560086,0.9806655447878708,0.005553898984459842,0.5215586829352233,0.800915913058415,0.9990777045921265,0.6276667660561159,0.0009294743876650006,0.013839036168613102,0.5856261918478983,0.025723545683127586,0.002772357324635258,0.9972204769893904,0.9907597141761985,0.0,0.4785264880627762,0.05991272964605411,0.009226020797901864,0.041119438777582194,1.0,0.01931320975338288,0.10711082589510022,0.5429516779201187,0.03295924217324898,0.08196427933814691,0.3311610932724347,0.4356532822067014,0.18217896038064044,0.39325648358314136,0.2913178739158612,0.05006308760778914,0.15016093319849624,0.35164998325577124,0.2720319056637016,0.31114182119618183,0.25301967065627234,0.12073299871593851,0.4999591714433954,0.1351661930842079,0.21655002999123915,0.07049811516951639,0.23460979278957783,0.09411303106394932,0.1991525428046856,0.37225434346978997,0.16592266878251166,0.4142933844607331,0.4569669738939306],\"colorscale\":\"Jet\",\"width\":2},\"cmin\":0,\"opacity\":1,\"size\":5,\"colorscale\":\"Jet\",\"cmax\":1},\"mode\":\"markers+text\",\"y\":[0.324384,0.51159,0.833887,0.883248,0.511261,0.82729,0.96866,-0.272752,-0.248473,-0.01087,0.367766,0.982644,-0.061606,1.009263,0.931325,-0.304151,-0.663237,0.997479,-0.780185,1.014642,-0.8608,-0.835358,0.851431,-0.7945,0.798093,-0.677166,0.768439,-0.970153,-0.666475,-0.544675,0.550276,0.654614,-0.974194,-1.053078,0.554602,-1.066381,-0.83378,0.801785,0.865399,-0.994016,-0.672594,-1.10486,-0.780907,-1.113365,0.658074,-0.849801,-1.124627,0.697179,-0.988329,-1.217883,0.143664,-0.866935,-0.28312,-0.913967,0.029141,-1.048389,-0.453646,-0.947466,-1.094073,-1.004385,-0.050832,-0.720897,0.889215,-1.333443,-0.170261,-1.010755,-1.217204,-1.005582,-1.269637,0.410096,-1.396987,0.846858,0.881098],\"type\":\"scatter3d\",\"autocolorscale\":false,\"text\":[\"408\",\"452\",\"391\",\"335\",\"479\",\"199\",\"442\",\"461\",\"349\",\"365\",\"396\",\"273\",\"257\",\"403\",\"90\",\"139\",\"472\",\"105\",\"208\",\"149\",\"40\",\"72\",\"195\",\"448\",\"232\",\"126\",\"115\",\"108\",\"224\",\"163\",\"457\",\"4\",\"88\",\"131\",\"67\",\"12\",\"313\",\"324\",\"104\",\"436\",\"293\",\"223\",\"187\",\"304\",\"318\",\"75\",\"303\",\"441\",\"407\",\"322\",\"367\",\"287\",\"310\",\"181\",\"443\",\"112\",\"432\",\"87\",\"9\",\"2\",\"70\",\"174\",\"429\",\"270\",\"144\",\"38\",\"230\",\"29\",\"117\",\"252\",\"422\",\"490\",\"145\"],\"z\":[-0.002173,-0.047917,0.061759,0.007324,0.178,0.169359,0.115841,-0.08836,-0.095684,-0.166921,0.229021,-0.005982,-0.170105,0.136718,0.022164,-0.193286,-0.113812,0.245798,0.126209,0.241552,0.04513,-0.077726,-0.131135,-0.129991,-0.153777,-0.194797,0.36772,0.005763,0.320168,-0.321956,0.473729,-0.352319,-0.2585,0.335077,-0.367586,0.358477,-0.301747,0.551005,0.550391,-0.344905,0.518332,0.467335,-0.401553,0.467567,0.602656,-0.482886,0.590899,-0.576927,-0.56891,0.638427,-0.619625,0.704921,-0.610611,0.729,-0.686885,-0.675085,-0.67906,0.796719,0.80229,0.812769,-0.741182,-0.74358,-0.794139,0.814938,-0.788575,-0.785375,0.864359,-0.80461,0.884699,-0.87899,0.93036,-0.942322,-0.947141],\"x\":[0.945928,0.860566,0.555386,0.468964,0.877956,0.587104,0.27424,0.966149,0.973375,1.013971,0.958442,-0.185595,1.012702,-0.015991,-0.364863,0.972401,0.75707,0.259491,0.638254,0.174934,0.510943,0.555191,-0.54075,0.621137,-0.622076,0.76166,0.744673,-0.242562,0.814776,0.901474,0.974728,-0.838947,-0.346523,-0.099933,-0.915062,-0.013084,-0.632619,0.845888,0.780081,-0.372052,0.926408,0.156716,-0.752061,0.077262,1.005852,-0.736157,0.398835,-0.955989,-0.640271,0.174478,-1.20658,0.956225,-1.174425,0.946133,-1.2729,-0.70298,-1.181843,1.024768,0.878406,1.000137,-1.327723,-1.119289,-1.071306,0.489505,-1.374556,-0.940998,0.871664,-0.982952,0.860627,-1.466913,0.846324,-1.433885,-1.429447]},{\"marker\":{\"symbol\":\"circle\",\"color\":\"rgb(31,119,180)\",\"line\":{\"color\":\"rgb(31,119,180)\",\"width\":2},\"opacity\":0.5,\"size\":5},\"mode\":\"markers\",\"y\":[0.87067,-0.313858,-0.641042,0.94259,0.8694,-0.814077,0.730993,-0.82065,-0.827165,-0.009606,0.672239,0.532563,0.065576,1.060466,1.070628,1.047751,0.425519,-0.089292,-0.42092,1.0733,1.073335,-0.279518,1.112744,-0.976018,-0.885159,-0.744775,-0.449133,-0.668037,1.137331,-1.077495,-0.151436,1.162095,1.143006,-0.26021,-0.741347,0.984445,0.795294,-0.051991,-0.889022,0.982171,1.196092,1.193868,0.4667,0.454345,-0.161157,-0.666952,1.098197,0.73599,-0.788624,0.996672,-0.869014,1.228044,1.130144,0.813963,1.109226,-0.539103,0.577902,-1.078762,0.3921,1.190341,0.420749,1.150211,-1.201012,0.588122,1.311416,1.29667,1.112638,0.732655,-1.068195,1.180339,1.272209,-1.267086,-0.323266,0.943627,0.950713,0.556489,0.51702,-0.686481,1.315557,-0.330629,1.371634,0.19551,0.279981,-1.254848,-0.652766,-1.334688,0.756709,0.802183,1.462667,0.665613,-1.026255,-0.903668,1.3493,-0.805895,0.798115,0.882111,-0.476828,1.477416,-0.3678,0.149953,0.249443,-1.176223,-1.230425,0.013004,1.008324,0.183391,-1.279284,-0.756012,1.544303,-1.371461,-0.719644,-0.127256,0.040023,1.536565,1.139666,1.359507,1.644206,-0.23562,1.29631,-0.222303,1.671787,-0.676325,0.012639,0.181649,-0.809543,-0.532565,0.981263,-0.604529,1.704672,1.352567,1.022574,1.129474,1.255111,0.394154,-1.348208,-1.648289,-1.611021,0.852934,-0.112036,-1.31139,-0.211301,-0.957139,1.798242,-0.952472,1.650641,-1.229321,-1.336164,-1.587098,-1.629661,1.728966,1.190508,-1.395701,-1.765473,-0.426584,1.891679,0.922828,0.510104,-0.988243,-1.031012,-1.379662,-1.089949,1.754905,-1.595407,-0.828869,1.330319,-1.652645,1.911662,-0.401626,-0.155877,0.988269,1.698593,1.517105,-1.608742,1.93442,-1.11876,-0.723009,-0.417574,-1.517099,0.199898,1.711864,0.041332,2.050523,1.960448,1.258338,-1.955114,-1.773864,1.674484,2.105578,2.01874,-1.810992,0.701255,-1.958229,0.3861,-0.967108,-1.566041,0.988626,2.122117,0.610467,-1.095619,0.942812,0.088459,-0.332112,-1.1798,-2.082179,-1.925611,-1.218024,1.876311,-1.986291,-0.227119,0.165917,2.223587,-1.917767,-1.770725,-1.931125,1.136759,1.509145,-1.457719,1.677778,-1.990445,2.248901,0.594992,1.884159,-2.176726,-2.069856,2.21536,2.312587,2.110552,2.25892,-2.201301,0.739208,2.349857,0.503028,0.036944,-0.88846,-0.276139,1.793527,-2.245004,-2.255655,-1.473477,0.8542,-0.181654,-0.740186,-1.619211,0.871144,-2.180828,1.1083,-1.287467,-1.030822,-2.09332,2.100756,1.077164,2.437059,-2.13388,-0.320433,1.512129,-2.363826,0.79541,-1.454415,-2.135682,2.278684,1.768067,-0.167885,2.045708,2.136542,1.499341,-0.63861,1.074596,-2.07693,-0.504554,-0.805418,2.592892,2.569293,1.126727,2.406043,1.790021,-2.316215,-2.001433,-1.568762,-1.402344,2.263007,-2.334671,-1.112427,-1.023003,2.529141,2.556075,-1.653019,-2.067025,0.581919,-0.018492,0.08072,-1.934067,1.230872,2.586554,2.702648,2.518543,-0.563372,1.174574,1.689089,2.314142,-2.255364,1.783824,1.595986,-2.14395,-0.179126,1.954582,2.789075,-1.504441,-0.788691,2.371799,2.826359,-0.700241,1.765538,-1.87902,-1.418041,-2.65285,1.485481,0.072327,-1.521096,1.431653,-0.964729,1.390055,-2.551745,0.96644,2.821223,-0.068941,-1.841214,-1.652646,2.80008,1.929049,-0.645173,2.590641,-2.657087,0.766352,0.626546,-1.560046,0.663001,2.945973,2.143481,2.815808,-2.751434,-1.404026,2.456047,-1.70814,1.966277,-2.67888,-2.531597,2.959878,-1.011317,2.344687,2.885896,2.755658,-0.518923,2.759105,2.456925,-2.67735,2.157329,2.69289,2.995378,2.105509,1.829866,-2.317816,2.954148,2.922056,1.86314,2.765823,2.020247,2.088593,2.144203,2.53431,2.048534,2.395814,-2.477952,2.395452,1.172283,1.776793,0.152993,-2.681437,-0.494438,2.192285,-1.338057,-2.41357,2.383532,-2.799098,-0.521381,-2.830637,-2.800148,2.204855,-2.87195,0.246734,-0.398528,0.812813,-2.828886,-2.234496,1.44191,1.267118,-2.712278,-2.888043,1.293823,1.322082,-0.663681,-1.641353,0.750956,0.389044,-2.248554,-2.047424,-2.184062,-2.200459,0.415959,-2.960721,-2.80598,-0.988968,-0.743059,-2.570733,-1.708244,-1.860991,-1.413107,-2.547876,-2.176493,-0.27324,-0.405064,-0.528872,-2.039535,-2.674865,-2.695216,-0.957431,-2.365574,-2.315109],\"type\":\"scatter3d\",\"autocolorscale\":false,\"text\":[\"433\",\"205\",\"26\",\"83\",\"94\",\"425\",\"236\",\"68\",\"314\",\"328\",\"190\",\"234\",\"401\",\"486\",\"393\",\"132\",\"11\",\"54\",\"169\",\"41\",\"288\",\"5\",\"23\",\"44\",\"114\",\"382\",\"166\",\"481\",\"373\",\"387\",\"402\",\"173\",\"172\",\"350\",\"152\",\"57\",\"464\",\"385\",\"386\",\"334\",\"435\",\"291\",\"213\",\"460\",\"465\",\"298\",\"167\",\"311\",\"25\",\"459\",\"339\",\"470\",\"483\",\"477\",\"466\",\"404\",\"343\",\"78\",\"308\",\"229\",\"271\",\"397\",\"381\",\"39\",\"249\",\"398\",\"348\",\"107\",\"188\",\"268\",\"204\",\"48\",\"45\",\"453\",\"134\",\"52\",\"51\",\"439\",\"20\",\"280\",\"33\",\"254\",\"21\",\"197\",\"214\",\"170\",\"58\",\"265\",\"16\",\"233\",\"79\",\"203\",\"263\",\"84\",\"219\",\"438\",\"192\",\"142\",\"185\",\"178\",\"143\",\"65\",\"53\",\"363\",\"428\",\"85\",\"217\",\"346\",\"89\",\"154\",\"312\",\"6\",\"421\",\"274\",\"210\",\"157\",\"492\",\"158\",\"165\",\"495\",\"413\",\"309\",\"246\",\"162\",\"475\",\"61\",\"121\",\"456\",\"264\",\"494\",\"76\",\"347\",\"202\",\"478\",\"394\",\"468\",\"183\",\"281\",\"333\",\"127\",\"168\",\"156\",\"352\",\"198\",\"34\",\"296\",\"243\",\"418\",\"245\",\"380\",\"499\",\"27\",\"95\",\"267\",\"201\",\"247\",\"102\",\"437\",\"290\",\"342\",\"49\",\"125\",\"237\",\"491\",\"18\",\"151\",\"444\",\"302\",\"450\",\"353\",\"440\",\"228\",\"297\",\"59\",\"159\",\"225\",\"357\",\"392\",\"116\",\"321\",\"14\",\"161\",\"99\",\"35\",\"238\",\"91\",\"493\",\"331\",\"338\",\"122\",\"488\",\"358\",\"307\",\"369\",\"356\",\"417\",\"253\",\"360\",\"286\",\"371\",\"124\",\"473\",\"81\",\"211\",\"278\",\"150\",\"366\",\"480\",\"200\",\"399\",\"226\",\"276\",\"284\",\"351\",\"431\",\"364\",\"206\",\"135\",\"164\",\"390\",\"372\",\"269\",\"221\",\"378\",\"294\",\"359\",\"244\",\"283\",\"282\",\"222\",\"412\",\"140\",\"500\",\"111\",\"32\",\"383\",\"71\",\"3\",\"15\",\"141\",\"445\",\"148\",\"146\",\"191\",\"235\",\"1\",\"73\",\"426\",\"427\",\"315\",\"496\",\"455\",\"405\",\"180\",\"423\",\"130\",\"160\",\"74\",\"10\",\"374\",\"118\",\"47\",\"375\",\"110\",\"344\",\"414\",\"43\",\"325\",\"409\",\"93\",\"153\",\"212\",\"277\",\"37\",\"255\",\"177\",\"86\",\"330\",\"133\",\"128\",\"136\",\"323\",\"77\",\"30\",\"362\",\"471\",\"489\",\"424\",\"451\",\"106\",\"259\",\"498\",\"184\",\"218\",\"147\",\"220\",\"194\",\"326\",\"82\",\"7\",\"319\",\"469\",\"113\",\"379\",\"354\",\"186\",\"467\",\"241\",\"463\",\"60\",\"100\",\"337\",\"80\",\"216\",\"109\",\"416\",\"476\",\"13\",\"175\",\"250\",\"129\",\"248\",\"31\",\"56\",\"305\",\"301\",\"179\",\"262\",\"400\",\"123\",\"419\",\"482\",\"69\",\"97\",\"182\",\"8\",\"215\",\"189\",\"138\",\"487\",\"42\",\"66\",\"285\",\"411\",\"120\",\"196\",\"368\",\"300\",\"336\",\"497\",\"332\",\"275\",\"63\",\"24\",\"327\",\"240\",\"239\",\"474\",\"231\",\"316\",\"289\",\"50\",\"92\",\"103\",\"22\",\"227\",\"207\",\"279\",\"430\",\"64\",\"260\",\"384\",\"242\",\"46\",\"420\",\"462\",\"395\",\"446\",\"19\",\"370\",\"266\",\"355\",\"55\",\"485\",\"388\",\"434\",\"193\",\"299\",\"171\",\"345\",\"376\",\"447\",\"17\",\"361\",\"176\",\"454\",\"101\",\"261\",\"36\",\"119\",\"410\",\"458\",\"306\",\"96\",\"320\",\"62\",\"415\",\"295\",\"272\",\"406\",\"258\",\"98\",\"341\",\"449\",\"209\",\"137\",\"292\",\"251\",\"340\",\"389\",\"256\",\"484\",\"377\",\"329\",\"155\",\"28\",\"317\"],\"z\":[0.166675,0.071776,-0.068871,0.108245,-0.237689,-0.216504,0.213535,-0.244051,-0.250412,-0.039471,0.237035,0.228292,-0.134481,-0.372149,-0.370231,-0.363124,0.26252,-0.408809,-0.188754,-0.40248,0.422412,-0.460755,0.47151,0.428963,0.339891,-0.458575,0.535726,-0.505163,0.552899,-0.438354,0.578355,0.546311,-0.563956,0.421409,-0.52769,-0.58401,-0.586864,0.454042,0.453982,0.560018,0.600867,0.600395,0.53367,-0.638247,0.658812,0.511697,0.601824,0.589298,-0.540191,-0.668592,-0.619446,0.678334,-0.653065,-0.682796,0.7063,-0.658791,-0.620234,0.597697,0.613726,-0.6804,0.622137,-0.708933,-0.616274,0.774978,-0.734131,0.727575,-0.721358,0.789989,0.737368,0.750377,0.80908,-0.704795,0.694645,-0.798997,-0.760631,0.736791,0.837079,0.812944,0.785776,0.824994,-0.803263,-0.81031,0.749475,0.755803,0.734413,-0.774629,0.877644,0.796793,0.846546,-0.857828,0.784999,0.781897,-0.868514,0.871631,-0.878895,-0.879941,0.794642,0.890345,0.804433,-0.879231,-0.881457,-0.860853,-0.859295,0.836876,0.870751,0.936752,0.856161,-0.847209,0.907371,-0.87778,-0.904833,0.941468,0.947389,0.919334,-0.917888,0.916885,-0.937716,0.958639,0.957551,-0.936928,-0.945063,-0.933084,0.890676,0.972261,0.961913,0.972624,0.977695,0.973401,0.961714,-0.956865,0.944987,0.947886,-0.974929,0.934436,-0.952667,-0.946206,-0.949028,-0.96007,-0.976203,0.98287,-0.944424,-0.970845,0.980736,0.988507,0.977359,-0.97119,-0.947448,-0.966229,-0.954211,0.984535,-0.99221,0.993053,0.987458,0.99911,-0.995083,-0.984144,0.971516,0.96554,0.966595,-0.986178,0.999313,-0.998546,0.99769,0.970576,-0.993255,-0.986409,-0.998716,0.999107,-0.986432,-0.999791,-0.999252,0.998929,0.99988,-0.999689,0.998421,0.996703,0.995318,-0.998024,0.990091,0.999945,-0.996577,0.99826,0.994773,0.990932,0.99924,0.997639,-0.994759,0.99334,-0.994515,-1.0,0.999365,-0.999723,0.998798,0.982802,0.986758,-0.998663,0.990388,-0.99881,0.976213,-0.987639,0.999757,0.96678,-0.999537,0.99656,-0.999996,0.96948,0.96825,0.982037,-0.999214,-0.980865,-0.974031,-0.994827,0.999558,-0.99438,-0.976249,-0.985405,-0.986825,-0.981615,-0.998737,-0.96529,0.936058,-0.96132,0.984248,-0.995284,0.960044,-0.949274,-0.955532,0.954347,0.979073,0.908101,0.936215,0.986777,-0.981163,-0.989843,-0.984037,-0.92953,0.969049,0.956926,0.902391,-0.963749,-0.931729,0.884936,-0.94984,-0.959339,-0.967419,-0.919697,0.988106,0.872956,0.900479,-0.909587,0.960078,-0.886054,0.967035,0.841444,0.939408,0.925596,-0.928349,-0.894009,-0.966058,0.822346,-0.843587,0.778563,-0.836336,-0.842651,0.790559,-0.835212,-0.883334,0.937901,-0.926911,0.715762,0.784267,-0.761978,0.716861,0.731094,-0.770539,0.905241,0.92736,-0.933865,0.935145,-0.760445,0.744337,0.672491,-0.760121,-0.731295,0.75256,0.924217,-0.790114,-0.719455,-0.862795,-0.703355,-0.749315,0.610697,0.630969,0.637727,0.626606,0.895448,-0.77633,0.59032,0.708817,-0.740021,-0.720756,0.579852,-0.892389,0.869348,-0.693622,-0.592368,0.528901,0.510496,-0.629798,-0.558506,-0.600474,0.722727,0.4993,-0.867709,0.726512,0.510666,0.838865,-0.591795,-0.706963,0.452409,-0.592401,0.598607,0.439534,-0.451687,-0.486484,0.339619,0.32725,-0.43897,-0.493936,0.305901,0.387026,0.547637,0.299328,0.294966,-0.394604,-0.414459,-0.324166,0.540304,-0.333253,0.618421,-0.80609,0.314218,-0.261917,-0.509538,-0.639752,0.362468,0.280383,-0.1426,-0.398655,0.19016,-0.281208,-0.131233,0.205057,-0.299054,0.402204,0.468411,-0.258053,-0.068826,0.18409,0.119719,0.051985,-0.045465,0.146738,0.067258,0.254307,-0.194174,0.063934,-0.168862,-0.123155,0.02267,-0.154155,0.084216,-0.120564,-0.511868,-0.415595,-0.615963,-0.386236,-0.679281,-0.212212,-0.730072,-0.743069,0.110148,0.588298,0.712176,0.349647,0.209438,0.097364,0.465301,-0.517723,-0.611309,-0.370425,-0.108553,-0.69995,-0.14263,0.272116,-0.614418,0.450364,-0.02175,0.03851,0.610934,0.661232,0.181801,0.367875,-0.634699,0.639818,-0.617209,-0.606078,0.018705,-0.266525,-0.4555,-0.469771,-0.417902,-0.522802,-0.49499,0.507793,-0.430995,0.447476,-0.47186,0.077917,0.213298,-0.193883,-0.431466,-0.383084,-0.238068,0.059169,0.317677,-0.249645],\"x\":[0.519717,0.952186,0.770597,-0.351154,-0.549803,0.620707,-0.715759,0.622835,0.616874,-1.000733,-0.778399,-0.877433,-1.006951,0.155643,-0.030415,-0.208318,-0.943563,1.083708,-0.926877,-0.155954,-0.209534,1.076785,0.109705,0.500092,-0.582329,0.824861,1.064758,0.920022,0.260363,0.227244,1.174493,-0.027376,0.268832,-1.061707,0.879887,0.665443,0.885639,-1.1078,-0.662946,-0.638591,-0.104525,-0.124059,-1.055754,1.143191,1.237241,-0.925568,-0.48709,-0.937755,-0.848585,0.764927,0.849085,0.304561,-0.51679,0.974072,0.662652,1.125193,-1.069426,-0.521673,-1.145217,-0.434489,-1.142051,0.594411,-0.166285,1.235139,-0.158772,-0.212531,-0.686608,1.177562,0.783123,-0.632213,0.613255,-0.245177,-1.239176,1.032392,-0.959607,-1.20124,1.357815,1.240362,-0.421688,1.396246,-0.301479,1.400417,-1.308345,-0.484688,-1.148793,0.298151,1.319046,-1.142198,0.121253,1.328663,-0.923357,-1.038457,0.665144,1.276771,1.297111,1.243887,-1.308765,0.45098,-1.356995,1.516208,1.507235,0.916524,0.837704,-1.452549,-1.121686,1.639783,-0.75072,-1.259223,-0.332392,0.657528,1.400115,1.658021,1.679439,-0.468913,-1.127514,-0.845255,-0.166343,1.699116,1.117862,1.635438,-0.066528,1.494425,-1.545309,1.756734,1.525102,1.685477,1.497037,1.664513,-0.270136,-1.045388,-1.323976,-1.245537,1.258628,-1.595916,1.02893,0.305906,0.493147,-1.493897,1.77962,1.255796,-1.65786,1.477331,-0.152071,1.584602,-0.688332,1.261874,-1.018514,0.718879,-0.486982,-0.583624,1.449099,1.263013,0.525832,1.910784,-0.187524,-1.57174,-1.687618,-1.431811,-1.406225,1.208817,1.632538,0.841203,1.089753,-1.551702,-1.334129,0.799081,-0.381409,2.002372,-1.829198,1.715232,-0.980623,1.373185,1.214152,0.598636,1.72517,1.951506,2.054653,1.204578,-1.848798,-1.013678,-1.916883,-0.186355,0.75862,1.723973,0.578718,-0.763811,1.271042,0.201775,-0.594981,0.846843,-1.834947,0.267808,-1.912398,1.958941,1.490842,-1.797801,-0.262739,-1.955703,1.927143,1.939759,-1.975964,2.231026,-1.577102,-0.053623,-0.529625,1.886055,1.241728,0.919244,-2.026956,2.188408,-0.112209,0.859549,-0.992133,0.839896,1.902976,-1.559601,1.596367,-1.408892,-0.491525,-0.235323,2.275337,1.275753,0.017428,-0.336344,-0.538422,-0.092849,-0.901155,-0.425795,-0.098613,2.303026,0.085934,-2.10275,-2.192871,-1.94923,-2.160387,1.547326,-0.091517,0.397032,1.933449,-2.099708,2.356163,2.351992,1.651334,-2.109455,0.566403,2.120459,-1.726607,2.264188,1.243682,-1.192279,-2.009205,0.360532,-0.72799,2.520054,-1.789464,0.263914,-2.234352,1.969168,-0.734099,1.186294,1.819414,2.622197,1.519371,-1.370756,2.139285,2.468665,-2.222597,-1.092845,-2.321075,2.575337,-0.378859,0.639169,2.450604,1.185565,1.936922,-0.717832,-1.277089,-1.759939,-1.891031,-1.377728,1.290927,2.504134,2.444342,0.892692,-0.730908,-1.714883,1.598426,2.630952,-2.505486,2.709637,1.829417,2.505885,1.007398,0.608317,1.175437,-2.379381,-2.353506,2.242138,-1.401391,1.433889,-2.017731,2.31851,-1.188355,-2.48776,-1.89205,0.304689,2.41902,2.748978,1.44394,-0.133298,2.710658,-2.031028,2.164648,-2.055366,0.428002,2.443703,-2.543311,2.35805,-2.297733,2.726145,2.437085,1.15518,2.732345,0.636697,2.872862,2.292781,2.437503,-0.748907,2.124332,2.8807,1.35169,0.993402,2.853017,2.888333,2.466972,2.833536,-0.012578,-1.865326,0.855289,0.436522,-2.178554,1.632942,2.423637,-2.077479,0.69903,1.479061,-0.007737,2.813543,-1.735488,0.749971,-1.07975,2.945998,1.122627,1.640435,1.154222,-1.91326,-1.243493,-0.116131,2.112955,2.368225,1.902529,-0.516533,-0.629886,2.348431,-1.074265,2.191978,2.150699,2.077604,1.591118,2.191339,1.785637,1.684771,1.793905,-2.607681,-2.304015,-2.783574,1.162031,-2.688796,-2.014385,-2.325958,-1.139908,-1.811713,-0.231374,-2.651221,0.782793,1.013209,-2.027346,0.275691,-2.844869,-2.762797,-2.813818,0.980808,-1.540735,-2.619095,-2.677578,-0.649587,-0.166622,-2.7064,-2.692146,-2.711644,-2.206685,-2.887274,-2.903931,-1.622406,-1.863544,-1.730932,-1.724028,-2.970846,-0.135681,-0.692775,-2.707843,-2.811972,-1.236053,-2.304883,-2.173654,-2.535111,-1.373053,-1.888629,-2.984478,-2.949301,-2.933735,-2.064619,-1.180339,-1.250651,-2.84127,-1.759527,-1.857766]},{\"mode\":\"lines\",\"line\":{\"color\":\"#1f77b4\",\"width\":1.5},\"y\":[-1.004385,-1.094073],\"type\":\"scatter3d\",\"name\":\"Dim 1 Faces\",\"opacity\":0.5,\"z\":[0.812769,0.80229],\"x\":[1.000137,0.878406]},{\"showlegend\":false,\"mode\":\"lines\",\"line\":{\"color\":\"#1f77b4\",\"width\":1.5},\"y\":[-1.004385,-0.947466],\"type\":\"scatter3d\",\"name\":\"edge (2,87)\",\"opacity\":0.5,\"z\":[0.812769,0.796719],\"x\":[1.000137,1.024768]},{\"showlegend\":false,\"mode\":\"lines\",\"line\":{\"color\":\"#1f77b4\",\"width\":1.5},\"y\":[0.654614,0.554602],\"type\":\"scatter3d\",\"name\":\"edge (4,67)\",\"opacity\":0.5,\"z\":[-0.352319,-0.367586],\"x\":[-0.838947,-0.915062]},{\"showlegend\":false,\"mode\":\"lines\",\"line\":{\"color\":\"#1f77b4\",\"width\":1.5},\"y\":[0.654614,0.798093],\"type\":\"scatter3d\",\"name\":\"edge (4,232)\",\"opacity\":0.5,\"z\":[-0.352319,-0.153777],\"x\":[-0.838947,-0.622076]},{\"showlegend\":false,\"mode\":\"lines\",\"line\":{\"color\":\"#1f77b4\",\"width\":1.5},\"y\":[-1.094073,-1.217204],\"type\":\"scatter3d\",\"name\":\"edge (9,230)\",\"opacity\":0.5,\"z\":[0.80229,0.864359],\"x\":[0.878406,0.871664]},{\"showlegend\":false,\"mode\":\"lines\",\"line\":{\"color\":\"#1f77b4\",\"width\":1.5},\"y\":[-1.066381,-1.053078],\"type\":\"scatter3d\",\"name\":\"edge (12,131)\",\"opacity\":0.5,\"z\":[0.358477,0.335077],\"x\":[-0.013084,-0.099933]},{\"showlegend\":false,\"mode\":\"lines\",\"line\":{\"color\":\"#1f77b4\",\"width\":1.5},\"y\":[-1.066381,-1.113365],\"type\":\"scatter3d\",\"name\":\"edge (12,304)\",\"opacity\":0.5,\"z\":[0.358477,0.467567],\"x\":[-0.013084,0.077262]},{\"showlegend\":false,\"mode\":\"lines\",\"line\":{\"color\":\"#1f77b4\",\"width\":1.5},\"y\":[-1.005582,-1.010755],\"type\":\"scatter3d\",\"name\":\"edge (29,38)\",\"opacity\":0.5,\"z\":[-0.80461,-0.785375],\"x\":[-0.982952,-0.940998]},{\"showlegend\":false,\"mode\":\"lines\",\"line\":{\"color\":\"#1f77b4\",\"width\":1.5},\"y\":[-1.005582,-0.720897],\"type\":\"scatter3d\",\"name\":\"edge (29,174)\",\"opacity\":0.5,\"z\":[-0.80461,-0.74358],\"x\":[-0.982952,-1.119289]},{\"showlegend\":false,\"mode\":\"lines\",\"line\":{\"color\":\"#1f77b4\",\"width\":1.5},\"y\":[-1.010755,-1.048389],\"type\":\"scatter3d\",\"name\":\"edge (38,112)\",\"opacity\":0.5,\"z\":[-0.785375,-0.675085],\"x\":[-0.940998,-0.70298]},{\"showlegend\":false,\"mode\":\"lines\",\"line\":{\"color\":\"#1f77b4\",\"width\":1.5},\"y\":[-0.8608,-0.835358],\"type\":\"scatter3d\",\"name\":\"edge (40,72)\",\"opacity\":0.5,\"z\":[0.04513,-0.077726],\"x\":[0.510943,0.555191]},{\"showlegend\":false,\"mode\":\"lines\",\"line\":{\"color\":\"#1f77b4\",\"width\":1.5},\"y\":[-0.8608,-0.780185],\"type\":\"scatter3d\",\"name\":\"edge (40,208)\",\"opacity\":0.5,\"z\":[0.04513,0.126209],\"x\":[0.510943,0.638254]},{\"showlegend\":false,\"mode\":\"lines\",\"line\":{\"color\":\"#1f77b4\",\"width\":1.5},\"y\":[0.554602,0.697179],\"type\":\"scatter3d\",\"name\":\"edge (67,441)\",\"opacity\":0.5,\"z\":[-0.367586,-0.576927],\"x\":[-0.915062,-0.955989]},{\"showlegend\":false,\"mode\":\"lines\",\"line\":{\"color\":\"#1f77b4\",\"width\":1.5},\"y\":[-0.050832,-0.170261],\"type\":\"scatter3d\",\"name\":\"edge (70,144)\",\"opacity\":0.5,\"z\":[-0.741182,-0.788575],\"x\":[-1.327723,-1.374556]},{\"showlegend\":false,\"mode\":\"lines\",\"line\":{\"color\":\"#1f77b4\",\"width\":1.5},\"y\":[-0.050832,0.029141],\"type\":\"scatter3d\",\"name\":\"edge (70,443)\",\"opacity\":0.5,\"z\":[-0.741182,-0.686885],\"x\":[-1.327723,-1.2729]},{\"showlegend\":false,\"mode\":\"lines\",\"line\":{\"color\":\"#1f77b4\",\"width\":1.5},\"y\":[-0.835358,-0.7945],\"type\":\"scatter3d\",\"name\":\"edge (72,448)\",\"opacity\":0.5,\"z\":[-0.077726,-0.129991],\"x\":[0.555191,0.621137]},{\"showlegend\":false,\"mode\":\"lines\",\"line\":{\"color\":\"#1f77b4\",\"width\":1.5},\"y\":[-0.849801,-0.780907],\"type\":\"scatter3d\",\"name\":\"edge (75,187)\",\"opacity\":0.5,\"z\":[-0.482886,-0.401553],\"x\":[-0.736157,-0.752061]},{\"showlegend\":false,\"mode\":\"lines\",\"line\":{\"color\":\"#1f77b4\",\"width\":1.5},\"y\":[-0.849801,-0.988329],\"type\":\"scatter3d\",\"name\":\"edge (75,407)\",\"opacity\":0.5,\"z\":[-0.482886,-0.56891],\"x\":[-0.736157,-0.640271]},{\"showlegend\":false,\"mode\":\"lines\",\"line\":{\"color\":\"#1f77b4\",\"width\":1.5},\"y\":[-0.947466,-0.913967],\"type\":\"scatter3d\",\"name\":\"edge (87,181)\",\"opacity\":0.5,\"z\":[0.796719,0.729],\"x\":[1.024768,0.946133]},{\"showlegend\":false,\"mode\":\"lines\",\"line\":{\"color\":\"#1f77b4\",\"width\":1.5},\"y\":[-0.974194,-0.970153],\"type\":\"scatter3d\",\"name\":\"edge (88,108)\",\"opacity\":0.5,\"z\":[-0.2585,0.005763],\"x\":[-0.346523,-0.242562]},{\"showlegend\":false,\"mode\":\"lines\",\"line\":{\"color\":\"#1f77b4\",\"width\":1.5},\"y\":[-0.974194,-0.994016],\"type\":\"scatter3d\",\"name\":\"edge (88,436)\",\"opacity\":0.5,\"z\":[-0.2585,-0.344905],\"x\":[-0.346523,-0.372052]},{\"showlegend\":false,\"mode\":\"lines\",\"line\":{\"color\":\"#1f77b4\",\"width\":1.5},\"y\":[0.931325,0.851431],\"type\":\"scatter3d\",\"name\":\"edge (90,195)\",\"opacity\":0.5,\"z\":[0.022164,-0.131135],\"x\":[-0.364863,-0.54075]},{\"showlegend\":false,\"mode\":\"lines\",\"line\":{\"color\":\"#1f77b4\",\"width\":1.5},\"y\":[0.931325,0.982644],\"type\":\"scatter3d\",\"name\":\"edge (90,273)\",\"opacity\":0.5,\"z\":[0.022164,-0.005982],\"x\":[-0.364863,-0.185595]},{\"showlegend\":false,\"mode\":\"lines\",\"line\":{\"color\":\"#1f77b4\",\"width\":1.5},\"y\":[0.865399,0.768439],\"type\":\"scatter3d\",\"name\":\"edge (104,115)\",\"opacity\":0.5,\"z\":[0.550391,0.36772],\"x\":[0.780081,0.744673]},{\"showlegend\":false,\"mode\":\"lines\",\"line\":{\"color\":\"#1f77b4\",\"width\":1.5},\"y\":[0.865399,0.801785],\"type\":\"scatter3d\",\"name\":\"edge (104,324)\",\"opacity\":0.5,\"z\":[0.550391,0.551005],\"x\":[0.780081,0.845888]},{\"showlegend\":false,\"mode\":\"lines\",\"line\":{\"color\":\"#1f77b4\",\"width\":1.5},\"y\":[0.997479,1.014642],\"type\":\"scatter3d\",\"name\":\"edge (105,149)\",\"opacity\":0.5,\"z\":[0.245798,0.241552],\"x\":[0.259491,0.174934]},{\"showlegend\":false,\"mode\":\"lines\",\"line\":{\"color\":\"#1f77b4\",\"width\":1.5},\"y\":[0.997479,0.96866],\"type\":\"scatter3d\",\"name\":\"edge (105,442)\",\"opacity\":0.5,\"z\":[0.245798,0.115841],\"x\":[0.259491,0.27424]},{\"showlegend\":false,\"mode\":\"lines\",\"line\":{\"color\":\"#1f77b4\",\"width\":1.5},\"y\":[-0.970153,-1.053078],\"type\":\"scatter3d\",\"name\":\"edge (108,131)\",\"opacity\":0.5,\"z\":[0.005763,0.335077],\"x\":[-0.242562,-0.099933]},{\"showlegend\":false,\"mode\":\"lines\",\"line\":{\"color\":\"#1f77b4\",\"width\":1.5},\"y\":[-1.048389,-0.988329],\"type\":\"scatter3d\",\"name\":\"edge (112,407)\",\"opacity\":0.5,\"z\":[-0.675085,-0.56891],\"x\":[-0.70298,-0.640271]},{\"showlegend\":false,\"mode\":\"lines\",\"line\":{\"color\":\"#1f77b4\",\"width\":1.5},\"y\":[0.768439,0.82729],\"type\":\"scatter3d\",\"name\":\"edge (115,199)\",\"opacity\":0.5,\"z\":[0.36772,0.169359],\"x\":[0.744673,0.587104]},{\"showlegend\":false,\"mode\":\"lines\",\"line\":{\"color\":\"#1f77b4\",\"width\":1.5},\"y\":[-1.269637,-1.217204],\"type\":\"scatter3d\",\"name\":\"edge (117,230)\",\"opacity\":0.5,\"z\":[0.884699,0.864359],\"x\":[0.860627,0.871664]},{\"showlegend\":false,\"mode\":\"lines\",\"line\":{\"color\":\"#1f77b4\",\"width\":1.5},\"y\":[-1.269637,-1.396987],\"type\":\"scatter3d\",\"name\":\"edge (117,422)\",\"opacity\":0.5,\"z\":[0.884699,0.93036],\"x\":[0.860627,0.846324]},{\"showlegend\":false,\"mode\":\"lines\",\"line\":{\"color\":\"#1f77b4\",\"width\":1.5},\"y\":[-0.677166,-0.544675],\"type\":\"scatter3d\",\"name\":\"edge (126,163)\",\"opacity\":0.5,\"z\":[-0.194797,-0.321956],\"x\":[0.76166,0.901474]},{\"showlegend\":false,\"mode\":\"lines\",\"line\":{\"color\":\"#1f77b4\",\"width\":1.5},\"y\":[-0.677166,-0.663237],\"type\":\"scatter3d\",\"name\":\"edge (126,472)\",\"opacity\":0.5,\"z\":[-0.194797,-0.113812],\"x\":[0.76166,0.75707]},{\"showlegend\":false,\"mode\":\"lines\",\"line\":{\"color\":\"#1f77b4\",\"width\":1.5},\"y\":[-0.304151,-0.544675],\"type\":\"scatter3d\",\"name\":\"edge (139,163)\",\"opacity\":0.5,\"z\":[-0.193286,-0.321956],\"x\":[0.972401,0.901474]},{\"showlegend\":false,\"mode\":\"lines\",\"line\":{\"color\":\"#1f77b4\",\"width\":1.5},\"y\":[-0.304151,-0.272752],\"type\":\"scatter3d\",\"name\":\"edge (139,461)\",\"opacity\":0.5,\"z\":[-0.193286,-0.08836],\"x\":[0.972401,0.966149]},{\"showlegend\":false,\"mode\":\"lines\",\"line\":{\"color\":\"#1f77b4\",\"width\":1.5},\"y\":[-0.170261,-0.28312],\"type\":\"scatter3d\",\"name\":\"edge (144,310)\",\"opacity\":0.5,\"z\":[-0.788575,-0.610611],\"x\":[-1.374556,-1.174425]},{\"showlegend\":false,\"mode\":\"lines\",\"line\":{\"color\":\"#1f77b4\",\"width\":1.5},\"y\":[0.881098,0.889215],\"type\":\"scatter3d\",\"name\":\"edge (145,429)\",\"opacity\":0.5,\"z\":[-0.947141,-0.794139],\"x\":[-1.429447,-1.071306]},{\"showlegend\":false,\"mode\":\"lines\",\"line\":{\"color\":\"#1f77b4\",\"width\":1.5},\"y\":[0.881098,0.846858],\"type\":\"scatter3d\",\"name\":\"edge (145,490)\",\"opacity\":0.5,\"z\":[-0.947141,-0.942322],\"x\":[-1.429447,-1.433885]},{\"showlegend\":false,\"mode\":\"lines\",\"line\":{\"color\":\"#1f77b4\",\"width\":1.5},\"y\":[1.014642,1.009263],\"type\":\"scatter3d\",\"name\":\"edge (149,403)\",\"opacity\":0.5,\"z\":[0.241552,0.136718],\"x\":[0.174934,-0.015991]},{\"showlegend\":false,\"mode\":\"lines\",\"line\":{\"color\":\"#1f77b4\",\"width\":1.5},\"y\":[-0.720897,-0.453646],\"type\":\"scatter3d\",\"name\":\"edge (174,432)\",\"opacity\":0.5,\"z\":[-0.74358,-0.67906],\"x\":[-1.119289,-1.181843]},{\"showlegend\":false,\"mode\":\"lines\",\"line\":{\"color\":\"#1f77b4\",\"width\":1.5},\"y\":[-0.913967,-0.866935],\"type\":\"scatter3d\",\"name\":\"edge (181,287)\",\"opacity\":0.5,\"z\":[0.729,0.704921],\"x\":[0.946133,0.956225]},{\"showlegend\":false,\"mode\":\"lines\",\"line\":{\"color\":\"#1f77b4\",\"width\":1.5},\"y\":[-0.780907,-0.83378],\"type\":\"scatter3d\",\"name\":\"edge (187,313)\",\"opacity\":0.5,\"z\":[-0.401553,-0.301747],\"x\":[-0.752061,-0.632619]},{\"showlegend\":false,\"mode\":\"lines\",\"line\":{\"color\":\"#1f77b4\",\"width\":1.5},\"y\":[0.851431,0.798093],\"type\":\"scatter3d\",\"name\":\"edge (195,232)\",\"opacity\":0.5,\"z\":[-0.131135,-0.153777],\"x\":[-0.54075,-0.622076]},{\"showlegend\":false,\"mode\":\"lines\",\"line\":{\"color\":\"#1f77b4\",\"width\":1.5},\"y\":[0.82729,0.833887],\"type\":\"scatter3d\",\"name\":\"edge (199,391)\",\"opacity\":0.5,\"z\":[0.169359,0.061759],\"x\":[0.587104,0.555386]},{\"showlegend\":false,\"mode\":\"lines\",\"line\":{\"color\":\"#1f77b4\",\"width\":1.5},\"y\":[-0.780185,-0.666475],\"type\":\"scatter3d\",\"name\":\"edge (208,224)\",\"opacity\":0.5,\"z\":[0.126209,0.320168],\"x\":[0.638254,0.814776]},{\"showlegend\":false,\"mode\":\"lines\",\"line\":{\"color\":\"#1f77b4\",\"width\":1.5},\"y\":[-1.10486,-1.113365],\"type\":\"scatter3d\",\"name\":\"edge (223,304)\",\"opacity\":0.5,\"z\":[0.467335,0.467567],\"x\":[0.156716,0.077262]},{\"showlegend\":false,\"mode\":\"lines\",\"line\":{\"color\":\"#1f77b4\",\"width\":1.5},\"y\":[-1.10486,-1.217883],\"type\":\"scatter3d\",\"name\":\"edge (223,322)\",\"opacity\":0.5,\"z\":[0.467335,0.638427],\"x\":[0.156716,0.174478]},{\"showlegend\":false,\"mode\":\"lines\",\"line\":{\"color\":\"#1f77b4\",\"width\":1.5},\"y\":[-0.666475,-0.672594],\"type\":\"scatter3d\",\"name\":\"edge (224,293)\",\"opacity\":0.5,\"z\":[0.320168,0.518332],\"x\":[0.814776,0.926408]},{\"showlegend\":false,\"mode\":\"lines\",\"line\":{\"color\":\"#1f77b4\",\"width\":1.5},\"y\":[0.410096,0.143664],\"type\":\"scatter3d\",\"name\":\"edge (252,367)\",\"opacity\":0.5,\"z\":[-0.87899,-0.619625],\"x\":[-1.466913,-1.20658]},{\"showlegend\":false,\"mode\":\"lines\",\"line\":{\"color\":\"#1f77b4\",\"width\":1.5},\"y\":[0.410096,0.846858],\"type\":\"scatter3d\",\"name\":\"edge (252,490)\",\"opacity\":0.5,\"z\":[-0.87899,-0.942322],\"x\":[-1.466913,-1.433885]},{\"showlegend\":false,\"mode\":\"lines\",\"line\":{\"color\":\"#1f77b4\",\"width\":1.5},\"y\":[-0.061606,-0.248473],\"type\":\"scatter3d\",\"name\":\"edge (257,349)\",\"opacity\":0.5,\"z\":[-0.170105,-0.095684],\"x\":[1.012702,0.973375]},{\"showlegend\":false,\"mode\":\"lines\",\"line\":{\"color\":\"#1f77b4\",\"width\":1.5},\"y\":[-0.061606,-0.01087],\"type\":\"scatter3d\",\"name\":\"edge (257,365)\",\"opacity\":0.5,\"z\":[-0.170105,-0.166921],\"x\":[1.012702,1.013971]},{\"showlegend\":false,\"mode\":\"lines\",\"line\":{\"color\":\"#1f77b4\",\"width\":1.5},\"y\":[-1.333443,-1.124627],\"type\":\"scatter3d\",\"name\":\"edge (270,303)\",\"opacity\":0.5,\"z\":[0.814938,0.590899],\"x\":[0.489505,0.398835]},{\"showlegend\":false,\"mode\":\"lines\",\"line\":{\"color\":\"#1f77b4\",\"width\":1.5},\"y\":[-1.333443,-1.396987],\"type\":\"scatter3d\",\"name\":\"edge (270,422)\",\"opacity\":0.5,\"z\":[0.814938,0.93036],\"x\":[0.489505,0.846324]},{\"showlegend\":false,\"mode\":\"lines\",\"line\":{\"color\":\"#1f77b4\",\"width\":1.5},\"y\":[0.982644,1.009263],\"type\":\"scatter3d\",\"name\":\"edge (273,403)\",\"opacity\":0.5,\"z\":[-0.005982,0.136718],\"x\":[-0.185595,-0.015991]},{\"showlegend\":false,\"mode\":\"lines\",\"line\":{\"color\":\"#1f77b4\",\"width\":1.5},\"y\":[-0.866935,-0.672594],\"type\":\"scatter3d\",\"name\":\"edge (287,293)\",\"opacity\":0.5,\"z\":[0.704921,0.518332],\"x\":[0.956225,0.926408]},{\"showlegend\":false,\"mode\":\"lines\",\"line\":{\"color\":\"#1f77b4\",\"width\":1.5},\"y\":[-1.124627,-1.217883],\"type\":\"scatter3d\",\"name\":\"edge (303,322)\",\"opacity\":0.5,\"z\":[0.590899,0.638427],\"x\":[0.398835,0.174478]},{\"showlegend\":false,\"mode\":\"lines\",\"line\":{\"color\":\"#1f77b4\",\"width\":1.5},\"y\":[-0.28312,-0.453646],\"type\":\"scatter3d\",\"name\":\"edge (310,432)\",\"opacity\":0.5,\"z\":[-0.610611,-0.67906],\"x\":[-1.174425,-1.181843]},{\"showlegend\":false,\"mode\":\"lines\",\"line\":{\"color\":\"#1f77b4\",\"width\":1.5},\"y\":[-0.83378,-0.994016],\"type\":\"scatter3d\",\"name\":\"edge (313,436)\",\"opacity\":0.5,\"z\":[-0.301747,-0.344905],\"x\":[-0.632619,-0.372052]},{\"showlegend\":false,\"mode\":\"lines\",\"line\":{\"color\":\"#1f77b4\",\"width\":1.5},\"y\":[0.658074,0.801785],\"type\":\"scatter3d\",\"name\":\"edge (318,324)\",\"opacity\":0.5,\"z\":[0.602656,0.551005],\"x\":[1.005852,0.845888]},{\"showlegend\":false,\"mode\":\"lines\",\"line\":{\"color\":\"#1f77b4\",\"width\":1.5},\"y\":[0.658074,0.550276],\"type\":\"scatter3d\",\"name\":\"edge (318,457)\",\"opacity\":0.5,\"z\":[0.602656,0.473729],\"x\":[1.005852,0.974728]},{\"showlegend\":false,\"mode\":\"lines\",\"line\":{\"color\":\"#1f77b4\",\"width\":1.5},\"y\":[0.883248,0.833887],\"type\":\"scatter3d\",\"name\":\"edge (335,391)\",\"opacity\":0.5,\"z\":[0.007324,0.061759],\"x\":[0.468964,0.555386]},{\"showlegend\":false,\"mode\":\"lines\",\"line\":{\"color\":\"#1f77b4\",\"width\":1.5},\"y\":[0.883248,0.96866],\"type\":\"scatter3d\",\"name\":\"edge (335,442)\",\"opacity\":0.5,\"z\":[0.007324,0.115841],\"x\":[0.468964,0.27424]},{\"showlegend\":false,\"mode\":\"lines\",\"line\":{\"color\":\"#1f77b4\",\"width\":1.5},\"y\":[-0.248473,-0.272752],\"type\":\"scatter3d\",\"name\":\"edge (349,461)\",\"opacity\":0.5,\"z\":[-0.095684,-0.08836],\"x\":[0.973375,0.966149]},{\"showlegend\":false,\"mode\":\"lines\",\"line\":{\"color\":\"#1f77b4\",\"width\":1.5},\"y\":[-0.01087,0.324384],\"type\":\"scatter3d\",\"name\":\"edge (365,408)\",\"opacity\":0.5,\"z\":[-0.166921,-0.002173],\"x\":[1.013971,0.945928]},{\"showlegend\":false,\"mode\":\"lines\",\"line\":{\"color\":\"#1f77b4\",\"width\":1.5},\"y\":[0.143664,0.029141],\"type\":\"scatter3d\",\"name\":\"edge (367,443)\",\"opacity\":0.5,\"z\":[-0.619625,-0.686885],\"x\":[-1.20658,-1.2729]},{\"showlegend\":false,\"mode\":\"lines\",\"line\":{\"color\":\"#1f77b4\",\"width\":1.5},\"y\":[0.367766,0.550276],\"type\":\"scatter3d\",\"name\":\"edge (396,457)\",\"opacity\":0.5,\"z\":[0.229021,0.473729],\"x\":[0.958442,0.974728]},{\"showlegend\":false,\"mode\":\"lines\",\"line\":{\"color\":\"#1f77b4\",\"width\":1.5},\"y\":[0.367766,0.511261],\"type\":\"scatter3d\",\"name\":\"edge (396,479)\",\"opacity\":0.5,\"z\":[0.229021,0.178],\"x\":[0.958442,0.877956]},{\"showlegend\":false,\"mode\":\"lines\",\"line\":{\"color\":\"#1f77b4\",\"width\":1.5},\"y\":[0.324384,0.51159],\"type\":\"scatter3d\",\"name\":\"edge (408,452)\",\"opacity\":0.5,\"z\":[-0.002173,-0.047917],\"x\":[0.945928,0.860566]},{\"showlegend\":false,\"mode\":\"lines\",\"line\":{\"color\":\"#1f77b4\",\"width\":1.5},\"y\":[0.889215,0.697179],\"type\":\"scatter3d\",\"name\":\"edge (429,441)\",\"opacity\":0.5,\"z\":[-0.794139,-0.576927],\"x\":[-1.071306,-0.955989]},{\"showlegend\":false,\"mode\":\"lines\",\"line\":{\"color\":\"#1f77b4\",\"width\":1.5},\"y\":[-0.7945,-0.663237],\"type\":\"scatter3d\",\"name\":\"edge (448,472)\",\"opacity\":0.5,\"z\":[-0.129991,-0.113812],\"x\":[0.621137,0.75707]},{\"showlegend\":false,\"mode\":\"lines\",\"line\":{\"color\":\"#1f77b4\",\"width\":1.5},\"y\":[0.51159,0.511261],\"type\":\"scatter3d\",\"name\":\"edge (452,479)\",\"opacity\":0.5,\"z\":[-0.047917,0.178],\"x\":[0.860566,0.877956]}],{\"showlegend\":false,\"hovermode\":\"closest\",\"height\":800,\"margin\":{\"l\":50,\"b\":50,\"r\":50,\"t\":50},\"scene\":{\"aspectratio\":{\"y\":1.00432056381309,\"x\":1.0},\"aspectmode\":\"manual\"},\"width\":1000},{}); gd.on(\"plotly_hover\",(function (data){var filtered_data=WebIO.PlotlyCommands.filterEventData(gd,data,\"hover\"); return !(filtered_data.isnil) ? (WebIO.setval({\"name\":\"hover\",\"scope\":\"5285784211199482531\",\"id\":\"15451823757914950055\",\"type\":\"observable\"},filtered_data.out)) : undefined})); gd.on(\"plotly_unhover\",(function (){return WebIO.setval({\"name\":\"hover\",\"scope\":\"5285784211199482531\",\"id\":\"15451823757914950055\",\"type\":\"observable\"},{})})); gd.on(\"plotly_selected\",(function (data){var filtered_data=WebIO.PlotlyCommands.filterEventData(gd,data,\"selected\"); return !(filtered_data.isnil) ? (WebIO.setval({\"name\":\"selected\",\"scope\":\"5285784211199482531\",\"id\":\"6125437692774335780\",\"type\":\"observable\"},filtered_data.out)) : undefined})); gd.on(\"plotly_deselect\",(function (){return WebIO.setval({\"name\":\"selected\",\"scope\":\"5285784211199482531\",\"id\":\"6125437692774335780\",\"type\":\"observable\"},{})})); gd.on(\"plotly_relayout\",(function (data){var filtered_data=WebIO.PlotlyCommands.filterEventData(gd,data,\"relayout\"); return !(filtered_data.isnil) ? (WebIO.setval({\"name\":\"relayout\",\"scope\":\"5285784211199482531\",\"id\":\"5201713853313243544\",\"type\":\"observable\"},filtered_data.out)) : undefined})); return gd.on(\"plotly_click\",(function (data){var filtered_data=WebIO.PlotlyCommands.filterEventData(gd,data,\"click\"); return !(filtered_data.isnil) ? (WebIO.setval({\"name\":\"click\",\"scope\":\"5285784211199482531\",\"id\":\"10325981502674893241\",\"type\":\"observable\"},filtered_data.out)) : undefined}))}));\n    (WebIO.importBlock({\"data\":[{\"name\":\"Plotly\",\"type\":\"js\",\"url\":\"/assetserver/0011d14de576c55f77111628d5a39fcc5762f320-plotly.min.js\"},{\"name\":null,\"type\":\"js\",\"url\":\"/assetserver/52365f0a3f606733873c2a55bbe1584aba3b706c-plotly_webio.bundle.js\"}],\"type\":\"async_block\"})).then((imports) => handler.apply(this, imports));\n}\n"
        ],
        "observables": {
         "__gd_contents": {
          "id": "1246458213519265576",
          "sync": false,
          "value": {}
         },
         "__get_gd_contents": {
          "id": "7023121016659032512",
          "sync": false,
          "value": ""
         },
         "_commands": {
          "id": "8580741899277974317",
          "sync": false,
          "value": []
         },
         "_downloadImage": {
          "id": "8522773451506343687",
          "sync": false,
          "value": {}
         },
         "_toImage": {
          "id": "11871827406029247282",
          "sync": false,
          "value": {}
         },
         "click": {
          "id": "10325981502674893241",
          "sync": false,
          "value": {}
         },
         "hover": {
          "id": "15451823757914950055",
          "sync": false,
          "value": {}
         },
         "image": {
          "id": "11305039682168788993",
          "sync": true,
          "value": ""
         },
         "relayout": {
          "id": "5201713853313243544",
          "sync": false,
          "value": {}
         },
         "selected": {
          "id": "6125437692774335780",
          "sync": false,
          "value": {}
         }
        },
        "systemjs_options": null
       },
       "nodeType": "Scope",
       "props": {},
       "type": "node"
      },
      "image/png": "[encoded data removed]",
      "image/svg+xml": [
       "<svg class=\"main-svg\" xmlns=\"http://www.w3.org/2000/svg\" xmlns:xlink=\"http://www.w3.org/1999/xlink\" width=\"700\" height=\"500\" style=\"\" viewBox=\"0 0 700 500\"><rect x=\"0\" y=\"0\" width=\"700\" height=\"500\" style=\"fill: rgb(255, 255, 255); fill-opacity: 1;\"/><defs id=\"defs-b3cb98\"><g class=\"clips\"/><g class=\"gradients\"/></defs><g class=\"bglayer\"/><g class=\"layer-below\"><g class=\"imagelayer\"/><g class=\"shapelayer\"/></g><g class=\"cartesianlayer\"/><g class=\"polarlayer\"/><g class=\"ternarylayer\"/><g class=\"geolayer\"/><g class=\"funnelarealayer\"/><g class=\"pielayer\"/><g class=\"treemaplayer\"/><g class=\"sunburstlayer\"/><g class=\"glimages\"><image xmlns=\"http://www.w3.org/2000/svg\" xlink:href=\"data:image/png;base64,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\" x=\"50\" y=\"50\" width=\"600\" height=\"400\" preserveAspectRatio=\"none\"/></g><defs id=\"topdefs-b3cb98\"><g class=\"clips\"/></defs><g class=\"layer-above\"><g class=\"imagelayer\"/><g class=\"shapelayer\"/></g><g class=\"infolayer\"><g class=\"g-gtitle\"/></g></svg>"
      ],
      "text/html": [
       "<div\n",
       "    class=\"webio-mountpoint\"\n",
       "    data-webio-mountpoint=\"5973925205020676572\"\n",
       ">\n",
       "    <script>\n",
       "    (function(){\n",
       "    // Some integrations (namely, IJulia/Jupyter) use an alternate render pathway than\n",
       "    // just putting the html on the page. If WebIO isn't defined, then it's pretty likely\n",
       "    // that we're in one of those situations and the integration just isn't installed\n",
       "    // correctly.\n",
       "    if (typeof window.WebIO === \"undefined\") {\n",
       "        document\n",
       "            .querySelector('[data-webio-mountpoint=\"5973925205020676572\"]')\n",
       "            .innerHTML = (\n",
       "                '<div style=\"padding: 1em; background-color: #f8d6da; border: 1px solid #f5c6cb; font-weight: bold;\">' +\n",
       "                '<p><strong>WebIO not detected.</strong></p>' +\n",
       "                '<p>Please read ' +\n",
       "                '<a href=\"https://juliagizmos.github.io/WebIO.jl/latest/troubleshooting/not-detected/\" target=\"_blank\">the troubleshooting guide</a> ' +\n",
       "                'for more information on how to resolve this issue.</p>' +\n",
       "                '<p><a href=\"https://juliagizmos.github.io/WebIO.jl/latest/troubleshooting/not-detected/\" target=\"_blank\">https://juliagizmos.github.io/WebIO.jl/latest/troubleshooting/not-detected/</a></p>' +\n",
       "                '</div>'\n",
       "            );\n",
       "        return;\n",
       "    }\n",
       "    WebIO.mount(\n",
       "        document.querySelector('[data-webio-mountpoint=\"5973925205020676572\"]'),\n",
       "        {\"props\":{},\"nodeType\":\"Scope\",\"type\":\"node\",\"instanceArgs\":{\"imports\":{\"data\":[{\"name\":\"Plotly\",\"type\":\"js\",\"url\":\"\\/assetserver\\/0011d14de576c55f77111628d5a39fcc5762f320-plotly.min.js\"},{\"name\":null,\"type\":\"js\",\"url\":\"\\/assetserver\\/52365f0a3f606733873c2a55bbe1584aba3b706c-plotly_webio.bundle.js\"}],\"type\":\"async_block\"},\"id\":\"5285784211199482531\",\"handlers\":{\"_toImage\":[\"(function (options){return this.Plotly.toImage(this.plotElem,options).then((function (data){return WebIO.setval({\\\"name\\\":\\\"image\\\",\\\"scope\\\":\\\"5285784211199482531\\\",\\\"id\\\":\\\"11305039682168788993\\\",\\\"type\\\":\\\"observable\\\"},data)}))})\"],\"__get_gd_contents\":[\"(function (prop){prop==\\\"data\\\" ? (WebIO.setval({\\\"name\\\":\\\"__gd_contents\\\",\\\"scope\\\":\\\"5285784211199482531\\\",\\\"id\\\":\\\"1246458213519265576\\\",\\\"type\\\":\\\"observable\\\"},this.plotElem.data)) : undefined; return prop==\\\"layout\\\" ? (WebIO.setval({\\\"name\\\":\\\"__gd_contents\\\",\\\"scope\\\":\\\"5285784211199482531\\\",\\\"id\\\":\\\"1246458213519265576\\\",\\\"type\\\":\\\"observable\\\"},this.plotElem.layout)) : undefined})\"],\"_downloadImage\":[\"(function (options){return this.Plotly.downloadImage(this.plotElem,options)})\"],\"_commands\":[\"(function (args){var fn=args.shift(); var elem=this.plotElem; var Plotly=this.Plotly; args.unshift(elem); return Plotly[fn].apply(this,args)})\"]},\"systemjs_options\":null,\"mount_callbacks\":[\"function () {\\n    var handler = ((function (Plotly,PlotlyWebIO){PlotlyWebIO.init(WebIO); var gd=this.dom.querySelector(\\\"#plot-71f40a3e-3738-46fd-b6b8-3d73897c6577\\\"); this.plotElem=gd; this.Plotly=Plotly; (window.Blink!==undefined) ? (gd.style.width=\\\"100%\\\", gd.style.height=\\\"100vh\\\", gd.style.marginLeft=\\\"0%\\\", gd.style.marginTop=\\\"0vh\\\") : undefined; window.onresize=(function (){return Plotly.Plots.resize(gd)}); Plotly.newPlot(gd,[{\\\"marker\\\":{\\\"symbol\\\":\\\"circle\\\",\\\"color\\\":[0.6990554964311726,0.6588599135294712,0.281766790512737,0.2438909388966237,0.6174898952839026,0.32126007233452475,0.20791293703995536,0.842317708967009,0.8096763072936619,0.7377790499563999,0.5752517308354618,0.0880554627769723,0.7747438784630325,0.1139477463628055,0.0652147802937392,0.8724264179653045,0.9454307525221085,0.17409915348088523,0.9962927271060164,0.1426999336424812,0.9889163755197464,0.9779219660216285,0.04559480333495985,0.9633908973729826,0.029340791345610212,0.9241745020977818,0.3620783899208613,0.5753342575959454,0.9999964088540537,0.8997795199412358,0.5324581367758909,0.01657308334368214,0.5325414347805496,0.6175710398009505,0.007386206972194043,0.6589390750374693,0.4465567307543618,0.44647374153332375,0.4039195387294103,0.4895093944429974,1.0,0.737852506214639,0.40400145020877803,0.699132088846012,0.48942594190344657,0.36215861721462383,0.8097418869508318,0.0018481786495956967,0.32133802146786816,0.7748136547202347,0.02936896501088504,0.9963034739562657,0.11400078708084917,0.9889341985083784,0.04562962726225161,0.2818418843775504,0.14275831873221692,0.977946733193471,0.9454688079032333,0.963422425360561,0.06525599665887553,0.1741624506795371,0.0,0.8423786064953088,0.08810276642840519,0.2439626215242054,0.9242188031237251,0.20798067771721018,0.8998297386227001,0.016594398158980596,0.8724821825007414,0.007400505130079049,0.0018553542915087644],\\\"line\\\":{\\\"color\\\":[0.9589155328156201,0.9743047203591566,0.9499022682487684,0.9294609216343641,0.9861823283446841,0.9670127025229212,0.9058400032582439,0.8648926774070556,0.8929425994735537,0.9401287018744415,0.9944604191182873,0.7833830069942658,0.9180833186589774,0.8177583966519388,0.7469095553467078,0.8341412242686597,0.728044165107385,0.8792143941358315,0.5644312715088465,0.8497812209615899,0.6068268401376458,0.6484315068643968,0.7086080783843226,0.6889372452928476,0.668762146842034,0.7654627323560086,0.9806655447878708,0.005553898984459842,0.5215586829352233,0.800915913058415,0.9990777045921265,0.6276667660561159,0.0009294743876650006,0.013839036168613102,0.5856261918478983,0.025723545683127586,0.002772357324635258,0.9972204769893904,0.9907597141761985,0.0,0.4785264880627762,0.05991272964605411,0.009226020797901864,0.041119438777582194,1.0,0.01931320975338288,0.10711082589510022,0.5429516779201187,0.03295924217324898,0.08196427933814691,0.3311610932724347,0.4356532822067014,0.18217896038064044,0.39325648358314136,0.2913178739158612,0.05006308760778914,0.15016093319849624,0.35164998325577124,0.2720319056637016,0.31114182119618183,0.25301967065627234,0.12073299871593851,0.4999591714433954,0.1351661930842079,0.21655002999123915,0.07049811516951639,0.23460979278957783,0.09411303106394932,0.1991525428046856,0.37225434346978997,0.16592266878251166,0.4142933844607331,0.4569669738939306],\\\"colorscale\\\":\\\"Jet\\\",\\\"width\\\":2},\\\"cmin\\\":0,\\\"opacity\\\":1,\\\"size\\\":5,\\\"colorscale\\\":\\\"Jet\\\",\\\"cmax\\\":1},\\\"mode\\\":\\\"markers+text\\\",\\\"y\\\":[0.324384,0.51159,0.833887,0.883248,0.511261,0.82729,0.96866,-0.272752,-0.248473,-0.01087,0.367766,0.982644,-0.061606,1.009263,0.931325,-0.304151,-0.663237,0.997479,-0.780185,1.014642,-0.8608,-0.835358,0.851431,-0.7945,0.798093,-0.677166,0.768439,-0.970153,-0.666475,-0.544675,0.550276,0.654614,-0.974194,-1.053078,0.554602,-1.066381,-0.83378,0.801785,0.865399,-0.994016,-0.672594,-1.10486,-0.780907,-1.113365,0.658074,-0.849801,-1.124627,0.697179,-0.988329,-1.217883,0.143664,-0.866935,-0.28312,-0.913967,0.029141,-1.048389,-0.453646,-0.947466,-1.094073,-1.004385,-0.050832,-0.720897,0.889215,-1.333443,-0.170261,-1.010755,-1.217204,-1.005582,-1.269637,0.410096,-1.396987,0.846858,0.881098],\\\"type\\\":\\\"scatter3d\\\",\\\"autocolorscale\\\":false,\\\"text\\\":[\\\"408\\\",\\\"452\\\",\\\"391\\\",\\\"335\\\",\\\"479\\\",\\\"199\\\",\\\"442\\\",\\\"461\\\",\\\"349\\\",\\\"365\\\",\\\"396\\\",\\\"273\\\",\\\"257\\\",\\\"403\\\",\\\"90\\\",\\\"139\\\",\\\"472\\\",\\\"105\\\",\\\"208\\\",\\\"149\\\",\\\"40\\\",\\\"72\\\",\\\"195\\\",\\\"448\\\",\\\"232\\\",\\\"126\\\",\\\"115\\\",\\\"108\\\",\\\"224\\\",\\\"163\\\",\\\"457\\\",\\\"4\\\",\\\"88\\\",\\\"131\\\",\\\"67\\\",\\\"12\\\",\\\"313\\\",\\\"324\\\",\\\"104\\\",\\\"436\\\",\\\"293\\\",\\\"223\\\",\\\"187\\\",\\\"304\\\",\\\"318\\\",\\\"75\\\",\\\"303\\\",\\\"441\\\",\\\"407\\\",\\\"322\\\",\\\"367\\\",\\\"287\\\",\\\"310\\\",\\\"181\\\",\\\"443\\\",\\\"112\\\",\\\"432\\\",\\\"87\\\",\\\"9\\\",\\\"2\\\",\\\"70\\\",\\\"174\\\",\\\"429\\\",\\\"270\\\",\\\"144\\\",\\\"38\\\",\\\"230\\\",\\\"29\\\",\\\"117\\\",\\\"252\\\",\\\"422\\\",\\\"490\\\",\\\"145\\\"],\\\"z\\\":[-0.002173,-0.047917,0.061759,0.007324,0.178,0.169359,0.115841,-0.08836,-0.095684,-0.166921,0.229021,-0.005982,-0.170105,0.136718,0.022164,-0.193286,-0.113812,0.245798,0.126209,0.241552,0.04513,-0.077726,-0.131135,-0.129991,-0.153777,-0.194797,0.36772,0.005763,0.320168,-0.321956,0.473729,-0.352319,-0.2585,0.335077,-0.367586,0.358477,-0.301747,0.551005,0.550391,-0.344905,0.518332,0.467335,-0.401553,0.467567,0.602656,-0.482886,0.590899,-0.576927,-0.56891,0.638427,-0.619625,0.704921,-0.610611,0.729,-0.686885,-0.675085,-0.67906,0.796719,0.80229,0.812769,-0.741182,-0.74358,-0.794139,0.814938,-0.788575,-0.785375,0.864359,-0.80461,0.884699,-0.87899,0.93036,-0.942322,-0.947141],\\\"x\\\":[0.945928,0.860566,0.555386,0.468964,0.877956,0.587104,0.27424,0.966149,0.973375,1.013971,0.958442,-0.185595,1.012702,-0.015991,-0.364863,0.972401,0.75707,0.259491,0.638254,0.174934,0.510943,0.555191,-0.54075,0.621137,-0.622076,0.76166,0.744673,-0.242562,0.814776,0.901474,0.974728,-0.838947,-0.346523,-0.099933,-0.915062,-0.013084,-0.632619,0.845888,0.780081,-0.372052,0.926408,0.156716,-0.752061,0.077262,1.005852,-0.736157,0.398835,-0.955989,-0.640271,0.174478,-1.20658,0.956225,-1.174425,0.946133,-1.2729,-0.70298,-1.181843,1.024768,0.878406,1.000137,-1.327723,-1.119289,-1.071306,0.489505,-1.374556,-0.940998,0.871664,-0.982952,0.860627,-1.466913,0.846324,-1.433885,-1.429447]},{\\\"marker\\\":{\\\"symbol\\\":\\\"circle\\\",\\\"color\\\":\\\"rgb(31,119,180)\\\",\\\"line\\\":{\\\"color\\\":\\\"rgb(31,119,180)\\\",\\\"width\\\":2},\\\"opacity\\\":0.5,\\\"size\\\":5},\\\"mode\\\":\\\"markers\\\",\\\"y\\\":[0.87067,-0.313858,-0.641042,0.94259,0.8694,-0.814077,0.730993,-0.82065,-0.827165,-0.009606,0.672239,0.532563,0.065576,1.060466,1.070628,1.047751,0.425519,-0.089292,-0.42092,1.0733,1.073335,-0.279518,1.112744,-0.976018,-0.885159,-0.744775,-0.449133,-0.668037,1.137331,-1.077495,-0.151436,1.162095,1.143006,-0.26021,-0.741347,0.984445,0.795294,-0.051991,-0.889022,0.982171,1.196092,1.193868,0.4667,0.454345,-0.161157,-0.666952,1.098197,0.73599,-0.788624,0.996672,-0.869014,1.228044,1.130144,0.813963,1.109226,-0.539103,0.577902,-1.078762,0.3921,1.190341,0.420749,1.150211,-1.201012,0.588122,1.311416,1.29667,1.112638,0.732655,-1.068195,1.180339,1.272209,-1.267086,-0.323266,0.943627,0.950713,0.556489,0.51702,-0.686481,1.315557,-0.330629,1.371634,0.19551,0.279981,-1.254848,-0.652766,-1.334688,0.756709,0.802183,1.462667,0.665613,-1.026255,-0.903668,1.3493,-0.805895,0.798115,0.882111,-0.476828,1.477416,-0.3678,0.149953,0.249443,-1.176223,-1.230425,0.013004,1.008324,0.183391,-1.279284,-0.756012,1.544303,-1.371461,-0.719644,-0.127256,0.040023,1.536565,1.139666,1.359507,1.644206,-0.23562,1.29631,-0.222303,1.671787,-0.676325,0.012639,0.181649,-0.809543,-0.532565,0.981263,-0.604529,1.704672,1.352567,1.022574,1.129474,1.255111,0.394154,-1.348208,-1.648289,-1.611021,0.852934,-0.112036,-1.31139,-0.211301,-0.957139,1.798242,-0.952472,1.650641,-1.229321,-1.336164,-1.587098,-1.629661,1.728966,1.190508,-1.395701,-1.765473,-0.426584,1.891679,0.922828,0.510104,-0.988243,-1.031012,-1.379662,-1.089949,1.754905,-1.595407,-0.828869,1.330319,-1.652645,1.911662,-0.401626,-0.155877,0.988269,1.698593,1.517105,-1.608742,1.93442,-1.11876,-0.723009,-0.417574,-1.517099,0.199898,1.711864,0.041332,2.050523,1.960448,1.258338,-1.955114,-1.773864,1.674484,2.105578,2.01874,-1.810992,0.701255,-1.958229,0.3861,-0.967108,-1.566041,0.988626,2.122117,0.610467,-1.095619,0.942812,0.088459,-0.332112,-1.1798,-2.082179,-1.925611,-1.218024,1.876311,-1.986291,-0.227119,0.165917,2.223587,-1.917767,-1.770725,-1.931125,1.136759,1.509145,-1.457719,1.677778,-1.990445,2.248901,0.594992,1.884159,-2.176726,-2.069856,2.21536,2.312587,2.110552,2.25892,-2.201301,0.739208,2.349857,0.503028,0.036944,-0.88846,-0.276139,1.793527,-2.245004,-2.255655,-1.473477,0.8542,-0.181654,-0.740186,-1.619211,0.871144,-2.180828,1.1083,-1.287467,-1.030822,-2.09332,2.100756,1.077164,2.437059,-2.13388,-0.320433,1.512129,-2.363826,0.79541,-1.454415,-2.135682,2.278684,1.768067,-0.167885,2.045708,2.136542,1.499341,-0.63861,1.074596,-2.07693,-0.504554,-0.805418,2.592892,2.569293,1.126727,2.406043,1.790021,-2.316215,-2.001433,-1.568762,-1.402344,2.263007,-2.334671,-1.112427,-1.023003,2.529141,2.556075,-1.653019,-2.067025,0.581919,-0.018492,0.08072,-1.934067,1.230872,2.586554,2.702648,2.518543,-0.563372,1.174574,1.689089,2.314142,-2.255364,1.783824,1.595986,-2.14395,-0.179126,1.954582,2.789075,-1.504441,-0.788691,2.371799,2.826359,-0.700241,1.765538,-1.87902,-1.418041,-2.65285,1.485481,0.072327,-1.521096,1.431653,-0.964729,1.390055,-2.551745,0.96644,2.821223,-0.068941,-1.841214,-1.652646,2.80008,1.929049,-0.645173,2.590641,-2.657087,0.766352,0.626546,-1.560046,0.663001,2.945973,2.143481,2.815808,-2.751434,-1.404026,2.456047,-1.70814,1.966277,-2.67888,-2.531597,2.959878,-1.011317,2.344687,2.885896,2.755658,-0.518923,2.759105,2.456925,-2.67735,2.157329,2.69289,2.995378,2.105509,1.829866,-2.317816,2.954148,2.922056,1.86314,2.765823,2.020247,2.088593,2.144203,2.53431,2.048534,2.395814,-2.477952,2.395452,1.172283,1.776793,0.152993,-2.681437,-0.494438,2.192285,-1.338057,-2.41357,2.383532,-2.799098,-0.521381,-2.830637,-2.800148,2.204855,-2.87195,0.246734,-0.398528,0.812813,-2.828886,-2.234496,1.44191,1.267118,-2.712278,-2.888043,1.293823,1.322082,-0.663681,-1.641353,0.750956,0.389044,-2.248554,-2.047424,-2.184062,-2.200459,0.415959,-2.960721,-2.80598,-0.988968,-0.743059,-2.570733,-1.708244,-1.860991,-1.413107,-2.547876,-2.176493,-0.27324,-0.405064,-0.528872,-2.039535,-2.674865,-2.695216,-0.957431,-2.365574,-2.315109],\\\"type\\\":\\\"scatter3d\\\",\\\"autocolorscale\\\":false,\\\"text\\\":[\\\"433\\\",\\\"205\\\",\\\"26\\\",\\\"83\\\",\\\"94\\\",\\\"425\\\",\\\"236\\\",\\\"68\\\",\\\"314\\\",\\\"328\\\",\\\"190\\\",\\\"234\\\",\\\"401\\\",\\\"486\\\",\\\"393\\\",\\\"132\\\",\\\"11\\\",\\\"54\\\",\\\"169\\\",\\\"41\\\",\\\"288\\\",\\\"5\\\",\\\"23\\\",\\\"44\\\",\\\"114\\\",\\\"382\\\",\\\"166\\\",\\\"481\\\",\\\"373\\\",\\\"387\\\",\\\"402\\\",\\\"173\\\",\\\"172\\\",\\\"350\\\",\\\"152\\\",\\\"57\\\",\\\"464\\\",\\\"385\\\",\\\"386\\\",\\\"334\\\",\\\"435\\\",\\\"291\\\",\\\"213\\\",\\\"460\\\",\\\"465\\\",\\\"298\\\",\\\"167\\\",\\\"311\\\",\\\"25\\\",\\\"459\\\",\\\"339\\\",\\\"470\\\",\\\"483\\\",\\\"477\\\",\\\"466\\\",\\\"404\\\",\\\"343\\\",\\\"78\\\",\\\"308\\\",\\\"229\\\",\\\"271\\\",\\\"397\\\",\\\"381\\\",\\\"39\\\",\\\"249\\\",\\\"398\\\",\\\"348\\\",\\\"107\\\",\\\"188\\\",\\\"268\\\",\\\"204\\\",\\\"48\\\",\\\"45\\\",\\\"453\\\",\\\"134\\\",\\\"52\\\",\\\"51\\\",\\\"439\\\",\\\"20\\\",\\\"280\\\",\\\"33\\\",\\\"254\\\",\\\"21\\\",\\\"197\\\",\\\"214\\\",\\\"170\\\",\\\"58\\\",\\\"265\\\",\\\"16\\\",\\\"233\\\",\\\"79\\\",\\\"203\\\",\\\"263\\\",\\\"84\\\",\\\"219\\\",\\\"438\\\",\\\"192\\\",\\\"142\\\",\\\"185\\\",\\\"178\\\",\\\"143\\\",\\\"65\\\",\\\"53\\\",\\\"363\\\",\\\"428\\\",\\\"85\\\",\\\"217\\\",\\\"346\\\",\\\"89\\\",\\\"154\\\",\\\"312\\\",\\\"6\\\",\\\"421\\\",\\\"274\\\",\\\"210\\\",\\\"157\\\",\\\"492\\\",\\\"158\\\",\\\"165\\\",\\\"495\\\",\\\"413\\\",\\\"309\\\",\\\"246\\\",\\\"162\\\",\\\"475\\\",\\\"61\\\",\\\"121\\\",\\\"456\\\",\\\"264\\\",\\\"494\\\",\\\"76\\\",\\\"347\\\",\\\"202\\\",\\\"478\\\",\\\"394\\\",\\\"468\\\",\\\"183\\\",\\\"281\\\",\\\"333\\\",\\\"127\\\",\\\"168\\\",\\\"156\\\",\\\"352\\\",\\\"198\\\",\\\"34\\\",\\\"296\\\",\\\"243\\\",\\\"418\\\",\\\"245\\\",\\\"380\\\",\\\"499\\\",\\\"27\\\",\\\"95\\\",\\\"267\\\",\\\"201\\\",\\\"247\\\",\\\"102\\\",\\\"437\\\",\\\"290\\\",\\\"342\\\",\\\"49\\\",\\\"125\\\",\\\"237\\\",\\\"491\\\",\\\"18\\\",\\\"151\\\",\\\"444\\\",\\\"302\\\",\\\"450\\\",\\\"353\\\",\\\"440\\\",\\\"228\\\",\\\"297\\\",\\\"59\\\",\\\"159\\\",\\\"225\\\",\\\"357\\\",\\\"392\\\",\\\"116\\\",\\\"321\\\",\\\"14\\\",\\\"161\\\",\\\"99\\\",\\\"35\\\",\\\"238\\\",\\\"91\\\",\\\"493\\\",\\\"331\\\",\\\"338\\\",\\\"122\\\",\\\"488\\\",\\\"358\\\",\\\"307\\\",\\\"369\\\",\\\"356\\\",\\\"417\\\",\\\"253\\\",\\\"360\\\",\\\"286\\\",\\\"371\\\",\\\"124\\\",\\\"473\\\",\\\"81\\\",\\\"211\\\",\\\"278\\\",\\\"150\\\",\\\"366\\\",\\\"480\\\",\\\"200\\\",\\\"399\\\",\\\"226\\\",\\\"276\\\",\\\"284\\\",\\\"351\\\",\\\"431\\\",\\\"364\\\",\\\"206\\\",\\\"135\\\",\\\"164\\\",\\\"390\\\",\\\"372\\\",\\\"269\\\",\\\"221\\\",\\\"378\\\",\\\"294\\\",\\\"359\\\",\\\"244\\\",\\\"283\\\",\\\"282\\\",\\\"222\\\",\\\"412\\\",\\\"140\\\",\\\"500\\\",\\\"111\\\",\\\"32\\\",\\\"383\\\",\\\"71\\\",\\\"3\\\",\\\"15\\\",\\\"141\\\",\\\"445\\\",\\\"148\\\",\\\"146\\\",\\\"191\\\",\\\"235\\\",\\\"1\\\",\\\"73\\\",\\\"426\\\",\\\"427\\\",\\\"315\\\",\\\"496\\\",\\\"455\\\",\\\"405\\\",\\\"180\\\",\\\"423\\\",\\\"130\\\",\\\"160\\\",\\\"74\\\",\\\"10\\\",\\\"374\\\",\\\"118\\\",\\\"47\\\",\\\"375\\\",\\\"110\\\",\\\"344\\\",\\\"414\\\",\\\"43\\\",\\\"325\\\",\\\"409\\\",\\\"93\\\",\\\"153\\\",\\\"212\\\",\\\"277\\\",\\\"37\\\",\\\"255\\\",\\\"177\\\",\\\"86\\\",\\\"330\\\",\\\"133\\\",\\\"128\\\",\\\"136\\\",\\\"323\\\",\\\"77\\\",\\\"30\\\",\\\"362\\\",\\\"471\\\",\\\"489\\\",\\\"424\\\",\\\"451\\\",\\\"106\\\",\\\"259\\\",\\\"498\\\",\\\"184\\\",\\\"218\\\",\\\"147\\\",\\\"220\\\",\\\"194\\\",\\\"326\\\",\\\"82\\\",\\\"7\\\",\\\"319\\\",\\\"469\\\",\\\"113\\\",\\\"379\\\",\\\"354\\\",\\\"186\\\",\\\"467\\\",\\\"241\\\",\\\"463\\\",\\\"60\\\",\\\"100\\\",\\\"337\\\",\\\"80\\\",\\\"216\\\",\\\"109\\\",\\\"416\\\",\\\"476\\\",\\\"13\\\",\\\"175\\\",\\\"250\\\",\\\"129\\\",\\\"248\\\",\\\"31\\\",\\\"56\\\",\\\"305\\\",\\\"301\\\",\\\"179\\\",\\\"262\\\",\\\"400\\\",\\\"123\\\",\\\"419\\\",\\\"482\\\",\\\"69\\\",\\\"97\\\",\\\"182\\\",\\\"8\\\",\\\"215\\\",\\\"189\\\",\\\"138\\\",\\\"487\\\",\\\"42\\\",\\\"66\\\",\\\"285\\\",\\\"411\\\",\\\"120\\\",\\\"196\\\",\\\"368\\\",\\\"300\\\",\\\"336\\\",\\\"497\\\",\\\"332\\\",\\\"275\\\",\\\"63\\\",\\\"24\\\",\\\"327\\\",\\\"240\\\",\\\"239\\\",\\\"474\\\",\\\"231\\\",\\\"316\\\",\\\"289\\\",\\\"50\\\",\\\"92\\\",\\\"103\\\",\\\"22\\\",\\\"227\\\",\\\"207\\\",\\\"279\\\",\\\"430\\\",\\\"64\\\",\\\"260\\\",\\\"384\\\",\\\"242\\\",\\\"46\\\",\\\"420\\\",\\\"462\\\",\\\"395\\\",\\\"446\\\",\\\"19\\\",\\\"370\\\",\\\"266\\\",\\\"355\\\",\\\"55\\\",\\\"485\\\",\\\"388\\\",\\\"434\\\",\\\"193\\\",\\\"299\\\",\\\"171\\\",\\\"345\\\",\\\"376\\\",\\\"447\\\",\\\"17\\\",\\\"361\\\",\\\"176\\\",\\\"454\\\",\\\"101\\\",\\\"261\\\",\\\"36\\\",\\\"119\\\",\\\"410\\\",\\\"458\\\",\\\"306\\\",\\\"96\\\",\\\"320\\\",\\\"62\\\",\\\"415\\\",\\\"295\\\",\\\"272\\\",\\\"406\\\",\\\"258\\\",\\\"98\\\",\\\"341\\\",\\\"449\\\",\\\"209\\\",\\\"137\\\",\\\"292\\\",\\\"251\\\",\\\"340\\\",\\\"389\\\",\\\"256\\\",\\\"484\\\",\\\"377\\\",\\\"329\\\",\\\"155\\\",\\\"28\\\",\\\"317\\\"],\\\"z\\\":[0.166675,0.071776,-0.068871,0.108245,-0.237689,-0.216504,0.213535,-0.244051,-0.250412,-0.039471,0.237035,0.228292,-0.134481,-0.372149,-0.370231,-0.363124,0.26252,-0.408809,-0.188754,-0.40248,0.422412,-0.460755,0.47151,0.428963,0.339891,-0.458575,0.535726,-0.505163,0.552899,-0.438354,0.578355,0.546311,-0.563956,0.421409,-0.52769,-0.58401,-0.586864,0.454042,0.453982,0.560018,0.600867,0.600395,0.53367,-0.638247,0.658812,0.511697,0.601824,0.589298,-0.540191,-0.668592,-0.619446,0.678334,-0.653065,-0.682796,0.7063,-0.658791,-0.620234,0.597697,0.613726,-0.6804,0.622137,-0.708933,-0.616274,0.774978,-0.734131,0.727575,-0.721358,0.789989,0.737368,0.750377,0.80908,-0.704795,0.694645,-0.798997,-0.760631,0.736791,0.837079,0.812944,0.785776,0.824994,-0.803263,-0.81031,0.749475,0.755803,0.734413,-0.774629,0.877644,0.796793,0.846546,-0.857828,0.784999,0.781897,-0.868514,0.871631,-0.878895,-0.879941,0.794642,0.890345,0.804433,-0.879231,-0.881457,-0.860853,-0.859295,0.836876,0.870751,0.936752,0.856161,-0.847209,0.907371,-0.87778,-0.904833,0.941468,0.947389,0.919334,-0.917888,0.916885,-0.937716,0.958639,0.957551,-0.936928,-0.945063,-0.933084,0.890676,0.972261,0.961913,0.972624,0.977695,0.973401,0.961714,-0.956865,0.944987,0.947886,-0.974929,0.934436,-0.952667,-0.946206,-0.949028,-0.96007,-0.976203,0.98287,-0.944424,-0.970845,0.980736,0.988507,0.977359,-0.97119,-0.947448,-0.966229,-0.954211,0.984535,-0.99221,0.993053,0.987458,0.99911,-0.995083,-0.984144,0.971516,0.96554,0.966595,-0.986178,0.999313,-0.998546,0.99769,0.970576,-0.993255,-0.986409,-0.998716,0.999107,-0.986432,-0.999791,-0.999252,0.998929,0.99988,-0.999689,0.998421,0.996703,0.995318,-0.998024,0.990091,0.999945,-0.996577,0.99826,0.994773,0.990932,0.99924,0.997639,-0.994759,0.99334,-0.994515,-1.0,0.999365,-0.999723,0.998798,0.982802,0.986758,-0.998663,0.990388,-0.99881,0.976213,-0.987639,0.999757,0.96678,-0.999537,0.99656,-0.999996,0.96948,0.96825,0.982037,-0.999214,-0.980865,-0.974031,-0.994827,0.999558,-0.99438,-0.976249,-0.985405,-0.986825,-0.981615,-0.998737,-0.96529,0.936058,-0.96132,0.984248,-0.995284,0.960044,-0.949274,-0.955532,0.954347,0.979073,0.908101,0.936215,0.986777,-0.981163,-0.989843,-0.984037,-0.92953,0.969049,0.956926,0.902391,-0.963749,-0.931729,0.884936,-0.94984,-0.959339,-0.967419,-0.919697,0.988106,0.872956,0.900479,-0.909587,0.960078,-0.886054,0.967035,0.841444,0.939408,0.925596,-0.928349,-0.894009,-0.966058,0.822346,-0.843587,0.778563,-0.836336,-0.842651,0.790559,-0.835212,-0.883334,0.937901,-0.926911,0.715762,0.784267,-0.761978,0.716861,0.731094,-0.770539,0.905241,0.92736,-0.933865,0.935145,-0.760445,0.744337,0.672491,-0.760121,-0.731295,0.75256,0.924217,-0.790114,-0.719455,-0.862795,-0.703355,-0.749315,0.610697,0.630969,0.637727,0.626606,0.895448,-0.77633,0.59032,0.708817,-0.740021,-0.720756,0.579852,-0.892389,0.869348,-0.693622,-0.592368,0.528901,0.510496,-0.629798,-0.558506,-0.600474,0.722727,0.4993,-0.867709,0.726512,0.510666,0.838865,-0.591795,-0.706963,0.452409,-0.592401,0.598607,0.439534,-0.451687,-0.486484,0.339619,0.32725,-0.43897,-0.493936,0.305901,0.387026,0.547637,0.299328,0.294966,-0.394604,-0.414459,-0.324166,0.540304,-0.333253,0.618421,-0.80609,0.314218,-0.261917,-0.509538,-0.639752,0.362468,0.280383,-0.1426,-0.398655,0.19016,-0.281208,-0.131233,0.205057,-0.299054,0.402204,0.468411,-0.258053,-0.068826,0.18409,0.119719,0.051985,-0.045465,0.146738,0.067258,0.254307,-0.194174,0.063934,-0.168862,-0.123155,0.02267,-0.154155,0.084216,-0.120564,-0.511868,-0.415595,-0.615963,-0.386236,-0.679281,-0.212212,-0.730072,-0.743069,0.110148,0.588298,0.712176,0.349647,0.209438,0.097364,0.465301,-0.517723,-0.611309,-0.370425,-0.108553,-0.69995,-0.14263,0.272116,-0.614418,0.450364,-0.02175,0.03851,0.610934,0.661232,0.181801,0.367875,-0.634699,0.639818,-0.617209,-0.606078,0.018705,-0.266525,-0.4555,-0.469771,-0.417902,-0.522802,-0.49499,0.507793,-0.430995,0.447476,-0.47186,0.077917,0.213298,-0.193883,-0.431466,-0.383084,-0.238068,0.059169,0.317677,-0.249645],\\\"x\\\":[0.519717,0.952186,0.770597,-0.351154,-0.549803,0.620707,-0.715759,0.622835,0.616874,-1.000733,-0.778399,-0.877433,-1.006951,0.155643,-0.030415,-0.208318,-0.943563,1.083708,-0.926877,-0.155954,-0.209534,1.076785,0.109705,0.500092,-0.582329,0.824861,1.064758,0.920022,0.260363,0.227244,1.174493,-0.027376,0.268832,-1.061707,0.879887,0.665443,0.885639,-1.1078,-0.662946,-0.638591,-0.104525,-0.124059,-1.055754,1.143191,1.237241,-0.925568,-0.48709,-0.937755,-0.848585,0.764927,0.849085,0.304561,-0.51679,0.974072,0.662652,1.125193,-1.069426,-0.521673,-1.145217,-0.434489,-1.142051,0.594411,-0.166285,1.235139,-0.158772,-0.212531,-0.686608,1.177562,0.783123,-0.632213,0.613255,-0.245177,-1.239176,1.032392,-0.959607,-1.20124,1.357815,1.240362,-0.421688,1.396246,-0.301479,1.400417,-1.308345,-0.484688,-1.148793,0.298151,1.319046,-1.142198,0.121253,1.328663,-0.923357,-1.038457,0.665144,1.276771,1.297111,1.243887,-1.308765,0.45098,-1.356995,1.516208,1.507235,0.916524,0.837704,-1.452549,-1.121686,1.639783,-0.75072,-1.259223,-0.332392,0.657528,1.400115,1.658021,1.679439,-0.468913,-1.127514,-0.845255,-0.166343,1.699116,1.117862,1.635438,-0.066528,1.494425,-1.545309,1.756734,1.525102,1.685477,1.497037,1.664513,-0.270136,-1.045388,-1.323976,-1.245537,1.258628,-1.595916,1.02893,0.305906,0.493147,-1.493897,1.77962,1.255796,-1.65786,1.477331,-0.152071,1.584602,-0.688332,1.261874,-1.018514,0.718879,-0.486982,-0.583624,1.449099,1.263013,0.525832,1.910784,-0.187524,-1.57174,-1.687618,-1.431811,-1.406225,1.208817,1.632538,0.841203,1.089753,-1.551702,-1.334129,0.799081,-0.381409,2.002372,-1.829198,1.715232,-0.980623,1.373185,1.214152,0.598636,1.72517,1.951506,2.054653,1.204578,-1.848798,-1.013678,-1.916883,-0.186355,0.75862,1.723973,0.578718,-0.763811,1.271042,0.201775,-0.594981,0.846843,-1.834947,0.267808,-1.912398,1.958941,1.490842,-1.797801,-0.262739,-1.955703,1.927143,1.939759,-1.975964,2.231026,-1.577102,-0.053623,-0.529625,1.886055,1.241728,0.919244,-2.026956,2.188408,-0.112209,0.859549,-0.992133,0.839896,1.902976,-1.559601,1.596367,-1.408892,-0.491525,-0.235323,2.275337,1.275753,0.017428,-0.336344,-0.538422,-0.092849,-0.901155,-0.425795,-0.098613,2.303026,0.085934,-2.10275,-2.192871,-1.94923,-2.160387,1.547326,-0.091517,0.397032,1.933449,-2.099708,2.356163,2.351992,1.651334,-2.109455,0.566403,2.120459,-1.726607,2.264188,1.243682,-1.192279,-2.009205,0.360532,-0.72799,2.520054,-1.789464,0.263914,-2.234352,1.969168,-0.734099,1.186294,1.819414,2.622197,1.519371,-1.370756,2.139285,2.468665,-2.222597,-1.092845,-2.321075,2.575337,-0.378859,0.639169,2.450604,1.185565,1.936922,-0.717832,-1.277089,-1.759939,-1.891031,-1.377728,1.290927,2.504134,2.444342,0.892692,-0.730908,-1.714883,1.598426,2.630952,-2.505486,2.709637,1.829417,2.505885,1.007398,0.608317,1.175437,-2.379381,-2.353506,2.242138,-1.401391,1.433889,-2.017731,2.31851,-1.188355,-2.48776,-1.89205,0.304689,2.41902,2.748978,1.44394,-0.133298,2.710658,-2.031028,2.164648,-2.055366,0.428002,2.443703,-2.543311,2.35805,-2.297733,2.726145,2.437085,1.15518,2.732345,0.636697,2.872862,2.292781,2.437503,-0.748907,2.124332,2.8807,1.35169,0.993402,2.853017,2.888333,2.466972,2.833536,-0.012578,-1.865326,0.855289,0.436522,-2.178554,1.632942,2.423637,-2.077479,0.69903,1.479061,-0.007737,2.813543,-1.735488,0.749971,-1.07975,2.945998,1.122627,1.640435,1.154222,-1.91326,-1.243493,-0.116131,2.112955,2.368225,1.902529,-0.516533,-0.629886,2.348431,-1.074265,2.191978,2.150699,2.077604,1.591118,2.191339,1.785637,1.684771,1.793905,-2.607681,-2.304015,-2.783574,1.162031,-2.688796,-2.014385,-2.325958,-1.139908,-1.811713,-0.231374,-2.651221,0.782793,1.013209,-2.027346,0.275691,-2.844869,-2.762797,-2.813818,0.980808,-1.540735,-2.619095,-2.677578,-0.649587,-0.166622,-2.7064,-2.692146,-2.711644,-2.206685,-2.887274,-2.903931,-1.622406,-1.863544,-1.730932,-1.724028,-2.970846,-0.135681,-0.692775,-2.707843,-2.811972,-1.236053,-2.304883,-2.173654,-2.535111,-1.373053,-1.888629,-2.984478,-2.949301,-2.933735,-2.064619,-1.180339,-1.250651,-2.84127,-1.759527,-1.857766]},{\\\"mode\\\":\\\"lines\\\",\\\"line\\\":{\\\"color\\\":\\\"#1f77b4\\\",\\\"width\\\":1.5},\\\"y\\\":[-1.004385,-1.094073],\\\"type\\\":\\\"scatter3d\\\",\\\"name\\\":\\\"Dim 1 Faces\\\",\\\"opacity\\\":0.5,\\\"z\\\":[0.812769,0.80229],\\\"x\\\":[1.000137,0.878406]},{\\\"showlegend\\\":false,\\\"mode\\\":\\\"lines\\\",\\\"line\\\":{\\\"color\\\":\\\"#1f77b4\\\",\\\"width\\\":1.5},\\\"y\\\":[-1.004385,-0.947466],\\\"type\\\":\\\"scatter3d\\\",\\\"name\\\":\\\"edge (2,87)\\\",\\\"opacity\\\":0.5,\\\"z\\\":[0.812769,0.796719],\\\"x\\\":[1.000137,1.024768]},{\\\"showlegend\\\":false,\\\"mode\\\":\\\"lines\\\",\\\"line\\\":{\\\"color\\\":\\\"#1f77b4\\\",\\\"width\\\":1.5},\\\"y\\\":[0.654614,0.554602],\\\"type\\\":\\\"scatter3d\\\",\\\"name\\\":\\\"edge (4,67)\\\",\\\"opacity\\\":0.5,\\\"z\\\":[-0.352319,-0.367586],\\\"x\\\":[-0.838947,-0.915062]},{\\\"showlegend\\\":false,\\\"mode\\\":\\\"lines\\\",\\\"line\\\":{\\\"color\\\":\\\"#1f77b4\\\",\\\"width\\\":1.5},\\\"y\\\":[0.654614,0.798093],\\\"type\\\":\\\"scatter3d\\\",\\\"name\\\":\\\"edge (4,232)\\\",\\\"opacity\\\":0.5,\\\"z\\\":[-0.352319,-0.153777],\\\"x\\\":[-0.838947,-0.622076]},{\\\"showlegend\\\":false,\\\"mode\\\":\\\"lines\\\",\\\"line\\\":{\\\"color\\\":\\\"#1f77b4\\\",\\\"width\\\":1.5},\\\"y\\\":[-1.094073,-1.217204],\\\"type\\\":\\\"scatter3d\\\",\\\"name\\\":\\\"edge (9,230)\\\",\\\"opacity\\\":0.5,\\\"z\\\":[0.80229,0.864359],\\\"x\\\":[0.878406,0.871664]},{\\\"showlegend\\\":false,\\\"mode\\\":\\\"lines\\\",\\\"line\\\":{\\\"color\\\":\\\"#1f77b4\\\",\\\"width\\\":1.5},\\\"y\\\":[-1.066381,-1.053078],\\\"type\\\":\\\"scatter3d\\\",\\\"name\\\":\\\"edge (12,131)\\\",\\\"opacity\\\":0.5,\\\"z\\\":[0.358477,0.335077],\\\"x\\\":[-0.013084,-0.099933]},{\\\"showlegend\\\":false,\\\"mode\\\":\\\"lines\\\",\\\"line\\\":{\\\"color\\\":\\\"#1f77b4\\\",\\\"width\\\":1.5},\\\"y\\\":[-1.066381,-1.113365],\\\"type\\\":\\\"scatter3d\\\",\\\"name\\\":\\\"edge (12,304)\\\",\\\"opacity\\\":0.5,\\\"z\\\":[0.358477,0.467567],\\\"x\\\":[-0.013084,0.077262]},{\\\"showlegend\\\":false,\\\"mode\\\":\\\"lines\\\",\\\"line\\\":{\\\"color\\\":\\\"#1f77b4\\\",\\\"width\\\":1.5},\\\"y\\\":[-1.005582,-1.010755],\\\"type\\\":\\\"scatter3d\\\",\\\"name\\\":\\\"edge (29,38)\\\",\\\"opacity\\\":0.5,\\\"z\\\":[-0.80461,-0.785375],\\\"x\\\":[-0.982952,-0.940998]},{\\\"showlegend\\\":false,\\\"mode\\\":\\\"lines\\\",\\\"line\\\":{\\\"color\\\":\\\"#1f77b4\\\",\\\"width\\\":1.5},\\\"y\\\":[-1.005582,-0.720897],\\\"type\\\":\\\"scatter3d\\\",\\\"name\\\":\\\"edge (29,174)\\\",\\\"opacity\\\":0.5,\\\"z\\\":[-0.80461,-0.74358],\\\"x\\\":[-0.982952,-1.119289]},{\\\"showlegend\\\":false,\\\"mode\\\":\\\"lines\\\",\\\"line\\\":{\\\"color\\\":\\\"#1f77b4\\\",\\\"width\\\":1.5},\\\"y\\\":[-1.010755,-1.048389],\\\"type\\\":\\\"scatter3d\\\",\\\"name\\\":\\\"edge (38,112)\\\",\\\"opacity\\\":0.5,\\\"z\\\":[-0.785375,-0.675085],\\\"x\\\":[-0.940998,-0.70298]},{\\\"showlegend\\\":false,\\\"mode\\\":\\\"lines\\\",\\\"line\\\":{\\\"color\\\":\\\"#1f77b4\\\",\\\"width\\\":1.5},\\\"y\\\":[-0.8608,-0.835358],\\\"type\\\":\\\"scatter3d\\\",\\\"name\\\":\\\"edge (40,72)\\\",\\\"opacity\\\":0.5,\\\"z\\\":[0.04513,-0.077726],\\\"x\\\":[0.510943,0.555191]},{\\\"showlegend\\\":false,\\\"mode\\\":\\\"lines\\\",\\\"line\\\":{\\\"color\\\":\\\"#1f77b4\\\",\\\"width\\\":1.5},\\\"y\\\":[-0.8608,-0.780185],\\\"type\\\":\\\"scatter3d\\\",\\\"name\\\":\\\"edge (40,208)\\\",\\\"opacity\\\":0.5,\\\"z\\\":[0.04513,0.126209],\\\"x\\\":[0.510943,0.638254]},{\\\"showlegend\\\":false,\\\"mode\\\":\\\"lines\\\",\\\"line\\\":{\\\"color\\\":\\\"#1f77b4\\\",\\\"width\\\":1.5},\\\"y\\\":[0.554602,0.697179],\\\"type\\\":\\\"scatter3d\\\",\\\"name\\\":\\\"edge (67,441)\\\",\\\"opacity\\\":0.5,\\\"z\\\":[-0.367586,-0.576927],\\\"x\\\":[-0.915062,-0.955989]},{\\\"showlegend\\\":false,\\\"mode\\\":\\\"lines\\\",\\\"line\\\":{\\\"color\\\":\\\"#1f77b4\\\",\\\"width\\\":1.5},\\\"y\\\":[-0.050832,-0.170261],\\\"type\\\":\\\"scatter3d\\\",\\\"name\\\":\\\"edge (70,144)\\\",\\\"opacity\\\":0.5,\\\"z\\\":[-0.741182,-0.788575],\\\"x\\\":[-1.327723,-1.374556]},{\\\"showlegend\\\":false,\\\"mode\\\":\\\"lines\\\",\\\"line\\\":{\\\"color\\\":\\\"#1f77b4\\\",\\\"width\\\":1.5},\\\"y\\\":[-0.050832,0.029141],\\\"type\\\":\\\"scatter3d\\\",\\\"name\\\":\\\"edge (70,443)\\\",\\\"opacity\\\":0.5,\\\"z\\\":[-0.741182,-0.686885],\\\"x\\\":[-1.327723,-1.2729]},{\\\"showlegend\\\":false,\\\"mode\\\":\\\"lines\\\",\\\"line\\\":{\\\"color\\\":\\\"#1f77b4\\\",\\\"width\\\":1.5},\\\"y\\\":[-0.835358,-0.7945],\\\"type\\\":\\\"scatter3d\\\",\\\"name\\\":\\\"edge (72,448)\\\",\\\"opacity\\\":0.5,\\\"z\\\":[-0.077726,-0.129991],\\\"x\\\":[0.555191,0.621137]},{\\\"showlegend\\\":false,\\\"mode\\\":\\\"lines\\\",\\\"line\\\":{\\\"color\\\":\\\"#1f77b4\\\",\\\"width\\\":1.5},\\\"y\\\":[-0.849801,-0.780907],\\\"type\\\":\\\"scatter3d\\\",\\\"name\\\":\\\"edge (75,187)\\\",\\\"opacity\\\":0.5,\\\"z\\\":[-0.482886,-0.401553],\\\"x\\\":[-0.736157,-0.752061]},{\\\"showlegend\\\":false,\\\"mode\\\":\\\"lines\\\",\\\"line\\\":{\\\"color\\\":\\\"#1f77b4\\\",\\\"width\\\":1.5},\\\"y\\\":[-0.849801,-0.988329],\\\"type\\\":\\\"scatter3d\\\",\\\"name\\\":\\\"edge (75,407)\\\",\\\"opacity\\\":0.5,\\\"z\\\":[-0.482886,-0.56891],\\\"x\\\":[-0.736157,-0.640271]},{\\\"showlegend\\\":false,\\\"mode\\\":\\\"lines\\\",\\\"line\\\":{\\\"color\\\":\\\"#1f77b4\\\",\\\"width\\\":1.5},\\\"y\\\":[-0.947466,-0.913967],\\\"type\\\":\\\"scatter3d\\\",\\\"name\\\":\\\"edge (87,181)\\\",\\\"opacity\\\":0.5,\\\"z\\\":[0.796719,0.729],\\\"x\\\":[1.024768,0.946133]},{\\\"showlegend\\\":false,\\\"mode\\\":\\\"lines\\\",\\\"line\\\":{\\\"color\\\":\\\"#1f77b4\\\",\\\"width\\\":1.5},\\\"y\\\":[-0.974194,-0.970153],\\\"type\\\":\\\"scatter3d\\\",\\\"name\\\":\\\"edge (88,108)\\\",\\\"opacity\\\":0.5,\\\"z\\\":[-0.2585,0.005763],\\\"x\\\":[-0.346523,-0.242562]},{\\\"showlegend\\\":false,\\\"mode\\\":\\\"lines\\\",\\\"line\\\":{\\\"color\\\":\\\"#1f77b4\\\",\\\"width\\\":1.5},\\\"y\\\":[-0.974194,-0.994016],\\\"type\\\":\\\"scatter3d\\\",\\\"name\\\":\\\"edge (88,436)\\\",\\\"opacity\\\":0.5,\\\"z\\\":[-0.2585,-0.344905],\\\"x\\\":[-0.346523,-0.372052]},{\\\"showlegend\\\":false,\\\"mode\\\":\\\"lines\\\",\\\"line\\\":{\\\"color\\\":\\\"#1f77b4\\\",\\\"width\\\":1.5},\\\"y\\\":[0.931325,0.851431],\\\"type\\\":\\\"scatter3d\\\",\\\"name\\\":\\\"edge (90,195)\\\",\\\"opacity\\\":0.5,\\\"z\\\":[0.022164,-0.131135],\\\"x\\\":[-0.364863,-0.54075]},{\\\"showlegend\\\":false,\\\"mode\\\":\\\"lines\\\",\\\"line\\\":{\\\"color\\\":\\\"#1f77b4\\\",\\\"width\\\":1.5},\\\"y\\\":[0.931325,0.982644],\\\"type\\\":\\\"scatter3d\\\",\\\"name\\\":\\\"edge (90,273)\\\",\\\"opacity\\\":0.5,\\\"z\\\":[0.022164,-0.005982],\\\"x\\\":[-0.364863,-0.185595]},{\\\"showlegend\\\":false,\\\"mode\\\":\\\"lines\\\",\\\"line\\\":{\\\"color\\\":\\\"#1f77b4\\\",\\\"width\\\":1.5},\\\"y\\\":[0.865399,0.768439],\\\"type\\\":\\\"scatter3d\\\",\\\"name\\\":\\\"edge (104,115)\\\",\\\"opacity\\\":0.5,\\\"z\\\":[0.550391,0.36772],\\\"x\\\":[0.780081,0.744673]},{\\\"showlegend\\\":false,\\\"mode\\\":\\\"lines\\\",\\\"line\\\":{\\\"color\\\":\\\"#1f77b4\\\",\\\"width\\\":1.5},\\\"y\\\":[0.865399,0.801785],\\\"type\\\":\\\"scatter3d\\\",\\\"name\\\":\\\"edge (104,324)\\\",\\\"opacity\\\":0.5,\\\"z\\\":[0.550391,0.551005],\\\"x\\\":[0.780081,0.845888]},{\\\"showlegend\\\":false,\\\"mode\\\":\\\"lines\\\",\\\"line\\\":{\\\"color\\\":\\\"#1f77b4\\\",\\\"width\\\":1.5},\\\"y\\\":[0.997479,1.014642],\\\"type\\\":\\\"scatter3d\\\",\\\"name\\\":\\\"edge (105,149)\\\",\\\"opacity\\\":0.5,\\\"z\\\":[0.245798,0.241552],\\\"x\\\":[0.259491,0.174934]},{\\\"showlegend\\\":false,\\\"mode\\\":\\\"lines\\\",\\\"line\\\":{\\\"color\\\":\\\"#1f77b4\\\",\\\"width\\\":1.5},\\\"y\\\":[0.997479,0.96866],\\\"type\\\":\\\"scatter3d\\\",\\\"name\\\":\\\"edge (105,442)\\\",\\\"opacity\\\":0.5,\\\"z\\\":[0.245798,0.115841],\\\"x\\\":[0.259491,0.27424]},{\\\"showlegend\\\":false,\\\"mode\\\":\\\"lines\\\",\\\"line\\\":{\\\"color\\\":\\\"#1f77b4\\\",\\\"width\\\":1.5},\\\"y\\\":[-0.970153,-1.053078],\\\"type\\\":\\\"scatter3d\\\",\\\"name\\\":\\\"edge (108,131)\\\",\\\"opacity\\\":0.5,\\\"z\\\":[0.005763,0.335077],\\\"x\\\":[-0.242562,-0.099933]},{\\\"showlegend\\\":false,\\\"mode\\\":\\\"lines\\\",\\\"line\\\":{\\\"color\\\":\\\"#1f77b4\\\",\\\"width\\\":1.5},\\\"y\\\":[-1.048389,-0.988329],\\\"type\\\":\\\"scatter3d\\\",\\\"name\\\":\\\"edge (112,407)\\\",\\\"opacity\\\":0.5,\\\"z\\\":[-0.675085,-0.56891],\\\"x\\\":[-0.70298,-0.640271]},{\\\"showlegend\\\":false,\\\"mode\\\":\\\"lines\\\",\\\"line\\\":{\\\"color\\\":\\\"#1f77b4\\\",\\\"width\\\":1.5},\\\"y\\\":[0.768439,0.82729],\\\"type\\\":\\\"scatter3d\\\",\\\"name\\\":\\\"edge (115,199)\\\",\\\"opacity\\\":0.5,\\\"z\\\":[0.36772,0.169359],\\\"x\\\":[0.744673,0.587104]},{\\\"showlegend\\\":false,\\\"mode\\\":\\\"lines\\\",\\\"line\\\":{\\\"color\\\":\\\"#1f77b4\\\",\\\"width\\\":1.5},\\\"y\\\":[-1.269637,-1.217204],\\\"type\\\":\\\"scatter3d\\\",\\\"name\\\":\\\"edge (117,230)\\\",\\\"opacity\\\":0.5,\\\"z\\\":[0.884699,0.864359],\\\"x\\\":[0.860627,0.871664]},{\\\"showlegend\\\":false,\\\"mode\\\":\\\"lines\\\",\\\"line\\\":{\\\"color\\\":\\\"#1f77b4\\\",\\\"width\\\":1.5},\\\"y\\\":[-1.269637,-1.396987],\\\"type\\\":\\\"scatter3d\\\",\\\"name\\\":\\\"edge (117,422)\\\",\\\"opacity\\\":0.5,\\\"z\\\":[0.884699,0.93036],\\\"x\\\":[0.860627,0.846324]},{\\\"showlegend\\\":false,\\\"mode\\\":\\\"lines\\\",\\\"line\\\":{\\\"color\\\":\\\"#1f77b4\\\",\\\"width\\\":1.5},\\\"y\\\":[-0.677166,-0.544675],\\\"type\\\":\\\"scatter3d\\\",\\\"name\\\":\\\"edge (126,163)\\\",\\\"opacity\\\":0.5,\\\"z\\\":[-0.194797,-0.321956],\\\"x\\\":[0.76166,0.901474]},{\\\"showlegend\\\":false,\\\"mode\\\":\\\"lines\\\",\\\"line\\\":{\\\"color\\\":\\\"#1f77b4\\\",\\\"width\\\":1.5},\\\"y\\\":[-0.677166,-0.663237],\\\"type\\\":\\\"scatter3d\\\",\\\"name\\\":\\\"edge (126,472)\\\",\\\"opacity\\\":0.5,\\\"z\\\":[-0.194797,-0.113812],\\\"x\\\":[0.76166,0.75707]},{\\\"showlegend\\\":false,\\\"mode\\\":\\\"lines\\\",\\\"line\\\":{\\\"color\\\":\\\"#1f77b4\\\",\\\"width\\\":1.5},\\\"y\\\":[-0.304151,-0.544675],\\\"type\\\":\\\"scatter3d\\\",\\\"name\\\":\\\"edge (139,163)\\\",\\\"opacity\\\":0.5,\\\"z\\\":[-0.193286,-0.321956],\\\"x\\\":[0.972401,0.901474]},{\\\"showlegend\\\":false,\\\"mode\\\":\\\"lines\\\",\\\"line\\\":{\\\"color\\\":\\\"#1f77b4\\\",\\\"width\\\":1.5},\\\"y\\\":[-0.304151,-0.272752],\\\"type\\\":\\\"scatter3d\\\",\\\"name\\\":\\\"edge (139,461)\\\",\\\"opacity\\\":0.5,\\\"z\\\":[-0.193286,-0.08836],\\\"x\\\":[0.972401,0.966149]},{\\\"showlegend\\\":false,\\\"mode\\\":\\\"lines\\\",\\\"line\\\":{\\\"color\\\":\\\"#1f77b4\\\",\\\"width\\\":1.5},\\\"y\\\":[-0.170261,-0.28312],\\\"type\\\":\\\"scatter3d\\\",\\\"name\\\":\\\"edge (144,310)\\\",\\\"opacity\\\":0.5,\\\"z\\\":[-0.788575,-0.610611],\\\"x\\\":[-1.374556,-1.174425]},{\\\"showlegend\\\":false,\\\"mode\\\":\\\"lines\\\",\\\"line\\\":{\\\"color\\\":\\\"#1f77b4\\\",\\\"width\\\":1.5},\\\"y\\\":[0.881098,0.889215],\\\"type\\\":\\\"scatter3d\\\",\\\"name\\\":\\\"edge (145,429)\\\",\\\"opacity\\\":0.5,\\\"z\\\":[-0.947141,-0.794139],\\\"x\\\":[-1.429447,-1.071306]},{\\\"showlegend\\\":false,\\\"mode\\\":\\\"lines\\\",\\\"line\\\":{\\\"color\\\":\\\"#1f77b4\\\",\\\"width\\\":1.5},\\\"y\\\":[0.881098,0.846858],\\\"type\\\":\\\"scatter3d\\\",\\\"name\\\":\\\"edge (145,490)\\\",\\\"opacity\\\":0.5,\\\"z\\\":[-0.947141,-0.942322],\\\"x\\\":[-1.429447,-1.433885]},{\\\"showlegend\\\":false,\\\"mode\\\":\\\"lines\\\",\\\"line\\\":{\\\"color\\\":\\\"#1f77b4\\\",\\\"width\\\":1.5},\\\"y\\\":[1.014642,1.009263],\\\"type\\\":\\\"scatter3d\\\",\\\"name\\\":\\\"edge (149,403)\\\",\\\"opacity\\\":0.5,\\\"z\\\":[0.241552,0.136718],\\\"x\\\":[0.174934,-0.015991]},{\\\"showlegend\\\":false,\\\"mode\\\":\\\"lines\\\",\\\"line\\\":{\\\"color\\\":\\\"#1f77b4\\\",\\\"width\\\":1.5},\\\"y\\\":[-0.720897,-0.453646],\\\"type\\\":\\\"scatter3d\\\",\\\"name\\\":\\\"edge (174,432)\\\",\\\"opacity\\\":0.5,\\\"z\\\":[-0.74358,-0.67906],\\\"x\\\":[-1.119289,-1.181843]},{\\\"showlegend\\\":false,\\\"mode\\\":\\\"lines\\\",\\\"line\\\":{\\\"color\\\":\\\"#1f77b4\\\",\\\"width\\\":1.5},\\\"y\\\":[-0.913967,-0.866935],\\\"type\\\":\\\"scatter3d\\\",\\\"name\\\":\\\"edge (181,287)\\\",\\\"opacity\\\":0.5,\\\"z\\\":[0.729,0.704921],\\\"x\\\":[0.946133,0.956225]},{\\\"showlegend\\\":false,\\\"mode\\\":\\\"lines\\\",\\\"line\\\":{\\\"color\\\":\\\"#1f77b4\\\",\\\"width\\\":1.5},\\\"y\\\":[-0.780907,-0.83378],\\\"type\\\":\\\"scatter3d\\\",\\\"name\\\":\\\"edge (187,313)\\\",\\\"opacity\\\":0.5,\\\"z\\\":[-0.401553,-0.301747],\\\"x\\\":[-0.752061,-0.632619]},{\\\"showlegend\\\":false,\\\"mode\\\":\\\"lines\\\",\\\"line\\\":{\\\"color\\\":\\\"#1f77b4\\\",\\\"width\\\":1.5},\\\"y\\\":[0.851431,0.798093],\\\"type\\\":\\\"scatter3d\\\",\\\"name\\\":\\\"edge (195,232)\\\",\\\"opacity\\\":0.5,\\\"z\\\":[-0.131135,-0.153777],\\\"x\\\":[-0.54075,-0.622076]},{\\\"showlegend\\\":false,\\\"mode\\\":\\\"lines\\\",\\\"line\\\":{\\\"color\\\":\\\"#1f77b4\\\",\\\"width\\\":1.5},\\\"y\\\":[0.82729,0.833887],\\\"type\\\":\\\"scatter3d\\\",\\\"name\\\":\\\"edge (199,391)\\\",\\\"opacity\\\":0.5,\\\"z\\\":[0.169359,0.061759],\\\"x\\\":[0.587104,0.555386]},{\\\"showlegend\\\":false,\\\"mode\\\":\\\"lines\\\",\\\"line\\\":{\\\"color\\\":\\\"#1f77b4\\\",\\\"width\\\":1.5},\\\"y\\\":[-0.780185,-0.666475],\\\"type\\\":\\\"scatter3d\\\",\\\"name\\\":\\\"edge (208,224)\\\",\\\"opacity\\\":0.5,\\\"z\\\":[0.126209,0.320168],\\\"x\\\":[0.638254,0.814776]},{\\\"showlegend\\\":false,\\\"mode\\\":\\\"lines\\\",\\\"line\\\":{\\\"color\\\":\\\"#1f77b4\\\",\\\"width\\\":1.5},\\\"y\\\":[-1.10486,-1.113365],\\\"type\\\":\\\"scatter3d\\\",\\\"name\\\":\\\"edge (223,304)\\\",\\\"opacity\\\":0.5,\\\"z\\\":[0.467335,0.467567],\\\"x\\\":[0.156716,0.077262]},{\\\"showlegend\\\":false,\\\"mode\\\":\\\"lines\\\",\\\"line\\\":{\\\"color\\\":\\\"#1f77b4\\\",\\\"width\\\":1.5},\\\"y\\\":[-1.10486,-1.217883],\\\"type\\\":\\\"scatter3d\\\",\\\"name\\\":\\\"edge (223,322)\\\",\\\"opacity\\\":0.5,\\\"z\\\":[0.467335,0.638427],\\\"x\\\":[0.156716,0.174478]},{\\\"showlegend\\\":false,\\\"mode\\\":\\\"lines\\\",\\\"line\\\":{\\\"color\\\":\\\"#1f77b4\\\",\\\"width\\\":1.5},\\\"y\\\":[-0.666475,-0.672594],\\\"type\\\":\\\"scatter3d\\\",\\\"name\\\":\\\"edge (224,293)\\\",\\\"opacity\\\":0.5,\\\"z\\\":[0.320168,0.518332],\\\"x\\\":[0.814776,0.926408]},{\\\"showlegend\\\":false,\\\"mode\\\":\\\"lines\\\",\\\"line\\\":{\\\"color\\\":\\\"#1f77b4\\\",\\\"width\\\":1.5},\\\"y\\\":[0.410096,0.143664],\\\"type\\\":\\\"scatter3d\\\",\\\"name\\\":\\\"edge (252,367)\\\",\\\"opacity\\\":0.5,\\\"z\\\":[-0.87899,-0.619625],\\\"x\\\":[-1.466913,-1.20658]},{\\\"showlegend\\\":false,\\\"mode\\\":\\\"lines\\\",\\\"line\\\":{\\\"color\\\":\\\"#1f77b4\\\",\\\"width\\\":1.5},\\\"y\\\":[0.410096,0.846858],\\\"type\\\":\\\"scatter3d\\\",\\\"name\\\":\\\"edge (252,490)\\\",\\\"opacity\\\":0.5,\\\"z\\\":[-0.87899,-0.942322],\\\"x\\\":[-1.466913,-1.433885]},{\\\"showlegend\\\":false,\\\"mode\\\":\\\"lines\\\",\\\"line\\\":{\\\"color\\\":\\\"#1f77b4\\\",\\\"width\\\":1.5},\\\"y\\\":[-0.061606,-0.248473],\\\"type\\\":\\\"scatter3d\\\",\\\"name\\\":\\\"edge (257,349)\\\",\\\"opacity\\\":0.5,\\\"z\\\":[-0.170105,-0.095684],\\\"x\\\":[1.012702,0.973375]},{\\\"showlegend\\\":false,\\\"mode\\\":\\\"lines\\\",\\\"line\\\":{\\\"color\\\":\\\"#1f77b4\\\",\\\"width\\\":1.5},\\\"y\\\":[-0.061606,-0.01087],\\\"type\\\":\\\"scatter3d\\\",\\\"name\\\":\\\"edge (257,365)\\\",\\\"opacity\\\":0.5,\\\"z\\\":[-0.170105,-0.166921],\\\"x\\\":[1.012702,1.013971]},{\\\"showlegend\\\":false,\\\"mode\\\":\\\"lines\\\",\\\"line\\\":{\\\"color\\\":\\\"#1f77b4\\\",\\\"width\\\":1.5},\\\"y\\\":[-1.333443,-1.124627],\\\"type\\\":\\\"scatter3d\\\",\\\"name\\\":\\\"edge (270,303)\\\",\\\"opacity\\\":0.5,\\\"z\\\":[0.814938,0.590899],\\\"x\\\":[0.489505,0.398835]},{\\\"showlegend\\\":false,\\\"mode\\\":\\\"lines\\\",\\\"line\\\":{\\\"color\\\":\\\"#1f77b4\\\",\\\"width\\\":1.5},\\\"y\\\":[-1.333443,-1.396987],\\\"type\\\":\\\"scatter3d\\\",\\\"name\\\":\\\"edge (270,422)\\\",\\\"opacity\\\":0.5,\\\"z\\\":[0.814938,0.93036],\\\"x\\\":[0.489505,0.846324]},{\\\"showlegend\\\":false,\\\"mode\\\":\\\"lines\\\",\\\"line\\\":{\\\"color\\\":\\\"#1f77b4\\\",\\\"width\\\":1.5},\\\"y\\\":[0.982644,1.009263],\\\"type\\\":\\\"scatter3d\\\",\\\"name\\\":\\\"edge (273,403)\\\",\\\"opacity\\\":0.5,\\\"z\\\":[-0.005982,0.136718],\\\"x\\\":[-0.185595,-0.015991]},{\\\"showlegend\\\":false,\\\"mode\\\":\\\"lines\\\",\\\"line\\\":{\\\"color\\\":\\\"#1f77b4\\\",\\\"width\\\":1.5},\\\"y\\\":[-0.866935,-0.672594],\\\"type\\\":\\\"scatter3d\\\",\\\"name\\\":\\\"edge (287,293)\\\",\\\"opacity\\\":0.5,\\\"z\\\":[0.704921,0.518332],\\\"x\\\":[0.956225,0.926408]},{\\\"showlegend\\\":false,\\\"mode\\\":\\\"lines\\\",\\\"line\\\":{\\\"color\\\":\\\"#1f77b4\\\",\\\"width\\\":1.5},\\\"y\\\":[-1.124627,-1.217883],\\\"type\\\":\\\"scatter3d\\\",\\\"name\\\":\\\"edge (303,322)\\\",\\\"opacity\\\":0.5,\\\"z\\\":[0.590899,0.638427],\\\"x\\\":[0.398835,0.174478]},{\\\"showlegend\\\":false,\\\"mode\\\":\\\"lines\\\",\\\"line\\\":{\\\"color\\\":\\\"#1f77b4\\\",\\\"width\\\":1.5},\\\"y\\\":[-0.28312,-0.453646],\\\"type\\\":\\\"scatter3d\\\",\\\"name\\\":\\\"edge (310,432)\\\",\\\"opacity\\\":0.5,\\\"z\\\":[-0.610611,-0.67906],\\\"x\\\":[-1.174425,-1.181843]},{\\\"showlegend\\\":false,\\\"mode\\\":\\\"lines\\\",\\\"line\\\":{\\\"color\\\":\\\"#1f77b4\\\",\\\"width\\\":1.5},\\\"y\\\":[-0.83378,-0.994016],\\\"type\\\":\\\"scatter3d\\\",\\\"name\\\":\\\"edge (313,436)\\\",\\\"opacity\\\":0.5,\\\"z\\\":[-0.301747,-0.344905],\\\"x\\\":[-0.632619,-0.372052]},{\\\"showlegend\\\":false,\\\"mode\\\":\\\"lines\\\",\\\"line\\\":{\\\"color\\\":\\\"#1f77b4\\\",\\\"width\\\":1.5},\\\"y\\\":[0.658074,0.801785],\\\"type\\\":\\\"scatter3d\\\",\\\"name\\\":\\\"edge (318,324)\\\",\\\"opacity\\\":0.5,\\\"z\\\":[0.602656,0.551005],\\\"x\\\":[1.005852,0.845888]},{\\\"showlegend\\\":false,\\\"mode\\\":\\\"lines\\\",\\\"line\\\":{\\\"color\\\":\\\"#1f77b4\\\",\\\"width\\\":1.5},\\\"y\\\":[0.658074,0.550276],\\\"type\\\":\\\"scatter3d\\\",\\\"name\\\":\\\"edge (318,457)\\\",\\\"opacity\\\":0.5,\\\"z\\\":[0.602656,0.473729],\\\"x\\\":[1.005852,0.974728]},{\\\"showlegend\\\":false,\\\"mode\\\":\\\"lines\\\",\\\"line\\\":{\\\"color\\\":\\\"#1f77b4\\\",\\\"width\\\":1.5},\\\"y\\\":[0.883248,0.833887],\\\"type\\\":\\\"scatter3d\\\",\\\"name\\\":\\\"edge (335,391)\\\",\\\"opacity\\\":0.5,\\\"z\\\":[0.007324,0.061759],\\\"x\\\":[0.468964,0.555386]},{\\\"showlegend\\\":false,\\\"mode\\\":\\\"lines\\\",\\\"line\\\":{\\\"color\\\":\\\"#1f77b4\\\",\\\"width\\\":1.5},\\\"y\\\":[0.883248,0.96866],\\\"type\\\":\\\"scatter3d\\\",\\\"name\\\":\\\"edge (335,442)\\\",\\\"opacity\\\":0.5,\\\"z\\\":[0.007324,0.115841],\\\"x\\\":[0.468964,0.27424]},{\\\"showlegend\\\":false,\\\"mode\\\":\\\"lines\\\",\\\"line\\\":{\\\"color\\\":\\\"#1f77b4\\\",\\\"width\\\":1.5},\\\"y\\\":[-0.248473,-0.272752],\\\"type\\\":\\\"scatter3d\\\",\\\"name\\\":\\\"edge (349,461)\\\",\\\"opacity\\\":0.5,\\\"z\\\":[-0.095684,-0.08836],\\\"x\\\":[0.973375,0.966149]},{\\\"showlegend\\\":false,\\\"mode\\\":\\\"lines\\\",\\\"line\\\":{\\\"color\\\":\\\"#1f77b4\\\",\\\"width\\\":1.5},\\\"y\\\":[-0.01087,0.324384],\\\"type\\\":\\\"scatter3d\\\",\\\"name\\\":\\\"edge (365,408)\\\",\\\"opacity\\\":0.5,\\\"z\\\":[-0.166921,-0.002173],\\\"x\\\":[1.013971,0.945928]},{\\\"showlegend\\\":false,\\\"mode\\\":\\\"lines\\\",\\\"line\\\":{\\\"color\\\":\\\"#1f77b4\\\",\\\"width\\\":1.5},\\\"y\\\":[0.143664,0.029141],\\\"type\\\":\\\"scatter3d\\\",\\\"name\\\":\\\"edge (367,443)\\\",\\\"opacity\\\":0.5,\\\"z\\\":[-0.619625,-0.686885],\\\"x\\\":[-1.20658,-1.2729]},{\\\"showlegend\\\":false,\\\"mode\\\":\\\"lines\\\",\\\"line\\\":{\\\"color\\\":\\\"#1f77b4\\\",\\\"width\\\":1.5},\\\"y\\\":[0.367766,0.550276],\\\"type\\\":\\\"scatter3d\\\",\\\"name\\\":\\\"edge (396,457)\\\",\\\"opacity\\\":0.5,\\\"z\\\":[0.229021,0.473729],\\\"x\\\":[0.958442,0.974728]},{\\\"showlegend\\\":false,\\\"mode\\\":\\\"lines\\\",\\\"line\\\":{\\\"color\\\":\\\"#1f77b4\\\",\\\"width\\\":1.5},\\\"y\\\":[0.367766,0.511261],\\\"type\\\":\\\"scatter3d\\\",\\\"name\\\":\\\"edge (396,479)\\\",\\\"opacity\\\":0.5,\\\"z\\\":[0.229021,0.178],\\\"x\\\":[0.958442,0.877956]},{\\\"showlegend\\\":false,\\\"mode\\\":\\\"lines\\\",\\\"line\\\":{\\\"color\\\":\\\"#1f77b4\\\",\\\"width\\\":1.5},\\\"y\\\":[0.324384,0.51159],\\\"type\\\":\\\"scatter3d\\\",\\\"name\\\":\\\"edge (408,452)\\\",\\\"opacity\\\":0.5,\\\"z\\\":[-0.002173,-0.047917],\\\"x\\\":[0.945928,0.860566]},{\\\"showlegend\\\":false,\\\"mode\\\":\\\"lines\\\",\\\"line\\\":{\\\"color\\\":\\\"#1f77b4\\\",\\\"width\\\":1.5},\\\"y\\\":[0.889215,0.697179],\\\"type\\\":\\\"scatter3d\\\",\\\"name\\\":\\\"edge (429,441)\\\",\\\"opacity\\\":0.5,\\\"z\\\":[-0.794139,-0.576927],\\\"x\\\":[-1.071306,-0.955989]},{\\\"showlegend\\\":false,\\\"mode\\\":\\\"lines\\\",\\\"line\\\":{\\\"color\\\":\\\"#1f77b4\\\",\\\"width\\\":1.5},\\\"y\\\":[-0.7945,-0.663237],\\\"type\\\":\\\"scatter3d\\\",\\\"name\\\":\\\"edge (448,472)\\\",\\\"opacity\\\":0.5,\\\"z\\\":[-0.129991,-0.113812],\\\"x\\\":[0.621137,0.75707]},{\\\"showlegend\\\":false,\\\"mode\\\":\\\"lines\\\",\\\"line\\\":{\\\"color\\\":\\\"#1f77b4\\\",\\\"width\\\":1.5},\\\"y\\\":[0.51159,0.511261],\\\"type\\\":\\\"scatter3d\\\",\\\"name\\\":\\\"edge (452,479)\\\",\\\"opacity\\\":0.5,\\\"z\\\":[-0.047917,0.178],\\\"x\\\":[0.860566,0.877956]}],{\\\"showlegend\\\":false,\\\"hovermode\\\":\\\"closest\\\",\\\"height\\\":800,\\\"margin\\\":{\\\"l\\\":50,\\\"b\\\":50,\\\"r\\\":50,\\\"t\\\":50},\\\"scene\\\":{\\\"aspectratio\\\":{\\\"y\\\":1.00432056381309,\\\"x\\\":1.0},\\\"aspectmode\\\":\\\"manual\\\"},\\\"width\\\":1000},{}); gd.on(\\\"plotly_hover\\\",(function (data){var filtered_data=WebIO.PlotlyCommands.filterEventData(gd,data,\\\"hover\\\"); return !(filtered_data.isnil) ? (WebIO.setval({\\\"name\\\":\\\"hover\\\",\\\"scope\\\":\\\"5285784211199482531\\\",\\\"id\\\":\\\"15451823757914950055\\\",\\\"type\\\":\\\"observable\\\"},filtered_data.out)) : undefined})); gd.on(\\\"plotly_unhover\\\",(function (){return WebIO.setval({\\\"name\\\":\\\"hover\\\",\\\"scope\\\":\\\"5285784211199482531\\\",\\\"id\\\":\\\"15451823757914950055\\\",\\\"type\\\":\\\"observable\\\"},{})})); gd.on(\\\"plotly_selected\\\",(function (data){var filtered_data=WebIO.PlotlyCommands.filterEventData(gd,data,\\\"selected\\\"); return !(filtered_data.isnil) ? (WebIO.setval({\\\"name\\\":\\\"selected\\\",\\\"scope\\\":\\\"5285784211199482531\\\",\\\"id\\\":\\\"6125437692774335780\\\",\\\"type\\\":\\\"observable\\\"},filtered_data.out)) : undefined})); gd.on(\\\"plotly_deselect\\\",(function (){return WebIO.setval({\\\"name\\\":\\\"selected\\\",\\\"scope\\\":\\\"5285784211199482531\\\",\\\"id\\\":\\\"6125437692774335780\\\",\\\"type\\\":\\\"observable\\\"},{})})); gd.on(\\\"plotly_relayout\\\",(function (data){var filtered_data=WebIO.PlotlyCommands.filterEventData(gd,data,\\\"relayout\\\"); return !(filtered_data.isnil) ? (WebIO.setval({\\\"name\\\":\\\"relayout\\\",\\\"scope\\\":\\\"5285784211199482531\\\",\\\"id\\\":\\\"5201713853313243544\\\",\\\"type\\\":\\\"observable\\\"},filtered_data.out)) : undefined})); return gd.on(\\\"plotly_click\\\",(function (data){var filtered_data=WebIO.PlotlyCommands.filterEventData(gd,data,\\\"click\\\"); return !(filtered_data.isnil) ? (WebIO.setval({\\\"name\\\":\\\"click\\\",\\\"scope\\\":\\\"5285784211199482531\\\",\\\"id\\\":\\\"10325981502674893241\\\",\\\"type\\\":\\\"observable\\\"},filtered_data.out)) : undefined}))}));\\n    (WebIO.importBlock({\\\"data\\\":[{\\\"name\\\":\\\"Plotly\\\",\\\"type\\\":\\\"js\\\",\\\"url\\\":\\\"\\/assetserver\\/0011d14de576c55f77111628d5a39fcc5762f320-plotly.min.js\\\"},{\\\"name\\\":null,\\\"type\\\":\\\"js\\\",\\\"url\\\":\\\"\\/assetserver\\/52365f0a3f606733873c2a55bbe1584aba3b706c-plotly_webio.bundle.js\\\"}],\\\"type\\\":\\\"async_block\\\"})).then((imports) => handler.apply(this, imports));\\n}\\n\"],\"observables\":{\"_toImage\":{\"sync\":false,\"id\":\"11871827406029247282\",\"value\":{}},\"hover\":{\"sync\":false,\"id\":\"15451823757914950055\",\"value\":{}},\"selected\":{\"sync\":false,\"id\":\"6125437692774335780\",\"value\":{}},\"__gd_contents\":{\"sync\":false,\"id\":\"1246458213519265576\",\"value\":{}},\"click\":{\"sync\":false,\"id\":\"10325981502674893241\",\"value\":{}},\"image\":{\"sync\":true,\"id\":\"11305039682168788993\",\"value\":\"\"},\"__get_gd_contents\":{\"sync\":false,\"id\":\"7023121016659032512\",\"value\":\"\"},\"_downloadImage\":{\"sync\":false,\"id\":\"8522773451506343687\",\"value\":{}},\"relayout\":{\"sync\":false,\"id\":\"5201713853313243544\",\"value\":{}},\"_commands\":{\"sync\":false,\"id\":\"8580741899277974317\",\"value\":[]}}},\"children\":[{\"props\":{\"id\":\"plot-71f40a3e-3738-46fd-b6b8-3d73897c6577\"},\"nodeType\":\"DOM\",\"type\":\"node\",\"instanceArgs\":{\"namespace\":\"html\",\"tag\":\"div\"},\"children\":[]}]},\n",
       "        window,\n",
       "    );\n",
       "    })()\n",
       "    </script>\n",
       "</div>\n"
      ],
      "text/plain": [
       "data: [\n",
       "  \"scatter3d with fields autocolorscale, marker, mode, text, type, x, y, and z\",\n",
       "  \"scatter3d with fields autocolorscale, marker, mode, text, type, x, y, and z\",\n",
       "  \"scatter3d with fields line, mode, name, opacity, type, x, y, and z\",\n",
       "  \"scatter3d with fields line, mode, name, opacity, showlegend, type, x, y, and z\",\n",
       "  \"scatter3d with fields line, mode, name, opacity, showlegend, type, x, y, and z\",\n",
       "  \"scatter3d with fields line, mode, name, opacity, showlegend, type, x, y, and z\",\n",
       "  \"scatter3d with fields line, mode, name, opacity, showlegend, type, x, y, and z\",\n",
       "  \"scatter3d with fields line, mode, name, opacity, showlegend, type, x, y, and z\",\n",
       "  \"scatter3d with fields line, mode, name, opacity, showlegend, type, x, y, and z\",\n",
       "  \"scatter3d with fields line, mode, name, opacity, showlegend, type, x, y, and z\",\n",
       "  \"scatter3d with fields line, mode, name, opacity, showlegend, type, x, y, and z\",\n",
       "  \"scatter3d with fields line, mode, name, opacity, showlegend, type, x, y, and z\",\n",
       "  \"scatter3d with fields line, mode, name, opacity, showlegend, type, x, y, and z\",\n",
       "  \"scatter3d with fields line, mode, name, opacity, showlegend, type, x, y, and z\",\n",
       "  \"scatter3d with fields line, mode, name, opacity, showlegend, type, x, y, and z\",\n",
       "  \"scatter3d with fields line, mode, name, opacity, showlegend, type, x, y, and z\",\n",
       "  \"scatter3d with fields line, mode, name, opacity, showlegend, type, x, y, and z\",\n",
       "  \"scatter3d with fields line, mode, name, opacity, showlegend, type, x, y, and z\",\n",
       "  \"scatter3d with fields line, mode, name, opacity, showlegend, type, x, y, and z\",\n",
       "  \"scatter3d with fields line, mode, name, opacity, showlegend, type, x, y, and z\",\n",
       "  \"scatter3d with fields line, mode, name, opacity, showlegend, type, x, y, and z\",\n",
       "  \"scatter3d with fields line, mode, name, opacity, showlegend, type, x, y, and z\",\n",
       "  \"scatter3d with fields line, mode, name, opacity, showlegend, type, x, y, and z\",\n",
       "  \"scatter3d with fields line, mode, name, opacity, showlegend, type, x, y, and z\",\n",
       "  \"scatter3d with fields line, mode, name, opacity, showlegend, type, x, y, and z\",\n",
       "  \"scatter3d with fields line, mode, name, opacity, showlegend, type, x, y, and z\",\n",
       "  \"scatter3d with fields line, mode, name, opacity, showlegend, type, x, y, and z\",\n",
       "  \"scatter3d with fields line, mode, name, opacity, showlegend, type, x, y, and z\",\n",
       "  \"scatter3d with fields line, mode, name, opacity, showlegend, type, x, y, and z\",\n",
       "  \"scatter3d with fields line, mode, name, opacity, showlegend, type, x, y, and z\",\n",
       "  \"scatter3d with fields line, mode, name, opacity, showlegend, type, x, y, and z\",\n",
       "  \"scatter3d with fields line, mode, name, opacity, showlegend, type, x, y, and z\",\n",
       "  \"scatter3d with fields line, mode, name, opacity, showlegend, type, x, y, and z\",\n",
       "  \"scatter3d with fields line, mode, name, opacity, showlegend, type, x, y, and z\",\n",
       "  \"scatter3d with fields line, mode, name, opacity, showlegend, type, x, y, and z\",\n",
       "  \"scatter3d with fields line, mode, name, opacity, showlegend, type, x, y, and z\",\n",
       "  \"scatter3d with fields line, mode, name, opacity, showlegend, type, x, y, and z\",\n",
       "  \"scatter3d with fields line, mode, name, opacity, showlegend, type, x, y, and z\",\n",
       "  \"scatter3d with fields line, mode, name, opacity, showlegend, type, x, y, and z\",\n",
       "  \"scatter3d with fields line, mode, name, opacity, showlegend, type, x, y, and z\",\n",
       "  \"scatter3d with fields line, mode, name, opacity, showlegend, type, x, y, and z\",\n",
       "  \"scatter3d with fields line, mode, name, opacity, showlegend, type, x, y, and z\",\n",
       "  \"scatter3d with fields line, mode, name, opacity, showlegend, type, x, y, and z\",\n",
       "  \"scatter3d with fields line, mode, name, opacity, showlegend, type, x, y, and z\",\n",
       "  \"scatter3d with fields line, mode, name, opacity, showlegend, type, x, y, and z\",\n",
       "  \"scatter3d with fields line, mode, name, opacity, showlegend, type, x, y, and z\",\n",
       "  \"scatter3d with fields line, mode, name, opacity, showlegend, type, x, y, and z\",\n",
       "  \"scatter3d with fields line, mode, name, opacity, showlegend, type, x, y, and z\",\n",
       "  \"scatter3d with fields line, mode, name, opacity, showlegend, type, x, y, and z\",\n",
       "  \"scatter3d with fields line, mode, name, opacity, showlegend, type, x, y, and z\",\n",
       "  \"scatter3d with fields line, mode, name, opacity, showlegend, type, x, y, and z\",\n",
       "  \"scatter3d with fields line, mode, name, opacity, showlegend, type, x, y, and z\",\n",
       "  \"scatter3d with fields line, mode, name, opacity, showlegend, type, x, y, and z\",\n",
       "  \"scatter3d with fields line, mode, name, opacity, showlegend, type, x, y, and z\",\n",
       "  \"scatter3d with fields line, mode, name, opacity, showlegend, type, x, y, and z\",\n",
       "  \"scatter3d with fields line, mode, name, opacity, showlegend, type, x, y, and z\",\n",
       "  \"scatter3d with fields line, mode, name, opacity, showlegend, type, x, y, and z\",\n",
       "  \"scatter3d with fields line, mode, name, opacity, showlegend, type, x, y, and z\",\n",
       "  \"scatter3d with fields line, mode, name, opacity, showlegend, type, x, y, and z\",\n",
       "  \"scatter3d with fields line, mode, name, opacity, showlegend, type, x, y, and z\",\n",
       "  \"scatter3d with fields line, mode, name, opacity, showlegend, type, x, y, and z\",\n",
       "  \"scatter3d with fields line, mode, name, opacity, showlegend, type, x, y, and z\",\n",
       "  \"scatter3d with fields line, mode, name, opacity, showlegend, type, x, y, and z\",\n",
       "  \"scatter3d with fields line, mode, name, opacity, showlegend, type, x, y, and z\",\n",
       "  \"scatter3d with fields line, mode, name, opacity, showlegend, type, x, y, and z\",\n",
       "  \"scatter3d with fields line, mode, name, opacity, showlegend, type, x, y, and z\",\n",
       "  \"scatter3d with fields line, mode, name, opacity, showlegend, type, x, y, and z\",\n",
       "  \"scatter3d with fields line, mode, name, opacity, showlegend, type, x, y, and z\",\n",
       "  \"scatter3d with fields line, mode, name, opacity, showlegend, type, x, y, and z\",\n",
       "  \"scatter3d with fields line, mode, name, opacity, showlegend, type, x, y, and z\",\n",
       "  \"scatter3d with fields line, mode, name, opacity, showlegend, type, x, y, and z\",\n",
       "  \"scatter3d with fields line, mode, name, opacity, showlegend, type, x, y, and z\",\n",
       "  \"scatter3d with fields line, mode, name, opacity, showlegend, type, x, y, and z\",\n",
       "  \"scatter3d with fields line, mode, name, opacity, showlegend, type, x, y, and z\",\n",
       "  \"scatter3d with fields line, mode, name, opacity, showlegend, type, x, y, and z\"\n",
       "]\n",
       "\n",
       "layout: \"layout with fields height, hovermode, margin, scene, showlegend, and width\"\n",
       "\n"
      ]
     },
     "execution_count": 16,
     "metadata": {},
     "output_type": "execute_result"
    }
   ],
   "source": [
    "plotclassrep_pjs(PH,dim=1,class=139)"
   ]
  },
  {
   "cell_type": "code",
   "execution_count": 18,
   "metadata": {},
   "outputs": [
    {
     "data": {
      "text/plain": [
       "142×2 Matrix{Float64}:\n",
       " 0.288171  0.324043\n",
       " 0.299225  0.351282\n",
       " 0.32314   0.415127\n",
       " 0.37042   0.450234\n",
       " 0.391852  0.418744\n",
       " 0.399757  0.411946\n",
       " 0.399889  0.422349\n",
       " 0.40516   0.431866\n",
       " 0.433423  0.452408\n",
       " 0.43832   0.49994\n",
       " 0.442966  0.446306\n",
       " 0.453126  0.464928\n",
       " 0.45348   0.477916\n",
       " ⋮         \n",
       " 0.475432  0.736279\n",
       " 0.484053  0.783388\n",
       " 0.502134  0.856444\n",
       " 0.532801  0.97987\n",
       " 0.538484  0.815369\n",
       " 0.576422  0.901071\n",
       " 0.577972  1.19373\n",
       " 0.610747  1.01541\n",
       " 0.453905  1.74496\n",
       " 0.487758  0.920325\n",
       " 0.555381  1.22355\n",
       " 0.446284  1.73952"
      ]
     },
     "execution_count": 18,
     "metadata": {},
     "output_type": "execute_result"
    }
   ],
   "source": [
    "PD = barcode(PH)"
   ]
  },
  {
   "cell_type": "code",
   "execution_count": 6,
   "metadata": {},
   "outputs": [
    {
     "name": "stdout",
     "output_type": "stream",
     "text": [
      "0.00777945098850058\n"
     ]
    }
   ],
   "source": [
    "# A = [b[2] - b[1] for b in PD if isfinite(b[2])]\n",
    "birth, death = PD[1,1], PD[1,2]\n",
    "println(death - birth)\n"
   ]
  },
  {
   "cell_type": "code",
   "execution_count": 19,
   "metadata": {},
   "outputs": [
    {
     "data": {
      "text/plain": [
       "142-element Vector{Float64}:\n",
       " 0.035871996618188406\n",
       " 0.05205756763587349\n",
       " 0.09198689640972446\n",
       " 0.07981380044722686\n",
       " 0.026892409863993882\n",
       " 0.012189164718735546\n",
       " 0.022460348366394878\n",
       " 0.026705452608958846\n",
       " 0.01898506657840704\n",
       " 0.06161957512151278\n",
       " 0.003339832968808243\n",
       " 0.011801434751835815\n",
       " 0.024436100511542824\n",
       " ⋮\n",
       " 0.26084764536011856\n",
       " 0.2993351670943157\n",
       " 0.3543101356090561\n",
       " 0.4470691500499929\n",
       " 0.2768846693635746\n",
       " 0.3246492779296716\n",
       " 0.6157618960867428\n",
       " 0.4046594281652839\n",
       " 1.2910580289461988\n",
       " 0.4325667459966313\n",
       " 0.6681669733848149\n",
       " 1.2932369176187581"
      ]
     },
     "execution_count": 19,
     "metadata": {},
     "output_type": "execute_result"
    }
   ],
   "source": [
    "# Computing Persistent Lifetimes\n",
    "N = size(PD, 1)\n",
    "# We can't use the ones that are infinite\n",
    "P_lifetimes = [PD[i, 2] - PD[i, 1] for i in 1:N if isfinite(PD[i, 2])]"
   ]
  },
  {
   "cell_type": "code",
   "execution_count": 63,
   "metadata": {},
   "outputs": [],
   "source": [
    "writedlm(\"topological_descriptors.csv\", P_lifetimes, ',')\n",
    "writedlm(\"persistence_diagram.csv\", PD, ',')"
   ]
  },
  {
   "cell_type": "code",
   "execution_count": 20,
   "metadata": {},
   "outputs": [],
   "source": [
    "using Statistics\n",
    "\n",
    "# Compute persistence statistics\n",
    "mean_lifetime = mean(P_lifetimes)      # Mean lifetime\n",
    "std_lifetime = std(P_lifetimes)        # Standard deviation\n",
    "max_lifetime = maximum(P_lifetimes)    # Longest-lived feature\n",
    "sum_lifetime = sum(P_lifetimes)        # Total persistence sum\n",
    "\n",
    "# Store as a feature vector\n",
    "stat_features = [mean_lifetime, std_lifetime, max_lifetime, sum_lifetime]\n",
    "\n",
    "# Save to CSV for ML training\n",
    "writedlm(\"t2_persistence_statistics.csv\", permutedims(stat_features), ',')\n"
   ]
  }
 ],
 "metadata": {
  "kernelspec": {
   "display_name": "Julia 1.6 1.6.0",
   "language": "julia",
   "name": "julia-1.6-1.6"
  },
  "language_info": {
   "file_extension": ".jl",
   "mimetype": "application/julia",
   "name": "julia",
   "version": "1.6.0"
  }
 },
 "nbformat": 4,
 "nbformat_minor": 2
}
