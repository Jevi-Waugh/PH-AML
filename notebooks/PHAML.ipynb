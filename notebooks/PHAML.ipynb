{
 "cells": [
  {
   "cell_type": "code",
   "execution_count": 7,
   "metadata": {},
   "outputs": [],
   "source": [
    "import numpy as np\n",
    "import pandas as pd\n",
    "import persim  # For persistence images\n",
    "from persim import PersistenceImager\n",
    "import matplotlib.pyplot as plt\n",
    "import os"
   ]
  },
  {
   "cell_type": "code",
   "execution_count": 2,
   "metadata": {},
   "outputs": [],
   "source": [
    "import numpy as np\n",
    "import pandas as pd\n",
    "from sklearn.svm import SVC\n",
    "from sklearn.model_selection import train_test_split, GridSearchCV\n",
    "from sklearn.preprocessing import StandardScaler\n",
    "from sklearn.metrics import accuracy_score"
   ]
  },
  {
   "cell_type": "code",
   "execution_count": 35,
   "metadata": {},
   "outputs": [],
   "source": [
    "train = \"C:/Users/jevin/Documents/Documents/Education/Self-Learning/Persistant Homology/PHAML/data/ml_train/train.csv\"\n",
    "labels = \"C:/Users/jevin/Documents/Documents/Education/Self-Learning/Persistant Homology/PHAML/data/ml_train/labels.csv\"\n"
   ]
  },
  {
   "cell_type": "code",
   "execution_count": null,
   "metadata": {},
   "outputs": [
    {
     "data": {
      "text/plain": [
       "array([0.])"
      ]
     },
     "execution_count": 42,
     "metadata": {},
     "output_type": "execute_result"
    }
   ],
   "source": [
    "# Load Persistence Statistics (mean, std, max, sum)\n",
    "X = np.loadtxt(train, delimiter=\",\").reshape(-1, 4)  # Ensure correct shape\n",
    "\n",
    "# Load Labels (Assume we have ground truth labels)\n",
    "Y = np.loadtxt(labels, delimiter=\",\")\n",
    "\n",
    "# Ensure data dimensions match, it should be 4 each\n",
    "assert X.shape[0] == Y.shape[0], \"Mismatch: Number of samples in X and y must be the same\"\n",
    "\n",
    "# Split into Train-Test\n",
    "X_train, X_test, y_train, y_test = train_test_split(X, Y, test_size=0.2, random_state=42)\n",
    "y_test\n",
    "\n",
    "# y test only has 1 zero so it won't learn properly, not suprised that accuracy is 0%\n",
    "\n"
   ]
  },
  {
   "cell_type": "code",
   "execution_count": null,
   "metadata": {},
   "outputs": [
    {
     "name": "stdout",
     "output_type": "stream",
     "text": [
      "SVM Accuracy: 0.0000\n"
     ]
    }
   ],
   "source": [
    "# Normalize Data\n",
    "scaler = StandardScaler()\n",
    "X_train = scaler.fit_transform(X_train)\n",
    "X_test = scaler.transform(X_test)\n",
    "\n",
    "# Train SVM\n",
    "svm_model = SVC(kernel=\"rbf\", C=1.0, gamma=\"scale\")\n",
    "svm_model.fit(X_train, y_train)\n",
    "\n",
    "# Predict & Evaluate\n",
    "y_pred = svm_model.predict(X_test)\n",
    "accuracy = accuracy_score(y_test, y_pred)\n",
    "print(f\"SVM Accuracy: {accuracy:.4f}\")\n",
    "# I figured this would happen as there are not enough data. SCM works best with heaps of data"
   ]
  }
 ],
 "metadata": {
  "kernelspec": {
   "display_name": "Python 3",
   "language": "python",
   "name": "python3"
  },
  "language_info": {
   "codemirror_mode": {
    "name": "ipython",
    "version": 3
   },
   "file_extension": ".py",
   "mimetype": "text/x-python",
   "name": "python",
   "nbconvert_exporter": "python",
   "pygments_lexer": "ipython3",
   "version": "3.12.2"
  }
 },
 "nbformat": 4,
 "nbformat_minor": 2
}
